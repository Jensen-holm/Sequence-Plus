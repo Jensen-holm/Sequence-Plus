{
 "cells": [
  {
   "cell_type": "code",
   "execution_count": 1,
   "metadata": {},
   "outputs": [],
   "source": [
    "import statcast_pitches\n",
    "import polars as pl"
   ]
  },
  {
   "cell_type": "code",
   "execution_count": 2,
   "metadata": {},
   "outputs": [
    {
     "data": {
      "text/html": [
       "<div><style>\n",
       ".dataframe > thead > tr,\n",
       ".dataframe > tbody > tr {\n",
       "  text-align: right;\n",
       "  white-space: pre-wrap;\n",
       "}\n",
       "</style>\n",
       "<small>shape: (5, 94)</small><table border=\"1\" class=\"dataframe\"><thead><tr><th>pitch_type</th><th>game_date</th><th>release_speed</th><th>release_pos_x</th><th>release_pos_z</th><th>player_name</th><th>batter</th><th>pitcher</th><th>events</th><th>description</th><th>spin_dir</th><th>spin_rate_deprecated</th><th>break_angle_deprecated</th><th>break_length_deprecated</th><th>zone</th><th>des</th><th>game_type</th><th>stand</th><th>p_throws</th><th>home_team</th><th>away_team</th><th>type</th><th>hit_location</th><th>bb_type</th><th>balls</th><th>strikes</th><th>game_year</th><th>pfx_x</th><th>pfx_z</th><th>plate_x</th><th>plate_z</th><th>on_3b</th><th>on_2b</th><th>on_1b</th><th>outs_when_up</th><th>inning</th><th>inning_topbot</th><th>&hellip;</th><th>release_extension</th><th>game_pk</th><th>pitcher.1</th><th>fielder_2.1</th><th>fielder_3</th><th>fielder_4</th><th>fielder_5</th><th>fielder_6</th><th>fielder_7</th><th>fielder_8</th><th>fielder_9</th><th>release_pos_y</th><th>estimated_ba_using_speedangle</th><th>estimated_woba_using_speedangle</th><th>woba_value</th><th>woba_denom</th><th>babip_value</th><th>iso_value</th><th>launch_speed_angle</th><th>at_bat_number</th><th>pitch_number</th><th>pitch_name</th><th>home_score</th><th>away_score</th><th>bat_score</th><th>fld_score</th><th>post_away_score</th><th>post_home_score</th><th>post_bat_score</th><th>post_fld_score</th><th>if_fielding_alignment</th><th>of_fielding_alignment</th><th>spin_axis</th><th>delta_home_win_exp</th><th>delta_run_exp</th><th>bat_speed</th><th>swing_length</th></tr><tr><td>str</td><td>datetime[μs]</td><td>f64</td><td>f64</td><td>f64</td><td>str</td><td>i64</td><td>i64</td><td>str</td><td>str</td><td>i64</td><td>i64</td><td>i64</td><td>i64</td><td>i64</td><td>str</td><td>str</td><td>str</td><td>str</td><td>str</td><td>str</td><td>str</td><td>f64</td><td>str</td><td>i64</td><td>i64</td><td>i64</td><td>f64</td><td>f64</td><td>f64</td><td>f64</td><td>i64</td><td>i64</td><td>i64</td><td>i64</td><td>f64</td><td>str</td><td>&hellip;</td><td>f64</td><td>i64</td><td>i64</td><td>i64</td><td>i64</td><td>i64</td><td>i64</td><td>i64</td><td>i64</td><td>i64</td><td>i64</td><td>f64</td><td>f64</td><td>f64</td><td>f64</td><td>f64</td><td>f64</td><td>f64</td><td>f64</td><td>i64</td><td>i64</td><td>str</td><td>i64</td><td>i64</td><td>i64</td><td>i64</td><td>i64</td><td>i64</td><td>i64</td><td>i64</td><td>str</td><td>str</td><td>i64</td><td>f64</td><td>f64</td><td>f64</td><td>f64</td></tr></thead><tbody><tr><td>&quot;SI&quot;</td><td>2024-10-20 00:00:00</td><td>95.2</td><td>-2.94</td><td>5.99</td><td>&quot;Treinen, Blake&quot;</td><td>682626</td><td>595014</td><td>&quot;field_out&quot;</td><td>&quot;hit_into_play&quot;</td><td>null</td><td>null</td><td>null</td><td>null</td><td>4</td><td>&quot;Francisco Alvarez grounds out,…</td><td>&quot;L&quot;</td><td>&quot;R&quot;</td><td>&quot;R&quot;</td><td>&quot;LAD&quot;</td><td>&quot;NYM&quot;</td><td>&quot;X&quot;</td><td>4.0</td><td>&quot;ground_ball&quot;</td><td>0</td><td>0</td><td>2024</td><td>-1.36</td><td>0.22</td><td>-0.36</td><td>2.43</td><td>null</td><td>null</td><td>643446</td><td>2</td><td>9.0</td><td>&quot;Top&quot;</td><td>&hellip;</td><td>5.5</td><td>775302</td><td>595014</td><td>669257</td><td>571970</td><td>621035</td><td>571771</td><td>669242</td><td>606192</td><td>595281</td><td>605141</td><td>55.05</td><td>0.131</td><td>0.111</td><td>0.0</td><td>1.0</td><td>0.0</td><td>0.0</td><td>2.0</td><td>88</td><td>1</td><td>&quot;Sinker&quot;</td><td>10</td><td>5</td><td>5</td><td>10</td><td>5</td><td>10</td><td>5</td><td>10</td><td>&quot;Standard&quot;</td><td>&quot;Standard&quot;</td><td>239</td><td>0.001</td><td>-0.228</td><td>null</td><td>null</td></tr><tr><td>&quot;ST&quot;</td><td>2024-10-20 00:00:00</td><td>84.2</td><td>-3.1</td><td>6.01</td><td>&quot;Treinen, Blake&quot;</td><td>643446</td><td>595014</td><td>&quot;single&quot;</td><td>&quot;hit_into_play&quot;</td><td>null</td><td>null</td><td>null</td><td>null</td><td>6</td><td>&quot;Jeff McNeil singles on a line …</td><td>&quot;L&quot;</td><td>&quot;L&quot;</td><td>&quot;R&quot;</td><td>&quot;LAD&quot;</td><td>&quot;NYM&quot;</td><td>&quot;X&quot;</td><td>4.0</td><td>&quot;line_drive&quot;</td><td>0</td><td>1</td><td>2024</td><td>1.52</td><td>-0.23</td><td>0.46</td><td>2.4</td><td>null</td><td>621438</td><td>null</td><td>2</td><td>9.0</td><td>&quot;Top&quot;</td><td>&hellip;</td><td>5.4</td><td>775302</td><td>595014</td><td>669257</td><td>571970</td><td>621035</td><td>571771</td><td>669242</td><td>606192</td><td>595281</td><td>605141</td><td>55.14</td><td>0.889</td><td>0.821</td><td>0.9</td><td>1.0</td><td>1.0</td><td>0.0</td><td>4.0</td><td>87</td><td>2</td><td>&quot;Sweeper&quot;</td><td>10</td><td>4</td><td>4</td><td>10</td><td>5</td><td>10</td><td>5</td><td>10</td><td>&quot;Infield shade&quot;</td><td>&quot;Standard&quot;</td><td>49</td><td>-0.001</td><td>0.791</td><td>73.6171</td><td>6.92448</td></tr><tr><td>&quot;SI&quot;</td><td>2024-10-20 00:00:00</td><td>96.9</td><td>-3.04</td><td>5.9</td><td>&quot;Treinen, Blake&quot;</td><td>643446</td><td>595014</td><td>null</td><td>&quot;called_strike&quot;</td><td>null</td><td>null</td><td>null</td><td>null</td><td>1</td><td>&quot;Jeff McNeil singles on a line …</td><td>&quot;L&quot;</td><td>&quot;L&quot;</td><td>&quot;R&quot;</td><td>&quot;LAD&quot;</td><td>&quot;NYM&quot;</td><td>&quot;S&quot;</td><td>null</td><td>null</td><td>0</td><td>0</td><td>2024</td><td>-1.29</td><td>0.18</td><td>-0.49</td><td>3.23</td><td>null</td><td>null</td><td>621438</td><td>2</td><td>9.0</td><td>&quot;Top&quot;</td><td>&hellip;</td><td>5.6</td><td>775302</td><td>595014</td><td>669257</td><td>571970</td><td>621035</td><td>571771</td><td>669242</td><td>606192</td><td>595281</td><td>605141</td><td>54.93</td><td>null</td><td>null</td><td>null</td><td>null</td><td>null</td><td>null</td><td>null</td><td>87</td><td>1</td><td>&quot;Sinker&quot;</td><td>10</td><td>4</td><td>4</td><td>10</td><td>4</td><td>10</td><td>4</td><td>10</td><td>&quot;Infield shade&quot;</td><td>&quot;Standard&quot;</td><td>239</td><td>0.0</td><td>-0.039</td><td>null</td><td>null</td></tr><tr><td>&quot;ST&quot;</td><td>2024-10-20 00:00:00</td><td>86.7</td><td>-3.01</td><td>5.94</td><td>&quot;Treinen, Blake&quot;</td><td>621438</td><td>595014</td><td>&quot;single&quot;</td><td>&quot;hit_into_play&quot;</td><td>null</td><td>null</td><td>null</td><td>null</td><td>14</td><td>&quot;Tyrone Taylor singles on a sof…</td><td>&quot;L&quot;</td><td>&quot;R&quot;</td><td>&quot;R&quot;</td><td>&quot;LAD&quot;</td><td>&quot;NYM&quot;</td><td>&quot;X&quot;</td><td>8.0</td><td>&quot;line_drive&quot;</td><td>1</td><td>2</td><td>2024</td><td>1.32</td><td>-0.13</td><td>1.17</td><td>1.61</td><td>null</td><td>null</td><td>null</td><td>2</td><td>9.0</td><td>&quot;Top&quot;</td><td>&hellip;</td><td>5.3</td><td>775302</td><td>595014</td><td>669257</td><td>571970</td><td>621035</td><td>571771</td><td>669242</td><td>606192</td><td>595281</td><td>605141</td><td>55.16</td><td>0.974</td><td>0.884</td><td>0.9</td><td>1.0</td><td>1.0</td><td>0.0</td><td>4.0</td><td>86</td><td>4</td><td>&quot;Sweeper&quot;</td><td>10</td><td>4</td><td>4</td><td>10</td><td>4</td><td>10</td><td>4</td><td>10</td><td>&quot;Standard&quot;</td><td>&quot;Standard&quot;</td><td>41</td><td>0.0</td><td>0.157</td><td>58.63812</td><td>7.56904</td></tr><tr><td>&quot;ST&quot;</td><td>2024-10-20 00:00:00</td><td>84.8</td><td>-3.07</td><td>5.98</td><td>&quot;Treinen, Blake&quot;</td><td>621438</td><td>595014</td><td>null</td><td>&quot;called_strike&quot;</td><td>null</td><td>null</td><td>null</td><td>null</td><td>8</td><td>&quot;Tyrone Taylor singles on a sof…</td><td>&quot;L&quot;</td><td>&quot;R&quot;</td><td>&quot;R&quot;</td><td>&quot;LAD&quot;</td><td>&quot;NYM&quot;</td><td>&quot;S&quot;</td><td>null</td><td>null</td><td>1</td><td>1</td><td>2024</td><td>1.52</td><td>-0.13</td><td>0.27</td><td>1.88</td><td>null</td><td>null</td><td>null</td><td>2</td><td>9.0</td><td>&quot;Top&quot;</td><td>&hellip;</td><td>5.3</td><td>775302</td><td>595014</td><td>669257</td><td>571970</td><td>621035</td><td>571771</td><td>669242</td><td>606192</td><td>595281</td><td>605141</td><td>55.19</td><td>null</td><td>null</td><td>null</td><td>null</td><td>null</td><td>null</td><td>null</td><td>86</td><td>3</td><td>&quot;Sweeper&quot;</td><td>10</td><td>4</td><td>4</td><td>10</td><td>4</td><td>10</td><td>4</td><td>10</td><td>&quot;Standard&quot;</td><td>&quot;Standard&quot;</td><td>44</td><td>0.0</td><td>-0.025</td><td>null</td><td>null</td></tr></tbody></table></div>"
      ],
      "text/plain": [
       "shape: (5, 94)\n",
       "┌───────────┬───────────┬───────────┬───────────┬───┬───────────┬───────────┬───────────┬──────────┐\n",
       "│ pitch_typ ┆ game_date ┆ release_s ┆ release_p ┆ … ┆ delta_hom ┆ delta_run ┆ bat_speed ┆ swing_le │\n",
       "│ e         ┆ ---       ┆ peed      ┆ os_x      ┆   ┆ e_win_exp ┆ _exp      ┆ ---       ┆ ngth     │\n",
       "│ ---       ┆ datetime[ ┆ ---       ┆ ---       ┆   ┆ ---       ┆ ---       ┆ f64       ┆ ---      │\n",
       "│ str       ┆ μs]       ┆ f64       ┆ f64       ┆   ┆ f64       ┆ f64       ┆           ┆ f64      │\n",
       "╞═══════════╪═══════════╪═══════════╪═══════════╪═══╪═══════════╪═══════════╪═══════════╪══════════╡\n",
       "│ SI        ┆ 2024-10-2 ┆ 95.2      ┆ -2.94     ┆ … ┆ 0.001     ┆ -0.228    ┆ null      ┆ null     │\n",
       "│           ┆ 0         ┆           ┆           ┆   ┆           ┆           ┆           ┆          │\n",
       "│           ┆ 00:00:00  ┆           ┆           ┆   ┆           ┆           ┆           ┆          │\n",
       "│ ST        ┆ 2024-10-2 ┆ 84.2      ┆ -3.1      ┆ … ┆ -0.001    ┆ 0.791     ┆ 73.6171   ┆ 6.92448  │\n",
       "│           ┆ 0         ┆           ┆           ┆   ┆           ┆           ┆           ┆          │\n",
       "│           ┆ 00:00:00  ┆           ┆           ┆   ┆           ┆           ┆           ┆          │\n",
       "│ SI        ┆ 2024-10-2 ┆ 96.9      ┆ -3.04     ┆ … ┆ 0.0       ┆ -0.039    ┆ null      ┆ null     │\n",
       "│           ┆ 0         ┆           ┆           ┆   ┆           ┆           ┆           ┆          │\n",
       "│           ┆ 00:00:00  ┆           ┆           ┆   ┆           ┆           ┆           ┆          │\n",
       "│ ST        ┆ 2024-10-2 ┆ 86.7      ┆ -3.01     ┆ … ┆ 0.0       ┆ 0.157     ┆ 58.63812  ┆ 7.56904  │\n",
       "│           ┆ 0         ┆           ┆           ┆   ┆           ┆           ┆           ┆          │\n",
       "│           ┆ 00:00:00  ┆           ┆           ┆   ┆           ┆           ┆           ┆          │\n",
       "│ ST        ┆ 2024-10-2 ┆ 84.8      ┆ -3.07     ┆ … ┆ 0.0       ┆ -0.025    ┆ null      ┆ null     │\n",
       "│           ┆ 0         ┆           ┆           ┆   ┆           ┆           ┆           ┆          │\n",
       "│           ┆ 00:00:00  ┆           ┆           ┆   ┆           ┆           ┆           ┆          │\n",
       "└───────────┴───────────┴───────────┴───────────┴───┴───────────┴───────────┴───────────┴──────────┘"
      ]
     },
     "execution_count": 2,
     "metadata": {},
     "output_type": "execute_result"
    }
   ],
   "source": [
    "pitches_df: pl.DataFrame = (statcast_pitches.load()\n",
    "                            .filter(pl.col(\"game_date\").dt.year() == 2024)\n",
    "                            .collect())\n",
    "\n",
    "pitches_df.head()"
   ]
  },
  {
   "cell_type": "code",
   "execution_count": null,
   "metadata": {},
   "outputs": [],
   "source": [
    "\n"
   ]
  }
 ],
 "metadata": {
  "kernelspec": {
   "display_name": "venv",
   "language": "python",
   "name": "python3"
  },
  "language_info": {
   "codemirror_mode": {
    "name": "ipython",
    "version": 3
   },
   "file_extension": ".py",
   "mimetype": "text/x-python",
   "name": "python",
   "nbconvert_exporter": "python",
   "pygments_lexer": "ipython3",
   "version": "3.12.6"
  }
 },
 "nbformat": 4,
 "nbformat_minor": 2
}
