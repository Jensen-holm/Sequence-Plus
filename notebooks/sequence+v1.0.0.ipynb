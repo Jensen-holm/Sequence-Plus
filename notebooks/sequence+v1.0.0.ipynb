{
 "cells": [
  {
   "cell_type": "markdown",
   "metadata": {
    "id": "IhyQM2zcCA_0"
   },
   "source": [
    "# Sequence+v1.0\n",
    "\n",
    "**Goal**: Build a model that can predict the total run value for any given *two* pitch sequence<br>\n",
    "**Author**: Jensen Holm <br>\n",
    "**Date**: October / November 2024"
   ]
  },
  {
   "cell_type": "code",
   "execution_count": 30,
   "metadata": {
    "colab": {
     "base_uri": "https://localhost:8080/"
    },
    "id": "dd-JEg8_CA_2",
    "outputId": "e674ab36-f753-45ff-cb81-cf323c0ae9d9"
   },
   "outputs": [],
   "source": [
    "import statcast_pitches\n",
    "import plotly.express as px\n",
    "from plotnine import *\n",
    "import polars as pl\n",
    "import polars.selectors as cs\n",
    "import numpy as np\n",
    "import os\n",
    "from sklearn.model_selection import train_test_split\n",
    "from sklearn.pipeline import Pipeline\n",
    "from sklearn.preprocessing import RobustScaler\n",
    "from lightgbm import LGBMRegressor\n",
    "from sklearn.feature_selection import RFECV\n",
    "import optuna\n",
    "import joblib\n",
    "import pybaseball\n",
    "\n",
    "DATA_DIR = os.path.join(\"..\", \"data\")"
   ]
  },
  {
   "cell_type": "markdown",
   "metadata": {
    "id": "1OchF0j5CA_2"
   },
   "source": [
    "## Loading Data\n",
    "\n",
    "Using all pitches thrown in the statcast-era (2015-present) as our data for this model. <br>\n",
    "I will also be using `../data/run_values.csv` for calculating run values of each pitch, this data represents 2024 only.\n",
    "\n",
    "**Data Dictionary**: [link](https://baseballsavant.mlb.com/csv-docs) <br>\n",
    "**statcast_pitches package info**: [link](https://github.com/Jensen-holm/statcast-era-pitches)"
   ]
  },
  {
   "cell_type": "code",
   "execution_count": 2,
   "metadata": {
    "colab": {
     "base_uri": "https://localhost:8080/"
    },
    "id": "tuo74Jy-CA_2",
    "outputId": "9e94a64f-383f-44e8-ce91-571aa1e5ce8f"
   },
   "outputs": [
    {
     "name": "stdout",
     "output_type": "stream",
     "text": [
      "N Pitches: 3,349,317\n",
      "Date Range: 2020-07-23 - 2024-10-30\n"
     ]
    }
   ],
   "source": [
    "# use statcast pitches to get all pitches thrown in since hawkeye began\n",
    "pitches_lf: pl.LazyFrame = (statcast_pitches.load()\n",
    "                            .filter(pl.col(\"game_date\").dt.year().is_in([2020, 2021, 2022, 2023, 2024])))\n",
    "\n",
    "latest_date = pitches_lf.select(\"game_date\").max().collect().item().date()\n",
    "earliest_date = pitches_lf.select(\"game_date\").min().collect().item().date()\n",
    "n_pitches = pitches_lf.select(pl.len()).collect().item()\n",
    "\n",
    "run_values_24_lf = pl.scan_csv(\n",
    "    os.path.join(DATA_DIR, \"run_values.csv\"),\n",
    ")\n",
    "\n",
    "print(f\"N Pitches: {n_pitches:,}\")\n",
    "print(f\"Date Range: {earliest_date} - {latest_date}\")"
   ]
  },
  {
   "cell_type": "markdown",
   "metadata": {
    "id": "fgooM30WCA_3"
   },
   "source": [
    "# Feature Engineering\n",
    "\n",
    "adding the following features to `pitches_df`\n",
    "\n",
    "| Feature Name | Description |\n",
    "|------|-------------|\n",
    "| **delta_run_exp** | run value associated with the pitch outcome from `run_values_24`|\n",
    "| **x_0.120** | position in the x dimension of the pitch at decision time (~0.12s) |\n",
    "| **y_0.120** | position in the y dimension of the pitch at decision time (~0.12s) |\n",
    "| **z_0.120** | position in the z dimension of the pitch at decision time (~0.12s) |\n",
    "| **x_0.167** | position in the x dimension of the pitch at commit time (~0.167s) |\n",
    "| **y_0.167** | position in the y dimension of the pitch at commit time (~0.167s) |\n",
    "| **z_0.167** | position in the z dimension of the pitch at commit time (~0.167s) |\n",
    "| **velocity_diff** | difference in velocity between pitches in a two pitch sequence |\n",
    "| **effective_velocity_diff** | difference in effective velocity between pitches in a two pitch sequence |\n",
    "| **pfx_x_diff** | difference in horizontal movement between pitches in a two pitch sequence |\n",
    "| **pfx_z_diff** | difference in vertical movement between pitches in a two pitch sequence |\n",
    "| **3d_dist_0.167** | 3D euclidean distance between pitches in a two pitch sequence 0.167 seconds after release |\n",
    "| **3d_dist_0.120** | 3D distance between pitches in a two pitch sequence at 0.120 seconds after release |\n",
    "| **distance** | 2D euclidean distance between pitch locations when crossing the plate in a two pitch sequence |\n",
    "| **seq_delta_run_exp** | sum of `delta_run_exp` in a two pitch sequence |\n",
    "| **plate_x_diff** | difference in plate_x between pitches in a two pitch sequence |\n",
    "| **plate_z_diff** | difference in plate_z between pitches in a two pitch sequence |\n",
    "\n",
    "On top of adding these features, attributes from LHP should be mirrored as if they were thrown by a RHP for consistency"
   ]
  },
  {
   "cell_type": "markdown",
   "metadata": {
    "id": "_Kua2vl3CA_3"
   },
   "source": [
    "## Expected Run Value\n",
    "\n",
    "Joining the expected runs from run_values_24 to the pitches dataframe so that each pitch has an associated run value.\n",
    "\n",
    "**New Features**\n",
    "\n",
    "- `delta_run_exp`"
   ]
  },
  {
   "cell_type": "code",
   "execution_count": 3,
   "metadata": {},
   "outputs": [
    {
     "data": {
      "text/html": [
       "<div><style>\n",
       ".dataframe > thead > tr,\n",
       ".dataframe > tbody > tr {\n",
       "  text-align: right;\n",
       "  white-space: pre-wrap;\n",
       "}\n",
       "</style>\n",
       "<small>shape: (9, 6)</small><table border=\"1\" class=\"dataframe\"><thead><tr><th>statistic</th><th>pitch_type</th><th>description</th><th>balls</th><th>strikes</th><th>delta_run_exp</th></tr><tr><td>str</td><td>str</td><td>str</td><td>f64</td><td>f64</td><td>f64</td></tr></thead><tbody><tr><td>&quot;count&quot;</td><td>&quot;3275273&quot;</td><td>&quot;3349317&quot;</td><td>3.349317e6</td><td>3.349317e6</td><td>3.349317e6</td></tr><tr><td>&quot;null_count&quot;</td><td>&quot;74044&quot;</td><td>&quot;0&quot;</td><td>0.0</td><td>0.0</td><td>0.0</td></tr><tr><td>&quot;mean&quot;</td><td>null</td><td>null</td><td>0.869556</td><td>0.891261</td><td>0.000012</td></tr><tr><td>&quot;std&quot;</td><td>null</td><td>null</td><td>0.967163</td><td>0.828939</td><td>0.236284</td></tr><tr><td>&quot;min&quot;</td><td>&quot;CH&quot;</td><td>&quot;ball&quot;</td><td>0.0</td><td>0.0</td><td>-1.537</td></tr><tr><td>&quot;25%&quot;</td><td>null</td><td>null</td><td>0.0</td><td>0.0</td><td>-0.063</td></tr><tr><td>&quot;50%&quot;</td><td>null</td><td>null</td><td>1.0</td><td>1.0</td><td>0.0</td></tr><tr><td>&quot;75%&quot;</td><td>null</td><td>null</td><td>1.0</td><td>2.0</td><td>0.034</td></tr><tr><td>&quot;max&quot;</td><td>&quot;SV&quot;</td><td>&quot;swinging_strike_blocked&quot;</td><td>4.0</td><td>3.0</td><td>3.65</td></tr></tbody></table></div>"
      ],
      "text/plain": [
       "shape: (9, 6)\n",
       "┌────────────┬────────────┬─────────────────────────┬────────────┬────────────┬───────────────┐\n",
       "│ statistic  ┆ pitch_type ┆ description             ┆ balls      ┆ strikes    ┆ delta_run_exp │\n",
       "│ ---        ┆ ---        ┆ ---                     ┆ ---        ┆ ---        ┆ ---           │\n",
       "│ str        ┆ str        ┆ str                     ┆ f64        ┆ f64        ┆ f64           │\n",
       "╞════════════╪════════════╪═════════════════════════╪════════════╪════════════╪═══════════════╡\n",
       "│ count      ┆ 3275273    ┆ 3349317                 ┆ 3.349317e6 ┆ 3.349317e6 ┆ 3.349317e6    │\n",
       "│ null_count ┆ 74044      ┆ 0                       ┆ 0.0        ┆ 0.0        ┆ 0.0           │\n",
       "│ mean       ┆ null       ┆ null                    ┆ 0.869556   ┆ 0.891261   ┆ 0.000012      │\n",
       "│ std        ┆ null       ┆ null                    ┆ 0.967163   ┆ 0.828939   ┆ 0.236284      │\n",
       "│ min        ┆ CH         ┆ ball                    ┆ 0.0        ┆ 0.0        ┆ -1.537        │\n",
       "│ 25%        ┆ null       ┆ null                    ┆ 0.0        ┆ 0.0        ┆ -0.063        │\n",
       "│ 50%        ┆ null       ┆ null                    ┆ 1.0        ┆ 1.0        ┆ 0.0           │\n",
       "│ 75%        ┆ null       ┆ null                    ┆ 1.0        ┆ 2.0        ┆ 0.034         │\n",
       "│ max        ┆ SV         ┆ swinging_strike_blocked ┆ 4.0        ┆ 3.0        ┆ 3.65          │\n",
       "└────────────┴────────────┴─────────────────────────┴────────────┴────────────┴───────────────┘"
      ]
     },
     "execution_count": 3,
     "metadata": {},
     "output_type": "execute_result"
    }
   ],
   "source": [
    "def _standardize_events(lf: pl.LazyFrame) -> pl.LazyFrame:\n",
    "    \"\"\"Standardizes events to run_values.csv format\"\"\"\n",
    "    event_mapping = {\n",
    "        \"single\": \"single\",\n",
    "        \"double\": \"double\",\n",
    "        \"triple\": \"triple\",\n",
    "        \"home_run\": \"home_run\",\n",
    "        \"field_out\": \"field_out\",\n",
    "        \"strikeout\": \"strikeout\",\n",
    "        \"walk\": \"walk\",\n",
    "        \"hit_by_pitch\": \"hit_by_pitch\"\n",
    "    }\n",
    "\n",
    "    description_mapping = {\n",
    "        \"called_strike\": \"called_strike\",\n",
    "        \"swinging_strike\": \"swinging_strike\",\n",
    "        \"ball\": \"ball\",\n",
    "        \"foul\": \"foul\",\n",
    "        \"hit_by_pitch\": \"hit_by_pitch\"\n",
    "    }\n",
    "    return lf.with_columns([\n",
    "        # First try to map the event\n",
    "        pl.when(pl.col(\"events\").is_in(event_mapping.keys()))\n",
    "        .then(pl.col(\"events\"))\n",
    "        # If no event match, try to map the description\n",
    "        .otherwise(\n",
    "            pl.when(pl.col(\"description\").is_in(description_mapping.keys()))\n",
    "            .then(pl.col(\"description\"))\n",
    "            # If neither matches, mark as null\n",
    "            .otherwise(None)\n",
    "        ).alias(\"standardized_event\")\n",
    "    ])\n",
    "\n",
    "def add_pitch_run_value(pitches_lf: pl.LazyFrame, run_values_lf: pl.LazyFrame) -> pl.LazyFrame:\n",
    "\n",
    "    def join_run_values(df: pl.LazyFrame) -> pl.LazyFrame:\n",
    "        return (df\n",
    "                .join(\n",
    "                    other=run_values_lf,\n",
    "                    left_on=[\"standardized_event\", \"balls\", \"strikes\"],\n",
    "                    right_on=[\"event\", \"balls\", \"strikes\"],\n",
    "                    how=\"left\",\n",
    "                )\n",
    "                # Handle missing run values\n",
    "                .with_columns([\n",
    "                    pl.when(pl.col(\"delta_run_exp\").is_null())\n",
    "                    .then(0.0)  # Default to 0 run value for unknown events\n",
    "                    .otherwise(pl.col(\"delta_run_exp\"))\n",
    "                    .alias(\"delta_run_exp\")\n",
    "                ]))\n",
    "\n",
    "    return (pitches_lf\n",
    "            .pipe(_standardize_events)\n",
    "            .pipe(join_run_values))\n",
    "\n",
    "\n",
    "pitches_xRV_lf = (pitches_lf\n",
    "                  .pipe(add_pitch_run_value, run_values_24_lf))\n",
    "\n",
    "(pitches_xRV_lf\n",
    "    .select(\n",
    "        \"pitch_type\",\n",
    "        \"description\",\n",
    "        \"balls\",\n",
    "        \"strikes\",\n",
    "        \"delta_run_exp\",\n",
    "    )\n",
    "    .describe())"
   ]
  },
  {
   "cell_type": "code",
   "execution_count": 4,
   "metadata": {},
   "outputs": [
    {
     "data": {
      "image/png": "[encoded data removed]"
     },
     "metadata": {
      "image/png": {
       "height": 480,
       "width": 640
      }
     },
     "output_type": "display_data"
    }
   ],
   "source": [
    "rv_dist = (\n",
    "    ggplot(\n",
    "        pitches_xRV_lf.select(\"delta_run_exp\", \"pitch_type\")\n",
    "        .filter(pl.col(\"pitch_type\").is_in([\"FF\", \"FS\", \"ST\", \"KC\", \"CH\", \"SL\"]))\n",
    "        .collect()\n",
    "        .sample(n=10000),\n",
    "        aes(x=\"pitch_type\", y=\"delta_run_exp\", fill=\"pitch_type\")\n",
    "    )\n",
    "    + geom_violin()\n",
    "    + labs(\n",
    "        title=\"Delta xRV Distribution\",\n",
    "        x=\"Pitch Type\",\n",
    "        y=\"Delta xRV\",\n",
    "        fill=\"Pitch Type\",\n",
    "    )\n",
    ")\n",
    "\n",
    "rv_dist.show()"
   ]
  },
  {
   "cell_type": "markdown",
   "metadata": {
    "id": "4MsyUTqeCA_3"
   },
   "source": [
    "In order to keep it simple, I am mirroring the movement and the horizontal release position of each pitch thrown from LHP, to as if it were thrown by RHP."
   ]
  },
  {
   "cell_type": "code",
   "execution_count": 5,
   "metadata": {
    "colab": {
     "base_uri": "https://localhost:8080/",
     "height": 497
    },
    "id": "Kz5wYZ66CA_3",
    "outputId": "3348e121-6a41-4e0f-b9a3-65c8a8f32d5c"
   },
   "outputs": [
    {
     "data": {
      "image/png": "[encoded data removed]"
     },
     "metadata": {
      "image/png": {
       "height": 480,
       "width": 640
      }
     },
     "output_type": "display_data"
    }
   ],
   "source": [
    "def mirror_lhp_to_rhp(lf: pl.LazyFrame) -> pl.LazyFrame:\n",
    "    return lf.with_columns(\n",
    "        # mirror LHP horizontal movement\n",
    "        pl.when(pl.col(\"p_throws\") == \"L\")\n",
    "        .then(-pl.col(\"pfx_x\"))\n",
    "        .otherwise(pl.col(\"pfx_x\")),\n",
    "\n",
    "        # also mirror the horizontal release point\n",
    "        # (release_pos_x is from catcher perspective)\n",
    "        pl.when(pl.col(\"p_throws\") == \"L\")\n",
    "        .then(-pl.col(\"release_pos_x\"))\n",
    "        .otherwise(pl.col(\"release_pos_x\")),\n",
    "    )\n",
    "\n",
    "mirrored_pitches_lf = pitches_xRV_lf.pipe(mirror_lhp_to_rhp)\n",
    "\n",
    "# for verification\n",
    "movement_plt = (\n",
    "    ggplot(\n",
    "        mirrored_pitches_lf\n",
    "        .filter(pl.col(\"pitch_type\").is_in([\"FF\", \"KC\", \"SL\", \"CH\"]))\n",
    "        .group_by(\"pitch_type\", \"p_throws\")\n",
    "        .agg(\n",
    "            pl.col(\"pfx_x\").median().alias(\"median_pfx_x\"),\n",
    "            pl.col(\"pfx_z\").median().alias(\"median_pfx_z\"),\n",
    "        ).collect(),\n",
    "        aes(x=\"median_pfx_x\", y=\"median_pfx_z\", color=\"pitch_type\", shape=\"p_throws\"))\n",
    "    + geom_point()\n",
    "    + geom_vline(xintercept=0)\n",
    "    + geom_hline(yintercept=0)\n",
    "    + labs(\n",
    "        title=\"Mirrored LHP Movement Verification\",\n",
    "        x=\"median Horizontal Movement (ft.)\",\n",
    "        y=\"median Vertical Movement (ft.)\",\n",
    "        shape=\"Pitcher Hand\",\n",
    "        subtitle=\"Colors represent pitch_type\",\n",
    "    )\n",
    ")\n",
    "\n",
    "movement_plt.show()"
   ]
  },
  {
   "cell_type": "markdown",
   "metadata": {
    "id": "CCzg9FpHCA_3"
   },
   "source": [
    "Horizontal movement profiles are mirrored now!"
   ]
  },
  {
   "cell_type": "markdown",
   "metadata": {
    "id": "6-ajJ2-HCA_3"
   },
   "source": [
    "## 3D Pitch Location Estimation\n",
    "\n",
    "Now to add ball positions in 3D space at both [decision time]() (0.12s) & [commit time]() (0.167s)\n",
    "\n",
    "### Step 1: Time to 50ft. from home plate\n",
    "\n",
    "Estimate the time it took the baseball to travel from release point to 50ft from home plate (the point where we have measurements for a &v in x, y, z dimensions)\n",
    "\n",
    "$t_{50} = \\frac{(60 + 6/12) - 50 - extension}{vft * 1.05}$\n",
    "\n",
    "Where ...\n",
    "- $extension = $ distance from the rubber where the pitch was released<br>\n",
    "- $vft = $ release_speed in ft/s\n",
    "\n",
    "I multiply the velocity by 1.05 in order to dialate the time by 5%. This makes our estimation of position more accurate because it helps account for error that we get from assuming that acceleration is constant in the kinematic equations for displacement.\n",
    "\n",
    "**New Features**\n",
    "- `t50`: estimated time it took the ball to get to 50ft. from home plate\n",
    "- `release_pos_y`: release position in the y dimension converted to feet\n"
   ]
  },
  {
   "cell_type": "code",
   "execution_count": 6,
   "metadata": {
    "colab": {
     "base_uri": "https://localhost:8080/",
     "height": 376
    },
    "id": "ZOzfn-aEOsAs",
    "outputId": "5c2e8b50-95d3-42b2-c7cd-3fbed1480fdf"
   },
   "outputs": [
    {
     "data": {
      "text/html": [
       "<div><style>\n",
       ".dataframe > thead > tr,\n",
       ".dataframe > tbody > tr {\n",
       "  text-align: right;\n",
       "  white-space: pre-wrap;\n",
       "}\n",
       "</style>\n",
       "<small>shape: (9, 3)</small><table border=\"1\" class=\"dataframe\"><thead><tr><th>statistic</th><th>release_pos_y</th><th>t50</th></tr><tr><td>str</td><td>f64</td><td>f64</td></tr></thead><tbody><tr><td>&quot;count&quot;</td><td>3.273821e6</td><td>3.267351e6</td></tr><tr><td>&quot;null_count&quot;</td><td>75496.0</td><td>81966.0</td></tr><tr><td>&quot;mean&quot;</td><td>4.510473</td><td>0.030309</td></tr><tr><td>&quot;std&quot;</td><td>0.038164</td><td>0.004457</td></tr><tr><td>&quot;min&quot;</td><td>3.943333</td><td>-0.011455</td></tr><tr><td>&quot;25%&quot;</td><td>4.485833</td><td>0.027378</td></tr><tr><td>&quot;50%&quot;</td><td>4.51</td><td>0.030015</td></tr><tr><td>&quot;75%&quot;</td><td>4.535833</td><td>0.032888</td></tr><tr><td>&quot;max&quot;</td><td>4.8075</td><td>0.147386</td></tr></tbody></table></div>"
      ],
      "text/plain": [
       "shape: (9, 3)\n",
       "┌────────────┬───────────────┬────────────┐\n",
       "│ statistic  ┆ release_pos_y ┆ t50        │\n",
       "│ ---        ┆ ---           ┆ ---        │\n",
       "│ str        ┆ f64           ┆ f64        │\n",
       "╞════════════╪═══════════════╪════════════╡\n",
       "│ count      ┆ 3.273821e6    ┆ 3.267351e6 │\n",
       "│ null_count ┆ 75496.0       ┆ 81966.0    │\n",
       "│ mean       ┆ 4.510473      ┆ 0.030309   │\n",
       "│ std        ┆ 0.038164      ┆ 0.004457   │\n",
       "│ min        ┆ 3.943333      ┆ -0.011455  │\n",
       "│ 25%        ┆ 4.485833      ┆ 0.027378   │\n",
       "│ 50%        ┆ 4.51          ┆ 0.030015   │\n",
       "│ 75%        ┆ 4.535833      ┆ 0.032888   │\n",
       "│ max        ┆ 4.8075        ┆ 0.147386   │\n",
       "└────────────┴───────────────┴────────────┘"
      ]
     },
     "execution_count": 6,
     "metadata": {},
     "output_type": "execute_result"
    }
   ],
   "source": [
    "def displacement(p0, v0, t, a):\n",
    "    return p0 + v0 * t + 0.5 * a * t**2\n",
    "\n",
    "def convert_release_y_to_ft(lf: pl.LazyFrame) -> pl.LazyFrame:\n",
    "    return lf.with_columns(pl.col(\"release_pos_y\") / 12)\n",
    "\n",
    "def estimate_time_to_50ft(lf: pl.LazyFrame) -> pl.LazyFrame:\n",
    "    return lf.with_columns(\n",
    "        ((((60 + 6/12) - 50) - pl.col(\"release_extension\"))\n",
    "        / ((pl.col(\"release_speed\") * (5280/3600) * 1.05))).alias(\"t50\")\n",
    "    )\n",
    "\n",
    "time_to_50ft_lf = (pitches_xRV_lf\n",
    "                   .pipe(convert_release_y_to_ft)\n",
    "                   .pipe(estimate_time_to_50ft))\n",
    "\n",
    "(time_to_50ft_lf\n",
    "    .select(\"release_pos_y\", \"t50\")\n",
    "    .describe())"
   ]
  },
  {
   "cell_type": "markdown",
   "metadata": {
    "id": "cGFheH9oOz3z"
   },
   "source": [
    "### Step 2: x, y, & z positions at 50ft. from home plate\n",
    "\n",
    "For this I use the kinematic equations with the acceleration, velocity and now our time estimate, $t_{50}$, to calculate displacement in each dimension.\n",
    "\n",
    "$d_{50} = r_{dim} + v_{dim} * t_{50} * \\frac{1}{2} * a_{dim} * t_{50}^2$\n",
    "\n",
    "Where ...\n",
    "- $r_{dim} = $ release position in x, y or z dimension\n",
    "- $v_{dim} = $ velocity at 50ft. from home plate in x, y or z dimension\n",
    "- $a_{dim} = $ acceleration at 50ft. from home plate in x, y or z dimension\n",
    "- $t_{50} = $ estimated time that it took to get to 50ft. from home plate from step 1\n",
    "\n",
    "**New Features**\n",
    "- `x50`: position in the x dimension when the ball is 50ft. from home plate\n",
    "- `y50`: position in the y dimension when the ball is 50ft. from home plate\n",
    "- `z50`: position in the z dimension when the ball is 50ft. from home plate\n"
   ]
  },
  {
   "cell_type": "code",
   "execution_count": 7,
   "metadata": {
    "colab": {
     "base_uri": "https://localhost:8080/",
     "height": 376
    },
    "id": "HAFosMUMO3Q7",
    "outputId": "0f5394c4-7ac7-45e7-9cef-cbe2461bc9f5"
   },
   "outputs": [
    {
     "data": {
      "text/html": [
       "<div><style>\n",
       ".dataframe > thead > tr,\n",
       ".dataframe > tbody > tr {\n",
       "  text-align: right;\n",
       "  white-space: pre-wrap;\n",
       "}\n",
       "</style>\n",
       "<small>shape: (9, 4)</small><table border=\"1\" class=\"dataframe\"><thead><tr><th>statistic</th><th>x50</th><th>y50</th><th>z50</th></tr><tr><td>str</td><td>f64</td><td>f64</td><td>f64</td></tr></thead><tbody><tr><td>&quot;count&quot;</td><td>3.267351e6</td><td>3.267351e6</td><td>3.267351e6</td></tr><tr><td>&quot;null_count&quot;</td><td>81966.0</td><td>81966.0</td><td>81966.0</td></tr><tr><td>&quot;mean&quot;</td><td>-0.733091</td><td>0.62623</td><td>5.677062</td></tr><tr><td>&quot;std&quot;</td><td>1.705633</td><td>0.39354</td><td>0.503183</td></tr><tr><td>&quot;min&quot;</td><td>-5.203945</td><td>-2.449655</td><td>1.036836</td></tr><tr><td>&quot;25%&quot;</td><td>-1.936412</td><td>0.385009</td><td>5.422181</td></tr><tr><td>&quot;50%&quot;</td><td>-1.355324</td><td>0.644951</td><td>5.709631</td></tr><tr><td>&quot;75%&quot;</td><td>0.840564</td><td>0.901346</td><td>5.986481</td></tr><tr><td>&quot;max&quot;</td><td>4.521722</td><td>5.5406</td><td>9.537938</td></tr></tbody></table></div>"
      ],
      "text/plain": [
       "shape: (9, 4)\n",
       "┌────────────┬────────────┬────────────┬────────────┐\n",
       "│ statistic  ┆ x50        ┆ y50        ┆ z50        │\n",
       "│ ---        ┆ ---        ┆ ---        ┆ ---        │\n",
       "│ str        ┆ f64        ┆ f64        ┆ f64        │\n",
       "╞════════════╪════════════╪════════════╪════════════╡\n",
       "│ count      ┆ 3.267351e6 ┆ 3.267351e6 ┆ 3.267351e6 │\n",
       "│ null_count ┆ 81966.0    ┆ 81966.0    ┆ 81966.0    │\n",
       "│ mean       ┆ -0.733091  ┆ 0.62623    ┆ 5.677062   │\n",
       "│ std        ┆ 1.705633   ┆ 0.39354    ┆ 0.503183   │\n",
       "│ min        ┆ -5.203945  ┆ -2.449655  ┆ 1.036836   │\n",
       "│ 25%        ┆ -1.936412  ┆ 0.385009   ┆ 5.422181   │\n",
       "│ 50%        ┆ -1.355324  ┆ 0.644951   ┆ 5.709631   │\n",
       "│ 75%        ┆ 0.840564   ┆ 0.901346   ┆ 5.986481   │\n",
       "│ max        ┆ 4.521722   ┆ 5.5406     ┆ 9.537938   │\n",
       "└────────────┴────────────┴────────────┴────────────┘"
      ]
     },
     "execution_count": 7,
     "metadata": {},
     "output_type": "execute_result"
    }
   ],
   "source": [
    "def estimate_pos_at_50ft(lf: pl.LazyFrame) -> pl.LazyFrame:\n",
    "    return lf.with_columns(\n",
    "        displacement(\n",
    "            p0=pl.col(f\"release_pos_{d}\"),\n",
    "            v0=pl.col(f\"v{d}0\"),\n",
    "            a=pl.col(f\"a{d}\"),\n",
    "            t=pl.col(\"t50\"),\n",
    "        ).alias(f\"{d}50\")\n",
    "        for d in [\"x\", \"y\", \"z\"]\n",
    "    )\n",
    "\n",
    "pos_at_50ft_lf = time_to_50ft_lf.pipe(estimate_pos_at_50ft)\n",
    "\n",
    "(pos_at_50ft_lf\n",
    "    .select(\"x50\", \"y50\", \"z50\")\n",
    "    .describe())"
   ]
  },
  {
   "cell_type": "markdown",
   "metadata": {
    "id": "T-GVbYgyO2Nr"
   },
   "source": [
    "### Step 3: Estimate 3D positions at commit time & decision time\n",
    "\n",
    "Now we can make an estimate of where the ball is in all dimensions, at any given time. But I am interested specifically in 0.120 seconds after release (commit time), and 0.167 seconds after release (decision time).\n",
    "\n",
    "For this I use the same formula that I used to esimate position at 50ft. from home plate, except I start from that 50ft. mark by calculating the difference in time between $t_{50}$ and $t_{i}$.\n",
    "\n",
    "$d_{i} = p_{50} + v_{50} * (t_{50} - t_{i}) * \\frac{1}{2} * a_{50} * (t_{50} - t_{i})^2$\n",
    "\n",
    "Where ...\n",
    "- $p_{50} = $ position in x, y, or z dimension at 50 ft. from home plate\n",
    "\n",
    "I am assuming that both $v$ and $a$ are constant, again using a 5% time dilation as a crutch to help account for this.\n",
    "\n",
    "**New Features**\n",
    "- `x_0.120`: position in the x dimension at 0.120 seconds after release (commit time)\n",
    "- `y_0.120`: position in the y dimension at 0.120 seconds after release (commit time)\n",
    "- `y_0.120`: position in the z dimension at 0.120 seconds after release (commit time)\n",
    "- `x_0.167`: position in the x dimension at 0.120 seconds after release (decision time)\n",
    "- `y_0.167`: position in the y dimension at 0.120 seconds after release (decision time)\n",
    "- `y_0.167`: position in the z dimension at 0.120 seconds after release (decision time)\n",
    "- `t_plate`: estimated time that it takes the ball to reach home plate\n",
    "- `x_plate`: position in the x dimension when the ball crossed the plate\n",
    "- `y_plate`: position in the y dimension when the ball crossed the plate\n",
    "- `z_plate`: position in the z dimension when the ball crossed the plate\n"
   ]
  },
  {
   "cell_type": "code",
   "execution_count": 8,
   "metadata": {
    "colab": {
     "base_uri": "https://localhost:8080/",
     "height": 376
    },
    "id": "iVM-ngf4Esmv",
    "outputId": "24431204-0c71-42b8-d9e9-348542d71be6"
   },
   "outputs": [
    {
     "data": {
      "text/html": [
       "<div><style>\n",
       ".dataframe > thead > tr,\n",
       ".dataframe > tbody > tr {\n",
       "  text-align: right;\n",
       "  white-space: pre-wrap;\n",
       "}\n",
       "</style>\n",
       "<small>shape: (9, 11)</small><table border=\"1\" class=\"dataframe\"><thead><tr><th>statistic</th><th>t50</th><th>x_0.120</th><th>y_0.120</th><th>z_0.120</th><th>x_0.167</th><th>y_0.167</th><th>z_0.167</th><th>x_plate</th><th>y_plate</th><th>z_plate</th></tr><tr><td>str</td><td>f64</td><td>f64</td><td>f64</td><td>f64</td><td>f64</td><td>f64</td><td>f64</td><td>f64</td><td>f64</td><td>f64</td></tr></thead><tbody><tr><td>&quot;count&quot;</td><td>3.267351e6</td><td>3.267351e6</td><td>3.267351e6</td><td>3.267351e6</td><td>3.267351e6</td><td>3.267351e6</td><td>3.267351e6</td><td>3.267351e6</td><td>3.267351e6</td><td>3.267351e6</td></tr><tr><td>&quot;null_count&quot;</td><td>81966.0</td><td>81966.0</td><td>81966.0</td><td>81966.0</td><td>81966.0</td><td>81966.0</td><td>81966.0</td><td>81966.0</td><td>81966.0</td><td>81966.0</td></tr><tr><td>&quot;mean&quot;</td><td>0.030309</td><td>-0.526471</td><td>-10.891515</td><td>5.22945</td><td>-0.427037</td><td>-16.828183</td><td>4.920959</td><td>-0.005418</td><td>-44.812312</td><td>2.616632</td></tr><tr><td>&quot;std&quot;</td><td>0.004457</td><td>1.279699</td><td>1.042835</td><td>0.486429</td><td>1.092266</td><td>1.43551</td><td>0.522797</td><td>0.78338</td><td>0.448776</td><td>0.894262</td></tr><tr><td>&quot;min&quot;</td><td>-0.011455</td><td>-9.326163</td><td>-13.681389</td><td>-3.299011</td><td>-14.609828</td><td>-20.63631</td><td>-7.158099</td><td>-114.369224</td><td>-140.804898</td><td>-76.964296</td></tr><tr><td>&quot;25%&quot;</td><td>0.027378</td><td>-1.429853</td><td>-11.723838</td><td>4.932507</td><td>-1.198617</td><td>-17.974188</td><td>4.583346</td><td>-0.530056</td><td>-45.104226</td><td>2.03255</td></tr><tr><td>&quot;50%&quot;</td><td>0.030015</td><td>-0.923173</td><td>-11.049736</td><td>5.224253</td><td>-0.705097</td><td>-17.048448</td><td>4.903229</td><td>-0.004475</td><td>-44.806309</td><td>2.61775</td></tr><tr><td>&quot;75%&quot;</td><td>0.032888</td><td>0.505488</td><td>-10.158555</td><td>5.52804</td><td>0.344841</td><td>-15.820425</td><td>5.241046</td><td>0.519643</td><td>-44.517405</td><td>3.203951</td></tr><tr><td>&quot;max&quot;</td><td>0.147386</td><td>4.386514</td><td>-0.097775</td><td>9.172685</td><td>4.541119</td><td>-1.997461</td><td>9.883671</td><td>8.951553</td><td>-39.263614</td><td>13.698295</td></tr></tbody></table></div>"
      ],
      "text/plain": [
       "shape: (9, 11)\n",
       "┌───────────┬───────────┬───────────┬───────────┬───┬───────────┬───────────┬───────────┬──────────┐\n",
       "│ statistic ┆ t50       ┆ x_0.120   ┆ y_0.120   ┆ … ┆ z_0.167   ┆ x_plate   ┆ y_plate   ┆ z_plate  │\n",
       "│ ---       ┆ ---       ┆ ---       ┆ ---       ┆   ┆ ---       ┆ ---       ┆ ---       ┆ ---      │\n",
       "│ str       ┆ f64       ┆ f64       ┆ f64       ┆   ┆ f64       ┆ f64       ┆ f64       ┆ f64      │\n",
       "╞═══════════╪═══════════╪═══════════╪═══════════╪═══╪═══════════╪═══════════╪═══════════╪══════════╡\n",
       "│ count     ┆ 3.267351e ┆ 3.267351e ┆ 3.267351e ┆ … ┆ 3.267351e ┆ 3.267351e ┆ 3.267351e ┆ 3.267351 │\n",
       "│           ┆ 6         ┆ 6         ┆ 6         ┆   ┆ 6         ┆ 6         ┆ 6         ┆ e6       │\n",
       "│ null_coun ┆ 81966.0   ┆ 81966.0   ┆ 81966.0   ┆ … ┆ 81966.0   ┆ 81966.0   ┆ 81966.0   ┆ 81966.0  │\n",
       "│ t         ┆           ┆           ┆           ┆   ┆           ┆           ┆           ┆          │\n",
       "│ mean      ┆ 0.030309  ┆ -0.526471 ┆ -10.89151 ┆ … ┆ 4.920959  ┆ -0.005418 ┆ -44.81231 ┆ 2.616632 │\n",
       "│           ┆           ┆           ┆ 5         ┆   ┆           ┆           ┆ 2         ┆          │\n",
       "│ std       ┆ 0.004457  ┆ 1.279699  ┆ 1.042835  ┆ … ┆ 0.522797  ┆ 0.78338   ┆ 0.448776  ┆ 0.894262 │\n",
       "│ min       ┆ -0.011455 ┆ -9.326163 ┆ -13.68138 ┆ … ┆ -7.158099 ┆ -114.3692 ┆ -140.8048 ┆ -76.9642 │\n",
       "│           ┆           ┆           ┆ 9         ┆   ┆           ┆ 24        ┆ 98        ┆ 96       │\n",
       "│ 25%       ┆ 0.027378  ┆ -1.429853 ┆ -11.72383 ┆ … ┆ 4.583346  ┆ -0.530056 ┆ -45.10422 ┆ 2.03255  │\n",
       "│           ┆           ┆           ┆ 8         ┆   ┆           ┆           ┆ 6         ┆          │\n",
       "│ 50%       ┆ 0.030015  ┆ -0.923173 ┆ -11.04973 ┆ … ┆ 4.903229  ┆ -0.004475 ┆ -44.80630 ┆ 2.61775  │\n",
       "│           ┆           ┆           ┆ 6         ┆   ┆           ┆           ┆ 9         ┆          │\n",
       "│ 75%       ┆ 0.032888  ┆ 0.505488  ┆ -10.15855 ┆ … ┆ 5.241046  ┆ 0.519643  ┆ -44.51740 ┆ 3.203951 │\n",
       "│           ┆           ┆           ┆ 5         ┆   ┆           ┆           ┆ 5         ┆          │\n",
       "│ max       ┆ 0.147386  ┆ 4.386514  ┆ -0.097775 ┆ … ┆ 9.883671  ┆ 8.951553  ┆ -39.26361 ┆ 13.69829 │\n",
       "│           ┆           ┆           ┆           ┆   ┆           ┆           ┆ 4         ┆ 5        │\n",
       "└───────────┴───────────┴───────────┴───────────┴───┴───────────┴───────────┴───────────┴──────────┘"
      ]
     },
     "execution_count": 8,
     "metadata": {},
     "output_type": "execute_result"
    }
   ],
   "source": [
    "def estimate_time_to_plate(lf: pl.LazyFrame) -> pl.LazyFrame:\n",
    "    return lf.with_columns(\n",
    "        (((60 + 6/12) - pl.col(\"release_extension\"))\n",
    "        / ((pl.col(\"release_speed\") * (5280/3600) * 1.05))).alias(\"t_plate\")\n",
    "    )\n",
    "\n",
    "def estimate_ball_pos_at_plate(lf: pl.LazyFrame) -> pl.LazyFrame:\n",
    "    return lf.with_columns(\n",
    "        displacement(\n",
    "            p0=pl.col(f\"{d}50\"),\n",
    "            v0=pl.col(f\"v{d}0\"),\n",
    "            a=pl.col(f\"a{d}\"),\n",
    "            t=pl.col(\"t_plate\") - pl.col(\"t50\"),\n",
    "        ).alias(f\"{d}_plate\")\n",
    "        for d in [\"x\", \"y\", \"z\"]\n",
    "    )\n",
    "\n",
    "def estimate_ball_pos_at_t(lf: pl.LazyFrame, times: list[float]) -> pl.LazyFrame:\n",
    "    return lf.with_columns(\n",
    "        displacement(\n",
    "            p0=pl.col(f\"{d}50\"),\n",
    "            v0=pl.col(f\"v{d}0\"),\n",
    "            a=pl.col(f\"a{d}\"),\n",
    "            t=t - pl.col(\"t50\"),\n",
    "        ).alias(f\"{d}_{t:.3f}\")\n",
    "        for d in [\"x\", \"y\", \"z\"]\n",
    "        for t in times\n",
    "    )\n",
    "\n",
    "TIMES = [0.120, 0.167]\n",
    "\n",
    "ball_pos_lf = (pos_at_50ft_lf\n",
    "               .pipe(estimate_time_to_plate)\n",
    "               .pipe(estimate_ball_pos_at_plate)\n",
    "               .pipe(estimate_ball_pos_at_t, TIMES))\n",
    "\n",
    "(ball_pos_lf\n",
    "    .select(\"t50\", \"x_0.120\", \"y_0.120\", \"z_0.120\",\n",
    "            \"x_0.167\", \"y_0.167\", \"z_0.167\", \"x_plate\", \"y_plate\", \"z_plate\")\n",
    "    .describe())"
   ]
  },
  {
   "cell_type": "markdown",
   "metadata": {
    "id": "h2s1Y3DNmQGM"
   },
   "source": [
    "### Pitch Location Visualization\n",
    "\n",
    "In order to make sure this is working, here I make a 3D scatter plot of 3 random pitches thrown by Yu Darvish in the 2024 season and their estimated positions at release, 50ft from home, commit time, decision time, and across the plate.\n",
    "\n",
    "**Plot Line Color Legend**\n",
    "- `Sweeper`: Purple\n",
    "- `Splitter`: Yellow\n",
    "- `Slider`: Green\n",
    "- `Knuckle Curve`: Blue\n",
    "- `Four Seam Fastball`: Red\n"
   ]
  },
  {
   "cell_type": "code",
   "execution_count": 9,
   "metadata": {
    "colab": {
     "base_uri": "https://localhost:8080/",
     "height": 542
    },
    "id": "NyKMJTUgCA_4",
    "outputId": "bea9b4e0-af19-43dd-a8bc-5ba663d980d8"
   },
   "outputs": [
    {
     "data": {
      "application/vnd.plotly.v1+json": {
       "config": {
        "plotlyServerURL": "https://plot.ly"
       },
       "data": [
        {
         "hovertemplate": "<extra></extra>",
         "legendgroup": "",
         "marker": {
          "color": "#636efa",
          "symbol": "circle"
         },
         "mode": "markers",
         "name": "",
         "scene": "scene",
         "showlegend": false,
         "type": "scatter3d"
        },
        {
         "hovertemplate": "x=%{x}<br>y=%{y}<br>z=%{z}<extra></extra>",
         "legendgroup": "",
         "line": {
          "color": "red",
          "dash": "solid"
         },
         "marker": {
          "symbol": "circle"
         },
         "mode": "lines",
         "name": "",
         "scene": "scene",
         "showlegend": false,
         "type": "scatter3d",
         "x": [
          -1.81,
          -1.8176029376533145,
          -1.5712207216572087,
          -1.3509700363570751,
          -1.1568508817529133,
          -0.9888632578447233,
          -0.8470071646325055,
          -0.7312826021162595,
          -0.6416895702959854,
          -0.5782280691716835,
          -0.5408980987433532
         ],
         "y": [
          4.494166666666667,
          4.516509026546153,
          -2.3155533439223963,
          -9.070824335895722,
          -15.749303949373829,
          -22.35099218435671,
          -28.875889040844367,
          -35.323994518836805,
          -41.69530861833402,
          -47.989831339336014,
          -54.20756268184278
         ],
         "z": [
          5.77,
          5.760692972100552,
          5.478191130670328,
          5.163700747924542,
          4.817221823863195,
          4.438754358486286,
          4.028298351793814,
          3.585853803785781,
          3.111420714462186,
          2.604999083823029,
          2.06658891186831
         ]
        },
        {
         "hovertemplate": "x=%{x}<br>y=%{y}<br>z=%{z}<extra></extra>",
         "legendgroup": "",
         "line": {
          "color": "purple",
          "dash": "solid"
         },
         "marker": {
          "symbol": "circle"
         },
         "mode": "lines",
         "name": "",
         "scene": "scene",
         "showlegend": false,
         "type": "scatter3d",
         "x": [
          -2.91,
          -2.902687223377397,
          -2.6026202752514362,
          -2.281519375463044,
          -1.9393845240122212,
          -1.5762157208989673,
          -1.1920129661232821,
          -0.7867762596851655,
          -0.36050560158461825,
          0.08679900817836039,
          0.5551375696037703
         ],
         "y": [
          4.494166666666667,
          4.5169552710229866,
          -1.7346402777601948,
          -7.92068830236446,
          -14.041188802789812,
          -20.096141779036245,
          -26.08554723110376,
          -32.009405158992365,
          -37.867715562702045,
          -43.66047844223281,
          -49.38769379758466
         ],
         "z": [
          5.52,
          5.493082579092839,
          5.352009391961559,
          5.133512845761917,
          4.837592940493913,
          4.464249676157545,
          4.0134830527528145,
          3.485293070279722,
          2.8796797287382674,
          2.1966430281284497,
          1.4361829684502694
         ]
        },
        {
         "hovertemplate": "x=%{x}<br>y=%{y}<br>z=%{z}<extra></extra>",
         "legendgroup": "",
         "line": {
          "color": "yellow",
          "dash": "solid"
         },
         "marker": {
          "symbol": "circle"
         },
         "mode": "lines",
         "name": "",
         "scene": "scene",
         "showlegend": false,
         "type": "scatter3d",
         "x": [
          -1.64,
          -1.6474922402024095,
          -1.326358762873355,
          -1.0304102598149103,
          -0.7596467310270747,
          -0.5140681765098488,
          -0.2936745962632321,
          -0.09846599028722436,
          0.07155764141817345,
          0.21639629885296185,
          0.336049982017141
         ],
         "y": [
          4.471666666666666,
          4.490590707196002,
          -1.918868439179705,
          -8.264714906176279,
          -14.546948693793725,
          -20.765569802032037,
          -26.92057823089121,
          -33.011973980371266,
          -39.03975705047218,
          -45.00392744119396,
          -50.9044851525366
         ],
         "z": [
          5.51,
          5.492884305168484,
          5.230700716159419,
          4.910983155693232,
          4.533731623769928,
          4.098946120389504,
          3.6066266455519607,
          3.056773199257297,
          2.4493857815055144,
          1.7844643922966124,
          1.0620090316305917
         ]
        },
        {
         "hovertemplate": "x=%{x}<br>y=%{y}<br>z=%{z}<extra></extra>",
         "legendgroup": "",
         "line": {
          "color": "green",
          "dash": "solid"
         },
         "marker": {
          "symbol": "circle"
         },
         "mode": "lines",
         "name": "",
         "scene": "scene",
         "showlegend": false,
         "type": "scatter3d",
         "x": [
          -1.87,
          -1.86602598365362,
          -1.699800321669698,
          -1.5215065066512046,
          -1.3311445385981397,
          -1.1287144175105033,
          -0.9142161433882956,
          -0.6876497162315159,
          -0.4490151360401652,
          -0.19831240281424323,
          0.06445848344625044
         ],
         "y": [
          4.4833333333333325,
          4.5016804859895,
          -1.7694237304738434,
          -7.984811959204784,
          -14.144484200203324,
          -20.24844045346946,
          -26.29668071900319,
          -32.28920499680452,
          -38.22601328687345,
          -44.10710558920997,
          -49.9324819038141
         ],
         "z": [
          5.81,
          5.785747500313463,
          5.719125507616614,
          5.578854377075972,
          5.364934108691539,
          5.077364702463314,
          4.7161461583912985,
          4.28127847647549,
          3.7727616567158906,
          3.1905956991124995,
          2.5347806036653164
         ]
        },
        {
         "hovertemplate": "x=%{x}<br>y=%{y}<br>z=%{z}<extra></extra>",
         "legendgroup": "",
         "line": {
          "color": "blue",
          "dash": "solid"
         },
         "marker": {
          "symbol": "circle"
         },
         "mode": "lines",
         "name": "",
         "scene": "scene",
         "showlegend": false,
         "type": "scatter3d",
         "x": [
          -1.87,
          -1.8670358671303262,
          -1.6356222630764883,
          -1.3965358757830397,
          -1.1497767052499812,
          -0.895344751477312,
          -0.6332400144650325,
          -0.3634624942131421,
          -0.08601219072164176,
          0.1991108960094692,
          0.49190676598019045
         ],
         "y": [
          4.485833333333333,
          4.510538485334039,
          -1.266315214263817,
          -6.979218583516364,
          -12.6281716224236,
          -18.213174330985524,
          -23.73422670920214,
          -29.19132875707345,
          -34.584480474599445,
          -39.91368186178013,
          -45.1789329186155
         ],
         "z": [
          5.59,
          5.549771456954398,
          5.464165613223397,
          5.274426485187843,
          4.980554072847734,
          4.58254837620307,
          4.0804093952538505,
          3.4741371300000767,
          2.763731580441749,
          1.9491927465788654,
          1.0305206284114274
         ]
        }
       ],
       "layout": {
        "legend": {
         "tracegroupgap": 0
        },
        "margin": {
         "t": 60
        },
        "scene": {
         "domain": {
          "x": [
           0,
           1
          ],
          "y": [
           0,
           1
          ]
         }
        },
        "showlegend": true,
        "template": {
         "data": {
          "bar": [
           {
            "error_x": {
             "color": "#2a3f5f"
            },
            "error_y": {
             "color": "#2a3f5f"
            },
            "marker": {
             "line": {
              "color": "#E5ECF6",
              "width": 0.5
             },
             "pattern": {
              "fillmode": "overlay",
              "size": 10,
              "solidity": 0.2
             }
            },
            "type": "bar"
           }
          ],
          "barpolar": [
           {
            "marker": {
             "line": {
              "color": "#E5ECF6",
              "width": 0.5
             },
             "pattern": {
              "fillmode": "overlay",
              "size": 10,
              "solidity": 0.2
             }
            },
            "type": "barpolar"
           }
          ],
          "carpet": [
           {
            "aaxis": {
             "endlinecolor": "#2a3f5f",
             "gridcolor": "white",
             "linecolor": "white",
             "minorgridcolor": "white",
             "startlinecolor": "#2a3f5f"
            },
            "baxis": {
             "endlinecolor": "#2a3f5f",
             "gridcolor": "white",
             "linecolor": "white",
             "minorgridcolor": "white",
             "startlinecolor": "#2a3f5f"
            },
            "type": "carpet"
           }
          ],
          "choropleth": [
           {
            "colorbar": {
             "outlinewidth": 0,
             "ticks": ""
            },
            "type": "choropleth"
           }
          ],
          "contour": [
           {
            "colorbar": {
             "outlinewidth": 0,
             "ticks": ""
            },
            "colorscale": [
             [
              0,
              "#0d0887"
             ],
             [
              0.1111111111111111,
              "#46039f"
             ],
             [
              0.2222222222222222,
              "#7201a8"
             ],
             [
              0.3333333333333333,
              "#9c179e"
             ],
             [
              0.4444444444444444,
              "#bd3786"
             ],
             [
              0.5555555555555556,
              "#d8576b"
             ],
             [
              0.6666666666666666,
              "#ed7953"
             ],
             [
              0.7777777777777778,
              "#fb9f3a"
             ],
             [
              0.8888888888888888,
              "#fdca26"
             ],
             [
              1,
              "#f0f921"
             ]
            ],
            "type": "contour"
           }
          ],
          "contourcarpet": [
           {
            "colorbar": {
             "outlinewidth": 0,
             "ticks": ""
            },
            "type": "contourcarpet"
           }
          ],
          "heatmap": [
           {
            "colorbar": {
             "outlinewidth": 0,
             "ticks": ""
            },
            "colorscale": [
             [
              0,
              "#0d0887"
             ],
             [
              0.1111111111111111,
              "#46039f"
             ],
             [
              0.2222222222222222,
              "#7201a8"
             ],
             [
              0.3333333333333333,
              "#9c179e"
             ],
             [
              0.4444444444444444,
              "#bd3786"
             ],
             [
              0.5555555555555556,
              "#d8576b"
             ],
             [
              0.6666666666666666,
              "#ed7953"
             ],
             [
              0.7777777777777778,
              "#fb9f3a"
             ],
             [
              0.8888888888888888,
              "#fdca26"
             ],
             [
              1,
              "#f0f921"
             ]
            ],
            "type": "heatmap"
           }
          ],
          "heatmapgl": [
           {
            "colorbar": {
             "outlinewidth": 0,
             "ticks": ""
            },
            "colorscale": [
             [
              0,
              "#0d0887"
             ],
             [
              0.1111111111111111,
              "#46039f"
             ],
             [
              0.2222222222222222,
              "#7201a8"
             ],
             [
              0.3333333333333333,
              "#9c179e"
             ],
             [
              0.4444444444444444,
              "#bd3786"
             ],
             [
              0.5555555555555556,
              "#d8576b"
             ],
             [
              0.6666666666666666,
              "#ed7953"
             ],
             [
              0.7777777777777778,
              "#fb9f3a"
             ],
             [
              0.8888888888888888,
              "#fdca26"
             ],
             [
              1,
              "#f0f921"
             ]
            ],
            "type": "heatmapgl"
           }
          ],
          "histogram": [
           {
            "marker": {
             "pattern": {
              "fillmode": "overlay",
              "size": 10,
              "solidity": 0.2
             }
            },
            "type": "histogram"
           }
          ],
          "histogram2d": [
           {
            "colorbar": {
             "outlinewidth": 0,
             "ticks": ""
            },
            "colorscale": [
             [
              0,
              "#0d0887"
             ],
             [
              0.1111111111111111,
              "#46039f"
             ],
             [
              0.2222222222222222,
              "#7201a8"
             ],
             [
              0.3333333333333333,
              "#9c179e"
             ],
             [
              0.4444444444444444,
              "#bd3786"
             ],
             [
              0.5555555555555556,
              "#d8576b"
             ],
             [
              0.6666666666666666,
              "#ed7953"
             ],
             [
              0.7777777777777778,
              "#fb9f3a"
             ],
             [
              0.8888888888888888,
              "#fdca26"
             ],
             [
              1,
              "#f0f921"
             ]
            ],
            "type": "histogram2d"
           }
          ],
          "histogram2dcontour": [
           {
            "colorbar": {
             "outlinewidth": 0,
             "ticks": ""
            },
            "colorscale": [
             [
              0,
              "#0d0887"
             ],
             [
              0.1111111111111111,
              "#46039f"
             ],
             [
              0.2222222222222222,
              "#7201a8"
             ],
             [
              0.3333333333333333,
              "#9c179e"
             ],
             [
              0.4444444444444444,
              "#bd3786"
             ],
             [
              0.5555555555555556,
              "#d8576b"
             ],
             [
              0.6666666666666666,
              "#ed7953"
             ],
             [
              0.7777777777777778,
              "#fb9f3a"
             ],
             [
              0.8888888888888888,
              "#fdca26"
             ],
             [
              1,
              "#f0f921"
             ]
            ],
            "type": "histogram2dcontour"
           }
          ],
          "mesh3d": [
           {
            "colorbar": {
             "outlinewidth": 0,
             "ticks": ""
            },
            "type": "mesh3d"
           }
          ],
          "parcoords": [
           {
            "line": {
             "colorbar": {
              "outlinewidth": 0,
              "ticks": ""
             }
            },
            "type": "parcoords"
           }
          ],
          "pie": [
           {
            "automargin": true,
            "type": "pie"
           }
          ],
          "scatter": [
           {
            "fillpattern": {
             "fillmode": "overlay",
             "size": 10,
             "solidity": 0.2
            },
            "type": "scatter"
           }
          ],
          "scatter3d": [
           {
            "line": {
             "colorbar": {
              "outlinewidth": 0,
              "ticks": ""
             }
            },
            "marker": {
             "colorbar": {
              "outlinewidth": 0,
              "ticks": ""
             }
            },
            "type": "scatter3d"
           }
          ],
          "scattercarpet": [
           {
            "marker": {
             "colorbar": {
              "outlinewidth": 0,
              "ticks": ""
             }
            },
            "type": "scattercarpet"
           }
          ],
          "scattergeo": [
           {
            "marker": {
             "colorbar": {
              "outlinewidth": 0,
              "ticks": ""
             }
            },
            "type": "scattergeo"
           }
          ],
          "scattergl": [
           {
            "marker": {
             "colorbar": {
              "outlinewidth": 0,
              "ticks": ""
             }
            },
            "type": "scattergl"
           }
          ],
          "scattermapbox": [
           {
            "marker": {
             "colorbar": {
              "outlinewidth": 0,
              "ticks": ""
             }
            },
            "type": "scattermapbox"
           }
          ],
          "scatterpolar": [
           {
            "marker": {
             "colorbar": {
              "outlinewidth": 0,
              "ticks": ""
             }
            },
            "type": "scatterpolar"
           }
          ],
          "scatterpolargl": [
           {
            "marker": {
             "colorbar": {
              "outlinewidth": 0,
              "ticks": ""
             }
            },
            "type": "scatterpolargl"
           }
          ],
          "scatterternary": [
           {
            "marker": {
             "colorbar": {
              "outlinewidth": 0,
              "ticks": ""
             }
            },
            "type": "scatterternary"
           }
          ],
          "surface": [
           {
            "colorbar": {
             "outlinewidth": 0,
             "ticks": ""
            },
            "colorscale": [
             [
              0,
              "#0d0887"
             ],
             [
              0.1111111111111111,
              "#46039f"
             ],
             [
              0.2222222222222222,
              "#7201a8"
             ],
             [
              0.3333333333333333,
              "#9c179e"
             ],
             [
              0.4444444444444444,
              "#bd3786"
             ],
             [
              0.5555555555555556,
              "#d8576b"
             ],
             [
              0.6666666666666666,
              "#ed7953"
             ],
             [
              0.7777777777777778,
              "#fb9f3a"
             ],
             [
              0.8888888888888888,
              "#fdca26"
             ],
             [
              1,
              "#f0f921"
             ]
            ],
            "type": "surface"
           }
          ],
          "table": [
           {
            "cells": {
             "fill": {
              "color": "#EBF0F8"
             },
             "line": {
              "color": "white"
             }
            },
            "header": {
             "fill": {
              "color": "#C8D4E3"
             },
             "line": {
              "color": "white"
             }
            },
            "type": "table"
           }
          ]
         },
         "layout": {
          "annotationdefaults": {
           "arrowcolor": "#2a3f5f",
           "arrowhead": 0,
           "arrowwidth": 1
          },
          "autotypenumbers": "strict",
          "coloraxis": {
           "colorbar": {
            "outlinewidth": 0,
            "ticks": ""
           }
          },
          "colorscale": {
           "diverging": [
            [
             0,
             "#8e0152"
            ],
            [
             0.1,
             "#c51b7d"
            ],
            [
             0.2,
             "#de77ae"
            ],
            [
             0.3,
             "#f1b6da"
            ],
            [
             0.4,
             "#fde0ef"
            ],
            [
             0.5,
             "#f7f7f7"
            ],
            [
             0.6,
             "#e6f5d0"
            ],
            [
             0.7,
             "#b8e186"
            ],
            [
             0.8,
             "#7fbc41"
            ],
            [
             0.9,
             "#4d9221"
            ],
            [
             1,
             "#276419"
            ]
           ],
           "sequential": [
            [
             0,
             "#0d0887"
            ],
            [
             0.1111111111111111,
             "#46039f"
            ],
            [
             0.2222222222222222,
             "#7201a8"
            ],
            [
             0.3333333333333333,
             "#9c179e"
            ],
            [
             0.4444444444444444,
             "#bd3786"
            ],
            [
             0.5555555555555556,
             "#d8576b"
            ],
            [
             0.6666666666666666,
             "#ed7953"
            ],
            [
             0.7777777777777778,
             "#fb9f3a"
            ],
            [
             0.8888888888888888,
             "#fdca26"
            ],
            [
             1,
             "#f0f921"
            ]
           ],
           "sequentialminus": [
            [
             0,
             "#0d0887"
            ],
            [
             0.1111111111111111,
             "#46039f"
            ],
            [
             0.2222222222222222,
             "#7201a8"
            ],
            [
             0.3333333333333333,
             "#9c179e"
            ],
            [
             0.4444444444444444,
             "#bd3786"
            ],
            [
             0.5555555555555556,
             "#d8576b"
            ],
            [
             0.6666666666666666,
             "#ed7953"
            ],
            [
             0.7777777777777778,
             "#fb9f3a"
            ],
            [
             0.8888888888888888,
             "#fdca26"
            ],
            [
             1,
             "#f0f921"
            ]
           ]
          },
          "colorway": [
           "#636efa",
           "#EF553B",
           "#00cc96",
           "#ab63fa",
           "#FFA15A",
           "#19d3f3",
           "#FF6692",
           "#B6E880",
           "#FF97FF",
           "#FECB52"
          ],
          "font": {
           "color": "#2a3f5f"
          },
          "geo": {
           "bgcolor": "white",
           "lakecolor": "white",
           "landcolor": "#E5ECF6",
           "showlakes": true,
           "showland": true,
           "subunitcolor": "white"
          },
          "hoverlabel": {
           "align": "left"
          },
          "hovermode": "closest",
          "mapbox": {
           "style": "light"
          },
          "paper_bgcolor": "white",
          "plot_bgcolor": "#E5ECF6",
          "polar": {
           "angularaxis": {
            "gridcolor": "white",
            "linecolor": "white",
            "ticks": ""
           },
           "bgcolor": "#E5ECF6",
           "radialaxis": {
            "gridcolor": "white",
            "linecolor": "white",
            "ticks": ""
           }
          },
          "scene": {
           "xaxis": {
            "backgroundcolor": "#E5ECF6",
            "gridcolor": "white",
            "gridwidth": 2,
            "linecolor": "white",
            "showbackground": true,
            "ticks": "",
            "zerolinecolor": "white"
           },
           "yaxis": {
            "backgroundcolor": "#E5ECF6",
            "gridcolor": "white",
            "gridwidth": 2,
            "linecolor": "white",
            "showbackground": true,
            "ticks": "",
            "zerolinecolor": "white"
           },
           "zaxis": {
            "backgroundcolor": "#E5ECF6",
            "gridcolor": "white",
            "gridwidth": 2,
            "linecolor": "white",
            "showbackground": true,
            "ticks": "",
            "zerolinecolor": "white"
           }
          },
          "shapedefaults": {
           "line": {
            "color": "#2a3f5f"
           }
          },
          "ternary": {
           "aaxis": {
            "gridcolor": "white",
            "linecolor": "white",
            "ticks": ""
           },
           "baxis": {
            "gridcolor": "white",
            "linecolor": "white",
            "ticks": ""
           },
           "bgcolor": "#E5ECF6",
           "caxis": {
            "gridcolor": "white",
            "linecolor": "white",
            "ticks": ""
           }
          },
          "title": {
           "x": 0.05
          },
          "xaxis": {
           "automargin": true,
           "gridcolor": "white",
           "linecolor": "white",
           "ticks": "",
           "title": {
            "standoff": 15
           },
           "zerolinecolor": "white",
           "zerolinewidth": 2
          },
          "yaxis": {
           "automargin": true,
           "gridcolor": "white",
           "linecolor": "white",
           "ticks": "",
           "title": {
            "standoff": 15
           },
           "zerolinecolor": "white",
           "zerolinewidth": 2
          }
         }
        },
        "title": {
         "text": "Random Yu Darvish Pitch Location Estimation"
        }
       }
      }
     },
     "metadata": {},
     "output_type": "display_data"
    }
   ],
   "source": [
    "pitch_types = [\"KC\", \"FF\", \"FS\", \"SL\", \"ST\"]\n",
    "cols = [\"pitch_type\", \"release_pos_x\", \"release_pos_y\", \"release_pos_z\",\n",
    "        \"x50\", \"y50\", \"z50\", \"x_0.120\", \"y_0.120\", \"z_0.120\",\n",
    "        \"x_0.167\", \"y_0.167\", \"z_0.167\", \"x_plate\", \"y_plate\", \"z_plate\"]\n",
    "\n",
    "extra_times = np.arange(0, 0.5, 0.05).tolist()\n",
    "extra_time_cols = [f\"{d}_{t:.3f}\"\n",
    "                   for d in [\"x\", \"y\", \"z\"]\n",
    "                   for t in extra_times]\n",
    "\n",
    "# for the visualization, I am going to use a lot more time intervals\n",
    "# for position estimation to get a smoother curve\n",
    "sample_pitch_df = (ball_pos_lf\n",
    "                   .filter(pl.col(\"game_date\").dt.year() == 2024)\n",
    "                   .filter(pl.col(\"pitch_type\").is_in(pitch_types))\n",
    "                   .filter(pl.col(\"player_name\") == \"Darvish, Yu\")\n",
    "                   .pipe(estimate_ball_pos_at_t, extra_times)\n",
    "                   .drop_nulls(cols + extra_time_cols)\n",
    "                   .group_by(\"pitch_type\")\n",
    "                   .agg(pl.col(\"*\").sample(1, seed=40))\n",
    "                   .select(cols + extra_time_cols)\n",
    "                   .explode([pl.col(col)\n",
    "                             for col in (cols + extra_time_cols)\n",
    "                             if col != \"pitch_type\"])\n",
    "                   .collect())\n",
    "\n",
    "\n",
    "fig = px.scatter_3d()\n",
    "colors = {\"KC\": \"blue\", \"FF\": \"red\", \"FS\": \"yellow\", \"SL\": \"green\", \"ST\": \"purple\"}\n",
    "for pitch in sample_pitch_df.iter_rows(named=True):\n",
    "    pitch_fig = px.line_3d(\n",
    "        x=[pitch[\"release_pos_x\"]] + [pitch[f\"x_{t:.3f}\"] for t in extra_times],\n",
    "        y=[pitch[\"release_pos_y\"]] + [pitch[f\"y_{t:.3f}\"] for t in extra_times],\n",
    "        z=[pitch[\"release_pos_z\"]] + [pitch[f\"z_{t:.3f}\"] for t in extra_times],\n",
    "    )\n",
    "\n",
    "    pitch_fig.update_traces(line=dict(color=colors[pitch[\"pitch_type\"]]))\n",
    "    fig.add_traces(pitch_fig.data)\n",
    "\n",
    "fig.update_layout(title=dict(text=\"Random Yu Darvish Pitch Location Estimation\"), showlegend=True)\n",
    "fig.show()"
   ]
  },
  {
   "cell_type": "markdown",
   "metadata": {
    "id": "68aEER8tSqrN"
   },
   "source": [
    "## Location Estimation Error\n",
    "\n",
    "Since I have the ground truth for release position, I can measure roughly how accurate the position estimation functions are by trying to estimate this release position in 3D space. I compute the mean euclidean distance between estimated release position and actual release position.\n",
    "\n",
    "$3Deuclideandistance = \\sqrt{(x_1 - x_2)^2 + (y_1 - y_2)^2 + (z_1 - z_2)^2}$\n",
    "\n",
    "Looking at the results, depending on the pitch type, it is typically off by anywhere between .4 inches and .8 inches on average.\n",
    "\n",
    "**New Features**\n",
    "- `approx_release_pos_x`: approximated release position in the x dimension working back from 50ft.\n",
    "- `approx_release_pos_y`: approximated release position in the y dimension working back from 50ft.\n",
    "- `approx_release_pos_z`: approximated release position in the z dimension working back from 50ft.\n"
   ]
  },
  {
   "cell_type": "code",
   "execution_count": 10,
   "metadata": {
    "colab": {
     "base_uri": "https://localhost:8080/",
     "height": 252
    },
    "id": "to4pigHrG92M",
    "outputId": "d69e52bd-7c85-4907-fb7d-cc29f4f62187"
   },
   "outputs": [
    {
     "data": {
      "text/html": [
       "<div><style>\n",
       ".dataframe > thead > tr,\n",
       ".dataframe > tbody > tr {\n",
       "  text-align: right;\n",
       "  white-space: pre-wrap;\n",
       "}\n",
       "</style>\n",
       "<small>shape: (5, 2)</small><table border=\"1\" class=\"dataframe\"><thead><tr><th>pitch_type</th><th>mean_euclidean_error_in.</th></tr><tr><td>str</td><td>f64</td></tr></thead><tbody><tr><td>&quot;FF&quot;</td><td>0.334669</td></tr><tr><td>&quot;SL&quot;</td><td>0.485008</td></tr><tr><td>&quot;FS&quot;</td><td>0.455779</td></tr><tr><td>&quot;ST&quot;</td><td>0.535768</td></tr><tr><td>&quot;KC&quot;</td><td>0.635302</td></tr></tbody></table></div>"
      ],
      "text/plain": [
       "shape: (5, 2)\n",
       "┌────────────┬──────────────────────────┐\n",
       "│ pitch_type ┆ mean_euclidean_error_in. │\n",
       "│ ---        ┆ ---                      │\n",
       "│ str        ┆ f64                      │\n",
       "╞════════════╪══════════════════════════╡\n",
       "│ FF         ┆ 0.334669                 │\n",
       "│ SL         ┆ 0.485008                 │\n",
       "│ FS         ┆ 0.455779                 │\n",
       "│ ST         ┆ 0.535768                 │\n",
       "│ KC         ┆ 0.635302                 │\n",
       "└────────────┴──────────────────────────┘"
      ]
     },
     "execution_count": 10,
     "metadata": {},
     "output_type": "execute_result"
    }
   ],
   "source": [
    "def estimate_release_pos(lf: pl.LazyFrame) -> pl.LazyFrame:\n",
    "    return lf.with_columns(\n",
    "        displacement(\n",
    "            p0=pl.col(f\"{d}50\"),\n",
    "            v0=pl.col(f\"v{d}0\"),\n",
    "            a=pl.col(f\"a{d}\"),\n",
    "            t=-pl.col(\"t50\"),\n",
    "        ).alias(f\"approx_release_pos_{d}\")\n",
    "        for d in [\"x\", \"y\", \"z\"]\n",
    "    )\n",
    "\n",
    "ball_pos_lf = ball_pos_lf.pipe(estimate_release_pos)\n",
    "\n",
    "\n",
    "def euclidean_distance(*pts):\n",
    "    return sum((pt[0] - pt[1]) ** 2 for pt in pts) ** 0.5\n",
    "\n",
    "\n",
    "(ball_pos_lf\n",
    "    .drop_nulls([col for col in ball_pos_lf.collect_schema().names() if \"release\" in col])\n",
    "    .select(\"release_pos_x\", \"release_pos_y\", \"release_pos_z\",\n",
    "            \"approx_release_pos_x\", \"approx_release_pos_y\", \"approx_release_pos_z\",\n",
    "            \"pitch_type\")\n",
    "    .filter(pl.col(\"pitch_type\").is_in(pitch_types))\n",
    "    .group_by(\"pitch_type\")\n",
    "    .agg(\n",
    "        (euclidean_distance(\n",
    "            *[(pl.col(f\"approx_release_pos_{d}\"), pl.col(f\"release_pos_{d}\"))\n",
    "            for d in [\"x\", \"y\", \"z\"]]\n",
    "        ).mean() * 12).alias(\"mean_euclidean_error_in.\")\n",
    "    )\n",
    "    .collect())"
   ]
  },
  {
   "cell_type": "markdown",
   "metadata": {
    "id": "y9e_q_ZlCA_4"
   },
   "source": [
    "## Sequence Features\n",
    "\n",
    "**New Feautres**\n",
    "\n",
    "Everything in the `prev_features` list will be added, I don't want to type all of that out.\n",
    "\n",
    "**Note**\n",
    "\n",
    "May or may not need this depending on what sort of model I end up building"
   ]
  },
  {
   "cell_type": "code",
   "execution_count": 11,
   "metadata": {
    "colab": {
     "base_uri": "https://localhost:8080/",
     "height": 396
    },
    "id": "3hCjvQsECA_4",
    "outputId": "9a018703-5839-414a-cc69-ba0046d7c97a"
   },
   "outputs": [
    {
     "data": {
      "text/html": [
       "<div><style>\n",
       ".dataframe > thead > tr,\n",
       ".dataframe > tbody > tr {\n",
       "  text-align: right;\n",
       "  white-space: pre-wrap;\n",
       "}\n",
       "</style>\n",
       "<small>shape: (9, 21)</small><table border=\"1\" class=\"dataframe\"><thead><tr><th>statistic</th><th>prev_pfx_x</th><th>prev_pfx_z</th><th>prev_x_0.120</th><th>prev_y_0.120</th><th>prev_z_0.120</th><th>prev_x_0.167</th><th>prev_y_0.167</th><th>prev_z_0.167</th><th>prev_release_pos_x</th><th>prev_release_pos_y</th><th>prev_release_pos_z</th><th>prev_release_speed</th><th>prev_effective_speed</th><th>prev_release_spin_rate</th><th>prev_delta_run_exp</th><th>prev_x_plate</th><th>prev_y_plate</th><th>prev_z_plate</th><th>prev_pitch_type</th><th>prev_zone</th></tr><tr><td>str</td><td>f64</td><td>f64</td><td>f64</td><td>f64</td><td>f64</td><td>f64</td><td>f64</td><td>f64</td><td>f64</td><td>f64</td><td>f64</td><td>f64</td><td>f64</td><td>f64</td><td>f64</td><td>f64</td><td>f64</td><td>f64</td><td>str</td><td>f64</td></tr></thead><tbody><tr><td>&quot;count&quot;</td><td>3.201603e6</td><td>3.201614e6</td><td>3.195158e6</td><td>3.195158e6</td><td>3.195158e6</td><td>3.195158e6</td><td>3.195158e6</td><td>3.195158e6</td><td>3.201412e6</td><td>3.201412e6</td><td>3.201412e6</td><td>3.20162e6</td><td>3.194446e6</td><td>3.186042e6</td><td>3.267695e6</td><td>3.195158e6</td><td>3.195158e6</td><td>3.195158e6</td><td>&quot;3202778&quot;</td><td>3.201622e6</td></tr><tr><td>&quot;null_count&quot;</td><td>162386.0</td><td>162375.0</td><td>168831.0</td><td>168831.0</td><td>168831.0</td><td>168831.0</td><td>168831.0</td><td>168831.0</td><td>162577.0</td><td>162577.0</td><td>162577.0</td><td>162369.0</td><td>169543.0</td><td>177947.0</td><td>96294.0</td><td>168831.0</td><td>168831.0</td><td>168831.0</td><td>&quot;161211&quot;</td><td>162367.0</td></tr><tr><td>&quot;mean&quot;</td><td>-0.112982</td><td>0.616293</td><td>-0.526653</td><td>-10.894905</td><td>5.228902</td><td>-0.427122</td><td>-16.832773</td><td>4.920112</td><td>-0.800556</td><td>4.510354</td><td>5.802446</td><td>88.962916</td><td>89.099501</td><td>2249.963425</td><td>-0.001075</td><td>-0.004637</td><td>-44.810268</td><td>2.615609</td><td>null</td><td>9.116294</td></tr><tr><td>&quot;std&quot;</td><td>0.88415</td><td>0.733639</td><td>1.279516</td><td>1.037517</td><td>0.486574</td><td>1.092187</td><td>1.428284</td><td>0.523063</td><td>1.859616</td><td>0.038039</td><td>0.541237</td><td>6.046484</td><td>6.207598</td><td>343.956743</td><td>0.225124</td><td>0.786724</td><td>0.448153</td><td>0.898664</td><td>null</td><td>4.228159</td></tr><tr><td>&quot;min&quot;</td><td>-2.95</td><td>-2.56</td><td>-9.326163</td><td>-13.681389</td><td>-3.299011</td><td>-14.609828</td><td>-20.617553</td><td>-7.158099</td><td>-4.95</td><td>3.943333</td><td>0.76</td><td>30.4</td><td>26.8</td><td>4.0</td><td>-1.537</td><td>-114.369224</td><td>-140.804898</td><td>-76.964296</td><td>&quot;CH&quot;</td><td>1.0</td></tr><tr><td>&quot;25%&quot;</td><td>-0.86</td><td>0.16</td><td>-1.429878</td><td>-11.725938</td><td>4.931697</td><td>-1.198662</td><td>-17.977091</td><td>4.581821</td><td>-2.11</td><td>4.485833</td><td>5.54</td><td>84.6</td><td>84.8</td><td>2095.0</td><td>-0.061</td><td>-0.532809</td><td>-45.102457</td><td>2.026876</td><td>null</td><td>5.0</td></tr><tr><td>&quot;50%&quot;</td><td>-0.18</td><td>0.69</td><td>-0.92272</td><td>-11.052585</td><td>5.223882</td><td>-0.704404</td><td>-17.052257</td><td>4.902679</td><td>-1.49</td><td>4.51</td><td>5.84</td><td>89.9</td><td>90.1</td><td>2277.0</td><td>0.0</td><td>-0.003526</td><td>-44.804665</td><td>2.616726</td><td>null</td><td>11.0</td></tr><tr><td>&quot;75%&quot;</td><td>0.59</td><td>1.24</td><td>0.504602</td><td>-10.1606</td><td>5.528298</td><td>0.343897</td><td>-15.823139</td><td>5.241462</td><td>0.95</td><td>4.535833</td><td>6.14</td><td>93.8</td><td>94.0</td><td>2451.0</td><td>0.034</td><td>0.523934</td><td>-44.515526</td><td>3.207265</td><td>null</td><td>13.0</td></tr><tr><td>&quot;max&quot;</td><td>2.84</td><td>2.84</td><td>4.386514</td><td>-0.140021</td><td>9.172685</td><td>4.541119</td><td>-2.065677</td><td>9.883671</td><td>18.0</td><td>4.8075</td><td>8.11</td><td>105.1</td><td>107.7</td><td>3722.0</td><td>3.65</td><td>8.951553</td><td>-39.263614</td><td>13.698295</td><td>&quot;SV&quot;</td><td>14.0</td></tr></tbody></table></div>"
      ],
      "text/plain": [
       "shape: (9, 21)\n",
       "┌───────────┬───────────┬───────────┬───────────┬───┬───────────┬───────────┬───────────┬──────────┐\n",
       "│ statistic ┆ prev_pfx_ ┆ prev_pfx_ ┆ prev_x_0. ┆ … ┆ prev_y_pl ┆ prev_z_pl ┆ prev_pitc ┆ prev_zon │\n",
       "│ ---       ┆ x         ┆ z         ┆ 120       ┆   ┆ ate       ┆ ate       ┆ h_type    ┆ e        │\n",
       "│ str       ┆ ---       ┆ ---       ┆ ---       ┆   ┆ ---       ┆ ---       ┆ ---       ┆ ---      │\n",
       "│           ┆ f64       ┆ f64       ┆ f64       ┆   ┆ f64       ┆ f64       ┆ str       ┆ f64      │\n",
       "╞═══════════╪═══════════╪═══════════╪═══════════╪═══╪═══════════╪═══════════╪═══════════╪══════════╡\n",
       "│ count     ┆ 3.201603e ┆ 3.201614e ┆ 3.195158e ┆ … ┆ 3.195158e ┆ 3.195158e ┆ 3202778   ┆ 3.201622 │\n",
       "│           ┆ 6         ┆ 6         ┆ 6         ┆   ┆ 6         ┆ 6         ┆           ┆ e6       │\n",
       "│ null_coun ┆ 162386.0  ┆ 162375.0  ┆ 168831.0  ┆ … ┆ 168831.0  ┆ 168831.0  ┆ 161211    ┆ 162367.0 │\n",
       "│ t         ┆           ┆           ┆           ┆   ┆           ┆           ┆           ┆          │\n",
       "│ mean      ┆ -0.112982 ┆ 0.616293  ┆ -0.526653 ┆ … ┆ -44.81026 ┆ 2.615609  ┆ null      ┆ 9.116294 │\n",
       "│           ┆           ┆           ┆           ┆   ┆ 8         ┆           ┆           ┆          │\n",
       "│ std       ┆ 0.88415   ┆ 0.733639  ┆ 1.279516  ┆ … ┆ 0.448153  ┆ 0.898664  ┆ null      ┆ 4.228159 │\n",
       "│ min       ┆ -2.95     ┆ -2.56     ┆ -9.326163 ┆ … ┆ -140.8048 ┆ -76.96429 ┆ CH        ┆ 1.0      │\n",
       "│           ┆           ┆           ┆           ┆   ┆ 98        ┆ 6         ┆           ┆          │\n",
       "│ 25%       ┆ -0.86     ┆ 0.16      ┆ -1.429878 ┆ … ┆ -45.10245 ┆ 2.026876  ┆ null      ┆ 5.0      │\n",
       "│           ┆           ┆           ┆           ┆   ┆ 7         ┆           ┆           ┆          │\n",
       "│ 50%       ┆ -0.18     ┆ 0.69      ┆ -0.92272  ┆ … ┆ -44.80466 ┆ 2.616726  ┆ null      ┆ 11.0     │\n",
       "│           ┆           ┆           ┆           ┆   ┆ 5         ┆           ┆           ┆          │\n",
       "│ 75%       ┆ 0.59      ┆ 1.24      ┆ 0.504602  ┆ … ┆ -44.51552 ┆ 3.207265  ┆ null      ┆ 13.0     │\n",
       "│           ┆           ┆           ┆           ┆   ┆ 6         ┆           ┆           ┆          │\n",
       "│ max       ┆ 2.84      ┆ 2.84      ┆ 4.386514  ┆ … ┆ -39.26361 ┆ 13.698295 ┆ SV        ┆ 14.0     │\n",
       "│           ┆           ┆           ┆           ┆   ┆ 4         ┆           ┆           ┆          │\n",
       "└───────────┴───────────┴───────────┴───────────┴───┴───────────┴───────────┴───────────┴──────────┘"
      ]
     },
     "execution_count": 11,
     "metadata": {},
     "output_type": "execute_result"
    }
   ],
   "source": [
    "# features that we are interested in with regards to two pitch sequences\n",
    "prev_features = [\n",
    "    \"prev_pfx_x\",\n",
    "    \"prev_pfx_z\",\n",
    "    \"prev_x_0.120\",\n",
    "    \"prev_y_0.120\",\n",
    "    \"prev_z_0.120\",\n",
    "    \"prev_x_0.167\",\n",
    "    \"prev_y_0.167\",\n",
    "    \"prev_z_0.167\",\n",
    "    \"prev_release_pos_x\",\n",
    "    \"prev_release_pos_y\",\n",
    "    \"prev_release_pos_z\",\n",
    "    \"prev_release_speed\",\n",
    "    \"prev_effective_speed\",\n",
    "    \"prev_release_spin_rate\",\n",
    "    \"prev_delta_run_exp\",\n",
    "    \"prev_x_plate\",\n",
    "    \"prev_y_plate\",\n",
    "    \"prev_z_plate\",\n",
    "    \"prev_pitch_type\",\n",
    "    \"prev_zone\",\n",
    "]\n",
    "\n",
    "def two_pitch_sequences(lf: pl.LazyFrame, seq_features: list[str]) -> pl.LazyFrame:\n",
    "    # sort the data such that the pitches are in descending order\n",
    "    sort_cols = [\"pitcher\", \"game_date\", \"at_bat_number\", \"pitch_number\"]\n",
    "    sorted_lf = lf.sort(\n",
    "        by=sort_cols,\n",
    "        descending=[True] * len(sort_cols),\n",
    "    )\n",
    "\n",
    "    return (sorted_lf\n",
    "        .with_columns([\n",
    "            pl.col(feature)\n",
    "            .shift(-1)\n",
    "            .over([\"pitcher\", \"at_bat_number\"])\n",
    "            .alias(f\"prev_{feature}\")\n",
    "            for feature in [f.replace(\"prev_\", \"\") for f in seq_features]\n",
    "        ])\n",
    "        .select(*sort_cols + seq_features)\n",
    "        .join(other=lf, on=sort_cols, how=\"right\")\n",
    "    )\n",
    "\n",
    "sequence_pitches_lf = (ball_pos_lf\n",
    "                       .pipe(two_pitch_sequences, prev_features))\n",
    "\n",
    "(sequence_pitches_lf\n",
    "    .select(prev_features)\n",
    "    .describe())"
   ]
  },
  {
   "cell_type": "markdown",
   "metadata": {
    "id": "MLPzbmQxwXPt"
   },
   "source": [
    "## Adding 'diff' Features\n",
    "\n",
    "**New Features**\n",
    "\n",
    "For every feature in `prev_features`, we simply measure the difference in that feature between each pitch in a sequence. Each diff feature is its original name post fixed with 'diff'. Ex: `x_0.120_diff`, `y_0.120_diff` etc ..."
   ]
  },
  {
   "cell_type": "code",
   "execution_count": 12,
   "metadata": {
    "colab": {
     "base_uri": "https://localhost:8080/",
     "height": 396
    },
    "id": "fwPC6VhjwWXM",
    "outputId": "854cd394-cdf3-4efc-b5f5-6a44ee0ac670"
   },
   "outputs": [
    {
     "data": {
      "text/html": [
       "<div><style>\n",
       ".dataframe > thead > tr,\n",
       ".dataframe > tbody > tr {\n",
       "  text-align: right;\n",
       "  white-space: pre-wrap;\n",
       "}\n",
       "</style>\n",
       "<small>shape: (9, 20)</small><table border=\"1\" class=\"dataframe\"><thead><tr><th>statistic</th><th>release_spin_rate_diff</th><th>delta_run_exp_diff</th><th>release_speed_diff</th><th>y_plate_diff</th><th>release_pos_x_diff</th><th>z_0.120_diff</th><th>pfx_z_diff</th><th>effective_speed_diff</th><th>y_0.167_diff</th><th>z_0.167_diff</th><th>z_plate_diff</th><th>x_0.167_diff</th><th>release_pos_y_diff</th><th>release_pos_z_diff</th><th>x_plate_diff</th><th>x_0.120_diff</th><th>pfx_x_diff</th><th>zone_diff</th><th>y_0.120_diff</th></tr><tr><td>str</td><td>f64</td><td>f64</td><td>f64</td><td>f64</td><td>f64</td><td>f64</td><td>f64</td><td>f64</td><td>f64</td><td>f64</td><td>f64</td><td>f64</td><td>f64</td><td>f64</td><td>f64</td><td>f64</td><td>f64</td><td>f64</td><td>f64</td></tr></thead><tbody><tr><td>&quot;count&quot;</td><td>3.15801e6</td><td>3.267695e6</td><td>3.180986e6</td><td>3.172503e6</td><td>3.180734e6</td><td>3.172503e6</td><td>3.180979e6</td><td>3.171022e6</td><td>3.172503e6</td><td>3.172503e6</td><td>3.172503e6</td><td>3.172503e6</td><td>3.180734e6</td><td>3.180734e6</td><td>3.172503e6</td><td>3.172503e6</td><td>3.180962e6</td><td>3.18099e6</td><td>3.172503e6</td></tr><tr><td>&quot;null_count&quot;</td><td>205979.0</td><td>96294.0</td><td>183003.0</td><td>191486.0</td><td>183255.0</td><td>191486.0</td><td>183010.0</td><td>192967.0</td><td>191486.0</td><td>191486.0</td><td>191486.0</td><td>191486.0</td><td>183255.0</td><td>183255.0</td><td>191486.0</td><td>191486.0</td><td>183027.0</td><td>182999.0</td><td>191486.0</td></tr><tr><td>&quot;mean&quot;</td><td>-0.785359</td><td>0.001073</td><td>0.00483</td><td>0.000309</td><td>0.000532</td><td>-0.001319</td><td>-0.00117</td><td>0.006805</td><td>-0.001378</td><td>-0.001324</td><td>-0.001365</td><td>0.000355</td><td>-0.00006</td><td>-0.001495</td><td>-0.000178</td><td>0.00042</td><td>-0.000588</td><td>-0.030902</td><td>-0.001016</td></tr><tr><td>&quot;std&quot;</td><td>374.626336</td><td>0.326711</td><td>7.321575</td><td>0.285273</td><td>0.225699</td><td>0.427907</td><td>0.944921</td><td>7.430289</td><td>1.72502</td><td>0.55756</td><td>1.209382</td><td>0.514475</td><td>0.017783</td><td>0.161717</td><td>1.028251</td><td>0.415669</td><td>1.024415</td><td>5.951663</td><td>1.252075</td></tr><tr><td>&quot;min&quot;</td><td>-3179.0</td><td>-3.852</td><td>-58.0</td><td>-12.429186</td><td>-15.72</td><td>-3.887295</td><td>-4.13</td><td>-63.0</td><td>-14.847905</td><td>-4.444609</td><td>-11.666142</td><td>-3.502727</td><td>-0.58</td><td>-5.49</td><td>-9.390767</td><td>-3.168973</td><td>-4.57</td><td>-13.0</td><td>-10.759134</td></tr><tr><td>&quot;25%&quot;</td><td>-139.0</td><td>-0.099</td><td>-4.3</td><td>-0.168959</td><td>-0.12</td><td>-0.271596</td><td>-0.44</td><td>-4.2</td><td>-0.993614</td><td>-0.356329</td><td>-0.791021</td><td>-0.333974</td><td>-0.01</td><td>-0.08</td><td>-0.681569</td><td>-0.266368</td><td>-0.48</td><td>-4.0</td><td>-0.722503</td></tr><tr><td>&quot;50%&quot;</td><td>1.0</td><td>0.0</td><td>0.0</td><td>0.0</td><td>0.0</td><td>0.0</td><td>0.0</td><td>0.0</td><td>-0.007322</td><td>0.0</td><td>0.0</td><td>0.0</td><td>0.0</td><td>0.0</td><td>0.0</td><td>0.0</td><td>0.0</td><td>0.0</td><td>-0.005474</td></tr><tr><td>&quot;75%&quot;</td><td>138.0</td><td>0.09</td><td>4.2</td><td>0.170464</td><td>0.12</td><td>0.268931</td><td>0.44</td><td>4.2</td><td>0.995253</td><td>0.353631</td><td>0.782929</td><td>0.335031</td><td>0.01</td><td>0.08</td><td>0.681667</td><td>0.267652</td><td>0.48</td><td>4.0</td><td>0.72383</td></tr><tr><td>&quot;max&quot;</td><td>3151.0</td><td>3.887</td><td>60.6</td><td>96.997189</td><td>15.77</td><td>8.330738</td><td>5.36</td><td>63.1</td><td>14.70033</td><td>11.943277</td><td>80.325952</td><td>15.980613</td><td>0.579167</td><td>3.94</td><td>114.666849</td><td>11.003514</td><td>4.49</td><td>13.0</td><td>10.684132</td></tr></tbody></table></div>"
      ],
      "text/plain": [
       "shape: (9, 20)\n",
       "┌───────────┬───────────┬───────────┬───────────┬───┬───────────┬───────────┬───────────┬──────────┐\n",
       "│ statistic ┆ release_s ┆ delta_run ┆ release_s ┆ … ┆ x_0.120_d ┆ pfx_x_dif ┆ zone_diff ┆ y_0.120_ │\n",
       "│ ---       ┆ pin_rate_ ┆ _exp_diff ┆ peed_diff ┆   ┆ iff       ┆ f         ┆ ---       ┆ diff     │\n",
       "│ str       ┆ diff      ┆ ---       ┆ ---       ┆   ┆ ---       ┆ ---       ┆ f64       ┆ ---      │\n",
       "│           ┆ ---       ┆ f64       ┆ f64       ┆   ┆ f64       ┆ f64       ┆           ┆ f64      │\n",
       "│           ┆ f64       ┆           ┆           ┆   ┆           ┆           ┆           ┆          │\n",
       "╞═══════════╪═══════════╪═══════════╪═══════════╪═══╪═══════════╪═══════════╪═══════════╪══════════╡\n",
       "│ count     ┆ 3.15801e6 ┆ 3.267695e ┆ 3.180986e ┆ … ┆ 3.172503e ┆ 3.180962e ┆ 3.18099e6 ┆ 3.172503 │\n",
       "│           ┆           ┆ 6         ┆ 6         ┆   ┆ 6         ┆ 6         ┆           ┆ e6       │\n",
       "│ null_coun ┆ 205979.0  ┆ 96294.0   ┆ 183003.0  ┆ … ┆ 191486.0  ┆ 183027.0  ┆ 182999.0  ┆ 191486.0 │\n",
       "│ t         ┆           ┆           ┆           ┆   ┆           ┆           ┆           ┆          │\n",
       "│ mean      ┆ -0.785359 ┆ 0.001073  ┆ 0.00483   ┆ … ┆ 0.00042   ┆ -0.000588 ┆ -0.030902 ┆ -0.00101 │\n",
       "│           ┆           ┆           ┆           ┆   ┆           ┆           ┆           ┆ 6        │\n",
       "│ std       ┆ 374.62633 ┆ 0.326711  ┆ 7.321575  ┆ … ┆ 0.415669  ┆ 1.024415  ┆ 5.951663  ┆ 1.252075 │\n",
       "│           ┆ 6         ┆           ┆           ┆   ┆           ┆           ┆           ┆          │\n",
       "│ min       ┆ -3179.0   ┆ -3.852    ┆ -58.0     ┆ … ┆ -3.168973 ┆ -4.57     ┆ -13.0     ┆ -10.7591 │\n",
       "│           ┆           ┆           ┆           ┆   ┆           ┆           ┆           ┆ 34       │\n",
       "│ 25%       ┆ -139.0    ┆ -0.099    ┆ -4.3      ┆ … ┆ -0.266368 ┆ -0.48     ┆ -4.0      ┆ -0.72250 │\n",
       "│           ┆           ┆           ┆           ┆   ┆           ┆           ┆           ┆ 3        │\n",
       "│ 50%       ┆ 1.0       ┆ 0.0       ┆ 0.0       ┆ … ┆ 0.0       ┆ 0.0       ┆ 0.0       ┆ -0.00547 │\n",
       "│           ┆           ┆           ┆           ┆   ┆           ┆           ┆           ┆ 4        │\n",
       "│ 75%       ┆ 138.0     ┆ 0.09      ┆ 4.2       ┆ … ┆ 0.267652  ┆ 0.48      ┆ 4.0       ┆ 0.72383  │\n",
       "│ max       ┆ 3151.0    ┆ 3.887     ┆ 60.6      ┆ … ┆ 11.003514 ┆ 4.49      ┆ 13.0      ┆ 10.68413 │\n",
       "│           ┆           ┆           ┆           ┆   ┆           ┆           ┆           ┆ 2        │\n",
       "└───────────┴───────────┴───────────┴───────────┴───┴───────────┴───────────┴───────────┴──────────┘"
      ]
     },
     "execution_count": 12,
     "metadata": {},
     "output_type": "execute_result"
    }
   ],
   "source": [
    "def add_diff_features(lf: pl.LazyFrame, seq_features: list[str]) -> pl.LazyFrame:\n",
    "    num_seq_features = set(lf\n",
    "                           .select(seq_features)\n",
    "                           .select(cs.numeric())\n",
    "                           .collect_schema()\n",
    "                           .names())\n",
    "\n",
    "    return lf.with_columns(\n",
    "        (pl.col(feature.replace(\"prev_\", \"\"))\n",
    "        - pl.col(feature)).alias(f\"{feature.replace('prev_', '')}_diff\")\n",
    "        for feature in num_seq_features\n",
    "    )\n",
    "\n",
    "sequence_diff_pitches_lf = sequence_pitches_lf.pipe(add_diff_features, prev_features)\n",
    "\n",
    "diff_features = [\n",
    "    col for col in (sequence_diff_pitches_lf\n",
    "                    .collect_schema().names())\n",
    "    if col.endswith(\"_diff\")\n",
    "]\n",
    "\n",
    "(sequence_diff_pitches_lf\n",
    "    .select(*diff_features)\n",
    "    .describe())"
   ]
  },
  {
   "cell_type": "markdown",
   "metadata": {
    "id": "J_cYfhl8UdIe"
   },
   "source": [
    "## 3D distance features\n",
    "\n",
    "Using the euclidean distance function from earlier, I can create features that represent the distance between a pitch, and the previous pitch thrown in any given two pitch sequence."
   ]
  },
  {
   "cell_type": "code",
   "execution_count": 13,
   "metadata": {
    "colab": {
     "base_uri": "https://localhost:8080/",
     "height": 376
    },
    "id": "jUeiZ_cpCA_4",
    "outputId": "3df0fb48-1be1-49f6-8208-e0efaec6a7b0"
   },
   "outputs": [
    {
     "data": {
      "text/html": [
       "<div><style>\n",
       ".dataframe > thead > tr,\n",
       ".dataframe > tbody > tr {\n",
       "  text-align: right;\n",
       "  white-space: pre-wrap;\n",
       "}\n",
       "</style>\n",
       "<small>shape: (9, 5)</small><table border=\"1\" class=\"dataframe\"><thead><tr><th>statistic</th><th>3d_dist_0.120</th><th>3d_dist_0.167</th><th>3d_dist_plate</th><th>3d_dist_release</th></tr><tr><td>str</td><td>f64</td><td>f64</td><td>f64</td><td>f64</td></tr></thead><tbody><tr><td>&quot;count&quot;</td><td>3.172503e6</td><td>3.172503e6</td><td>3.172503e6</td><td>3.180734e6</td></tr><tr><td>&quot;null_count&quot;</td><td>191486.0</td><td>191486.0</td><td>191486.0</td><td>183255.0</td></tr><tr><td>&quot;mean&quot;</td><td>1.143968</td><td>1.547879</td><td>1.413035</td><td>0.214067</td></tr><tr><td>&quot;std&quot;</td><td>0.784165</td><td>1.074861</td><td>0.777573</td><td>0.177726</td></tr><tr><td>&quot;min&quot;</td><td>0.0</td><td>0.0</td><td>0.0</td><td>0.0</td></tr><tr><td>&quot;25%&quot;</td><td>0.483049</td><td>0.640718</td><td>0.842031</td><td>0.099121</td></tr><tr><td>&quot;50%&quot;</td><td>0.963307</td><td>1.289585</td><td>1.29343</td><td>0.170002</td></tr><tr><td>&quot;75%&quot;</td><td>1.68196</td><td>2.289395</td><td>1.852381</td><td>0.277849</td></tr><tr><td>&quot;max&quot;</td><td>14.615147</td><td>20.706427</td><td>170.320872</td><td>15.812621</td></tr></tbody></table></div>"
      ],
      "text/plain": [
       "shape: (9, 5)\n",
       "┌────────────┬───────────────┬───────────────┬───────────────┬─────────────────┐\n",
       "│ statistic  ┆ 3d_dist_0.120 ┆ 3d_dist_0.167 ┆ 3d_dist_plate ┆ 3d_dist_release │\n",
       "│ ---        ┆ ---           ┆ ---           ┆ ---           ┆ ---             │\n",
       "│ str        ┆ f64           ┆ f64           ┆ f64           ┆ f64             │\n",
       "╞════════════╪═══════════════╪═══════════════╪═══════════════╪═════════════════╡\n",
       "│ count      ┆ 3.172503e6    ┆ 3.172503e6    ┆ 3.172503e6    ┆ 3.180734e6      │\n",
       "│ null_count ┆ 191486.0      ┆ 191486.0      ┆ 191486.0      ┆ 183255.0        │\n",
       "│ mean       ┆ 1.143968      ┆ 1.547879      ┆ 1.413035      ┆ 0.214067        │\n",
       "│ std        ┆ 0.784165      ┆ 1.074861      ┆ 0.777573      ┆ 0.177726        │\n",
       "│ min        ┆ 0.0           ┆ 0.0           ┆ 0.0           ┆ 0.0             │\n",
       "│ 25%        ┆ 0.483049      ┆ 0.640718      ┆ 0.842031      ┆ 0.099121        │\n",
       "│ 50%        ┆ 0.963307      ┆ 1.289585      ┆ 1.29343       ┆ 0.170002        │\n",
       "│ 75%        ┆ 1.68196       ┆ 2.289395      ┆ 1.852381      ┆ 0.277849        │\n",
       "│ max        ┆ 14.615147     ┆ 20.706427     ┆ 170.320872    ┆ 15.812621       │\n",
       "└────────────┴───────────────┴───────────────┴───────────────┴─────────────────┘"
      ]
     },
     "execution_count": 13,
     "metadata": {},
     "output_type": "execute_result"
    }
   ],
   "source": [
    "def add_3D_distances(lf: pl.LazyFrame, times: list[float]) -> pl.LazyFrame:\n",
    "    return lf.with_columns(\n",
    "        # distance over the plate\n",
    "        euclidean_distance(\n",
    "            *[(pl.col(f\"{d}_plate\"), pl.col(f\"prev_{d}_plate\"))\n",
    "              for d in [\"x\", \"y\", \"z\"]]\n",
    "        ).alias(\"3d_dist_plate\"),\n",
    "\n",
    "        # distance at release\n",
    "        euclidean_distance(\n",
    "            *[(pl.col(f\"release_pos_{d}\"), pl.col(f\"prev_release_pos_{d}\"))\n",
    "              for d in [\"x\", \"y\", \"z\"]]\n",
    "        ).alias(\"3d_dist_release\"),\n",
    "\n",
    "        # distances at given times after release\n",
    "        *[euclidean_distance(\n",
    "            *[(pl.col(f\"{d}_{t:.3f}\"), pl.col(f\"prev_{d}_{t:.3f}\"))\n",
    "             for d in [\"x\", \"y\", \"z\"]]\n",
    "        ).alias(f\"3d_dist_{t:.3f}\")\n",
    "        for t in times]\n",
    "    )\n",
    "\n",
    "sequence_dist_pitches_lf = sequence_diff_pitches_lf.pipe(add_3D_distances, TIMES)\n",
    "\n",
    "(sequence_dist_pitches_lf\n",
    "    .select(\"3d_dist_0.120\", \"3d_dist_0.167\",\n",
    "            \"3d_dist_plate\", \"3d_dist_release\")\n",
    "    .describe())"
   ]
  },
  {
   "cell_type": "markdown",
   "metadata": {
    "id": "0hvKsR72Qw2P"
   },
   "source": [
    "# Serializing the LazyFrame w/ Features\n",
    "\n",
    "This will allow me to pick up at this point in a new notebook if I want to"
   ]
  },
  {
   "cell_type": "code",
   "execution_count": 14,
   "metadata": {
    "id": "DgaPtBF7Qw2P"
   },
   "outputs": [],
   "source": [
    "sequence_dist_pitches_lf.serialize(\n",
    "    os.path.join(DATA_DIR, \"two_pitch_seqs_lf\")\n",
    ")\n",
    "\n",
    "ball_pos_lf.serialize(\n",
    "    os.path.join(DATA_DIR, \"ball_pos_lf\")\n",
    ")"
   ]
  },
  {
   "cell_type": "markdown",
   "metadata": {},
   "source": [
    "## Pre Processing\n"
   ]
  },
  {
   "cell_type": "code",
   "execution_count": 15,
   "metadata": {},
   "outputs": [
    {
     "data": {
      "text/html": [
       "<div><style>\n",
       ".dataframe > thead > tr,\n",
       ".dataframe > tbody > tr {\n",
       "  text-align: right;\n",
       "  white-space: pre-wrap;\n",
       "}\n",
       "</style>\n",
       "<small>shape: (9, 73)</small><table border=\"1\" class=\"dataframe\"><thead><tr><th>statistic</th><th>game_date</th><th>release_speed</th><th>release_pos_x</th><th>release_pos_y</th><th>release_pos_z</th><th>3d_dist_plate</th><th>3d_dist_release</th><th>3d_dist_0.120</th><th>3d_dist_0.167</th><th>ax</th><th>ay</th><th>az</th><th>vx0</th><th>vy0</th><th>vz0</th><th>x50</th><th>y50</th><th>z50</th><th>plate_x</th><th>plate_z</th><th>x_plate</th><th>y_plate</th><th>z_plate</th><th>x_0.120</th><th>y_0.120</th><th>z_0.120</th><th>x_0.167</th><th>y_0.167</th><th>z_0.167</th><th>pitch_type</th><th>zone</th><th>delta_run_exp</th><th>prev_pfx_x</th><th>prev_pfx_z</th><th>prev_x_0.120</th><th>prev_y_0.120</th><th>prev_z_0.120</th><th>prev_x_0.167</th><th>prev_y_0.167</th><th>prev_z_0.167</th><th>prev_release_pos_x</th><th>prev_release_pos_y</th><th>prev_release_pos_z</th><th>prev_release_speed</th><th>prev_effective_speed</th><th>prev_release_spin_rate</th><th>prev_delta_run_exp</th><th>prev_x_plate</th><th>prev_y_plate</th><th>prev_z_plate</th><th>prev_pitch_type</th><th>prev_zone</th><th>release_spin_rate_diff</th><th>delta_run_exp_diff</th><th>release_speed_diff</th><th>y_plate_diff</th><th>release_pos_x_diff</th><th>z_0.120_diff</th><th>pfx_z_diff</th><th>effective_speed_diff</th><th>y_0.167_diff</th><th>z_0.167_diff</th><th>z_plate_diff</th><th>x_0.167_diff</th><th>release_pos_y_diff</th><th>release_pos_z_diff</th><th>x_plate_diff</th><th>x_0.120_diff</th><th>pfx_x_diff</th><th>zone_diff</th><th>y_0.120_diff</th><th>seq_delta_run_exp</th></tr><tr><td>str</td><td>str</td><td>f64</td><td>f64</td><td>f64</td><td>f64</td><td>f64</td><td>f64</td><td>f64</td><td>f64</td><td>f64</td><td>f64</td><td>f64</td><td>f64</td><td>f64</td><td>f64</td><td>f64</td><td>f64</td><td>f64</td><td>f64</td><td>f64</td><td>f64</td><td>f64</td><td>f64</td><td>f64</td><td>f64</td><td>f64</td><td>f64</td><td>f64</td><td>f64</td><td>str</td><td>f64</td><td>f64</td><td>f64</td><td>f64</td><td>f64</td><td>f64</td><td>f64</td><td>f64</td><td>f64</td><td>f64</td><td>f64</td><td>f64</td><td>f64</td><td>f64</td><td>f64</td><td>f64</td><td>f64</td><td>f64</td><td>f64</td><td>f64</td><td>str</td><td>f64</td><td>f64</td><td>f64</td><td>f64</td><td>f64</td><td>f64</td><td>f64</td><td>f64</td><td>f64</td><td>f64</td><td>f64</td><td>f64</td><td>f64</td><td>f64</td><td>f64</td><td>f64</td><td>f64</td><td>f64</td><td>f64</td><td>f64</td><td>f64</td></tr></thead><tbody><tr><td>&quot;count&quot;</td><td>&quot;3154584&quot;</td><td>3.154584e6</td><td>3.154584e6</td><td>3.154584e6</td><td>3.154584e6</td><td>3.154584e6</td><td>3.154584e6</td><td>3.154584e6</td><td>3.154584e6</td><td>3.154584e6</td><td>3.154584e6</td><td>3.154584e6</td><td>3.154584e6</td><td>3.154584e6</td><td>3.154584e6</td><td>3.154584e6</td><td>3.154584e6</td><td>3.154584e6</td><td>3.154584e6</td><td>3.154584e6</td><td>3.154584e6</td><td>3.154584e6</td><td>3.154584e6</td><td>3.154584e6</td><td>3.154584e6</td><td>3.154584e6</td><td>3.154584e6</td><td>3.154584e6</td><td>3.154584e6</td><td>&quot;3154584&quot;</td><td>3.154584e6</td><td>3.154584e6</td><td>3.154584e6</td><td>3.154584e6</td><td>3.154584e6</td><td>3.154584e6</td><td>3.154584e6</td><td>3.154584e6</td><td>3.154584e6</td><td>3.154584e6</td><td>3.154584e6</td><td>3.154584e6</td><td>3.154584e6</td><td>3.154584e6</td><td>3.154584e6</td><td>3.154584e6</td><td>3.154584e6</td><td>3.154584e6</td><td>3.154584e6</td><td>3.154584e6</td><td>&quot;3154584&quot;</td><td>3.154584e6</td><td>3.154584e6</td><td>3.154584e6</td><td>3.154584e6</td><td>3.154584e6</td><td>3.154584e6</td><td>3.154584e6</td><td>3.154584e6</td><td>3.154584e6</td><td>3.154584e6</td><td>3.154584e6</td><td>3.154584e6</td><td>3.154584e6</td><td>3.154584e6</td><td>3.154584e6</td><td>3.154584e6</td><td>3.154584e6</td><td>3.154584e6</td><td>3.154584e6</td><td>3.154584e6</td><td>3.154584e6</td></tr><tr><td>&quot;null_count&quot;</td><td>&quot;0&quot;</td><td>0.0</td><td>0.0</td><td>0.0</td><td>0.0</td><td>0.0</td><td>0.0</td><td>0.0</td><td>0.0</td><td>0.0</td><td>0.0</td><td>0.0</td><td>0.0</td><td>0.0</td><td>0.0</td><td>0.0</td><td>0.0</td><td>0.0</td><td>0.0</td><td>0.0</td><td>0.0</td><td>0.0</td><td>0.0</td><td>0.0</td><td>0.0</td><td>0.0</td><td>0.0</td><td>0.0</td><td>0.0</td><td>&quot;0&quot;</td><td>0.0</td><td>0.0</td><td>0.0</td><td>0.0</td><td>0.0</td><td>0.0</td><td>0.0</td><td>0.0</td><td>0.0</td><td>0.0</td><td>0.0</td><td>0.0</td><td>0.0</td><td>0.0</td><td>0.0</td><td>0.0</td><td>0.0</td><td>0.0</td><td>0.0</td><td>0.0</td><td>&quot;0&quot;</td><td>0.0</td><td>0.0</td><td>0.0</td><td>0.0</td><td>0.0</td><td>0.0</td><td>0.0</td><td>0.0</td><td>0.0</td><td>0.0</td><td>0.0</td><td>0.0</td><td>0.0</td><td>0.0</td><td>0.0</td><td>0.0</td><td>0.0</td><td>0.0</td><td>0.0</td><td>0.0</td><td>0.0</td></tr><tr><td>&quot;mean&quot;</td><td>&quot;2022-10-30 16:58:48.652399&quot;</td><td>88.970372</td><td>-0.801127</td><td>4.51025</td><td>5.801457</td><td>1.412962</td><td>0.213948</td><td>1.143867</td><td>1.54775</td><td>-2.17867</td><td>26.883705</td><td>-23.805468</td><td>2.373742</td><td>-129.401193</td><td>-3.895177</td><td>-0.733502</td><td>0.628503</td><td>5.676211</td><td>0.044478</td><td>2.2806</td><td>-0.004602</td><td>-44.809408</td><td>2.614128</td><td>-0.526578</td><td>-10.896363</td><td>5.227878</td><td>-0.426997</td><td>-16.834737</td><td>4.918964</td><td>null</td><td>9.093413</td><td>-0.000009</td><td>-0.113232</td><td>0.616653</td><td>-0.526981</td><td>-10.895335</td><td>5.229209</td><td>-0.427332</td><td>-16.83334</td><td>4.920307</td><td>-0.801656</td><td>4.510309</td><td>5.802946</td><td>88.965218</td><td>89.102683</td><td>2250.012182</td><td>-0.001263</td><td>-0.004366</td><td>-44.809655</td><td>2.615555</td><td>null</td><td>9.125033</td><td>-0.792291</td><td>0.001254</td><td>0.005154</td><td>0.000247</td><td>0.000529</td><td>-0.001331</td><td>-0.001157</td><td>0.006872</td><td>-0.001397</td><td>-0.001343</td><td>-0.001427</td><td>0.000335</td><td>-0.000059</td><td>-0.001489</td><td>-0.000235</td><td>0.000402</td><td>-0.000617</td><td>-0.03162</td><td>-0.001028</td><td>-0.001272</td></tr><tr><td>&quot;std&quot;</td><td>null</td><td>6.032485</td><td>1.857807</td><td>0.038017</td><td>0.540158</td><td>0.771668</td><td>0.176802</td><td>0.784099</td><td>1.074762</td><td>10.732555</td><td>4.004844</td><td>8.892772</td><td>5.80265</td><td>8.733325</td><td>3.052229</td><td>1.704272</td><td>0.391713</td><td>0.50201</td><td>0.840842</td><td>0.974851</td><td>0.780723</td><td>0.444191</td><td>0.894293</td><td>1.278128</td><td>1.03513</td><td>0.484545</td><td>1.090647</td><td>1.425001</td><td>0.520374</td><td>null</td><td>4.228238</td><td>0.24061</td><td>0.883767</td><td>0.733773</td><td>1.278864</td><td>1.037452</td><td>0.48601</td><td>1.091673</td><td>1.428189</td><td>0.522907</td><td>1.858343</td><td>0.038064</td><td>0.539805</td><td>6.045718</td><td>6.207473</td><td>343.867108</td><td>0.224751</td><td>0.78494</td><td>0.444633</td><td>0.898871</td><td>null</td><td>4.22814</td><td>374.640646</td><td>0.328446</td><td>7.320774</td><td>0.279478</td><td>0.224941</td><td>0.427918</td><td>0.945002</td><td>7.429659</td><td>1.724888</td><td>0.557574</td><td>1.208652</td><td>0.514311</td><td>0.017705</td><td>0.161612</td><td>1.02615</td><td>0.415541</td><td>1.024025</td><td>5.951744</td><td>1.251979</td><td>0.330054</td></tr><tr><td>&quot;min&quot;</td><td>&quot;2020-07-23 00:00:00&quot;</td><td>31.1</td><td>-4.95</td><td>4.030833</td><td>0.76</td><td>0.0</td><td>0.0</td><td>0.0</td><td>0.0</td><td>-35.423968</td><td>-19.370976</td><td>-51.301206</td><td>-20.9275</td><td>-153.07888</td><td>-23.653902</td><td>-4.760504</td><td>-2.449655</td><td>1.036836</td><td>-8.66</td><td>-7.65</td><td>-8.131567</td><td>-48.949289</td><td>-6.206166</td><td>-4.542197</td><td>-13.681389</td><td>1.315128</td><td>-4.556307</td><td>-20.63631</td><td>1.222144</td><td>&quot;CH&quot;</td><td>1.0</td><td>-1.537</td><td>-2.95</td><td>-2.14</td><td>-4.542197</td><td>-13.681389</td><td>1.315128</td><td>-4.556307</td><td>-20.617553</td><td>1.222144</td><td>-4.95</td><td>4.030833</td><td>0.76</td><td>31.1</td><td>27.9</td><td>4.0</td><td>-1.537</td><td>-8.131567</td><td>-48.949289</td><td>-6.206166</td><td>&quot;CH&quot;</td><td>1.0</td><td>-3179.0</td><td>-3.852</td><td>-50.5</td><td>-5.709454</td><td>-4.56</td><td>-3.777252</td><td>-4.13</td><td>-53.3</td><td>-14.847905</td><td>-4.444609</td><td>-11.666142</td><td>-3.502727</td><td>-0.490833</td><td>-4.19</td><td>-9.390767</td><td>-3.168973</td><td>-4.57</td><td>-13.0</td><td>-10.759134</td><td>-2.166</td></tr><tr><td>&quot;25%&quot;</td><td>&quot;2021-08-22 00:00:00&quot;</td><td>84.7</td><td>-2.11</td><td>4.485</td><td>5.54</td><td>0.842013</td><td>0.099083</td><td>0.482979</td><td>0.640642</td><td>-11.279772</td><td>23.884811</td><td>-30.189198</td><td>-2.017856</td><td>-136.428983</td><td>-5.946443</td><td>-1.936178</td><td>0.385535</td><td>5.421488</td><td>-0.52</td><td>1.64</td><td>-0.529432</td><td>-45.101429</td><td>2.028877</td><td>-1.428733</td><td>-11.726229</td><td>4.93178</td><td>-1.197397</td><td>-17.977466</td><td>4.582478</td><td>null</td><td>5.0</td><td>-0.066</td><td>-0.86</td><td>0.16</td><td>-1.429722</td><td>-11.72632</td><td>4.931784</td><td>-1.198572</td><td>-17.97758</td><td>4.581695</td><td>-2.11</td><td>4.485</td><td>5.54</td><td>84.6</td><td>84.8</td><td>2095.0</td><td>-0.061</td><td>-0.53346</td><td>-45.101821</td><td>2.025451</td><td>null</td><td>5.0</td><td>-139.0</td><td>-0.101</td><td>-4.3</td><td>-0.168908</td><td>-0.12</td><td>-0.271644</td><td>-0.44</td><td>-4.2</td><td>-0.993267</td><td>-0.356407</td><td>-0.791251</td><td>-0.333941</td><td>-0.01</td><td>-0.08</td><td>-0.681493</td><td>-0.266337</td><td>-0.48</td><td>-4.0</td><td>-0.722265</td><td>-0.148</td></tr><tr><td>&quot;50%&quot;</td><td>&quot;2022-09-11 00:00:00&quot;</td><td>89.8</td><td>-1.49</td><td>4.509167</td><td>5.84</td><td>1.293456</td><td>0.169953</td><td>0.963182</td><td>1.289416</td><td>-2.191397</td><td>26.769554</td><td>-23.780959</td><td>4.007171</td><td>-130.674381</td><td>-3.998085</td><td>-1.354148</td><td>0.645304</td><td>5.70843</td><td>0.04</td><td>2.29</td><td>-0.004007</td><td>-44.803835</td><td>2.615022</td><td>-0.92243</td><td>-11.049937</td><td>5.223085</td><td>-0.704499</td><td>-17.048693</td><td>4.901982</td><td>null</td><td>11.0</td><td>0.0</td><td>-0.18</td><td>0.69</td><td>-0.922721</td><td>-11.053209</td><td>5.223966</td><td>-0.704278</td><td>-17.053083</td><td>4.902721</td><td>-1.49</td><td>4.51</td><td>5.84</td><td>89.9</td><td>90.1</td><td>2277.0</td><td>0.0</td><td>-0.0032</td><td>-44.804113</td><td>2.616631</td><td>null</td><td>11.0</td><td>1.0</td><td>0.0</td><td>0.0</td><td>0.0</td><td>0.0</td><td>0.0</td><td>0.0</td><td>0.0</td><td>-0.007303</td><td>0.0</td><td>0.0</td><td>0.0</td><td>0.0</td><td>0.0</td><td>0.0</td><td>0.0</td><td>0.0</td><td>0.0</td><td>-0.005458</td><td>-0.019</td></tr><tr><td>&quot;75%&quot;</td><td>&quot;2023-09-22 00:00:00&quot;</td><td>93.8</td><td>0.94</td><td>4.535833</td><td>6.13</td><td>1.852419</td><td>0.277629</td><td>1.681784</td><td>2.289148</td><td>6.136701</td><td>29.853173</td><td>-15.996417</td><td>6.584456</td><td>-123.1867</td><td>-1.96329</td><td>0.836618</td><td>0.901648</td><td>5.985333</td><td>0.61</td><td>2.93</td><td>0.520535</td><td>-44.515111</td><td>3.202675</td><td>0.501905</td><td>-10.162973</td><td>5.526372</td><td>0.342403</td><td>-15.826413</td><td>5.238926</td><td>null</td><td>13.0</td><td>0.036</td><td>0.59</td><td>1.24</td><td>0.50228</td><td>-10.161068</td><td>5.528434</td><td>0.342204</td><td>-15.823775</td><td>5.241725</td><td>0.94</td><td>4.535833</td><td>6.14</td><td>93.8</td><td>94.0</td><td>2451.0</td><td>0.035</td><td>0.525074</td><td>-44.515115</td><td>3.208462</td><td>null</td><td>13.0</td><td>138.0</td><td>0.091</td><td>4.2</td><td>0.170361</td><td>0.12</td><td>0.268978</td><td>0.44</td><td>4.2</td><td>0.99509</td><td>0.353683</td><td>0.783037</td><td>0.334981</td><td>0.01</td><td>0.08</td><td>0.681583</td><td>0.267572</td><td>0.48</td><td>4.0</td><td>0.723699</td><td>0.045</td></tr><tr><td>&quot;max&quot;</td><td>&quot;2024-10-30 00:00:00&quot;</td><td>105.5</td><td>4.75</td><td>4.8075</td><td>8.11</td><td>13.616653</td><td>4.709685</td><td>11.017295</td><td>15.136046</td><td>31.73382</td><td>100.050198</td><td>2.247265</td><td>24.111797</td><td>-42.52358</td><td>20.09525</td><td>4.521722</td><td>5.5406</td><td>9.258291</td><td>10.2</td><td>13.58</td><td>8.951553</td><td>-39.345836</td><td>13.698295</td><td>4.386514</td><td>-0.326078</td><td>8.93593</td><td>4.541119</td><td>-2.325017</td><td>9.526448</td><td>&quot;SV&quot;</td><td>14.0</td><td>3.65</td><td>2.84</td><td>2.8</td><td>4.386514</td><td>-0.326078</td><td>9.172685</td><td>4.541119</td><td>-2.325017</td><td>9.883671</td><td>4.75</td><td>4.8075</td><td>8.11</td><td>105.1</td><td>107.1</td><td>3722.0</td><td>3.65</td><td>8.951553</td><td>-39.263614</td><td>13.698295</td><td>&quot;SV&quot;</td><td>14.0</td><td>3151.0</td><td>3.887</td><td>60.6</td><td>5.62397</td><td>4.67</td><td>3.942289</td><td>3.85</td><td>63.1</td><td>12.493472</td><td>5.211208</td><td>12.003925</td><td>4.026007</td><td>0.5</td><td>3.94</td><td>10.282768</td><td>2.995234</td><td>4.49</td><td>13.0</td><td>9.041928</td><td>6.561</td></tr></tbody></table></div>"
      ],
      "text/plain": [
       "shape: (9, 73)\n",
       "┌───────────┬───────────┬───────────┬───────────┬───┬───────────┬───────────┬───────────┬──────────┐\n",
       "│ statistic ┆ game_date ┆ release_s ┆ release_p ┆ … ┆ pfx_x_dif ┆ zone_diff ┆ y_0.120_d ┆ seq_delt │\n",
       "│ ---       ┆ ---       ┆ peed      ┆ os_x      ┆   ┆ f         ┆ ---       ┆ iff       ┆ a_run_ex │\n",
       "│ str       ┆ str       ┆ ---       ┆ ---       ┆   ┆ ---       ┆ f64       ┆ ---       ┆ p        │\n",
       "│           ┆           ┆ f64       ┆ f64       ┆   ┆ f64       ┆           ┆ f64       ┆ ---      │\n",
       "│           ┆           ┆           ┆           ┆   ┆           ┆           ┆           ┆ f64      │\n",
       "╞═══════════╪═══════════╪═══════════╪═══════════╪═══╪═══════════╪═══════════╪═══════════╪══════════╡\n",
       "│ count     ┆ 3154584   ┆ 3.154584e ┆ 3.154584e ┆ … ┆ 3.154584e ┆ 3.154584e ┆ 3.154584e ┆ 3.154584 │\n",
       "│           ┆           ┆ 6         ┆ 6         ┆   ┆ 6         ┆ 6         ┆ 6         ┆ e6       │\n",
       "│ null_coun ┆ 0         ┆ 0.0       ┆ 0.0       ┆ … ┆ 0.0       ┆ 0.0       ┆ 0.0       ┆ 0.0      │\n",
       "│ t         ┆           ┆           ┆           ┆   ┆           ┆           ┆           ┆          │\n",
       "│ mean      ┆ 2022-10-3 ┆ 88.970372 ┆ -0.801127 ┆ … ┆ -0.000617 ┆ -0.03162  ┆ -0.001028 ┆ -0.00127 │\n",
       "│           ┆ 0 16:58:4 ┆           ┆           ┆   ┆           ┆           ┆           ┆ 2        │\n",
       "│           ┆ 8.652399  ┆           ┆           ┆   ┆           ┆           ┆           ┆          │\n",
       "│ std       ┆ null      ┆ 6.032485  ┆ 1.857807  ┆ … ┆ 1.024025  ┆ 5.951744  ┆ 1.251979  ┆ 0.330054 │\n",
       "│ min       ┆ 2020-07-2 ┆ 31.1      ┆ -4.95     ┆ … ┆ -4.57     ┆ -13.0     ┆ -10.75913 ┆ -2.166   │\n",
       "│           ┆ 3         ┆           ┆           ┆   ┆           ┆           ┆ 4         ┆          │\n",
       "│           ┆ 00:00:00  ┆           ┆           ┆   ┆           ┆           ┆           ┆          │\n",
       "│ 25%       ┆ 2021-08-2 ┆ 84.7      ┆ -2.11     ┆ … ┆ -0.48     ┆ -4.0      ┆ -0.722265 ┆ -0.148   │\n",
       "│           ┆ 2         ┆           ┆           ┆   ┆           ┆           ┆           ┆          │\n",
       "│           ┆ 00:00:00  ┆           ┆           ┆   ┆           ┆           ┆           ┆          │\n",
       "│ 50%       ┆ 2022-09-1 ┆ 89.8      ┆ -1.49     ┆ … ┆ 0.0       ┆ 0.0       ┆ -0.005458 ┆ -0.019   │\n",
       "│           ┆ 1         ┆           ┆           ┆   ┆           ┆           ┆           ┆          │\n",
       "│           ┆ 00:00:00  ┆           ┆           ┆   ┆           ┆           ┆           ┆          │\n",
       "│ 75%       ┆ 2023-09-2 ┆ 93.8      ┆ 0.94      ┆ … ┆ 0.48      ┆ 4.0       ┆ 0.723699  ┆ 0.045    │\n",
       "│           ┆ 2         ┆           ┆           ┆   ┆           ┆           ┆           ┆          │\n",
       "│           ┆ 00:00:00  ┆           ┆           ┆   ┆           ┆           ┆           ┆          │\n",
       "│ max       ┆ 2024-10-3 ┆ 105.5     ┆ 4.75      ┆ … ┆ 4.49      ┆ 13.0      ┆ 9.041928  ┆ 6.561    │\n",
       "│           ┆ 0         ┆           ┆           ┆   ┆           ┆           ┆           ┆          │\n",
       "│           ┆ 00:00:00  ┆           ┆           ┆   ┆           ┆           ┆           ┆          │\n",
       "└───────────┴───────────┴───────────┴───────────┴───┴───────────┴───────────┴───────────┴──────────┘"
      ]
     },
     "execution_count": 15,
     "metadata": {},
     "output_type": "execute_result"
    }
   ],
   "source": [
    "features = [\n",
    "    \"release_speed\", \"release_pos_x\", \"release_pos_y\", \"release_pos_z\",\n",
    "    \"3d_dist_plate\", \"3d_dist_release\", \"3d_dist_0.120\", \"3d_dist_0.167\",\n",
    "    \"ax\", \"ay\", \"az\", \"vx0\", \"vy0\", \"vz0\", \"x50\", \"y50\", \"z50\", \"plate_x\",\n",
    "    \"plate_z\", \"x_plate\", \"y_plate\", \"z_plate\", \"x_0.120\", \"y_0.120\", \"z_0.120\",\n",
    "    \"x_0.167\", \"y_0.167\", \"z_0.167\", \"pitch_type\", \"zone\", \"delta_run_exp\",\n",
    "] + prev_features + diff_features\n",
    "\n",
    "RESPONSE = \"seq_delta_run_exp\"\n",
    "\n",
    "two_seqs_df = (sequence_dist_pitches_lf\n",
    "               .with_columns((pl.col(\"delta_run_exp\") \n",
    "                              + pl.col(\"prev_delta_run_exp\"))\n",
    "                              .alias(RESPONSE))\n",
    "               .select(\"game_date\", *features, RESPONSE)\n",
    "               .drop_nulls()\n",
    "               .collect()) \n",
    "\n",
    "train_df = two_seqs_df.filter(pl.col(\"game_date\").dt.year().is_between(2020, 2023))\n",
    "test_df = two_seqs_df.filter(pl.col(\"game_date\").dt.year() == 2024)\n",
    "\n",
    "two_seqs_df.describe()"
   ]
  },
  {
   "cell_type": "code",
   "execution_count": 16,
   "metadata": {},
   "outputs": [
    {
     "name": "stdout",
     "output_type": "stream",
     "text": [
      "(2414151, 65) (2414151, 1)\n"
     ]
    }
   ],
   "source": [
    "X = train_df.select(pl.exclude(\n",
    "    RESPONSE,\n",
    "    \"prev_delta_run_exp\",\n",
    "    \"delta_run_exp_diff\",\n",
    "    \"pitch_type\",\n",
    "    \"prev_pitch_type\",\n",
    "    \"delta_run_exp\",\n",
    "    \"game_date\"\n",
    "))\n",
    "\n",
    "y = train_df.select(RESPONSE)\n",
    "\n",
    "print(X.shape, y.shape)"
   ]
  },
  {
   "cell_type": "markdown",
   "metadata": {
    "id": "RR27hEwCQw2P"
   },
   "source": [
    "# Model Building\n",
    "\n",
    "Feature selection & model training"
   ]
  },
  {
   "cell_type": "markdown",
   "metadata": {},
   "source": [
    "### Recursive Feature Selection"
   ]
  },
  {
   "cell_type": "code",
   "execution_count": 17,
   "metadata": {},
   "outputs": [
    {
     "data": {
      "text/html": [
       "<style>#sk-container-id-1 {\n",
       "  /* Definition of color scheme common for light and dark mode */\n",
       "  --sklearn-color-text: black;\n",
       "  --sklearn-color-line: gray;\n",
       "  /* Definition of color scheme for unfitted estimators */\n",
       "  --sklearn-color-unfitted-level-0: #fff5e6;\n",
       "  --sklearn-color-unfitted-level-1: #f6e4d2;\n",
       "  --sklearn-color-unfitted-level-2: #ffe0b3;\n",
       "  --sklearn-color-unfitted-level-3: chocolate;\n",
       "  /* Definition of color scheme for fitted estimators */\n",
       "  --sklearn-color-fitted-level-0: #f0f8ff;\n",
       "  --sklearn-color-fitted-level-1: #d4ebff;\n",
       "  --sklearn-color-fitted-level-2: #b3dbfd;\n",
       "  --sklearn-color-fitted-level-3: cornflowerblue;\n",
       "\n",
       "  /* Specific color for light theme */\n",
       "  --sklearn-color-text-on-default-background: var(--sg-text-color, var(--theme-code-foreground, var(--jp-content-font-color1, black)));\n",
       "  --sklearn-color-background: var(--sg-background-color, var(--theme-background, var(--jp-layout-color0, white)));\n",
       "  --sklearn-color-border-box: var(--sg-text-color, var(--theme-code-foreground, var(--jp-content-font-color1, black)));\n",
       "  --sklearn-color-icon: #696969;\n",
       "\n",
       "  @media (prefers-color-scheme: dark) {\n",
       "    /* Redefinition of color scheme for dark theme */\n",
       "    --sklearn-color-text-on-default-background: var(--sg-text-color, var(--theme-code-foreground, var(--jp-content-font-color1, white)));\n",
       "    --sklearn-color-background: var(--sg-background-color, var(--theme-background, var(--jp-layout-color0, #111)));\n",
       "    --sklearn-color-border-box: var(--sg-text-color, var(--theme-code-foreground, var(--jp-content-font-color1, white)));\n",
       "    --sklearn-color-icon: #878787;\n",
       "  }\n",
       "}\n",
       "\n",
       "#sk-container-id-1 {\n",
       "  color: var(--sklearn-color-text);\n",
       "}\n",
       "\n",
       "#sk-container-id-1 pre {\n",
       "  padding: 0;\n",
       "}\n",
       "\n",
       "#sk-container-id-1 input.sk-hidden--visually {\n",
       "  border: 0;\n",
       "  clip: rect(1px 1px 1px 1px);\n",
       "  clip: rect(1px, 1px, 1px, 1px);\n",
       "  height: 1px;\n",
       "  margin: -1px;\n",
       "  overflow: hidden;\n",
       "  padding: 0;\n",
       "  position: absolute;\n",
       "  width: 1px;\n",
       "}\n",
       "\n",
       "#sk-container-id-1 div.sk-dashed-wrapped {\n",
       "  border: 1px dashed var(--sklearn-color-line);\n",
       "  margin: 0 0.4em 0.5em 0.4em;\n",
       "  box-sizing: border-box;\n",
       "  padding-bottom: 0.4em;\n",
       "  background-color: var(--sklearn-color-background);\n",
       "}\n",
       "\n",
       "#sk-container-id-1 div.sk-container {\n",
       "  /* jupyter's `normalize.less` sets `[hidden] { display: none; }`\n",
       "     but bootstrap.min.css set `[hidden] { display: none !important; }`\n",
       "     so we also need the `!important` here to be able to override the\n",
       "     default hidden behavior on the sphinx rendered scikit-learn.org.\n",
       "     See: https://github.com/scikit-learn/scikit-learn/issues/21755 */\n",
       "  display: inline-block !important;\n",
       "  position: relative;\n",
       "}\n",
       "\n",
       "#sk-container-id-1 div.sk-text-repr-fallback {\n",
       "  display: none;\n",
       "}\n",
       "\n",
       "div.sk-parallel-item,\n",
       "div.sk-serial,\n",
       "div.sk-item {\n",
       "  /* draw centered vertical line to link estimators */\n",
       "  background-image: linear-gradient(var(--sklearn-color-text-on-default-background), var(--sklearn-color-text-on-default-background));\n",
       "  background-size: 2px 100%;\n",
       "  background-repeat: no-repeat;\n",
       "  background-position: center center;\n",
       "}\n",
       "\n",
       "/* Parallel-specific style estimator block */\n",
       "\n",
       "#sk-container-id-1 div.sk-parallel-item::after {\n",
       "  content: \"\";\n",
       "  width: 100%;\n",
       "  border-bottom: 2px solid var(--sklearn-color-text-on-default-background);\n",
       "  flex-grow: 1;\n",
       "}\n",
       "\n",
       "#sk-container-id-1 div.sk-parallel {\n",
       "  display: flex;\n",
       "  align-items: stretch;\n",
       "  justify-content: center;\n",
       "  background-color: var(--sklearn-color-background);\n",
       "  position: relative;\n",
       "}\n",
       "\n",
       "#sk-container-id-1 div.sk-parallel-item {\n",
       "  display: flex;\n",
       "  flex-direction: column;\n",
       "}\n",
       "\n",
       "#sk-container-id-1 div.sk-parallel-item:first-child::after {\n",
       "  align-self: flex-end;\n",
       "  width: 50%;\n",
       "}\n",
       "\n",
       "#sk-container-id-1 div.sk-parallel-item:last-child::after {\n",
       "  align-self: flex-start;\n",
       "  width: 50%;\n",
       "}\n",
       "\n",
       "#sk-container-id-1 div.sk-parallel-item:only-child::after {\n",
       "  width: 0;\n",
       "}\n",
       "\n",
       "/* Serial-specific style estimator block */\n",
       "\n",
       "#sk-container-id-1 div.sk-serial {\n",
       "  display: flex;\n",
       "  flex-direction: column;\n",
       "  align-items: center;\n",
       "  background-color: var(--sklearn-color-background);\n",
       "  padding-right: 1em;\n",
       "  padding-left: 1em;\n",
       "}\n",
       "\n",
       "\n",
       "/* Toggleable style: style used for estimator/Pipeline/ColumnTransformer box that is\n",
       "clickable and can be expanded/collapsed.\n",
       "- Pipeline and ColumnTransformer use this feature and define the default style\n",
       "- Estimators will overwrite some part of the style using the `sk-estimator` class\n",
       "*/\n",
       "\n",
       "/* Pipeline and ColumnTransformer style (default) */\n",
       "\n",
       "#sk-container-id-1 div.sk-toggleable {\n",
       "  /* Default theme specific background. It is overwritten whether we have a\n",
       "  specific estimator or a Pipeline/ColumnTransformer */\n",
       "  background-color: var(--sklearn-color-background);\n",
       "}\n",
       "\n",
       "/* Toggleable label */\n",
       "#sk-container-id-1 label.sk-toggleable__label {\n",
       "  cursor: pointer;\n",
       "  display: block;\n",
       "  width: 100%;\n",
       "  margin-bottom: 0;\n",
       "  padding: 0.5em;\n",
       "  box-sizing: border-box;\n",
       "  text-align: center;\n",
       "}\n",
       "\n",
       "#sk-container-id-1 label.sk-toggleable__label-arrow:before {\n",
       "  /* Arrow on the left of the label */\n",
       "  content: \"▸\";\n",
       "  float: left;\n",
       "  margin-right: 0.25em;\n",
       "  color: var(--sklearn-color-icon);\n",
       "}\n",
       "\n",
       "#sk-container-id-1 label.sk-toggleable__label-arrow:hover:before {\n",
       "  color: var(--sklearn-color-text);\n",
       "}\n",
       "\n",
       "/* Toggleable content - dropdown */\n",
       "\n",
       "#sk-container-id-1 div.sk-toggleable__content {\n",
       "  max-height: 0;\n",
       "  max-width: 0;\n",
       "  overflow: hidden;\n",
       "  text-align: left;\n",
       "  /* unfitted */\n",
       "  background-color: var(--sklearn-color-unfitted-level-0);\n",
       "}\n",
       "\n",
       "#sk-container-id-1 div.sk-toggleable__content.fitted {\n",
       "  /* fitted */\n",
       "  background-color: var(--sklearn-color-fitted-level-0);\n",
       "}\n",
       "\n",
       "#sk-container-id-1 div.sk-toggleable__content pre {\n",
       "  margin: 0.2em;\n",
       "  border-radius: 0.25em;\n",
       "  color: var(--sklearn-color-text);\n",
       "  /* unfitted */\n",
       "  background-color: var(--sklearn-color-unfitted-level-0);\n",
       "}\n",
       "\n",
       "#sk-container-id-1 div.sk-toggleable__content.fitted pre {\n",
       "  /* unfitted */\n",
       "  background-color: var(--sklearn-color-fitted-level-0);\n",
       "}\n",
       "\n",
       "#sk-container-id-1 input.sk-toggleable__control:checked~div.sk-toggleable__content {\n",
       "  /* Expand drop-down */\n",
       "  max-height: 200px;\n",
       "  max-width: 100%;\n",
       "  overflow: auto;\n",
       "}\n",
       "\n",
       "#sk-container-id-1 input.sk-toggleable__control:checked~label.sk-toggleable__label-arrow:before {\n",
       "  content: \"▾\";\n",
       "}\n",
       "\n",
       "/* Pipeline/ColumnTransformer-specific style */\n",
       "\n",
       "#sk-container-id-1 div.sk-label input.sk-toggleable__control:checked~label.sk-toggleable__label {\n",
       "  color: var(--sklearn-color-text);\n",
       "  background-color: var(--sklearn-color-unfitted-level-2);\n",
       "}\n",
       "\n",
       "#sk-container-id-1 div.sk-label.fitted input.sk-toggleable__control:checked~label.sk-toggleable__label {\n",
       "  background-color: var(--sklearn-color-fitted-level-2);\n",
       "}\n",
       "\n",
       "/* Estimator-specific style */\n",
       "\n",
       "/* Colorize estimator box */\n",
       "#sk-container-id-1 div.sk-estimator input.sk-toggleable__control:checked~label.sk-toggleable__label {\n",
       "  /* unfitted */\n",
       "  background-color: var(--sklearn-color-unfitted-level-2);\n",
       "}\n",
       "\n",
       "#sk-container-id-1 div.sk-estimator.fitted input.sk-toggleable__control:checked~label.sk-toggleable__label {\n",
       "  /* fitted */\n",
       "  background-color: var(--sklearn-color-fitted-level-2);\n",
       "}\n",
       "\n",
       "#sk-container-id-1 div.sk-label label.sk-toggleable__label,\n",
       "#sk-container-id-1 div.sk-label label {\n",
       "  /* The background is the default theme color */\n",
       "  color: var(--sklearn-color-text-on-default-background);\n",
       "}\n",
       "\n",
       "/* On hover, darken the color of the background */\n",
       "#sk-container-id-1 div.sk-label:hover label.sk-toggleable__label {\n",
       "  color: var(--sklearn-color-text);\n",
       "  background-color: var(--sklearn-color-unfitted-level-2);\n",
       "}\n",
       "\n",
       "/* Label box, darken color on hover, fitted */\n",
       "#sk-container-id-1 div.sk-label.fitted:hover label.sk-toggleable__label.fitted {\n",
       "  color: var(--sklearn-color-text);\n",
       "  background-color: var(--sklearn-color-fitted-level-2);\n",
       "}\n",
       "\n",
       "/* Estimator label */\n",
       "\n",
       "#sk-container-id-1 div.sk-label label {\n",
       "  font-family: monospace;\n",
       "  font-weight: bold;\n",
       "  display: inline-block;\n",
       "  line-height: 1.2em;\n",
       "}\n",
       "\n",
       "#sk-container-id-1 div.sk-label-container {\n",
       "  text-align: center;\n",
       "}\n",
       "\n",
       "/* Estimator-specific */\n",
       "#sk-container-id-1 div.sk-estimator {\n",
       "  font-family: monospace;\n",
       "  border: 1px dotted var(--sklearn-color-border-box);\n",
       "  border-radius: 0.25em;\n",
       "  box-sizing: border-box;\n",
       "  margin-bottom: 0.5em;\n",
       "  /* unfitted */\n",
       "  background-color: var(--sklearn-color-unfitted-level-0);\n",
       "}\n",
       "\n",
       "#sk-container-id-1 div.sk-estimator.fitted {\n",
       "  /* fitted */\n",
       "  background-color: var(--sklearn-color-fitted-level-0);\n",
       "}\n",
       "\n",
       "/* on hover */\n",
       "#sk-container-id-1 div.sk-estimator:hover {\n",
       "  /* unfitted */\n",
       "  background-color: var(--sklearn-color-unfitted-level-2);\n",
       "}\n",
       "\n",
       "#sk-container-id-1 div.sk-estimator.fitted:hover {\n",
       "  /* fitted */\n",
       "  background-color: var(--sklearn-color-fitted-level-2);\n",
       "}\n",
       "\n",
       "/* Specification for estimator info (e.g. \"i\" and \"?\") */\n",
       "\n",
       "/* Common style for \"i\" and \"?\" */\n",
       "\n",
       ".sk-estimator-doc-link,\n",
       "a:link.sk-estimator-doc-link,\n",
       "a:visited.sk-estimator-doc-link {\n",
       "  float: right;\n",
       "  font-size: smaller;\n",
       "  line-height: 1em;\n",
       "  font-family: monospace;\n",
       "  background-color: var(--sklearn-color-background);\n",
       "  border-radius: 1em;\n",
       "  height: 1em;\n",
       "  width: 1em;\n",
       "  text-decoration: none !important;\n",
       "  margin-left: 1ex;\n",
       "  /* unfitted */\n",
       "  border: var(--sklearn-color-unfitted-level-1) 1pt solid;\n",
       "  color: var(--sklearn-color-unfitted-level-1);\n",
       "}\n",
       "\n",
       ".sk-estimator-doc-link.fitted,\n",
       "a:link.sk-estimator-doc-link.fitted,\n",
       "a:visited.sk-estimator-doc-link.fitted {\n",
       "  /* fitted */\n",
       "  border: var(--sklearn-color-fitted-level-1) 1pt solid;\n",
       "  color: var(--sklearn-color-fitted-level-1);\n",
       "}\n",
       "\n",
       "/* On hover */\n",
       "div.sk-estimator:hover .sk-estimator-doc-link:hover,\n",
       ".sk-estimator-doc-link:hover,\n",
       "div.sk-label-container:hover .sk-estimator-doc-link:hover,\n",
       ".sk-estimator-doc-link:hover {\n",
       "  /* unfitted */\n",
       "  background-color: var(--sklearn-color-unfitted-level-3);\n",
       "  color: var(--sklearn-color-background);\n",
       "  text-decoration: none;\n",
       "}\n",
       "\n",
       "div.sk-estimator.fitted:hover .sk-estimator-doc-link.fitted:hover,\n",
       ".sk-estimator-doc-link.fitted:hover,\n",
       "div.sk-label-container:hover .sk-estimator-doc-link.fitted:hover,\n",
       ".sk-estimator-doc-link.fitted:hover {\n",
       "  /* fitted */\n",
       "  background-color: var(--sklearn-color-fitted-level-3);\n",
       "  color: var(--sklearn-color-background);\n",
       "  text-decoration: none;\n",
       "}\n",
       "\n",
       "/* Span, style for the box shown on hovering the info icon */\n",
       ".sk-estimator-doc-link span {\n",
       "  display: none;\n",
       "  z-index: 9999;\n",
       "  position: relative;\n",
       "  font-weight: normal;\n",
       "  right: .2ex;\n",
       "  padding: .5ex;\n",
       "  margin: .5ex;\n",
       "  width: min-content;\n",
       "  min-width: 20ex;\n",
       "  max-width: 50ex;\n",
       "  color: var(--sklearn-color-text);\n",
       "  box-shadow: 2pt 2pt 4pt #999;\n",
       "  /* unfitted */\n",
       "  background: var(--sklearn-color-unfitted-level-0);\n",
       "  border: .5pt solid var(--sklearn-color-unfitted-level-3);\n",
       "}\n",
       "\n",
       ".sk-estimator-doc-link.fitted span {\n",
       "  /* fitted */\n",
       "  background: var(--sklearn-color-fitted-level-0);\n",
       "  border: var(--sklearn-color-fitted-level-3);\n",
       "}\n",
       "\n",
       ".sk-estimator-doc-link:hover span {\n",
       "  display: block;\n",
       "}\n",
       "\n",
       "/* \"?\"-specific style due to the `<a>` HTML tag */\n",
       "\n",
       "#sk-container-id-1 a.estimator_doc_link {\n",
       "  float: right;\n",
       "  font-size: 1rem;\n",
       "  line-height: 1em;\n",
       "  font-family: monospace;\n",
       "  background-color: var(--sklearn-color-background);\n",
       "  border-radius: 1rem;\n",
       "  height: 1rem;\n",
       "  width: 1rem;\n",
       "  text-decoration: none;\n",
       "  /* unfitted */\n",
       "  color: var(--sklearn-color-unfitted-level-1);\n",
       "  border: var(--sklearn-color-unfitted-level-1) 1pt solid;\n",
       "}\n",
       "\n",
       "#sk-container-id-1 a.estimator_doc_link.fitted {\n",
       "  /* fitted */\n",
       "  border: var(--sklearn-color-fitted-level-1) 1pt solid;\n",
       "  color: var(--sklearn-color-fitted-level-1);\n",
       "}\n",
       "\n",
       "/* On hover */\n",
       "#sk-container-id-1 a.estimator_doc_link:hover {\n",
       "  /* unfitted */\n",
       "  background-color: var(--sklearn-color-unfitted-level-3);\n",
       "  color: var(--sklearn-color-background);\n",
       "  text-decoration: none;\n",
       "}\n",
       "\n",
       "#sk-container-id-1 a.estimator_doc_link.fitted:hover {\n",
       "  /* fitted */\n",
       "  background-color: var(--sklearn-color-fitted-level-3);\n",
       "}\n",
       "</style><div id=\"sk-container-id-1\" class=\"sk-top-container\"><div class=\"sk-text-repr-fallback\"><pre>RFECV(cv=5, estimator=LGBMRegressor(n_jobs=-1, random_state=42, verbose=-1),\n",
       "      n_jobs=-1, scoring=&#x27;neg_mean_absolute_error&#x27;)</pre><b>In a Jupyter environment, please rerun this cell to show the HTML representation or trust the notebook. <br />On GitHub, the HTML representation is unable to render, please try loading this page with nbviewer.org.</b></div><div class=\"sk-container\" hidden><div class=\"sk-item sk-dashed-wrapped\"><div class=\"sk-label-container\"><div class=\"sk-label fitted sk-toggleable\"><input class=\"sk-toggleable__control sk-hidden--visually\" id=\"sk-estimator-id-1\" type=\"checkbox\" ><label for=\"sk-estimator-id-1\" class=\"sk-toggleable__label fitted sk-toggleable__label-arrow fitted\">&nbsp;&nbsp;RFECV<a class=\"sk-estimator-doc-link fitted\" rel=\"noreferrer\" target=\"_blank\" href=\"https://scikit-learn.org/1.5/modules/generated/sklearn.feature_selection.RFECV.html\">?<span>Documentation for RFECV</span></a><span class=\"sk-estimator-doc-link fitted\">i<span>Fitted</span></span></label><div class=\"sk-toggleable__content fitted\"><pre>RFECV(cv=5, estimator=LGBMRegressor(n_jobs=-1, random_state=42, verbose=-1),\n",
       "      n_jobs=-1, scoring=&#x27;neg_mean_absolute_error&#x27;)</pre></div> </div></div><div class=\"sk-parallel\"><div class=\"sk-parallel-item\"><div class=\"sk-item\"><div class=\"sk-label-container\"><div class=\"sk-label fitted sk-toggleable\"><input class=\"sk-toggleable__control sk-hidden--visually\" id=\"sk-estimator-id-2\" type=\"checkbox\" ><label for=\"sk-estimator-id-2\" class=\"sk-toggleable__label fitted sk-toggleable__label-arrow fitted\">estimator: LGBMRegressor</label><div class=\"sk-toggleable__content fitted\"><pre>LGBMRegressor(n_jobs=-1, random_state=42, verbose=-1)</pre></div> </div></div><div class=\"sk-serial\"><div class=\"sk-item\"><div class=\"sk-estimator fitted sk-toggleable\"><input class=\"sk-toggleable__control sk-hidden--visually\" id=\"sk-estimator-id-3\" type=\"checkbox\" ><label for=\"sk-estimator-id-3\" class=\"sk-toggleable__label fitted sk-toggleable__label-arrow fitted\">LGBMRegressor</label><div class=\"sk-toggleable__content fitted\"><pre>LGBMRegressor(n_jobs=-1, random_state=42, verbose=-1)</pre></div> </div></div></div></div></div></div></div></div></div>"
      ],
      "text/plain": [
       "RFECV(cv=5, estimator=LGBMRegressor(n_jobs=-1, random_state=42, verbose=-1),\n",
       "      n_jobs=-1, scoring='neg_mean_absolute_error')"
      ]
     },
     "execution_count": 17,
     "metadata": {},
     "output_type": "execute_result"
    }
   ],
   "source": [
    "estimator = LGBMRegressor(\n",
    "    random_state=42,\n",
    "    n_jobs=-1,\n",
    "    verbose=-1,\n",
    ")\n",
    "\n",
    "rfecv = RFECV(\n",
    "    estimator=estimator,\n",
    "    step=1,\n",
    "    cv=5,\n",
    "    scoring=\"neg_mean_absolute_error\",\n",
    "    n_jobs=-1,\n",
    ")\n",
    "\n",
    "sample = train_df.sample(100_000, seed=42)\n",
    "X_sample = sample.select(X.columns).to_numpy()\n",
    "y_sample = sample.select(RESPONSE).to_numpy().flatten()\n",
    "\n",
    "rfecv.fit(X_sample, y_sample)"
   ]
  },
  {
   "cell_type": "code",
   "execution_count": 18,
   "metadata": {},
   "outputs": [
    {
     "data": {
      "image/png": "[encoded data removed]"
     },
     "metadata": {
      "image/png": {
       "height": 480,
       "width": 640
      }
     },
     "output_type": "display_data"
    }
   ],
   "source": [
    "feature_selection_plot = (\n",
    "    ggplot(\n",
    "        pl.from_dict({\n",
    "            \"N Features\": rfecv.cv_results_[\"n_features\"].tolist(),\n",
    "            \"MAE\": (-rfecv.cv_results_[\"mean_test_score\"]).tolist(),\n",
    "        }),\n",
    "        aes(x=\"N Features\", y=\"MAE\")\n",
    "    )\n",
    "    + geom_point()\n",
    "    + geom_line()\n",
    "    + geom_vline(xintercept=rfecv.n_features_, linetype=\"dashed\", color=\"red\")\n",
    "    + scale_x_continuous(breaks=range(1, len(rfecv.cv_results_[\"mean_test_score\"]), 2))\n",
    "    + labs(\n",
    "        title=\"LGBM Regressor RFECV Results\",\n",
    "        subtitle=\"\",\n",
    "    )\n",
    ")\n",
    "\n",
    "feature_selection_plot.show()"
   ]
  },
  {
   "cell_type": "markdown",
   "metadata": {},
   "source": [
    "Going with the elbow at 9 features, not the suggested 45."
   ]
  },
  {
   "cell_type": "code",
   "execution_count": 19,
   "metadata": {},
   "outputs": [
    {
     "data": {
      "image/png": "[encoded data removed]"
     },
     "metadata": {
      "image/png": {
       "height": 480,
       "width": 640
      }
     },
     "output_type": "display_data"
    }
   ],
   "source": [
    "selected_feature_mask = np.where(rfecv.support_)[0]\n",
    "SELECTED_FEATURES = [X.columns[i] for i in selected_feature_mask[:9]]\n",
    "feature_importances = rfecv.estimator_.feature_importances_[:9]\n",
    "\n",
    "feature_importance_plot = (\n",
    "    ggplot(\n",
    "        pl.from_dict({\n",
    "            \"Feature\": SELECTED_FEATURES,\n",
    "            \"RFECV Importance\": feature_importances,\n",
    "        }),\n",
    "        aes(x=\"Feature\", y=\"RFECV Importance\"),\n",
    "    )\n",
    "    + geom_col(stat=\"identity\", fill=\"lightblue\")\n",
    "    + theme(axis_text_x=element_text(rotation=50, hjust=1))\n",
    "    + labs(title=\"Feature Importance\", x=\"\", y=\"\")\n",
    ")\n",
    "\n",
    "feature_importance_plot.show()"
   ]
  },
  {
   "cell_type": "markdown",
   "metadata": {
    "id": "9YZceXvZQw2P"
   },
   "source": [
    "### Correlation Matrix\n",
    "\n",
    "Each chunk represents the pearson correlation coefficient between two features"
   ]
  },
  {
   "cell_type": "code",
   "execution_count": 20,
   "metadata": {
    "colab": {
     "base_uri": "https://localhost:8080/",
     "height": 497
    },
    "id": "Dk_qYghGQw2Q",
    "outputId": "998767ed-78c5-4244-9f12-181e79540f73"
   },
   "outputs": [
    {
     "data": {
      "image/png": "[encoded data removed]"
     },
     "metadata": {
      "image/png": {
       "height": 480,
       "width": 640
      }
     },
     "output_type": "display_data"
    }
   ],
   "source": [
    "sample_corr_df = (two_seqs_df\n",
    "                     .select(*SELECTED_FEATURES, RESPONSE)\n",
    "                     .sample(100_000, seed=42)\n",
    "                     .corr())\n",
    "\n",
    "corr_matrix = (\n",
    "    ggplot(\n",
    "        sample_corr_df\n",
    "        .with_columns(pl.Series(\"variable_1\", sample_corr_df.columns))\n",
    "        .unpivot(\n",
    "            index=\"variable_1\",\n",
    "            variable_name=\"variable_2\",\n",
    "            on=sample_corr_df.columns,\n",
    "            value_name=\"correlation\",\n",
    "        )\n",
    "        .filter(pl.col(\"variable_1\") > pl.col(\"variable_2\")),\n",
    "        aes(x=\"variable_1\", y=\"variable_2\", fill=\"correlation\"),\n",
    "    )\n",
    "    + geom_tile(size=3)\n",
    "    + theme_classic()\n",
    "    + theme(axis_text_x=element_text(rotation=50, hjust=1))\n",
    "    + labs(\n",
    "        title=\"Correlation Matrix\",\n",
    "        x=\"\",\n",
    "        y=\"\",\n",
    "    )\n",
    ")\n",
    "\n",
    "corr_matrix.show()"
   ]
  },
  {
   "cell_type": "markdown",
   "metadata": {},
   "source": [
    "## Hyper Parameter Tuning w/ Optuna"
   ]
  },
  {
   "cell_type": "code",
   "execution_count": 21,
   "metadata": {},
   "outputs": [
    {
     "name": "stderr",
     "output_type": "stream",
     "text": [
      "[I 2024-11-13 17:05:16,571] A new study created in memory with name: no-name-ddba51e7-54f4-4b8e-b8b9-fcedd235673a\n",
      "[I 2024-11-13 17:05:19,755] Trial 0 finished with value: 0.32719270144111573 and parameters: {'learning_rate': 0.023573673328739178, 'min_child_samples': 30, 'n_estimators': 776, 'reg_lambda': 0.06151699279837852, 'reg_alpha': 0.014094561269807305}. Best is trial 0 with value: 0.32719270144111573.\n",
      "[I 2024-11-13 17:05:22,732] Trial 1 finished with value: 0.32657963009302615 and parameters: {'learning_rate': 0.011226830116998019, 'min_child_samples': 12, 'n_estimators': 720, 'reg_lambda': 0.3430458388422182, 'reg_alpha': 0.3464717477596846}. Best is trial 1 with value: 0.32657963009302615.\n",
      "[I 2024-11-13 17:05:23,921] Trial 2 finished with value: 0.3278515134827369 and parameters: {'learning_rate': 0.08034741811955412, 'min_child_samples': 15, 'n_estimators': 264, 'reg_lambda': 0.35649288298553006, 'reg_alpha': 0.16959176833886086}. Best is trial 1 with value: 0.32657963009302615.\n",
      "[I 2024-11-13 17:05:27,593] Trial 3 finished with value: 0.32739881845820834 and parameters: {'learning_rate': 0.02286072163904367, 'min_child_samples': 10, 'n_estimators': 910, 'reg_lambda': 0.26308976773335796, 'reg_alpha': 0.39979530267557956}. Best is trial 1 with value: 0.32657963009302615.\n",
      "[I 2024-11-13 17:05:30,224] Trial 4 finished with value: 0.32918806488631364 and parameters: {'learning_rate': 0.06541489325499787, 'min_child_samples': 13, 'n_estimators': 654, 'reg_lambda': 0.3591563239397798, 'reg_alpha': 0.36175109670106853}. Best is trial 1 with value: 0.32657963009302615.\n",
      "[I 2024-11-13 17:05:31,515] Trial 5 finished with value: 0.3275398013995922 and parameters: {'learning_rate': 0.06377613703449748, 'min_child_samples': 27, 'n_estimators': 316, 'reg_lambda': 0.26642807831566095, 'reg_alpha': 0.1280424357802326}. Best is trial 1 with value: 0.32657963009302615.\n",
      "[I 2024-11-13 17:05:33,591] Trial 6 finished with value: 0.32746623862819624 and parameters: {'learning_rate': 0.040592595369895144, 'min_child_samples': 19, 'n_estimators': 516, 'reg_lambda': 0.2869343694044432, 'reg_alpha': 0.2503080178736119}. Best is trial 1 with value: 0.32657963009302615.\n",
      "[I 2024-11-13 17:05:35,658] Trial 7 finished with value: 0.32690823835810434 and parameters: {'learning_rate': 0.02724040100904243, 'min_child_samples': 20, 'n_estimators': 496, 'reg_lambda': 0.16288929150309484, 'reg_alpha': 0.23779822242216833}. Best is trial 1 with value: 0.32657963009302615.\n",
      "[I 2024-11-13 17:05:38,245] Trial 8 finished with value: 0.329583678955213 and parameters: {'learning_rate': 0.09018659703087396, 'min_child_samples': 27, 'n_estimators': 563, 'reg_lambda': 0.014543735044260365, 'reg_alpha': 0.230412021813156}. Best is trial 1 with value: 0.32657963009302615.\n",
      "[I 2024-11-13 17:05:40,928] Trial 9 finished with value: 0.32727843243813837 and parameters: {'learning_rate': 0.029438638493902394, 'min_child_samples': 13, 'n_estimators': 661, 'reg_lambda': 0.3571079000221267, 'reg_alpha': 0.06030447985745187}. Best is trial 1 with value: 0.32657963009302615.\n",
      "[I 2024-11-13 17:05:44,841] Trial 10 finished with value: 0.326643413417782 and parameters: {'learning_rate': 0.01171172618413738, 'min_child_samples': 17, 'n_estimators': 907, 'reg_lambda': 0.1556939763343353, 'reg_alpha': 0.3135406251142262}. Best is trial 1 with value: 0.32657963009302615.\n",
      "[I 2024-11-13 17:05:48,884] Trial 11 finished with value: 0.3266850182365065 and parameters: {'learning_rate': 0.010238237079346903, 'min_child_samples': 17, 'n_estimators': 987, 'reg_lambda': 0.155246143147449, 'reg_alpha': 0.31424705707692985}. Best is trial 1 with value: 0.32657963009302615.\n",
      "[I 2024-11-13 17:05:52,518] Trial 12 finished with value: 0.32656648430405677 and parameters: {'learning_rate': 0.010482137145390551, 'min_child_samples': 10, 'n_estimators': 833, 'reg_lambda': 0.20820198329572387, 'reg_alpha': 0.304919035441998}. Best is trial 12 with value: 0.32656648430405677.\n",
      "[I 2024-11-13 17:05:55,912] Trial 13 finished with value: 0.3285642794618485 and parameters: {'learning_rate': 0.04509888902909612, 'min_child_samples': 10, 'n_estimators': 801, 'reg_lambda': 0.21458507906743915, 'reg_alpha': 0.3067429662384112}. Best is trial 12 with value: 0.32656648430405677.\n",
      "[I 2024-11-13 17:05:59,009] Trial 14 finished with value: 0.3280530062040001 and parameters: {'learning_rate': 0.042251737317212774, 'min_child_samples': 23, 'n_estimators': 744, 'reg_lambda': 0.39751844024041233, 'reg_alpha': 0.36207658894450584}. Best is trial 12 with value: 0.32656648430405677.\n",
      "[I 2024-11-13 17:06:02,627] Trial 15 finished with value: 0.3267642633079855 and parameters: {'learning_rate': 0.012478015912130193, 'min_child_samples': 12, 'n_estimators': 869, 'reg_lambda': 0.10176986321659263, 'reg_alpha': 0.270234706458374}. Best is trial 12 with value: 0.32656648430405677.\n",
      "[I 2024-11-13 17:06:04,282] Trial 16 finished with value: 0.3269698378078882 and parameters: {'learning_rate': 0.034855938126752556, 'min_child_samples': 15, 'n_estimators': 402, 'reg_lambda': 0.3038797105258485, 'reg_alpha': 0.1797917885658045}. Best is trial 12 with value: 0.32656648430405677.\n",
      "[I 2024-11-13 17:06:06,923] Trial 17 finished with value: 0.3286007142605205 and parameters: {'learning_rate': 0.05395670278806963, 'min_child_samples': 23, 'n_estimators': 657, 'reg_lambda': 0.22120571889797924, 'reg_alpha': 0.39145912994781296}. Best is trial 12 with value: 0.32656648430405677.\n",
      "[I 2024-11-13 17:06:10,960] Trial 18 finished with value: 0.32726950070223504 and parameters: {'learning_rate': 0.017935976318115623, 'min_child_samples': 10, 'n_estimators': 994, 'reg_lambda': 0.31968909994248623, 'reg_alpha': 0.29174280050711}. Best is trial 12 with value: 0.32656648430405677.\n",
      "[I 2024-11-13 17:06:11,685] Trial 19 finished with value: 0.3277415039336529 and parameters: {'learning_rate': 0.09777187994463842, 'min_child_samples': 12, 'n_estimators': 171, 'reg_lambda': 0.11265275876395041, 'reg_alpha': 0.34599617239554753}. Best is trial 12 with value: 0.32656648430405677.\n",
      "[I 2024-11-13 17:06:14,571] Trial 20 finished with value: 0.328746680837752 and parameters: {'learning_rate': 0.05672271151054784, 'min_child_samples': 15, 'n_estimators': 721, 'reg_lambda': 0.1914925320958386, 'reg_alpha': 0.2045827761596977}. Best is trial 12 with value: 0.32656648430405677.\n",
      "[I 2024-11-13 17:06:18,030] Trial 21 finished with value: 0.32695903195343073 and parameters: {'learning_rate': 0.0166300698878299, 'min_child_samples': 18, 'n_estimators': 873, 'reg_lambda': 0.13527923690709828, 'reg_alpha': 0.31750160886168427}. Best is trial 12 with value: 0.32656648430405677.\n",
      "[I 2024-11-13 17:06:21,500] Trial 22 finished with value: 0.326557873799384 and parameters: {'learning_rate': 0.010526074780078843, 'min_child_samples': 21, 'n_estimators': 843, 'reg_lambda': 0.2414871076762744, 'reg_alpha': 0.3409670346363416}. Best is trial 22 with value: 0.326557873799384.\n",
      "[I 2024-11-13 17:06:23,978] Trial 23 finished with value: 0.327342496194312 and parameters: {'learning_rate': 0.032456367947795044, 'min_child_samples': 22, 'n_estimators': 606, 'reg_lambda': 0.24064244091579395, 'reg_alpha': 0.3554775215571434}. Best is trial 22 with value: 0.326557873799384.\n",
      "[I 2024-11-13 17:06:27,304] Trial 24 finished with value: 0.32705950551066676 and parameters: {'learning_rate': 0.021421029937699683, 'min_child_samples': 21, 'n_estimators': 816, 'reg_lambda': 0.19114146384873, 'reg_alpha': 0.273637413493071}. Best is trial 22 with value: 0.326557873799384.\n",
      "[I 2024-11-13 17:06:30,372] Trial 25 finished with value: 0.3268677329000053 and parameters: {'learning_rate': 0.017657296390877146, 'min_child_samples': 25, 'n_estimators': 712, 'reg_lambda': 0.24547441108667684, 'reg_alpha': 0.32936290848216926}. Best is trial 22 with value: 0.326557873799384.\n",
      "[I 2024-11-13 17:06:33,761] Trial 26 finished with value: 0.32807120388257704 and parameters: {'learning_rate': 0.03589223516912921, 'min_child_samples': 12, 'n_estimators': 848, 'reg_lambda': 0.3235009877797305, 'reg_alpha': 0.3834062552546648}. Best is trial 22 with value: 0.326557873799384.\n",
      "[I 2024-11-13 17:06:37,495] Trial 27 finished with value: 0.32671598295601834 and parameters: {'learning_rate': 0.011639431505579384, 'min_child_samples': 14, 'n_estimators': 918, 'reg_lambda': 0.2832619955023791, 'reg_alpha': 0.2898148607940136}. Best is trial 22 with value: 0.326557873799384.\n",
      "[I 2024-11-13 17:06:40,636] Trial 28 finished with value: 0.327235843361864 and parameters: {'learning_rate': 0.025951392391861592, 'min_child_samples': 17, 'n_estimators': 779, 'reg_lambda': 0.3861889105756532, 'reg_alpha': 0.12854466070050052}. Best is trial 22 with value: 0.326557873799384.\n",
      "[I 2024-11-13 17:06:43,717] Trial 29 finished with value: 0.32695645401049817 and parameters: {'learning_rate': 0.021528350326317232, 'min_child_samples': 29, 'n_estimators': 768, 'reg_lambda': 0.044769383768465454, 'reg_alpha': 0.00105568296093983}. Best is trial 22 with value: 0.326557873799384.\n",
      "[I 2024-11-13 17:06:47,432] Trial 30 finished with value: 0.3306625747226104 and parameters: {'learning_rate': 0.07589038489932334, 'min_child_samples': 25, 'n_estimators': 945, 'reg_lambda': 0.07344144821716139, 'reg_alpha': 0.3375218901606143}. Best is trial 22 with value: 0.326557873799384.\n",
      "[I 2024-11-13 17:06:50,923] Trial 31 finished with value: 0.32662573025416125 and parameters: {'learning_rate': 0.010138898425221268, 'min_child_samples': 17, 'n_estimators': 835, 'reg_lambda': 0.17442786145195355, 'reg_alpha': 0.37188616614968534}. Best is trial 22 with value: 0.326557873799384.\n",
      "[I 2024-11-13 17:06:54,348] Trial 32 finished with value: 0.3268547089180153 and parameters: {'learning_rate': 0.016892834946361606, 'min_child_samples': 19, 'n_estimators': 847, 'reg_lambda': 0.1975718302907677, 'reg_alpha': 0.37325070805640415}. Best is trial 22 with value: 0.326557873799384.\n",
      "[I 2024-11-13 17:06:57,233] Trial 33 finished with value: 0.3271123549462297 and parameters: {'learning_rate': 0.02281105880133504, 'min_child_samples': 16, 'n_estimators': 705, 'reg_lambda': 0.17389999113105828, 'reg_alpha': 0.398617186581659}. Best is trial 22 with value: 0.326557873799384.\n",
      "[I 2024-11-13 17:07:00,608] Trial 34 finished with value: 0.32660039009949915 and parameters: {'learning_rate': 0.010546086281192853, 'min_child_samples': 11, 'n_estimators': 811, 'reg_lambda': 0.22922184162131717, 'reg_alpha': 0.33802902655383915}. Best is trial 22 with value: 0.326557873799384.\n",
      "[I 2024-11-13 17:07:03,112] Trial 35 finished with value: 0.32665776553733405 and parameters: {'learning_rate': 0.016057238753921503, 'min_child_samples': 11, 'n_estimators': 607, 'reg_lambda': 0.2329942187378911, 'reg_alpha': 0.34159649871181447}. Best is trial 22 with value: 0.326557873799384.\n",
      "[I 2024-11-13 17:07:06,248] Trial 36 finished with value: 0.327569896357774 and parameters: {'learning_rate': 0.02929703726855037, 'min_child_samples': 11, 'n_estimators': 778, 'reg_lambda': 0.2520412948677406, 'reg_alpha': 0.2574275115855279}. Best is trial 22 with value: 0.326557873799384.\n",
      "[I 2024-11-13 17:07:10,030] Trial 37 finished with value: 0.32732695862018746 and parameters: {'learning_rate': 0.021463093592450886, 'min_child_samples': 14, 'n_estimators': 938, 'reg_lambda': 0.2717815105574235, 'reg_alpha': 0.2928977168095036}. Best is trial 22 with value: 0.326557873799384.\n",
      "[I 2024-11-13 17:07:12,772] Trial 38 finished with value: 0.32719567193912286 and parameters: {'learning_rate': 0.025526955357440987, 'min_child_samples': 11, 'n_estimators': 685, 'reg_lambda': 0.33110168444695964, 'reg_alpha': 0.21867759917368498}. Best is trial 22 with value: 0.326557873799384.\n",
      "[I 2024-11-13 17:07:14,577] Trial 39 finished with value: 0.32666840835307237 and parameters: {'learning_rate': 0.015269681995730937, 'min_child_samples': 13, 'n_estimators': 423, 'reg_lambda': 0.21841555013845587, 'reg_alpha': 0.3315531383357831}. Best is trial 22 with value: 0.326557873799384.\n",
      "[I 2024-11-13 17:07:16,966] Trial 40 finished with value: 0.3279874703381574 and parameters: {'learning_rate': 0.04876655308985435, 'min_child_samples': 20, 'n_estimators': 602, 'reg_lambda': 0.37602258722797305, 'reg_alpha': 0.13931606541441685}. Best is trial 22 with value: 0.326557873799384.\n",
      "[I 2024-11-13 17:07:20,439] Trial 41 finished with value: 0.32663391573116257 and parameters: {'learning_rate': 0.010350383525458674, 'min_child_samples': 10, 'n_estimators': 826, 'reg_lambda': 0.17468562672668939, 'reg_alpha': 0.35890231073974477}. Best is trial 22 with value: 0.326557873799384.\n",
      "[I 2024-11-13 17:07:24,083] Trial 42 finished with value: 0.326780122117282 and parameters: {'learning_rate': 0.013737030917558023, 'min_child_samples': 14, 'n_estimators': 899, 'reg_lambda': 0.1246318137112392, 'reg_alpha': 0.3733157400146761}. Best is trial 22 with value: 0.326557873799384.\n",
      "[I 2024-11-13 17:07:27,276] Trial 43 finished with value: 0.32662771772878507 and parameters: {'learning_rate': 0.010144741891929003, 'min_child_samples': 13, 'n_estimators': 763, 'reg_lambda': 0.2938225432223812, 'reg_alpha': 0.0392261605958934}. Best is trial 22 with value: 0.326557873799384.\n",
      "[I 2024-11-13 17:07:31,306] Trial 44 finished with value: 0.3272664659750234 and parameters: {'learning_rate': 0.01877787620314618, 'min_child_samples': 16, 'n_estimators': 955, 'reg_lambda': 0.2096898367106439, 'reg_alpha': 0.37662131124356074}. Best is trial 22 with value: 0.326557873799384.\n",
      "[I 2024-11-13 17:07:34,839] Trial 45 finished with value: 0.33030618435499676 and parameters: {'learning_rate': 0.07334309943765599, 'min_child_samples': 11, 'n_estimators': 809, 'reg_lambda': 0.26093664162216496, 'reg_alpha': 0.3256099249063495}. Best is trial 22 with value: 0.326557873799384.\n",
      "[I 2024-11-13 17:07:38,410] Trial 46 finished with value: 0.3277177864462482 and parameters: {'learning_rate': 0.02846652865297346, 'min_child_samples': 19, 'n_estimators': 878, 'reg_lambda': 0.14430952466063213, 'reg_alpha': 0.353507670308156}. Best is trial 22 with value: 0.326557873799384.\n",
      "[I 2024-11-13 17:07:41,569] Trial 47 finished with value: 0.32662956816882865 and parameters: {'learning_rate': 0.014724853229353326, 'min_child_samples': 21, 'n_estimators': 737, 'reg_lambda': 0.1743089070970892, 'reg_alpha': 0.2997165253767005}. Best is trial 22 with value: 0.326557873799384.\n",
      "[I 2024-11-13 17:07:43,838] Trial 48 finished with value: 0.3266288736379882 and parameters: {'learning_rate': 0.02034364316476725, 'min_child_samples': 10, 'n_estimators': 504, 'reg_lambda': 0.34237137492764913, 'reg_alpha': 0.2713373216812722}. Best is trial 22 with value: 0.326557873799384.\n",
      "[I 2024-11-13 17:07:46,674] Trial 49 finished with value: 0.326577488998668 and parameters: {'learning_rate': 0.013920250592029611, 'min_child_samples': 12, 'n_estimators': 650, 'reg_lambda': 0.22762920922687374, 'reg_alpha': 0.24374018207528786}. Best is trial 22 with value: 0.326557873799384.\n"
     ]
    },
    {
     "name": "stdout",
     "output_type": "stream",
     "text": [
      "Best Parameters: {'learning_rate': 0.010526074780078843, 'min_child_samples': 21, 'n_estimators': 843, 'reg_lambda': 0.2414871076762744, 'reg_alpha': 0.3409670346363416}\n",
      "best RMSE: 0.326557873799384\n"
     ]
    }
   ],
   "source": [
    "# need to train test split the sample dataset\n",
    "X_train_sample, X_test_sample, y_train_sample, y_test_sample = train_test_split(\n",
    "    sample.select(*SELECTED_FEATURES), sample.select(RESPONSE),\n",
    "    test_size=0.2,\n",
    "    random_state=42,\n",
    ")\n",
    "\n",
    "X_train_sample = X_train_sample.to_numpy()\n",
    "y_train_sample = y_train_sample.to_numpy().flatten()\n",
    "X_test_sample = X_test_sample.to_numpy()\n",
    "y_test_sample = y_test_sample.to_numpy().flatten()\n",
    "\n",
    "def hyperparam_tuning_objective(trial):\n",
    "    estimator = LGBMRegressor(\n",
    "        learning_rate=trial.suggest_float(\"learning_rate\", 0.01, 0.1),\n",
    "        min_child_samples=trial.suggest_int(\"min_child_samples\", 10, 30),\n",
    "        n_estimators=trial.suggest_int(\"n_estimators\", 100, 1000),\n",
    "        reg_lambda=trial.suggest_float(\"reg_lambda\", 0, 0.4),\n",
    "        reg_alpha=trial.suggest_float(\"reg_alpha\", 0, 0.4),\n",
    "        max_depth=-1,\n",
    "        random_state=42,\n",
    "        n_jobs=-1,\n",
    "        verbose=-1,\n",
    "    )\n",
    "\n",
    "    pipeline = Pipeline([\n",
    "        (\"preprocessor\", RobustScaler(copy=False)),\n",
    "        (\"model\", estimator),\n",
    "    ]) \n",
    "\n",
    "    pipeline.fit(X_train_sample, y_train_sample)\n",
    "    e = y_test_sample - pipeline.predict(X_test_sample)\n",
    "    return np.sqrt(np.mean(e**2))\n",
    "\n",
    "study = optuna.create_study(direction=\"minimize\")\n",
    "study.optimize(hyperparam_tuning_objective, n_trials=50)\n",
    "\n",
    "print(f\"Best Parameters: {study.best_params}\")\n",
    "print(f\"best RMSE: {study.best_value}\")"
   ]
  },
  {
   "cell_type": "markdown",
   "metadata": {},
   "source": [
    "# Training Final Model"
   ]
  },
  {
   "cell_type": "code",
   "execution_count": null,
   "metadata": {},
   "outputs": [
    {
     "data": {
      "text/plain": [
       "['../models/Sequence+1.0.joblib']"
      ]
     },
     "execution_count": 22,
     "metadata": {},
     "output_type": "execute_result"
    }
   ],
   "source": [
    "final_pipeline = Pipeline([\n",
    "    (\"scaler\", RobustScaler(copy=False)),\n",
    "    (\"model\", LGBMRegressor(\n",
    "        random_state=42,\n",
    "        n_jobs=-1,\n",
    "        max_depth=-1,\n",
    "        **study.best_params,\n",
    "    ))\n",
    "])\n",
    "\n",
    "X_train, X_test, y_train, y_test = train_test_split(\n",
    "    X.select(*SELECTED_FEATURES), y.select(RESPONSE),\n",
    "    test_size=0.3,\n",
    "    random_state=42,\n",
    ")\n",
    "\n",
    "X_train = X_train.to_numpy()\n",
    "X_test = X_test.to_numpy()\n",
    "y_train = y_train.to_numpy().flatten()\n",
    "y_test = y_test.to_numpy().flatten()\n",
    "\n",
    "final_pipeline.fit(X_train, y_train)\n",
    "\n",
    "# commenting this out for now so that we don't overwrite the model slightly\n",
    "# each time we run this cell.\n",
    "# joblib.dump(\n",
    "#     final_pipeline, \n",
    "#     os.path.join(\"..\", \"models\", \"Sequence+1.0.joblib\"),\n",
    "# )"
   ]
  },
  {
   "cell_type": "markdown",
   "metadata": {},
   "source": [
    "## Standardize\n",
    "\n",
    "Center Sequence+ around 100"
   ]
  },
  {
   "cell_type": "code",
   "execution_count": null,
   "metadata": {},
   "outputs": [
    {
     "data": {
      "text/html": [
       "<div><style>\n",
       ".dataframe > thead > tr,\n",
       ".dataframe > tbody > tr {\n",
       "  text-align: right;\n",
       "  white-space: pre-wrap;\n",
       "}\n",
       "</style>\n",
       "<small>shape: (9, 2)</small><table border=\"1\" class=\"dataframe\"><thead><tr><th>statistic</th><th>pred_seq_delta_run_exp</th></tr><tr><td>str</td><td>f64</td></tr></thead><tbody><tr><td>&quot;count&quot;</td><td>740433.0</td></tr><tr><td>&quot;null_count&quot;</td><td>0.0</td></tr><tr><td>&quot;mean&quot;</td><td>-0.003017</td></tr><tr><td>&quot;std&quot;</td><td>0.022241</td></tr><tr><td>&quot;min&quot;</td><td>-0.07988</td></tr><tr><td>&quot;25%&quot;</td><td>-0.017478</td></tr><tr><td>&quot;50%&quot;</td><td>-0.006858</td></tr><tr><td>&quot;75%&quot;</td><td>0.006429</td></tr><tr><td>&quot;max&quot;</td><td>0.185293</td></tr></tbody></table></div>"
      ],
      "text/plain": [
       "shape: (9, 2)\n",
       "┌────────────┬────────────────────────┐\n",
       "│ statistic  ┆ pred_seq_delta_run_exp │\n",
       "│ ---        ┆ ---                    │\n",
       "│ str        ┆ f64                    │\n",
       "╞════════════╪════════════════════════╡\n",
       "│ count      ┆ 740433.0               │\n",
       "│ null_count ┆ 0.0                    │\n",
       "│ mean       ┆ -0.003017              │\n",
       "│ std        ┆ 0.022241               │\n",
       "│ min        ┆ -0.07988               │\n",
       "│ 25%        ┆ -0.017478              │\n",
       "│ 50%        ┆ -0.006858              │\n",
       "│ 75%        ┆ 0.006429               │\n",
       "│ max        ┆ 0.185293               │\n",
       "└────────────┴────────────────────────┘"
      ]
     },
     "execution_count": 23,
     "metadata": {},
     "output_type": "execute_result"
    }
   ],
   "source": [
    "def predict_on_df(df: pl.DataFrame) -> pl.DataFrame:\n",
    "    return df.with_columns(\n",
    "        pl.Series(\n",
    "            name=\"pred_seq_delta_run_exp\",\n",
    "            values=final_pipeline.predict(\n",
    "                df.select(*SELECTED_FEATURES)\n",
    "                .to_numpy()\n",
    "            )\n",
    "        )\n",
    "    )\n",
    "\n",
    "test_df_pred = test_df.pipe(predict_on_df)\n",
    "\n",
    "test_df_pred.select(\"pred_seq_delta_run_exp\").describe()"
   ]
  },
  {
   "cell_type": "code",
   "execution_count": null,
   "metadata": {},
   "outputs": [
    {
     "data": {
      "text/html": [
       "<div><style>\n",
       ".dataframe > thead > tr,\n",
       ".dataframe > tbody > tr {\n",
       "  text-align: right;\n",
       "  white-space: pre-wrap;\n",
       "}\n",
       "</style>\n",
       "<small>shape: (9, 4)</small><table border=\"1\" class=\"dataframe\"><thead><tr><th>statistic</th><th>pred_seq_delta_run_exp</th><th>pred_seq_delta_run_exp_zscore</th><th>Sequence+</th></tr><tr><td>str</td><td>f64</td><td>f64</td><td>f64</td></tr></thead><tbody><tr><td>&quot;count&quot;</td><td>740433.0</td><td>740433.0</td><td>740433.0</td></tr><tr><td>&quot;null_count&quot;</td><td>0.0</td><td>0.0</td><td>0.0</td></tr><tr><td>&quot;mean&quot;</td><td>-0.003017</td><td>-5.0592e-17</td><td>100.0</td></tr><tr><td>&quot;std&quot;</td><td>0.022241</td><td>1.0</td><td>10.0</td></tr><tr><td>&quot;min&quot;</td><td>-0.07988</td><td>-3.455844</td><td>15.333862</td></tr><tr><td>&quot;25%&quot;</td><td>-0.017478</td><td>-0.650197</td><td>95.752991</td></tr><tr><td>&quot;50%&quot;</td><td>-0.006858</td><td>-0.172711</td><td>101.727112</td></tr><tr><td>&quot;75%&quot;</td><td>0.006429</td><td>0.424701</td><td>106.501969</td></tr><tr><td>&quot;max&quot;</td><td>0.185293</td><td>8.466614</td><td>134.558442</td></tr></tbody></table></div>"
      ],
      "text/plain": [
       "shape: (9, 4)\n",
       "┌────────────┬────────────────────────┬───────────────────────────────┬────────────┐\n",
       "│ statistic  ┆ pred_seq_delta_run_exp ┆ pred_seq_delta_run_exp_zscore ┆ Sequence+  │\n",
       "│ ---        ┆ ---                    ┆ ---                           ┆ ---        │\n",
       "│ str        ┆ f64                    ┆ f64                           ┆ f64        │\n",
       "╞════════════╪════════════════════════╪═══════════════════════════════╪════════════╡\n",
       "│ count      ┆ 740433.0               ┆ 740433.0                      ┆ 740433.0   │\n",
       "│ null_count ┆ 0.0                    ┆ 0.0                           ┆ 0.0        │\n",
       "│ mean       ┆ -0.003017              ┆ -5.0592e-17                   ┆ 100.0      │\n",
       "│ std        ┆ 0.022241               ┆ 1.0                           ┆ 10.0       │\n",
       "│ min        ┆ -0.07988               ┆ -3.455844                     ┆ 15.333862  │\n",
       "│ 25%        ┆ -0.017478              ┆ -0.650197                     ┆ 95.752991  │\n",
       "│ 50%        ┆ -0.006858              ┆ -0.172711                     ┆ 101.727112 │\n",
       "│ 75%        ┆ 0.006429               ┆ 0.424701                      ┆ 106.501969 │\n",
       "│ max        ┆ 0.185293               ┆ 8.466614                      ┆ 134.558442 │\n",
       "└────────────┴────────────────────────┴───────────────────────────────┴────────────┘"
      ]
     },
     "execution_count": 24,
     "metadata": {},
     "output_type": "execute_result"
    }
   ],
   "source": [
    "def compute_sequence_plus(df: pl.DataFrame) -> pl.DataFrame:\n",
    "\n",
    "    def get_zscores(df: pl.DataFrame) -> pl.DataFrame:\n",
    "        return df.with_columns(\n",
    "            ((pl.col(\"pred_seq_delta_run_exp\") \n",
    "            - pl.col(\"pred_seq_delta_run_exp\").mean())\n",
    "            / pl.col(\"pred_seq_delta_run_exp\").std())\n",
    "            .alias(\"pred_seq_delta_run_exp_zscore\")\n",
    "        )\n",
    "    \n",
    "    return df.pipe(get_zscores).with_columns(\n",
    "        (100 - (pl.col(\"pred_seq_delta_run_exp_zscore\") * 10))\n",
    "        .alias(\"Sequence+\")\n",
    "    )\n",
    "\n",
    "\n",
    "test_df_pred = test_df_pred.pipe(compute_sequence_plus)\n",
    "\n",
    "(test_df_pred\n",
    "    .select(\"pred_seq_delta_run_exp\",\n",
    "            \"pred_seq_delta_run_exp_zscore\",\n",
    "            \"Sequence+\")\n",
    "    .describe())"
   ]
  },
  {
   "cell_type": "markdown",
   "metadata": {},
   "source": [
    "# Evaluating Sequence+\n",
    "\n",
    "analyze correlations between Sequence+ and other descriptive/predictive MLB metrics like FIP, "
   ]
  },
  {
   "cell_type": "code",
   "execution_count": null,
   "metadata": {},
   "outputs": [
    {
     "data": {
      "text/html": [
       "<div><style>\n",
       ".dataframe > thead > tr,\n",
       ".dataframe > tbody > tr {\n",
       "  text-align: right;\n",
       "  white-space: pre-wrap;\n",
       "}\n",
       "</style>\n",
       "<small>shape: (54, 398)</small><table border=\"1\" class=\"dataframe\"><thead><tr><th>pitcher</th><th>player_name</th><th>Mean Sequence+</th><th>IDfg</th><th>Season</th><th>Name</th><th>Team</th><th>Age</th><th>W</th><th>L</th><th>WAR</th><th>ERA</th><th>G</th><th>GS</th><th>CG</th><th>ShO</th><th>SV</th><th>BS</th><th>IP</th><th>TBF</th><th>H</th><th>R</th><th>ER</th><th>HR</th><th>BB</th><th>IBB</th><th>HBP</th><th>WP</th><th>BK</th><th>SO</th><th>GB</th><th>FB</th><th>LD</th><th>IFFB</th><th>Balls</th><th>Strikes</th><th>Pitches</th><th>&hellip;</th><th>botCmd FS</th><th>botOvr</th><th>botStf</th><th>botCmd</th><th>botxRV100</th><th>Stf+ CH</th><th>Loc+ CH</th><th>Pit+ CH</th><th>Stf+ CU</th><th>Loc+ CU</th><th>Pit+ CU</th><th>Stf+ FA</th><th>Loc+ FA</th><th>Pit+ FA</th><th>Stf+ SI</th><th>Loc+ SI</th><th>Pit+ SI</th><th>Stf+ SL</th><th>Loc+ SL</th><th>Pit+ SL</th><th>Stf+ KC</th><th>Loc+ KC</th><th>Pit+ KC</th><th>Stf+ FC</th><th>Loc+ FC</th><th>Pit+ FC</th><th>Stf+ FS</th><th>Loc+ FS</th><th>Pit+ FS</th><th>Stuff+</th><th>Location+</th><th>Pitching+</th><th>Stf+ FO</th><th>Loc+ FO</th><th>Pit+ FO</th><th>first_name</th><th>last_name</th></tr><tr><td>i64</td><td>str</td><td>f64</td><td>i64</td><td>i64</td><td>str</td><td>str</td><td>i64</td><td>i64</td><td>i64</td><td>f64</td><td>f64</td><td>i64</td><td>i64</td><td>i64</td><td>i64</td><td>i64</td><td>i64</td><td>f64</td><td>i64</td><td>i64</td><td>i64</td><td>i64</td><td>i64</td><td>i64</td><td>i64</td><td>i64</td><td>i64</td><td>i64</td><td>i64</td><td>i64</td><td>i64</td><td>i64</td><td>i64</td><td>i64</td><td>i64</td><td>i64</td><td>&hellip;</td><td>f64</td><td>i64</td><td>i64</td><td>i64</td><td>f64</td><td>f64</td><td>f64</td><td>f64</td><td>f64</td><td>f64</td><td>f64</td><td>f64</td><td>f64</td><td>f64</td><td>f64</td><td>f64</td><td>f64</td><td>f64</td><td>f64</td><td>f64</td><td>f64</td><td>f64</td><td>f64</td><td>f64</td><td>f64</td><td>f64</td><td>f64</td><td>f64</td><td>f64</td><td>i64</td><td>i64</td><td>i64</td><td>f64</td><td>f64</td><td>f64</td><td>str</td><td>str</td></tr></thead><tbody><tr><td>641927</td><td>&quot;Ober, Bailey&quot;</td><td>100.154623</td><td>21224</td><td>2024</td><td>&quot;Bailey Ober&quot;</td><td>&quot;MIN&quot;</td><td>28</td><td>12</td><td>9</td><td>2.9</td><td>3.98</td><td>31</td><td>31</td><td>1</td><td>0</td><td>0</td><td>0</td><td>178.2</td><td>709</td><td>136</td><td>81</td><td>79</td><td>27</td><td>43</td><td>0</td><td>6</td><td>1</td><td>0</td><td>191</td><td>156</td><td>234</td><td>75</td><td>24</td><td>876</td><td>1821</td><td>2697</td><td>&hellip;</td><td>null</td><td>57</td><td>48</td><td>65</td><td>-0.3</td><td>116.0</td><td>111.0</td><td>111.0</td><td>94.0</td><td>99.0</td><td>103.0</td><td>81.0</td><td>104.0</td><td>96.0</td><td>null</td><td>null</td><td>null</td><td>74.0</td><td>100.0</td><td>101.0</td><td>null</td><td>null</td><td>null</td><td>84.0</td><td>104.0</td><td>100.0</td><td>null</td><td>null</td><td>null</td><td>91</td><td>105</td><td>102</td><td>null</td><td>null</td><td>null</td><td>&quot;Bailey&quot;</td><td>&quot;Ober&quot;</td></tr><tr><td>605400</td><td>&quot;Nola, Aaron&quot;</td><td>99.228656</td><td>16149</td><td>2024</td><td>&quot;Aaron Nola&quot;</td><td>&quot;PHI&quot;</td><td>31</td><td>14</td><td>8</td><td>3.2</td><td>3.57</td><td>33</td><td>33</td><td>1</td><td>1</td><td>0</td><td>0</td><td>199.1</td><td>820</td><td>189</td><td>84</td><td>79</td><td>30</td><td>50</td><td>0</td><td>3</td><td>2</td><td>0</td><td>197</td><td>252</td><td>192</td><td>122</td><td>16</td><td>1101</td><td>2092</td><td>3193</td><td>&hellip;</td><td>null</td><td>57</td><td>49</td><td>61</td><td>-0.3</td><td>78.0</td><td>102.0</td><td>91.0</td><td>null</td><td>null</td><td>null</td><td>90.0</td><td>103.0</td><td>99.0</td><td>100.0</td><td>109.0</td><td>106.0</td><td>null</td><td>null</td><td>null</td><td>135.0</td><td>106.0</td><td>113.0</td><td>69.0</td><td>99.0</td><td>92.0</td><td>null</td><td>null</td><td>null</td><td>104</td><td>105</td><td>103</td><td>null</td><td>null</td><td>null</td><td>&quot;Aaron&quot;</td><td>&quot;Nola&quot;</td></tr><tr><td>500779</td><td>&quot;Quintana, Jose&quot;</td><td>97.498001</td><td>11423</td><td>2024</td><td>&quot;Jose Quintana&quot;</td><td>&quot;NYM&quot;</td><td>35</td><td>10</td><td>10</td><td>1.0</td><td>3.75</td><td>31</td><td>31</td><td>0</td><td>0</td><td>0</td><td>0</td><td>170.1</td><td>717</td><td>150</td><td>73</td><td>71</td><td>22</td><td>63</td><td>0</td><td>11</td><td>7</td><td>0</td><td>135</td><td>237</td><td>175</td><td>88</td><td>12</td><td>1150</td><td>1676</td><td>2826</td><td>&hellip;</td><td>null</td><td>40</td><td>38</td><td>43</td><td>0.75</td><td>70.0</td><td>100.0</td><td>97.0</td><td>110.0</td><td>100.0</td><td>99.0</td><td>70.0</td><td>92.0</td><td>85.0</td><td>76.0</td><td>97.0</td><td>91.0</td><td>null</td><td>null</td><td>null</td><td>null</td><td>null</td><td>null</td><td>null</td><td>null</td><td>null</td><td>null</td><td>null</td><td>null</td><td>83</td><td>97</td><td>93</td><td>null</td><td>null</td><td>null</td><td>&quot;Jose&quot;</td><td>&quot;Quintana&quot;</td></tr><tr><td>543135</td><td>&quot;Eovaldi, Nathan&quot;</td><td>99.671489</td><td>9132</td><td>2024</td><td>&quot;Nathan Eovaldi&quot;</td><td>&quot;TEX&quot;</td><td>34</td><td>12</td><td>8</td><td>2.7</td><td>3.8</td><td>29</td><td>29</td><td>0</td><td>0</td><td>0</td><td>0</td><td>170.2</td><td>696</td><td>147</td><td>74</td><td>72</td><td>23</td><td>42</td><td>0</td><td>7</td><td>3</td><td>0</td><td>166</td><td>231</td><td>157</td><td>90</td><td>11</td><td>845</td><td>1778</td><td>2623</td><td>&hellip;</td><td>61.0</td><td>55</td><td>44</td><td>61</td><td>-0.16</td><td>null</td><td>null</td><td>null</td><td>99.0</td><td>104.0</td><td>104.0</td><td>75.0</td><td>105.0</td><td>98.0</td><td>null</td><td>null</td><td>null</td><td>114.0</td><td>102.0</td><td>102.0</td><td>null</td><td>null</td><td>null</td><td>91.0</td><td>108.0</td><td>99.0</td><td>127.0</td><td>101.0</td><td>110.0</td><td>98</td><td>104</td><td>103</td><td>null</td><td>null</td><td>null</td><td>&quot;Nathan&quot;</td><td>&quot;Eovaldi&quot;</td></tr><tr><td>686613</td><td>&quot;Brown, Hunter&quot;</td><td>99.769052</td><td>25880</td><td>2024</td><td>&quot;Hunter Brown&quot;</td><td>&quot;HOU&quot;</td><td>25</td><td>11</td><td>9</td><td>3.1</td><td>3.49</td><td>31</td><td>30</td><td>0</td><td>0</td><td>0</td><td>0</td><td>170.0</td><td>712</td><td>156</td><td>71</td><td>66</td><td>18</td><td>60</td><td>0</td><td>5</td><td>4</td><td>1</td><td>179</td><td>228</td><td>142</td><td>96</td><td>19</td><td>1069</td><td>1821</td><td>2890</td><td>&hellip;</td><td>null</td><td>51</td><td>50</td><td>52</td><td>0.09</td><td>84.0</td><td>101.0</td><td>102.0</td><td>null</td><td>null</td><td>null</td><td>110.0</td><td>101.0</td><td>102.0</td><td>93.0</td><td>102.0</td><td>98.0</td><td>110.0</td><td>103.0</td><td>107.0</td><td>127.0</td><td>100.0</td><td>106.0</td><td>90.0</td><td>103.0</td><td>101.0</td><td>null</td><td>null</td><td>null</td><td>103</td><td>101</td><td>101</td><td>null</td><td>null</td><td>null</td><td>&quot;Hunter&quot;</td><td>&quot;Brown&quot;</td></tr><tr><td>&hellip;</td><td>&hellip;</td><td>&hellip;</td><td>&hellip;</td><td>&hellip;</td><td>&hellip;</td><td>&hellip;</td><td>&hellip;</td><td>&hellip;</td><td>&hellip;</td><td>&hellip;</td><td>&hellip;</td><td>&hellip;</td><td>&hellip;</td><td>&hellip;</td><td>&hellip;</td><td>&hellip;</td><td>&hellip;</td><td>&hellip;</td><td>&hellip;</td><td>&hellip;</td><td>&hellip;</td><td>&hellip;</td><td>&hellip;</td><td>&hellip;</td><td>&hellip;</td><td>&hellip;</td><td>&hellip;</td><td>&hellip;</td><td>&hellip;</td><td>&hellip;</td><td>&hellip;</td><td>&hellip;</td><td>&hellip;</td><td>&hellip;</td><td>&hellip;</td><td>&hellip;</td><td>&hellip;</td><td>&hellip;</td><td>&hellip;</td><td>&hellip;</td><td>&hellip;</td><td>&hellip;</td><td>&hellip;</td><td>&hellip;</td><td>&hellip;</td><td>&hellip;</td><td>&hellip;</td><td>&hellip;</td><td>&hellip;</td><td>&hellip;</td><td>&hellip;</td><td>&hellip;</td><td>&hellip;</td><td>&hellip;</td><td>&hellip;</td><td>&hellip;</td><td>&hellip;</td><td>&hellip;</td><td>&hellip;</td><td>&hellip;</td><td>&hellip;</td><td>&hellip;</td><td>&hellip;</td><td>&hellip;</td><td>&hellip;</td><td>&hellip;</td><td>&hellip;</td><td>&hellip;</td><td>&hellip;</td><td>&hellip;</td><td>&hellip;</td><td>&hellip;</td><td>&hellip;</td><td>&hellip;</td></tr><tr><td>663623</td><td>&quot;Irvin, Jake&quot;</td><td>99.727164</td><td>21504</td><td>2024</td><td>&quot;Jake Irvin&quot;</td><td>&quot;WSN&quot;</td><td>27</td><td>10</td><td>14</td><td>1.8</td><td>4.41</td><td>33</td><td>33</td><td>0</td><td>0</td><td>0</td><td>0</td><td>187.2</td><td>769</td><td>173</td><td>97</td><td>92</td><td>29</td><td>52</td><td>1</td><td>4</td><td>5</td><td>1</td><td>156</td><td>243</td><td>203</td><td>107</td><td>16</td><td>1061</td><td>1985</td><td>3046</td><td>&hellip;</td><td>null</td><td>53</td><td>45</td><td>57</td><td>-0.06</td><td>99.0</td><td>91.0</td><td>93.0</td><td>110.0</td><td>104.0</td><td>106.0</td><td>82.0</td><td>104.0</td><td>97.0</td><td>97.0</td><td>102.0</td><td>102.0</td><td>110.0</td><td>115.0</td><td>117.0</td><td>null</td><td>null</td><td>null</td><td>78.0</td><td>102.0</td><td>93.0</td><td>null</td><td>null</td><td>null</td><td>94</td><td>103</td><td>101</td><td>null</td><td>null</td><td>null</td><td>&quot;Jake&quot;</td><td>&quot;Irvin&quot;</td></tr><tr><td>669923</td><td>&quot;Kirby, George&quot;</td><td>102.009427</td><td>25436</td><td>2024</td><td>&quot;George Kirby&quot;</td><td>&quot;SEA&quot;</td><td>26</td><td>14</td><td>11</td><td>4.2</td><td>3.53</td><td>33</td><td>33</td><td>0</td><td>0</td><td>0</td><td>0</td><td>191.0</td><td>778</td><td>181</td><td>82</td><td>75</td><td>22</td><td>23</td><td>0</td><td>7</td><td>5</td><td>1</td><td>179</td><td>232</td><td>229</td><td>101</td><td>25</td><td>937</td><td>2032</td><td>2969</td><td>&hellip;</td><td>49.0</td><td>61</td><td>53</td><td>62</td><td>-0.54</td><td>null</td><td>null</td><td>null</td><td>null</td><td>null</td><td>null</td><td>102.0</td><td>107.0</td><td>101.0</td><td>106.0</td><td>108.0</td><td>108.0</td><td>110.0</td><td>104.0</td><td>110.0</td><td>114.0</td><td>110.0</td><td>113.0</td><td>97.0</td><td>99.0</td><td>93.0</td><td>109.0</td><td>100.0</td><td>108.0</td><td>106</td><td>106</td><td>106</td><td>null</td><td>null</td><td>null</td><td>&quot;George&quot;</td><td>&quot;Kirby&quot;</td></tr><tr><td>543243</td><td>&quot;Gray, Sonny&quot;</td><td>101.193017</td><td>12768</td><td>2024</td><td>&quot;Sonny Gray&quot;</td><td>&quot;STL&quot;</td><td>34</td><td>13</td><td>9</td><td>3.8</td><td>3.84</td><td>28</td><td>28</td><td>0</td><td>0</td><td>0</td><td>0</td><td>166.1</td><td>671</td><td>142</td><td>79</td><td>71</td><td>21</td><td>39</td><td>0</td><td>3</td><td>7</td><td>1</td><td>203</td><td>176</td><td>147</td><td>93</td><td>11</td><td>835</td><td>1651</td><td>2486</td><td>&hellip;</td><td>null</td><td>62</td><td>58</td><td>54</td><td>-0.61</td><td>69.0</td><td>91.0</td><td>86.0</td><td>119.0</td><td>96.0</td><td>97.0</td><td>107.0</td><td>97.0</td><td>101.0</td><td>93.0</td><td>114.0</td><td>112.0</td><td>152.0</td><td>114.0</td><td>125.0</td><td>null</td><td>null</td><td>null</td><td>92.0</td><td>98.0</td><td>96.0</td><td>null</td><td>null</td><td>null</td><td>110</td><td>103</td><td>105</td><td>null</td><td>null</td><td>null</td><td>&quot;Sonny&quot;</td><td>&quot;Gray&quot;</td></tr><tr><td>694297</td><td>&quot;Pfaadt, Brandon&quot;</td><td>98.822002</td><td>27782</td><td>2024</td><td>&quot;Brandon Pfaadt&quot;</td><td>&quot;ARI&quot;</td><td>25</td><td>11</td><td>10</td><td>3.1</td><td>4.71</td><td>32</td><td>32</td><td>0</td><td>0</td><td>0</td><td>0</td><td>181.2</td><td>760</td><td>183</td><td>103</td><td>95</td><td>24</td><td>42</td><td>1</td><td>4</td><td>1</td><td>0</td><td>185</td><td>217</td><td>203</td><td>103</td><td>20</td><td>928</td><td>1869</td><td>2797</td><td>&hellip;</td><td>null</td><td>65</td><td>57</td><td>64</td><td>-0.83</td><td>92.0</td><td>102.0</td><td>96.0</td><td>106.0</td><td>102.0</td><td>104.0</td><td>95.0</td><td>106.0</td><td>103.0</td><td>89.0</td><td>106.0</td><td>104.0</td><td>143.0</td><td>109.0</td><td>119.0</td><td>null</td><td>null</td><td>null</td><td>null</td><td>null</td><td>null</td><td>null</td><td>null</td><td>null</td><td>107</td><td>106</td><td>107</td><td>null</td><td>null</td><td>null</td><td>&quot;Brandon&quot;</td><td>&quot;Pfaadt&quot;</td></tr><tr><td>663372</td><td>&quot;Feltner, Ryan&quot;</td><td>99.066839</td><td>21446</td><td>2024</td><td>&quot;Ryan Feltner&quot;</td><td>&quot;COL&quot;</td><td>27</td><td>3</td><td>10</td><td>2.4</td><td>4.49</td><td>30</td><td>30</td><td>0</td><td>0</td><td>0</td><td>0</td><td>162.1</td><td>692</td><td>165</td><td>94</td><td>81</td><td>20</td><td>52</td><td>0</td><td>7</td><td>4</td><td>0</td><td>138</td><td>221</td><td>173</td><td>98</td><td>13</td><td>918</td><td>1662</td><td>2580</td><td>&hellip;</td><td>null</td><td>48</td><td>43</td><td>51</td><td>0.24</td><td>117.0</td><td>95.0</td><td>102.0</td><td>108.0</td><td>107.0</td><td>113.0</td><td>81.0</td><td>102.0</td><td>96.0</td><td>93.0</td><td>93.0</td><td>89.0</td><td>109.0</td><td>99.0</td><td>104.0</td><td>null</td><td>null</td><td>null</td><td>null</td><td>null</td><td>null</td><td>null</td><td>null</td><td>null</td><td>97</td><td>100</td><td>99</td><td>null</td><td>null</td><td>null</td><td>&quot;Ryan&quot;</td><td>&quot;Feltner&quot;</td></tr></tbody></table></div>"
      ],
      "text/plain": [
       "shape: (54, 398)\n",
       "┌─────────┬──────────────────┬────────────┬───────┬───┬─────────┬─────────┬────────────┬───────────┐\n",
       "│ pitcher ┆ player_name      ┆ Mean       ┆ IDfg  ┆ … ┆ Loc+ FO ┆ Pit+ FO ┆ first_name ┆ last_name │\n",
       "│ ---     ┆ ---              ┆ Sequence+  ┆ ---   ┆   ┆ ---     ┆ ---     ┆ ---        ┆ ---       │\n",
       "│ i64     ┆ str              ┆ ---        ┆ i64   ┆   ┆ f64     ┆ f64     ┆ str        ┆ str       │\n",
       "│         ┆                  ┆ f64        ┆       ┆   ┆         ┆         ┆            ┆           │\n",
       "╞═════════╪══════════════════╪════════════╪═══════╪═══╪═════════╪═════════╪════════════╪═══════════╡\n",
       "│ 641927  ┆ Ober, Bailey     ┆ 100.154623 ┆ 21224 ┆ … ┆ null    ┆ null    ┆ Bailey     ┆ Ober      │\n",
       "│ 605400  ┆ Nola, Aaron      ┆ 99.228656  ┆ 16149 ┆ … ┆ null    ┆ null    ┆ Aaron      ┆ Nola      │\n",
       "│ 500779  ┆ Quintana, Jose   ┆ 97.498001  ┆ 11423 ┆ … ┆ null    ┆ null    ┆ Jose       ┆ Quintana  │\n",
       "│ 543135  ┆ Eovaldi, Nathan  ┆ 99.671489  ┆ 9132  ┆ … ┆ null    ┆ null    ┆ Nathan     ┆ Eovaldi   │\n",
       "│ 686613  ┆ Brown, Hunter    ┆ 99.769052  ┆ 25880 ┆ … ┆ null    ┆ null    ┆ Hunter     ┆ Brown     │\n",
       "│ …       ┆ …                ┆ …          ┆ …     ┆ … ┆ …       ┆ …       ┆ …          ┆ …         │\n",
       "│ 663623  ┆ Irvin, Jake      ┆ 99.727164  ┆ 21504 ┆ … ┆ null    ┆ null    ┆ Jake       ┆ Irvin     │\n",
       "│ 669923  ┆ Kirby, George    ┆ 102.009427 ┆ 25436 ┆ … ┆ null    ┆ null    ┆ George     ┆ Kirby     │\n",
       "│ 543243  ┆ Gray, Sonny      ┆ 101.193017 ┆ 12768 ┆ … ┆ null    ┆ null    ┆ Sonny      ┆ Gray      │\n",
       "│ 694297  ┆ Pfaadt, Brandon  ┆ 98.822002  ┆ 27782 ┆ … ┆ null    ┆ null    ┆ Brandon    ┆ Pfaadt    │\n",
       "│ 663372  ┆ Feltner, Ryan    ┆ 99.066839  ┆ 21446 ┆ … ┆ null    ┆ null    ┆ Ryan       ┆ Feltner   │\n",
       "└─────────┴──────────────────┴────────────┴───────┴───┴─────────┴─────────┴────────────┴───────────┘"
      ]
     },
     "execution_count": 78,
     "metadata": {},
     "output_type": "execute_result"
    }
   ],
   "source": [
    "fg_24 = (pl.from_pandas(pybaseball.pitching_stats(2024))\n",
    "         .with_columns(\n",
    "          pl.col(\"Name\").str.split(\" \").list.get(0).alias(\"first_name\"),\n",
    "          pl.col(\"Name\").str.split(\" \").list.get(1).alias(\"last_name\")\n",
    "         )\n",
    "         .with_columns(\n",
    "             (pl.col(\"last_name\") + \", \" + pl.col(\"first_name\"))\n",
    "             .alias(\"player_name\")\n",
    "         ))\n",
    "\n",
    "pitches_24_df = (pl.LazyFrame\n",
    "                 .deserialize(os.path.join(DATA_DIR, \"two_pitch_seqs_lf\"))\n",
    "                 .filter(pl.col(\"game_date\").dt.year() == 2024)\n",
    "                 .collect()\n",
    "                 .pipe(predict_on_df)\n",
    "                 .pipe(compute_sequence_plus)\n",
    "                 .group_by(\"pitcher\", \"player_name\")\n",
    "                 .agg(\n",
    "                    pl.col(\"Sequence+\").mean().alias(\"Mean Sequence+\"),\n",
    "                 )\n",
    "                 .join(\n",
    "                     other=fg_24,\n",
    "                     on=\"player_name\",\n",
    "                     how=\"inner\",\n",
    "                 ))\n",
    "\n",
    "pitches_24_df.head()"
   ]
  },
  {
   "cell_type": "code",
   "execution_count": null,
   "metadata": {},
   "outputs": [],
   "source": []
  }
 ],
 "metadata": {
  "colab": {
   "provenance": []
  },
  "kernelspec": {
   "display_name": "venv",
   "language": "python",
   "name": "python3"
  },
  "language_info": {
   "codemirror_mode": {
    "name": "ipython",
    "version": 3
   },
   "file_extension": ".py",
   "mimetype": "text/x-python",
   "name": "python",
   "nbconvert_exporter": "python",
   "pygments_lexer": "ipython3",
   "version": "3.9.20"
  }
 },
 "nbformat": 4,
 "nbformat_minor": 0
}
