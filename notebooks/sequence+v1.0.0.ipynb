{
 "cells": [
  {
   "cell_type": "markdown",
   "metadata": {
    "id": "IhyQM2zcCA_0"
   },
   "source": [
    "# Sequence+v1.0\n",
    "\n",
    "**Goal**: Build a model that can predict the total run value for any given *two* pitch sequence<br>\n",
    "**Author**: Jensen Holm <br>\n",
    "**Date**: October / November 2024"
   ]
  },
  {
   "cell_type": "code",
   "execution_count": 20,
   "metadata": {
    "colab": {
     "base_uri": "https://localhost:8080/"
    },
    "id": "dd-JEg8_CA_2",
    "outputId": "e674ab36-f753-45ff-cb81-cf323c0ae9d9"
   },
   "outputs": [],
   "source": [
    "import statcast_pitches\n",
    "import plotly.express as px\n",
    "from plotnine import *\n",
    "import polars as pl\n",
    "import polars.selectors as cs\n",
    "import numpy as np\n",
    "import os\n",
    "from sklearn.model_selection import train_test_split\n",
    "from sklearn.pipeline import Pipeline\n",
    "from sklearn.preprocessing import RobustScaler\n",
    "from sklearn.compose import ColumnTransformer\n",
    "from lightgbm import LGBMRegressor\n",
    "from sklearn.feature_selection import RFECV\n",
    "import optuna\n",
    "import joblib\n",
    "\n",
    "DATA_DIR = os.path.join(\"..\", \"data\")"
   ]
  },
  {
   "cell_type": "markdown",
   "metadata": {
    "id": "1OchF0j5CA_2"
   },
   "source": [
    "## Loading Data\n",
    "\n",
    "Using all pitches thrown in the statcast-era (2015-present) as our data for this model. <br>\n",
    "I will also be using `../data/run_values.csv` for calculating run values of each pitch, this data represents 2024 only.\n",
    "\n",
    "**Data Dictionary**: [link](https://baseballsavant.mlb.com/csv-docs) <br>\n",
    "**statcast_pitches package info**: [link](https://github.com/Jensen-holm/statcast-era-pitches)"
   ]
  },
  {
   "cell_type": "code",
   "execution_count": 2,
   "metadata": {
    "colab": {
     "base_uri": "https://localhost:8080/"
    },
    "id": "tuo74Jy-CA_2",
    "outputId": "9e94a64f-383f-44e8-ce91-571aa1e5ce8f"
   },
   "outputs": [
    {
     "name": "stdout",
     "output_type": "stream",
     "text": [
      "N Pitches: 3,349,317\n",
      "Date Range: 2020-07-23 - 2024-10-30\n"
     ]
    }
   ],
   "source": [
    "# use statcast pitches to get all pitches thrown in since hawkeye began\n",
    "pitches_lf: pl.LazyFrame = (statcast_pitches.load()\n",
    "                            .filter(pl.col(\"game_date\").dt.year().is_in([2020, 2021, 2022, 2023, 2024])))\n",
    "\n",
    "latest_date = pitches_lf.select(\"game_date\").max().collect().item().date()\n",
    "earliest_date = pitches_lf.select(\"game_date\").min().collect().item().date()\n",
    "n_pitches = pitches_lf.select(pl.len()).collect().item()\n",
    "\n",
    "run_values_24_lf = pl.scan_csv(\n",
    "    os.path.join(DATA_DIR, \"run_values.csv\"),\n",
    ")\n",
    "\n",
    "print(f\"N Pitches: {n_pitches:,}\")\n",
    "print(f\"Date Range: {earliest_date} - {latest_date}\")"
   ]
  },
  {
   "cell_type": "markdown",
   "metadata": {
    "id": "fgooM30WCA_3"
   },
   "source": [
    "# Feature Engineering\n",
    "\n",
    "adding the following features to `pitches_df`\n",
    "\n",
    "| Feature Name | Description |\n",
    "|------|-------------|\n",
    "| **delta_run_exp** | run value associated with the pitch outcome from `run_values_24`|\n",
    "| **x_0.120** | position in the x dimension of the pitch at decision time (~0.12s) |\n",
    "| **y_0.120** | position in the y dimension of the pitch at decision time (~0.12s) |\n",
    "| **z_0.120** | position in the z dimension of the pitch at decision time (~0.12s) |\n",
    "| **x_0.167** | position in the x dimension of the pitch at commit time (~0.167s) |\n",
    "| **y_0.167** | position in the y dimension of the pitch at commit time (~0.167s) |\n",
    "| **z_0.167** | position in the z dimension of the pitch at commit time (~0.167s) |\n",
    "| **velocity_diff** | difference in velocity between pitches in a two pitch sequence |\n",
    "| **effective_velocity_diff** | difference in effective velocity between pitches in a two pitch sequence |\n",
    "| **pfx_x_diff** | difference in horizontal movement between pitches in a two pitch sequence |\n",
    "| **pfx_z_diff** | difference in vertical movement between pitches in a two pitch sequence |\n",
    "| **3d_dist_0.167** | 3D euclidean distance between pitches in a two pitch sequence 0.167 seconds after release |\n",
    "| **3d_dist_0.120** | 3D distance between pitches in a two pitch sequence at 0.120 seconds after release |\n",
    "| **distance** | 2D euclidean distance between pitch locations when crossing the plate in a two pitch sequence |\n",
    "| **seq_delta_run_exp** | sum of `delta_run_exp` in a two pitch sequence |\n",
    "| **plate_x_diff** | difference in plate_x between pitches in a two pitch sequence |\n",
    "| **plate_z_diff** | difference in plate_z between pitches in a two pitch sequence |\n",
    "\n",
    "On top of adding these features, attributes from LHP should be mirrored as if they were thrown by a RHP for consistency"
   ]
  },
  {
   "cell_type": "markdown",
   "metadata": {
    "id": "_Kua2vl3CA_3"
   },
   "source": [
    "## Expected Run Value\n",
    "\n",
    "Joining the expected runs from run_values_24 to the pitches dataframe so that each pitch has an associated run value.\n",
    "\n",
    "**New Features**\n",
    "\n",
    "- `delta_run_exp`"
   ]
  },
  {
   "cell_type": "code",
   "execution_count": 3,
   "metadata": {},
   "outputs": [
    {
     "data": {
      "text/html": [
       "<div><style>\n",
       ".dataframe > thead > tr,\n",
       ".dataframe > tbody > tr {\n",
       "  text-align: right;\n",
       "  white-space: pre-wrap;\n",
       "}\n",
       "</style>\n",
       "<small>shape: (9, 6)</small><table border=\"1\" class=\"dataframe\"><thead><tr><th>statistic</th><th>pitch_type</th><th>description</th><th>balls</th><th>strikes</th><th>delta_run_exp</th></tr><tr><td>str</td><td>str</td><td>str</td><td>f64</td><td>f64</td><td>f64</td></tr></thead><tbody><tr><td>&quot;count&quot;</td><td>&quot;3275273&quot;</td><td>&quot;3349317&quot;</td><td>3.349317e6</td><td>3.349317e6</td><td>3.349317e6</td></tr><tr><td>&quot;null_count&quot;</td><td>&quot;74044&quot;</td><td>&quot;0&quot;</td><td>0.0</td><td>0.0</td><td>0.0</td></tr><tr><td>&quot;mean&quot;</td><td>null</td><td>null</td><td>0.869556</td><td>0.891261</td><td>0.000012</td></tr><tr><td>&quot;std&quot;</td><td>null</td><td>null</td><td>0.967163</td><td>0.828939</td><td>0.236284</td></tr><tr><td>&quot;min&quot;</td><td>&quot;CH&quot;</td><td>&quot;ball&quot;</td><td>0.0</td><td>0.0</td><td>-1.537</td></tr><tr><td>&quot;25%&quot;</td><td>null</td><td>null</td><td>0.0</td><td>0.0</td><td>-0.063</td></tr><tr><td>&quot;50%&quot;</td><td>null</td><td>null</td><td>1.0</td><td>1.0</td><td>0.0</td></tr><tr><td>&quot;75%&quot;</td><td>null</td><td>null</td><td>1.0</td><td>2.0</td><td>0.034</td></tr><tr><td>&quot;max&quot;</td><td>&quot;SV&quot;</td><td>&quot;swinging_strike_blocked&quot;</td><td>4.0</td><td>3.0</td><td>3.65</td></tr></tbody></table></div>"
      ],
      "text/plain": [
       "shape: (9, 6)\n",
       "┌────────────┬────────────┬─────────────────────────┬────────────┬────────────┬───────────────┐\n",
       "│ statistic  ┆ pitch_type ┆ description             ┆ balls      ┆ strikes    ┆ delta_run_exp │\n",
       "│ ---        ┆ ---        ┆ ---                     ┆ ---        ┆ ---        ┆ ---           │\n",
       "│ str        ┆ str        ┆ str                     ┆ f64        ┆ f64        ┆ f64           │\n",
       "╞════════════╪════════════╪═════════════════════════╪════════════╪════════════╪═══════════════╡\n",
       "│ count      ┆ 3275273    ┆ 3349317                 ┆ 3.349317e6 ┆ 3.349317e6 ┆ 3.349317e6    │\n",
       "│ null_count ┆ 74044      ┆ 0                       ┆ 0.0        ┆ 0.0        ┆ 0.0           │\n",
       "│ mean       ┆ null       ┆ null                    ┆ 0.869556   ┆ 0.891261   ┆ 0.000012      │\n",
       "│ std        ┆ null       ┆ null                    ┆ 0.967163   ┆ 0.828939   ┆ 0.236284      │\n",
       "│ min        ┆ CH         ┆ ball                    ┆ 0.0        ┆ 0.0        ┆ -1.537        │\n",
       "│ 25%        ┆ null       ┆ null                    ┆ 0.0        ┆ 0.0        ┆ -0.063        │\n",
       "│ 50%        ┆ null       ┆ null                    ┆ 1.0        ┆ 1.0        ┆ 0.0           │\n",
       "│ 75%        ┆ null       ┆ null                    ┆ 1.0        ┆ 2.0        ┆ 0.034         │\n",
       "│ max        ┆ SV         ┆ swinging_strike_blocked ┆ 4.0        ┆ 3.0        ┆ 3.65          │\n",
       "└────────────┴────────────┴─────────────────────────┴────────────┴────────────┴───────────────┘"
      ]
     },
     "execution_count": 3,
     "metadata": {},
     "output_type": "execute_result"
    }
   ],
   "source": [
    "def _standardize_events(lf: pl.LazyFrame) -> pl.LazyFrame:\n",
    "    \"\"\"Standardizes events to run_values.csv format\"\"\"\n",
    "    event_mapping = {\n",
    "        \"single\": \"single\",\n",
    "        \"double\": \"double\",\n",
    "        \"triple\": \"triple\",\n",
    "        \"home_run\": \"home_run\",\n",
    "        \"field_out\": \"field_out\",\n",
    "        \"strikeout\": \"strikeout\",\n",
    "        \"walk\": \"walk\",\n",
    "        \"hit_by_pitch\": \"hit_by_pitch\"\n",
    "    }\n",
    "\n",
    "    description_mapping = {\n",
    "        \"called_strike\": \"called_strike\",\n",
    "        \"swinging_strike\": \"swinging_strike\",\n",
    "        \"ball\": \"ball\",\n",
    "        \"foul\": \"foul\",\n",
    "        \"hit_by_pitch\": \"hit_by_pitch\"\n",
    "    }\n",
    "    return lf.with_columns([\n",
    "        # First try to map the event\n",
    "        pl.when(pl.col(\"events\").is_in(event_mapping.keys()))\n",
    "        .then(pl.col(\"events\"))\n",
    "        # If no event match, try to map the description\n",
    "        .otherwise(\n",
    "            pl.when(pl.col(\"description\").is_in(description_mapping.keys()))\n",
    "            .then(pl.col(\"description\"))\n",
    "            # If neither matches, mark as null\n",
    "            .otherwise(None)\n",
    "        ).alias(\"standardized_event\")\n",
    "    ])\n",
    "\n",
    "def add_pitch_run_value(pitches_lf: pl.LazyFrame, run_values_lf: pl.LazyFrame) -> pl.LazyFrame:\n",
    "    \"\"\"\n",
    "    Join run values to pitches using standardized event names and count states\n",
    "    \n",
    "    Parameters:\n",
    "    -----------\n",
    "    pitches_lf : pl.LazyFrame\n",
    "        LazyFrame containing pitch data\n",
    "    run_values_lf : pl.LazyFrame\n",
    "        LazyFrame containing run value data\n",
    "        \n",
    "    Returns:\n",
    "    --------\n",
    "    pl.LazyFrame\n",
    "        Original pitches with run values joined\n",
    "    \"\"\"\n",
    "\n",
    "    def join_run_values(df: pl.LazyFrame) -> pl.LazyFrame:\n",
    "        return (df\n",
    "                .join(\n",
    "                    other=run_values_lf,\n",
    "                    left_on=[\"standardized_event\", \"balls\", \"strikes\"],\n",
    "                    right_on=[\"event\", \"balls\", \"strikes\"],\n",
    "                    how=\"left\",\n",
    "                )\n",
    "                # Handle missing run values\n",
    "                .with_columns([\n",
    "                    pl.when(pl.col(\"delta_run_exp\").is_null())\n",
    "                    .then(0.0)  # Default to 0 run value for unknown events\n",
    "                    .otherwise(pl.col(\"delta_run_exp\"))\n",
    "                    .alias(\"delta_run_exp\")\n",
    "                ]))\n",
    "\n",
    "    return (pitches_lf\n",
    "            .pipe(_standardize_events)\n",
    "            .pipe(join_run_values))\n",
    "\n",
    "\n",
    "pitches_xRV_lf = (pitches_lf\n",
    "                  .pipe(add_pitch_run_value, run_values_24_lf))\n",
    "\n",
    "(pitches_xRV_lf\n",
    "    .select(\n",
    "        \"pitch_type\",\n",
    "        \"description\",\n",
    "        \"balls\",\n",
    "        \"strikes\",\n",
    "        \"delta_run_exp\",\n",
    "    )\n",
    "    .describe())"
   ]
  },
  {
   "cell_type": "code",
   "execution_count": 4,
   "metadata": {},
   "outputs": [
    {
     "data": {
      "image/png": "[encoded data removed]"
     },
     "metadata": {
      "image/png": {
       "height": 480,
       "width": 640
      }
     },
     "output_type": "display_data"
    }
   ],
   "source": [
    "rv_dist = (\n",
    "    ggplot(\n",
    "        pitches_xRV_lf.select(\"delta_run_exp\", \"pitch_type\")\n",
    "        .filter(pl.col(\"pitch_type\").is_in([\"FF\", \"FS\", \"ST\", \"KC\", \"CH\", \"SL\"]))\n",
    "        .collect()\n",
    "        .sample(n=10000),\n",
    "        aes(x=\"pitch_type\", y=\"delta_run_exp\", fill=\"pitch_type\")\n",
    "    )\n",
    "    + geom_violin()\n",
    "    + labs(\n",
    "        title=\"Delta xRV Distribution\",\n",
    "        x=\"Pitch Type\",\n",
    "        y=\"Delta xRV\",\n",
    "        fill=\"Pitch Type\",\n",
    "    )\n",
    ")\n",
    "\n",
    "rv_dist.show()"
   ]
  },
  {
   "cell_type": "markdown",
   "metadata": {
    "id": "4MsyUTqeCA_3"
   },
   "source": [
    "In order to keep it simple, I am mirroring the movement and the horizontal release position of each pitch thrown from LHP, to as if it were thrown by RHP."
   ]
  },
  {
   "cell_type": "code",
   "execution_count": 5,
   "metadata": {
    "colab": {
     "base_uri": "https://localhost:8080/",
     "height": 497
    },
    "id": "Kz5wYZ66CA_3",
    "outputId": "3348e121-6a41-4e0f-b9a3-65c8a8f32d5c"
   },
   "outputs": [
    {
     "data": {
      "image/png": "[encoded data removed]"
     },
     "metadata": {
      "image/png": {
       "height": 480,
       "width": 640
      }
     },
     "output_type": "display_data"
    }
   ],
   "source": [
    "def mirror_lhp_to_rhp(lf: pl.LazyFrame) -> pl.LazyFrame:\n",
    "    return lf.with_columns(\n",
    "        # mirror LHP horizontal movement\n",
    "        pl.when(pl.col(\"p_throws\") == \"L\")\n",
    "        .then(-pl.col(\"pfx_x\"))\n",
    "        .otherwise(pl.col(\"pfx_x\")),\n",
    "\n",
    "        # also mirror the horizontal release point\n",
    "        # (release_pos_x is from catcher perspective)\n",
    "        pl.when(pl.col(\"p_throws\") == \"L\")\n",
    "        .then(-pl.col(\"release_pos_x\"))\n",
    "        .otherwise(pl.col(\"release_pos_x\")),\n",
    "    )\n",
    "\n",
    "mirrored_pitches_lf = pitches_xRV_lf.pipe(mirror_lhp_to_rhp)\n",
    "\n",
    "# for verification\n",
    "movement_plt = (\n",
    "    ggplot(\n",
    "        mirrored_pitches_lf\n",
    "        .filter(pl.col(\"pitch_type\").is_in([\"FF\", \"KC\", \"SL\", \"CH\"]))\n",
    "        .group_by(\"pitch_type\", \"p_throws\")\n",
    "        .agg(\n",
    "            pl.col(\"pfx_x\").median().alias(\"median_pfx_x\"),\n",
    "            pl.col(\"pfx_z\").median().alias(\"median_pfx_z\"),\n",
    "        ).collect(),\n",
    "        aes(x=\"median_pfx_x\", y=\"median_pfx_z\", color=\"pitch_type\", shape=\"p_throws\"))\n",
    "    + geom_point()\n",
    "    + geom_vline(xintercept=0)\n",
    "    + geom_hline(yintercept=0)\n",
    "    + labs(\n",
    "        title=\"Mirrored LHP Movement Verification\",\n",
    "        x=\"median Horizontal Movement (ft.)\",\n",
    "        y=\"median Vertical Movement (ft.)\",\n",
    "        shape=\"Pitcher Hand\",\n",
    "        subtitle=\"Colors represent pitch_type\",\n",
    "    )\n",
    ")\n",
    "\n",
    "movement_plt.show()"
   ]
  },
  {
   "cell_type": "markdown",
   "metadata": {
    "id": "CCzg9FpHCA_3"
   },
   "source": [
    "Horizontal movement profiles are mirrored now!"
   ]
  },
  {
   "cell_type": "markdown",
   "metadata": {
    "id": "6-ajJ2-HCA_3"
   },
   "source": [
    "## 3D Pitch Location Estimation\n",
    "\n",
    "Now to add ball positions in 3D space at both [decision time]() (0.12s) & [commit time]() (0.167s)\n",
    "\n",
    "### Step 1: Time to 50ft. from home plate\n",
    "\n",
    "Estimate the time it took the baseball to travel from release point to 50ft from home plate (the point where we have measurements for a &v in x, y, z dimensions)\n",
    "\n",
    "$t_{50} = \\frac{(60 + 6/12) - 50 - extension}{vft * 1.05}$\n",
    "\n",
    "Where ...\n",
    "- $extension = $ distance from the rubber where the pitch was released<br>\n",
    "- $vft = $ release_speed in ft/s\n",
    "\n",
    "I multiply the velocity by 1.05 in order to dialate the time by 5%. This makes our estimation of position more accurate because it helps account for error that we get from assuming that acceleration is constant in the kinematic equations for displacement.\n",
    "\n",
    "**New Features**\n",
    "- `t50`: estimated time it took the ball to get to 50ft. from home plate\n",
    "- `release_pos_y`: release position in the y dimension converted to feet\n"
   ]
  },
  {
   "cell_type": "code",
   "execution_count": 6,
   "metadata": {
    "colab": {
     "base_uri": "https://localhost:8080/",
     "height": 376
    },
    "id": "ZOzfn-aEOsAs",
    "outputId": "5c2e8b50-95d3-42b2-c7cd-3fbed1480fdf"
   },
   "outputs": [
    {
     "data": {
      "text/html": [
       "<div><style>\n",
       ".dataframe > thead > tr,\n",
       ".dataframe > tbody > tr {\n",
       "  text-align: right;\n",
       "  white-space: pre-wrap;\n",
       "}\n",
       "</style>\n",
       "<small>shape: (9, 3)</small><table border=\"1\" class=\"dataframe\"><thead><tr><th>statistic</th><th>release_pos_y</th><th>t50</th></tr><tr><td>str</td><td>f64</td><td>f64</td></tr></thead><tbody><tr><td>&quot;count&quot;</td><td>3.273821e6</td><td>3.267351e6</td></tr><tr><td>&quot;null_count&quot;</td><td>75496.0</td><td>81966.0</td></tr><tr><td>&quot;mean&quot;</td><td>4.510473</td><td>0.030309</td></tr><tr><td>&quot;std&quot;</td><td>0.038164</td><td>0.004457</td></tr><tr><td>&quot;min&quot;</td><td>3.943333</td><td>-0.011455</td></tr><tr><td>&quot;25%&quot;</td><td>4.485833</td><td>0.027378</td></tr><tr><td>&quot;50%&quot;</td><td>4.51</td><td>0.030015</td></tr><tr><td>&quot;75%&quot;</td><td>4.535833</td><td>0.032888</td></tr><tr><td>&quot;max&quot;</td><td>4.8075</td><td>0.147386</td></tr></tbody></table></div>"
      ],
      "text/plain": [
       "shape: (9, 3)\n",
       "┌────────────┬───────────────┬────────────┐\n",
       "│ statistic  ┆ release_pos_y ┆ t50        │\n",
       "│ ---        ┆ ---           ┆ ---        │\n",
       "│ str        ┆ f64           ┆ f64        │\n",
       "╞════════════╪═══════════════╪════════════╡\n",
       "│ count      ┆ 3.273821e6    ┆ 3.267351e6 │\n",
       "│ null_count ┆ 75496.0       ┆ 81966.0    │\n",
       "│ mean       ┆ 4.510473      ┆ 0.030309   │\n",
       "│ std        ┆ 0.038164      ┆ 0.004457   │\n",
       "│ min        ┆ 3.943333      ┆ -0.011455  │\n",
       "│ 25%        ┆ 4.485833      ┆ 0.027378   │\n",
       "│ 50%        ┆ 4.51          ┆ 0.030015   │\n",
       "│ 75%        ┆ 4.535833      ┆ 0.032888   │\n",
       "│ max        ┆ 4.8075        ┆ 0.147386   │\n",
       "└────────────┴───────────────┴────────────┘"
      ]
     },
     "execution_count": 6,
     "metadata": {},
     "output_type": "execute_result"
    }
   ],
   "source": [
    "def displacement(p0, v0, t, a):\n",
    "    return p0 + v0 * t + 0.5 * a * t**2\n",
    "\n",
    "def convert_release_y_to_ft(lf: pl.LazyFrame) -> pl.LazyFrame:\n",
    "    return lf.with_columns(pl.col(\"release_pos_y\") / 12)\n",
    "\n",
    "def estimate_time_to_50ft(lf: pl.LazyFrame) -> pl.LazyFrame:\n",
    "    return lf.with_columns(\n",
    "        ((((60 + 6/12) - 50) - pl.col(\"release_extension\"))\n",
    "        / ((pl.col(\"release_speed\") * (5280/3600) * 1.05))).alias(\"t50\")\n",
    "    )\n",
    "\n",
    "time_to_50ft_lf = (mirrored_pitches_lf\n",
    "                   .pipe(convert_release_y_to_ft)\n",
    "                   .pipe(estimate_time_to_50ft))\n",
    "\n",
    "(time_to_50ft_lf\n",
    "    .select(\"release_pos_y\", \"t50\")\n",
    "    .describe())"
   ]
  },
  {
   "cell_type": "markdown",
   "metadata": {
    "id": "cGFheH9oOz3z"
   },
   "source": [
    "### Step 2: x, y, & z positions at 50ft. from home plate\n",
    "\n",
    "For this I use the kinematic equations with the acceleration, velocity and now our time estimate, $t_{50}$, to calculate displacement in each dimension.\n",
    "\n",
    "$d_{50} = r_{dim} + v_{dim} * t_{50} * \\frac{1}{2} * a_{dim} * t_{50}^2$\n",
    "\n",
    "Where ...\n",
    "- $r_{dim} = $ release position in x, y or z dimension\n",
    "- $v_{dim} = $ velocity at 50ft. from home plate in x, y or z dimension\n",
    "- $a_{dim} = $ acceleration at 50ft. from home plate in x, y or z dimension\n",
    "- $t_{50} = $ estimated time that it took to get to 50ft. from home plate from step 1\n",
    "\n",
    "**New Features**\n",
    "- `x50`: position in the x dimension when the ball is 50ft. from home plate\n",
    "- `y50`: position in the y dimension when the ball is 50ft. from home plate\n",
    "- `z50`: position in the z dimension when the ball is 50ft. from home plate\n"
   ]
  },
  {
   "cell_type": "code",
   "execution_count": 7,
   "metadata": {
    "colab": {
     "base_uri": "https://localhost:8080/",
     "height": 376
    },
    "id": "HAFosMUMO3Q7",
    "outputId": "0f5394c4-7ac7-45e7-9cef-cbe2461bc9f5"
   },
   "outputs": [
    {
     "data": {
      "text/html": [
       "<div><style>\n",
       ".dataframe > thead > tr,\n",
       ".dataframe > tbody > tr {\n",
       "  text-align: right;\n",
       "  white-space: pre-wrap;\n",
       "}\n",
       "</style>\n",
       "<small>shape: (9, 4)</small><table border=\"1\" class=\"dataframe\"><thead><tr><th>statistic</th><th>x50</th><th>y50</th><th>z50</th></tr><tr><td>str</td><td>f64</td><td>f64</td><td>f64</td></tr></thead><tbody><tr><td>&quot;count&quot;</td><td>3.267351e6</td><td>3.267351e6</td><td>3.267351e6</td></tr><tr><td>&quot;null_count&quot;</td><td>81966.0</td><td>81966.0</td><td>81966.0</td></tr><tr><td>&quot;mean&quot;</td><td>-1.820898</td><td>0.62623</td><td>5.677062</td></tr><tr><td>&quot;std&quot;</td><td>0.742138</td><td>0.39354</td><td>0.503183</td></tr><tr><td>&quot;min&quot;</td><td>-7.485561</td><td>-2.449655</td><td>1.036836</td></tr><tr><td>&quot;25%&quot;</td><td>-2.277246</td><td>0.385009</td><td>5.422181</td></tr><tr><td>&quot;50%&quot;</td><td>-1.774824</td><td>0.644951</td><td>5.709631</td></tr><tr><td>&quot;75%&quot;</td><td>-1.312053</td><td>0.901346</td><td>5.986481</td></tr><tr><td>&quot;max&quot;</td><td>2.543763</td><td>5.5406</td><td>9.537938</td></tr></tbody></table></div>"
      ],
      "text/plain": [
       "shape: (9, 4)\n",
       "┌────────────┬────────────┬────────────┬────────────┐\n",
       "│ statistic  ┆ x50        ┆ y50        ┆ z50        │\n",
       "│ ---        ┆ ---        ┆ ---        ┆ ---        │\n",
       "│ str        ┆ f64        ┆ f64        ┆ f64        │\n",
       "╞════════════╪════════════╪════════════╪════════════╡\n",
       "│ count      ┆ 3.267351e6 ┆ 3.267351e6 ┆ 3.267351e6 │\n",
       "│ null_count ┆ 81966.0    ┆ 81966.0    ┆ 81966.0    │\n",
       "│ mean       ┆ -1.820898  ┆ 0.62623    ┆ 5.677062   │\n",
       "│ std        ┆ 0.742138   ┆ 0.39354    ┆ 0.503183   │\n",
       "│ min        ┆ -7.485561  ┆ -2.449655  ┆ 1.036836   │\n",
       "│ 25%        ┆ -2.277246  ┆ 0.385009   ┆ 5.422181   │\n",
       "│ 50%        ┆ -1.774824  ┆ 0.644951   ┆ 5.709631   │\n",
       "│ 75%        ┆ -1.312053  ┆ 0.901346   ┆ 5.986481   │\n",
       "│ max        ┆ 2.543763   ┆ 5.5406     ┆ 9.537938   │\n",
       "└────────────┴────────────┴────────────┴────────────┘"
      ]
     },
     "execution_count": 7,
     "metadata": {},
     "output_type": "execute_result"
    }
   ],
   "source": [
    "def estimate_pos_at_50ft(lf: pl.LazyFrame) -> pl.LazyFrame:\n",
    "    return lf.with_columns(\n",
    "        displacement(\n",
    "            p0=pl.col(f\"release_pos_{d}\"),\n",
    "            v0=pl.col(f\"v{d}0\"),\n",
    "            a=pl.col(f\"a{d}\"),\n",
    "            t=pl.col(\"t50\"),\n",
    "        ).alias(f\"{d}50\")\n",
    "        for d in [\"x\", \"y\", \"z\"]\n",
    "    )\n",
    "\n",
    "pos_at_50ft_lf = time_to_50ft_lf.pipe(estimate_pos_at_50ft)\n",
    "\n",
    "(pos_at_50ft_lf\n",
    "    .select(\"x50\", \"y50\", \"z50\")\n",
    "    .describe())"
   ]
  },
  {
   "cell_type": "markdown",
   "metadata": {
    "id": "T-GVbYgyO2Nr"
   },
   "source": [
    "### Step 3: Estimate 3D positions at commit time & decision time\n",
    "\n",
    "Now we can make an estimate of where the ball is in all dimensions, at any given time. But I am interested specifically in 0.120 seconds after release (commit time), and 0.167 seconds after release (decision time).\n",
    "\n",
    "For this I use the same formula that I used to esimate position at 50ft. from home plate, except I start from that 50ft. mark by calculating the difference in time between $t_{50}$ and $t_{i}$.\n",
    "\n",
    "$d_{i} = p_{50} + v_{50} * (t_{50} - t_{i}) * \\frac{1}{2} * a_{50} * (t_{50} - t_{i})^2$\n",
    "\n",
    "Where ...\n",
    "- $p_{50} = $ position in x, y, or z dimension at 50 ft. from home plate\n",
    "\n",
    "I am assuming that both $v$ and $a$ are constant, again using a 5% time dilation as a crutch to help account for this.\n",
    "\n",
    "**New Features**\n",
    "- `x_0.120`: position in the x dimension at 0.120 seconds after release (commit time)\n",
    "- `y_0.120`: position in the y dimension at 0.120 seconds after release (commit time)\n",
    "- `y_0.120`: position in the z dimension at 0.120 seconds after release (commit time)\n",
    "- `x_0.167`: position in the x dimension at 0.120 seconds after release (decision time)\n",
    "- `y_0.167`: position in the y dimension at 0.120 seconds after release (decision time)\n",
    "- `y_0.167`: position in the z dimension at 0.120 seconds after release (decision time)\n",
    "- `t_plate`: estimated time that it takes the ball to reach home plate\n",
    "- `x_plate`: position in the x dimension when the ball crossed the plate\n",
    "- `y_plate`: position in the y dimension when the ball crossed the plate\n",
    "- `z_plate`: position in the z dimension when the ball crossed the plate\n"
   ]
  },
  {
   "cell_type": "code",
   "execution_count": 8,
   "metadata": {
    "colab": {
     "base_uri": "https://localhost:8080/",
     "height": 376
    },
    "id": "iVM-ngf4Esmv",
    "outputId": "24431204-0c71-42b8-d9e9-348542d71be6"
   },
   "outputs": [
    {
     "data": {
      "text/html": [
       "<div><style>\n",
       ".dataframe > thead > tr,\n",
       ".dataframe > tbody > tr {\n",
       "  text-align: right;\n",
       "  white-space: pre-wrap;\n",
       "}\n",
       "</style>\n",
       "<small>shape: (9, 11)</small><table border=\"1\" class=\"dataframe\"><thead><tr><th>statistic</th><th>t50</th><th>x_0.120</th><th>y_0.120</th><th>z_0.120</th><th>x_0.167</th><th>y_0.167</th><th>z_0.167</th><th>x_plate</th><th>y_plate</th><th>z_plate</th></tr><tr><td>str</td><td>f64</td><td>f64</td><td>f64</td><td>f64</td><td>f64</td><td>f64</td><td>f64</td><td>f64</td><td>f64</td><td>f64</td></tr></thead><tbody><tr><td>&quot;count&quot;</td><td>3.267351e6</td><td>3.267351e6</td><td>3.267351e6</td><td>3.267351e6</td><td>3.267351e6</td><td>3.267351e6</td><td>3.267351e6</td><td>3.267351e6</td><td>3.267351e6</td><td>3.267351e6</td></tr><tr><td>&quot;null_count&quot;</td><td>81966.0</td><td>81966.0</td><td>81966.0</td><td>81966.0</td><td>81966.0</td><td>81966.0</td><td>81966.0</td><td>81966.0</td><td>81966.0</td><td>81966.0</td></tr><tr><td>&quot;mean&quot;</td><td>0.030309</td><td>-1.614277</td><td>-10.891515</td><td>5.22945</td><td>-1.514843</td><td>-16.828183</td><td>4.920959</td><td>-1.093224</td><td>-44.812312</td><td>2.616632</td></tr><tr><td>&quot;std&quot;</td><td>0.004457</td><td>0.967898</td><td>1.042835</td><td>0.486429</td><td>1.137344</td><td>1.43551</td><td>0.522797</td><td>2.031849</td><td>0.448776</td><td>0.894262</td></tr><tr><td>&quot;min&quot;</td><td>-0.011455</td><td>-14.686163</td><td>-13.681389</td><td>-3.299011</td><td>-19.969828</td><td>-20.63631</td><td>-7.158099</td><td>-119.729224</td><td>-140.804898</td><td>-76.964296</td></tr><tr><td>&quot;25%&quot;</td><td>0.027378</td><td>-2.062237</td><td>-11.723838</td><td>4.932507</td><td>-1.979857</td><td>-17.974188</td><td>4.583346</td><td>-1.921803</td><td>-45.104226</td><td>2.03255</td></tr><tr><td>&quot;50%&quot;</td><td>0.030015</td><td>-1.416811</td><td>-11.049736</td><td>5.224253</td><td>-1.215299</td><td>-17.048448</td><td>4.903229</td><td>-0.413285</td><td>-44.806309</td><td>2.61775</td></tr><tr><td>&quot;75%&quot;</td><td>0.032888</td><td>-0.95154</td><td>-10.158555</td><td>5.52804</td><td>-0.74394</td><td>-15.820425</td><td>5.241046</td><td>0.277673</td><td>-44.517405</td><td>3.203951</td></tr><tr><td>&quot;max&quot;</td><td>0.147386</td><td>3.368327</td><td>-0.097775</td><td>9.172685</td><td>3.756937</td><td>-1.997461</td><td>9.883671</td><td>8.951553</td><td>-39.263614</td><td>13.698295</td></tr></tbody></table></div>"
      ],
      "text/plain": [
       "shape: (9, 11)\n",
       "┌───────────┬───────────┬───────────┬───────────┬───┬───────────┬───────────┬───────────┬──────────┐\n",
       "│ statistic ┆ t50       ┆ x_0.120   ┆ y_0.120   ┆ … ┆ z_0.167   ┆ x_plate   ┆ y_plate   ┆ z_plate  │\n",
       "│ ---       ┆ ---       ┆ ---       ┆ ---       ┆   ┆ ---       ┆ ---       ┆ ---       ┆ ---      │\n",
       "│ str       ┆ f64       ┆ f64       ┆ f64       ┆   ┆ f64       ┆ f64       ┆ f64       ┆ f64      │\n",
       "╞═══════════╪═══════════╪═══════════╪═══════════╪═══╪═══════════╪═══════════╪═══════════╪══════════╡\n",
       "│ count     ┆ 3.267351e ┆ 3.267351e ┆ 3.267351e ┆ … ┆ 3.267351e ┆ 3.267351e ┆ 3.267351e ┆ 3.267351 │\n",
       "│           ┆ 6         ┆ 6         ┆ 6         ┆   ┆ 6         ┆ 6         ┆ 6         ┆ e6       │\n",
       "│ null_coun ┆ 81966.0   ┆ 81966.0   ┆ 81966.0   ┆ … ┆ 81966.0   ┆ 81966.0   ┆ 81966.0   ┆ 81966.0  │\n",
       "│ t         ┆           ┆           ┆           ┆   ┆           ┆           ┆           ┆          │\n",
       "│ mean      ┆ 0.030309  ┆ -1.614277 ┆ -10.89151 ┆ … ┆ 4.920959  ┆ -1.093224 ┆ -44.81231 ┆ 2.616632 │\n",
       "│           ┆           ┆           ┆ 5         ┆   ┆           ┆           ┆ 2         ┆          │\n",
       "│ std       ┆ 0.004457  ┆ 0.967898  ┆ 1.042835  ┆ … ┆ 0.522797  ┆ 2.031849  ┆ 0.448776  ┆ 0.894262 │\n",
       "│ min       ┆ -0.011455 ┆ -14.68616 ┆ -13.68138 ┆ … ┆ -7.158099 ┆ -119.7292 ┆ -140.8048 ┆ -76.9642 │\n",
       "│           ┆           ┆ 3         ┆ 9         ┆   ┆           ┆ 24        ┆ 98        ┆ 96       │\n",
       "│ 25%       ┆ 0.027378  ┆ -2.062237 ┆ -11.72383 ┆ … ┆ 4.583346  ┆ -1.921803 ┆ -45.10422 ┆ 2.03255  │\n",
       "│           ┆           ┆           ┆ 8         ┆   ┆           ┆           ┆ 6         ┆          │\n",
       "│ 50%       ┆ 0.030015  ┆ -1.416811 ┆ -11.04973 ┆ … ┆ 4.903229  ┆ -0.413285 ┆ -44.80630 ┆ 2.61775  │\n",
       "│           ┆           ┆           ┆ 6         ┆   ┆           ┆           ┆ 9         ┆          │\n",
       "│ 75%       ┆ 0.032888  ┆ -0.95154  ┆ -10.15855 ┆ … ┆ 5.241046  ┆ 0.277673  ┆ -44.51740 ┆ 3.203951 │\n",
       "│           ┆           ┆           ┆ 5         ┆   ┆           ┆           ┆ 5         ┆          │\n",
       "│ max       ┆ 0.147386  ┆ 3.368327  ┆ -0.097775 ┆ … ┆ 9.883671  ┆ 8.951553  ┆ -39.26361 ┆ 13.69829 │\n",
       "│           ┆           ┆           ┆           ┆   ┆           ┆           ┆ 4         ┆ 5        │\n",
       "└───────────┴───────────┴───────────┴───────────┴───┴───────────┴───────────┴───────────┴──────────┘"
      ]
     },
     "execution_count": 8,
     "metadata": {},
     "output_type": "execute_result"
    }
   ],
   "source": [
    "def estimate_time_to_plate(lf: pl.LazyFrame) -> pl.LazyFrame:\n",
    "    return lf.with_columns(\n",
    "        (((60 + 6/12) - pl.col(\"release_extension\"))\n",
    "        / ((pl.col(\"release_speed\") * (5280/3600) * 1.05))).alias(\"t_plate\")\n",
    "    )\n",
    "\n",
    "def estimate_ball_pos_at_plate(lf: pl.LazyFrame) -> pl.LazyFrame:\n",
    "    return lf.with_columns(\n",
    "        displacement(\n",
    "            p0=pl.col(f\"{d}50\"),\n",
    "            v0=pl.col(f\"v{d}0\"),\n",
    "            a=pl.col(f\"a{d}\"),\n",
    "            t=pl.col(\"t_plate\") - pl.col(\"t50\"),\n",
    "        ).alias(f\"{d}_plate\")\n",
    "        for d in [\"x\", \"y\", \"z\"]\n",
    "    )\n",
    "\n",
    "def estimate_ball_pos_at_t(lf: pl.LazyFrame, times: list[float]) -> pl.LazyFrame:\n",
    "    return lf.with_columns(\n",
    "        displacement(\n",
    "            p0=pl.col(f\"{d}50\"),\n",
    "            v0=pl.col(f\"v{d}0\"),\n",
    "            a=pl.col(f\"a{d}\"),\n",
    "            t=t - pl.col(\"t50\"),\n",
    "        ).alias(f\"{d}_{t:.3f}\")\n",
    "        for d in [\"x\", \"y\", \"z\"]\n",
    "        for t in times\n",
    "    )\n",
    "\n",
    "TIMES = [0.120, 0.167]\n",
    "\n",
    "ball_pos_lf = (pos_at_50ft_lf\n",
    "               .pipe(estimate_time_to_plate)\n",
    "               .pipe(estimate_ball_pos_at_plate)\n",
    "               .pipe(estimate_ball_pos_at_t, TIMES))\n",
    "\n",
    "(ball_pos_lf\n",
    "    .select(\"t50\", \"x_0.120\", \"y_0.120\", \"z_0.120\",\n",
    "            \"x_0.167\", \"y_0.167\", \"z_0.167\", \"x_plate\", \"y_plate\", \"z_plate\")\n",
    "    .describe())"
   ]
  },
  {
   "cell_type": "markdown",
   "metadata": {
    "id": "h2s1Y3DNmQGM"
   },
   "source": [
    "### Pitch Location Visualization\n",
    "\n",
    "In order to make sure this is working, here I make a 3D scatter plot of 3 random pitches thrown by Yu Darvish in the 2024 season and their estimated positions at release, 50ft from home, commit time, decision time, and across the plate.\n",
    "\n",
    "**Plot Line Color Legend**\n",
    "- `Sweeper`: Purple\n",
    "- `Splitter`: Yellow\n",
    "- `Slider`: Green\n",
    "- `Knuckle Curve`: Blue\n",
    "- `Four Seam Fastball`: Red\n"
   ]
  },
  {
   "cell_type": "code",
   "execution_count": 9,
   "metadata": {
    "colab": {
     "base_uri": "https://localhost:8080/",
     "height": 542
    },
    "id": "NyKMJTUgCA_4",
    "outputId": "bea9b4e0-af19-43dd-a8bc-5ba663d980d8"
   },
   "outputs": [
    {
     "data": {
      "application/vnd.plotly.v1+json": {
       "config": {
        "plotlyServerURL": "https://plot.ly"
       },
       "data": [
        {
         "hovertemplate": "<extra></extra>",
         "legendgroup": "",
         "marker": {
          "color": "#636efa",
          "symbol": "circle"
         },
         "mode": "markers",
         "name": "",
         "scene": "scene",
         "showlegend": false,
         "type": "scatter3d"
        },
        {
         "hovertemplate": "x=%{x}<br>y=%{y}<br>z=%{z}<extra></extra>",
         "legendgroup": "",
         "line": {
          "color": "yellow",
          "dash": "solid"
         },
         "marker": {
          "symbol": "circle"
         },
         "mode": "lines",
         "name": "",
         "scene": "scene",
         "showlegend": false,
         "type": "scatter3d",
         "x": [
          -1.64,
          -1.6474922402024095,
          -1.326358762873355,
          -1.0304102598149103,
          -0.7596467310270747,
          -0.5140681765098488,
          -0.2936745962632321,
          -0.09846599028722436,
          0.07155764141817345,
          0.21639629885296185,
          0.336049982017141
         ],
         "y": [
          4.471666666666666,
          4.490590707196002,
          -1.918868439179705,
          -8.264714906176279,
          -14.546948693793725,
          -20.765569802032037,
          -26.92057823089121,
          -33.011973980371266,
          -39.03975705047218,
          -45.00392744119396,
          -50.9044851525366
         ],
         "z": [
          5.51,
          5.492884305168484,
          5.230700716159419,
          4.910983155693232,
          4.533731623769928,
          4.098946120389504,
          3.6066266455519607,
          3.056773199257297,
          2.4493857815055144,
          1.7844643922966124,
          1.0620090316305917
         ]
        },
        {
         "hovertemplate": "x=%{x}<br>y=%{y}<br>z=%{z}<extra></extra>",
         "legendgroup": "",
         "line": {
          "color": "red",
          "dash": "solid"
         },
         "marker": {
          "symbol": "circle"
         },
         "mode": "lines",
         "name": "",
         "scene": "scene",
         "showlegend": false,
         "type": "scatter3d",
         "x": [
          -1.81,
          -1.8176029376533145,
          -1.5712207216572087,
          -1.3509700363570751,
          -1.1568508817529133,
          -0.9888632578447233,
          -0.8470071646325055,
          -0.7312826021162595,
          -0.6416895702959854,
          -0.5782280691716835,
          -0.5408980987433532
         ],
         "y": [
          4.494166666666667,
          4.516509026546153,
          -2.3155533439223963,
          -9.070824335895722,
          -15.749303949373829,
          -22.35099218435671,
          -28.875889040844367,
          -35.323994518836805,
          -41.69530861833402,
          -47.989831339336014,
          -54.20756268184278
         ],
         "z": [
          5.77,
          5.760692972100552,
          5.478191130670328,
          5.163700747924542,
          4.817221823863195,
          4.438754358486286,
          4.028298351793814,
          3.585853803785781,
          3.111420714462186,
          2.604999083823029,
          2.06658891186831
         ]
        },
        {
         "hovertemplate": "x=%{x}<br>y=%{y}<br>z=%{z}<extra></extra>",
         "legendgroup": "",
         "line": {
          "color": "green",
          "dash": "solid"
         },
         "marker": {
          "symbol": "circle"
         },
         "mode": "lines",
         "name": "",
         "scene": "scene",
         "showlegend": false,
         "type": "scatter3d",
         "x": [
          -1.87,
          -1.86602598365362,
          -1.699800321669698,
          -1.5215065066512046,
          -1.3311445385981397,
          -1.1287144175105033,
          -0.9142161433882956,
          -0.6876497162315159,
          -0.4490151360401652,
          -0.19831240281424323,
          0.06445848344625044
         ],
         "y": [
          4.4833333333333325,
          4.5016804859895,
          -1.7694237304738434,
          -7.984811959204784,
          -14.144484200203324,
          -20.24844045346946,
          -26.29668071900319,
          -32.28920499680452,
          -38.22601328687345,
          -44.10710558920997,
          -49.9324819038141
         ],
         "z": [
          5.81,
          5.785747500313463,
          5.719125507616614,
          5.578854377075972,
          5.364934108691539,
          5.077364702463314,
          4.7161461583912985,
          4.28127847647549,
          3.7727616567158906,
          3.1905956991124995,
          2.5347806036653164
         ]
        },
        {
         "hovertemplate": "x=%{x}<br>y=%{y}<br>z=%{z}<extra></extra>",
         "legendgroup": "",
         "line": {
          "color": "purple",
          "dash": "solid"
         },
         "marker": {
          "symbol": "circle"
         },
         "mode": "lines",
         "name": "",
         "scene": "scene",
         "showlegend": false,
         "type": "scatter3d",
         "x": [
          -2.91,
          -2.902687223377397,
          -2.6026202752514362,
          -2.281519375463044,
          -1.9393845240122212,
          -1.5762157208989673,
          -1.1920129661232821,
          -0.7867762596851655,
          -0.36050560158461825,
          0.08679900817836039,
          0.5551375696037703
         ],
         "y": [
          4.494166666666667,
          4.5169552710229866,
          -1.7346402777601948,
          -7.92068830236446,
          -14.041188802789812,
          -20.096141779036245,
          -26.08554723110376,
          -32.009405158992365,
          -37.867715562702045,
          -43.66047844223281,
          -49.38769379758466
         ],
         "z": [
          5.52,
          5.493082579092839,
          5.352009391961559,
          5.133512845761917,
          4.837592940493913,
          4.464249676157545,
          4.0134830527528145,
          3.485293070279722,
          2.8796797287382674,
          2.1966430281284497,
          1.4361829684502694
         ]
        },
        {
         "hovertemplate": "x=%{x}<br>y=%{y}<br>z=%{z}<extra></extra>",
         "legendgroup": "",
         "line": {
          "color": "blue",
          "dash": "solid"
         },
         "marker": {
          "symbol": "circle"
         },
         "mode": "lines",
         "name": "",
         "scene": "scene",
         "showlegend": false,
         "type": "scatter3d",
         "x": [
          -1.87,
          -1.8670358671303262,
          -1.6356222630764883,
          -1.3965358757830397,
          -1.1497767052499812,
          -0.895344751477312,
          -0.6332400144650325,
          -0.3634624942131421,
          -0.08601219072164176,
          0.1991108960094692,
          0.49190676598019045
         ],
         "y": [
          4.485833333333333,
          4.510538485334039,
          -1.266315214263817,
          -6.979218583516364,
          -12.6281716224236,
          -18.213174330985524,
          -23.73422670920214,
          -29.19132875707345,
          -34.584480474599445,
          -39.91368186178013,
          -45.1789329186155
         ],
         "z": [
          5.59,
          5.549771456954398,
          5.464165613223397,
          5.274426485187843,
          4.980554072847734,
          4.58254837620307,
          4.0804093952538505,
          3.4741371300000767,
          2.763731580441749,
          1.9491927465788654,
          1.0305206284114274
         ]
        }
       ],
       "layout": {
        "legend": {
         "tracegroupgap": 0
        },
        "margin": {
         "t": 60
        },
        "scene": {
         "domain": {
          "x": [
           0,
           1
          ],
          "y": [
           0,
           1
          ]
         }
        },
        "showlegend": true,
        "template": {
         "data": {
          "bar": [
           {
            "error_x": {
             "color": "#2a3f5f"
            },
            "error_y": {
             "color": "#2a3f5f"
            },
            "marker": {
             "line": {
              "color": "#E5ECF6",
              "width": 0.5
             },
             "pattern": {
              "fillmode": "overlay",
              "size": 10,
              "solidity": 0.2
             }
            },
            "type": "bar"
           }
          ],
          "barpolar": [
           {
            "marker": {
             "line": {
              "color": "#E5ECF6",
              "width": 0.5
             },
             "pattern": {
              "fillmode": "overlay",
              "size": 10,
              "solidity": 0.2
             }
            },
            "type": "barpolar"
           }
          ],
          "carpet": [
           {
            "aaxis": {
             "endlinecolor": "#2a3f5f",
             "gridcolor": "white",
             "linecolor": "white",
             "minorgridcolor": "white",
             "startlinecolor": "#2a3f5f"
            },
            "baxis": {
             "endlinecolor": "#2a3f5f",
             "gridcolor": "white",
             "linecolor": "white",
             "minorgridcolor": "white",
             "startlinecolor": "#2a3f5f"
            },
            "type": "carpet"
           }
          ],
          "choropleth": [
           {
            "colorbar": {
             "outlinewidth": 0,
             "ticks": ""
            },
            "type": "choropleth"
           }
          ],
          "contour": [
           {
            "colorbar": {
             "outlinewidth": 0,
             "ticks": ""
            },
            "colorscale": [
             [
              0,
              "#0d0887"
             ],
             [
              0.1111111111111111,
              "#46039f"
             ],
             [
              0.2222222222222222,
              "#7201a8"
             ],
             [
              0.3333333333333333,
              "#9c179e"
             ],
             [
              0.4444444444444444,
              "#bd3786"
             ],
             [
              0.5555555555555556,
              "#d8576b"
             ],
             [
              0.6666666666666666,
              "#ed7953"
             ],
             [
              0.7777777777777778,
              "#fb9f3a"
             ],
             [
              0.8888888888888888,
              "#fdca26"
             ],
             [
              1,
              "#f0f921"
             ]
            ],
            "type": "contour"
           }
          ],
          "contourcarpet": [
           {
            "colorbar": {
             "outlinewidth": 0,
             "ticks": ""
            },
            "type": "contourcarpet"
           }
          ],
          "heatmap": [
           {
            "colorbar": {
             "outlinewidth": 0,
             "ticks": ""
            },
            "colorscale": [
             [
              0,
              "#0d0887"
             ],
             [
              0.1111111111111111,
              "#46039f"
             ],
             [
              0.2222222222222222,
              "#7201a8"
             ],
             [
              0.3333333333333333,
              "#9c179e"
             ],
             [
              0.4444444444444444,
              "#bd3786"
             ],
             [
              0.5555555555555556,
              "#d8576b"
             ],
             [
              0.6666666666666666,
              "#ed7953"
             ],
             [
              0.7777777777777778,
              "#fb9f3a"
             ],
             [
              0.8888888888888888,
              "#fdca26"
             ],
             [
              1,
              "#f0f921"
             ]
            ],
            "type": "heatmap"
           }
          ],
          "heatmapgl": [
           {
            "colorbar": {
             "outlinewidth": 0,
             "ticks": ""
            },
            "colorscale": [
             [
              0,
              "#0d0887"
             ],
             [
              0.1111111111111111,
              "#46039f"
             ],
             [
              0.2222222222222222,
              "#7201a8"
             ],
             [
              0.3333333333333333,
              "#9c179e"
             ],
             [
              0.4444444444444444,
              "#bd3786"
             ],
             [
              0.5555555555555556,
              "#d8576b"
             ],
             [
              0.6666666666666666,
              "#ed7953"
             ],
             [
              0.7777777777777778,
              "#fb9f3a"
             ],
             [
              0.8888888888888888,
              "#fdca26"
             ],
             [
              1,
              "#f0f921"
             ]
            ],
            "type": "heatmapgl"
           }
          ],
          "histogram": [
           {
            "marker": {
             "pattern": {
              "fillmode": "overlay",
              "size": 10,
              "solidity": 0.2
             }
            },
            "type": "histogram"
           }
          ],
          "histogram2d": [
           {
            "colorbar": {
             "outlinewidth": 0,
             "ticks": ""
            },
            "colorscale": [
             [
              0,
              "#0d0887"
             ],
             [
              0.1111111111111111,
              "#46039f"
             ],
             [
              0.2222222222222222,
              "#7201a8"
             ],
             [
              0.3333333333333333,
              "#9c179e"
             ],
             [
              0.4444444444444444,
              "#bd3786"
             ],
             [
              0.5555555555555556,
              "#d8576b"
             ],
             [
              0.6666666666666666,
              "#ed7953"
             ],
             [
              0.7777777777777778,
              "#fb9f3a"
             ],
             [
              0.8888888888888888,
              "#fdca26"
             ],
             [
              1,
              "#f0f921"
             ]
            ],
            "type": "histogram2d"
           }
          ],
          "histogram2dcontour": [
           {
            "colorbar": {
             "outlinewidth": 0,
             "ticks": ""
            },
            "colorscale": [
             [
              0,
              "#0d0887"
             ],
             [
              0.1111111111111111,
              "#46039f"
             ],
             [
              0.2222222222222222,
              "#7201a8"
             ],
             [
              0.3333333333333333,
              "#9c179e"
             ],
             [
              0.4444444444444444,
              "#bd3786"
             ],
             [
              0.5555555555555556,
              "#d8576b"
             ],
             [
              0.6666666666666666,
              "#ed7953"
             ],
             [
              0.7777777777777778,
              "#fb9f3a"
             ],
             [
              0.8888888888888888,
              "#fdca26"
             ],
             [
              1,
              "#f0f921"
             ]
            ],
            "type": "histogram2dcontour"
           }
          ],
          "mesh3d": [
           {
            "colorbar": {
             "outlinewidth": 0,
             "ticks": ""
            },
            "type": "mesh3d"
           }
          ],
          "parcoords": [
           {
            "line": {
             "colorbar": {
              "outlinewidth": 0,
              "ticks": ""
             }
            },
            "type": "parcoords"
           }
          ],
          "pie": [
           {
            "automargin": true,
            "type": "pie"
           }
          ],
          "scatter": [
           {
            "fillpattern": {
             "fillmode": "overlay",
             "size": 10,
             "solidity": 0.2
            },
            "type": "scatter"
           }
          ],
          "scatter3d": [
           {
            "line": {
             "colorbar": {
              "outlinewidth": 0,
              "ticks": ""
             }
            },
            "marker": {
             "colorbar": {
              "outlinewidth": 0,
              "ticks": ""
             }
            },
            "type": "scatter3d"
           }
          ],
          "scattercarpet": [
           {
            "marker": {
             "colorbar": {
              "outlinewidth": 0,
              "ticks": ""
             }
            },
            "type": "scattercarpet"
           }
          ],
          "scattergeo": [
           {
            "marker": {
             "colorbar": {
              "outlinewidth": 0,
              "ticks": ""
             }
            },
            "type": "scattergeo"
           }
          ],
          "scattergl": [
           {
            "marker": {
             "colorbar": {
              "outlinewidth": 0,
              "ticks": ""
             }
            },
            "type": "scattergl"
           }
          ],
          "scattermapbox": [
           {
            "marker": {
             "colorbar": {
              "outlinewidth": 0,
              "ticks": ""
             }
            },
            "type": "scattermapbox"
           }
          ],
          "scatterpolar": [
           {
            "marker": {
             "colorbar": {
              "outlinewidth": 0,
              "ticks": ""
             }
            },
            "type": "scatterpolar"
           }
          ],
          "scatterpolargl": [
           {
            "marker": {
             "colorbar": {
              "outlinewidth": 0,
              "ticks": ""
             }
            },
            "type": "scatterpolargl"
           }
          ],
          "scatterternary": [
           {
            "marker": {
             "colorbar": {
              "outlinewidth": 0,
              "ticks": ""
             }
            },
            "type": "scatterternary"
           }
          ],
          "surface": [
           {
            "colorbar": {
             "outlinewidth": 0,
             "ticks": ""
            },
            "colorscale": [
             [
              0,
              "#0d0887"
             ],
             [
              0.1111111111111111,
              "#46039f"
             ],
             [
              0.2222222222222222,
              "#7201a8"
             ],
             [
              0.3333333333333333,
              "#9c179e"
             ],
             [
              0.4444444444444444,
              "#bd3786"
             ],
             [
              0.5555555555555556,
              "#d8576b"
             ],
             [
              0.6666666666666666,
              "#ed7953"
             ],
             [
              0.7777777777777778,
              "#fb9f3a"
             ],
             [
              0.8888888888888888,
              "#fdca26"
             ],
             [
              1,
              "#f0f921"
             ]
            ],
            "type": "surface"
           }
          ],
          "table": [
           {
            "cells": {
             "fill": {
              "color": "#EBF0F8"
             },
             "line": {
              "color": "white"
             }
            },
            "header": {
             "fill": {
              "color": "#C8D4E3"
             },
             "line": {
              "color": "white"
             }
            },
            "type": "table"
           }
          ]
         },
         "layout": {
          "annotationdefaults": {
           "arrowcolor": "#2a3f5f",
           "arrowhead": 0,
           "arrowwidth": 1
          },
          "autotypenumbers": "strict",
          "coloraxis": {
           "colorbar": {
            "outlinewidth": 0,
            "ticks": ""
           }
          },
          "colorscale": {
           "diverging": [
            [
             0,
             "#8e0152"
            ],
            [
             0.1,
             "#c51b7d"
            ],
            [
             0.2,
             "#de77ae"
            ],
            [
             0.3,
             "#f1b6da"
            ],
            [
             0.4,
             "#fde0ef"
            ],
            [
             0.5,
             "#f7f7f7"
            ],
            [
             0.6,
             "#e6f5d0"
            ],
            [
             0.7,
             "#b8e186"
            ],
            [
             0.8,
             "#7fbc41"
            ],
            [
             0.9,
             "#4d9221"
            ],
            [
             1,
             "#276419"
            ]
           ],
           "sequential": [
            [
             0,
             "#0d0887"
            ],
            [
             0.1111111111111111,
             "#46039f"
            ],
            [
             0.2222222222222222,
             "#7201a8"
            ],
            [
             0.3333333333333333,
             "#9c179e"
            ],
            [
             0.4444444444444444,
             "#bd3786"
            ],
            [
             0.5555555555555556,
             "#d8576b"
            ],
            [
             0.6666666666666666,
             "#ed7953"
            ],
            [
             0.7777777777777778,
             "#fb9f3a"
            ],
            [
             0.8888888888888888,
             "#fdca26"
            ],
            [
             1,
             "#f0f921"
            ]
           ],
           "sequentialminus": [
            [
             0,
             "#0d0887"
            ],
            [
             0.1111111111111111,
             "#46039f"
            ],
            [
             0.2222222222222222,
             "#7201a8"
            ],
            [
             0.3333333333333333,
             "#9c179e"
            ],
            [
             0.4444444444444444,
             "#bd3786"
            ],
            [
             0.5555555555555556,
             "#d8576b"
            ],
            [
             0.6666666666666666,
             "#ed7953"
            ],
            [
             0.7777777777777778,
             "#fb9f3a"
            ],
            [
             0.8888888888888888,
             "#fdca26"
            ],
            [
             1,
             "#f0f921"
            ]
           ]
          },
          "colorway": [
           "#636efa",
           "#EF553B",
           "#00cc96",
           "#ab63fa",
           "#FFA15A",
           "#19d3f3",
           "#FF6692",
           "#B6E880",
           "#FF97FF",
           "#FECB52"
          ],
          "font": {
           "color": "#2a3f5f"
          },
          "geo": {
           "bgcolor": "white",
           "lakecolor": "white",
           "landcolor": "#E5ECF6",
           "showlakes": true,
           "showland": true,
           "subunitcolor": "white"
          },
          "hoverlabel": {
           "align": "left"
          },
          "hovermode": "closest",
          "mapbox": {
           "style": "light"
          },
          "paper_bgcolor": "white",
          "plot_bgcolor": "#E5ECF6",
          "polar": {
           "angularaxis": {
            "gridcolor": "white",
            "linecolor": "white",
            "ticks": ""
           },
           "bgcolor": "#E5ECF6",
           "radialaxis": {
            "gridcolor": "white",
            "linecolor": "white",
            "ticks": ""
           }
          },
          "scene": {
           "xaxis": {
            "backgroundcolor": "#E5ECF6",
            "gridcolor": "white",
            "gridwidth": 2,
            "linecolor": "white",
            "showbackground": true,
            "ticks": "",
            "zerolinecolor": "white"
           },
           "yaxis": {
            "backgroundcolor": "#E5ECF6",
            "gridcolor": "white",
            "gridwidth": 2,
            "linecolor": "white",
            "showbackground": true,
            "ticks": "",
            "zerolinecolor": "white"
           },
           "zaxis": {
            "backgroundcolor": "#E5ECF6",
            "gridcolor": "white",
            "gridwidth": 2,
            "linecolor": "white",
            "showbackground": true,
            "ticks": "",
            "zerolinecolor": "white"
           }
          },
          "shapedefaults": {
           "line": {
            "color": "#2a3f5f"
           }
          },
          "ternary": {
           "aaxis": {
            "gridcolor": "white",
            "linecolor": "white",
            "ticks": ""
           },
           "baxis": {
            "gridcolor": "white",
            "linecolor": "white",
            "ticks": ""
           },
           "bgcolor": "#E5ECF6",
           "caxis": {
            "gridcolor": "white",
            "linecolor": "white",
            "ticks": ""
           }
          },
          "title": {
           "x": 0.05
          },
          "xaxis": {
           "automargin": true,
           "gridcolor": "white",
           "linecolor": "white",
           "ticks": "",
           "title": {
            "standoff": 15
           },
           "zerolinecolor": "white",
           "zerolinewidth": 2
          },
          "yaxis": {
           "automargin": true,
           "gridcolor": "white",
           "linecolor": "white",
           "ticks": "",
           "title": {
            "standoff": 15
           },
           "zerolinecolor": "white",
           "zerolinewidth": 2
          }
         }
        },
        "title": {
         "text": "Random Yu Darvish Pitch Location Estimation"
        }
       }
      }
     },
     "metadata": {},
     "output_type": "display_data"
    }
   ],
   "source": [
    "pitch_types = [\"KC\", \"FF\", \"FS\", \"SL\", \"ST\"]\n",
    "cols = [\"pitch_type\", \"release_pos_x\", \"release_pos_y\", \"release_pos_z\",\n",
    "        \"x50\", \"y50\", \"z50\", \"x_0.120\", \"y_0.120\", \"z_0.120\",\n",
    "        \"x_0.167\", \"y_0.167\", \"z_0.167\", \"x_plate\", \"y_plate\", \"z_plate\"]\n",
    "\n",
    "extra_times = np.arange(0, 0.5, 0.05).tolist()\n",
    "extra_time_cols = [f\"{d}_{t:.3f}\"\n",
    "                   for d in [\"x\", \"y\", \"z\"]\n",
    "                   for t in extra_times]\n",
    "\n",
    "# for the visualization, I am going to use a lot more time intervals\n",
    "# for position estimation to get a smoother curve\n",
    "sample_pitch_df = (ball_pos_lf\n",
    "                   .filter(pl.col(\"game_date\").dt.year() == 2024)\n",
    "                   .filter(pl.col(\"pitch_type\").is_in(pitch_types))\n",
    "                   .filter(pl.col(\"player_name\") == \"Darvish, Yu\")\n",
    "                   .pipe(estimate_ball_pos_at_t, extra_times)\n",
    "                   .drop_nulls(cols + extra_time_cols)\n",
    "                   .group_by(\"pitch_type\")\n",
    "                   .agg(pl.col(\"*\").sample(1, seed=40))\n",
    "                   .select(cols + extra_time_cols)\n",
    "                   .explode([pl.col(col)\n",
    "                             for col in (cols + extra_time_cols)\n",
    "                             if col != \"pitch_type\"])\n",
    "                   .collect())\n",
    "\n",
    "\n",
    "fig = px.scatter_3d()\n",
    "colors = {\"KC\": \"blue\", \"FF\": \"red\", \"FS\": \"yellow\", \"SL\": \"green\", \"ST\": \"purple\"}\n",
    "for pitch in sample_pitch_df.iter_rows(named=True):\n",
    "    pitch_fig = px.line_3d(\n",
    "        x=[pitch[\"release_pos_x\"]] + [pitch[f\"x_{t:.3f}\"] for t in extra_times],\n",
    "        y=[pitch[\"release_pos_y\"]] + [pitch[f\"y_{t:.3f}\"] for t in extra_times],\n",
    "        z=[pitch[\"release_pos_z\"]] + [pitch[f\"z_{t:.3f}\"] for t in extra_times],\n",
    "    )\n",
    "\n",
    "    pitch_fig.update_traces(line=dict(color=colors[pitch[\"pitch_type\"]]))\n",
    "    fig.add_traces(pitch_fig.data)\n",
    "\n",
    "fig.update_layout(title=dict(text=\"Random Yu Darvish Pitch Location Estimation\"), showlegend=True)\n",
    "fig.show()"
   ]
  },
  {
   "cell_type": "markdown",
   "metadata": {
    "id": "68aEER8tSqrN"
   },
   "source": [
    "## Location Estimation Error\n",
    "\n",
    "Since I have the ground truth for release position, I can measure roughly how accurate the position estimation functions are by trying to estimate this release position in 3D space. I compute the mean euclidean distance between estimated release position and actual release position.\n",
    "\n",
    "$3Deuclideandistance = \\sqrt{(x_1 - x_2)^2 + (y_1 - y_2)^2 + (z_1 - z_2)^2}$\n",
    "\n",
    "Looking at the results, depending on the pitch type, it is typically off by anywhere between .4 inches and .8 inches on average.\n",
    "\n",
    "**New Features**\n",
    "- `approx_release_pos_x`: approximated release position in the x dimension working back from 50ft.\n",
    "- `approx_release_pos_y`: approximated release position in the y dimension working back from 50ft.\n",
    "- `approx_release_pos_z`: approximated release position in the z dimension working back from 50ft.\n"
   ]
  },
  {
   "cell_type": "code",
   "execution_count": 10,
   "metadata": {
    "colab": {
     "base_uri": "https://localhost:8080/",
     "height": 252
    },
    "id": "to4pigHrG92M",
    "outputId": "d69e52bd-7c85-4907-fb7d-cc29f4f62187"
   },
   "outputs": [
    {
     "data": {
      "text/html": [
       "<div><style>\n",
       ".dataframe > thead > tr,\n",
       ".dataframe > tbody > tr {\n",
       "  text-align: right;\n",
       "  white-space: pre-wrap;\n",
       "}\n",
       "</style>\n",
       "<small>shape: (5, 2)</small><table border=\"1\" class=\"dataframe\"><thead><tr><th>pitch_type</th><th>mean_euclidean_error_in.</th></tr><tr><td>str</td><td>f64</td></tr></thead><tbody><tr><td>&quot;KC&quot;</td><td>0.635302</td></tr><tr><td>&quot;FF&quot;</td><td>0.334669</td></tr><tr><td>&quot;SL&quot;</td><td>0.485008</td></tr><tr><td>&quot;FS&quot;</td><td>0.455779</td></tr><tr><td>&quot;ST&quot;</td><td>0.535768</td></tr></tbody></table></div>"
      ],
      "text/plain": [
       "shape: (5, 2)\n",
       "┌────────────┬──────────────────────────┐\n",
       "│ pitch_type ┆ mean_euclidean_error_in. │\n",
       "│ ---        ┆ ---                      │\n",
       "│ str        ┆ f64                      │\n",
       "╞════════════╪══════════════════════════╡\n",
       "│ KC         ┆ 0.635302                 │\n",
       "│ FF         ┆ 0.334669                 │\n",
       "│ SL         ┆ 0.485008                 │\n",
       "│ FS         ┆ 0.455779                 │\n",
       "│ ST         ┆ 0.535768                 │\n",
       "└────────────┴──────────────────────────┘"
      ]
     },
     "execution_count": 10,
     "metadata": {},
     "output_type": "execute_result"
    }
   ],
   "source": [
    "def estimate_release_pos(lf: pl.LazyFrame) -> pl.LazyFrame:\n",
    "    return lf.with_columns(\n",
    "        displacement(\n",
    "            p0=pl.col(f\"{d}50\"),\n",
    "            v0=pl.col(f\"v{d}0\"),\n",
    "            a=pl.col(f\"a{d}\"),\n",
    "            t=-pl.col(\"t50\"),\n",
    "        ).alias(f\"approx_release_pos_{d}\")\n",
    "        for d in [\"x\", \"y\", \"z\"]\n",
    "    )\n",
    "\n",
    "ball_pos_lf = ball_pos_lf.pipe(estimate_release_pos)\n",
    "\n",
    "\n",
    "def euclidean_distance(*pts):\n",
    "    return sum((pt[0] - pt[1]) ** 2 for pt in pts) ** 0.5\n",
    "\n",
    "\n",
    "(ball_pos_lf\n",
    "    .drop_nulls([col for col in ball_pos_lf.collect_schema().names() if \"release\" in col])\n",
    "    .select(\"release_pos_x\", \"release_pos_y\", \"release_pos_z\",\n",
    "            \"approx_release_pos_x\", \"approx_release_pos_y\", \"approx_release_pos_z\",\n",
    "            \"pitch_type\")\n",
    "    .filter(pl.col(\"pitch_type\").is_in(pitch_types))\n",
    "    .group_by(\"pitch_type\")\n",
    "    .agg(\n",
    "        (euclidean_distance(\n",
    "            *[(pl.col(f\"approx_release_pos_{d}\"), pl.col(f\"release_pos_{d}\"))\n",
    "            for d in [\"x\", \"y\", \"z\"]]\n",
    "        ).mean() * 12).alias(\"mean_euclidean_error_in.\")\n",
    "    )\n",
    "    .collect())"
   ]
  },
  {
   "cell_type": "markdown",
   "metadata": {
    "id": "y9e_q_ZlCA_4"
   },
   "source": [
    "## Sequence Features\n",
    "\n",
    "**New Feautres**\n",
    "\n",
    "Everything in the `prev_features` list will be added, I don't want to type all of that out.\n",
    "\n",
    "**Note**\n",
    "\n",
    "May or may not need this depending on what sort of model I end up building"
   ]
  },
  {
   "cell_type": "code",
   "execution_count": 11,
   "metadata": {
    "colab": {
     "base_uri": "https://localhost:8080/",
     "height": 396
    },
    "id": "3hCjvQsECA_4",
    "outputId": "9a018703-5839-414a-cc69-ba0046d7c97a"
   },
   "outputs": [
    {
     "data": {
      "text/html": [
       "<div><style>\n",
       ".dataframe > thead > tr,\n",
       ".dataframe > tbody > tr {\n",
       "  text-align: right;\n",
       "  white-space: pre-wrap;\n",
       "}\n",
       "</style>\n",
       "<small>shape: (9, 21)</small><table border=\"1\" class=\"dataframe\"><thead><tr><th>statistic</th><th>prev_pfx_x</th><th>prev_pfx_z</th><th>prev_x_0.120</th><th>prev_y_0.120</th><th>prev_z_0.120</th><th>prev_x_0.167</th><th>prev_y_0.167</th><th>prev_z_0.167</th><th>prev_release_pos_x</th><th>prev_release_pos_y</th><th>prev_release_pos_z</th><th>prev_release_speed</th><th>prev_effective_speed</th><th>prev_release_spin_rate</th><th>prev_delta_run_exp</th><th>prev_x_plate</th><th>prev_y_plate</th><th>prev_z_plate</th><th>prev_pitch_type</th><th>prev_zone</th></tr><tr><td>str</td><td>f64</td><td>f64</td><td>f64</td><td>f64</td><td>f64</td><td>f64</td><td>f64</td><td>f64</td><td>f64</td><td>f64</td><td>f64</td><td>f64</td><td>f64</td><td>f64</td><td>f64</td><td>f64</td><td>f64</td><td>f64</td><td>str</td><td>f64</td></tr></thead><tbody><tr><td>&quot;count&quot;</td><td>3.201603e6</td><td>3.201614e6</td><td>3.195158e6</td><td>3.195158e6</td><td>3.195158e6</td><td>3.195158e6</td><td>3.195158e6</td><td>3.195158e6</td><td>3.201412e6</td><td>3.201412e6</td><td>3.201412e6</td><td>3.20162e6</td><td>3.194446e6</td><td>3.186042e6</td><td>3.267695e6</td><td>3.195158e6</td><td>3.195158e6</td><td>3.195158e6</td><td>&quot;3202778&quot;</td><td>3.201622e6</td></tr><tr><td>&quot;null_count&quot;</td><td>162386.0</td><td>162375.0</td><td>168831.0</td><td>168831.0</td><td>168831.0</td><td>168831.0</td><td>168831.0</td><td>168831.0</td><td>162577.0</td><td>162577.0</td><td>162577.0</td><td>162369.0</td><td>169543.0</td><td>177947.0</td><td>96294.0</td><td>168831.0</td><td>168831.0</td><td>168831.0</td><td>&quot;161211&quot;</td><td>162367.0</td></tr><tr><td>&quot;mean&quot;</td><td>-0.336974</td><td>0.616293</td><td>-1.614261</td><td>-10.894905</td><td>5.228902</td><td>-1.514729</td><td>-16.832773</td><td>4.920112</td><td>-1.888711</td><td>4.510354</td><td>5.802446</td><td>88.962916</td><td>89.099501</td><td>2249.963425</td><td>-0.001075</td><td>-1.092244</td><td>-44.810268</td><td>2.615609</td><td>null</td><td>9.116294</td></tr><tr><td>&quot;std&quot;</td><td>0.825188</td><td>0.733639</td><td>0.968377</td><td>1.037517</td><td>0.486574</td><td>1.138099</td><td>1.428284</td><td>0.523063</td><td>0.729267</td><td>0.038039</td><td>0.541237</td><td>6.046484</td><td>6.207598</td><td>343.956743</td><td>0.225124</td><td>2.033897</td><td>0.448153</td><td>0.898664</td><td>null</td><td>4.228159</td></tr><tr><td>&quot;min&quot;</td><td>-2.78</td><td>-2.56</td><td>-14.686163</td><td>-13.681389</td><td>-3.299011</td><td>-19.969828</td><td>-20.617553</td><td>-7.158099</td><td>-18.0</td><td>3.943333</td><td>0.76</td><td>30.4</td><td>26.8</td><td>4.0</td><td>-1.537</td><td>-119.729224</td><td>-140.804898</td><td>-76.964296</td><td>&quot;CH&quot;</td><td>1.0</td></tr><tr><td>&quot;25%&quot;</td><td>-1.03</td><td>0.16</td><td>-2.062901</td><td>-11.725938</td><td>4.931697</td><td>-1.980381</td><td>-17.977091</td><td>4.581821</td><td>-2.36</td><td>4.485833</td><td>5.54</td><td>84.6</td><td>84.8</td><td>2095.0</td><td>-0.061</td><td>-1.921589</td><td>-45.102457</td><td>2.026876</td><td>null</td><td>5.0</td></tr><tr><td>&quot;50%&quot;</td><td>-0.49</td><td>0.69</td><td>-1.416783</td><td>-11.052585</td><td>5.223882</td><td>-1.215303</td><td>-17.052257</td><td>4.902679</td><td>-1.85</td><td>4.51</td><td>5.84</td><td>89.9</td><td>90.1</td><td>2277.0</td><td>0.0</td><td>-0.414485</td><td>-44.804665</td><td>2.616726</td><td>null</td><td>11.0</td></tr><tr><td>&quot;75%&quot;</td><td>0.31</td><td>1.24</td><td>-0.950993</td><td>-10.1606</td><td>5.528298</td><td>-0.743241</td><td>-15.823139</td><td>5.241462</td><td>-1.39</td><td>4.535833</td><td>6.14</td><td>93.8</td><td>94.0</td><td>2451.0</td><td>0.034</td><td>0.281705</td><td>-44.515526</td><td>3.207265</td><td>null</td><td>13.0</td></tr><tr><td>&quot;max&quot;</td><td>2.95</td><td>2.84</td><td>3.368327</td><td>-0.140021</td><td>9.172685</td><td>3.756937</td><td>-2.065677</td><td>9.883671</td><td>11.63</td><td>4.8075</td><td>8.11</td><td>105.1</td><td>107.7</td><td>3722.0</td><td>3.65</td><td>8.951553</td><td>-39.263614</td><td>13.698295</td><td>&quot;SV&quot;</td><td>14.0</td></tr></tbody></table></div>"
      ],
      "text/plain": [
       "shape: (9, 21)\n",
       "┌───────────┬───────────┬───────────┬───────────┬───┬───────────┬───────────┬───────────┬──────────┐\n",
       "│ statistic ┆ prev_pfx_ ┆ prev_pfx_ ┆ prev_x_0. ┆ … ┆ prev_y_pl ┆ prev_z_pl ┆ prev_pitc ┆ prev_zon │\n",
       "│ ---       ┆ x         ┆ z         ┆ 120       ┆   ┆ ate       ┆ ate       ┆ h_type    ┆ e        │\n",
       "│ str       ┆ ---       ┆ ---       ┆ ---       ┆   ┆ ---       ┆ ---       ┆ ---       ┆ ---      │\n",
       "│           ┆ f64       ┆ f64       ┆ f64       ┆   ┆ f64       ┆ f64       ┆ str       ┆ f64      │\n",
       "╞═══════════╪═══════════╪═══════════╪═══════════╪═══╪═══════════╪═══════════╪═══════════╪══════════╡\n",
       "│ count     ┆ 3.201603e ┆ 3.201614e ┆ 3.195158e ┆ … ┆ 3.195158e ┆ 3.195158e ┆ 3202778   ┆ 3.201622 │\n",
       "│           ┆ 6         ┆ 6         ┆ 6         ┆   ┆ 6         ┆ 6         ┆           ┆ e6       │\n",
       "│ null_coun ┆ 162386.0  ┆ 162375.0  ┆ 168831.0  ┆ … ┆ 168831.0  ┆ 168831.0  ┆ 161211    ┆ 162367.0 │\n",
       "│ t         ┆           ┆           ┆           ┆   ┆           ┆           ┆           ┆          │\n",
       "│ mean      ┆ -0.336974 ┆ 0.616293  ┆ -1.614261 ┆ … ┆ -44.81026 ┆ 2.615609  ┆ null      ┆ 9.116294 │\n",
       "│           ┆           ┆           ┆           ┆   ┆ 8         ┆           ┆           ┆          │\n",
       "│ std       ┆ 0.825188  ┆ 0.733639  ┆ 0.968377  ┆ … ┆ 0.448153  ┆ 0.898664  ┆ null      ┆ 4.228159 │\n",
       "│ min       ┆ -2.78     ┆ -2.56     ┆ -14.68616 ┆ … ┆ -140.8048 ┆ -76.96429 ┆ CH        ┆ 1.0      │\n",
       "│           ┆           ┆           ┆ 3         ┆   ┆ 98        ┆ 6         ┆           ┆          │\n",
       "│ 25%       ┆ -1.03     ┆ 0.16      ┆ -2.062901 ┆ … ┆ -45.10245 ┆ 2.026876  ┆ null      ┆ 5.0      │\n",
       "│           ┆           ┆           ┆           ┆   ┆ 7         ┆           ┆           ┆          │\n",
       "│ 50%       ┆ -0.49     ┆ 0.69      ┆ -1.416783 ┆ … ┆ -44.80466 ┆ 2.616726  ┆ null      ┆ 11.0     │\n",
       "│           ┆           ┆           ┆           ┆   ┆ 5         ┆           ┆           ┆          │\n",
       "│ 75%       ┆ 0.31      ┆ 1.24      ┆ -0.950993 ┆ … ┆ -44.51552 ┆ 3.207265  ┆ null      ┆ 13.0     │\n",
       "│           ┆           ┆           ┆           ┆   ┆ 6         ┆           ┆           ┆          │\n",
       "│ max       ┆ 2.95      ┆ 2.84      ┆ 3.368327  ┆ … ┆ -39.26361 ┆ 13.698295 ┆ SV        ┆ 14.0     │\n",
       "│           ┆           ┆           ┆           ┆   ┆ 4         ┆           ┆           ┆          │\n",
       "└───────────┴───────────┴───────────┴───────────┴───┴───────────┴───────────┴───────────┴──────────┘"
      ]
     },
     "execution_count": 11,
     "metadata": {},
     "output_type": "execute_result"
    }
   ],
   "source": [
    "# features that we are interested in with regards to two pitch sequences\n",
    "prev_features = [\n",
    "    \"prev_pfx_x\",\n",
    "    \"prev_pfx_z\",\n",
    "    \"prev_x_0.120\",\n",
    "    \"prev_y_0.120\",\n",
    "    \"prev_z_0.120\",\n",
    "    \"prev_x_0.167\",\n",
    "    \"prev_y_0.167\",\n",
    "    \"prev_z_0.167\",\n",
    "    \"prev_release_pos_x\",\n",
    "    \"prev_release_pos_y\",\n",
    "    \"prev_release_pos_z\",\n",
    "    \"prev_release_speed\",\n",
    "    \"prev_effective_speed\",\n",
    "    \"prev_release_spin_rate\",\n",
    "    \"prev_delta_run_exp\",\n",
    "    \"prev_x_plate\",\n",
    "    \"prev_y_plate\",\n",
    "    \"prev_z_plate\",\n",
    "    \"prev_pitch_type\",\n",
    "    \"prev_zone\",\n",
    "]\n",
    "\n",
    "def two_pitch_sequences(lf: pl.LazyFrame, seq_features: list[str]) -> pl.LazyFrame:\n",
    "    # sort the data such that the pitches are in descending order\n",
    "    sort_cols = [\"pitcher\", \"game_date\", \"at_bat_number\", \"pitch_number\"]\n",
    "    sorted_lf = lf.sort(\n",
    "        by=sort_cols,\n",
    "        descending=[True] * len(sort_cols),\n",
    "    )\n",
    "\n",
    "    return (sorted_lf\n",
    "        .with_columns([\n",
    "            pl.col(feature)\n",
    "            .shift(-1)\n",
    "            .over([\"pitcher\", \"at_bat_number\"])\n",
    "            .alias(f\"prev_{feature}\")\n",
    "            for feature in [f.replace(\"prev_\", \"\") for f in seq_features]\n",
    "        ])\n",
    "        .select(*sort_cols + seq_features)\n",
    "        .join(other=lf, on=sort_cols, how=\"right\")\n",
    "    )\n",
    "\n",
    "sequence_pitches_lf = (ball_pos_lf\n",
    "                       .pipe(two_pitch_sequences, prev_features))\n",
    "\n",
    "(sequence_pitches_lf\n",
    "    .select(prev_features)\n",
    "    .describe())"
   ]
  },
  {
   "cell_type": "markdown",
   "metadata": {
    "id": "MLPzbmQxwXPt"
   },
   "source": [
    "## Adding 'diff' Features\n",
    "\n",
    "**New Features**\n",
    "\n",
    "For every feature in `prev_features`, we simply measure the difference in that feature between each pitch in a sequence. Each diff feature is its original name post fixed with 'diff'. Ex: `x_0.120_diff`, `y_0.120_diff` etc ..."
   ]
  },
  {
   "cell_type": "code",
   "execution_count": 12,
   "metadata": {
    "colab": {
     "base_uri": "https://localhost:8080/",
     "height": 396
    },
    "id": "fwPC6VhjwWXM",
    "outputId": "854cd394-cdf3-4efc-b5f5-6a44ee0ac670"
   },
   "outputs": [
    {
     "data": {
      "text/html": [
       "<div><style>\n",
       ".dataframe > thead > tr,\n",
       ".dataframe > tbody > tr {\n",
       "  text-align: right;\n",
       "  white-space: pre-wrap;\n",
       "}\n",
       "</style>\n",
       "<small>shape: (9, 20)</small><table border=\"1\" class=\"dataframe\"><thead><tr><th>statistic</th><th>release_spin_rate_diff</th><th>release_pos_y_diff</th><th>release_pos_z_diff</th><th>release_speed_diff</th><th>z_0.120_diff</th><th>x_0.120_diff</th><th>y_0.167_diff</th><th>x_plate_diff</th><th>pfx_z_diff</th><th>effective_speed_diff</th><th>z_plate_diff</th><th>zone_diff</th><th>x_0.167_diff</th><th>y_plate_diff</th><th>pfx_x_diff</th><th>release_pos_x_diff</th><th>y_0.120_diff</th><th>delta_run_exp_diff</th><th>z_0.167_diff</th></tr><tr><td>str</td><td>f64</td><td>f64</td><td>f64</td><td>f64</td><td>f64</td><td>f64</td><td>f64</td><td>f64</td><td>f64</td><td>f64</td><td>f64</td><td>f64</td><td>f64</td><td>f64</td><td>f64</td><td>f64</td><td>f64</td><td>f64</td><td>f64</td></tr></thead><tbody><tr><td>&quot;count&quot;</td><td>3.15801e6</td><td>3.180734e6</td><td>3.180734e6</td><td>3.180986e6</td><td>3.172503e6</td><td>3.172503e6</td><td>3.172503e6</td><td>3.172503e6</td><td>3.180979e6</td><td>3.171022e6</td><td>3.172503e6</td><td>3.18099e6</td><td>3.172503e6</td><td>3.172503e6</td><td>3.180962e6</td><td>3.180734e6</td><td>3.172503e6</td><td>3.267695e6</td><td>3.172503e6</td></tr><tr><td>&quot;null_count&quot;</td><td>205979.0</td><td>183255.0</td><td>183255.0</td><td>183003.0</td><td>191486.0</td><td>191486.0</td><td>191486.0</td><td>191486.0</td><td>183010.0</td><td>192967.0</td><td>191486.0</td><td>182999.0</td><td>191486.0</td><td>191486.0</td><td>183027.0</td><td>183255.0</td><td>191486.0</td><td>96294.0</td><td>191486.0</td></tr><tr><td>&quot;mean&quot;</td><td>-0.785359</td><td>-0.00006</td><td>-0.001495</td><td>0.00483</td><td>-0.001319</td><td>0.000783</td><td>-0.001378</td><td>0.000185</td><td>-0.00117</td><td>0.006805</td><td>-0.001365</td><td>-0.030902</td><td>0.000718</td><td>0.000309</td><td>-0.000974</td><td>0.000893</td><td>-0.001016</td><td>0.001073</td><td>-0.001324</td></tr><tr><td>&quot;std&quot;</td><td>374.626336</td><td>0.017783</td><td>0.161717</td><td>7.321575</td><td>0.427907</td><td>0.409352</td><td>1.72502</td><td>1.034932</td><td>0.944921</td><td>7.430289</td><td>1.209382</td><td>5.951663</td><td>0.508824</td><td>0.285273</td><td>1.024415</td><td>0.225698</td><td>1.252075</td><td>0.326711</td><td>0.55756</td></tr><tr><td>&quot;min&quot;</td><td>-3179.0</td><td>-0.58</td><td>-5.49</td><td>-58.0</td><td>-3.887295</td><td>-6.394507</td><td>-14.847905</td><td>-10.516904</td><td>-4.13</td><td>-63.0</td><td>-11.666142</td><td>-13.0</td><td>-7.289593</td><td>-12.429186</td><td>-4.57</td><td>-15.77</td><td>-10.759134</td><td>-3.852</td><td>-4.444609</td></tr><tr><td>&quot;25%&quot;</td><td>-139.0</td><td>-0.01</td><td>-0.08</td><td>-4.3</td><td>-0.271596</td><td>-0.257047</td><td>-0.993614</td><td>-0.681869</td><td>-0.44</td><td>-4.2</td><td>-0.791021</td><td>-4.0</td><td>-0.325955</td><td>-0.168959</td><td>-0.48</td><td>-0.11</td><td>-0.722503</td><td>-0.099</td><td>-0.356329</td></tr><tr><td>&quot;50%&quot;</td><td>1.0</td><td>0.0</td><td>0.0</td><td>0.0</td><td>0.0</td><td>0.0</td><td>-0.007322</td><td>0.0</td><td>0.0</td><td>0.0</td><td>0.0</td><td>0.0</td><td>0.0</td><td>0.0</td><td>0.0</td><td>0.0</td><td>-0.005474</td><td>0.0</td><td>0.0</td></tr><tr><td>&quot;75%&quot;</td><td>138.0</td><td>0.01</td><td>0.08</td><td>4.2</td><td>0.268931</td><td>0.259608</td><td>0.995253</td><td>0.682729</td><td>0.44</td><td>4.2</td><td>0.782929</td><td>4.0</td><td>0.328029</td><td>0.170464</td><td>0.48</td><td>0.12</td><td>0.72383</td><td>0.09</td><td>0.353631</td></tr><tr><td>&quot;max&quot;</td><td>3151.0</td><td>0.579167</td><td>3.94</td><td>60.6</td><td>8.330738</td><td>11.263514</td><td>14.70033</td><td>114.926849</td><td>5.36</td><td>63.1</td><td>80.325952</td><td>13.0</td><td>16.240613</td><td>96.997189</td><td>4.49</td><td>15.72</td><td>10.684132</td><td>3.887</td><td>11.943277</td></tr></tbody></table></div>"
      ],
      "text/plain": [
       "shape: (9, 20)\n",
       "┌───────────┬───────────┬───────────┬───────────┬───┬───────────┬───────────┬───────────┬──────────┐\n",
       "│ statistic ┆ release_s ┆ release_p ┆ release_p ┆ … ┆ release_p ┆ y_0.120_d ┆ delta_run ┆ z_0.167_ │\n",
       "│ ---       ┆ pin_rate_ ┆ os_y_diff ┆ os_z_diff ┆   ┆ os_x_diff ┆ iff       ┆ _exp_diff ┆ diff     │\n",
       "│ str       ┆ diff      ┆ ---       ┆ ---       ┆   ┆ ---       ┆ ---       ┆ ---       ┆ ---      │\n",
       "│           ┆ ---       ┆ f64       ┆ f64       ┆   ┆ f64       ┆ f64       ┆ f64       ┆ f64      │\n",
       "│           ┆ f64       ┆           ┆           ┆   ┆           ┆           ┆           ┆          │\n",
       "╞═══════════╪═══════════╪═══════════╪═══════════╪═══╪═══════════╪═══════════╪═══════════╪══════════╡\n",
       "│ count     ┆ 3.15801e6 ┆ 3.180734e ┆ 3.180734e ┆ … ┆ 3.180734e ┆ 3.172503e ┆ 3.267695e ┆ 3.172503 │\n",
       "│           ┆           ┆ 6         ┆ 6         ┆   ┆ 6         ┆ 6         ┆ 6         ┆ e6       │\n",
       "│ null_coun ┆ 205979.0  ┆ 183255.0  ┆ 183255.0  ┆ … ┆ 183255.0  ┆ 191486.0  ┆ 96294.0   ┆ 191486.0 │\n",
       "│ t         ┆           ┆           ┆           ┆   ┆           ┆           ┆           ┆          │\n",
       "│ mean      ┆ -0.785359 ┆ -0.00006  ┆ -0.001495 ┆ … ┆ 0.000893  ┆ -0.001016 ┆ 0.001073  ┆ -0.00132 │\n",
       "│           ┆           ┆           ┆           ┆   ┆           ┆           ┆           ┆ 4        │\n",
       "│ std       ┆ 374.62633 ┆ 0.017783  ┆ 0.161717  ┆ … ┆ 0.225698  ┆ 1.252075  ┆ 0.326711  ┆ 0.55756  │\n",
       "│           ┆ 6         ┆           ┆           ┆   ┆           ┆           ┆           ┆          │\n",
       "│ min       ┆ -3179.0   ┆ -0.58     ┆ -5.49     ┆ … ┆ -15.77    ┆ -10.75913 ┆ -3.852    ┆ -4.44460 │\n",
       "│           ┆           ┆           ┆           ┆   ┆           ┆ 4         ┆           ┆ 9        │\n",
       "│ 25%       ┆ -139.0    ┆ -0.01     ┆ -0.08     ┆ … ┆ -0.11     ┆ -0.722503 ┆ -0.099    ┆ -0.35632 │\n",
       "│           ┆           ┆           ┆           ┆   ┆           ┆           ┆           ┆ 9        │\n",
       "│ 50%       ┆ 1.0       ┆ 0.0       ┆ 0.0       ┆ … ┆ 0.0       ┆ -0.005474 ┆ 0.0       ┆ 0.0      │\n",
       "│ 75%       ┆ 138.0     ┆ 0.01      ┆ 0.08      ┆ … ┆ 0.12      ┆ 0.72383   ┆ 0.09      ┆ 0.353631 │\n",
       "│ max       ┆ 3151.0    ┆ 0.579167  ┆ 3.94      ┆ … ┆ 15.72     ┆ 10.684132 ┆ 3.887     ┆ 11.94327 │\n",
       "│           ┆           ┆           ┆           ┆   ┆           ┆           ┆           ┆ 7        │\n",
       "└───────────┴───────────┴───────────┴───────────┴───┴───────────┴───────────┴───────────┴──────────┘"
      ]
     },
     "execution_count": 12,
     "metadata": {},
     "output_type": "execute_result"
    }
   ],
   "source": [
    "def add_diff_features(lf: pl.LazyFrame, seq_features: list[str]) -> pl.LazyFrame:\n",
    "    num_seq_features = set(lf\n",
    "                           .select(seq_features)\n",
    "                           .select(cs.numeric())\n",
    "                           .collect_schema()\n",
    "                           .names())\n",
    "\n",
    "    return lf.with_columns(\n",
    "        (pl.col(feature.replace(\"prev_\", \"\"))\n",
    "        - pl.col(feature)).alias(f\"{feature.replace('prev_', '')}_diff\")\n",
    "        for feature in num_seq_features\n",
    "    )\n",
    "\n",
    "sequence_diff_pitches_lf = sequence_pitches_lf.pipe(add_diff_features, prev_features)\n",
    "\n",
    "diff_features = [\n",
    "    col for col in (sequence_diff_pitches_lf\n",
    "                    .collect_schema().names())\n",
    "    if col.endswith(\"_diff\")\n",
    "]\n",
    "\n",
    "(sequence_diff_pitches_lf\n",
    "    .select(*diff_features)\n",
    "    .describe())"
   ]
  },
  {
   "cell_type": "markdown",
   "metadata": {
    "id": "J_cYfhl8UdIe"
   },
   "source": [
    "## 3D distance features\n",
    "\n",
    "Using the euclidean distance function from earlier, I can create features that represent the distance between a pitch, and the previous pitch thrown in any given two pitch sequence."
   ]
  },
  {
   "cell_type": "code",
   "execution_count": 13,
   "metadata": {
    "colab": {
     "base_uri": "https://localhost:8080/",
     "height": 376
    },
    "id": "jUeiZ_cpCA_4",
    "outputId": "3df0fb48-1be1-49f6-8208-e0efaec6a7b0"
   },
   "outputs": [
    {
     "data": {
      "text/html": [
       "<div><style>\n",
       ".dataframe > thead > tr,\n",
       ".dataframe > tbody > tr {\n",
       "  text-align: right;\n",
       "  white-space: pre-wrap;\n",
       "}\n",
       "</style>\n",
       "<small>shape: (9, 5)</small><table border=\"1\" class=\"dataframe\"><thead><tr><th>statistic</th><th>3d_dist_0.120</th><th>3d_dist_0.167</th><th>3d_dist_plate</th><th>3d_dist_release</th></tr><tr><td>str</td><td>f64</td><td>f64</td><td>f64</td><td>f64</td></tr></thead><tbody><tr><td>&quot;count&quot;</td><td>3.172503e6</td><td>3.172503e6</td><td>3.172503e6</td><td>3.180734e6</td></tr><tr><td>&quot;null_count&quot;</td><td>191486.0</td><td>191486.0</td><td>191486.0</td><td>183255.0</td></tr><tr><td>&quot;mean&quot;</td><td>1.140835</td><td>1.545191</td><td>1.41547</td><td>0.214067</td></tr><tr><td>&quot;std&quot;</td><td>0.785406</td><td>1.076038</td><td>0.781995</td><td>0.177726</td></tr><tr><td>&quot;min&quot;</td><td>0.0</td><td>0.0</td><td>0.0</td><td>0.0</td></tr><tr><td>&quot;25%&quot;</td><td>0.47681</td><td>0.634761</td><td>0.841574</td><td>0.099121</td></tr><tr><td>&quot;50%&quot;</td><td>0.961294</td><td>1.288745</td><td>1.293708</td><td>0.170002</td></tr><tr><td>&quot;75%&quot;</td><td>1.681215</td><td>2.288991</td><td>1.855862</td><td>0.277849</td></tr><tr><td>&quot;max&quot;</td><td>14.811885</td><td>20.907741</td><td>170.496022</td><td>15.812621</td></tr></tbody></table></div>"
      ],
      "text/plain": [
       "shape: (9, 5)\n",
       "┌────────────┬───────────────┬───────────────┬───────────────┬─────────────────┐\n",
       "│ statistic  ┆ 3d_dist_0.120 ┆ 3d_dist_0.167 ┆ 3d_dist_plate ┆ 3d_dist_release │\n",
       "│ ---        ┆ ---           ┆ ---           ┆ ---           ┆ ---             │\n",
       "│ str        ┆ f64           ┆ f64           ┆ f64           ┆ f64             │\n",
       "╞════════════╪═══════════════╪═══════════════╪═══════════════╪═════════════════╡\n",
       "│ count      ┆ 3.172503e6    ┆ 3.172503e6    ┆ 3.172503e6    ┆ 3.180734e6      │\n",
       "│ null_count ┆ 191486.0      ┆ 191486.0      ┆ 191486.0      ┆ 183255.0        │\n",
       "│ mean       ┆ 1.140835      ┆ 1.545191      ┆ 1.41547       ┆ 0.214067        │\n",
       "│ std        ┆ 0.785406      ┆ 1.076038      ┆ 0.781995      ┆ 0.177726        │\n",
       "│ min        ┆ 0.0           ┆ 0.0           ┆ 0.0           ┆ 0.0             │\n",
       "│ 25%        ┆ 0.47681       ┆ 0.634761      ┆ 0.841574      ┆ 0.099121        │\n",
       "│ 50%        ┆ 0.961294      ┆ 1.288745      ┆ 1.293708      ┆ 0.170002        │\n",
       "│ 75%        ┆ 1.681215      ┆ 2.288991      ┆ 1.855862      ┆ 0.277849        │\n",
       "│ max        ┆ 14.811885     ┆ 20.907741     ┆ 170.496022    ┆ 15.812621       │\n",
       "└────────────┴───────────────┴───────────────┴───────────────┴─────────────────┘"
      ]
     },
     "execution_count": 13,
     "metadata": {},
     "output_type": "execute_result"
    }
   ],
   "source": [
    "def add_3D_distances(lf: pl.LazyFrame, times: list[float]) -> pl.LazyFrame:\n",
    "    return lf.with_columns(\n",
    "        # distance over the plate\n",
    "        euclidean_distance(\n",
    "            *[(pl.col(f\"{d}_plate\"), pl.col(f\"prev_{d}_plate\"))\n",
    "              for d in [\"x\", \"y\", \"z\"]]\n",
    "        ).alias(\"3d_dist_plate\"),\n",
    "\n",
    "        # distance at release\n",
    "        euclidean_distance(\n",
    "            *[(pl.col(f\"release_pos_{d}\"), pl.col(f\"prev_release_pos_{d}\"))\n",
    "              for d in [\"x\", \"y\", \"z\"]]\n",
    "        ).alias(\"3d_dist_release\"),\n",
    "\n",
    "        # distances at given times after release\n",
    "        *[euclidean_distance(\n",
    "            *[(pl.col(f\"{d}_{t:.3f}\"), pl.col(f\"prev_{d}_{t:.3f}\"))\n",
    "             for d in [\"x\", \"y\", \"z\"]]\n",
    "        ).alias(f\"3d_dist_{t:.3f}\")\n",
    "        for t in times]\n",
    "    )\n",
    "\n",
    "sequence_dist_pitches_lf = sequence_diff_pitches_lf.pipe(add_3D_distances, TIMES)\n",
    "\n",
    "(sequence_dist_pitches_lf\n",
    "    .select(\"3d_dist_0.120\", \"3d_dist_0.167\",\n",
    "            \"3d_dist_plate\", \"3d_dist_release\")\n",
    "    .describe())"
   ]
  },
  {
   "cell_type": "markdown",
   "metadata": {
    "id": "0hvKsR72Qw2P"
   },
   "source": [
    "# Serializing the LazyFrame w/ Features\n",
    "\n",
    "This will allow me to pick up at this point in a new notebook if I want to"
   ]
  },
  {
   "cell_type": "code",
   "execution_count": 14,
   "metadata": {
    "id": "DgaPtBF7Qw2P"
   },
   "outputs": [],
   "source": [
    "sequence_dist_pitches_lf.serialize(\n",
    "    os.path.join(DATA_DIR, \"two_pitch_seqs_lf\")\n",
    ")\n",
    "\n",
    "ball_pos_lf.serialize(\n",
    "    os.path.join(DATA_DIR, \"ball_pos_lf\")\n",
    ")"
   ]
  },
  {
   "cell_type": "markdown",
   "metadata": {},
   "source": [
    "## Pre Processing\n",
    "\n",
    "Splitting data into training & test splits "
   ]
  },
  {
   "cell_type": "code",
   "execution_count": 15,
   "metadata": {},
   "outputs": [
    {
     "data": {
      "text/html": [
       "<div><style>\n",
       ".dataframe > thead > tr,\n",
       ".dataframe > tbody > tr {\n",
       "  text-align: right;\n",
       "  white-space: pre-wrap;\n",
       "}\n",
       "</style>\n",
       "<small>shape: (9, 71)</small><table border=\"1\" class=\"dataframe\"><thead><tr><th>statistic</th><th>release_speed</th><th>release_pos_x</th><th>release_pos_y</th><th>release_pos_z</th><th>3d_dist_plate</th><th>3d_dist_release</th><th>3d_dist_0.120</th><th>3d_dist_0.167</th><th>ax</th><th>ay</th><th>az</th><th>vx0</th><th>vy0</th><th>vz0</th><th>x50</th><th>y50</th><th>z50</th><th>plate_x</th><th>plate_z</th><th>x_plate</th><th>y_plate</th><th>z_plate</th><th>x_0.120</th><th>y_0.120</th><th>z_0.120</th><th>x_0.167</th><th>y_0.167</th><th>z_0.167</th><th>pitch_type</th><th>zone</th><th>prev_pfx_x</th><th>prev_pfx_z</th><th>prev_x_0.120</th><th>prev_y_0.120</th><th>prev_z_0.120</th><th>prev_x_0.167</th><th>prev_y_0.167</th><th>prev_z_0.167</th><th>prev_release_pos_x</th><th>prev_release_pos_y</th><th>prev_release_pos_z</th><th>prev_release_speed</th><th>prev_effective_speed</th><th>prev_release_spin_rate</th><th>prev_delta_run_exp</th><th>prev_x_plate</th><th>prev_y_plate</th><th>prev_z_plate</th><th>prev_pitch_type</th><th>prev_zone</th><th>release_spin_rate_diff</th><th>release_pos_y_diff</th><th>release_pos_z_diff</th><th>release_speed_diff</th><th>z_0.120_diff</th><th>x_0.120_diff</th><th>y_0.167_diff</th><th>x_plate_diff</th><th>pfx_z_diff</th><th>effective_speed_diff</th><th>z_plate_diff</th><th>zone_diff</th><th>x_0.167_diff</th><th>y_plate_diff</th><th>pfx_x_diff</th><th>release_pos_x_diff</th><th>y_0.120_diff</th><th>delta_run_exp_diff</th><th>z_0.167_diff</th><th>seq_delta_run_exp</th></tr><tr><td>str</td><td>f64</td><td>f64</td><td>f64</td><td>f64</td><td>f64</td><td>f64</td><td>f64</td><td>f64</td><td>f64</td><td>f64</td><td>f64</td><td>f64</td><td>f64</td><td>f64</td><td>f64</td><td>f64</td><td>f64</td><td>f64</td><td>f64</td><td>f64</td><td>f64</td><td>f64</td><td>f64</td><td>f64</td><td>f64</td><td>f64</td><td>f64</td><td>f64</td><td>str</td><td>f64</td><td>f64</td><td>f64</td><td>f64</td><td>f64</td><td>f64</td><td>f64</td><td>f64</td><td>f64</td><td>f64</td><td>f64</td><td>f64</td><td>f64</td><td>f64</td><td>f64</td><td>f64</td><td>f64</td><td>f64</td><td>f64</td><td>str</td><td>f64</td><td>f64</td><td>f64</td><td>f64</td><td>f64</td><td>f64</td><td>f64</td><td>f64</td><td>f64</td><td>f64</td><td>f64</td><td>f64</td><td>f64</td><td>f64</td><td>f64</td><td>f64</td><td>f64</td><td>f64</td><td>f64</td><td>f64</td><td>f64</td></tr></thead><tbody><tr><td>&quot;count&quot;</td><td>3.154584e6</td><td>3.154584e6</td><td>3.154584e6</td><td>3.154584e6</td><td>3.154584e6</td><td>3.154584e6</td><td>3.154584e6</td><td>3.154584e6</td><td>3.154584e6</td><td>3.154584e6</td><td>3.154584e6</td><td>3.154584e6</td><td>3.154584e6</td><td>3.154584e6</td><td>3.154584e6</td><td>3.154584e6</td><td>3.154584e6</td><td>3.154584e6</td><td>3.154584e6</td><td>3.154584e6</td><td>3.154584e6</td><td>3.154584e6</td><td>3.154584e6</td><td>3.154584e6</td><td>3.154584e6</td><td>3.154584e6</td><td>3.154584e6</td><td>3.154584e6</td><td>&quot;3154584&quot;</td><td>3.154584e6</td><td>3.154584e6</td><td>3.154584e6</td><td>3.154584e6</td><td>3.154584e6</td><td>3.154584e6</td><td>3.154584e6</td><td>3.154584e6</td><td>3.154584e6</td><td>3.154584e6</td><td>3.154584e6</td><td>3.154584e6</td><td>3.154584e6</td><td>3.154584e6</td><td>3.154584e6</td><td>3.154584e6</td><td>3.154584e6</td><td>3.154584e6</td><td>3.154584e6</td><td>&quot;3154584&quot;</td><td>3.154584e6</td><td>3.154584e6</td><td>3.154584e6</td><td>3.154584e6</td><td>3.154584e6</td><td>3.154584e6</td><td>3.154584e6</td><td>3.154584e6</td><td>3.154584e6</td><td>3.154584e6</td><td>3.154584e6</td><td>3.154584e6</td><td>3.154584e6</td><td>3.154584e6</td><td>3.154584e6</td><td>3.154584e6</td><td>3.154584e6</td><td>3.154584e6</td><td>3.154584e6</td><td>3.154584e6</td><td>3.154584e6</td></tr><tr><td>&quot;null_count&quot;</td><td>0.0</td><td>0.0</td><td>0.0</td><td>0.0</td><td>0.0</td><td>0.0</td><td>0.0</td><td>0.0</td><td>0.0</td><td>0.0</td><td>0.0</td><td>0.0</td><td>0.0</td><td>0.0</td><td>0.0</td><td>0.0</td><td>0.0</td><td>0.0</td><td>0.0</td><td>0.0</td><td>0.0</td><td>0.0</td><td>0.0</td><td>0.0</td><td>0.0</td><td>0.0</td><td>0.0</td><td>0.0</td><td>&quot;0&quot;</td><td>0.0</td><td>0.0</td><td>0.0</td><td>0.0</td><td>0.0</td><td>0.0</td><td>0.0</td><td>0.0</td><td>0.0</td><td>0.0</td><td>0.0</td><td>0.0</td><td>0.0</td><td>0.0</td><td>0.0</td><td>0.0</td><td>0.0</td><td>0.0</td><td>0.0</td><td>&quot;0&quot;</td><td>0.0</td><td>0.0</td><td>0.0</td><td>0.0</td><td>0.0</td><td>0.0</td><td>0.0</td><td>0.0</td><td>0.0</td><td>0.0</td><td>0.0</td><td>0.0</td><td>0.0</td><td>0.0</td><td>0.0</td><td>0.0</td><td>0.0</td><td>0.0</td><td>0.0</td><td>0.0</td><td>0.0</td></tr><tr><td>&quot;mean&quot;</td><td>88.970372</td><td>-1.887253</td><td>4.51025</td><td>5.801457</td><td>1.415392</td><td>0.213948</td><td>1.140731</td><td>1.545059</td><td>-2.17867</td><td>26.883705</td><td>-23.805468</td><td>2.373742</td><td>-129.401193</td><td>-3.895177</td><td>-1.819628</td><td>0.628503</td><td>5.676211</td><td>0.044478</td><td>2.2806</td><td>-1.090728</td><td>-44.809408</td><td>2.614128</td><td>-1.612705</td><td>-10.896363</td><td>5.227878</td><td>-1.513123</td><td>-16.834737</td><td>4.918964</td><td>null</td><td>9.093413</td><td>-0.336932</td><td>0.616653</td><td>-1.613482</td><td>-10.895335</td><td>5.229209</td><td>-1.513833</td><td>-16.83334</td><td>4.920307</td><td>-1.888157</td><td>4.510309</td><td>5.802946</td><td>88.965218</td><td>89.102683</td><td>2250.012182</td><td>-0.001263</td><td>-1.090867</td><td>-44.809655</td><td>2.615555</td><td>null</td><td>9.125033</td><td>-0.792291</td><td>-0.000059</td><td>-0.001489</td><td>0.005154</td><td>-0.001331</td><td>0.000777</td><td>-0.001397</td><td>0.000139</td><td>-0.001157</td><td>0.006872</td><td>-0.001427</td><td>-0.03162</td><td>0.000709</td><td>0.000247</td><td>-0.00099</td><td>0.000904</td><td>-0.001028</td><td>0.001254</td><td>-0.001343</td><td>-0.001272</td></tr><tr><td>&quot;std&quot;</td><td>6.032485</td><td>0.729058</td><td>0.038017</td><td>0.540158</td><td>0.776096</td><td>0.176802</td><td>0.785338</td><td>1.075938</td><td>10.732555</td><td>4.004844</td><td>8.892772</td><td>5.80265</td><td>8.733325</td><td>3.052229</td><td>0.742009</td><td>0.391713</td><td>0.50201</td><td>0.840842</td><td>0.974851</td><td>2.030061</td><td>0.444191</td><td>0.894293</td><td>0.967612</td><td>1.03513</td><td>0.484545</td><td>1.136984</td><td>1.425001</td><td>0.520374</td><td>null</td><td>4.228238</td><td>0.824829</td><td>0.733773</td><td>0.967694</td><td>1.037452</td><td>0.48601</td><td>1.137378</td><td>1.428189</td><td>0.522907</td><td>0.728666</td><td>0.038064</td><td>0.539805</td><td>6.045718</td><td>6.207473</td><td>343.867108</td><td>0.224751</td><td>2.03212</td><td>0.444633</td><td>0.898871</td><td>null</td><td>4.22814</td><td>374.640646</td><td>0.017705</td><td>0.161612</td><td>7.320774</td><td>0.427918</td><td>0.409213</td><td>1.724888</td><td>1.032816</td><td>0.945002</td><td>7.429659</td><td>1.208652</td><td>5.951744</td><td>0.508647</td><td>0.279478</td><td>1.024025</td><td>0.224939</td><td>1.251979</td><td>0.328446</td><td>0.557574</td><td>0.330054</td></tr><tr><td>&quot;min&quot;</td><td>31.1</td><td>-4.95</td><td>4.030833</td><td>0.76</td><td>0.0</td><td>0.0</td><td>0.0</td><td>0.0</td><td>-35.423968</td><td>-19.370976</td><td>-51.301206</td><td>-20.9275</td><td>-153.07888</td><td>-23.653902</td><td>-5.476957</td><td>-2.449655</td><td>1.036836</td><td>-8.66</td><td>-7.65</td><td>-11.665359</td><td>-48.949289</td><td>-6.206166</td><td>-6.60534</td><td>-13.681389</td><td>1.315128</td><td>-7.414727</td><td>-20.63631</td><td>1.222144</td><td>&quot;CH&quot;</td><td>1.0</td><td>-2.78</td><td>-2.14</td><td>-6.60534</td><td>-13.681389</td><td>1.315128</td><td>-7.414727</td><td>-20.617553</td><td>1.222144</td><td>-4.95</td><td>4.030833</td><td>0.76</td><td>31.1</td><td>27.9</td><td>4.0</td><td>-1.537</td><td>-11.665359</td><td>-48.949289</td><td>-6.206166</td><td>&quot;CH&quot;</td><td>1.0</td><td>-3179.0</td><td>-0.490833</td><td>-4.19</td><td>-50.5</td><td>-3.777252</td><td>-6.394507</td><td>-14.847905</td><td>-10.516904</td><td>-4.13</td><td>-53.3</td><td>-11.666142</td><td>-13.0</td><td>-7.289593</td><td>-5.709454</td><td>-4.57</td><td>-4.56</td><td>-10.759134</td><td>-3.852</td><td>-4.444609</td><td>-2.166</td></tr><tr><td>&quot;25%&quot;</td><td>84.7</td><td>-2.36</td><td>4.485</td><td>5.54</td><td>0.84159</td><td>0.099083</td><td>0.476738</td><td>0.634701</td><td>-11.279772</td><td>23.884811</td><td>-30.189198</td><td>-2.017856</td><td>-136.428983</td><td>-5.946443</td><td>-2.27601</td><td>0.385535</td><td>5.421488</td><td>-0.52</td><td>1.64</td><td>-1.915081</td><td>-45.101429</td><td>2.028877</td><td>-2.059861</td><td>-11.726229</td><td>4.93178</td><td>-1.976445</td><td>-17.977466</td><td>4.582478</td><td>null</td><td>5.0</td><td>-1.03</td><td>0.16</td><td>-2.061999</td><td>-11.72632</td><td>4.931784</td><td>-1.979283</td><td>-17.97758</td><td>4.581695</td><td>-2.36</td><td>4.485</td><td>5.54</td><td>84.6</td><td>84.8</td><td>2095.0</td><td>-0.061</td><td>-1.918433</td><td>-45.101821</td><td>2.025451</td><td>null</td><td>5.0</td><td>-139.0</td><td>-0.01</td><td>-0.08</td><td>-4.3</td><td>-0.271644</td><td>-0.257015</td><td>-0.993267</td><td>-0.681833</td><td>-0.44</td><td>-4.2</td><td>-0.791251</td><td>-4.0</td><td>-0.325916</td><td>-0.168908</td><td>-0.48</td><td>-0.11</td><td>-0.722265</td><td>-0.101</td><td>-0.356407</td><td>-0.148</td></tr><tr><td>&quot;50%&quot;</td><td>89.8</td><td>-1.85</td><td>4.509167</td><td>5.84</td><td>1.293744</td><td>0.169953</td><td>0.961155</td><td>1.288582</td><td>-2.191397</td><td>26.769554</td><td>-23.780959</td><td>4.007171</td><td>-130.674381</td><td>-3.998085</td><td>-1.773561</td><td>0.645304</td><td>5.70843</td><td>0.04</td><td>2.29</td><td>-0.41196</td><td>-44.803835</td><td>2.615022</td><td>-1.415391</td><td>-11.049937</td><td>5.223085</td><td>-1.213605</td><td>-17.048693</td><td>4.901982</td><td>null</td><td>11.0</td><td>-0.49</td><td>0.69</td><td>-1.416369</td><td>-11.053209</td><td>5.223966</td><td>-1.214825</td><td>-17.053083</td><td>4.902721</td><td>-1.85</td><td>4.51</td><td>5.84</td><td>89.9</td><td>90.1</td><td>2277.0</td><td>0.0</td><td>-0.414336</td><td>-44.804113</td><td>2.616631</td><td>null</td><td>11.0</td><td>1.0</td><td>0.0</td><td>0.0</td><td>0.0</td><td>0.0</td><td>0.0</td><td>-0.007303</td><td>0.0</td><td>0.0</td><td>0.0</td><td>0.0</td><td>0.0</td><td>0.0</td><td>0.0</td><td>0.0</td><td>0.0</td><td>-0.005458</td><td>0.0</td><td>0.0</td><td>-0.019</td></tr><tr><td>&quot;75%&quot;</td><td>93.8</td><td>-1.39</td><td>4.535833</td><td>6.13</td><td>1.855896</td><td>0.277629</td><td>1.681017</td><td>2.288716</td><td>6.136701</td><td>29.853173</td><td>-15.996417</td><td>6.584456</td><td>-123.1867</td><td>-1.96329</td><td>-1.310528</td><td>0.901648</td><td>5.985333</td><td>0.61</td><td>2.93</td><td>0.279098</td><td>-44.515111</td><td>3.202675</td><td>-0.950294</td><td>-10.162973</td><td>5.526372</td><td>-0.742764</td><td>-15.826413</td><td>5.238926</td><td>null</td><td>13.0</td><td>0.31</td><td>1.24</td><td>-0.950663</td><td>-10.161068</td><td>5.528434</td><td>-0.74276</td><td>-15.823775</td><td>5.241725</td><td>-1.39</td><td>4.535833</td><td>6.14</td><td>93.8</td><td>94.0</td><td>2451.0</td><td>0.035</td><td>0.282915</td><td>-44.515115</td><td>3.208462</td><td>null</td><td>13.0</td><td>138.0</td><td>0.01</td><td>0.08</td><td>4.2</td><td>0.268978</td><td>0.259535</td><td>0.99509</td><td>0.682675</td><td>0.44</td><td>4.2</td><td>0.783037</td><td>4.0</td><td>0.327979</td><td>0.170361</td><td>0.48</td><td>0.12</td><td>0.723699</td><td>0.091</td><td>0.353683</td><td>0.045</td></tr><tr><td>&quot;max&quot;</td><td>105.5</td><td>2.38</td><td>4.8075</td><td>8.11</td><td>13.616653</td><td>4.709685</td><td>11.017295</td><td>15.136046</td><td>31.73382</td><td>100.050198</td><td>2.247265</td><td>24.111797</td><td>-42.52358</td><td>20.09525</td><td>2.543763</td><td>5.5406</td><td>9.258291</td><td>10.2</td><td>13.58</td><td>8.951553</td><td>-39.345836</td><td>13.698295</td><td>3.368327</td><td>-0.326078</td><td>8.93593</td><td>3.756937</td><td>-2.325017</td><td>9.526448</td><td>&quot;SV&quot;</td><td>14.0</td><td>2.95</td><td>2.8</td><td>3.368327</td><td>-0.326078</td><td>9.172685</td><td>3.756937</td><td>-2.325017</td><td>9.883671</td><td>2.38</td><td>4.8075</td><td>8.11</td><td>105.1</td><td>107.1</td><td>3722.0</td><td>3.65</td><td>8.951553</td><td>-39.263614</td><td>13.698295</td><td>&quot;SV&quot;</td><td>14.0</td><td>3151.0</td><td>0.5</td><td>3.94</td><td>60.6</td><td>3.942289</td><td>6.027239</td><td>12.493472</td><td>10.282768</td><td>3.85</td><td>63.1</td><td>12.003925</td><td>13.0</td><td>6.739324</td><td>5.62397</td><td>4.49</td><td>4.67</td><td>9.041928</td><td>3.887</td><td>5.211208</td><td>6.561</td></tr></tbody></table></div>"
      ],
      "text/plain": [
       "shape: (9, 71)\n",
       "┌───────────┬───────────┬───────────┬───────────┬───┬───────────┬───────────┬───────────┬──────────┐\n",
       "│ statistic ┆ release_s ┆ release_p ┆ release_p ┆ … ┆ y_0.120_d ┆ delta_run ┆ z_0.167_d ┆ seq_delt │\n",
       "│ ---       ┆ peed      ┆ os_x      ┆ os_y      ┆   ┆ iff       ┆ _exp_diff ┆ iff       ┆ a_run_ex │\n",
       "│ str       ┆ ---       ┆ ---       ┆ ---       ┆   ┆ ---       ┆ ---       ┆ ---       ┆ p        │\n",
       "│           ┆ f64       ┆ f64       ┆ f64       ┆   ┆ f64       ┆ f64       ┆ f64       ┆ ---      │\n",
       "│           ┆           ┆           ┆           ┆   ┆           ┆           ┆           ┆ f64      │\n",
       "╞═══════════╪═══════════╪═══════════╪═══════════╪═══╪═══════════╪═══════════╪═══════════╪══════════╡\n",
       "│ count     ┆ 3.154584e ┆ 3.154584e ┆ 3.154584e ┆ … ┆ 3.154584e ┆ 3.154584e ┆ 3.154584e ┆ 3.154584 │\n",
       "│           ┆ 6         ┆ 6         ┆ 6         ┆   ┆ 6         ┆ 6         ┆ 6         ┆ e6       │\n",
       "│ null_coun ┆ 0.0       ┆ 0.0       ┆ 0.0       ┆ … ┆ 0.0       ┆ 0.0       ┆ 0.0       ┆ 0.0      │\n",
       "│ t         ┆           ┆           ┆           ┆   ┆           ┆           ┆           ┆          │\n",
       "│ mean      ┆ 88.970372 ┆ -1.887253 ┆ 4.51025   ┆ … ┆ -0.001028 ┆ 0.001254  ┆ -0.001343 ┆ -0.00127 │\n",
       "│           ┆           ┆           ┆           ┆   ┆           ┆           ┆           ┆ 2        │\n",
       "│ std       ┆ 6.032485  ┆ 0.729058  ┆ 0.038017  ┆ … ┆ 1.251979  ┆ 0.328446  ┆ 0.557574  ┆ 0.330054 │\n",
       "│ min       ┆ 31.1      ┆ -4.95     ┆ 4.030833  ┆ … ┆ -10.75913 ┆ -3.852    ┆ -4.444609 ┆ -2.166   │\n",
       "│           ┆           ┆           ┆           ┆   ┆ 4         ┆           ┆           ┆          │\n",
       "│ 25%       ┆ 84.7      ┆ -2.36     ┆ 4.485     ┆ … ┆ -0.722265 ┆ -0.101    ┆ -0.356407 ┆ -0.148   │\n",
       "│ 50%       ┆ 89.8      ┆ -1.85     ┆ 4.509167  ┆ … ┆ -0.005458 ┆ 0.0       ┆ 0.0       ┆ -0.019   │\n",
       "│ 75%       ┆ 93.8      ┆ -1.39     ┆ 4.535833  ┆ … ┆ 0.723699  ┆ 0.091     ┆ 0.353683  ┆ 0.045    │\n",
       "│ max       ┆ 105.5     ┆ 2.38      ┆ 4.8075    ┆ … ┆ 9.041928  ┆ 3.887     ┆ 5.211208  ┆ 6.561    │\n",
       "└───────────┴───────────┴───────────┴───────────┴───┴───────────┴───────────┴───────────┴──────────┘"
      ]
     },
     "execution_count": 15,
     "metadata": {},
     "output_type": "execute_result"
    }
   ],
   "source": [
    "features = [\n",
    "    \"release_speed\", \"release_pos_x\", \"release_pos_y\", \"release_pos_z\",\n",
    "    \"3d_dist_plate\", \"3d_dist_release\", \"3d_dist_0.120\", \"3d_dist_0.167\",\n",
    "    \"ax\", \"ay\", \"az\", \"vx0\", \"vy0\", \"vz0\", \"x50\", \"y50\", \"z50\", \"plate_x\",\n",
    "    \"plate_z\", \"x_plate\", \"y_plate\", \"z_plate\", \"x_0.120\", \"y_0.120\", \"z_0.120\",\n",
    "    \"x_0.167\", \"y_0.167\", \"z_0.167\", \"pitch_type\", \"zone\", \n",
    "] + prev_features + diff_features\n",
    "\n",
    "RESPONSE = \"seq_delta_run_exp\"\n",
    "\n",
    "two_seqs_lf = (sequence_dist_pitches_lf\n",
    "               .with_columns((pl.col(\"delta_run_exp\") \n",
    "                              + pl.col(\"prev_delta_run_exp\"))\n",
    "                              .alias(RESPONSE))\n",
    "               .select(*features, RESPONSE)\n",
    "               .drop_nulls()) \n",
    "            # no longer doing one hot encoding (dummy vars) b/c LightGBM handles that for us\n",
    "            #    .to_dummies([\n",
    "            #        \"pitch_type\", \n",
    "            #        \"prev_pitch_type\",\n",
    "            #    ]))\n",
    "\n",
    "two_seqs_lf.describe()"
   ]
  },
  {
   "cell_type": "code",
   "execution_count": 16,
   "metadata": {},
   "outputs": [
    {
     "name": "stdout",
     "output_type": "stream",
     "text": [
      "(3154584, 67) (3154584, 1)\n"
     ]
    }
   ],
   "source": [
    "X = two_seqs_lf.select(pl.exclude(\n",
    "    RESPONSE,\n",
    "    \"prev_delta_run_exp\",\n",
    "    \"delta_run_exp_diff\",\n",
    ")).collect()\n",
    "\n",
    "y = two_seqs_lf.select(RESPONSE).collect()\n",
    "\n",
    "print(X.shape, y.shape)"
   ]
  },
  {
   "cell_type": "code",
   "execution_count": 17,
   "metadata": {},
   "outputs": [
    {
     "name": "stdout",
     "output_type": "stream",
     "text": [
      "(2523667, 67) (630917, 67) (2523667, 1) (630917, 1)\n"
     ]
    }
   ],
   "source": [
    "X_train, X_test, y_train, y_test = train_test_split(\n",
    "    X, y,\n",
    "    test_size=0.2,\n",
    "    random_state=42,\n",
    ")\n",
    "\n",
    "print(X_train.shape, X_test.shape, y_train.shape, y_test.shape)"
   ]
  },
  {
   "cell_type": "markdown",
   "metadata": {
    "id": "RR27hEwCQw2P"
   },
   "source": [
    "# Model Fitting Pipeline\n",
    "\n",
    "1. Normalization\n",
    "2. Feature Selection\n",
    "3. Hyper Parameter Tuning\n",
    "4. Final Pipeline Training"
   ]
  },
  {
   "cell_type": "code",
   "execution_count": null,
   "metadata": {},
   "outputs": [
    {
     "data": {
      "text/html": [
       "<style>#sk-container-id-3 {\n",
       "  /* Definition of color scheme common for light and dark mode */\n",
       "  --sklearn-color-text: black;\n",
       "  --sklearn-color-line: gray;\n",
       "  /* Definition of color scheme for unfitted estimators */\n",
       "  --sklearn-color-unfitted-level-0: #fff5e6;\n",
       "  --sklearn-color-unfitted-level-1: #f6e4d2;\n",
       "  --sklearn-color-unfitted-level-2: #ffe0b3;\n",
       "  --sklearn-color-unfitted-level-3: chocolate;\n",
       "  /* Definition of color scheme for fitted estimators */\n",
       "  --sklearn-color-fitted-level-0: #f0f8ff;\n",
       "  --sklearn-color-fitted-level-1: #d4ebff;\n",
       "  --sklearn-color-fitted-level-2: #b3dbfd;\n",
       "  --sklearn-color-fitted-level-3: cornflowerblue;\n",
       "\n",
       "  /* Specific color for light theme */\n",
       "  --sklearn-color-text-on-default-background: var(--sg-text-color, var(--theme-code-foreground, var(--jp-content-font-color1, black)));\n",
       "  --sklearn-color-background: var(--sg-background-color, var(--theme-background, var(--jp-layout-color0, white)));\n",
       "  --sklearn-color-border-box: var(--sg-text-color, var(--theme-code-foreground, var(--jp-content-font-color1, black)));\n",
       "  --sklearn-color-icon: #696969;\n",
       "\n",
       "  @media (prefers-color-scheme: dark) {\n",
       "    /* Redefinition of color scheme for dark theme */\n",
       "    --sklearn-color-text-on-default-background: var(--sg-text-color, var(--theme-code-foreground, var(--jp-content-font-color1, white)));\n",
       "    --sklearn-color-background: var(--sg-background-color, var(--theme-background, var(--jp-layout-color0, #111)));\n",
       "    --sklearn-color-border-box: var(--sg-text-color, var(--theme-code-foreground, var(--jp-content-font-color1, white)));\n",
       "    --sklearn-color-icon: #878787;\n",
       "  }\n",
       "}\n",
       "\n",
       "#sk-container-id-3 {\n",
       "  color: var(--sklearn-color-text);\n",
       "}\n",
       "\n",
       "#sk-container-id-3 pre {\n",
       "  padding: 0;\n",
       "}\n",
       "\n",
       "#sk-container-id-3 input.sk-hidden--visually {\n",
       "  border: 0;\n",
       "  clip: rect(1px 1px 1px 1px);\n",
       "  clip: rect(1px, 1px, 1px, 1px);\n",
       "  height: 1px;\n",
       "  margin: -1px;\n",
       "  overflow: hidden;\n",
       "  padding: 0;\n",
       "  position: absolute;\n",
       "  width: 1px;\n",
       "}\n",
       "\n",
       "#sk-container-id-3 div.sk-dashed-wrapped {\n",
       "  border: 1px dashed var(--sklearn-color-line);\n",
       "  margin: 0 0.4em 0.5em 0.4em;\n",
       "  box-sizing: border-box;\n",
       "  padding-bottom: 0.4em;\n",
       "  background-color: var(--sklearn-color-background);\n",
       "}\n",
       "\n",
       "#sk-container-id-3 div.sk-container {\n",
       "  /* jupyter's `normalize.less` sets `[hidden] { display: none; }`\n",
       "     but bootstrap.min.css set `[hidden] { display: none !important; }`\n",
       "     so we also need the `!important` here to be able to override the\n",
       "     default hidden behavior on the sphinx rendered scikit-learn.org.\n",
       "     See: https://github.com/scikit-learn/scikit-learn/issues/21755 */\n",
       "  display: inline-block !important;\n",
       "  position: relative;\n",
       "}\n",
       "\n",
       "#sk-container-id-3 div.sk-text-repr-fallback {\n",
       "  display: none;\n",
       "}\n",
       "\n",
       "div.sk-parallel-item,\n",
       "div.sk-serial,\n",
       "div.sk-item {\n",
       "  /* draw centered vertical line to link estimators */\n",
       "  background-image: linear-gradient(var(--sklearn-color-text-on-default-background), var(--sklearn-color-text-on-default-background));\n",
       "  background-size: 2px 100%;\n",
       "  background-repeat: no-repeat;\n",
       "  background-position: center center;\n",
       "}\n",
       "\n",
       "/* Parallel-specific style estimator block */\n",
       "\n",
       "#sk-container-id-3 div.sk-parallel-item::after {\n",
       "  content: \"\";\n",
       "  width: 100%;\n",
       "  border-bottom: 2px solid var(--sklearn-color-text-on-default-background);\n",
       "  flex-grow: 1;\n",
       "}\n",
       "\n",
       "#sk-container-id-3 div.sk-parallel {\n",
       "  display: flex;\n",
       "  align-items: stretch;\n",
       "  justify-content: center;\n",
       "  background-color: var(--sklearn-color-background);\n",
       "  position: relative;\n",
       "}\n",
       "\n",
       "#sk-container-id-3 div.sk-parallel-item {\n",
       "  display: flex;\n",
       "  flex-direction: column;\n",
       "}\n",
       "\n",
       "#sk-container-id-3 div.sk-parallel-item:first-child::after {\n",
       "  align-self: flex-end;\n",
       "  width: 50%;\n",
       "}\n",
       "\n",
       "#sk-container-id-3 div.sk-parallel-item:last-child::after {\n",
       "  align-self: flex-start;\n",
       "  width: 50%;\n",
       "}\n",
       "\n",
       "#sk-container-id-3 div.sk-parallel-item:only-child::after {\n",
       "  width: 0;\n",
       "}\n",
       "\n",
       "/* Serial-specific style estimator block */\n",
       "\n",
       "#sk-container-id-3 div.sk-serial {\n",
       "  display: flex;\n",
       "  flex-direction: column;\n",
       "  align-items: center;\n",
       "  background-color: var(--sklearn-color-background);\n",
       "  padding-right: 1em;\n",
       "  padding-left: 1em;\n",
       "}\n",
       "\n",
       "\n",
       "/* Toggleable style: style used for estimator/Pipeline/ColumnTransformer box that is\n",
       "clickable and can be expanded/collapsed.\n",
       "- Pipeline and ColumnTransformer use this feature and define the default style\n",
       "- Estimators will overwrite some part of the style using the `sk-estimator` class\n",
       "*/\n",
       "\n",
       "/* Pipeline and ColumnTransformer style (default) */\n",
       "\n",
       "#sk-container-id-3 div.sk-toggleable {\n",
       "  /* Default theme specific background. It is overwritten whether we have a\n",
       "  specific estimator or a Pipeline/ColumnTransformer */\n",
       "  background-color: var(--sklearn-color-background);\n",
       "}\n",
       "\n",
       "/* Toggleable label */\n",
       "#sk-container-id-3 label.sk-toggleable__label {\n",
       "  cursor: pointer;\n",
       "  display: block;\n",
       "  width: 100%;\n",
       "  margin-bottom: 0;\n",
       "  padding: 0.5em;\n",
       "  box-sizing: border-box;\n",
       "  text-align: center;\n",
       "}\n",
       "\n",
       "#sk-container-id-3 label.sk-toggleable__label-arrow:before {\n",
       "  /* Arrow on the left of the label */\n",
       "  content: \"▸\";\n",
       "  float: left;\n",
       "  margin-right: 0.25em;\n",
       "  color: var(--sklearn-color-icon);\n",
       "}\n",
       "\n",
       "#sk-container-id-3 label.sk-toggleable__label-arrow:hover:before {\n",
       "  color: var(--sklearn-color-text);\n",
       "}\n",
       "\n",
       "/* Toggleable content - dropdown */\n",
       "\n",
       "#sk-container-id-3 div.sk-toggleable__content {\n",
       "  max-height: 0;\n",
       "  max-width: 0;\n",
       "  overflow: hidden;\n",
       "  text-align: left;\n",
       "  /* unfitted */\n",
       "  background-color: var(--sklearn-color-unfitted-level-0);\n",
       "}\n",
       "\n",
       "#sk-container-id-3 div.sk-toggleable__content.fitted {\n",
       "  /* fitted */\n",
       "  background-color: var(--sklearn-color-fitted-level-0);\n",
       "}\n",
       "\n",
       "#sk-container-id-3 div.sk-toggleable__content pre {\n",
       "  margin: 0.2em;\n",
       "  border-radius: 0.25em;\n",
       "  color: var(--sklearn-color-text);\n",
       "  /* unfitted */\n",
       "  background-color: var(--sklearn-color-unfitted-level-0);\n",
       "}\n",
       "\n",
       "#sk-container-id-3 div.sk-toggleable__content.fitted pre {\n",
       "  /* unfitted */\n",
       "  background-color: var(--sklearn-color-fitted-level-0);\n",
       "}\n",
       "\n",
       "#sk-container-id-3 input.sk-toggleable__control:checked~div.sk-toggleable__content {\n",
       "  /* Expand drop-down */\n",
       "  max-height: 200px;\n",
       "  max-width: 100%;\n",
       "  overflow: auto;\n",
       "}\n",
       "\n",
       "#sk-container-id-3 input.sk-toggleable__control:checked~label.sk-toggleable__label-arrow:before {\n",
       "  content: \"▾\";\n",
       "}\n",
       "\n",
       "/* Pipeline/ColumnTransformer-specific style */\n",
       "\n",
       "#sk-container-id-3 div.sk-label input.sk-toggleable__control:checked~label.sk-toggleable__label {\n",
       "  color: var(--sklearn-color-text);\n",
       "  background-color: var(--sklearn-color-unfitted-level-2);\n",
       "}\n",
       "\n",
       "#sk-container-id-3 div.sk-label.fitted input.sk-toggleable__control:checked~label.sk-toggleable__label {\n",
       "  background-color: var(--sklearn-color-fitted-level-2);\n",
       "}\n",
       "\n",
       "/* Estimator-specific style */\n",
       "\n",
       "/* Colorize estimator box */\n",
       "#sk-container-id-3 div.sk-estimator input.sk-toggleable__control:checked~label.sk-toggleable__label {\n",
       "  /* unfitted */\n",
       "  background-color: var(--sklearn-color-unfitted-level-2);\n",
       "}\n",
       "\n",
       "#sk-container-id-3 div.sk-estimator.fitted input.sk-toggleable__control:checked~label.sk-toggleable__label {\n",
       "  /* fitted */\n",
       "  background-color: var(--sklearn-color-fitted-level-2);\n",
       "}\n",
       "\n",
       "#sk-container-id-3 div.sk-label label.sk-toggleable__label,\n",
       "#sk-container-id-3 div.sk-label label {\n",
       "  /* The background is the default theme color */\n",
       "  color: var(--sklearn-color-text-on-default-background);\n",
       "}\n",
       "\n",
       "/* On hover, darken the color of the background */\n",
       "#sk-container-id-3 div.sk-label:hover label.sk-toggleable__label {\n",
       "  color: var(--sklearn-color-text);\n",
       "  background-color: var(--sklearn-color-unfitted-level-2);\n",
       "}\n",
       "\n",
       "/* Label box, darken color on hover, fitted */\n",
       "#sk-container-id-3 div.sk-label.fitted:hover label.sk-toggleable__label.fitted {\n",
       "  color: var(--sklearn-color-text);\n",
       "  background-color: var(--sklearn-color-fitted-level-2);\n",
       "}\n",
       "\n",
       "/* Estimator label */\n",
       "\n",
       "#sk-container-id-3 div.sk-label label {\n",
       "  font-family: monospace;\n",
       "  font-weight: bold;\n",
       "  display: inline-block;\n",
       "  line-height: 1.2em;\n",
       "}\n",
       "\n",
       "#sk-container-id-3 div.sk-label-container {\n",
       "  text-align: center;\n",
       "}\n",
       "\n",
       "/* Estimator-specific */\n",
       "#sk-container-id-3 div.sk-estimator {\n",
       "  font-family: monospace;\n",
       "  border: 1px dotted var(--sklearn-color-border-box);\n",
       "  border-radius: 0.25em;\n",
       "  box-sizing: border-box;\n",
       "  margin-bottom: 0.5em;\n",
       "  /* unfitted */\n",
       "  background-color: var(--sklearn-color-unfitted-level-0);\n",
       "}\n",
       "\n",
       "#sk-container-id-3 div.sk-estimator.fitted {\n",
       "  /* fitted */\n",
       "  background-color: var(--sklearn-color-fitted-level-0);\n",
       "}\n",
       "\n",
       "/* on hover */\n",
       "#sk-container-id-3 div.sk-estimator:hover {\n",
       "  /* unfitted */\n",
       "  background-color: var(--sklearn-color-unfitted-level-2);\n",
       "}\n",
       "\n",
       "#sk-container-id-3 div.sk-estimator.fitted:hover {\n",
       "  /* fitted */\n",
       "  background-color: var(--sklearn-color-fitted-level-2);\n",
       "}\n",
       "\n",
       "/* Specification for estimator info (e.g. \"i\" and \"?\") */\n",
       "\n",
       "/* Common style for \"i\" and \"?\" */\n",
       "\n",
       ".sk-estimator-doc-link,\n",
       "a:link.sk-estimator-doc-link,\n",
       "a:visited.sk-estimator-doc-link {\n",
       "  float: right;\n",
       "  font-size: smaller;\n",
       "  line-height: 1em;\n",
       "  font-family: monospace;\n",
       "  background-color: var(--sklearn-color-background);\n",
       "  border-radius: 1em;\n",
       "  height: 1em;\n",
       "  width: 1em;\n",
       "  text-decoration: none !important;\n",
       "  margin-left: 1ex;\n",
       "  /* unfitted */\n",
       "  border: var(--sklearn-color-unfitted-level-1) 1pt solid;\n",
       "  color: var(--sklearn-color-unfitted-level-1);\n",
       "}\n",
       "\n",
       ".sk-estimator-doc-link.fitted,\n",
       "a:link.sk-estimator-doc-link.fitted,\n",
       "a:visited.sk-estimator-doc-link.fitted {\n",
       "  /* fitted */\n",
       "  border: var(--sklearn-color-fitted-level-1) 1pt solid;\n",
       "  color: var(--sklearn-color-fitted-level-1);\n",
       "}\n",
       "\n",
       "/* On hover */\n",
       "div.sk-estimator:hover .sk-estimator-doc-link:hover,\n",
       ".sk-estimator-doc-link:hover,\n",
       "div.sk-label-container:hover .sk-estimator-doc-link:hover,\n",
       ".sk-estimator-doc-link:hover {\n",
       "  /* unfitted */\n",
       "  background-color: var(--sklearn-color-unfitted-level-3);\n",
       "  color: var(--sklearn-color-background);\n",
       "  text-decoration: none;\n",
       "}\n",
       "\n",
       "div.sk-estimator.fitted:hover .sk-estimator-doc-link.fitted:hover,\n",
       ".sk-estimator-doc-link.fitted:hover,\n",
       "div.sk-label-container:hover .sk-estimator-doc-link.fitted:hover,\n",
       ".sk-estimator-doc-link.fitted:hover {\n",
       "  /* fitted */\n",
       "  background-color: var(--sklearn-color-fitted-level-3);\n",
       "  color: var(--sklearn-color-background);\n",
       "  text-decoration: none;\n",
       "}\n",
       "\n",
       "/* Span, style for the box shown on hovering the info icon */\n",
       ".sk-estimator-doc-link span {\n",
       "  display: none;\n",
       "  z-index: 9999;\n",
       "  position: relative;\n",
       "  font-weight: normal;\n",
       "  right: .2ex;\n",
       "  padding: .5ex;\n",
       "  margin: .5ex;\n",
       "  width: min-content;\n",
       "  min-width: 20ex;\n",
       "  max-width: 50ex;\n",
       "  color: var(--sklearn-color-text);\n",
       "  box-shadow: 2pt 2pt 4pt #999;\n",
       "  /* unfitted */\n",
       "  background: var(--sklearn-color-unfitted-level-0);\n",
       "  border: .5pt solid var(--sklearn-color-unfitted-level-3);\n",
       "}\n",
       "\n",
       ".sk-estimator-doc-link.fitted span {\n",
       "  /* fitted */\n",
       "  background: var(--sklearn-color-fitted-level-0);\n",
       "  border: var(--sklearn-color-fitted-level-3);\n",
       "}\n",
       "\n",
       ".sk-estimator-doc-link:hover span {\n",
       "  display: block;\n",
       "}\n",
       "\n",
       "/* \"?\"-specific style due to the `<a>` HTML tag */\n",
       "\n",
       "#sk-container-id-3 a.estimator_doc_link {\n",
       "  float: right;\n",
       "  font-size: 1rem;\n",
       "  line-height: 1em;\n",
       "  font-family: monospace;\n",
       "  background-color: var(--sklearn-color-background);\n",
       "  border-radius: 1rem;\n",
       "  height: 1rem;\n",
       "  width: 1rem;\n",
       "  text-decoration: none;\n",
       "  /* unfitted */\n",
       "  color: var(--sklearn-color-unfitted-level-1);\n",
       "  border: var(--sklearn-color-unfitted-level-1) 1pt solid;\n",
       "}\n",
       "\n",
       "#sk-container-id-3 a.estimator_doc_link.fitted {\n",
       "  /* fitted */\n",
       "  border: var(--sklearn-color-fitted-level-1) 1pt solid;\n",
       "  color: var(--sklearn-color-fitted-level-1);\n",
       "}\n",
       "\n",
       "/* On hover */\n",
       "#sk-container-id-3 a.estimator_doc_link:hover {\n",
       "  /* unfitted */\n",
       "  background-color: var(--sklearn-color-unfitted-level-3);\n",
       "  color: var(--sklearn-color-background);\n",
       "  text-decoration: none;\n",
       "}\n",
       "\n",
       "#sk-container-id-3 a.estimator_doc_link.fitted:hover {\n",
       "  /* fitted */\n",
       "  background-color: var(--sklearn-color-fitted-level-3);\n",
       "}\n",
       "</style><div id=\"sk-container-id-3\" class=\"sk-top-container\"><div class=\"sk-text-repr-fallback\"><pre>Pipeline(steps=[(&#x27;preprocessor&#x27;,\n",
       "                 ColumnTransformer(transformers=[(&#x27;numeric&#x27;,\n",
       "                                                  RobustScaler(copy=False),\n",
       "                                                  [&#x27;release_speed&#x27;,\n",
       "                                                   &#x27;release_pos_x&#x27;,\n",
       "                                                   &#x27;release_pos_y&#x27;,\n",
       "                                                   &#x27;release_pos_z&#x27;,\n",
       "                                                   &#x27;3d_dist_plate&#x27;,\n",
       "                                                   &#x27;3d_dist_release&#x27;,\n",
       "                                                   &#x27;3d_dist_0.120&#x27;,\n",
       "                                                   &#x27;3d_dist_0.167&#x27;, &#x27;ax&#x27;, &#x27;ay&#x27;,\n",
       "                                                   &#x27;az&#x27;, &#x27;vx0&#x27;, &#x27;vy0&#x27;, &#x27;vz0&#x27;,\n",
       "                                                   &#x27;x50&#x27;, &#x27;y50&#x27;, &#x27;z50&#x27;,\n",
       "                                                   &#x27;plate_x&#x27;, &#x27;plate_z&#x27;,\n",
       "                                                   &#x27;x_plate&#x27;, &#x27;y_plate&#x27;,\n",
       "                                                   &#x27;z_plate&#x27;, &#x27;x_0.120&#x27;,\n",
       "                                                   &#x27;y_0.120&#x27;, &#x27;z_0.120&#x27;,\n",
       "                                                   &#x27;x_0.167&#x27;, &#x27;y_0.167&#x27;,\n",
       "                                                   &#x27;z_0.167&#x27;, &#x27;zone&#x27;,\n",
       "                                                   &#x27;prev_pfx_x&#x27;, ...]),\n",
       "                                                 (&#x27;categorical&#x27;, &#x27;passthrough&#x27;,\n",
       "                                                  [&#x27;pitch_type&#x27;,\n",
       "                                                   &#x27;prev_pitch_type&#x27;])])),\n",
       "                (&#x27;model&#x27;, LGBMRegressor(n_jobs=-1, random_state=42))])</pre><b>In a Jupyter environment, please rerun this cell to show the HTML representation or trust the notebook. <br />On GitHub, the HTML representation is unable to render, please try loading this page with nbviewer.org.</b></div><div class=\"sk-container\" hidden><div class=\"sk-item sk-dashed-wrapped\"><div class=\"sk-label-container\"><div class=\"sk-label  sk-toggleable\"><input class=\"sk-toggleable__control sk-hidden--visually\" id=\"sk-estimator-id-5\" type=\"checkbox\" ><label for=\"sk-estimator-id-5\" class=\"sk-toggleable__label  sk-toggleable__label-arrow \">&nbsp;&nbsp;Pipeline<a class=\"sk-estimator-doc-link \" rel=\"noreferrer\" target=\"_blank\" href=\"https://scikit-learn.org/1.5/modules/generated/sklearn.pipeline.Pipeline.html\">?<span>Documentation for Pipeline</span></a><span class=\"sk-estimator-doc-link \">i<span>Not fitted</span></span></label><div class=\"sk-toggleable__content \"><pre>Pipeline(steps=[(&#x27;preprocessor&#x27;,\n",
       "                 ColumnTransformer(transformers=[(&#x27;numeric&#x27;,\n",
       "                                                  RobustScaler(copy=False),\n",
       "                                                  [&#x27;release_speed&#x27;,\n",
       "                                                   &#x27;release_pos_x&#x27;,\n",
       "                                                   &#x27;release_pos_y&#x27;,\n",
       "                                                   &#x27;release_pos_z&#x27;,\n",
       "                                                   &#x27;3d_dist_plate&#x27;,\n",
       "                                                   &#x27;3d_dist_release&#x27;,\n",
       "                                                   &#x27;3d_dist_0.120&#x27;,\n",
       "                                                   &#x27;3d_dist_0.167&#x27;, &#x27;ax&#x27;, &#x27;ay&#x27;,\n",
       "                                                   &#x27;az&#x27;, &#x27;vx0&#x27;, &#x27;vy0&#x27;, &#x27;vz0&#x27;,\n",
       "                                                   &#x27;x50&#x27;, &#x27;y50&#x27;, &#x27;z50&#x27;,\n",
       "                                                   &#x27;plate_x&#x27;, &#x27;plate_z&#x27;,\n",
       "                                                   &#x27;x_plate&#x27;, &#x27;y_plate&#x27;,\n",
       "                                                   &#x27;z_plate&#x27;, &#x27;x_0.120&#x27;,\n",
       "                                                   &#x27;y_0.120&#x27;, &#x27;z_0.120&#x27;,\n",
       "                                                   &#x27;x_0.167&#x27;, &#x27;y_0.167&#x27;,\n",
       "                                                   &#x27;z_0.167&#x27;, &#x27;zone&#x27;,\n",
       "                                                   &#x27;prev_pfx_x&#x27;, ...]),\n",
       "                                                 (&#x27;categorical&#x27;, &#x27;passthrough&#x27;,\n",
       "                                                  [&#x27;pitch_type&#x27;,\n",
       "                                                   &#x27;prev_pitch_type&#x27;])])),\n",
       "                (&#x27;model&#x27;, LGBMRegressor(n_jobs=-1, random_state=42))])</pre></div> </div></div><div class=\"sk-serial\"><div class=\"sk-item sk-dashed-wrapped\"><div class=\"sk-label-container\"><div class=\"sk-label  sk-toggleable\"><input class=\"sk-toggleable__control sk-hidden--visually\" id=\"sk-estimator-id-6\" type=\"checkbox\" ><label for=\"sk-estimator-id-6\" class=\"sk-toggleable__label  sk-toggleable__label-arrow \">&nbsp;preprocessor: ColumnTransformer<a class=\"sk-estimator-doc-link \" rel=\"noreferrer\" target=\"_blank\" href=\"https://scikit-learn.org/1.5/modules/generated/sklearn.compose.ColumnTransformer.html\">?<span>Documentation for preprocessor: ColumnTransformer</span></a></label><div class=\"sk-toggleable__content \"><pre>ColumnTransformer(transformers=[(&#x27;numeric&#x27;, RobustScaler(copy=False),\n",
       "                                 [&#x27;release_speed&#x27;, &#x27;release_pos_x&#x27;,\n",
       "                                  &#x27;release_pos_y&#x27;, &#x27;release_pos_z&#x27;,\n",
       "                                  &#x27;3d_dist_plate&#x27;, &#x27;3d_dist_release&#x27;,\n",
       "                                  &#x27;3d_dist_0.120&#x27;, &#x27;3d_dist_0.167&#x27;, &#x27;ax&#x27;, &#x27;ay&#x27;,\n",
       "                                  &#x27;az&#x27;, &#x27;vx0&#x27;, &#x27;vy0&#x27;, &#x27;vz0&#x27;, &#x27;x50&#x27;, &#x27;y50&#x27;,\n",
       "                                  &#x27;z50&#x27;, &#x27;plate_x&#x27;, &#x27;plate_z&#x27;, &#x27;x_plate&#x27;,\n",
       "                                  &#x27;y_plate&#x27;, &#x27;z_plate&#x27;, &#x27;x_0.120&#x27;, &#x27;y_0.120&#x27;,\n",
       "                                  &#x27;z_0.120&#x27;, &#x27;x_0.167&#x27;, &#x27;y_0.167&#x27;, &#x27;z_0.167&#x27;,\n",
       "                                  &#x27;zone&#x27;, &#x27;prev_pfx_x&#x27;, ...]),\n",
       "                                (&#x27;categorical&#x27;, &#x27;passthrough&#x27;,\n",
       "                                 [&#x27;pitch_type&#x27;, &#x27;prev_pitch_type&#x27;])])</pre></div> </div></div><div class=\"sk-parallel\"><div class=\"sk-parallel-item\"><div class=\"sk-item\"><div class=\"sk-label-container\"><div class=\"sk-label  sk-toggleable\"><input class=\"sk-toggleable__control sk-hidden--visually\" id=\"sk-estimator-id-7\" type=\"checkbox\" ><label for=\"sk-estimator-id-7\" class=\"sk-toggleable__label  sk-toggleable__label-arrow \">numeric</label><div class=\"sk-toggleable__content \"><pre>[&#x27;release_speed&#x27;, &#x27;release_pos_x&#x27;, &#x27;release_pos_y&#x27;, &#x27;release_pos_z&#x27;, &#x27;3d_dist_plate&#x27;, &#x27;3d_dist_release&#x27;, &#x27;3d_dist_0.120&#x27;, &#x27;3d_dist_0.167&#x27;, &#x27;ax&#x27;, &#x27;ay&#x27;, &#x27;az&#x27;, &#x27;vx0&#x27;, &#x27;vy0&#x27;, &#x27;vz0&#x27;, &#x27;x50&#x27;, &#x27;y50&#x27;, &#x27;z50&#x27;, &#x27;plate_x&#x27;, &#x27;plate_z&#x27;, &#x27;x_plate&#x27;, &#x27;y_plate&#x27;, &#x27;z_plate&#x27;, &#x27;x_0.120&#x27;, &#x27;y_0.120&#x27;, &#x27;z_0.120&#x27;, &#x27;x_0.167&#x27;, &#x27;y_0.167&#x27;, &#x27;z_0.167&#x27;, &#x27;zone&#x27;, &#x27;prev_pfx_x&#x27;, &#x27;prev_pfx_z&#x27;, &#x27;prev_x_0.120&#x27;, &#x27;prev_y_0.120&#x27;, &#x27;prev_z_0.120&#x27;, &#x27;prev_x_0.167&#x27;, &#x27;prev_y_0.167&#x27;, &#x27;prev_z_0.167&#x27;, &#x27;prev_release_pos_x&#x27;, &#x27;prev_release_pos_y&#x27;, &#x27;prev_release_pos_z&#x27;, &#x27;prev_release_speed&#x27;, &#x27;prev_effective_speed&#x27;, &#x27;prev_release_spin_rate&#x27;, &#x27;prev_x_plate&#x27;, &#x27;prev_y_plate&#x27;, &#x27;prev_z_plate&#x27;, &#x27;prev_zone&#x27;, &#x27;release_spin_rate_diff&#x27;, &#x27;release_pos_y_diff&#x27;, &#x27;release_pos_z_diff&#x27;, &#x27;release_speed_diff&#x27;, &#x27;z_0.120_diff&#x27;, &#x27;x_0.120_diff&#x27;, &#x27;y_0.167_diff&#x27;, &#x27;x_plate_diff&#x27;, &#x27;pfx_z_diff&#x27;, &#x27;effective_speed_diff&#x27;, &#x27;z_plate_diff&#x27;, &#x27;zone_diff&#x27;, &#x27;x_0.167_diff&#x27;, &#x27;y_plate_diff&#x27;, &#x27;pfx_x_diff&#x27;, &#x27;release_pos_x_diff&#x27;, &#x27;y_0.120_diff&#x27;, &#x27;z_0.167_diff&#x27;]</pre></div> </div></div><div class=\"sk-serial\"><div class=\"sk-item\"><div class=\"sk-estimator  sk-toggleable\"><input class=\"sk-toggleable__control sk-hidden--visually\" id=\"sk-estimator-id-8\" type=\"checkbox\" ><label for=\"sk-estimator-id-8\" class=\"sk-toggleable__label  sk-toggleable__label-arrow \">&nbsp;RobustScaler<a class=\"sk-estimator-doc-link \" rel=\"noreferrer\" target=\"_blank\" href=\"https://scikit-learn.org/1.5/modules/generated/sklearn.preprocessing.RobustScaler.html\">?<span>Documentation for RobustScaler</span></a></label><div class=\"sk-toggleable__content \"><pre>RobustScaler(copy=False)</pre></div> </div></div></div></div></div><div class=\"sk-parallel-item\"><div class=\"sk-item\"><div class=\"sk-label-container\"><div class=\"sk-label  sk-toggleable\"><input class=\"sk-toggleable__control sk-hidden--visually\" id=\"sk-estimator-id-9\" type=\"checkbox\" ><label for=\"sk-estimator-id-9\" class=\"sk-toggleable__label  sk-toggleable__label-arrow \">categorical</label><div class=\"sk-toggleable__content \"><pre>[&#x27;pitch_type&#x27;, &#x27;prev_pitch_type&#x27;]</pre></div> </div></div><div class=\"sk-serial\"><div class=\"sk-item\"><div class=\"sk-estimator  sk-toggleable\"><input class=\"sk-toggleable__control sk-hidden--visually\" id=\"sk-estimator-id-10\" type=\"checkbox\" ><label for=\"sk-estimator-id-10\" class=\"sk-toggleable__label  sk-toggleable__label-arrow \">passthrough</label><div class=\"sk-toggleable__content \"><pre>passthrough</pre></div> </div></div></div></div></div></div></div><div class=\"sk-item\"><div class=\"sk-estimator  sk-toggleable\"><input class=\"sk-toggleable__control sk-hidden--visually\" id=\"sk-estimator-id-11\" type=\"checkbox\" ><label for=\"sk-estimator-id-11\" class=\"sk-toggleable__label  sk-toggleable__label-arrow \">LGBMRegressor</label><div class=\"sk-toggleable__content \"><pre>LGBMRegressor(n_jobs=-1, random_state=42)</pre></div> </div></div></div></div></div></div>"
      ],
      "text/plain": [
       "Pipeline(steps=[('preprocessor',\n",
       "                 ColumnTransformer(transformers=[('numeric',\n",
       "                                                  RobustScaler(copy=False),\n",
       "                                                  ['release_speed',\n",
       "                                                   'release_pos_x',\n",
       "                                                   'release_pos_y',\n",
       "                                                   'release_pos_z',\n",
       "                                                   '3d_dist_plate',\n",
       "                                                   '3d_dist_release',\n",
       "                                                   '3d_dist_0.120',\n",
       "                                                   '3d_dist_0.167', 'ax', 'ay',\n",
       "                                                   'az', 'vx0', 'vy0', 'vz0',\n",
       "                                                   'x50', 'y50', 'z50',\n",
       "                                                   'plate_x', 'plate_z',\n",
       "                                                   'x_plate', 'y_plate',\n",
       "                                                   'z_plate', 'x_0.120',\n",
       "                                                   'y_0.120', 'z_0.120',\n",
       "                                                   'x_0.167', 'y_0.167',\n",
       "                                                   'z_0.167', 'zone',\n",
       "                                                   'prev_pfx_x', ...]),\n",
       "                                                 ('categorical', 'passthrough',\n",
       "                                                  ['pitch_type',\n",
       "                                                   'prev_pitch_type'])])),\n",
       "                ('model', LGBMRegressor(n_jobs=-1, random_state=42))])"
      ]
     },
     "execution_count": 24,
     "metadata": {},
     "output_type": "execute_result"
    }
   ],
   "source": [
    "num_cols = X.select(cs.numeric()).columns\n",
    "cat_cols = X.select(pl.exclude(num_cols)).columns\n",
    "\n",
    "preprocessor = ColumnTransformer(\n",
    "    transformers=[\n",
    "        (\"numeric\", RobustScaler(copy=False), num_cols),\n",
    "        (\"categorical\", \"passthrough\", cat_cols),\n",
    "    ]\n",
    ")\n",
    "\n",
    "estimator = LGBMRegressor(\n",
    "    n_jobs=-1,\n",
    "    random_state=42,\n",
    ")\n",
    "\n",
    "pipeline = Pipeline([\n",
    "    (\"preprocessor\", preprocessor),\n",
    "    (\"model\", estimator)\n",
    "])\n",
    "\n",
    "pipeline"
   ]
  },
  {
   "cell_type": "markdown",
   "metadata": {},
   "source": [
    "### Recursive Feature Selection"
   ]
  },
  {
   "cell_type": "code",
   "execution_count": 25,
   "metadata": {},
   "outputs": [
    {
     "ename": "ValueError",
     "evalue": "could not convert string to float: 'CH'",
     "output_type": "error",
     "traceback": [
      "\u001b[0;31m---------------------------------------------------------------------------\u001b[0m",
      "\u001b[0;31m_RemoteTraceback\u001b[0m                          Traceback (most recent call last)",
      "\u001b[0;31m_RemoteTraceback\u001b[0m: \n\"\"\"\nTraceback (most recent call last):\n  File \"/Users/jensen/Documents/projects/Sequence-Plus/venv/lib/python3.9/site-packages/joblib/externals/loky/process_executor.py\", line 463, in _process_worker\n    r = call_item()\n  File \"/Users/jensen/Documents/projects/Sequence-Plus/venv/lib/python3.9/site-packages/joblib/externals/loky/process_executor.py\", line 291, in __call__\n    return self.fn(*self.args, **self.kwargs)\n  File \"/Users/jensen/Documents/projects/Sequence-Plus/venv/lib/python3.9/site-packages/joblib/parallel.py\", line 598, in __call__\n    return [func(*args, **kwargs)\n  File \"/Users/jensen/Documents/projects/Sequence-Plus/venv/lib/python3.9/site-packages/joblib/parallel.py\", line 598, in <listcomp>\n    return [func(*args, **kwargs)\n  File \"/Users/jensen/Documents/projects/Sequence-Plus/venv/lib/python3.9/site-packages/sklearn/utils/parallel.py\", line 136, in __call__\n    return self.function(*args, **kwargs)\n  File \"/Users/jensen/Documents/projects/Sequence-Plus/venv/lib/python3.9/site-packages/sklearn/feature_selection/_rfe.py\", line 37, in _rfe_single_fit\n    rfe._fit(\n  File \"/Users/jensen/Documents/projects/Sequence-Plus/venv/lib/python3.9/site-packages/sklearn/feature_selection/_rfe.py\", line 275, in _fit\n    X, y = self._validate_data(\n  File \"/Users/jensen/Documents/projects/Sequence-Plus/venv/lib/python3.9/site-packages/sklearn/base.py\", line 650, in _validate_data\n    X, y = check_X_y(X, y, **check_params)\n  File \"/Users/jensen/Documents/projects/Sequence-Plus/venv/lib/python3.9/site-packages/sklearn/utils/validation.py\", line 1301, in check_X_y\n    X = check_array(\n  File \"/Users/jensen/Documents/projects/Sequence-Plus/venv/lib/python3.9/site-packages/sklearn/utils/validation.py\", line 1012, in check_array\n    array = _asarray_with_order(array, order=order, dtype=dtype, xp=xp)\n  File \"/Users/jensen/Documents/projects/Sequence-Plus/venv/lib/python3.9/site-packages/sklearn/utils/_array_api.py\", line 745, in _asarray_with_order\n    array = numpy.asarray(array, order=order, dtype=dtype)\nValueError: could not convert string to float: 'CH'\n\"\"\"",
      "\nThe above exception was the direct cause of the following exception:\n",
      "\u001b[0;31mValueError\u001b[0m                                Traceback (most recent call last)",
      "Cell \u001b[0;32mIn[25], line 8\u001b[0m\n\u001b[1;32m      1\u001b[0m rfecv \u001b[38;5;241m=\u001b[39m RFECV(\n\u001b[1;32m      2\u001b[0m     estimator\u001b[38;5;241m=\u001b[39mpipeline,\n\u001b[1;32m      3\u001b[0m     step\u001b[38;5;241m=\u001b[39m\u001b[38;5;241m1\u001b[39m,\n\u001b[1;32m      4\u001b[0m     scoring\u001b[38;5;241m=\u001b[39m\u001b[38;5;124m\"\u001b[39m\u001b[38;5;124mr2\u001b[39m\u001b[38;5;124m\"\u001b[39m,\n\u001b[1;32m      5\u001b[0m     n_jobs\u001b[38;5;241m=\u001b[39m\u001b[38;5;241m-\u001b[39m\u001b[38;5;241m1\u001b[39m,\n\u001b[1;32m      6\u001b[0m )\n\u001b[0;32m----> 8\u001b[0m \u001b[43mrfecv\u001b[49m\u001b[38;5;241;43m.\u001b[39;49m\u001b[43mfit\u001b[49m\u001b[43m(\u001b[49m\u001b[43mX_train\u001b[49m\u001b[43m,\u001b[49m\u001b[43m \u001b[49m\u001b[43my_train\u001b[49m\u001b[43m)\u001b[49m\n",
      "File \u001b[0;32m~/Documents/projects/Sequence-Plus/venv/lib/python3.9/site-packages/sklearn/base.py:1473\u001b[0m, in \u001b[0;36m_fit_context.<locals>.decorator.<locals>.wrapper\u001b[0;34m(estimator, *args, **kwargs)\u001b[0m\n\u001b[1;32m   1466\u001b[0m     estimator\u001b[38;5;241m.\u001b[39m_validate_params()\n\u001b[1;32m   1468\u001b[0m \u001b[38;5;28;01mwith\u001b[39;00m config_context(\n\u001b[1;32m   1469\u001b[0m     skip_parameter_validation\u001b[38;5;241m=\u001b[39m(\n\u001b[1;32m   1470\u001b[0m         prefer_skip_nested_validation \u001b[38;5;129;01mor\u001b[39;00m global_skip_validation\n\u001b[1;32m   1471\u001b[0m     )\n\u001b[1;32m   1472\u001b[0m ):\n\u001b[0;32m-> 1473\u001b[0m     \u001b[38;5;28;01mreturn\u001b[39;00m \u001b[43mfit_method\u001b[49m\u001b[43m(\u001b[49m\u001b[43mestimator\u001b[49m\u001b[43m,\u001b[49m\u001b[43m \u001b[49m\u001b[38;5;241;43m*\u001b[39;49m\u001b[43margs\u001b[49m\u001b[43m,\u001b[49m\u001b[43m \u001b[49m\u001b[38;5;241;43m*\u001b[39;49m\u001b[38;5;241;43m*\u001b[39;49m\u001b[43mkwargs\u001b[49m\u001b[43m)\u001b[49m\n",
      "File \u001b[0;32m~/Documents/projects/Sequence-Plus/venv/lib/python3.9/site-packages/sklearn/feature_selection/_rfe.py:777\u001b[0m, in \u001b[0;36mRFECV.fit\u001b[0;34m(self, X, y, groups)\u001b[0m\n\u001b[1;32m    774\u001b[0m     parallel \u001b[38;5;241m=\u001b[39m Parallel(n_jobs\u001b[38;5;241m=\u001b[39m\u001b[38;5;28mself\u001b[39m\u001b[38;5;241m.\u001b[39mn_jobs)\n\u001b[1;32m    775\u001b[0m     func \u001b[38;5;241m=\u001b[39m delayed(_rfe_single_fit)\n\u001b[0;32m--> 777\u001b[0m scores_features \u001b[38;5;241m=\u001b[39m \u001b[43mparallel\u001b[49m\u001b[43m(\u001b[49m\n\u001b[1;32m    778\u001b[0m \u001b[43m    \u001b[49m\u001b[43mfunc\u001b[49m\u001b[43m(\u001b[49m\u001b[43mrfe\u001b[49m\u001b[43m,\u001b[49m\u001b[43m \u001b[49m\u001b[38;5;28;43mself\u001b[39;49m\u001b[38;5;241;43m.\u001b[39;49m\u001b[43mestimator\u001b[49m\u001b[43m,\u001b[49m\u001b[43m \u001b[49m\u001b[43mX\u001b[49m\u001b[43m,\u001b[49m\u001b[43m \u001b[49m\u001b[43my\u001b[49m\u001b[43m,\u001b[49m\u001b[43m \u001b[49m\u001b[43mtrain\u001b[49m\u001b[43m,\u001b[49m\u001b[43m \u001b[49m\u001b[43mtest\u001b[49m\u001b[43m,\u001b[49m\u001b[43m \u001b[49m\u001b[43mscorer\u001b[49m\u001b[43m)\u001b[49m\n\u001b[1;32m    779\u001b[0m \u001b[43m    \u001b[49m\u001b[38;5;28;43;01mfor\u001b[39;49;00m\u001b[43m \u001b[49m\u001b[43mtrain\u001b[49m\u001b[43m,\u001b[49m\u001b[43m \u001b[49m\u001b[43mtest\u001b[49m\u001b[43m \u001b[49m\u001b[38;5;129;43;01min\u001b[39;49;00m\u001b[43m \u001b[49m\u001b[43mcv\u001b[49m\u001b[38;5;241;43m.\u001b[39;49m\u001b[43msplit\u001b[49m\u001b[43m(\u001b[49m\u001b[43mX\u001b[49m\u001b[43m,\u001b[49m\u001b[43m \u001b[49m\u001b[43my\u001b[49m\u001b[43m,\u001b[49m\u001b[43m \u001b[49m\u001b[43mgroups\u001b[49m\u001b[43m)\u001b[49m\n\u001b[1;32m    780\u001b[0m \u001b[43m\u001b[49m\u001b[43m)\u001b[49m\n\u001b[1;32m    781\u001b[0m scores, step_n_features \u001b[38;5;241m=\u001b[39m \u001b[38;5;28mzip\u001b[39m(\u001b[38;5;241m*\u001b[39mscores_features)\n\u001b[1;32m    783\u001b[0m step_n_features_rev \u001b[38;5;241m=\u001b[39m np\u001b[38;5;241m.\u001b[39marray(step_n_features[\u001b[38;5;241m0\u001b[39m])[::\u001b[38;5;241m-\u001b[39m\u001b[38;5;241m1\u001b[39m]\n",
      "File \u001b[0;32m~/Documents/projects/Sequence-Plus/venv/lib/python3.9/site-packages/sklearn/utils/parallel.py:74\u001b[0m, in \u001b[0;36mParallel.__call__\u001b[0;34m(self, iterable)\u001b[0m\n\u001b[1;32m     69\u001b[0m config \u001b[38;5;241m=\u001b[39m get_config()\n\u001b[1;32m     70\u001b[0m iterable_with_config \u001b[38;5;241m=\u001b[39m (\n\u001b[1;32m     71\u001b[0m     (_with_config(delayed_func, config), args, kwargs)\n\u001b[1;32m     72\u001b[0m     \u001b[38;5;28;01mfor\u001b[39;00m delayed_func, args, kwargs \u001b[38;5;129;01min\u001b[39;00m iterable\n\u001b[1;32m     73\u001b[0m )\n\u001b[0;32m---> 74\u001b[0m \u001b[38;5;28;01mreturn\u001b[39;00m \u001b[38;5;28;43msuper\u001b[39;49m\u001b[43m(\u001b[49m\u001b[43m)\u001b[49m\u001b[38;5;241;43m.\u001b[39;49m\u001b[38;5;21;43m__call__\u001b[39;49m\u001b[43m(\u001b[49m\u001b[43miterable_with_config\u001b[49m\u001b[43m)\u001b[49m\n",
      "File \u001b[0;32m~/Documents/projects/Sequence-Plus/venv/lib/python3.9/site-packages/joblib/parallel.py:2007\u001b[0m, in \u001b[0;36mParallel.__call__\u001b[0;34m(self, iterable)\u001b[0m\n\u001b[1;32m   2001\u001b[0m \u001b[38;5;66;03m# The first item from the output is blank, but it makes the interpreter\u001b[39;00m\n\u001b[1;32m   2002\u001b[0m \u001b[38;5;66;03m# progress until it enters the Try/Except block of the generator and\u001b[39;00m\n\u001b[1;32m   2003\u001b[0m \u001b[38;5;66;03m# reaches the first `yield` statement. This starts the asynchronous\u001b[39;00m\n\u001b[1;32m   2004\u001b[0m \u001b[38;5;66;03m# dispatch of the tasks to the workers.\u001b[39;00m\n\u001b[1;32m   2005\u001b[0m \u001b[38;5;28mnext\u001b[39m(output)\n\u001b[0;32m-> 2007\u001b[0m \u001b[38;5;28;01mreturn\u001b[39;00m output \u001b[38;5;28;01mif\u001b[39;00m \u001b[38;5;28mself\u001b[39m\u001b[38;5;241m.\u001b[39mreturn_generator \u001b[38;5;28;01melse\u001b[39;00m \u001b[38;5;28;43mlist\u001b[39;49m\u001b[43m(\u001b[49m\u001b[43moutput\u001b[49m\u001b[43m)\u001b[49m\n",
      "File \u001b[0;32m~/Documents/projects/Sequence-Plus/venv/lib/python3.9/site-packages/joblib/parallel.py:1650\u001b[0m, in \u001b[0;36mParallel._get_outputs\u001b[0;34m(self, iterator, pre_dispatch)\u001b[0m\n\u001b[1;32m   1647\u001b[0m     \u001b[38;5;28;01myield\u001b[39;00m\n\u001b[1;32m   1649\u001b[0m     \u001b[38;5;28;01mwith\u001b[39;00m \u001b[38;5;28mself\u001b[39m\u001b[38;5;241m.\u001b[39m_backend\u001b[38;5;241m.\u001b[39mretrieval_context():\n\u001b[0;32m-> 1650\u001b[0m         \u001b[38;5;28;01myield from\u001b[39;00m \u001b[38;5;28mself\u001b[39m\u001b[38;5;241m.\u001b[39m_retrieve()\n\u001b[1;32m   1652\u001b[0m \u001b[38;5;28;01mexcept\u001b[39;00m \u001b[38;5;167;01mGeneratorExit\u001b[39;00m:\n\u001b[1;32m   1653\u001b[0m     \u001b[38;5;66;03m# The generator has been garbage collected before being fully\u001b[39;00m\n\u001b[1;32m   1654\u001b[0m     \u001b[38;5;66;03m# consumed. This aborts the remaining tasks if possible and warn\u001b[39;00m\n\u001b[1;32m   1655\u001b[0m     \u001b[38;5;66;03m# the user if necessary.\u001b[39;00m\n\u001b[1;32m   1656\u001b[0m     \u001b[38;5;28mself\u001b[39m\u001b[38;5;241m.\u001b[39m_exception \u001b[38;5;241m=\u001b[39m \u001b[38;5;28;01mTrue\u001b[39;00m\n",
      "File \u001b[0;32m~/Documents/projects/Sequence-Plus/venv/lib/python3.9/site-packages/joblib/parallel.py:1754\u001b[0m, in \u001b[0;36mParallel._retrieve\u001b[0;34m(self)\u001b[0m\n\u001b[1;32m   1747\u001b[0m \u001b[38;5;28;01mwhile\u001b[39;00m \u001b[38;5;28mself\u001b[39m\u001b[38;5;241m.\u001b[39m_wait_retrieval():\n\u001b[1;32m   1748\u001b[0m \n\u001b[1;32m   1749\u001b[0m     \u001b[38;5;66;03m# If the callback thread of a worker has signaled that its task\u001b[39;00m\n\u001b[1;32m   1750\u001b[0m     \u001b[38;5;66;03m# triggered an exception, or if the retrieval loop has raised an\u001b[39;00m\n\u001b[1;32m   1751\u001b[0m     \u001b[38;5;66;03m# exception (e.g. `GeneratorExit`), exit the loop and surface the\u001b[39;00m\n\u001b[1;32m   1752\u001b[0m     \u001b[38;5;66;03m# worker traceback.\u001b[39;00m\n\u001b[1;32m   1753\u001b[0m     \u001b[38;5;28;01mif\u001b[39;00m \u001b[38;5;28mself\u001b[39m\u001b[38;5;241m.\u001b[39m_aborting:\n\u001b[0;32m-> 1754\u001b[0m         \u001b[38;5;28;43mself\u001b[39;49m\u001b[38;5;241;43m.\u001b[39;49m\u001b[43m_raise_error_fast\u001b[49m\u001b[43m(\u001b[49m\u001b[43m)\u001b[49m\n\u001b[1;32m   1755\u001b[0m         \u001b[38;5;28;01mbreak\u001b[39;00m\n\u001b[1;32m   1757\u001b[0m     \u001b[38;5;66;03m# If the next job is not ready for retrieval yet, we just wait for\u001b[39;00m\n\u001b[1;32m   1758\u001b[0m     \u001b[38;5;66;03m# async callbacks to progress.\u001b[39;00m\n",
      "File \u001b[0;32m~/Documents/projects/Sequence-Plus/venv/lib/python3.9/site-packages/joblib/parallel.py:1789\u001b[0m, in \u001b[0;36mParallel._raise_error_fast\u001b[0;34m(self)\u001b[0m\n\u001b[1;32m   1785\u001b[0m \u001b[38;5;66;03m# If this error job exists, immediately raise the error by\u001b[39;00m\n\u001b[1;32m   1786\u001b[0m \u001b[38;5;66;03m# calling get_result. This job might not exists if abort has been\u001b[39;00m\n\u001b[1;32m   1787\u001b[0m \u001b[38;5;66;03m# called directly or if the generator is gc'ed.\u001b[39;00m\n\u001b[1;32m   1788\u001b[0m \u001b[38;5;28;01mif\u001b[39;00m error_job \u001b[38;5;129;01mis\u001b[39;00m \u001b[38;5;129;01mnot\u001b[39;00m \u001b[38;5;28;01mNone\u001b[39;00m:\n\u001b[0;32m-> 1789\u001b[0m     \u001b[43merror_job\u001b[49m\u001b[38;5;241;43m.\u001b[39;49m\u001b[43mget_result\u001b[49m\u001b[43m(\u001b[49m\u001b[38;5;28;43mself\u001b[39;49m\u001b[38;5;241;43m.\u001b[39;49m\u001b[43mtimeout\u001b[49m\u001b[43m)\u001b[49m\n",
      "File \u001b[0;32m~/Documents/projects/Sequence-Plus/venv/lib/python3.9/site-packages/joblib/parallel.py:745\u001b[0m, in \u001b[0;36mBatchCompletionCallBack.get_result\u001b[0;34m(self, timeout)\u001b[0m\n\u001b[1;32m    739\u001b[0m backend \u001b[38;5;241m=\u001b[39m \u001b[38;5;28mself\u001b[39m\u001b[38;5;241m.\u001b[39mparallel\u001b[38;5;241m.\u001b[39m_backend\n\u001b[1;32m    741\u001b[0m \u001b[38;5;28;01mif\u001b[39;00m backend\u001b[38;5;241m.\u001b[39msupports_retrieve_callback:\n\u001b[1;32m    742\u001b[0m     \u001b[38;5;66;03m# We assume that the result has already been retrieved by the\u001b[39;00m\n\u001b[1;32m    743\u001b[0m     \u001b[38;5;66;03m# callback thread, and is stored internally. It's just waiting to\u001b[39;00m\n\u001b[1;32m    744\u001b[0m     \u001b[38;5;66;03m# be returned.\u001b[39;00m\n\u001b[0;32m--> 745\u001b[0m     \u001b[38;5;28;01mreturn\u001b[39;00m \u001b[38;5;28;43mself\u001b[39;49m\u001b[38;5;241;43m.\u001b[39;49m\u001b[43m_return_or_raise\u001b[49m\u001b[43m(\u001b[49m\u001b[43m)\u001b[49m\n\u001b[1;32m    747\u001b[0m \u001b[38;5;66;03m# For other backends, the main thread needs to run the retrieval step.\u001b[39;00m\n\u001b[1;32m    748\u001b[0m \u001b[38;5;28;01mtry\u001b[39;00m:\n",
      "File \u001b[0;32m~/Documents/projects/Sequence-Plus/venv/lib/python3.9/site-packages/joblib/parallel.py:763\u001b[0m, in \u001b[0;36mBatchCompletionCallBack._return_or_raise\u001b[0;34m(self)\u001b[0m\n\u001b[1;32m    761\u001b[0m \u001b[38;5;28;01mtry\u001b[39;00m:\n\u001b[1;32m    762\u001b[0m     \u001b[38;5;28;01mif\u001b[39;00m \u001b[38;5;28mself\u001b[39m\u001b[38;5;241m.\u001b[39mstatus \u001b[38;5;241m==\u001b[39m TASK_ERROR:\n\u001b[0;32m--> 763\u001b[0m         \u001b[38;5;28;01mraise\u001b[39;00m \u001b[38;5;28mself\u001b[39m\u001b[38;5;241m.\u001b[39m_result\n\u001b[1;32m    764\u001b[0m     \u001b[38;5;28;01mreturn\u001b[39;00m \u001b[38;5;28mself\u001b[39m\u001b[38;5;241m.\u001b[39m_result\n\u001b[1;32m    765\u001b[0m \u001b[38;5;28;01mfinally\u001b[39;00m:\n",
      "\u001b[0;31mValueError\u001b[0m: could not convert string to float: 'CH'"
     ]
    }
   ],
   "source": [
    "rfecv = RFECV(\n",
    "    estimator=pipeline,\n",
    "    step=1,\n",
    "    scoring=\"r2\",\n",
    "    n_jobs=-1,\n",
    ")\n",
    "\n",
    "rfecv.fit(X_train, y_train)"
   ]
  },
  {
   "cell_type": "code",
   "execution_count": null,
   "metadata": {},
   "outputs": [],
   "source": [
    "rfecv_plot = (\n",
    "    ggplot(\n",
    "        pl.from_dict({\n",
    "            \"N Features\": range(1, len(rfecv.cv_results_[\"mean_test_score\"]) + 1),\n",
    "            \"MAE\": (-rfecv.cv_results_[\"mean_test_score\"]).tolist(),\n",
    "        }),\n",
    "        aes(x=\"N Features\", y=\"MAE\", color=\"MAE\"),\n",
    "    )\n",
    "    + geom_line()\n",
    "    + geom_vline(xintercept=rfecv.n_features_,\n",
    "                 color=\"red\",\n",
    "                 linetype=\"dashed\")\n",
    "    + theme_classic()\n",
    "    + scale_x_continuous(breaks=range(1, len(rfecv.cv_results_[\"mean_test_score\"]) + 1, 4))\n",
    "    + guides(color=\"none\")\n",
    "    + labs(title=\"LGBM Recursive Feature Selection\")\n",
    ")\n",
    "\n",
    "rfecv_plot.show()"
   ]
  },
  {
   "cell_type": "code",
   "execution_count": null,
   "metadata": {},
   "outputs": [],
   "source": [
    "selected_feature_mask = np.where(rfecv.support_)[0]\n",
    "SELECTED_FEATURES = [X.columns[i] for i in selected_feature_mask[:9]]\n",
    "feature_importances = rfecv.estimator_.feature_importances_[:9]\n",
    "\n",
    "feature_importance_plot = (\n",
    "    ggplot(\n",
    "        pl.from_dict({\n",
    "            \"Feature\": SELECTED_FEATURES,\n",
    "            \"RFECV Importance\": feature_importances,\n",
    "        }),\n",
    "        aes(x=\"Feature\", y=\"RFECV Importance\"),\n",
    "    )\n",
    "    + geom_col(stat=\"identity\", fill=\"lightblue\")\n",
    "    + theme(axis_text_x=element_text(rotation=50, hjust=1))\n",
    "    + scale_y_continuous(breaks=range(0, max(feature_importances) + 10, 10))\n",
    "    + labs(title=\"Feature Importance\", x=\"\", y=\"\")\n",
    ")\n",
    "\n",
    "feature_importance_plot.show()"
   ]
  },
  {
   "cell_type": "markdown",
   "metadata": {},
   "source": [
    "### EDA\n",
    "\n",
    "Visualizing the selected features"
   ]
  },
  {
   "cell_type": "code",
   "execution_count": null,
   "metadata": {
    "id": "C3bQLjSaQw2P"
   },
   "outputs": [],
   "source": [
    "sample_pitches_df = (two_seqs_df\n",
    "                     .select(*SELECTED_FEATURES, RESPONSE)\n",
    "                     .sample(10_000))\n",
    "\n",
    "sample_pitches_df.sample(5, seed=42)"
   ]
  },
  {
   "cell_type": "markdown",
   "metadata": {
    "id": "P6HufExgQw2P"
   },
   "source": [
    "### Relationship Matrix\n",
    "\n",
    "Each plot shows the relationship between a feature, and `seq_delta_run_exp`"
   ]
  },
  {
   "cell_type": "code",
   "execution_count": null,
   "metadata": {
    "colab": {
     "base_uri": "https://localhost:8080/",
     "height": 497
    },
    "id": "Hz_ryanUQw2P",
    "outputId": "cd2ee581-f715-406d-a69a-a4a358e0542b"
   },
   "outputs": [],
   "source": [
    "rel_matrix = (\n",
    "    ggplot(sample_pitches_df.unpivot(index=RESPONSE, on=SELECTED_FEATURES),\n",
    "           aes(x=\"value\", y=\"seq_delta_run_exp\", color=\"seq_delta_run_exp\"))\n",
    "    + geom_point(alpha=0.5)\n",
    "    + geom_smooth(color=\"red\")\n",
    "    + facet_wrap(\"~ variable\", scales=\"free_x\")\n",
    "    + labs(\n",
    "        title=\"Selected Feature Relationship w/ seq_delta_run_exp\",\n",
    "        x=\"\",\n",
    "    )\n",
    ")\n",
    "\n",
    "rel_matrix.show()"
   ]
  },
  {
   "cell_type": "markdown",
   "metadata": {
    "id": "9YZceXvZQw2P"
   },
   "source": [
    "### Correlation Matrix\n",
    "\n",
    "Each chunk represents the pearson correlation coefficient between two features"
   ]
  },
  {
   "cell_type": "code",
   "execution_count": null,
   "metadata": {
    "colab": {
     "base_uri": "https://localhost:8080/",
     "height": 497
    },
    "id": "Dk_qYghGQw2Q",
    "outputId": "998767ed-78c5-4244-9f12-181e79540f73"
   },
   "outputs": [],
   "source": [
    "sample_corr_df = sample_pitches_df.corr()\n",
    "\n",
    "corr_matrix = (\n",
    "    ggplot(\n",
    "        sample_corr_df\n",
    "        .with_columns(pl.Series(\"variable_1\", sample_corr_df.columns))\n",
    "        .unpivot(\n",
    "            index=\"variable_1\",\n",
    "            variable_name=\"variable_2\",\n",
    "            on=sample_corr_df.columns,\n",
    "            value_name=\"correlation\",\n",
    "        )\n",
    "        .filter(pl.col(\"variable_1\") > pl.col(\"variable_2\")),\n",
    "        aes(x=\"variable_1\", y=\"variable_2\", fill=\"correlation\"),\n",
    "    )\n",
    "    + geom_tile(size=3)\n",
    "    + theme_classic()\n",
    "    + theme(axis_text_x=element_text(rotation=50, hjust=1))\n",
    "    + labs(\n",
    "        title=\"Correlation Matrix\",\n",
    "        x=\"\",\n",
    "        y=\"\",\n",
    "    )\n",
    ")\n",
    "\n",
    "corr_matrix.show()"
   ]
  },
  {
   "cell_type": "markdown",
   "metadata": {},
   "source": [
    "## Hyper Parameter Tuning w/ Optuna"
   ]
  },
  {
   "cell_type": "code",
   "execution_count": null,
   "metadata": {},
   "outputs": [],
   "source": [
    "def objective(trial):\n",
    "    estimator = LGBMRegressor(\n",
    "        learning_rate=trial.suggest_float(\"learning_rate\", 0.01, 0.5),\n",
    "        max_depth=trial.suggest_int(\"max_depth\", 2, 50),\n",
    "        n_estimators=trial.suggest_int(\"n_estimators\", 100, 1000)\n",
    "        random_state=42,\n",
    "        n_jobs=-1,\n",
    "    )\n",
    "\n",
    "    pipeline = Pipeline([\n",
    "        (\"preprocessor\", preprocessor),\n",
    "        (\"model\", estimator),\n",
    "    ]) \n",
    "\n",
    "    pipeline.fit(X_train, y_train)\n",
    "    return pipeline.score(X_test, y_test)\n",
    "\n",
    "study = optuna.create_study(direction=\"maximize\")\n",
    "study.optimize(objective, n_trials=50)\n",
    "\n",
    "print(f\"Best Parameters: {study.best_params}\")\n",
    "print(f\"best r2 score: {study.best_value}\")"
   ]
  },
  {
   "cell_type": "code",
   "execution_count": null,
   "metadata": {},
   "outputs": [],
   "source": []
  }
 ],
 "metadata": {
  "colab": {
   "provenance": []
  },
  "kernelspec": {
   "display_name": "venv",
   "language": "python",
   "name": "python3"
  },
  "language_info": {
   "codemirror_mode": {
    "name": "ipython",
    "version": 3
   },
   "file_extension": ".py",
   "mimetype": "text/x-python",
   "name": "python",
   "nbconvert_exporter": "python",
   "pygments_lexer": "ipython3",
   "version": "3.9.20"
  }
 },
 "nbformat": 4,
 "nbformat_minor": 0
}
