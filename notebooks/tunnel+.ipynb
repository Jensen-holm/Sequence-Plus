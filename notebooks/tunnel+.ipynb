{
 "cells": [
  {
   "cell_type": "markdown",
   "metadata": {},
   "source": [
    "# Tunnel++\n",
    "\n",
    "***Goal***: To make an improved version of [Location+](https://library.fangraphs.com/pitching/stuff-location-and-pitching-primer/) that incorporates pitch tunneling. <br>\n",
    "**Author**: Jensen Holm <br>\n",
    "**Date**: 2024"
   ]
  },
  {
   "cell_type": "code",
   "execution_count": 1,
   "metadata": {},
   "outputs": [],
   "source": [
    "import statcast_pitches\n",
    "import polars as pl\n",
    "from plotnine import *\n",
    "import plotly.express as px\n",
    "import os\n",
    "\n",
    "LOCAL_DATA_DIR = os.path.join(\"..\", \"data\")"
   ]
  },
  {
   "cell_type": "markdown",
   "metadata": {},
   "source": [
    "## Loading Data\n",
    "\n",
    "Using all pitches thrown in the statcast-era (2015-present) as our data for this model. <br>\n",
    "I will also be using `../data/run_values.csv` for calculating run values of each pitch, this data represents 2024 only.\n",
    "\n",
    "**Data Dictionary**: [link](https://baseballsavant.mlb.com/csv-docs) <br>\n",
    "**statcast_pitches package info**: [link](https://github.com/Jensen-holm/statcast-era-pitches) "
   ]
  },
  {
   "cell_type": "code",
   "execution_count": 2,
   "metadata": {},
   "outputs": [
    {
     "name": "stdout",
     "output_type": "stream",
     "text": [
      "N Pitches: 7011927\n",
      "Date Range: 2015-04-05 - 2024-10-30\n"
     ]
    }
   ],
   "source": [
    "pitches_lf: pl.LazyFrame = statcast_pitches.load() # default is all pitches\n",
    "\n",
    "latest_date = pitches_lf.select(\"game_date\").max().collect().item().date()\n",
    "earliest_date = pitches_lf.select(\"game_date\").min().collect().item().date()\n",
    "n_pitches = pitches_lf.select(pl.len()).collect().item()\n",
    "\n",
    "print(f\"N Pitches: {n_pitches}\")\n",
    "print(f\"Date Range: {earliest_date} - {latest_date}\")"
   ]
  },
  {
   "cell_type": "code",
   "execution_count": 3,
   "metadata": {},
   "outputs": [],
   "source": [
    "run_values_24 = pl.scan_csv(\n",
    "    os.path.join(LOCAL_DATA_DIR, \"run_values.csv\"),\n",
    ").rename({\"event\": \"events\"}) # it is called 'events' in pitches_df"
   ]
  },
  {
   "cell_type": "markdown",
   "metadata": {},
   "source": [
    "## Feature Engineering\n",
    "\n",
    "adding the following features to `pitches_df`\n",
    "\n",
    "| Feature Name | Description |\n",
    "|------|-------------|\n",
    "| **delta_run_exp** | run value associated with the pitch outcome from `run_values_24`| \n",
    "| **x_0.120** | position in the x dimension of the pitch at decision time (~0.12s) |\n",
    "| **y_0.120** | position in the y dimension of the pitch at decision time (~0.12s) |\n",
    "| **z_0.120** | position in the z dimension of the pitch at decision time (~0.12s) |\n",
    "| **x_0.167** | position in the x dimension of the pitch at commit time (~0.167s) |\n",
    "| **y_0.167** | position in the y dimension of the pitch at commit time (~0.167s) |\n",
    "| **z_0.167** | position in the z dimension of the pitch at commit time (~0.167s) |\n",
    "| **velocity_diff** | difference in velocity between pitches in a two pitch sequence |\n",
    "| **effective_velocity_diff** | difference in effective velocity between pitches in a two pitch sequence |\n",
    "| **pfx_x_diff** | difference in horizontal movement between pitches in a two pitch sequence |\n",
    "| **pfx_z_diff** | difference in vertical movement between pitches in a two pitch sequence |\n",
    "| **decision_distance** | 3D distance between pitches in a two pitch sequence at 0.12 seconds after release |\n",
    "| **distance** | 2D euclidean distance between pitch locations when crossing the plate in a two pitch sequence |\n",
    "| **seq_delta_run_exp** | sum of `delta_run_exp` in a two pitch sequence |\n",
    "\n",
    "On top of adding these features, attributes from LHP should be mirrored as if they were thrown by a RHP for consistency"
   ]
  },
  {
   "cell_type": "markdown",
   "metadata": {},
   "source": [
    "Adding `delta_run_exp` first"
   ]
  },
  {
   "cell_type": "code",
   "execution_count": 4,
   "metadata": {},
   "outputs": [
    {
     "data": {
      "text/html": [
       "<div><style>\n",
       ".dataframe > thead > tr,\n",
       ".dataframe > tbody > tr {\n",
       "  text-align: right;\n",
       "  white-space: pre-wrap;\n",
       "}\n",
       "</style>\n",
       "<small>shape: (9, 6)</small><table border=\"1\" class=\"dataframe\"><thead><tr><th>statistic</th><th>pitch_type</th><th>description</th><th>balls</th><th>strikes</th><th>delta_run_exp</th></tr><tr><td>str</td><td>str</td><td>str</td><td>f64</td><td>f64</td><td>f64</td></tr></thead><tbody><tr><td>&quot;count&quot;</td><td>&quot;6914851&quot;</td><td>&quot;7011927&quot;</td><td>7.011927e6</td><td>7.011927e6</td><td>6.814457e6</td></tr><tr><td>&quot;null_count&quot;</td><td>&quot;97076&quot;</td><td>&quot;0&quot;</td><td>0.0</td><td>0.0</td><td>197470.0</td></tr><tr><td>&quot;mean&quot;</td><td>null</td><td>null</td><td>0.875591</td><td>0.888314</td><td>0.000005</td></tr><tr><td>&quot;std&quot;</td><td>null</td><td>null</td><td>0.966838</td><td>0.827263</td><td>0.242352</td></tr><tr><td>&quot;min&quot;</td><td>&quot;AB&quot;</td><td>&quot;ball&quot;</td><td>0.0</td><td>0.0</td><td>-1.661</td></tr><tr><td>&quot;25%&quot;</td><td>null</td><td>null</td><td>0.0</td><td>0.0</td><td>-0.066</td></tr><tr><td>&quot;50%&quot;</td><td>null</td><td>null</td><td>1.0</td><td>1.0</td><td>-0.017</td></tr><tr><td>&quot;75%&quot;</td><td>null</td><td>null</td><td>1.0</td><td>2.0</td><td>0.036</td></tr><tr><td>&quot;max&quot;</td><td>&quot;SV&quot;</td><td>&quot;swinging_strike_blocked&quot;</td><td>4.0</td><td>3.0</td><td>3.702</td></tr></tbody></table></div>"
      ],
      "text/plain": [
       "shape: (9, 6)\n",
       "┌────────────┬────────────┬─────────────────────────┬────────────┬────────────┬───────────────┐\n",
       "│ statistic  ┆ pitch_type ┆ description             ┆ balls      ┆ strikes    ┆ delta_run_exp │\n",
       "│ ---        ┆ ---        ┆ ---                     ┆ ---        ┆ ---        ┆ ---           │\n",
       "│ str        ┆ str        ┆ str                     ┆ f64        ┆ f64        ┆ f64           │\n",
       "╞════════════╪════════════╪═════════════════════════╪════════════╪════════════╪═══════════════╡\n",
       "│ count      ┆ 6914851    ┆ 7011927                 ┆ 7.011927e6 ┆ 7.011927e6 ┆ 6.814457e6    │\n",
       "│ null_count ┆ 97076      ┆ 0                       ┆ 0.0        ┆ 0.0        ┆ 197470.0      │\n",
       "│ mean       ┆ null       ┆ null                    ┆ 0.875591   ┆ 0.888314   ┆ 0.000005      │\n",
       "│ std        ┆ null       ┆ null                    ┆ 0.966838   ┆ 0.827263   ┆ 0.242352      │\n",
       "│ min        ┆ AB         ┆ ball                    ┆ 0.0        ┆ 0.0        ┆ -1.661        │\n",
       "│ 25%        ┆ null       ┆ null                    ┆ 0.0        ┆ 0.0        ┆ -0.066        │\n",
       "│ 50%        ┆ null       ┆ null                    ┆ 1.0        ┆ 1.0        ┆ -0.017        │\n",
       "│ 75%        ┆ null       ┆ null                    ┆ 1.0        ┆ 2.0        ┆ 0.036         │\n",
       "│ max        ┆ SV         ┆ swinging_strike_blocked ┆ 4.0        ┆ 3.0        ┆ 3.702         │\n",
       "└────────────┴────────────┴─────────────────────────┴────────────┴────────────┴───────────────┘"
      ]
     },
     "execution_count": 4,
     "metadata": {},
     "output_type": "execute_result"
    }
   ],
   "source": [
    "from utils import description_replace_mapping\n",
    "\n",
    "\n",
    "def add_pitch_run_value(lf: pl.LazyFrame) -> pl.LazyFrame:\n",
    "    \"\"\"Takes in a dataframe of pitches, and adds 2024 run value to each one\"\"\"\n",
    "    pitch_runs_lf = lf.join(\n",
    "        other=run_values_24,\n",
    "        on=[\"events\", \"balls\", \"strikes\"],\n",
    "        how=\"left\",\n",
    "    )\n",
    "\n",
    "    mapped_des_pitches = pitch_runs_lf.with_columns([\n",
    "        pl.col(\"description\")\n",
    "        .replace_strict(description_replace_mapping, default=None)\n",
    "        .alias(\"play_des\"),\n",
    "    ])\n",
    "\n",
    "    pitches_run_value_lf = mapped_des_pitches.join(\n",
    "        other=run_values_24,\n",
    "        right_on=[\"events\", \"balls\", \"strikes\"],\n",
    "        left_on=[\"play_des\", \"balls\", \"strikes\"],\n",
    "        how=\"left\",\n",
    "        suffix=\"_des\",\n",
    "    ).with_columns([\n",
    "        pl.when(pl.col(\"delta_run_exp\").is_null())\n",
    "        .then(pl.col(\"delta_run_exp_des\"))\n",
    "        .otherwise(pl.col(\"delta_run_exp\"))\n",
    "        .alias(\"delta_run_exp\"),\n",
    "    ])\n",
    "    return pitches_run_value_lf\n",
    "\n",
    "pitches_run_value_lf = pitches_lf.pipe(add_pitch_run_value)\n",
    "pitches_run_value_lf.select(\n",
    "    \"pitch_type\",\n",
    "    \"description\",\n",
    "    \"balls\",\n",
    "    \"strikes\",\n",
    "    \"delta_run_exp\",\n",
    ").describe()"
   ]
  },
  {
   "cell_type": "markdown",
   "metadata": {},
   "source": [
    "Mirroring LHP metrics as if they were thrown by RHP"
   ]
  },
  {
   "cell_type": "code",
   "execution_count": 5,
   "metadata": {},
   "outputs": [
    {
     "data": {
      "image/png": "[encoded data removed]"
     },
     "metadata": {
      "image/png": {
       "height": 480,
       "width": 640
      }
     },
     "output_type": "display_data"
    }
   ],
   "source": [
    "def mirror_lhp_to_rhp(lf: pl.LazyFrame) -> pl.LazyFrame:\n",
    "    return lf.with_columns(\n",
    "        # mirror LHP horizontal movement\n",
    "        pl.when(pl.col(\"p_throws\") == \"L\")\n",
    "        .then(-pl.col(\"pfx_x\"))\n",
    "        .otherwise(pl.col(\"pfx_x\")),\n",
    "    )\n",
    "\n",
    "mirrored_pitches_lf = pitches_run_value_lf.pipe(mirror_lhp_to_rhp)\n",
    "\n",
    "# for verification\n",
    "movement_plt = (\n",
    "    ggplot(\n",
    "        mirrored_pitches_lf\n",
    "        .filter(pl.col(\"pitch_type\").is_in([\"FF\", \"KC\", \"SL\", \"CH\"]))\n",
    "        .group_by(\"pitch_type\", \"p_throws\")\n",
    "        .agg(\n",
    "            pl.col(\"pfx_x\").mean().alias(\"mean_pfx_x\"),\n",
    "            pl.col(\"pfx_z\").mean().alias(\"mean_pfx_z\"),\n",
    "        ).collect(),\n",
    "        aes(x=\"mean_pfx_x\", y=\"mean_pfx_z\", color=\"pitch_type\", shape=\"p_throws\"))\n",
    "    + geom_point()\n",
    "    + geom_vline(xintercept=0)\n",
    "    + geom_hline(yintercept=0)\n",
    "    + labs(\n",
    "        title=\"Mirrored LHP Movement Verification\",\n",
    "        x=\"Mean Horizontal Movement (ft.)\",\n",
    "        y=\"Mean Vertical Movement (ft.)\",\n",
    "        shape=\"Pitcher Hand\",\n",
    "        subtitle=\"Colors represent pitch_type\",\n",
    "    )\n",
    ")\n",
    "\n",
    "movement_plt.show()"
   ]
  },
  {
   "cell_type": "markdown",
   "metadata": {},
   "source": [
    "Horizontal movement profiles are mirrored now!"
   ]
  },
  {
   "cell_type": "markdown",
   "metadata": {},
   "source": [
    "## 3D Pitch Displacement\n",
    "\n",
    "Now to add ball positions in 3D space at both [decision time]() (0.12s) & [commit time]() (0.167s)\n",
    "\n",
    "Plugging in our pitch data into the kinematic equation for displacement below, I can solve for where the ball \n",
    "\n",
    "$d = v_{i} * t + \\frac{1}{2} * a * t^{2}$\n",
    "\n",
    "**where**:\n",
    "- $t$ = time (seconds)\n",
    "- $v_{i}$ = velocity at time $t$\n",
    "- $a_{i}$ = acceleration at time $t$\n",
    "\n",
    "**Steps**:\n",
    "\n",
    "For a given time $t$ ...\n",
    "\n",
    "1. Estimate how many feet the ball will travel in $t$ seconds (assuming acceleration = az)\n",
    "2. Estimate the x and y positions of the ball at $t$ seconds (assuming acceleration = ax & ay) "
   ]
  },
  {
   "cell_type": "code",
   "execution_count": 6,
   "metadata": {},
   "outputs": [
    {
     "data": {
      "text/html": [
       "<div><style>\n",
       ".dataframe > thead > tr,\n",
       ".dataframe > tbody > tr {\n",
       "  text-align: right;\n",
       "  white-space: pre-wrap;\n",
       "}\n",
       "</style>\n",
       "<small>shape: (9, 7)</small><table border=\"1\" class=\"dataframe\"><thead><tr><th>statistic</th><th>x_0.120</th><th>y_0.120</th><th>z_0.120</th><th>x_0.167</th><th>y_0.167</th><th>z_0.167</th></tr><tr><td>str</td><td>f64</td><td>f64</td><td>f64</td><td>f64</td><td>f64</td><td>f64</td></tr></thead><tbody><tr><td>&quot;count&quot;</td><td>6.915173e6</td><td>6.915173e6</td><td>6.915173e6</td><td>6.915173e6</td><td>6.915173e6</td><td>6.915173e6</td></tr><tr><td>&quot;null_count&quot;</td><td>96754.0</td><td>96754.0</td><td>96754.0</td><td>96754.0</td><td>96754.0</td><td>96754.0</td></tr><tr><td>&quot;mean&quot;</td><td>0.263782</td><td>-15.325393</td><td>-0.64541</td><td>0.358194</td><td>-21.223518</td><td>-0.989773</td></tr><tr><td>&quot;std&quot;</td><td>0.665031</td><td>1.029002</td><td>0.338838</td><td>0.90022</td><td>1.41939</td><td>0.455678</td></tr><tr><td>&quot;min&quot;</td><td>-12.679482</td><td>-18.257279</td><td>-9.331836</td><td>-18.406781</td><td>-25.252687</td><td>-13.476103</td></tr><tr><td>&quot;25%&quot;</td><td>-0.242082</td><td>-16.131178</td><td>-0.872586</td><td>-0.325748</td><td>-22.334216</td><td>-1.293961</td></tr><tr><td>&quot;50%&quot;</td><td>0.456214</td><td>-15.523112</td><td>-0.658437</td><td>0.617835</td><td>-21.498054</td><td>-1.00518</td></tr><tr><td>&quot;75%&quot;</td><td>0.744562</td><td>-14.614048</td><td>-0.432851</td><td>1.00844</td><td>-20.244422</td><td>-0.703514</td></tr><tr><td>&quot;max&quot;</td><td>2.979625</td><td>-4.827299</td><td>2.960119</td><td>4.094582</td><td>-6.705236</td><td>3.95633</td></tr></tbody></table></div>"
      ],
      "text/plain": [
       "shape: (9, 7)\n",
       "┌────────────┬────────────┬────────────┬────────────┬────────────┬────────────┬────────────┐\n",
       "│ statistic  ┆ x_0.120    ┆ y_0.120    ┆ z_0.120    ┆ x_0.167    ┆ y_0.167    ┆ z_0.167    │\n",
       "│ ---        ┆ ---        ┆ ---        ┆ ---        ┆ ---        ┆ ---        ┆ ---        │\n",
       "│ str        ┆ f64        ┆ f64        ┆ f64        ┆ f64        ┆ f64        ┆ f64        │\n",
       "╞════════════╪════════════╪════════════╪════════════╪════════════╪════════════╪════════════╡\n",
       "│ count      ┆ 6.915173e6 ┆ 6.915173e6 ┆ 6.915173e6 ┆ 6.915173e6 ┆ 6.915173e6 ┆ 6.915173e6 │\n",
       "│ null_count ┆ 96754.0    ┆ 96754.0    ┆ 96754.0    ┆ 96754.0    ┆ 96754.0    ┆ 96754.0    │\n",
       "│ mean       ┆ 0.263782   ┆ -15.325393 ┆ -0.64541   ┆ 0.358194   ┆ -21.223518 ┆ -0.989773  │\n",
       "│ std        ┆ 0.665031   ┆ 1.029002   ┆ 0.338838   ┆ 0.90022    ┆ 1.41939    ┆ 0.455678   │\n",
       "│ min        ┆ -12.679482 ┆ -18.257279 ┆ -9.331836  ┆ -18.406781 ┆ -25.252687 ┆ -13.476103 │\n",
       "│ 25%        ┆ -0.242082  ┆ -16.131178 ┆ -0.872586  ┆ -0.325748  ┆ -22.334216 ┆ -1.293961  │\n",
       "│ 50%        ┆ 0.456214   ┆ -15.523112 ┆ -0.658437  ┆ 0.617835   ┆ -21.498054 ┆ -1.00518   │\n",
       "│ 75%        ┆ 0.744562   ┆ -14.614048 ┆ -0.432851  ┆ 1.00844    ┆ -20.244422 ┆ -0.703514  │\n",
       "│ max        ┆ 2.979625   ┆ -4.827299  ┆ 2.960119   ┆ 4.094582   ┆ -6.705236  ┆ 3.95633    │\n",
       "└────────────┴────────────┴────────────┴────────────┴────────────┴────────────┴────────────┘"
      ]
     },
     "execution_count": 6,
     "metadata": {},
     "output_type": "execute_result"
    }
   ],
   "source": [
    "\n",
    "def calculate_ball_pos_at_t(lf: pl.LazyFrame, *ts) -> pl.LazyFrame:\n",
    "    \"\"\"Computes the x, y and z positions of a baseball at all the times in specified in ts\"\"\"\n",
    "    return lf.with_columns([\n",
    "        ((pl.col(f\"v{dim}0\") * t) + (1/2 * pl.col(f\"a{dim}\") * t**2)).alias(f\"{dim}_{t:.3f}\")\n",
    "        for dim in [\"x\", \"y\", \"z\"] \n",
    "        for t in ts\n",
    "    ])\n",
    "\n",
    "# 0.12 is about the 'decision time' and 0.167 is about 'commit time'\n",
    "ball_pos_lf = mirrored_pitches_lf.pipe(calculate_ball_pos_at_t, 0.12, 0.167)\n",
    "\n",
    "(ball_pos_lf\n",
    "    .select(\"x_0.120\", \"y_0.120\", \"z_0.120\",\n",
    "            \"x_0.167\", \"y_0.167\", \"z_0.167\")\n",
    "    .describe())"
   ]
  },
  {
   "cell_type": "code",
   "execution_count": 7,
   "metadata": {},
   "outputs": [
    {
     "data": {
      "application/vnd.plotly.v1+json": {
       "config": {
        "plotlyServerURL": "https://plot.ly"
       },
       "data": [
        {
         "hovertemplate": "pitch_type=CH<br>mean_z_0.120=%{x}<br>mean_x_0.120=%{y}<br>mean_y_0.120=%{z}<extra></extra>",
         "legendgroup": "CH",
         "marker": {
          "color": "#636efa",
          "symbol": "circle"
         },
         "mode": "markers",
         "name": "CH",
         "scene": "scene",
         "showlegend": true,
         "type": "scatter3d",
         "x": [
          -0.6539053429812367
         ],
         "y": [
          0.18581718320083646
         ],
         "z": [
          -14.624184275390279
         ]
        },
        {
         "hovertemplate": "pitch_type=FF<br>mean_z_0.120=%{x}<br>mean_x_0.120=%{y}<br>mean_y_0.120=%{z}<extra></extra>",
         "legendgroup": "FF",
         "marker": {
          "color": "#EF553B",
          "symbol": "circle"
         },
         "mode": "markers",
         "name": "FF",
         "scene": "scene",
         "showlegend": true,
         "type": "scatter3d",
         "x": [
          -0.7513894603813878
         ],
         "y": [
          0.2917240978652515
         ],
         "z": [
          -16.132972552909997
         ]
        },
        {
         "hovertemplate": "pitch_type=SL<br>mean_z_0.120=%{x}<br>mean_x_0.120=%{y}<br>mean_y_0.120=%{z}<extra></extra>",
         "legendgroup": "SL",
         "marker": {
          "color": "#00cc96",
          "symbol": "circle"
         },
         "mode": "markers",
         "name": "SL",
         "scene": "scene",
         "showlegend": true,
         "type": "scatter3d",
         "x": [
          -0.5886199421642897
         ],
         "y": [
          0.2889992166640097
         ],
         "z": [
          -14.6662758840343
         ]
        },
        {
         "hovertemplate": "pitch_type=KC<br>mean_z_0.120=%{x}<br>mean_x_0.120=%{y}<br>mean_y_0.120=%{z}<extra></extra>",
         "legendgroup": "KC",
         "marker": {
          "color": "#ab63fa",
          "symbol": "circle"
         },
         "mode": "markers",
         "name": "KC",
         "scene": "scene",
         "showlegend": true,
         "type": "scatter3d",
         "x": [
          -0.37918262351750204
         ],
         "y": [
          0.2259572816319292
         ],
         "z": [
          -13.997856154764031
         ]
        },
        {
         "hovertemplate": "pitch_type=KC<br>mean_z_0.167=%{x}<br>mean_x_0.167=%{y}<br>mean_y_0.167=%{z}<extra></extra>",
         "legendgroup": "KC",
         "marker": {
          "color": "#636efa",
          "symbol": "circle"
         },
         "mode": "markers",
         "name": "KC",
         "scene": "scene",
         "showlegend": true,
         "type": "scatter3d",
         "x": [
          -0.6840126259872565
         ],
         "y": [
          0.3304146352439058
         ],
         "z": [
          -19.38883318354465
         ]
        },
        {
         "hovertemplate": "pitch_type=SL<br>mean_z_0.167=%{x}<br>mean_x_0.167=%{y}<br>mean_y_0.167=%{z}<extra></extra>",
         "legendgroup": "SL",
         "marker": {
          "color": "#EF553B",
          "symbol": "circle"
         },
         "mode": "markers",
         "name": "SL",
         "scene": "scene",
         "showlegend": true,
         "type": "scatter3d",
         "x": [
          -0.9369372259666482
         ],
         "y": [
          0.40981123982255274
         ],
         "z": [
          -20.31728109466981
         ]
        },
        {
         "hovertemplate": "pitch_type=FF<br>mean_z_0.167=%{x}<br>mean_x_0.167=%{y}<br>mean_y_0.167=%{z}<extra></extra>",
         "legendgroup": "FF",
         "marker": {
          "color": "#00cc96",
          "symbol": "circle"
         },
         "mode": "markers",
         "name": "FF",
         "scene": "scene",
         "showlegend": true,
         "type": "scatter3d",
         "x": [
          -1.103335006368767
         ],
         "y": [
          0.39064445368670403
         ],
         "z": [
          -22.33617332951531
         ]
        },
        {
         "hovertemplate": "pitch_type=CH<br>mean_z_0.167=%{x}<br>mean_x_0.167=%{y}<br>mean_y_0.167=%{z}<extra></extra>",
         "legendgroup": "CH",
         "marker": {
          "color": "#ab63fa",
          "symbol": "circle"
         },
         "mode": "markers",
         "name": "CH",
         "scene": "scene",
         "showlegend": true,
         "type": "scatter3d",
         "x": [
          -1.0112425412733579
         ],
         "y": [
          0.24333938352148068
         ],
         "z": [
          -20.257833611111373
         ]
        }
       ],
       "layout": {
        "legend": {
         "title": {
          "text": "pitch_type"
         },
         "tracegroupgap": 0
        },
        "margin": {
         "t": 60
        },
        "scene": {
         "domain": {
          "x": [
           0,
           1
          ],
          "y": [
           0,
           1
          ]
         },
         "xaxis": {
          "title": {
           "text": "mean_z_0.120"
          }
         },
         "yaxis": {
          "title": {
           "text": "mean_x_0.120"
          }
         },
         "zaxis": {
          "title": {
           "text": "mean_y_0.120"
          }
         }
        },
        "template": {
         "data": {
          "bar": [
           {
            "error_x": {
             "color": "#2a3f5f"
            },
            "error_y": {
             "color": "#2a3f5f"
            },
            "marker": {
             "line": {
              "color": "#E5ECF6",
              "width": 0.5
             },
             "pattern": {
              "fillmode": "overlay",
              "size": 10,
              "solidity": 0.2
             }
            },
            "type": "bar"
           }
          ],
          "barpolar": [
           {
            "marker": {
             "line": {
              "color": "#E5ECF6",
              "width": 0.5
             },
             "pattern": {
              "fillmode": "overlay",
              "size": 10,
              "solidity": 0.2
             }
            },
            "type": "barpolar"
           }
          ],
          "carpet": [
           {
            "aaxis": {
             "endlinecolor": "#2a3f5f",
             "gridcolor": "white",
             "linecolor": "white",
             "minorgridcolor": "white",
             "startlinecolor": "#2a3f5f"
            },
            "baxis": {
             "endlinecolor": "#2a3f5f",
             "gridcolor": "white",
             "linecolor": "white",
             "minorgridcolor": "white",
             "startlinecolor": "#2a3f5f"
            },
            "type": "carpet"
           }
          ],
          "choropleth": [
           {
            "colorbar": {
             "outlinewidth": 0,
             "ticks": ""
            },
            "type": "choropleth"
           }
          ],
          "contour": [
           {
            "colorbar": {
             "outlinewidth": 0,
             "ticks": ""
            },
            "colorscale": [
             [
              0,
              "#0d0887"
             ],
             [
              0.1111111111111111,
              "#46039f"
             ],
             [
              0.2222222222222222,
              "#7201a8"
             ],
             [
              0.3333333333333333,
              "#9c179e"
             ],
             [
              0.4444444444444444,
              "#bd3786"
             ],
             [
              0.5555555555555556,
              "#d8576b"
             ],
             [
              0.6666666666666666,
              "#ed7953"
             ],
             [
              0.7777777777777778,
              "#fb9f3a"
             ],
             [
              0.8888888888888888,
              "#fdca26"
             ],
             [
              1,
              "#f0f921"
             ]
            ],
            "type": "contour"
           }
          ],
          "contourcarpet": [
           {
            "colorbar": {
             "outlinewidth": 0,
             "ticks": ""
            },
            "type": "contourcarpet"
           }
          ],
          "heatmap": [
           {
            "colorbar": {
             "outlinewidth": 0,
             "ticks": ""
            },
            "colorscale": [
             [
              0,
              "#0d0887"
             ],
             [
              0.1111111111111111,
              "#46039f"
             ],
             [
              0.2222222222222222,
              "#7201a8"
             ],
             [
              0.3333333333333333,
              "#9c179e"
             ],
             [
              0.4444444444444444,
              "#bd3786"
             ],
             [
              0.5555555555555556,
              "#d8576b"
             ],
             [
              0.6666666666666666,
              "#ed7953"
             ],
             [
              0.7777777777777778,
              "#fb9f3a"
             ],
             [
              0.8888888888888888,
              "#fdca26"
             ],
             [
              1,
              "#f0f921"
             ]
            ],
            "type": "heatmap"
           }
          ],
          "heatmapgl": [
           {
            "colorbar": {
             "outlinewidth": 0,
             "ticks": ""
            },
            "colorscale": [
             [
              0,
              "#0d0887"
             ],
             [
              0.1111111111111111,
              "#46039f"
             ],
             [
              0.2222222222222222,
              "#7201a8"
             ],
             [
              0.3333333333333333,
              "#9c179e"
             ],
             [
              0.4444444444444444,
              "#bd3786"
             ],
             [
              0.5555555555555556,
              "#d8576b"
             ],
             [
              0.6666666666666666,
              "#ed7953"
             ],
             [
              0.7777777777777778,
              "#fb9f3a"
             ],
             [
              0.8888888888888888,
              "#fdca26"
             ],
             [
              1,
              "#f0f921"
             ]
            ],
            "type": "heatmapgl"
           }
          ],
          "histogram": [
           {
            "marker": {
             "pattern": {
              "fillmode": "overlay",
              "size": 10,
              "solidity": 0.2
             }
            },
            "type": "histogram"
           }
          ],
          "histogram2d": [
           {
            "colorbar": {
             "outlinewidth": 0,
             "ticks": ""
            },
            "colorscale": [
             [
              0,
              "#0d0887"
             ],
             [
              0.1111111111111111,
              "#46039f"
             ],
             [
              0.2222222222222222,
              "#7201a8"
             ],
             [
              0.3333333333333333,
              "#9c179e"
             ],
             [
              0.4444444444444444,
              "#bd3786"
             ],
             [
              0.5555555555555556,
              "#d8576b"
             ],
             [
              0.6666666666666666,
              "#ed7953"
             ],
             [
              0.7777777777777778,
              "#fb9f3a"
             ],
             [
              0.8888888888888888,
              "#fdca26"
             ],
             [
              1,
              "#f0f921"
             ]
            ],
            "type": "histogram2d"
           }
          ],
          "histogram2dcontour": [
           {
            "colorbar": {
             "outlinewidth": 0,
             "ticks": ""
            },
            "colorscale": [
             [
              0,
              "#0d0887"
             ],
             [
              0.1111111111111111,
              "#46039f"
             ],
             [
              0.2222222222222222,
              "#7201a8"
             ],
             [
              0.3333333333333333,
              "#9c179e"
             ],
             [
              0.4444444444444444,
              "#bd3786"
             ],
             [
              0.5555555555555556,
              "#d8576b"
             ],
             [
              0.6666666666666666,
              "#ed7953"
             ],
             [
              0.7777777777777778,
              "#fb9f3a"
             ],
             [
              0.8888888888888888,
              "#fdca26"
             ],
             [
              1,
              "#f0f921"
             ]
            ],
            "type": "histogram2dcontour"
           }
          ],
          "mesh3d": [
           {
            "colorbar": {
             "outlinewidth": 0,
             "ticks": ""
            },
            "type": "mesh3d"
           }
          ],
          "parcoords": [
           {
            "line": {
             "colorbar": {
              "outlinewidth": 0,
              "ticks": ""
             }
            },
            "type": "parcoords"
           }
          ],
          "pie": [
           {
            "automargin": true,
            "type": "pie"
           }
          ],
          "scatter": [
           {
            "fillpattern": {
             "fillmode": "overlay",
             "size": 10,
             "solidity": 0.2
            },
            "type": "scatter"
           }
          ],
          "scatter3d": [
           {
            "line": {
             "colorbar": {
              "outlinewidth": 0,
              "ticks": ""
             }
            },
            "marker": {
             "colorbar": {
              "outlinewidth": 0,
              "ticks": ""
             }
            },
            "type": "scatter3d"
           }
          ],
          "scattercarpet": [
           {
            "marker": {
             "colorbar": {
              "outlinewidth": 0,
              "ticks": ""
             }
            },
            "type": "scattercarpet"
           }
          ],
          "scattergeo": [
           {
            "marker": {
             "colorbar": {
              "outlinewidth": 0,
              "ticks": ""
             }
            },
            "type": "scattergeo"
           }
          ],
          "scattergl": [
           {
            "marker": {
             "colorbar": {
              "outlinewidth": 0,
              "ticks": ""
             }
            },
            "type": "scattergl"
           }
          ],
          "scattermapbox": [
           {
            "marker": {
             "colorbar": {
              "outlinewidth": 0,
              "ticks": ""
             }
            },
            "type": "scattermapbox"
           }
          ],
          "scatterpolar": [
           {
            "marker": {
             "colorbar": {
              "outlinewidth": 0,
              "ticks": ""
             }
            },
            "type": "scatterpolar"
           }
          ],
          "scatterpolargl": [
           {
            "marker": {
             "colorbar": {
              "outlinewidth": 0,
              "ticks": ""
             }
            },
            "type": "scatterpolargl"
           }
          ],
          "scatterternary": [
           {
            "marker": {
             "colorbar": {
              "outlinewidth": 0,
              "ticks": ""
             }
            },
            "type": "scatterternary"
           }
          ],
          "surface": [
           {
            "colorbar": {
             "outlinewidth": 0,
             "ticks": ""
            },
            "colorscale": [
             [
              0,
              "#0d0887"
             ],
             [
              0.1111111111111111,
              "#46039f"
             ],
             [
              0.2222222222222222,
              "#7201a8"
             ],
             [
              0.3333333333333333,
              "#9c179e"
             ],
             [
              0.4444444444444444,
              "#bd3786"
             ],
             [
              0.5555555555555556,
              "#d8576b"
             ],
             [
              0.6666666666666666,
              "#ed7953"
             ],
             [
              0.7777777777777778,
              "#fb9f3a"
             ],
             [
              0.8888888888888888,
              "#fdca26"
             ],
             [
              1,
              "#f0f921"
             ]
            ],
            "type": "surface"
           }
          ],
          "table": [
           {
            "cells": {
             "fill": {
              "color": "#EBF0F8"
             },
             "line": {
              "color": "white"
             }
            },
            "header": {
             "fill": {
              "color": "#C8D4E3"
             },
             "line": {
              "color": "white"
             }
            },
            "type": "table"
           }
          ]
         },
         "layout": {
          "annotationdefaults": {
           "arrowcolor": "#2a3f5f",
           "arrowhead": 0,
           "arrowwidth": 1
          },
          "autotypenumbers": "strict",
          "coloraxis": {
           "colorbar": {
            "outlinewidth": 0,
            "ticks": ""
           }
          },
          "colorscale": {
           "diverging": [
            [
             0,
             "#8e0152"
            ],
            [
             0.1,
             "#c51b7d"
            ],
            [
             0.2,
             "#de77ae"
            ],
            [
             0.3,
             "#f1b6da"
            ],
            [
             0.4,
             "#fde0ef"
            ],
            [
             0.5,
             "#f7f7f7"
            ],
            [
             0.6,
             "#e6f5d0"
            ],
            [
             0.7,
             "#b8e186"
            ],
            [
             0.8,
             "#7fbc41"
            ],
            [
             0.9,
             "#4d9221"
            ],
            [
             1,
             "#276419"
            ]
           ],
           "sequential": [
            [
             0,
             "#0d0887"
            ],
            [
             0.1111111111111111,
             "#46039f"
            ],
            [
             0.2222222222222222,
             "#7201a8"
            ],
            [
             0.3333333333333333,
             "#9c179e"
            ],
            [
             0.4444444444444444,
             "#bd3786"
            ],
            [
             0.5555555555555556,
             "#d8576b"
            ],
            [
             0.6666666666666666,
             "#ed7953"
            ],
            [
             0.7777777777777778,
             "#fb9f3a"
            ],
            [
             0.8888888888888888,
             "#fdca26"
            ],
            [
             1,
             "#f0f921"
            ]
           ],
           "sequentialminus": [
            [
             0,
             "#0d0887"
            ],
            [
             0.1111111111111111,
             "#46039f"
            ],
            [
             0.2222222222222222,
             "#7201a8"
            ],
            [
             0.3333333333333333,
             "#9c179e"
            ],
            [
             0.4444444444444444,
             "#bd3786"
            ],
            [
             0.5555555555555556,
             "#d8576b"
            ],
            [
             0.6666666666666666,
             "#ed7953"
            ],
            [
             0.7777777777777778,
             "#fb9f3a"
            ],
            [
             0.8888888888888888,
             "#fdca26"
            ],
            [
             1,
             "#f0f921"
            ]
           ]
          },
          "colorway": [
           "#636efa",
           "#EF553B",
           "#00cc96",
           "#ab63fa",
           "#FFA15A",
           "#19d3f3",
           "#FF6692",
           "#B6E880",
           "#FF97FF",
           "#FECB52"
          ],
          "font": {
           "color": "#2a3f5f"
          },
          "geo": {
           "bgcolor": "white",
           "lakecolor": "white",
           "landcolor": "#E5ECF6",
           "showlakes": true,
           "showland": true,
           "subunitcolor": "white"
          },
          "hoverlabel": {
           "align": "left"
          },
          "hovermode": "closest",
          "mapbox": {
           "style": "light"
          },
          "paper_bgcolor": "white",
          "plot_bgcolor": "#E5ECF6",
          "polar": {
           "angularaxis": {
            "gridcolor": "white",
            "linecolor": "white",
            "ticks": ""
           },
           "bgcolor": "#E5ECF6",
           "radialaxis": {
            "gridcolor": "white",
            "linecolor": "white",
            "ticks": ""
           }
          },
          "scene": {
           "xaxis": {
            "backgroundcolor": "#E5ECF6",
            "gridcolor": "white",
            "gridwidth": 2,
            "linecolor": "white",
            "showbackground": true,
            "ticks": "",
            "zerolinecolor": "white"
           },
           "yaxis": {
            "backgroundcolor": "#E5ECF6",
            "gridcolor": "white",
            "gridwidth": 2,
            "linecolor": "white",
            "showbackground": true,
            "ticks": "",
            "zerolinecolor": "white"
           },
           "zaxis": {
            "backgroundcolor": "#E5ECF6",
            "gridcolor": "white",
            "gridwidth": 2,
            "linecolor": "white",
            "showbackground": true,
            "ticks": "",
            "zerolinecolor": "white"
           }
          },
          "shapedefaults": {
           "line": {
            "color": "#2a3f5f"
           }
          },
          "ternary": {
           "aaxis": {
            "gridcolor": "white",
            "linecolor": "white",
            "ticks": ""
           },
           "baxis": {
            "gridcolor": "white",
            "linecolor": "white",
            "ticks": ""
           },
           "bgcolor": "#E5ECF6",
           "caxis": {
            "gridcolor": "white",
            "linecolor": "white",
            "ticks": ""
           }
          },
          "title": {
           "x": 0.05
          },
          "xaxis": {
           "automargin": true,
           "gridcolor": "white",
           "linecolor": "white",
           "ticks": "",
           "title": {
            "standoff": 15
           },
           "zerolinecolor": "white",
           "zerolinewidth": 2
          },
          "yaxis": {
           "automargin": true,
           "gridcolor": "white",
           "linecolor": "white",
           "ticks": "",
           "title": {
            "standoff": 15
           },
           "zerolinecolor": "white",
           "zerolinewidth": 2
          }
         }
        }
       }
      }
     },
     "metadata": {},
     "output_type": "display_data"
    }
   ],
   "source": [
    "\n",
    "decision_time_fig = px.scatter_3d(ball_pos_lf\n",
    "                                  .filter(pl.col(\"pitch_type\").is_in([\"FF\", \"KC\", \"SL\", \"CH\"]))\n",
    "                                  .select(\"pitch_type\", \"x_0.120\", \"y_0.120\", \"z_0.120\")\n",
    "                                  .group_by(\"pitch_type\")\n",
    "                                  .agg(\n",
    "                                      pl.col(\"x_0.120\").mean().alias(\"mean_x_0.120\"),\n",
    "                                      pl.col(\"y_0.120\").mean().alias(\"mean_y_0.120\"),\n",
    "                                      pl.col(\"z_0.120\").mean().alias(\"mean_z_0.120\")\n",
    "                                )\n",
    "                                .collect(),\n",
    "                                y=\"mean_x_0.120\",\n",
    "                                z=\"mean_y_0.120\",\n",
    "                                x=\"mean_z_0.120\",\n",
    "                                color=\"pitch_type\")\n",
    "\n",
    "commit_time_fig = px.scatter_3d(ball_pos_lf\n",
    "                                  .filter(pl.col(\"pitch_type\").is_in([\"FF\", \"KC\", \"SL\", \"CH\"]))\n",
    "                                  .select(\"pitch_type\", \"x_0.167\", \"y_0.167\", \"z_0.167\")\n",
    "                                  .group_by(\"pitch_type\")\n",
    "                                  .agg(\n",
    "                                      pl.col(\"x_0.167\").mean().alias(\"mean_x_0.167\"),\n",
    "                                      pl.col(\"y_0.167\").mean().alias(\"mean_y_0.167\"),\n",
    "                                      pl.col(\"z_0.167\").mean().alias(\"mean_z_0.167\")\n",
    "                                      )\n",
    "                                    .collect(),\n",
    "                                y=\"mean_x_0.167\",\n",
    "                                z=\"mean_y_0.167\",\n",
    "                                x=\"mean_z_0.167\",\n",
    "                                color=\"pitch_type\")\n",
    "\n",
    "decision_time_fig.add_traces(commit_time_fig.data)\n",
    "decision_time_fig.show()"
   ]
  },
  {
   "cell_type": "code",
   "execution_count": 8,
   "metadata": {},
   "outputs": [
    {
     "data": {
      "text/html": [
       "<div><style>\n",
       ".dataframe > thead > tr,\n",
       ".dataframe > tbody > tr {\n",
       "  text-align: right;\n",
       "  white-space: pre-wrap;\n",
       "}\n",
       "</style>\n",
       "<small>shape: (9, 7)</small><table border=\"1\" class=\"dataframe\"><thead><tr><th>statistic</th><th>seq_delta_run_exp</th><th>distance</th><th>velocity_diff</th><th>effective_speed_diff</th><th>pfx_diff</th><th>pfx_z_diff</th></tr><tr><td>str</td><td>f64</td><td>f64</td><td>f64</td><td>f64</td><td>f64</td><td>f64</td></tr></thead><tbody><tr><td>&quot;count&quot;</td><td>6.652947e6</td><td>6.760267e6</td><td>6.761304e6</td><td>6.7085e6</td><td>6.760124e6</td><td>6.760141e6</td></tr><tr><td>&quot;null_count&quot;</td><td>371764.0</td><td>264444.0</td><td>263407.0</td><td>316211.0</td><td>264587.0</td><td>264570.0</td></tr><tr><td>&quot;mean&quot;</td><td>-0.001088</td><td>NaN</td><td>-0.004767</td><td>-0.000022</td><td>0.000115</td><td>-0.001595</td></tr><tr><td>&quot;std&quot;</td><td>0.335829</td><td>NaN</td><td>7.284445</td><td>7.506979</td><td>0.996743</td><td>0.958519</td></tr><tr><td>&quot;min&quot;</td><td>-2.166</td><td>0.0</td><td>-58.0</td><td>-98.3</td><td>-4.57</td><td>-4.29</td></tr><tr><td>&quot;25%&quot;</td><td>-0.154</td><td>NaN</td><td>-3.9</td><td>-4.0</td><td>-0.46</td><td>-0.43</td></tr><tr><td>&quot;50%&quot;</td><td>-0.022</td><td>NaN</td><td>0.0</td><td>0.0</td><td>0.0</td><td>0.0</td></tr><tr><td>&quot;75%&quot;</td><td>0.054</td><td>NaN</td><td>3.9</td><td>3.9</td><td>0.47</td><td>0.43</td></tr><tr><td>&quot;max&quot;</td><td>6.561</td><td>3.784997</td><td>60.6</td><td>113.9</td><td>4.49</td><td>5.36</td></tr></tbody></table></div>"
      ],
      "text/plain": [
       "shape: (9, 7)\n",
       "┌────────────┬───────────────┬────────────┬───────────────┬──────────────┬────────────┬────────────┐\n",
       "│ statistic  ┆ seq_delta_run ┆ distance   ┆ velocity_diff ┆ effective_sp ┆ pfx_diff   ┆ pfx_z_diff │\n",
       "│ ---        ┆ _exp          ┆ ---        ┆ ---           ┆ eed_diff     ┆ ---        ┆ ---        │\n",
       "│ str        ┆ ---           ┆ f64        ┆ f64           ┆ ---          ┆ f64        ┆ f64        │\n",
       "│            ┆ f64           ┆            ┆               ┆ f64          ┆            ┆            │\n",
       "╞════════════╪═══════════════╪════════════╪═══════════════╪══════════════╪════════════╪════════════╡\n",
       "│ count      ┆ 6.652947e6    ┆ 6.760267e6 ┆ 6.761304e6    ┆ 6.7085e6     ┆ 6.760124e6 ┆ 6.760141e6 │\n",
       "│ null_count ┆ 371764.0      ┆ 264444.0   ┆ 263407.0      ┆ 316211.0     ┆ 264587.0   ┆ 264570.0   │\n",
       "│ mean       ┆ -0.001088     ┆ NaN        ┆ -0.004767     ┆ -0.000022    ┆ 0.000115   ┆ -0.001595  │\n",
       "│ std        ┆ 0.335829      ┆ NaN        ┆ 7.284445      ┆ 7.506979     ┆ 0.996743   ┆ 0.958519   │\n",
       "│ min        ┆ -2.166        ┆ 0.0        ┆ -58.0         ┆ -98.3        ┆ -4.57      ┆ -4.29      │\n",
       "│ 25%        ┆ -0.154        ┆ NaN        ┆ -3.9          ┆ -4.0         ┆ -0.46      ┆ -0.43      │\n",
       "│ 50%        ┆ -0.022        ┆ NaN        ┆ 0.0           ┆ 0.0          ┆ 0.0        ┆ 0.0        │\n",
       "│ 75%        ┆ 0.054         ┆ NaN        ┆ 3.9           ┆ 3.9          ┆ 0.47       ┆ 0.43       │\n",
       "│ max        ┆ 6.561         ┆ 3.784997   ┆ 60.6          ┆ 113.9        ┆ 4.49       ┆ 5.36       │\n",
       "└────────────┴───────────────┴────────────┴───────────────┴──────────────┴────────────┴────────────┘"
      ]
     },
     "execution_count": 8,
     "metadata": {},
     "output_type": "execute_result"
    }
   ],
   "source": [
    "# features that we are interested in with regards to two pitch sequences\n",
    "prev_features = [\n",
    "    \"prev_pfx_x\",\n",
    "    \"prev_pfx_z\",\n",
    "    \"prev_release_pos_x\",\n",
    "    \"prev_release_pos_y\",\n",
    "    \"prev_release_pos_z\",\n",
    "    \"prev_release_speed\",\n",
    "    \"prev_effective_speed\",\n",
    "    \"prev_release_spin_rate\",\n",
    "    \"prev_delta_run_exp\",\n",
    "    \"prev_plate_x\",\n",
    "    \"prev_plate_z\",\n",
    "]\n",
    "\n",
    "def two_pitch_sequences(lf: pl.LazyFrame) -> pl.LazyFrame:\n",
    "    # sort the data such that the pitches are in descending order\n",
    "    sort_cols = [\"pitcher\", \"game_date\", \"at_bat_number\", \"pitch_number\"]\n",
    "    sorted_lf = lf.sort(\n",
    "        by=sort_cols,\n",
    "        descending=True,\n",
    "    )\n",
    "\n",
    "    return (sorted_lf\n",
    "        .with_columns([\n",
    "            pl.col(feature)\n",
    "            .shift(-1)\n",
    "            .over([\"pitcher\", \"at_bat_number\"])\n",
    "            .alias(f\"prev_{feature}\")\n",
    "            for feature in sorted_lf.collect_schema().names()\n",
    "        ])\n",
    "        .select(*sort_cols + prev_features)\n",
    "        .join(other=lf, on=sort_cols, how=\"right\")\n",
    "    )\n",
    "\n",
    "def add_diff_features(lf: pl.LazyFrame) -> pl.LazyFrame:\n",
    "    return lf.with_columns(\n",
    "        (pl.col(\"release_speed\") - pl.col(\"prev_release_speed\")).alias(\"velocity_diff\"),\n",
    "        (pl.col(\"effective_speed\") - pl.col(\"prev_effective_speed\")).alias(\"effective_speed_diff\"),\n",
    "        (pl.col(\"pfx_x\") - pl.col(\"prev_pfx_x\")).alias(\"pfx_diff\"),\n",
    "        (pl.col(\"pfx_z\") - pl.col(\"prev_pfx_z\")).alias(\"pfx_z_diff\"),\n",
    "        (((pl.col(\"plate_x\") - pl.col(\"prev_plate_x\") ** 2) + \n",
    "         (pl.col(\"plate_z\") - pl.col(\"prev_plate_z\") ** 2)) ** 0.5).alias(\"distance\"),\n",
    "         (pl.col(\"delta_run_exp\") + pl.col(\"prev_delta_run_exp\")).alias(\"seq_delta_run_exp\")\n",
    "    )\n",
    "\n",
    "\n",
    "sequence_pitches_lf = (mirrored_pitches_lf\n",
    "                       .pipe(two_pitch_sequences)\n",
    "                       .pipe(add_diff_features))\n",
    "\n",
    "(sequence_pitches_lf\n",
    "    .select(\"seq_delta_run_exp\", \"distance\", *[f for f in sequence_pitches_lf.collect_schema().names() if f.endswith(\"_diff\")])\n",
    "    .describe())"
   ]
  },
  {
   "cell_type": "code",
   "execution_count": null,
   "metadata": {},
   "outputs": [],
   "source": []
  }
 ],
 "metadata": {
  "kernelspec": {
   "display_name": "venv",
   "language": "python",
   "name": "python3"
  },
  "language_info": {
   "codemirror_mode": {
    "name": "ipython",
    "version": 3
   },
   "file_extension": ".py",
   "mimetype": "text/x-python",
   "name": "python",
   "nbconvert_exporter": "python",
   "pygments_lexer": "ipython3",
   "version": "3.12.6"
  }
 },
 "nbformat": 4,
 "nbformat_minor": 2
}
