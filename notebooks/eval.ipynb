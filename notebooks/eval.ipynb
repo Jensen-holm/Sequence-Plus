{
 "cells": [
  {
   "cell_type": "markdown",
   "metadata": {},
   "source": [
    "# Sequence+ Visualizations & Evaluation\n",
    "\n",
    "***Author***: Jensen Holm"
   ]
  },
  {
   "cell_type": "code",
   "execution_count": 1,
   "metadata": {},
   "outputs": [],
   "source": [
    "import sys\n",
    "import os\n",
    "\n",
    "sys.path.append(os.path.abspath(\"..\"))\n",
    "\n",
    "import polars as pl\n",
    "from IPython.display import Video\n",
    "from utils import get_savant_video\n",
    "\n",
    "DATA_DIR = os.path.join(\"..\", \"data\")"
   ]
  },
  {
   "cell_type": "markdown",
   "metadata": {},
   "source": [
    "## Best Two Pitch Combo's by Sequence+"
   ]
  },
  {
   "cell_type": "code",
   "execution_count": 2,
   "metadata": {},
   "outputs": [
    {
     "data": {
      "text/html": [
       "<div><style>\n",
       ".dataframe > thead > tr,\n",
       ".dataframe > tbody > tr {\n",
       "  text-align: right;\n",
       "  white-space: pre-wrap;\n",
       "}\n",
       "</style>\n",
       "<small>shape: (5, 400)</small><table border=\"1\" class=\"dataframe\"><thead><tr><th>pitcher</th><th>player_name</th><th>combo</th><th>n</th><th>Mean Sequence+</th><th>IDfg</th><th>Season</th><th>Name</th><th>Team</th><th>Age</th><th>W</th><th>L</th><th>WAR</th><th>ERA</th><th>G</th><th>GS</th><th>CG</th><th>ShO</th><th>SV</th><th>BS</th><th>IP</th><th>TBF</th><th>H</th><th>R</th><th>ER</th><th>HR</th><th>BB</th><th>IBB</th><th>HBP</th><th>WP</th><th>BK</th><th>SO</th><th>GB</th><th>FB</th><th>LD</th><th>IFFB</th><th>Balls</th><th>&hellip;</th><th>botCmd FS</th><th>botOvr</th><th>botStf</th><th>botCmd</th><th>botxRV100</th><th>Stf+ CH</th><th>Loc+ CH</th><th>Pit+ CH</th><th>Stf+ CU</th><th>Loc+ CU</th><th>Pit+ CU</th><th>Stf+ FA</th><th>Loc+ FA</th><th>Pit+ FA</th><th>Stf+ SI</th><th>Loc+ SI</th><th>Pit+ SI</th><th>Stf+ SL</th><th>Loc+ SL</th><th>Pit+ SL</th><th>Stf+ KC</th><th>Loc+ KC</th><th>Pit+ KC</th><th>Stf+ FC</th><th>Loc+ FC</th><th>Pit+ FC</th><th>Stf+ FS</th><th>Loc+ FS</th><th>Pit+ FS</th><th>Stuff+</th><th>Location+</th><th>Pitching+</th><th>Stf+ FO</th><th>Loc+ FO</th><th>Pit+ FO</th><th>first_name</th><th>last_name</th></tr><tr><td>i64</td><td>str</td><td>str</td><td>u32</td><td>f64</td><td>i64</td><td>i64</td><td>str</td><td>str</td><td>i64</td><td>i64</td><td>i64</td><td>f64</td><td>f64</td><td>i64</td><td>i64</td><td>i64</td><td>i64</td><td>i64</td><td>i64</td><td>f64</td><td>i64</td><td>i64</td><td>i64</td><td>i64</td><td>i64</td><td>i64</td><td>i64</td><td>i64</td><td>i64</td><td>i64</td><td>i64</td><td>i64</td><td>i64</td><td>i64</td><td>i64</td><td>i64</td><td>&hellip;</td><td>f64</td><td>i64</td><td>i64</td><td>i64</td><td>f64</td><td>f64</td><td>f64</td><td>f64</td><td>f64</td><td>f64</td><td>f64</td><td>f64</td><td>f64</td><td>f64</td><td>f64</td><td>f64</td><td>f64</td><td>f64</td><td>f64</td><td>f64</td><td>f64</td><td>f64</td><td>f64</td><td>f64</td><td>f64</td><td>f64</td><td>f64</td><td>f64</td><td>f64</td><td>i64</td><td>i64</td><td>i64</td><td>f64</td><td>f64</td><td>f64</td><td>str</td><td>str</td></tr></thead><tbody><tr><td>543243</td><td>&quot;Gray,&nbsp;Sonny&quot;</td><td>&quot;SI-SI&quot;</td><td>94</td><td>106.516822</td><td>12768</td><td>2024</td><td>&quot;Sonny&nbsp;Gray&quot;</td><td>&quot;STL&quot;</td><td>34</td><td>13</td><td>9</td><td>3.8</td><td>3.84</td><td>28</td><td>28</td><td>0</td><td>0</td><td>0</td><td>0</td><td>166.1</td><td>671</td><td>142</td><td>79</td><td>71</td><td>21</td><td>39</td><td>0</td><td>3</td><td>7</td><td>1</td><td>203</td><td>176</td><td>147</td><td>93</td><td>11</td><td>835</td><td>&hellip;</td><td>null</td><td>62</td><td>58</td><td>54</td><td>-0.61</td><td>69.0</td><td>91.0</td><td>86.0</td><td>119.0</td><td>96.0</td><td>97.0</td><td>107.0</td><td>97.0</td><td>101.0</td><td>93.0</td><td>114.0</td><td>112.0</td><td>152.0</td><td>114.0</td><td>125.0</td><td>null</td><td>null</td><td>null</td><td>92.0</td><td>98.0</td><td>96.0</td><td>null</td><td>null</td><td>null</td><td>110</td><td>103</td><td>105</td><td>null</td><td>null</td><td>null</td><td>&quot;Sonny&quot;</td><td>&quot;Gray&quot;</td></tr><tr><td>543243</td><td>&quot;Gray,&nbsp;Sonny&quot;</td><td>&quot;FF-ST&quot;</td><td>72</td><td>105.851609</td><td>12768</td><td>2024</td><td>&quot;Sonny&nbsp;Gray&quot;</td><td>&quot;STL&quot;</td><td>34</td><td>13</td><td>9</td><td>3.8</td><td>3.84</td><td>28</td><td>28</td><td>0</td><td>0</td><td>0</td><td>0</td><td>166.1</td><td>671</td><td>142</td><td>79</td><td>71</td><td>21</td><td>39</td><td>0</td><td>3</td><td>7</td><td>1</td><td>203</td><td>176</td><td>147</td><td>93</td><td>11</td><td>835</td><td>&hellip;</td><td>null</td><td>62</td><td>58</td><td>54</td><td>-0.61</td><td>69.0</td><td>91.0</td><td>86.0</td><td>119.0</td><td>96.0</td><td>97.0</td><td>107.0</td><td>97.0</td><td>101.0</td><td>93.0</td><td>114.0</td><td>112.0</td><td>152.0</td><td>114.0</td><td>125.0</td><td>null</td><td>null</td><td>null</td><td>92.0</td><td>98.0</td><td>96.0</td><td>null</td><td>null</td><td>null</td><td>110</td><td>103</td><td>105</td><td>null</td><td>null</td><td>null</td><td>&quot;Sonny&quot;</td><td>&quot;Gray&quot;</td></tr><tr><td>592332</td><td>&quot;Gausman,&nbsp;Kevin&quot;</td><td>&quot;FF-FF&quot;</td><td>869</td><td>105.252293</td><td>14107</td><td>2024</td><td>&quot;Kevin&nbsp;Gausman&quot;</td><td>&quot;TOR&quot;</td><td>33</td><td>14</td><td>11</td><td>2.9</td><td>3.83</td><td>31</td><td>31</td><td>2</td><td>1</td><td>0</td><td>0</td><td>181.0</td><td>756</td><td>165</td><td>86</td><td>77</td><td>20</td><td>56</td><td>0</td><td>2</td><td>3</td><td>2</td><td>162</td><td>204</td><td>225</td><td>104</td><td>13</td><td>1032</td><td>&hellip;</td><td>60.0</td><td>55</td><td>50</td><td>59</td><td>-0.18</td><td>null</td><td>null</td><td>null</td><td>null</td><td>null</td><td>null</td><td>99.0</td><td>105.0</td><td>105.0</td><td>90.0</td><td>102.0</td><td>94.0</td><td>88.0</td><td>90.0</td><td>95.0</td><td>null</td><td>null</td><td>null</td><td>null</td><td>null</td><td>null</td><td>88.0</td><td>108.0</td><td>106.0</td><td>94</td><td>105</td><td>104</td><td>null</td><td>null</td><td>null</td><td>&quot;Kevin&quot;</td><td>&quot;Gausman&quot;</td></tr><tr><td>669923</td><td>&quot;Kirby,&nbsp;George&quot;</td><td>&quot;SI-FF&quot;</td><td>225</td><td>105.137735</td><td>25436</td><td>2024</td><td>&quot;George&nbsp;Kirby&quot;</td><td>&quot;SEA&quot;</td><td>26</td><td>14</td><td>11</td><td>4.2</td><td>3.53</td><td>33</td><td>33</td><td>0</td><td>0</td><td>0</td><td>0</td><td>191.0</td><td>778</td><td>181</td><td>82</td><td>75</td><td>22</td><td>23</td><td>0</td><td>7</td><td>5</td><td>1</td><td>179</td><td>232</td><td>229</td><td>101</td><td>25</td><td>937</td><td>&hellip;</td><td>49.0</td><td>61</td><td>53</td><td>62</td><td>-0.54</td><td>null</td><td>null</td><td>null</td><td>null</td><td>null</td><td>null</td><td>102.0</td><td>107.0</td><td>101.0</td><td>106.0</td><td>108.0</td><td>108.0</td><td>110.0</td><td>104.0</td><td>110.0</td><td>114.0</td><td>110.0</td><td>113.0</td><td>97.0</td><td>99.0</td><td>93.0</td><td>109.0</td><td>100.0</td><td>108.0</td><td>106</td><td>106</td><td>106</td><td>null</td><td>null</td><td>null</td><td>&quot;George&quot;</td><td>&quot;Kirby&quot;</td></tr><tr><td>676710</td><td>&quot;Crawford,&nbsp;Kutter&quot;</td><td>&quot;FF-FS&quot;</td><td>94</td><td>104.95429</td><td>20531</td><td>2024</td><td>&quot;Kutter&nbsp;Crawford&quot;</td><td>&quot;BOS&quot;</td><td>28</td><td>9</td><td>16</td><td>1.9</td><td>4.36</td><td>33</td><td>33</td><td>0</td><td>0</td><td>0</td><td>0</td><td>183.2</td><td>759</td><td>155</td><td>97</td><td>89</td><td>34</td><td>51</td><td>0</td><td>9</td><td>4</td><td>0</td><td>175</td><td>171</td><td>256</td><td>91</td><td>37</td><td>911</td><td>&hellip;</td><td>48.0</td><td>58</td><td>45</td><td>58</td><td>-0.34</td><td>null</td><td>null</td><td>null</td><td>null</td><td>null</td><td>null</td><td>109.0</td><td>109.0</td><td>112.0</td><td>null</td><td>null</td><td>null</td><td>100.0</td><td>99.0</td><td>102.0</td><td>98.0</td><td>97.0</td><td>99.0</td><td>114.0</td><td>104.0</td><td>104.0</td><td>87.0</td><td>102.0</td><td>106.0</td><td>108</td><td>105</td><td>107</td><td>null</td><td>null</td><td>null</td><td>&quot;Kutter&quot;</td><td>&quot;Crawford&quot;</td></tr></tbody></table></div>"
      ],
      "text/plain": [
       "shape: (5, 400)\n",
       "┌─────────┬──────────────────┬───────┬─────┬───┬─────────┬─────────┬────────────┬───────────┐\n",
       "│ pitcher ┆ player_name      ┆ combo ┆ n   ┆ … ┆ Loc+ FO ┆ Pit+ FO ┆ first_name ┆ last_name │\n",
       "│ ---     ┆ ---              ┆ ---   ┆ --- ┆   ┆ ---     ┆ ---     ┆ ---        ┆ ---       │\n",
       "│ i64     ┆ str              ┆ str   ┆ u32 ┆   ┆ f64     ┆ f64     ┆ str        ┆ str       │\n",
       "╞═════════╪══════════════════╪═══════╪═════╪═══╪═════════╪═════════╪════════════╪═══════════╡\n",
       "│ 543243  ┆ Gray, Sonny      ┆ SI-SI ┆ 94  ┆ … ┆ null    ┆ null    ┆ Sonny      ┆ Gray      │\n",
       "│ 543243  ┆ Gray, Sonny      ┆ FF-ST ┆ 72  ┆ … ┆ null    ┆ null    ┆ Sonny      ┆ Gray      │\n",
       "│ 592332  ┆ Gausman, Kevin   ┆ FF-FF ┆ 869 ┆ … ┆ null    ┆ null    ┆ Kevin      ┆ Gausman   │\n",
       "│ 669923  ┆ Kirby, George    ┆ SI-FF ┆ 225 ┆ … ┆ null    ┆ null    ┆ George     ┆ Kirby     │\n",
       "│ 676710  ┆ Crawford, Kutter ┆ FF-FS ┆ 94  ┆ … ┆ null    ┆ null    ┆ Kutter     ┆ Crawford  │\n",
       "└─────────┴──────────────────┴───────┴─────┴───┴─────────┴─────────┴────────────┴───────────┘"
      ]
     },
     "execution_count": 2,
     "metadata": {},
     "output_type": "execute_result"
    }
   ],
   "source": [
    "combo_df = pl.read_parquet(\n",
    "    os.path.join(DATA_DIR, \"mean_sequence+_combo_leaderboard.parquet\")\n",
    ")\n",
    "\n",
    "combo_df.head()"
   ]
  },
  {
   "cell_type": "code",
   "execution_count": 3,
   "metadata": {},
   "outputs": [
    {
     "data": {
      "text/html": [
       "<div><style>\n",
       ".dataframe > thead > tr,\n",
       ".dataframe > tbody > tr {\n",
       "  text-align: right;\n",
       "  white-space: pre-wrap;\n",
       "}\n",
       "</style>\n",
       "<small>shape: (5, 400)</small><table border=\"1\" class=\"dataframe\"><thead><tr><th>pitcher</th><th>player_name</th><th>combo</th><th>n</th><th>Mean Sequence+</th><th>IDfg</th><th>Season</th><th>Name</th><th>Team</th><th>Age</th><th>W</th><th>L</th><th>WAR</th><th>ERA</th><th>G</th><th>GS</th><th>CG</th><th>ShO</th><th>SV</th><th>BS</th><th>IP</th><th>TBF</th><th>H</th><th>R</th><th>ER</th><th>HR</th><th>BB</th><th>IBB</th><th>HBP</th><th>WP</th><th>BK</th><th>SO</th><th>GB</th><th>FB</th><th>LD</th><th>IFFB</th><th>Balls</th><th>&hellip;</th><th>botCmd FS</th><th>botOvr</th><th>botStf</th><th>botCmd</th><th>botxRV100</th><th>Stf+ CH</th><th>Loc+ CH</th><th>Pit+ CH</th><th>Stf+ CU</th><th>Loc+ CU</th><th>Pit+ CU</th><th>Stf+ FA</th><th>Loc+ FA</th><th>Pit+ FA</th><th>Stf+ SI</th><th>Loc+ SI</th><th>Pit+ SI</th><th>Stf+ SL</th><th>Loc+ SL</th><th>Pit+ SL</th><th>Stf+ KC</th><th>Loc+ KC</th><th>Pit+ KC</th><th>Stf+ FC</th><th>Loc+ FC</th><th>Pit+ FC</th><th>Stf+ FS</th><th>Loc+ FS</th><th>Pit+ FS</th><th>Stuff+</th><th>Location+</th><th>Pitching+</th><th>Stf+ FO</th><th>Loc+ FO</th><th>Pit+ FO</th><th>first_name</th><th>last_name</th></tr><tr><td>i64</td><td>str</td><td>str</td><td>u32</td><td>f64</td><td>i64</td><td>i64</td><td>str</td><td>str</td><td>i64</td><td>i64</td><td>i64</td><td>f64</td><td>f64</td><td>i64</td><td>i64</td><td>i64</td><td>i64</td><td>i64</td><td>i64</td><td>f64</td><td>i64</td><td>i64</td><td>i64</td><td>i64</td><td>i64</td><td>i64</td><td>i64</td><td>i64</td><td>i64</td><td>i64</td><td>i64</td><td>i64</td><td>i64</td><td>i64</td><td>i64</td><td>i64</td><td>&hellip;</td><td>f64</td><td>i64</td><td>i64</td><td>i64</td><td>f64</td><td>f64</td><td>f64</td><td>f64</td><td>f64</td><td>f64</td><td>f64</td><td>f64</td><td>f64</td><td>f64</td><td>f64</td><td>f64</td><td>f64</td><td>f64</td><td>f64</td><td>f64</td><td>f64</td><td>f64</td><td>f64</td><td>f64</td><td>f64</td><td>f64</td><td>f64</td><td>f64</td><td>f64</td><td>i64</td><td>i64</td><td>i64</td><td>f64</td><td>f64</td><td>f64</td><td>str</td><td>str</td></tr></thead><tbody><tr><td>543243</td><td>&quot;Gray,&nbsp;Sonny&quot;</td><td>&quot;FF-ST&quot;</td><td>72</td><td>105.851609</td><td>12768</td><td>2024</td><td>&quot;Sonny&nbsp;Gray&quot;</td><td>&quot;STL&quot;</td><td>34</td><td>13</td><td>9</td><td>3.8</td><td>3.84</td><td>28</td><td>28</td><td>0</td><td>0</td><td>0</td><td>0</td><td>166.1</td><td>671</td><td>142</td><td>79</td><td>71</td><td>21</td><td>39</td><td>0</td><td>3</td><td>7</td><td>1</td><td>203</td><td>176</td><td>147</td><td>93</td><td>11</td><td>835</td><td>&hellip;</td><td>null</td><td>62</td><td>58</td><td>54</td><td>-0.61</td><td>69.0</td><td>91.0</td><td>86.0</td><td>119.0</td><td>96.0</td><td>97.0</td><td>107.0</td><td>97.0</td><td>101.0</td><td>93.0</td><td>114.0</td><td>112.0</td><td>152.0</td><td>114.0</td><td>125.0</td><td>null</td><td>null</td><td>null</td><td>92.0</td><td>98.0</td><td>96.0</td><td>null</td><td>null</td><td>null</td><td>110</td><td>103</td><td>105</td><td>null</td><td>null</td><td>null</td><td>&quot;Sonny&quot;</td><td>&quot;Gray&quot;</td></tr><tr><td>669923</td><td>&quot;Kirby,&nbsp;George&quot;</td><td>&quot;SI-FF&quot;</td><td>225</td><td>105.137735</td><td>25436</td><td>2024</td><td>&quot;George&nbsp;Kirby&quot;</td><td>&quot;SEA&quot;</td><td>26</td><td>14</td><td>11</td><td>4.2</td><td>3.53</td><td>33</td><td>33</td><td>0</td><td>0</td><td>0</td><td>0</td><td>191.0</td><td>778</td><td>181</td><td>82</td><td>75</td><td>22</td><td>23</td><td>0</td><td>7</td><td>5</td><td>1</td><td>179</td><td>232</td><td>229</td><td>101</td><td>25</td><td>937</td><td>&hellip;</td><td>49.0</td><td>61</td><td>53</td><td>62</td><td>-0.54</td><td>null</td><td>null</td><td>null</td><td>null</td><td>null</td><td>null</td><td>102.0</td><td>107.0</td><td>101.0</td><td>106.0</td><td>108.0</td><td>108.0</td><td>110.0</td><td>104.0</td><td>110.0</td><td>114.0</td><td>110.0</td><td>113.0</td><td>97.0</td><td>99.0</td><td>93.0</td><td>109.0</td><td>100.0</td><td>108.0</td><td>106</td><td>106</td><td>106</td><td>null</td><td>null</td><td>null</td><td>&quot;George&quot;</td><td>&quot;Kirby&quot;</td></tr><tr><td>676710</td><td>&quot;Crawford,&nbsp;Kutter&quot;</td><td>&quot;FF-FS&quot;</td><td>94</td><td>104.95429</td><td>20531</td><td>2024</td><td>&quot;Kutter&nbsp;Crawford&quot;</td><td>&quot;BOS&quot;</td><td>28</td><td>9</td><td>16</td><td>1.9</td><td>4.36</td><td>33</td><td>33</td><td>0</td><td>0</td><td>0</td><td>0</td><td>183.2</td><td>759</td><td>155</td><td>97</td><td>89</td><td>34</td><td>51</td><td>0</td><td>9</td><td>4</td><td>0</td><td>175</td><td>171</td><td>256</td><td>91</td><td>37</td><td>911</td><td>&hellip;</td><td>48.0</td><td>58</td><td>45</td><td>58</td><td>-0.34</td><td>null</td><td>null</td><td>null</td><td>null</td><td>null</td><td>null</td><td>109.0</td><td>109.0</td><td>112.0</td><td>null</td><td>null</td><td>null</td><td>100.0</td><td>99.0</td><td>102.0</td><td>98.0</td><td>97.0</td><td>99.0</td><td>114.0</td><td>104.0</td><td>104.0</td><td>87.0</td><td>102.0</td><td>106.0</td><td>108</td><td>105</td><td>107</td><td>null</td><td>null</td><td>null</td><td>&quot;Kutter&quot;</td><td>&quot;Crawford&quot;</td></tr><tr><td>682243</td><td>&quot;Miller,&nbsp;Bryce&quot;</td><td>&quot;ST-FS&quot;</td><td>54</td><td>104.699123</td><td>29837</td><td>2024</td><td>&quot;Bryce&nbsp;Miller&quot;</td><td>&quot;SEA&quot;</td><td>25</td><td>12</td><td>8</td><td>2.8</td><td>2.94</td><td>31</td><td>31</td><td>0</td><td>0</td><td>0</td><td>0</td><td>180.1</td><td>704</td><td>131</td><td>62</td><td>59</td><td>21</td><td>45</td><td>1</td><td>3</td><td>2</td><td>0</td><td>171</td><td>184</td><td>213</td><td>86</td><td>16</td><td>959</td><td>&hellip;</td><td>56.0</td><td>61</td><td>54</td><td>54</td><td>-0.55</td><td>null</td><td>null</td><td>null</td><td>null</td><td>null</td><td>null</td><td>124.0</td><td>102.0</td><td>106.0</td><td>100.0</td><td>102.0</td><td>99.0</td><td>122.0</td><td>96.0</td><td>101.0</td><td>92.0</td><td>104.0</td><td>111.0</td><td>93.0</td><td>80.0</td><td>85.0</td><td>95.0</td><td>107.0</td><td>111.0</td><td>112</td><td>101</td><td>105</td><td>null</td><td>null</td><td>null</td><td>&quot;Bryce&quot;</td><td>&quot;Miller&quot;</td></tr><tr><td>592791</td><td>&quot;Taillon,&nbsp;Jameson&quot;</td><td>&quot;FC-ST&quot;</td><td>98</td><td>104.49659</td><td>11674</td><td>2024</td><td>&quot;Jameson&nbsp;Taillon&quot;</td><td>&quot;CHC&quot;</td><td>32</td><td>12</td><td>8</td><td>2.3</td><td>3.27</td><td>28</td><td>28</td><td>0</td><td>0</td><td>0</td><td>0</td><td>165.1</td><td>675</td><td>154</td><td>67</td><td>60</td><td>21</td><td>33</td><td>0</td><td>1</td><td>4</td><td>2</td><td>125</td><td>204</td><td>206</td><td>99</td><td>14</td><td>833</td><td>&hellip;</td><td>null</td><td>56</td><td>41</td><td>65</td><td>-0.24</td><td>78.0</td><td>102.0</td><td>95.0</td><td>104.0</td><td>111.0</td><td>113.0</td><td>66.0</td><td>106.0</td><td>96.0</td><td>74.0</td><td>104.0</td><td>92.0</td><td>104.0</td><td>116.0</td><td>120.0</td><td>null</td><td>null</td><td>null</td><td>92.0</td><td>103.0</td><td>98.0</td><td>null</td><td>null</td><td>null</td><td>85</td><td>107</td><td>102</td><td>null</td><td>null</td><td>null</td><td>&quot;Jameson&quot;</td><td>&quot;Taillon&quot;</td></tr></tbody></table></div>"
      ],
      "text/plain": [
       "shape: (5, 400)\n",
       "┌─────────┬──────────────────┬───────┬─────┬───┬─────────┬─────────┬────────────┬───────────┐\n",
       "│ pitcher ┆ player_name      ┆ combo ┆ n   ┆ … ┆ Loc+ FO ┆ Pit+ FO ┆ first_name ┆ last_name │\n",
       "│ ---     ┆ ---              ┆ ---   ┆ --- ┆   ┆ ---     ┆ ---     ┆ ---        ┆ ---       │\n",
       "│ i64     ┆ str              ┆ str   ┆ u32 ┆   ┆ f64     ┆ f64     ┆ str        ┆ str       │\n",
       "╞═════════╪══════════════════╪═══════╪═════╪═══╪═════════╪═════════╪════════════╪═══════════╡\n",
       "│ 543243  ┆ Gray, Sonny      ┆ FF-ST ┆ 72  ┆ … ┆ null    ┆ null    ┆ Sonny      ┆ Gray      │\n",
       "│ 669923  ┆ Kirby, George    ┆ SI-FF ┆ 225 ┆ … ┆ null    ┆ null    ┆ George     ┆ Kirby     │\n",
       "│ 676710  ┆ Crawford, Kutter ┆ FF-FS ┆ 94  ┆ … ┆ null    ┆ null    ┆ Kutter     ┆ Crawford  │\n",
       "│ 682243  ┆ Miller, Bryce    ┆ ST-FS ┆ 54  ┆ … ┆ null    ┆ null    ┆ Bryce      ┆ Miller    │\n",
       "│ 592791  ┆ Taillon, Jameson ┆ FC-ST ┆ 98  ┆ … ┆ null    ┆ null    ┆ Jameson    ┆ Taillon   │\n",
       "└─────────┴──────────────────┴───────┴─────┴───┴─────────┴─────────┴────────────┴───────────┘"
      ]
     },
     "execution_count": 3,
     "metadata": {},
     "output_type": "execute_result"
    }
   ],
   "source": [
    "# right now, not interested in two pitch combos of the same pitch.\n",
    "# this is an issue that I want to look into in the future. The model should ideally\n",
    "# not be awarding seqeunces with pitches of the same type a high number.\n",
    "combo_df = combo_df.filter(\n",
    "    pl.col(\"combo\").str.split(\"-\").list.get(0) != \n",
    "    pl.col(\"combo\").str.split(\"-\").list.get(1)\n",
    ")\n",
    "\n",
    "combo_df.head()"
   ]
  },
  {
   "cell_type": "code",
   "execution_count": 11,
   "metadata": {},
   "outputs": [
    {
     "name": "stderr",
     "output_type": "stream",
     "text": [
      "100%|██████████| 2/2 [00:04<00:00,  2.03s/it]\n",
      "100%|██████████| 2/2 [00:02<00:00,  1.21s/it]"
     ]
    },
    {
     "name": "stdout",
     "output_type": "stream",
     "text": [
      "117.0591306264227\n"
     ]
    },
    {
     "name": "stderr",
     "output_type": "stream",
     "text": [
      "\n"
     ]
    }
   ],
   "source": [
    "# I want to take a look at some of these sequences by sonny gray and george kirby\n",
    "gray_miller_24_df = (pl.scan_parquet(os.path.join(DATA_DIR, \"pitches_sequence+.parquet\"))\n",
    "                     .with_columns(\n",
    "                        (pl.col(\"pitch_type\") + \"-\" + pl.col(\"prev_pitch_type\")).alias(\"combo\")\n",
    "                     )\n",
    "                     .filter(\n",
    "                        pl.col(\"game_date\").dt.year() == 2024,\n",
    "                         pl.col(\"player_name\").is_in([\"Kirby, George\"]) &\n",
    "                         pl.col(\"combo\").is_in([\"SL-FF\"]),\n",
    "                     )\n",
    "                     .sort(\"Sequence+\", descending=True)\n",
    "                     .collect())\n",
    "\n",
    "pitches = gray_miller_24_df.slice(0, 1)\n",
    "prev_pitches = pitches.select(\n",
    "    \"game_pk\",\n",
    "    \"inning\",\n",
    "    \"at_bat_number\",\n",
    "    \"pitch_number\",\n",
    ")\n",
    "\n",
    "_ = get_savant_video(plays=pitches)\n",
    "_ = get_savant_video(plays=prev_pitches.with_columns(\n",
    "    (pl.col(\"pitch_number\") - 1).alias(\"pitch_number\")\n",
    "))\n",
    "\n",
    "print(pitches.select(\"Sequence+\").item())"
   ]
  },
  {
   "cell_type": "code",
   "execution_count": 6,
   "metadata": {},
   "outputs": [
    {
     "name": "stderr",
     "output_type": "stream",
     "text": [
      "100%|██████████| 2/2 [00:00<00:00,  2.14it/s]\n",
      "100%|██████████| 2/2 [00:00<00:00,  3.15it/s]"
     ]
    },
    {
     "name": "stdout",
     "output_type": "stream",
     "text": [
      "115.28702374069077\n"
     ]
    },
    {
     "name": "stderr",
     "output_type": "stream",
     "text": [
      "\n"
     ]
    }
   ],
   "source": [
    "# I want to take a look at some of these sequences by sonny gray and george kirby\n",
    "gray_miller_24_df = (pl.scan_parquet(os.path.join(DATA_DIR, \"pitches_sequence+.parquet\"))\n",
    "                     .with_columns(\n",
    "                        (pl.col(\"pitch_type\") + \"-\" + pl.col(\"prev_pitch_type\")).alias(\"combo\")\n",
    "                     )\n",
    "                     .filter(\n",
    "                        pl.col(\"game_date\").dt.year() == 2024,\n",
    "                         pl.col(\"player_name\").is_in([\"Gray, Sonny\"]) &\n",
    "                         pl.col(\"combo\").is_in([\"FF-ST\"]),\n",
    "                     )\n",
    "                     .sort(\"Sequence+\", descending=True)\n",
    "                     .collect())\n",
    "\n",
    "pitches = gray_miller_24_df.slice(0, 1)\n",
    "prev_pitches = pitches.select(\n",
    "    \"game_pk\",\n",
    "    \"inning\",\n",
    "    \"at_bat_number\",\n",
    "    \"pitch_number\",\n",
    ")\n",
    "\n",
    "_ = get_savant_video(plays=pitches)\n",
    "_ = get_savant_video(plays=prev_pitches.with_columns(\n",
    "    (pl.col(\"pitch_number\") - 1).alias(\"pitch_number\")\n",
    "))\n",
    "\n",
    "print(pitches.select(\"Sequence+\").item())"
   ]
  },
  {
   "cell_type": "markdown",
   "metadata": {},
   "source": [
    "## Video of best sequences by Sequence+"
   ]
  },
  {
   "cell_type": "code",
   "execution_count": null,
   "metadata": {},
   "outputs": [],
   "source": []
  }
 ],
 "metadata": {
  "kernelspec": {
   "display_name": "venv",
   "language": "python",
   "name": "python3"
  },
  "language_info": {
   "codemirror_mode": {
    "name": "ipython",
    "version": 3
   },
   "file_extension": ".py",
   "mimetype": "text/x-python",
   "name": "python",
   "nbconvert_exporter": "python",
   "pygments_lexer": "ipython3",
   "version": "3.13.0"
  }
 },
 "nbformat": 4,
 "nbformat_minor": 2
}
