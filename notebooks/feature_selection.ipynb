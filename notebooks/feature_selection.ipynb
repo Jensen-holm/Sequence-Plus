{
 "cells": [
  {
   "cell_type": "markdown",
   "metadata": {},
   "source": [
    "# Sequence+ Feature Selection\n",
    "\n",
    "**Goal**: Select pitch sequence features that best explain variance in expected run value<br>\n",
    "**Author**: Jensen Holm <br>\n",
    "**Date**: November 2024"
   ]
  },
  {
   "cell_type": "code",
   "execution_count": 1,
   "metadata": {},
   "outputs": [],
   "source": [
    "import polars as pl\n",
    "from plotnine import *\n",
    "import os\n",
    "\n",
    "DATA_DIR = os.path.join(\"..\", \"data\")"
   ]
  },
  {
   "cell_type": "markdown",
   "metadata": {},
   "source": [
    "## Load Data\n",
    "\n",
    "the `feature_engineering.ipynb` notebook was ran before this, and saved a serialized version of the pl.LazyFrame plan with the engineered features in our training data. This was saved as `../data/sequence_pitches_lf`"
   ]
  },
  {
   "cell_type": "code",
   "execution_count": null,
   "metadata": {},
   "outputs": [
    {
     "data": {
      "text/html": [
       "<div><style>\n",
       ".dataframe > thead > tr,\n",
       ".dataframe > tbody > tr {\n",
       "  text-align: right;\n",
       "  white-space: pre-wrap;\n",
       "}\n",
       "</style>\n",
       "<small>shape: (5, 7)</small><table border=\"1\" class=\"dataframe\"><thead><tr><th>game_date</th><th>player_name</th><th>pitch_type</th><th>prev_pitch_type</th><th>3d_dist_0.120</th><th>3d_dist_0.167</th><th>3d_dist_release</th></tr><tr><td>datetime[μs]</td><td>str</td><td>str</td><td>str</td><td>f64</td><td>f64</td><td>f64</td></tr></thead><tbody><tr><td>2017-11-01 00:00:00</td><td>&quot;Morton, Charlie&quot;</td><td>&quot;FF&quot;</td><td>null</td><td>null</td><td>null</td><td>null</td></tr><tr><td>2017-11-01 00:00:00</td><td>&quot;Morton, Charlie&quot;</td><td>&quot;FF&quot;</td><td>&quot;FF&quot;</td><td>0.306286</td><td>0.439499</td><td>0.09229</td></tr><tr><td>2017-11-01 00:00:00</td><td>&quot;Morton, Charlie&quot;</td><td>&quot;FF&quot;</td><td>&quot;FF&quot;</td><td>0.42133</td><td>0.533687</td><td>0.151337</td></tr><tr><td>2017-11-01 00:00:00</td><td>&quot;Morton, Charlie&quot;</td><td>&quot;FF&quot;</td><td>&quot;FF&quot;</td><td>0.165878</td><td>0.234988</td><td>0.0425</td></tr><tr><td>2017-11-01 00:00:00</td><td>&quot;Morton, Charlie&quot;</td><td>&quot;FF&quot;</td><td>&quot;FF&quot;</td><td>0.177136</td><td>0.220929</td><td>0.072691</td></tr></tbody></table></div>"
      ],
      "text/plain": [
       "shape: (5, 7)\n",
       "┌──────────────┬──────────────┬────────────┬─────────────┬─────────────┬─────────────┬─────────────┐\n",
       "│ game_date    ┆ player_name  ┆ pitch_type ┆ prev_pitch_ ┆ 3d_dist_0.1 ┆ 3d_dist_0.1 ┆ 3d_dist_rel │\n",
       "│ ---          ┆ ---          ┆ ---        ┆ type        ┆ 20          ┆ 67          ┆ ease        │\n",
       "│ datetime[μs] ┆ str          ┆ str        ┆ ---         ┆ ---         ┆ ---         ┆ ---         │\n",
       "│              ┆              ┆            ┆ str         ┆ f64         ┆ f64         ┆ f64         │\n",
       "╞══════════════╪══════════════╪════════════╪═════════════╪═════════════╪═════════════╪═════════════╡\n",
       "│ 2017-11-01   ┆ Morton,      ┆ FF         ┆ null        ┆ null        ┆ null        ┆ null        │\n",
       "│ 00:00:00     ┆ Charlie      ┆            ┆             ┆             ┆             ┆             │\n",
       "│ 2017-11-01   ┆ Morton,      ┆ FF         ┆ FF          ┆ 0.306286    ┆ 0.439499    ┆ 0.09229     │\n",
       "│ 00:00:00     ┆ Charlie      ┆            ┆             ┆             ┆             ┆             │\n",
       "│ 2017-11-01   ┆ Morton,      ┆ FF         ┆ FF          ┆ 0.42133     ┆ 0.533687    ┆ 0.151337    │\n",
       "│ 00:00:00     ┆ Charlie      ┆            ┆             ┆             ┆             ┆             │\n",
       "│ 2017-11-01   ┆ Morton,      ┆ FF         ┆ FF          ┆ 0.165878    ┆ 0.234988    ┆ 0.0425      │\n",
       "│ 00:00:00     ┆ Charlie      ┆            ┆             ┆             ┆             ┆             │\n",
       "│ 2017-11-01   ┆ Morton,      ┆ FF         ┆ FF          ┆ 0.177136    ┆ 0.220929    ┆ 0.072691    │\n",
       "│ 00:00:00     ┆ Charlie      ┆            ┆             ┆             ┆             ┆             │\n",
       "└──────────────┴──────────────┴────────────┴─────────────┴─────────────┴─────────────┴─────────────┘"
      ]
     },
     "execution_count": 2,
     "metadata": {},
     "output_type": "execute_result"
    }
   ],
   "source": [
    "sequence_pitches_lf = pl.LazyFrame.deserialize(\n",
    "    source=os.path.join(DATA_DIR, \"sequence_pitches_lf\")\n",
    ")\n",
    "\n",
    "# make sure it loads properly by showing 5 pitches\n",
    "# with some of the features made in feature_engineering.ipynb\n",
    "(sequence_pitches_lf\n",
    "    .select(\"game_date\", \"player_name\", \"pitch_type\", \"prev_pitch_type\", \n",
    "            \"3d_dist_0.120\", \"3d_dist_0.167\", \"3d_dist_release\")\n",
    "    .slice(0, 5)\n",
    "    .collect())"
   ]
  },
  {
   "cell_type": "code",
   "execution_count": null,
   "metadata": {},
   "outputs": [],
   "source": []
  }
 ],
 "metadata": {
  "kernelspec": {
   "display_name": "venv",
   "language": "python",
   "name": "python3"
  },
  "language_info": {
   "codemirror_mode": {
    "name": "ipython",
    "version": 3
   },
   "file_extension": ".py",
   "mimetype": "text/x-python",
   "name": "python",
   "nbconvert_exporter": "python",
   "pygments_lexer": "ipython3",
   "version": "3.12.6"
  }
 },
 "nbformat": 4,
 "nbformat_minor": 2
}
