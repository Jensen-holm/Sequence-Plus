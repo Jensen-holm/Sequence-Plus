{
  "cells": [
    {
      "cell_type": "markdown",
      "metadata": {
        "id": "IhyQM2zcCA_0"
      },
      "source": [
        "# Tunnel+\n",
        "\n",
        "***Goal***: To make an improved version of [Location+](https://library.fangraphs.com/pitching/stuff-location-and-pitching-primer/) that incorporates pitch tunneling. <br>\n",
        "**Author**: Jensen Holm <br>\n",
        "**Date**: 2024"
      ]
    },
    {
      "cell_type": "code",
      "source": [
        "!pip install git+https://github.com/Jensen-holm/statcast-era-pitches.git"
      ],
      "metadata": {
        "id": "jkwb1-bZCE7n",
        "outputId": "b340c153-8717-43be-b39b-f32df8d3942a",
        "colab": {
          "base_uri": "https://localhost:8080/"
        }
      },
      "execution_count": 1,
      "outputs": [
        {
          "output_type": "stream",
          "name": "stdout",
          "text": [
            "Collecting git+https://github.com/Jensen-holm/statcast-era-pitches.git\n",
            "  Cloning https://github.com/Jensen-holm/statcast-era-pitches.git to /tmp/pip-req-build-9amdkiyz\n",
            "  Running command git clone --filter=blob:none --quiet https://github.com/Jensen-holm/statcast-era-pitches.git /tmp/pip-req-build-9amdkiyz\n",
            "  Resolved https://github.com/Jensen-holm/statcast-era-pitches.git to commit 6ff4dcb3e47835ef8efbfd8fcddbe490d54fd7ae\n",
            "  Installing build dependencies ... \u001b[?25l\u001b[?25hdone\n",
            "  Getting requirements to build wheel ... \u001b[?25l\u001b[?25hdone\n",
            "  Preparing metadata (pyproject.toml) ... \u001b[?25l\u001b[?25hdone\n",
            "Requirement already satisfied: duckdb in /usr/local/lib/python3.10/dist-packages (from statcast_pitches==0.1.0) (1.1.2)\n",
            "Requirement already satisfied: polars in /usr/local/lib/python3.10/dist-packages (from statcast_pitches==0.1.0) (1.9.0)\n",
            "Requirement already satisfied: pyarrow in /usr/local/lib/python3.10/dist-packages (from statcast_pitches==0.1.0) (17.0.0)\n",
            "Requirement already satisfied: numpy>=1.16.6 in /usr/local/lib/python3.10/dist-packages (from pyarrow->statcast_pitches==0.1.0) (1.26.4)\n"
          ]
        }
      ]
    },
    {
      "cell_type": "code",
      "execution_count": 2,
      "metadata": {
        "id": "dd-JEg8_CA_2"
      },
      "outputs": [],
      "source": [
        "import statcast_pitches\n",
        "import polars as pl\n",
        "from plotnine import *\n",
        "import plotly.express as px"
      ]
    },
    {
      "cell_type": "markdown",
      "metadata": {
        "id": "1OchF0j5CA_2"
      },
      "source": [
        "## Loading Data\n",
        "\n",
        "Using all pitches thrown in the statcast-era (2015-present) as our data for this model. <br>\n",
        "I will also be using `../data/run_values.csv` for calculating run values of each pitch, this data represents 2024 only.\n",
        "\n",
        "**Data Dictionary**: [link](https://baseballsavant.mlb.com/csv-docs) <br>\n",
        "**statcast_pitches package info**: [link](https://github.com/Jensen-holm/statcast-era-pitches)"
      ]
    },
    {
      "cell_type": "code",
      "execution_count": 3,
      "metadata": {
        "id": "tuo74Jy-CA_2",
        "outputId": "56d6c862-afa6-4ccb-827b-55ec74d16272",
        "colab": {
          "base_uri": "https://localhost:8080/"
        }
      },
      "outputs": [
        {
          "output_type": "stream",
          "name": "stdout",
          "text": [
            "N Pitches: 5573157\n",
            "Date Range: 2017-04-02 - 2024-10-30\n"
          ]
        }
      ],
      "source": [
        "# use statcast pitches to get all pitches thrown in since hawkeye began\n",
        "pitches_lf: pl.LazyFrame = (statcast_pitches.load()\n",
        "                            .filter(pl.col(\"game_date\").dt.year() >= 2017))\n",
        "\n",
        "latest_date = pitches_lf.select(\"game_date\").max().collect().item().date()\n",
        "earliest_date = pitches_lf.select(\"game_date\").min().collect().item().date()\n",
        "n_pitches = pitches_lf.select(pl.len()).collect().item()\n",
        "\n",
        "print(f\"N Pitches: {n_pitches}\")\n",
        "print(f\"Date Range: {earliest_date} - {latest_date}\")"
      ]
    },
    {
      "cell_type": "code",
      "execution_count": 4,
      "metadata": {
        "id": "a68fgGrJCA_3"
      },
      "outputs": [],
      "source": [
        "run_values_24 = pl.scan_csv(\n",
        "    \"https://raw.githubusercontent.com/Jensen-holm/tunnel-plus/refs/heads/main/data/run_values.csv\",\n",
        ").rename({\"event\": \"events\"}) # it is called 'events' in pitches_df"
      ]
    },
    {
      "cell_type": "markdown",
      "metadata": {
        "id": "fgooM30WCA_3"
      },
      "source": [
        "## Feature Engineering\n",
        "\n",
        "adding the following features to `pitches_df`\n",
        "\n",
        "| Feature Name | Description |\n",
        "|------|-------------|\n",
        "| **delta_run_exp** | run value associated with the pitch outcome from `run_values_24`|\n",
        "| **x_0.120** | position in the x dimension of the pitch at decision time (~0.12s) |\n",
        "| **y_0.120** | position in the y dimension of the pitch at decision time (~0.12s) |\n",
        "| **z_0.120** | position in the z dimension of the pitch at decision time (~0.12s) |\n",
        "| **x_0.167** | position in the x dimension of the pitch at commit time (~0.167s) |\n",
        "| **y_0.167** | position in the y dimension of the pitch at commit time (~0.167s) |\n",
        "| **z_0.167** | position in the z dimension of the pitch at commit time (~0.167s) |\n",
        "| **velocity_diff** | difference in velocity between pitches in a two pitch sequence |\n",
        "| **effective_velocity_diff** | difference in effective velocity between pitches in a two pitch sequence |\n",
        "| **pfx_x_diff** | difference in horizontal movement between pitches in a two pitch sequence |\n",
        "| **pfx_z_diff** | difference in vertical movement between pitches in a two pitch sequence |\n",
        "| **3d_dist_0.167** | 3D euclidean distance between pitches in a two pitch sequence 0.167 seconds after release |\n",
        "| **3d_dist_0.120** | 3D distance between pitches in a two pitch sequence at 0.120 seconds after release |\n",
        "| **distance** | 2D euclidean distance between pitch locations when crossing the plate in a two pitch sequence |\n",
        "| **seq_delta_run_exp** | sum of `delta_run_exp` in a two pitch sequence |\n",
        "| **plate_x_diff** | difference in plate_x between pitches in a two pitch sequence |\n",
        "| **plate_z_diff** | difference in plate_z between pitches in a two pitch sequence |\n",
        "\n",
        "On top of adding these features, attributes from LHP should be mirrored as if they were thrown by a RHP for consistency"
      ]
    },
    {
      "cell_type": "markdown",
      "metadata": {
        "id": "_Kua2vl3CA_3"
      },
      "source": [
        "Adding `delta_run_exp` first"
      ]
    },
    {
      "cell_type": "code",
      "execution_count": 5,
      "metadata": {
        "id": "1fvGzlTLCA_3",
        "outputId": "7263ba53-d2c2-4629-d68a-4f07019add57",
        "colab": {
          "base_uri": "https://localhost:8080/",
          "height": 376
        }
      },
      "outputs": [
        {
          "output_type": "execute_result",
          "data": {
            "text/plain": [
              "shape: (9, 6)\n",
              "┌────────────┬────────────┬─────────────────────────┬────────────┬────────────┬───────────────┐\n",
              "│ statistic  ┆ pitch_type ┆ description             ┆ balls      ┆ strikes    ┆ delta_run_exp │\n",
              "│ ---        ┆ ---        ┆ ---                     ┆ ---        ┆ ---        ┆ ---           │\n",
              "│ str        ┆ str        ┆ str                     ┆ f64        ┆ f64        ┆ f64           │\n",
              "╞════════════╪════════════╪═════════════════════════╪════════════╪════════════╪═══════════════╡\n",
              "│ count      ┆ 5477692    ┆ 5573157                 ┆ 5.573157e6 ┆ 5.573157e6 ┆ 5.383124e6    │\n",
              "│ null_count ┆ 95465      ┆ 0                       ┆ 0.0        ┆ 0.0        ┆ 190033.0      │\n",
              "│ mean       ┆ null       ┆ null                    ┆ 0.875817   ┆ 0.891433   ┆ 0.000004      │\n",
              "│ std        ┆ null       ┆ null                    ┆ 0.96787    ┆ 0.827898   ┆ 0.243725      │\n",
              "│ min        ┆ CH         ┆ ball                    ┆ 0.0        ┆ 0.0        ┆ -1.661        │\n",
              "│ 25%        ┆ null       ┆ null                    ┆ 0.0        ┆ 0.0        ┆ -0.067        │\n",
              "│ 50%        ┆ null       ┆ null                    ┆ 1.0        ┆ 1.0        ┆ -0.018        │\n",
              "│ 75%        ┆ null       ┆ null                    ┆ 1.0        ┆ 2.0        ┆ 0.037         │\n",
              "│ max        ┆ SV         ┆ swinging_strike_blocked ┆ 4.0        ┆ 3.0        ┆ 3.702         │\n",
              "└────────────┴────────────┴─────────────────────────┴────────────┴────────────┴───────────────┘"
            ],
            "text/html": [
              "<div><style>\n",
              ".dataframe > thead > tr,\n",
              ".dataframe > tbody > tr {\n",
              "  text-align: right;\n",
              "  white-space: pre-wrap;\n",
              "}\n",
              "</style>\n",
              "<small>shape: (9, 6)</small><table border=\"1\" class=\"dataframe\"><thead><tr><th>statistic</th><th>pitch_type</th><th>description</th><th>balls</th><th>strikes</th><th>delta_run_exp</th></tr><tr><td>str</td><td>str</td><td>str</td><td>f64</td><td>f64</td><td>f64</td></tr></thead><tbody><tr><td>&quot;count&quot;</td><td>&quot;5477692&quot;</td><td>&quot;5573157&quot;</td><td>5.573157e6</td><td>5.573157e6</td><td>5.383124e6</td></tr><tr><td>&quot;null_count&quot;</td><td>&quot;95465&quot;</td><td>&quot;0&quot;</td><td>0.0</td><td>0.0</td><td>190033.0</td></tr><tr><td>&quot;mean&quot;</td><td>null</td><td>null</td><td>0.875817</td><td>0.891433</td><td>0.000004</td></tr><tr><td>&quot;std&quot;</td><td>null</td><td>null</td><td>0.96787</td><td>0.827898</td><td>0.243725</td></tr><tr><td>&quot;min&quot;</td><td>&quot;CH&quot;</td><td>&quot;ball&quot;</td><td>0.0</td><td>0.0</td><td>-1.661</td></tr><tr><td>&quot;25%&quot;</td><td>null</td><td>null</td><td>0.0</td><td>0.0</td><td>-0.067</td></tr><tr><td>&quot;50%&quot;</td><td>null</td><td>null</td><td>1.0</td><td>1.0</td><td>-0.018</td></tr><tr><td>&quot;75%&quot;</td><td>null</td><td>null</td><td>1.0</td><td>2.0</td><td>0.037</td></tr><tr><td>&quot;max&quot;</td><td>&quot;SV&quot;</td><td>&quot;swinging_strike_blocked&quot;</td><td>4.0</td><td>3.0</td><td>3.702</td></tr></tbody></table></div>"
            ]
          },
          "metadata": {},
          "execution_count": 5
        }
      ],
      "source": [
        "\n",
        "description_replace_mapping = {\n",
        "    \"Ball\": \"ball\",\n",
        "    \"In play, run(s)\": \"hit_into_play\",\n",
        "    \"In play, out(s)\": \"hit_into_play\",\n",
        "    \"In play, no out\": \"hit_into_play\",\n",
        "    \"Called Strike\": \"called_strike\",\n",
        "    \"Foul\": \"foul\",\n",
        "    \"Swinging Strike\": \"swinging_strike\",\n",
        "    \"Blocked Ball\": \"ball\",\n",
        "    \"Swinging Strike (Blocked)\": \"swinging_strike\",\n",
        "    \"Foul Tip\": \"swinging_strike\",\n",
        "    \"Foul Bunt\": \"foul\",\n",
        "    \"Hit By Pitch\": \"hit_by_pitch\",\n",
        "    \"Pitchout\": \"ball\",\n",
        "    \"Missed Bunt\": \"swinging_strike\",\n",
        "    \"Bunt Foul Tip\": \"swinging_strike\",\n",
        "    \"Foul Pitchout\": \"foul\",\n",
        "    \"Ball In Dirt\": \"ball\",\n",
        "}\n",
        "\n",
        "\n",
        "def add_pitch_run_value(lf: pl.LazyFrame) -> pl.LazyFrame:\n",
        "    \"\"\"Takes in a dataframe of pitches, and adds 2024 run value to each one\"\"\"\n",
        "    pitch_runs_lf = lf.join(\n",
        "        other=run_values_24,\n",
        "        on=[\"events\", \"balls\", \"strikes\"],\n",
        "        how=\"left\",\n",
        "    )\n",
        "\n",
        "    mapped_des_pitches = pitch_runs_lf.with_columns([\n",
        "        pl.col(\"description\")\n",
        "        .replace_strict(description_replace_mapping, default=None)\n",
        "        .alias(\"play_des\"),\n",
        "    ])\n",
        "\n",
        "    pitches_run_value_lf = mapped_des_pitches.join(\n",
        "        other=run_values_24,\n",
        "        right_on=[\"events\", \"balls\", \"strikes\"],\n",
        "        left_on=[\"play_des\", \"balls\", \"strikes\"],\n",
        "        how=\"left\",\n",
        "        suffix=\"_des\",\n",
        "    ).with_columns([\n",
        "        pl.when(pl.col(\"delta_run_exp\").is_null())\n",
        "        .then(pl.col(\"delta_run_exp_des\"))\n",
        "        .otherwise(pl.col(\"delta_run_exp\"))\n",
        "        .alias(\"delta_run_exp\"),\n",
        "    ])\n",
        "    return pitches_run_value_lf\n",
        "\n",
        "pitches_run_value_lf = pitches_lf.pipe(add_pitch_run_value)\n",
        "pitches_run_value_lf.select(\n",
        "    \"pitch_type\",\n",
        "    \"description\",\n",
        "    \"balls\",\n",
        "    \"strikes\",\n",
        "    \"delta_run_exp\",\n",
        ").describe()"
      ]
    },
    {
      "cell_type": "markdown",
      "metadata": {
        "id": "4MsyUTqeCA_3"
      },
      "source": [
        "Mirroring LHP metrics as if they were thrown by RHP"
      ]
    },
    {
      "cell_type": "code",
      "execution_count": 6,
      "metadata": {
        "id": "Kz5wYZ66CA_3",
        "outputId": "a6ef93b3-20d2-4c83-c4ee-31aa1a73337c",
        "colab": {
          "base_uri": "https://localhost:8080/",
          "height": 497
        }
      },
      "outputs": [
        {
          "output_type": "display_data",
          "data": {
            "image/png": "[encoded data removed]"
          },
          "metadata": {
            "image/png": {
              "width": 640,
              "height": 480
            }
          }
        }
      ],
      "source": [
        "def mirror_lhp_to_rhp(lf: pl.LazyFrame) -> pl.LazyFrame:\n",
        "    return lf.with_columns(\n",
        "        # mirror LHP horizontal movement\n",
        "        pl.when(pl.col(\"p_throws\") == \"L\")\n",
        "        .then(-pl.col(\"pfx_x\"))\n",
        "        .otherwise(pl.col(\"pfx_x\")),\n",
        "    )\n",
        "\n",
        "mirrored_pitches_lf = pitches_run_value_lf.pipe(mirror_lhp_to_rhp)\n",
        "\n",
        "# for verification\n",
        "movement_plt = (\n",
        "    ggplot(\n",
        "        mirrored_pitches_lf\n",
        "        .filter(pl.col(\"pitch_type\").is_in([\"FF\", \"KC\", \"SL\", \"CH\"]))\n",
        "        .group_by(\"pitch_type\", \"p_throws\")\n",
        "        .agg(\n",
        "            pl.col(\"pfx_x\").median().alias(\"median_pfx_x\"),\n",
        "            pl.col(\"pfx_z\").median().alias(\"median_pfx_z\"),\n",
        "        ).collect(),\n",
        "        aes(x=\"median_pfx_x\", y=\"median_pfx_z\", color=\"pitch_type\", shape=\"p_throws\"))\n",
        "    + geom_point()\n",
        "    + geom_vline(xintercept=0)\n",
        "    + geom_hline(yintercept=0)\n",
        "    + labs(\n",
        "        title=\"Mirrored LHP Movement Verification\",\n",
        "        x=\"median Horizontal Movement (ft.)\",\n",
        "        y=\"median Vertical Movement (ft.)\",\n",
        "        shape=\"Pitcher Hand\",\n",
        "        subtitle=\"Colors represent pitch_type\",\n",
        "    )\n",
        ")\n",
        "\n",
        "movement_plt.show()"
      ]
    },
    {
      "cell_type": "markdown",
      "metadata": {
        "id": "CCzg9FpHCA_3"
      },
      "source": [
        "Horizontal movement profiles are mirrored now!"
      ]
    },
    {
      "cell_type": "markdown",
      "metadata": {
        "id": "6-ajJ2-HCA_3"
      },
      "source": [
        "## 3D Pitch Displacement\n",
        "\n",
        "Now to add ball positions in 3D space at both [decision time]() (0.12s) & [commit time]() (0.167s)\n",
        "\n",
        "Plugging in our pitch data into the kinematic equation for displacement below, I can solve for where the ball\n",
        "\n",
        "$d = pos_{i} + v_{i} * t + \\frac{1}{2} * a * t^{2}$\n",
        "\n",
        "**where**:\n",
        "- $t$ = time (seconds)\n",
        "- $v_{i}$ = velocity at time $t$ in dimension $i$\n",
        "- $a_{i}$ = acceleration at time $t$ in dimension $i$\n",
        "- $pos_{i}$ = start position in dimension $i$\n",
        "\n",
        "**Steps**:\n",
        "\n",
        "For a given time $t$ ...\n",
        "\n",
        "1. Estimate how many feet the ball will travel in $t$ seconds (assuming acceleration = az)\n",
        "2. Estimate the x and y positions of the ball at $t$ seconds (assuming acceleration = ax & ay)"
      ]
    },
    {
      "cell_type": "code",
      "source": [
        "def displacement(p0, v0, t, a):\n",
        "    return p0 + v0 * t + 0.5 * a * t**2\n",
        "\n",
        "def convert_release_y_to_ft(lf: pl.LazyFrame) -> pl.LazyFrame:\n",
        "    return lf.with_columns(\n",
        "        release_pos_y=pl.col(\"release_pos_y\") / 12\n",
        "    )\n",
        "\n",
        "def time_to_50ft(lf: pl.LazyFrame) -> pl.LazyFrame:\n",
        "    return lf.with_columns(\n",
        "        ((((60 + 9/12) - 50) - pl.col(\"release_extension\"))\n",
        "        / pl.col(\"release_speed\") * (5280/3600)).alias(\"t50\")\n",
        "    )\n",
        "\n",
        "def estimate_pos_at_50ft(lf: pl.LazyFrame) -> pl.LazyFrame:\n",
        "    return lf.with_columns(\n",
        "        displacement(\n",
        "            p0=pl.col(f\"release_pos_{d}\"),\n",
        "            v0=pl.col(f\"v{d}0\"),\n",
        "            a=pl.col(f\"a{d}\"),\n",
        "            t=pl.col(\"t50\"),\n",
        "        ).alias(f\"{d}50\")\n",
        "        for d in [\"x\", \"y\", \"z\"]\n",
        "    )\n",
        "\n",
        "def estimate_ball_pos_at_t(lf: pl.LazyFrame, ts: list[float]) -> pl.LazyFrame:\n",
        "    return lf.with_columns(\n",
        "        displacement(\n",
        "            p0=pl.col(f\"{d}50\"),\n",
        "            v0=pl.col(f\"v{d}0\"),\n",
        "            a=pl.col(f\"a{d}\"),\n",
        "            t=t - pl.col(\"t50\"),\n",
        "        ).alias(f\"{d}_{t:.3f}\")\n",
        "        for d in [\"x\", \"y\", \"z\"]\n",
        "        for t in ts\n",
        "    )\n",
        "\n",
        "ball_pos_lf = (mirrored_pitches_lf\n",
        "               .pipe(convert_release_y_to_ft)\n",
        "               .pipe(time_to_50ft)\n",
        "               .pipe(estimate_pos_at_50ft)\n",
        "               .pipe(estimate_ball_pos_at_t, [0.120, 0.167]))\n",
        "\n",
        "(ball_pos_lf\n",
        "    .select(\"t50\", \"x_0.120\", \"y_0.120\", \"z_0.120\",\n",
        "            \"x_0.167\", \"y_0.167\", \"z_0.167\")\n",
        "    .describe())"
      ],
      "metadata": {
        "id": "iVM-ngf4Esmv",
        "outputId": "84b15057-e209-48aa-a3cf-df9bc311465f",
        "colab": {
          "base_uri": "https://localhost:8080/",
          "height": 376
        }
      },
      "execution_count": 11,
      "outputs": [
        {
          "output_type": "execute_result",
          "data": {
            "text/plain": [
              "shape: (9, 8)\n",
              "┌────────────┬────────────┬────────────┬───────────┬───────────┬───────────┬───────────┬───────────┐\n",
              "│ statistic  ┆ t50        ┆ x_0.120    ┆ y_0.120   ┆ z_0.120   ┆ x_0.167   ┆ y_0.167   ┆ z_0.167   │\n",
              "│ ---        ┆ ---        ┆ ---        ┆ ---       ┆ ---       ┆ ---       ┆ ---       ┆ ---       │\n",
              "│ str        ┆ f64        ┆ f64        ┆ f64       ┆ f64       ┆ f64       ┆ f64       ┆ f64       │\n",
              "╞════════════╪════════════╪════════════╪═══════════╪═══════════╪═══════════╪═══════════╪═══════════╡\n",
              "│ count      ┆ 5.470509e6 ┆ 5.470509e6 ┆ 5.470509e ┆ 5.470509e ┆ 5.470509e ┆ 5.470509e ┆ 5.470509e │\n",
              "│            ┆            ┆            ┆ 6         ┆ 6         ┆ 6         ┆ 6         ┆ 6         │\n",
              "│ null_count ┆ 102648.0   ┆ 102648.0   ┆ 102648.0  ┆ 102648.0  ┆ 102648.0  ┆ 102648.0  ┆ 102648.0  │\n",
              "│ mean       ┆ 0.075213   ┆ -0.518707  ┆ -10.87003 ┆ 5.256073  ┆ -0.414433 ┆ -16.85343 ┆ 4.993368  │\n",
              "│            ┆            ┆            ┆ 2         ┆           ┆           ┆ 5         ┆           │\n",
              "│ std        ┆ 0.01132    ┆ 1.302806   ┆ 1.052789  ┆ 0.472627  ┆ 1.104971  ┆ 1.443968  ┆ 0.518842  │\n",
              "│ min        ┆ -0.02183   ┆ -9.948612  ┆ -13.74100 ┆ -3.699136 ┆ -14.60231 ┆ -20.78225 ┆ -7.15327  │\n",
              "│            ┆            ┆            ┆ 8         ┆           ┆ 6         ┆ 3         ┆           │\n",
              "│ 25%        ┆ 0.067533   ┆ -1.444958  ┆ -11.70093 ┆ 4.964298  ┆ -1.199918 ┆ -17.99397 ┆ 4.654521  │\n",
              "│            ┆            ┆            ┆ 3         ┆           ┆           ┆ 7         ┆           │\n",
              "│ 50%        ┆ 0.0741     ┆ -0.929388  ┆ -11.05372 ┆ 5.25326   ┆ -0.694678 ┆ -17.10786 ┆ 4.973921  │\n",
              "│            ┆            ┆            ┆ 4         ┆           ┆           ┆ 4         ┆           │\n",
              "│ 75%        ┆ 0.081581   ┆ 0.543196   ┆ -10.13731 ┆ 5.551693  ┆ 0.367911  ┆ -15.84723 ┆ 5.312967  │\n",
              "│            ┆            ┆            ┆ 6         ┆           ┆           ┆ 2         ┆           │\n",
              "│ max        ┆ 0.344956   ┆ 5.807651   ┆ 0.123774  ┆ 10.563748 ┆ 5.838082  ┆ -1.805149 ┆ 10.583566 │\n",
              "└────────────┴────────────┴────────────┴───────────┴───────────┴───────────┴───────────┴───────────┘"
            ],
            "text/html": [
              "<div><style>\n",
              ".dataframe > thead > tr,\n",
              ".dataframe > tbody > tr {\n",
              "  text-align: right;\n",
              "  white-space: pre-wrap;\n",
              "}\n",
              "</style>\n",
              "<small>shape: (9, 8)</small><table border=\"1\" class=\"dataframe\"><thead><tr><th>statistic</th><th>t50</th><th>x_0.120</th><th>y_0.120</th><th>z_0.120</th><th>x_0.167</th><th>y_0.167</th><th>z_0.167</th></tr><tr><td>str</td><td>f64</td><td>f64</td><td>f64</td><td>f64</td><td>f64</td><td>f64</td><td>f64</td></tr></thead><tbody><tr><td>&quot;count&quot;</td><td>5.470509e6</td><td>5.470509e6</td><td>5.470509e6</td><td>5.470509e6</td><td>5.470509e6</td><td>5.470509e6</td><td>5.470509e6</td></tr><tr><td>&quot;null_count&quot;</td><td>102648.0</td><td>102648.0</td><td>102648.0</td><td>102648.0</td><td>102648.0</td><td>102648.0</td><td>102648.0</td></tr><tr><td>&quot;mean&quot;</td><td>0.075213</td><td>-0.518707</td><td>-10.870032</td><td>5.256073</td><td>-0.414433</td><td>-16.853435</td><td>4.993368</td></tr><tr><td>&quot;std&quot;</td><td>0.01132</td><td>1.302806</td><td>1.052789</td><td>0.472627</td><td>1.104971</td><td>1.443968</td><td>0.518842</td></tr><tr><td>&quot;min&quot;</td><td>-0.02183</td><td>-9.948612</td><td>-13.741008</td><td>-3.699136</td><td>-14.602316</td><td>-20.782253</td><td>-7.15327</td></tr><tr><td>&quot;25%&quot;</td><td>0.067533</td><td>-1.444958</td><td>-11.700933</td><td>4.964298</td><td>-1.199918</td><td>-17.993977</td><td>4.654521</td></tr><tr><td>&quot;50%&quot;</td><td>0.0741</td><td>-0.929388</td><td>-11.053724</td><td>5.25326</td><td>-0.694678</td><td>-17.107864</td><td>4.973921</td></tr><tr><td>&quot;75%&quot;</td><td>0.081581</td><td>0.543196</td><td>-10.137316</td><td>5.551693</td><td>0.367911</td><td>-15.847232</td><td>5.312967</td></tr><tr><td>&quot;max&quot;</td><td>0.344956</td><td>5.807651</td><td>0.123774</td><td>10.563748</td><td>5.838082</td><td>-1.805149</td><td>10.583566</td></tr></tbody></table></div>"
            ]
          },
          "metadata": {},
          "execution_count": 11
        }
      ]
    },
    {
      "cell_type": "code",
      "execution_count": 12,
      "metadata": {
        "id": "NyKMJTUgCA_4",
        "outputId": "1adf0ebd-9779-4f61-d807-0744c107dac6",
        "colab": {
          "base_uri": "https://localhost:8080/",
          "height": 542
        }
      },
      "outputs": [
        {
          "output_type": "display_data",
          "data": {
            "text/html": [
              "<html>\n",
              "<head><meta charset=\"utf-8\" /></head>\n",
              "<body>\n",
              "    <div>            <script src=\"https://cdnjs.cloudflare.com/ajax/libs/mathjax/2.7.5/MathJax.js?config=TeX-AMS-MML_SVG\"></script><script type=\"text/javascript\">if (window.MathJax && window.MathJax.Hub && window.MathJax.Hub.Config) {window.MathJax.Hub.Config({SVG: {font: \"STIX-Web\"}});}</script>                <script type=\"text/javascript\">window.PlotlyConfig = {MathJaxConfig: 'local'};</script>\n",
              "        <script charset=\"utf-8\" src=\"https://cdn.plot.ly/plotly-2.35.2.min.js\"></script>                <div id=\"e041bf5f-015d-401f-9346-7e7aaea0e08e\" class=\"plotly-graph-div\" style=\"height:525px; width:100%;\"></div>            <script type=\"text/javascript\">                                    window.PLOTLYENV=window.PLOTLYENV || {};                                    if (document.getElementById(\"e041bf5f-015d-401f-9346-7e7aaea0e08e\")) {                    Plotly.newPlot(                        \"e041bf5f-015d-401f-9346-7e7aaea0e08e\",                        [{\"hovertemplate\":\"pitch_type=CH\\u003cbr\\u003emedian_x_0.120=%{x}\\u003cbr\\u003emedian_y_0.120=%{y}\\u003cbr\\u003emedian_z_0.120=%{z}\\u003cextra\\u003e\\u003c\\u002fextra\\u003e\",\"legendgroup\":\"CH\",\"marker\":{\"color\":\"#636efa\",\"symbol\":\"circle\"},\"mode\":\"markers\",\"name\":\"CH\",\"scene\":\"scene\",\"showlegend\":true,\"x\":[-0.850073109879588],\"y\":[-10.226421351209396],\"z\":[5.203345071257488],\"type\":\"scatter3d\"},{\"hovertemplate\":\"pitch_type=KC\\u003cbr\\u003emedian_x_0.120=%{x}\\u003cbr\\u003emedian_y_0.120=%{y}\\u003cbr\\u003emedian_z_0.120=%{z}\\u003cextra\\u003e\\u003c\\u002fextra\\u003e\",\"legendgroup\":\"KC\",\"marker\":{\"color\":\"#EF553B\",\"symbol\":\"diamond\"},\"mode\":\"markers\",\"name\":\"KC\",\"scene\":\"scene\",\"showlegend\":true,\"x\":[-1.2235890122808064],\"y\":[-9.510620994385988],\"z\":[5.6225177361867775],\"type\":\"scatter3d\"},{\"hovertemplate\":\"pitch_type=FF\\u003cbr\\u003emedian_x_0.120=%{x}\\u003cbr\\u003emedian_y_0.120=%{y}\\u003cbr\\u003emedian_z_0.120=%{z}\\u003cextra\\u003e\\u003c\\u002fextra\\u003e\",\"legendgroup\":\"FF\",\"marker\":{\"color\":\"#00cc96\",\"symbol\":\"square\"},\"mode\":\"markers\",\"name\":\"FF\",\"scene\":\"scene\",\"showlegend\":true,\"x\":[-0.8425533331389496],\"y\":[-11.72853674173605],\"z\":[5.200429857060526],\"type\":\"scatter3d\"},{\"hovertemplate\":\"pitch_type=CH\\u003cbr\\u003emedian_x_0.120=%{x}\\u003cbr\\u003emedian_y_0.120=%{y}\\u003cbr\\u003emedian_z_0.120=%{z}\\u003cextra\\u003e\\u003c\\u002fextra\\u003e\",\"legendgroup\":\"CH\",\"marker\":{\"color\":\"#636efa\",\"symbol\":\"circle\"},\"mode\":\"markers\",\"name\":\"CH\",\"scene\":\"scene\",\"showlegend\":true,\"x\":[-0.850073109879588],\"y\":[-10.226421351209396],\"z\":[5.203345071257488],\"type\":\"scatter3d\"},{\"hovertemplate\":\"pitch_type=KC\\u003cbr\\u003emedian_x_0.120=%{x}\\u003cbr\\u003emedian_y_0.120=%{y}\\u003cbr\\u003emedian_z_0.120=%{z}\\u003cextra\\u003e\\u003c\\u002fextra\\u003e\",\"legendgroup\":\"KC\",\"marker\":{\"color\":\"#EF553B\",\"symbol\":\"diamond\"},\"mode\":\"markers\",\"name\":\"KC\",\"scene\":\"scene\",\"showlegend\":true,\"x\":[-1.2235890122808064],\"y\":[-9.510620994385988],\"z\":[5.6225177361867775],\"type\":\"scatter3d\"},{\"hovertemplate\":\"pitch_type=FF\\u003cbr\\u003emedian_x_0.120=%{x}\\u003cbr\\u003emedian_y_0.120=%{y}\\u003cbr\\u003emedian_z_0.120=%{z}\\u003cextra\\u003e\\u003c\\u002fextra\\u003e\",\"legendgroup\":\"FF\",\"marker\":{\"color\":\"#00cc96\",\"symbol\":\"square\"},\"mode\":\"markers\",\"name\":\"FF\",\"scene\":\"scene\",\"showlegend\":true,\"x\":[-0.8425533331389496],\"y\":[-11.72853674173605],\"z\":[5.200429857060526],\"type\":\"scatter3d\"},{\"hovertemplate\":\"pitch_type=CH\\u003cbr\\u003emedian_x_0.167=%{x}\\u003cbr\\u003emedian_y_0.167=%{y}\\u003cbr\\u003emedian_z_0.167=%{z}\\u003cextra\\u003e\\u003c\\u002fextra\\u003e\",\"legendgroup\":\"CH\",\"marker\":{\"color\":\"#636efa\",\"symbol\":\"circle\"},\"mode\":\"markers\",\"name\":\"CH\",\"scene\":\"scene\",\"showlegend\":true,\"x\":[-0.6245265459776432],\"y\":[-15.963671590778333],\"z\":[4.928468332533598],\"type\":\"scatter3d\"},{\"hovertemplate\":\"pitch_type=KC\\u003cbr\\u003emedian_x_0.167=%{x}\\u003cbr\\u003emedian_y_0.167=%{y}\\u003cbr\\u003emedian_z_0.167=%{z}\\u003cextra\\u003e\\u003c\\u002fextra\\u003e\",\"legendgroup\":\"KC\",\"marker\":{\"color\":\"#EF553B\",\"symbol\":\"diamond\"},\"mode\":\"markers\",\"name\":\"KC\",\"scene\":\"scene\",\"showlegend\":true,\"x\":[-1.0620688465319374],\"y\":[-14.991219941142864],\"z\":[5.453944714459485],\"type\":\"scatter3d\"},{\"hovertemplate\":\"pitch_type=FF\\u003cbr\\u003emedian_x_0.167=%{x}\\u003cbr\\u003emedian_y_0.167=%{y}\\u003cbr\\u003emedian_z_0.167=%{z}\\u003cextra\\u003e\\u003c\\u002fextra\\u003e\",\"legendgroup\":\"FF\",\"marker\":{\"color\":\"#00cc96\",\"symbol\":\"square\"},\"mode\":\"markers\",\"name\":\"FF\",\"scene\":\"scene\",\"showlegend\":true,\"x\":[-0.5932755634524984],\"y\":[-18.031126979875026],\"z\":[4.8911696571881595],\"type\":\"scatter3d\"},{\"hovertemplate\":\"pitch_type=CH\\u003cbr\\u003emedian_release_pos_x=%{x}\\u003cbr\\u003emedian_release_pos_y=%{y}\\u003cbr\\u003emedian_release_pos_z=%{z}\\u003cextra\\u003e\\u003c\\u002fextra\\u003e\",\"legendgroup\":\"CH\",\"marker\":{\"color\":\"#636efa\",\"symbol\":\"circle\"},\"mode\":\"markers\",\"name\":\"CH\",\"scene\":\"scene\",\"showlegend\":true,\"x\":[-1.42],\"y\":[4.519166666666666],\"z\":[5.81],\"type\":\"scatter3d\"},{\"hovertemplate\":\"pitch_type=KC\\u003cbr\\u003emedian_release_pos_x=%{x}\\u003cbr\\u003emedian_release_pos_y=%{y}\\u003cbr\\u003emedian_release_pos_z=%{z}\\u003cextra\\u003e\\u003c\\u002fextra\\u003e\",\"legendgroup\":\"KC\",\"marker\":{\"color\":\"#EF553B\",\"symbol\":\"diamond\"},\"mode\":\"markers\",\"name\":\"KC\",\"scene\":\"scene\",\"showlegend\":true,\"x\":[-1.61],\"y\":[4.535833333333333],\"z\":[5.94],\"type\":\"scatter3d\"},{\"hovertemplate\":\"pitch_type=FF\\u003cbr\\u003emedian_release_pos_x=%{x}\\u003cbr\\u003emedian_release_pos_y=%{y}\\u003cbr\\u003emedian_release_pos_z=%{z}\\u003cextra\\u003e\\u003c\\u002fextra\\u003e\",\"legendgroup\":\"FF\",\"marker\":{\"color\":\"#00cc96\",\"symbol\":\"square\"},\"mode\":\"markers\",\"name\":\"FF\",\"scene\":\"scene\",\"showlegend\":true,\"x\":[-1.48],\"y\":[4.515],\"z\":[5.92],\"type\":\"scatter3d\"},{\"hovertemplate\":\"pitch_type=CH\\u003cbr\\u003emedian_x50=%{x}\\u003cbr\\u003emedian_y50=%{y}\\u003cbr\\u003emedian_z50=%{z}\\u003cextra\\u003e\\u003c\\u002fextra\\u003e\",\"legendgroup\":\"CH\",\"marker\":{\"color\":\"#636efa\",\"symbol\":\"circle\"},\"mode\":\"markers\",\"name\":\"CH\",\"scene\":\"scene\",\"showlegend\":true,\"x\":[-1.0774300030718589],\"y\":[-4.917698239156247],\"z\":[5.410564931857131],\"type\":\"scatter3d\"},{\"hovertemplate\":\"pitch_type=KC\\u003cbr\\u003emedian_x50=%{x}\\u003cbr\\u003emedian_y50=%{y}\\u003cbr\\u003emedian_z50=%{z}\\u003cextra\\u003e\\u003c\\u002fextra\\u003e\",\"legendgroup\":\"KC\",\"marker\":{\"color\":\"#EF553B\",\"symbol\":\"diamond\"},\"mode\":\"markers\",\"name\":\"KC\",\"scene\":\"scene\",\"showlegend\":true,\"x\":[-1.344491074263859],\"y\":[-5.318627531521118],\"z\":[5.6960298836062275],\"type\":\"scatter3d\"},{\"hovertemplate\":\"pitch_type=FF\\u003cbr\\u003emedian_x50=%{x}\\u003cbr\\u003emedian_y50=%{y}\\u003cbr\\u003emedian_z50=%{z}\\u003cextra\\u003e\\u003c\\u002fextra\\u003e\",\"legendgroup\":\"FF\",\"marker\":{\"color\":\"#00cc96\",\"symbol\":\"square\"},\"mode\":\"markers\",\"name\":\"FF\",\"scene\":\"scene\",\"showlegend\":true,\"x\":[-1.1271073840053119],\"y\":[-4.888605257598836],\"z\":[5.501250069060618],\"type\":\"scatter3d\"}],                        {\"template\":{\"data\":{\"histogram2dcontour\":[{\"type\":\"histogram2dcontour\",\"colorbar\":{\"outlinewidth\":0,\"ticks\":\"\"},\"colorscale\":[[0.0,\"#0d0887\"],[0.1111111111111111,\"#46039f\"],[0.2222222222222222,\"#7201a8\"],[0.3333333333333333,\"#9c179e\"],[0.4444444444444444,\"#bd3786\"],[0.5555555555555556,\"#d8576b\"],[0.6666666666666666,\"#ed7953\"],[0.7777777777777778,\"#fb9f3a\"],[0.8888888888888888,\"#fdca26\"],[1.0,\"#f0f921\"]]}],\"choropleth\":[{\"type\":\"choropleth\",\"colorbar\":{\"outlinewidth\":0,\"ticks\":\"\"}}],\"histogram2d\":[{\"type\":\"histogram2d\",\"colorbar\":{\"outlinewidth\":0,\"ticks\":\"\"},\"colorscale\":[[0.0,\"#0d0887\"],[0.1111111111111111,\"#46039f\"],[0.2222222222222222,\"#7201a8\"],[0.3333333333333333,\"#9c179e\"],[0.4444444444444444,\"#bd3786\"],[0.5555555555555556,\"#d8576b\"],[0.6666666666666666,\"#ed7953\"],[0.7777777777777778,\"#fb9f3a\"],[0.8888888888888888,\"#fdca26\"],[1.0,\"#f0f921\"]]}],\"heatmap\":[{\"type\":\"heatmap\",\"colorbar\":{\"outlinewidth\":0,\"ticks\":\"\"},\"colorscale\":[[0.0,\"#0d0887\"],[0.1111111111111111,\"#46039f\"],[0.2222222222222222,\"#7201a8\"],[0.3333333333333333,\"#9c179e\"],[0.4444444444444444,\"#bd3786\"],[0.5555555555555556,\"#d8576b\"],[0.6666666666666666,\"#ed7953\"],[0.7777777777777778,\"#fb9f3a\"],[0.8888888888888888,\"#fdca26\"],[1.0,\"#f0f921\"]]}],\"heatmapgl\":[{\"type\":\"heatmapgl\",\"colorbar\":{\"outlinewidth\":0,\"ticks\":\"\"},\"colorscale\":[[0.0,\"#0d0887\"],[0.1111111111111111,\"#46039f\"],[0.2222222222222222,\"#7201a8\"],[0.3333333333333333,\"#9c179e\"],[0.4444444444444444,\"#bd3786\"],[0.5555555555555556,\"#d8576b\"],[0.6666666666666666,\"#ed7953\"],[0.7777777777777778,\"#fb9f3a\"],[0.8888888888888888,\"#fdca26\"],[1.0,\"#f0f921\"]]}],\"contourcarpet\":[{\"type\":\"contourcarpet\",\"colorbar\":{\"outlinewidth\":0,\"ticks\":\"\"}}],\"contour\":[{\"type\":\"contour\",\"colorbar\":{\"outlinewidth\":0,\"ticks\":\"\"},\"colorscale\":[[0.0,\"#0d0887\"],[0.1111111111111111,\"#46039f\"],[0.2222222222222222,\"#7201a8\"],[0.3333333333333333,\"#9c179e\"],[0.4444444444444444,\"#bd3786\"],[0.5555555555555556,\"#d8576b\"],[0.6666666666666666,\"#ed7953\"],[0.7777777777777778,\"#fb9f3a\"],[0.8888888888888888,\"#fdca26\"],[1.0,\"#f0f921\"]]}],\"surface\":[{\"type\":\"surface\",\"colorbar\":{\"outlinewidth\":0,\"ticks\":\"\"},\"colorscale\":[[0.0,\"#0d0887\"],[0.1111111111111111,\"#46039f\"],[0.2222222222222222,\"#7201a8\"],[0.3333333333333333,\"#9c179e\"],[0.4444444444444444,\"#bd3786\"],[0.5555555555555556,\"#d8576b\"],[0.6666666666666666,\"#ed7953\"],[0.7777777777777778,\"#fb9f3a\"],[0.8888888888888888,\"#fdca26\"],[1.0,\"#f0f921\"]]}],\"mesh3d\":[{\"type\":\"mesh3d\",\"colorbar\":{\"outlinewidth\":0,\"ticks\":\"\"}}],\"scatter\":[{\"fillpattern\":{\"fillmode\":\"overlay\",\"size\":10,\"solidity\":0.2},\"type\":\"scatter\"}],\"parcoords\":[{\"type\":\"parcoords\",\"line\":{\"colorbar\":{\"outlinewidth\":0,\"ticks\":\"\"}}}],\"scatterpolargl\":[{\"type\":\"scatterpolargl\",\"marker\":{\"colorbar\":{\"outlinewidth\":0,\"ticks\":\"\"}}}],\"bar\":[{\"error_x\":{\"color\":\"#2a3f5f\"},\"error_y\":{\"color\":\"#2a3f5f\"},\"marker\":{\"line\":{\"color\":\"#E5ECF6\",\"width\":0.5},\"pattern\":{\"fillmode\":\"overlay\",\"size\":10,\"solidity\":0.2}},\"type\":\"bar\"}],\"scattergeo\":[{\"type\":\"scattergeo\",\"marker\":{\"colorbar\":{\"outlinewidth\":0,\"ticks\":\"\"}}}],\"scatterpolar\":[{\"type\":\"scatterpolar\",\"marker\":{\"colorbar\":{\"outlinewidth\":0,\"ticks\":\"\"}}}],\"histogram\":[{\"marker\":{\"pattern\":{\"fillmode\":\"overlay\",\"size\":10,\"solidity\":0.2}},\"type\":\"histogram\"}],\"scattergl\":[{\"type\":\"scattergl\",\"marker\":{\"colorbar\":{\"outlinewidth\":0,\"ticks\":\"\"}}}],\"scatter3d\":[{\"type\":\"scatter3d\",\"line\":{\"colorbar\":{\"outlinewidth\":0,\"ticks\":\"\"}},\"marker\":{\"colorbar\":{\"outlinewidth\":0,\"ticks\":\"\"}}}],\"scattermapbox\":[{\"type\":\"scattermapbox\",\"marker\":{\"colorbar\":{\"outlinewidth\":0,\"ticks\":\"\"}}}],\"scatterternary\":[{\"type\":\"scatterternary\",\"marker\":{\"colorbar\":{\"outlinewidth\":0,\"ticks\":\"\"}}}],\"scattercarpet\":[{\"type\":\"scattercarpet\",\"marker\":{\"colorbar\":{\"outlinewidth\":0,\"ticks\":\"\"}}}],\"carpet\":[{\"aaxis\":{\"endlinecolor\":\"#2a3f5f\",\"gridcolor\":\"white\",\"linecolor\":\"white\",\"minorgridcolor\":\"white\",\"startlinecolor\":\"#2a3f5f\"},\"baxis\":{\"endlinecolor\":\"#2a3f5f\",\"gridcolor\":\"white\",\"linecolor\":\"white\",\"minorgridcolor\":\"white\",\"startlinecolor\":\"#2a3f5f\"},\"type\":\"carpet\"}],\"table\":[{\"cells\":{\"fill\":{\"color\":\"#EBF0F8\"},\"line\":{\"color\":\"white\"}},\"header\":{\"fill\":{\"color\":\"#C8D4E3\"},\"line\":{\"color\":\"white\"}},\"type\":\"table\"}],\"barpolar\":[{\"marker\":{\"line\":{\"color\":\"#E5ECF6\",\"width\":0.5},\"pattern\":{\"fillmode\":\"overlay\",\"size\":10,\"solidity\":0.2}},\"type\":\"barpolar\"}],\"pie\":[{\"automargin\":true,\"type\":\"pie\"}]},\"layout\":{\"autotypenumbers\":\"strict\",\"colorway\":[\"#636efa\",\"#EF553B\",\"#00cc96\",\"#ab63fa\",\"#FFA15A\",\"#19d3f3\",\"#FF6692\",\"#B6E880\",\"#FF97FF\",\"#FECB52\"],\"font\":{\"color\":\"#2a3f5f\"},\"hovermode\":\"closest\",\"hoverlabel\":{\"align\":\"left\"},\"paper_bgcolor\":\"white\",\"plot_bgcolor\":\"#E5ECF6\",\"polar\":{\"bgcolor\":\"#E5ECF6\",\"angularaxis\":{\"gridcolor\":\"white\",\"linecolor\":\"white\",\"ticks\":\"\"},\"radialaxis\":{\"gridcolor\":\"white\",\"linecolor\":\"white\",\"ticks\":\"\"}},\"ternary\":{\"bgcolor\":\"#E5ECF6\",\"aaxis\":{\"gridcolor\":\"white\",\"linecolor\":\"white\",\"ticks\":\"\"},\"baxis\":{\"gridcolor\":\"white\",\"linecolor\":\"white\",\"ticks\":\"\"},\"caxis\":{\"gridcolor\":\"white\",\"linecolor\":\"white\",\"ticks\":\"\"}},\"coloraxis\":{\"colorbar\":{\"outlinewidth\":0,\"ticks\":\"\"}},\"colorscale\":{\"sequential\":[[0.0,\"#0d0887\"],[0.1111111111111111,\"#46039f\"],[0.2222222222222222,\"#7201a8\"],[0.3333333333333333,\"#9c179e\"],[0.4444444444444444,\"#bd3786\"],[0.5555555555555556,\"#d8576b\"],[0.6666666666666666,\"#ed7953\"],[0.7777777777777778,\"#fb9f3a\"],[0.8888888888888888,\"#fdca26\"],[1.0,\"#f0f921\"]],\"sequentialminus\":[[0.0,\"#0d0887\"],[0.1111111111111111,\"#46039f\"],[0.2222222222222222,\"#7201a8\"],[0.3333333333333333,\"#9c179e\"],[0.4444444444444444,\"#bd3786\"],[0.5555555555555556,\"#d8576b\"],[0.6666666666666666,\"#ed7953\"],[0.7777777777777778,\"#fb9f3a\"],[0.8888888888888888,\"#fdca26\"],[1.0,\"#f0f921\"]],\"diverging\":[[0,\"#8e0152\"],[0.1,\"#c51b7d\"],[0.2,\"#de77ae\"],[0.3,\"#f1b6da\"],[0.4,\"#fde0ef\"],[0.5,\"#f7f7f7\"],[0.6,\"#e6f5d0\"],[0.7,\"#b8e186\"],[0.8,\"#7fbc41\"],[0.9,\"#4d9221\"],[1,\"#276419\"]]},\"xaxis\":{\"gridcolor\":\"white\",\"linecolor\":\"white\",\"ticks\":\"\",\"title\":{\"standoff\":15},\"zerolinecolor\":\"white\",\"automargin\":true,\"zerolinewidth\":2},\"yaxis\":{\"gridcolor\":\"white\",\"linecolor\":\"white\",\"ticks\":\"\",\"title\":{\"standoff\":15},\"zerolinecolor\":\"white\",\"automargin\":true,\"zerolinewidth\":2},\"scene\":{\"xaxis\":{\"backgroundcolor\":\"#E5ECF6\",\"gridcolor\":\"white\",\"linecolor\":\"white\",\"showbackground\":true,\"ticks\":\"\",\"zerolinecolor\":\"white\",\"gridwidth\":2},\"yaxis\":{\"backgroundcolor\":\"#E5ECF6\",\"gridcolor\":\"white\",\"linecolor\":\"white\",\"showbackground\":true,\"ticks\":\"\",\"zerolinecolor\":\"white\",\"gridwidth\":2},\"zaxis\":{\"backgroundcolor\":\"#E5ECF6\",\"gridcolor\":\"white\",\"linecolor\":\"white\",\"showbackground\":true,\"ticks\":\"\",\"zerolinecolor\":\"white\",\"gridwidth\":2}},\"shapedefaults\":{\"line\":{\"color\":\"#2a3f5f\"}},\"annotationdefaults\":{\"arrowcolor\":\"#2a3f5f\",\"arrowhead\":0,\"arrowwidth\":1},\"geo\":{\"bgcolor\":\"white\",\"landcolor\":\"#E5ECF6\",\"subunitcolor\":\"white\",\"showland\":true,\"showlakes\":true,\"lakecolor\":\"white\"},\"title\":{\"x\":0.05},\"mapbox\":{\"style\":\"light\"}}},\"scene\":{\"domain\":{\"x\":[0.0,1.0],\"y\":[0.0,1.0]},\"xaxis\":{\"title\":{\"text\":\"X (ft.)\"}},\"yaxis\":{\"title\":{\"text\":\"Y (ft.)\"}},\"zaxis\":{\"title\":{\"text\":\"Z (ft.)\"}}},\"legend\":{\"title\":{\"text\":\"pitch_type\"},\"tracegroupgap\":0},\"margin\":{\"t\":60},\"title\":{\"text\":\"Median Position at commit & decision times in pitch flight\"}},                        {\"responsive\": true}                    ).then(function(){\n",
              "                            \n",
              "var gd = document.getElementById('e041bf5f-015d-401f-9346-7e7aaea0e08e');\n",
              "var x = new MutationObserver(function (mutations, observer) {{\n",
              "        var display = window.getComputedStyle(gd).display;\n",
              "        if (!display || display === 'none') {{\n",
              "            console.log([gd, 'removed!']);\n",
              "            Plotly.purge(gd);\n",
              "            observer.disconnect();\n",
              "        }}\n",
              "}});\n",
              "\n",
              "// Listen for the removal of the full notebook cells\n",
              "var notebookContainer = gd.closest('#notebook-container');\n",
              "if (notebookContainer) {{\n",
              "    x.observe(notebookContainer, {childList: true});\n",
              "}}\n",
              "\n",
              "// Listen for the clearing of the current output cell\n",
              "var outputEl = gd.closest('.output');\n",
              "if (outputEl) {{\n",
              "    x.observe(outputEl, {childList: true});\n",
              "}}\n",
              "\n",
              "                        })                };                            </script>        </div>\n",
              "</body>\n",
              "</html>"
            ]
          },
          "metadata": {}
        }
      ],
      "source": [
        "median_ball_loc_df = (ball_pos_lf\n",
        "                    .filter(pl.col(\"pitch_type\").is_in([\"FF\", \"KC\", \"CH\"]))\n",
        "                    .drop_nulls(subset=[\"plate_x\", \"plate_z\", \"pitch_type\", \"release_pos_x\", \"release_pos_z\", \"release_pos_y\", \"x50\", \"z50\", \"y50\"])\n",
        "                    .group_by(\"pitch_type\")\n",
        "                    .agg([\n",
        "                        pl.col(feature).median().alias(f\"median_{feature}\")\n",
        "                        for feature in [\n",
        "                            \"release_pos_x\",\n",
        "                            \"release_pos_y\",\n",
        "                            \"release_pos_z\",\n",
        "                            \"plate_x\",\n",
        "                            \"plate_z\",\n",
        "                            \"x_0.120\",\n",
        "                            \"y_0.120\",\n",
        "                            \"z_0.120\",\n",
        "                            \"x_0.167\",\n",
        "                            \"y_0.167\",\n",
        "                            \"z_0.167\",\n",
        "                            \"x50\",\n",
        "                            \"y50\",\n",
        "                            \"z50\",\n",
        "                        ]\n",
        "                    ])\n",
        "                    .with_columns(pl.lit(0).alias(\"plate_y\"))\n",
        "                    .collect())\n",
        "\n",
        "decision_time_fig = px.scatter_3d(\n",
        "    median_ball_loc_df,\n",
        "    x=\"median_x_0.120\",\n",
        "    y=\"median_y_0.120\",\n",
        "    z=\"median_z_0.120\",\n",
        "    color=\"pitch_type\",\n",
        "    symbol=\"pitch_type\",\n",
        ")\n",
        "\n",
        "commit_time_fig = px.scatter_3d(\n",
        "    median_ball_loc_df,\n",
        "    x=\"median_x_0.167\",\n",
        "    y=\"median_y_0.167\",\n",
        "    z=\"median_z_0.167\",\n",
        "    color=\"pitch_type\",\n",
        "    symbol=\"pitch_type\",\n",
        ")\n",
        "\n",
        "fig50 = px.scatter_3d(\n",
        "    median_ball_loc_df,\n",
        "    x=\"median_x50\",\n",
        "    y=\"median_y50\",\n",
        "    z=\"median_z50\",\n",
        "    color=\"pitch_type\",\n",
        "    symbol=\"pitch_type\",\n",
        ")\n",
        "\n",
        "release_fig = px.scatter_3d(\n",
        "    median_ball_loc_df,\n",
        "    x=\"median_release_pos_x\",\n",
        "    y=\"median_release_pos_y\",\n",
        "    z=\"median_release_pos_z\",\n",
        "    color=\"pitch_type\",\n",
        "    symbol=\"pitch_type\",\n",
        ")\n",
        "\n",
        "for fig in [decision_time_fig, commit_time_fig, release_fig, fig50]:\n",
        "    decision_time_fig.add_traces(fig.data)\n",
        "\n",
        "decision_time_fig.update_layout(\n",
        "    title=\"Median Position at commit & decision times in pitch flight\",\n",
        "    scene=dict(\n",
        "        xaxis_title=\"X (ft.)\",\n",
        "        yaxis_title=\"Y (ft.)\",\n",
        "        zaxis_title=\"Z (ft.)\",\n",
        "    )\n",
        ").show()"
      ]
    },
    {
      "cell_type": "markdown",
      "metadata": {
        "id": "y9e_q_ZlCA_4"
      },
      "source": [
        "Get pitch sequences and difference features"
      ]
    },
    {
      "cell_type": "code",
      "execution_count": 9,
      "metadata": {
        "id": "3hCjvQsECA_4",
        "outputId": "e74b0e98-b095-450a-ad5c-67dcf066015c",
        "colab": {
          "base_uri": "https://localhost:8080/",
          "height": 396
        }
      },
      "outputs": [
        {
          "output_type": "execute_result",
          "data": {
            "text/plain": [
              "shape: (9, 18)\n",
              "┌───────────┬───────────┬───────────┬───────────┬───┬───────────┬───────────┬───────────┬──────────┐\n",
              "│ statistic ┆ prev_pfx_ ┆ prev_pfx_ ┆ prev_x_0. ┆ … ┆ prev_rele ┆ prev_delt ┆ prev_plat ┆ prev_pla │\n",
              "│ ---       ┆ x         ┆ z         ┆ 120       ┆   ┆ ase_spin_ ┆ a_run_exp ┆ e_x       ┆ te_z     │\n",
              "│ str       ┆ ---       ┆ ---       ┆ ---       ┆   ┆ rate      ┆ ---       ┆ ---       ┆ ---      │\n",
              "│           ┆ f64       ┆ f64       ┆ f64       ┆   ┆ ---       ┆ f64       ┆ f64       ┆ f64      │\n",
              "│           ┆           ┆           ┆           ┆   ┆ f64       ┆           ┆           ┆          │\n",
              "╞═══════════╪═══════════╪═══════════╪═══════════╪═══╪═══════════╪═══════════╪═══════════╪══════════╡\n",
              "│ count     ┆ 5.373162e ┆ 5.373173e ┆ 5.366766e ┆ … ┆ 5.319769e ┆ 5.285069e ┆ 5.373237e ┆ 5.373237 │\n",
              "│           ┆ 6         ┆ 6         ┆ 6         ┆   ┆ 6         ┆ 6         ┆ 6         ┆ e6       │\n",
              "│ null_coun ┆ 213421.0  ┆ 213410.0  ┆ 219817.0  ┆ … ┆ 266814.0  ┆ 301514.0  ┆ 213346.0  ┆ 213346.0 │\n",
              "│ t         ┆           ┆           ┆           ┆   ┆           ┆           ┆           ┆          │\n",
              "│ mean      ┆ -0.370602 ┆ 0.649538  ┆ -0.21293  ┆ … ┆ 2244.0090 ┆ -0.000947 ┆ 0.044019  ┆ 2.268852 │\n",
              "│           ┆           ┆           ┆           ┆   ┆ 85        ┆           ┆           ┆          │\n",
              "│ std       ┆ 0.812746  ┆ 0.741587  ┆ 0.789475  ┆ … ┆ 332.79026 ┆ 0.234109  ┆ 0.852319  ┆ 0.968173 │\n",
              "│           ┆           ┆           ┆           ┆   ┆ 1         ┆           ┆           ┆          │\n",
              "│ min       ┆ -3.0      ┆ -2.79     ┆ -37.57805 ┆ … ┆ 4.0       ┆ -1.661    ┆ -65.16    ┆ -45.11   │\n",
              "│           ┆           ┆           ┆ 3         ┆   ┆           ┆           ┆           ┆          │\n",
              "│ 25%       ┆ -1.05     ┆ 0.19      ┆ -0.754332 ┆ … ┆ 2091.0    ┆ -0.065    ┆ -0.53     ┆ 1.64     │\n",
              "│ 50%       ┆ -0.53     ┆ 0.75      ┆ -0.258575 ┆ … ┆ 2267.0    ┆ -0.017    ┆ 0.04      ┆ 2.28     │\n",
              "│ 75%       ┆ 0.27      ┆ 1.26      ┆ 0.295758  ┆ … ┆ 2438.0    ┆ 0.037     ┆ 0.62      ┆ 2.91     │\n",
              "│ max       ┆ 2.95      ┆ 2.99      ┆ 9.170664  ┆ … ┆ 3741.0    ┆ 3.702     ┆ 11.3      ┆ 13.58    │\n",
              "└───────────┴───────────┴───────────┴───────────┴───┴───────────┴───────────┴───────────┴──────────┘"
            ],
            "text/html": [
              "<div><style>\n",
              ".dataframe > thead > tr,\n",
              ".dataframe > tbody > tr {\n",
              "  text-align: right;\n",
              "  white-space: pre-wrap;\n",
              "}\n",
              "</style>\n",
              "<small>shape: (9, 18)</small><table border=\"1\" class=\"dataframe\"><thead><tr><th>statistic</th><th>prev_pfx_x</th><th>prev_pfx_z</th><th>prev_x_0.120</th><th>prev_y_0.120</th><th>prev_z_0.120</th><th>prev_x_0.167</th><th>prev_y_0.167</th><th>prev_z_0.167</th><th>prev_release_pos_x</th><th>prev_release_pos_y</th><th>prev_release_pos_z</th><th>prev_release_speed</th><th>prev_effective_speed</th><th>prev_release_spin_rate</th><th>prev_delta_run_exp</th><th>prev_plate_x</th><th>prev_plate_z</th></tr><tr><td>str</td><td>f64</td><td>f64</td><td>f64</td><td>f64</td><td>f64</td><td>f64</td><td>f64</td><td>f64</td><td>f64</td><td>f64</td><td>f64</td><td>f64</td><td>f64</td><td>f64</td><td>f64</td><td>f64</td><td>f64</td></tr></thead><tbody><tr><td>&quot;count&quot;</td><td>5.373162e6</td><td>5.373173e6</td><td>5.366766e6</td><td>5.366766e6</td><td>5.366766e6</td><td>5.366766e6</td><td>5.366766e6</td><td>5.366766e6</td><td>5.373027e6</td><td>5.373027e6</td><td>5.373027e6</td><td>5.3733e6</td><td>5.363033e6</td><td>5.319769e6</td><td>5.285069e6</td><td>5.373237e6</td><td>5.373237e6</td></tr><tr><td>&quot;null_count&quot;</td><td>213421.0</td><td>213410.0</td><td>219817.0</td><td>219817.0</td><td>219817.0</td><td>219817.0</td><td>219817.0</td><td>219817.0</td><td>213556.0</td><td>213556.0</td><td>213556.0</td><td>213283.0</td><td>223550.0</td><td>266814.0</td><td>301514.0</td><td>213346.0</td><td>213346.0</td></tr><tr><td>&quot;mean&quot;</td><td>-0.370602</td><td>0.649538</td><td>-0.21293</td><td>-29.69499</td><td>4.235461</td><td>-0.123648</td><td>-35.494435</td><td>3.802006</td><td>-0.797965</td><td>4.522861</td><td>5.835762</td><td>88.842504</td><td>88.749538</td><td>2244.009085</td><td>-0.000947</td><td>0.044019</td><td>2.268852</td></tr><tr><td>&quot;std&quot;</td><td>0.812746</td><td>0.741587</td><td>0.789475</td><td>2.10254</td><td>0.637859</td><td>0.731837</td><td>2.229078</td><td>0.718339</td><td>1.898434</td><td>0.042515</td><td>0.527836</td><td>6.009734</td><td>6.244913</td><td>332.790261</td><td>0.234109</td><td>0.852319</td><td>0.968173</td></tr><tr><td>&quot;min&quot;</td><td>-3.0</td><td>-2.79</td><td>-37.578053</td><td>-50.646824</td><td>-23.778486</td><td>-44.378948</td><td>-55.815257</td><td>-28.612886</td><td>-6.09</td><td>2.381667</td><td>-0.03</td><td>30.4</td><td>26.8</td><td>4.0</td><td>-1.661</td><td>-65.16</td><td>-45.11</td></tr><tr><td>&quot;25%&quot;</td><td>-1.05</td><td>0.19</td><td>-0.754332</td><td>-31.118195</td><td>3.810257</td><td>-0.611765</td><td>-37.014122</td><td>3.325721</td><td>-2.14</td><td>4.494167</td><td>5.57</td><td>84.6</td><td>84.4</td><td>2091.0</td><td>-0.065</td><td>-0.53</td><td>1.64</td></tr><tr><td>&quot;50%&quot;</td><td>-0.53</td><td>0.75</td><td>-0.258575</td><td>-29.725667</td><td>4.208782</td><td>-0.129699</td><td>-35.567908</td><td>3.778163</td><td>-1.51</td><td>4.521667</td><td>5.87</td><td>89.9</td><td>89.8</td><td>2267.0</td><td>-0.017</td><td>0.04</td><td>2.28</td></tr><tr><td>&quot;75%&quot;</td><td>0.27</td><td>1.26</td><td>0.295758</td><td>-28.30614</td><td>4.630006</td><td>0.359003</td><td>-34.047624</td><td>4.251948</td><td>1.0</td><td>4.550833</td><td>6.17</td><td>93.6</td><td>93.6</td><td>2438.0</td><td>0.037</td><td>0.62</td><td>2.91</td></tr><tr><td>&quot;max&quot;</td><td>2.95</td><td>2.99</td><td>9.170664</td><td>-5.840184</td><td>14.705674</td><td>9.523633</td><td>-11.800331</td><td>14.733551</td><td>18.0</td><td>4.995</td><td>10.54</td><td>105.1</td><td>194.6</td><td>3741.0</td><td>3.702</td><td>11.3</td><td>13.58</td></tr></tbody></table></div>"
            ]
          },
          "metadata": {},
          "execution_count": 9
        }
      ],
      "source": [
        "# features that we are interested in with regards to two pitch sequences\n",
        "prev_features = [\n",
        "    \"prev_pfx_x\",\n",
        "    \"prev_pfx_z\",\n",
        "    \"prev_x_0.120\",\n",
        "    \"prev_y_0.120\",\n",
        "    \"prev_z_0.120\",\n",
        "    \"prev_x_0.167\",\n",
        "    \"prev_y_0.167\",\n",
        "    \"prev_z_0.167\",\n",
        "    \"prev_release_pos_x\",\n",
        "    \"prev_release_pos_y\",\n",
        "    \"prev_release_pos_z\",\n",
        "    \"prev_release_speed\",\n",
        "    \"prev_effective_speed\",\n",
        "    \"prev_release_spin_rate\",\n",
        "    \"prev_delta_run_exp\",\n",
        "    \"prev_plate_x\",\n",
        "    \"prev_plate_z\",\n",
        "]\n",
        "\n",
        "def two_pitch_sequences(lf: pl.LazyFrame) -> pl.LazyFrame:\n",
        "    # sort the data such that the pitches are in descending order\n",
        "    sort_cols = [\"pitcher\", \"game_date\", \"at_bat_number\", \"pitch_number\"]\n",
        "    sorted_lf = lf.sort(\n",
        "        by=sort_cols,\n",
        "        descending=True,\n",
        "    )\n",
        "\n",
        "    return (sorted_lf\n",
        "        .with_columns([\n",
        "            pl.col(feature)\n",
        "            .shift(-1)\n",
        "            .over([\"pitcher\", \"at_bat_number\"])\n",
        "            .alias(f\"prev_{feature}\")\n",
        "            # for feature in sorted_lf.collect_schema().names()\n",
        "            for feature in [f.replace(\"prev_\", \"\") for f in prev_features]\n",
        "        ])\n",
        "        .select(*sort_cols + prev_features)\n",
        "        .join(other=lf, on=sort_cols, how=\"right\")\n",
        "    )\n",
        "\n",
        "def add_diff_features(lf: pl.LazyFrame) -> pl.LazyFrame:\n",
        "    return lf.with_columns(\n",
        "        *[(pl.col(f\"{dim}_{t:.3f}\") - pl.col(f\"prev_{dim}_{t:.3f}\"))\n",
        "          .alias(f\"{dim}_diff_{t}\")\n",
        "            for dim in [\"x\", \"y\", \"z\"]\n",
        "            for t in [0.120, 0.167]],\n",
        "        (pl.col(\"release_speed\") - pl.col(\"prev_release_speed\")).alias(\"velocity_diff\"),\n",
        "        (pl.col(\"effective_speed\") - pl.col(\"prev_effective_speed\")).alias(\"effective_speed_diff\"),\n",
        "        (pl.col(\"pfx_x\") - pl.col(\"prev_pfx_x\")).alias(\"pfx_diff\"),\n",
        "        (pl.col(\"pfx_z\") - pl.col(\"prev_pfx_z\")).alias(\"pfx_z_diff\"),\n",
        "        (pl.col(\"delta_run_exp\") + pl.col(\"prev_delta_run_exp\")).alias(\"seq_delta_run_exp\"),\n",
        "        (pl.col(\"plate_x\") - pl.col(\"prev_plate_x\")).alias(\"plate_x_diff\"),\n",
        "        (pl.col(\"plate_z\") - pl.col(\"prev_plate_z\")).alias(\"plate_z_diff\"),\n",
        "        (((pl.col(\"plate_x\") - pl.col(\"prev_plate_x\") ** 2) +\n",
        "         (pl.col(\"plate_z\") - pl.col(\"prev_plate_z\") ** 2)) ** 0.5).alias(\"distance\"),\n",
        "    )\n",
        "\n",
        "\n",
        "sequence_pitches_lf = (ball_pos_lf\n",
        "                       .pipe(two_pitch_sequences)\n",
        "                       .pipe(add_diff_features))\n",
        "\n",
        "(sequence_pitches_lf\n",
        "    .select(prev_features)\n",
        "    .describe())"
      ]
    },
    {
      "cell_type": "markdown",
      "metadata": {
        "id": "Dj4IkhtLCA_4"
      },
      "source": [
        "3D euclidean distances between the baseball at decision and commit points\n",
        "\n",
        "$3Deuclideandistance = \\sqrt{(x_1 - x_2)^2 + (y_1 - y_2)^2 + (z_1 - z_2)^2}$"
      ]
    },
    {
      "cell_type": "code",
      "execution_count": 10,
      "metadata": {
        "id": "jUeiZ_cpCA_4",
        "outputId": "061f6285-db6e-49d7-981e-4518d8b3d933",
        "colab": {
          "base_uri": "https://localhost:8080/",
          "height": 376
        }
      },
      "outputs": [
        {
          "output_type": "execute_result",
          "data": {
            "text/plain": [
              "shape: (9, 3)\n",
              "┌────────────┬───────────────┬───────────────┐\n",
              "│ statistic  ┆ 3d_dist_0.120 ┆ 3d_dist_0.167 │\n",
              "│ ---        ┆ ---           ┆ ---           │\n",
              "│ str        ┆ f64           ┆ f64           │\n",
              "╞════════════╪═══════════════╪═══════════════╡\n",
              "│ count      ┆ 5.333821e6    ┆ 5.333821e6    │\n",
              "│ null_count ┆ 252762.0      ┆ 252762.0      │\n",
              "│ mean       ┆ 3.008589      ┆ 4.179661      │\n",
              "│ std        ┆ 3.717747      ┆ 5.028033      │\n",
              "│ min        ┆ 0.0           ┆ 0.0           │\n",
              "│ 25%        ┆ 1.028806      ┆ 1.294774      │\n",
              "│ 50%        ┆ 1.940334      ┆ 2.555331      │\n",
              "│ 75%        ┆ 3.713664      ┆ 5.27174       │\n",
              "│ max        ┆ 1625.922951   ┆ 2223.911      │\n",
              "└────────────┴───────────────┴───────────────┘"
            ],
            "text/html": [
              "<div><style>\n",
              ".dataframe > thead > tr,\n",
              ".dataframe > tbody > tr {\n",
              "  text-align: right;\n",
              "  white-space: pre-wrap;\n",
              "}\n",
              "</style>\n",
              "<small>shape: (9, 3)</small><table border=\"1\" class=\"dataframe\"><thead><tr><th>statistic</th><th>3d_dist_0.120</th><th>3d_dist_0.167</th></tr><tr><td>str</td><td>f64</td><td>f64</td></tr></thead><tbody><tr><td>&quot;count&quot;</td><td>5.333821e6</td><td>5.333821e6</td></tr><tr><td>&quot;null_count&quot;</td><td>252762.0</td><td>252762.0</td></tr><tr><td>&quot;mean&quot;</td><td>3.008589</td><td>4.179661</td></tr><tr><td>&quot;std&quot;</td><td>3.717747</td><td>5.028033</td></tr><tr><td>&quot;min&quot;</td><td>0.0</td><td>0.0</td></tr><tr><td>&quot;25%&quot;</td><td>1.028806</td><td>1.294774</td></tr><tr><td>&quot;50%&quot;</td><td>1.940334</td><td>2.555331</td></tr><tr><td>&quot;75%&quot;</td><td>3.713664</td><td>5.27174</td></tr><tr><td>&quot;max&quot;</td><td>1625.922951</td><td>2223.911</td></tr></tbody></table></div>"
            ]
          },
          "metadata": {},
          "execution_count": 10
        }
      ],
      "source": [
        "\n",
        "def add_3D_distances(lf: pl.LazyFrame) -> pl.LazyFrame:\n",
        "    return lf.with_columns(\n",
        "        # decision & commit time distances\n",
        "        (((pl.col(f\"x_{t:.3f}\") - pl.col(f\"prev_x_{t:.3f}\")) ** 2)\n",
        "        + ((pl.col(f\"y_{t:.3f}\") - pl.col(f\"prev_y_{t:.3f}\")) ** 2)\n",
        "        + ((pl.col(f\"z_{t:.3f}\") - pl.col(f\"prev_z_{t:.3f}\")) ** 2)\n",
        "        ** 0.5).alias(f\"3d_dist_{t:.3f}\")\n",
        "        for t in [0.120, 0.167]\n",
        "    )\n",
        "\n",
        "sequence_dist_pitches_lf = sequence_pitches_lf.pipe(add_3D_distances)\n",
        "\n",
        "(sequence_dist_pitches_lf\n",
        "    .select(\"3d_dist_0.120\", \"3d_dist_0.167\")\n",
        "    .describe())"
      ]
    },
    {
      "cell_type": "code",
      "execution_count": 10,
      "metadata": {
        "id": "EdRRdxteCA_4"
      },
      "outputs": [],
      "source": []
    }
  ],
  "metadata": {
    "kernelspec": {
      "display_name": "venv",
      "language": "python",
      "name": "python3"
    },
    "language_info": {
      "codemirror_mode": {
        "name": "ipython",
        "version": 3
      },
      "file_extension": ".py",
      "mimetype": "text/x-python",
      "name": "python",
      "nbconvert_exporter": "python",
      "pygments_lexer": "ipython3",
      "version": "3.12.6"
    },
    "colab": {
      "provenance": []
    }
  },
  "nbformat": 4,
  "nbformat_minor": 0
}