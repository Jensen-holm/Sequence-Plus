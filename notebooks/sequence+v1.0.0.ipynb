{
 "cells": [
  {
   "cell_type": "markdown",
   "metadata": {
    "id": "IhyQM2zcCA_0"
   },
   "source": [
    "# Sequence+v1.0\n",
    "\n",
    "**Goal**: Build a model that can predict the total run value for any given *two* pitch sequence<br>\n",
    "**Author**: Jensen Holm <br>\n",
    "**Date**: October / November 2024"
   ]
  },
  {
   "cell_type": "code",
   "execution_count": 1,
   "metadata": {
    "colab": {
     "base_uri": "https://localhost:8080/"
    },
    "id": "dd-JEg8_CA_2",
    "outputId": "e674ab36-f753-45ff-cb81-cf323c0ae9d9"
   },
   "outputs": [
    {
     "name": "stderr",
     "output_type": "stream",
     "text": [
      "/Users/jensen/Documents/projects/Sequence-Plus/venv/lib/python3.9/site-packages/tqdm/auto.py:21: TqdmWarning: IProgress not found. Please update jupyter and ipywidgets. See https://ipywidgets.readthedocs.io/en/stable/user_install.html\n"
     ]
    }
   ],
   "source": [
    "import statcast_pitches\n",
    "import plotly.express as px\n",
    "from plotnine import *\n",
    "import polars as pl\n",
    "import polars.selectors as cs\n",
    "import numpy as np\n",
    "import os\n",
    "from sklearn.model_selection import train_test_split\n",
    "from sklearn.pipeline import Pipeline\n",
    "from sklearn.preprocessing import RobustScaler\n",
    "from lightgbm import LGBMRegressor\n",
    "from sklearn.feature_selection import RFECV\n",
    "import optuna\n",
    "import joblib\n",
    "\n",
    "DATA_DIR = os.path.join(\"..\", \"data\")"
   ]
  },
  {
   "cell_type": "markdown",
   "metadata": {
    "id": "1OchF0j5CA_2"
   },
   "source": [
    "## Loading Data\n",
    "\n",
    "Using all pitches thrown in the statcast-era (2015-present) as our data for this model. <br>\n",
    "I will also be using `../data/run_values.csv` for calculating run values of each pitch, this data represents 2024 only.\n",
    "\n",
    "**Data Dictionary**: [link](https://baseballsavant.mlb.com/csv-docs) <br>\n",
    "**statcast_pitches package info**: [link](https://github.com/Jensen-holm/statcast-era-pitches)"
   ]
  },
  {
   "cell_type": "code",
   "execution_count": 2,
   "metadata": {
    "colab": {
     "base_uri": "https://localhost:8080/"
    },
    "id": "tuo74Jy-CA_2",
    "outputId": "9e94a64f-383f-44e8-ce91-571aa1e5ce8f"
   },
   "outputs": [
    {
     "name": "stdout",
     "output_type": "stream",
     "text": [
      "N Pitches: 3,349,317\n",
      "Date Range: 2020-07-23 - 2024-10-30\n"
     ]
    }
   ],
   "source": [
    "# use statcast pitches to get all pitches thrown in since hawkeye began\n",
    "pitches_lf: pl.LazyFrame = (statcast_pitches.load()\n",
    "                            .filter(pl.col(\"game_date\").dt.year().is_in([2020, 2021, 2022, 2023, 2024])))\n",
    "\n",
    "latest_date = pitches_lf.select(\"game_date\").max().collect().item().date()\n",
    "earliest_date = pitches_lf.select(\"game_date\").min().collect().item().date()\n",
    "n_pitches = pitches_lf.select(pl.len()).collect().item()\n",
    "\n",
    "run_values_24_lf = pl.scan_csv(\n",
    "    os.path.join(DATA_DIR, \"run_values.csv\"),\n",
    ")\n",
    "\n",
    "print(f\"N Pitches: {n_pitches:,}\")\n",
    "print(f\"Date Range: {earliest_date} - {latest_date}\")"
   ]
  },
  {
   "cell_type": "markdown",
   "metadata": {
    "id": "fgooM30WCA_3"
   },
   "source": [
    "# Feature Engineering\n",
    "\n",
    "adding the following features to `pitches_df`\n",
    "\n",
    "| Feature Name | Description |\n",
    "|------|-------------|\n",
    "| **delta_run_exp** | run value associated with the pitch outcome from `run_values_24`|\n",
    "| **x_0.120** | position in the x dimension of the pitch at decision time (~0.12s) |\n",
    "| **y_0.120** | position in the y dimension of the pitch at decision time (~0.12s) |\n",
    "| **z_0.120** | position in the z dimension of the pitch at decision time (~0.12s) |\n",
    "| **x_0.167** | position in the x dimension of the pitch at commit time (~0.167s) |\n",
    "| **y_0.167** | position in the y dimension of the pitch at commit time (~0.167s) |\n",
    "| **z_0.167** | position in the z dimension of the pitch at commit time (~0.167s) |\n",
    "| **velocity_diff** | difference in velocity between pitches in a two pitch sequence |\n",
    "| **effective_velocity_diff** | difference in effective velocity between pitches in a two pitch sequence |\n",
    "| **pfx_x_diff** | difference in horizontal movement between pitches in a two pitch sequence |\n",
    "| **pfx_z_diff** | difference in vertical movement between pitches in a two pitch sequence |\n",
    "| **3d_dist_0.167** | 3D euclidean distance between pitches in a two pitch sequence 0.167 seconds after release |\n",
    "| **3d_dist_0.120** | 3D distance between pitches in a two pitch sequence at 0.120 seconds after release |\n",
    "| **distance** | 2D euclidean distance between pitch locations when crossing the plate in a two pitch sequence |\n",
    "| **seq_delta_run_exp** | sum of `delta_run_exp` in a two pitch sequence |\n",
    "| **plate_x_diff** | difference in plate_x between pitches in a two pitch sequence |\n",
    "| **plate_z_diff** | difference in plate_z between pitches in a two pitch sequence |\n",
    "\n",
    "On top of adding these features, attributes from LHP should be mirrored as if they were thrown by a RHP for consistency"
   ]
  },
  {
   "cell_type": "markdown",
   "metadata": {
    "id": "_Kua2vl3CA_3"
   },
   "source": [
    "## Expected Run Value\n",
    "\n",
    "Joining the expected runs from run_values_24 to the pitches dataframe so that each pitch has an associated run value.\n",
    "\n",
    "**New Features**\n",
    "\n",
    "- `delta_run_exp`"
   ]
  },
  {
   "cell_type": "code",
   "execution_count": 3,
   "metadata": {},
   "outputs": [
    {
     "data": {
      "text/html": [
       "<div><style>\n",
       ".dataframe > thead > tr,\n",
       ".dataframe > tbody > tr {\n",
       "  text-align: right;\n",
       "  white-space: pre-wrap;\n",
       "}\n",
       "</style>\n",
       "<small>shape: (9, 6)</small><table border=\"1\" class=\"dataframe\"><thead><tr><th>statistic</th><th>pitch_type</th><th>description</th><th>balls</th><th>strikes</th><th>delta_run_exp</th></tr><tr><td>str</td><td>str</td><td>str</td><td>f64</td><td>f64</td><td>f64</td></tr></thead><tbody><tr><td>&quot;count&quot;</td><td>&quot;3275273&quot;</td><td>&quot;3349317&quot;</td><td>3.349317e6</td><td>3.349317e6</td><td>3.349317e6</td></tr><tr><td>&quot;null_count&quot;</td><td>&quot;74044&quot;</td><td>&quot;0&quot;</td><td>0.0</td><td>0.0</td><td>0.0</td></tr><tr><td>&quot;mean&quot;</td><td>null</td><td>null</td><td>0.869556</td><td>0.891261</td><td>0.000012</td></tr><tr><td>&quot;std&quot;</td><td>null</td><td>null</td><td>0.967163</td><td>0.828939</td><td>0.236284</td></tr><tr><td>&quot;min&quot;</td><td>&quot;CH&quot;</td><td>&quot;ball&quot;</td><td>0.0</td><td>0.0</td><td>-1.537</td></tr><tr><td>&quot;25%&quot;</td><td>null</td><td>null</td><td>0.0</td><td>0.0</td><td>-0.063</td></tr><tr><td>&quot;50%&quot;</td><td>null</td><td>null</td><td>1.0</td><td>1.0</td><td>0.0</td></tr><tr><td>&quot;75%&quot;</td><td>null</td><td>null</td><td>1.0</td><td>2.0</td><td>0.034</td></tr><tr><td>&quot;max&quot;</td><td>&quot;SV&quot;</td><td>&quot;swinging_strike_blocked&quot;</td><td>4.0</td><td>3.0</td><td>3.65</td></tr></tbody></table></div>"
      ],
      "text/plain": [
       "shape: (9, 6)\n",
       "┌────────────┬────────────┬─────────────────────────┬────────────┬────────────┬───────────────┐\n",
       "│ statistic  ┆ pitch_type ┆ description             ┆ balls      ┆ strikes    ┆ delta_run_exp │\n",
       "│ ---        ┆ ---        ┆ ---                     ┆ ---        ┆ ---        ┆ ---           │\n",
       "│ str        ┆ str        ┆ str                     ┆ f64        ┆ f64        ┆ f64           │\n",
       "╞════════════╪════════════╪═════════════════════════╪════════════╪════════════╪═══════════════╡\n",
       "│ count      ┆ 3275273    ┆ 3349317                 ┆ 3.349317e6 ┆ 3.349317e6 ┆ 3.349317e6    │\n",
       "│ null_count ┆ 74044      ┆ 0                       ┆ 0.0        ┆ 0.0        ┆ 0.0           │\n",
       "│ mean       ┆ null       ┆ null                    ┆ 0.869556   ┆ 0.891261   ┆ 0.000012      │\n",
       "│ std        ┆ null       ┆ null                    ┆ 0.967163   ┆ 0.828939   ┆ 0.236284      │\n",
       "│ min        ┆ CH         ┆ ball                    ┆ 0.0        ┆ 0.0        ┆ -1.537        │\n",
       "│ 25%        ┆ null       ┆ null                    ┆ 0.0        ┆ 0.0        ┆ -0.063        │\n",
       "│ 50%        ┆ null       ┆ null                    ┆ 1.0        ┆ 1.0        ┆ 0.0           │\n",
       "│ 75%        ┆ null       ┆ null                    ┆ 1.0        ┆ 2.0        ┆ 0.034         │\n",
       "│ max        ┆ SV         ┆ swinging_strike_blocked ┆ 4.0        ┆ 3.0        ┆ 3.65          │\n",
       "└────────────┴────────────┴─────────────────────────┴────────────┴────────────┴───────────────┘"
      ]
     },
     "execution_count": 3,
     "metadata": {},
     "output_type": "execute_result"
    }
   ],
   "source": [
    "def _standardize_events(lf: pl.LazyFrame) -> pl.LazyFrame:\n",
    "    \"\"\"Standardizes events to run_values.csv format\"\"\"\n",
    "    event_mapping = {\n",
    "        \"single\": \"single\",\n",
    "        \"double\": \"double\",\n",
    "        \"triple\": \"triple\",\n",
    "        \"home_run\": \"home_run\",\n",
    "        \"field_out\": \"field_out\",\n",
    "        \"strikeout\": \"strikeout\",\n",
    "        \"walk\": \"walk\",\n",
    "        \"hit_by_pitch\": \"hit_by_pitch\"\n",
    "    }\n",
    "\n",
    "    description_mapping = {\n",
    "        \"called_strike\": \"called_strike\",\n",
    "        \"swinging_strike\": \"swinging_strike\",\n",
    "        \"ball\": \"ball\",\n",
    "        \"foul\": \"foul\",\n",
    "        \"hit_by_pitch\": \"hit_by_pitch\"\n",
    "    }\n",
    "    return lf.with_columns([\n",
    "        # First try to map the event\n",
    "        pl.when(pl.col(\"events\").is_in(event_mapping.keys()))\n",
    "        .then(pl.col(\"events\"))\n",
    "        # If no event match, try to map the description\n",
    "        .otherwise(\n",
    "            pl.when(pl.col(\"description\").is_in(description_mapping.keys()))\n",
    "            .then(pl.col(\"description\"))\n",
    "            # If neither matches, mark as null\n",
    "            .otherwise(None)\n",
    "        ).alias(\"standardized_event\")\n",
    "    ])\n",
    "\n",
    "def add_pitch_run_value(pitches_lf: pl.LazyFrame, run_values_lf: pl.LazyFrame) -> pl.LazyFrame:\n",
    "\n",
    "    def join_run_values(df: pl.LazyFrame) -> pl.LazyFrame:\n",
    "        return (df\n",
    "                .join(\n",
    "                    other=run_values_lf,\n",
    "                    left_on=[\"standardized_event\", \"balls\", \"strikes\"],\n",
    "                    right_on=[\"event\", \"balls\", \"strikes\"],\n",
    "                    how=\"left\",\n",
    "                )\n",
    "                # Handle missing run values\n",
    "                .with_columns([\n",
    "                    pl.when(pl.col(\"delta_run_exp\").is_null())\n",
    "                    .then(0.0)  # Default to 0 run value for unknown events\n",
    "                    .otherwise(pl.col(\"delta_run_exp\"))\n",
    "                    .alias(\"delta_run_exp\")\n",
    "                ]))\n",
    "\n",
    "    return (pitches_lf\n",
    "            .pipe(_standardize_events)\n",
    "            .pipe(join_run_values))\n",
    "\n",
    "\n",
    "pitches_xRV_lf = (pitches_lf\n",
    "                  .pipe(add_pitch_run_value, run_values_24_lf))\n",
    "\n",
    "(pitches_xRV_lf\n",
    "    .select(\n",
    "        \"pitch_type\",\n",
    "        \"description\",\n",
    "        \"balls\",\n",
    "        \"strikes\",\n",
    "        \"delta_run_exp\",\n",
    "    )\n",
    "    .describe())"
   ]
  },
  {
   "cell_type": "code",
   "execution_count": 4,
   "metadata": {},
   "outputs": [
    {
     "data": {
      "image/png": "[encoded data removed]"
     },
     "metadata": {
      "image/png": {
       "height": 480,
       "width": 640
      }
     },
     "output_type": "display_data"
    }
   ],
   "source": [
    "rv_dist = (\n",
    "    ggplot(\n",
    "        pitches_xRV_lf.select(\"delta_run_exp\", \"pitch_type\")\n",
    "        .filter(pl.col(\"pitch_type\").is_in([\"FF\", \"FS\", \"ST\", \"KC\", \"CH\", \"SL\"]))\n",
    "        .collect()\n",
    "        .sample(n=10000),\n",
    "        aes(x=\"pitch_type\", y=\"delta_run_exp\", fill=\"pitch_type\")\n",
    "    )\n",
    "    + geom_violin()\n",
    "    + labs(\n",
    "        title=\"Delta xRV Distribution\",\n",
    "        x=\"Pitch Type\",\n",
    "        y=\"Delta xRV\",\n",
    "        fill=\"Pitch Type\",\n",
    "    )\n",
    ")\n",
    "\n",
    "rv_dist.show()"
   ]
  },
  {
   "cell_type": "markdown",
   "metadata": {
    "id": "4MsyUTqeCA_3"
   },
   "source": [
    "In order to keep it simple, I am mirroring the movement and the horizontal release position of each pitch thrown from LHP, to as if it were thrown by RHP."
   ]
  },
  {
   "cell_type": "code",
   "execution_count": 5,
   "metadata": {
    "colab": {
     "base_uri": "https://localhost:8080/",
     "height": 497
    },
    "id": "Kz5wYZ66CA_3",
    "outputId": "3348e121-6a41-4e0f-b9a3-65c8a8f32d5c"
   },
   "outputs": [
    {
     "data": {
      "image/png": "[encoded data removed]"
     },
     "metadata": {
      "image/png": {
       "height": 480,
       "width": 640
      }
     },
     "output_type": "display_data"
    }
   ],
   "source": [
    "def mirror_lhp_to_rhp(lf: pl.LazyFrame) -> pl.LazyFrame:\n",
    "    return lf.with_columns(\n",
    "        # mirror LHP horizontal movement\n",
    "        pl.when(pl.col(\"p_throws\") == \"L\")\n",
    "        .then(-pl.col(\"pfx_x\"))\n",
    "        .otherwise(pl.col(\"pfx_x\")),\n",
    "\n",
    "        # also mirror the horizontal release point\n",
    "        # (release_pos_x is from catcher perspective)\n",
    "        pl.when(pl.col(\"p_throws\") == \"L\")\n",
    "        .then(-pl.col(\"release_pos_x\"))\n",
    "        .otherwise(pl.col(\"release_pos_x\")),\n",
    "    )\n",
    "\n",
    "mirrored_pitches_lf = pitches_xRV_lf.pipe(mirror_lhp_to_rhp)\n",
    "\n",
    "# for verification\n",
    "movement_plt = (\n",
    "    ggplot(\n",
    "        mirrored_pitches_lf\n",
    "        .filter(pl.col(\"pitch_type\").is_in([\"FF\", \"KC\", \"SL\", \"CH\"]))\n",
    "        .group_by(\"pitch_type\", \"p_throws\")\n",
    "        .agg(\n",
    "            pl.col(\"pfx_x\").median().alias(\"median_pfx_x\"),\n",
    "            pl.col(\"pfx_z\").median().alias(\"median_pfx_z\"),\n",
    "        ).collect(),\n",
    "        aes(x=\"median_pfx_x\", y=\"median_pfx_z\", color=\"pitch_type\", shape=\"p_throws\"))\n",
    "    + geom_point()\n",
    "    + geom_vline(xintercept=0)\n",
    "    + geom_hline(yintercept=0)\n",
    "    + labs(\n",
    "        title=\"Mirrored LHP Movement Verification\",\n",
    "        x=\"median Horizontal Movement (ft.)\",\n",
    "        y=\"median Vertical Movement (ft.)\",\n",
    "        shape=\"Pitcher Hand\",\n",
    "        subtitle=\"Colors represent pitch_type\",\n",
    "    )\n",
    ")\n",
    "\n",
    "movement_plt.show()"
   ]
  },
  {
   "cell_type": "markdown",
   "metadata": {
    "id": "CCzg9FpHCA_3"
   },
   "source": [
    "Horizontal movement profiles are mirrored now!"
   ]
  },
  {
   "cell_type": "markdown",
   "metadata": {
    "id": "6-ajJ2-HCA_3"
   },
   "source": [
    "## 3D Pitch Location Estimation\n",
    "\n",
    "Now to add ball positions in 3D space at both [decision time]() (0.12s) & [commit time]() (0.167s)\n",
    "\n",
    "### Step 1: Time to 50ft. from home plate\n",
    "\n",
    "Estimate the time it took the baseball to travel from release point to 50ft from home plate (the point where we have measurements for a &v in x, y, z dimensions)\n",
    "\n",
    "$t_{50} = \\frac{(60 + 6/12) - 50 - extension}{vft * 1.05}$\n",
    "\n",
    "Where ...\n",
    "- $extension = $ distance from the rubber where the pitch was released<br>\n",
    "- $vft = $ release_speed in ft/s\n",
    "\n",
    "I multiply the velocity by 1.05 in order to dialate the time by 5%. This makes our estimation of position more accurate because it helps account for error that we get from assuming that acceleration is constant in the kinematic equations for displacement.\n",
    "\n",
    "**New Features**\n",
    "- `t50`: estimated time it took the ball to get to 50ft. from home plate\n",
    "- `release_pos_y`: release position in the y dimension converted to feet\n"
   ]
  },
  {
   "cell_type": "code",
   "execution_count": 6,
   "metadata": {
    "colab": {
     "base_uri": "https://localhost:8080/",
     "height": 376
    },
    "id": "ZOzfn-aEOsAs",
    "outputId": "5c2e8b50-95d3-42b2-c7cd-3fbed1480fdf"
   },
   "outputs": [
    {
     "data": {
      "text/html": [
       "<div><style>\n",
       ".dataframe > thead > tr,\n",
       ".dataframe > tbody > tr {\n",
       "  text-align: right;\n",
       "  white-space: pre-wrap;\n",
       "}\n",
       "</style>\n",
       "<small>shape: (9, 3)</small><table border=\"1\" class=\"dataframe\"><thead><tr><th>statistic</th><th>release_pos_y</th><th>t50</th></tr><tr><td>str</td><td>f64</td><td>f64</td></tr></thead><tbody><tr><td>&quot;count&quot;</td><td>3.273821e6</td><td>3.267351e6</td></tr><tr><td>&quot;null_count&quot;</td><td>75496.0</td><td>81966.0</td></tr><tr><td>&quot;mean&quot;</td><td>4.510473</td><td>0.030309</td></tr><tr><td>&quot;std&quot;</td><td>0.038164</td><td>0.004457</td></tr><tr><td>&quot;min&quot;</td><td>3.943333</td><td>-0.011455</td></tr><tr><td>&quot;25%&quot;</td><td>4.485833</td><td>0.027378</td></tr><tr><td>&quot;50%&quot;</td><td>4.51</td><td>0.030015</td></tr><tr><td>&quot;75%&quot;</td><td>4.535833</td><td>0.032888</td></tr><tr><td>&quot;max&quot;</td><td>4.8075</td><td>0.147386</td></tr></tbody></table></div>"
      ],
      "text/plain": [
       "shape: (9, 3)\n",
       "┌────────────┬───────────────┬────────────┐\n",
       "│ statistic  ┆ release_pos_y ┆ t50        │\n",
       "│ ---        ┆ ---           ┆ ---        │\n",
       "│ str        ┆ f64           ┆ f64        │\n",
       "╞════════════╪═══════════════╪════════════╡\n",
       "│ count      ┆ 3.273821e6    ┆ 3.267351e6 │\n",
       "│ null_count ┆ 75496.0       ┆ 81966.0    │\n",
       "│ mean       ┆ 4.510473      ┆ 0.030309   │\n",
       "│ std        ┆ 0.038164      ┆ 0.004457   │\n",
       "│ min        ┆ 3.943333      ┆ -0.011455  │\n",
       "│ 25%        ┆ 4.485833      ┆ 0.027378   │\n",
       "│ 50%        ┆ 4.51          ┆ 0.030015   │\n",
       "│ 75%        ┆ 4.535833      ┆ 0.032888   │\n",
       "│ max        ┆ 4.8075        ┆ 0.147386   │\n",
       "└────────────┴───────────────┴────────────┘"
      ]
     },
     "execution_count": 6,
     "metadata": {},
     "output_type": "execute_result"
    }
   ],
   "source": [
    "def displacement(p0, v0, t, a):\n",
    "    return p0 + v0 * t + 0.5 * a * t**2\n",
    "\n",
    "def convert_release_y_to_ft(lf: pl.LazyFrame) -> pl.LazyFrame:\n",
    "    return lf.with_columns(pl.col(\"release_pos_y\") / 12)\n",
    "\n",
    "def estimate_time_to_50ft(lf: pl.LazyFrame) -> pl.LazyFrame:\n",
    "    return lf.with_columns(\n",
    "        ((((60 + 6/12) - 50) - pl.col(\"release_extension\"))\n",
    "        / ((pl.col(\"release_speed\") * (5280/3600) * 1.05))).alias(\"t50\")\n",
    "    )\n",
    "\n",
    "time_to_50ft_lf = (pitches_xRV_lf\n",
    "                   .pipe(convert_release_y_to_ft)\n",
    "                   .pipe(estimate_time_to_50ft))\n",
    "\n",
    "(time_to_50ft_lf\n",
    "    .select(\"release_pos_y\", \"t50\")\n",
    "    .describe())"
   ]
  },
  {
   "cell_type": "markdown",
   "metadata": {
    "id": "cGFheH9oOz3z"
   },
   "source": [
    "### Step 2: x, y, & z positions at 50ft. from home plate\n",
    "\n",
    "For this I use the kinematic equations with the acceleration, velocity and now our time estimate, $t_{50}$, to calculate displacement in each dimension.\n",
    "\n",
    "$d_{50} = r_{dim} + v_{dim} * t_{50} * \\frac{1}{2} * a_{dim} * t_{50}^2$\n",
    "\n",
    "Where ...\n",
    "- $r_{dim} = $ release position in x, y or z dimension\n",
    "- $v_{dim} = $ velocity at 50ft. from home plate in x, y or z dimension\n",
    "- $a_{dim} = $ acceleration at 50ft. from home plate in x, y or z dimension\n",
    "- $t_{50} = $ estimated time that it took to get to 50ft. from home plate from step 1\n",
    "\n",
    "**New Features**\n",
    "- `x50`: position in the x dimension when the ball is 50ft. from home plate\n",
    "- `y50`: position in the y dimension when the ball is 50ft. from home plate\n",
    "- `z50`: position in the z dimension when the ball is 50ft. from home plate\n"
   ]
  },
  {
   "cell_type": "code",
   "execution_count": 7,
   "metadata": {
    "colab": {
     "base_uri": "https://localhost:8080/",
     "height": 376
    },
    "id": "HAFosMUMO3Q7",
    "outputId": "0f5394c4-7ac7-45e7-9cef-cbe2461bc9f5"
   },
   "outputs": [
    {
     "data": {
      "text/html": [
       "<div><style>\n",
       ".dataframe > thead > tr,\n",
       ".dataframe > tbody > tr {\n",
       "  text-align: right;\n",
       "  white-space: pre-wrap;\n",
       "}\n",
       "</style>\n",
       "<small>shape: (9, 4)</small><table border=\"1\" class=\"dataframe\"><thead><tr><th>statistic</th><th>x50</th><th>y50</th><th>z50</th></tr><tr><td>str</td><td>f64</td><td>f64</td><td>f64</td></tr></thead><tbody><tr><td>&quot;count&quot;</td><td>3.267351e6</td><td>3.267351e6</td><td>3.267351e6</td></tr><tr><td>&quot;null_count&quot;</td><td>81966.0</td><td>81966.0</td><td>81966.0</td></tr><tr><td>&quot;mean&quot;</td><td>-0.733091</td><td>0.62623</td><td>5.677062</td></tr><tr><td>&quot;std&quot;</td><td>1.705633</td><td>0.39354</td><td>0.503183</td></tr><tr><td>&quot;min&quot;</td><td>-5.203945</td><td>-2.449655</td><td>1.036836</td></tr><tr><td>&quot;25%&quot;</td><td>-1.936412</td><td>0.385009</td><td>5.422181</td></tr><tr><td>&quot;50%&quot;</td><td>-1.355324</td><td>0.644951</td><td>5.709631</td></tr><tr><td>&quot;75%&quot;</td><td>0.840564</td><td>0.901346</td><td>5.986481</td></tr><tr><td>&quot;max&quot;</td><td>4.521722</td><td>5.5406</td><td>9.537938</td></tr></tbody></table></div>"
      ],
      "text/plain": [
       "shape: (9, 4)\n",
       "┌────────────┬────────────┬────────────┬────────────┐\n",
       "│ statistic  ┆ x50        ┆ y50        ┆ z50        │\n",
       "│ ---        ┆ ---        ┆ ---        ┆ ---        │\n",
       "│ str        ┆ f64        ┆ f64        ┆ f64        │\n",
       "╞════════════╪════════════╪════════════╪════════════╡\n",
       "│ count      ┆ 3.267351e6 ┆ 3.267351e6 ┆ 3.267351e6 │\n",
       "│ null_count ┆ 81966.0    ┆ 81966.0    ┆ 81966.0    │\n",
       "│ mean       ┆ -0.733091  ┆ 0.62623    ┆ 5.677062   │\n",
       "│ std        ┆ 1.705633   ┆ 0.39354    ┆ 0.503183   │\n",
       "│ min        ┆ -5.203945  ┆ -2.449655  ┆ 1.036836   │\n",
       "│ 25%        ┆ -1.936412  ┆ 0.385009   ┆ 5.422181   │\n",
       "│ 50%        ┆ -1.355324  ┆ 0.644951   ┆ 5.709631   │\n",
       "│ 75%        ┆ 0.840564   ┆ 0.901346   ┆ 5.986481   │\n",
       "│ max        ┆ 4.521722   ┆ 5.5406     ┆ 9.537938   │\n",
       "└────────────┴────────────┴────────────┴────────────┘"
      ]
     },
     "execution_count": 7,
     "metadata": {},
     "output_type": "execute_result"
    }
   ],
   "source": [
    "def estimate_pos_at_50ft(lf: pl.LazyFrame) -> pl.LazyFrame:\n",
    "    return lf.with_columns(\n",
    "        displacement(\n",
    "            p0=pl.col(f\"release_pos_{d}\"),\n",
    "            v0=pl.col(f\"v{d}0\"),\n",
    "            a=pl.col(f\"a{d}\"),\n",
    "            t=pl.col(\"t50\"),\n",
    "        ).alias(f\"{d}50\")\n",
    "        for d in [\"x\", \"y\", \"z\"]\n",
    "    )\n",
    "\n",
    "pos_at_50ft_lf = time_to_50ft_lf.pipe(estimate_pos_at_50ft)\n",
    "\n",
    "(pos_at_50ft_lf\n",
    "    .select(\"x50\", \"y50\", \"z50\")\n",
    "    .describe())"
   ]
  },
  {
   "cell_type": "markdown",
   "metadata": {
    "id": "T-GVbYgyO2Nr"
   },
   "source": [
    "### Step 3: Estimate 3D positions at commit time & decision time\n",
    "\n",
    "Now we can make an estimate of where the ball is in all dimensions, at any given time. But I am interested specifically in 0.120 seconds after release (commit time), and 0.167 seconds after release (decision time).\n",
    "\n",
    "For this I use the same formula that I used to esimate position at 50ft. from home plate, except I start from that 50ft. mark by calculating the difference in time between $t_{50}$ and $t_{i}$.\n",
    "\n",
    "$d_{i} = p_{50} + v_{50} * (t_{50} - t_{i}) * \\frac{1}{2} * a_{50} * (t_{50} - t_{i})^2$\n",
    "\n",
    "Where ...\n",
    "- $p_{50} = $ position in x, y, or z dimension at 50 ft. from home plate\n",
    "\n",
    "I am assuming that both $v$ and $a$ are constant, again using a 5% time dilation as a crutch to help account for this.\n",
    "\n",
    "**New Features**\n",
    "- `x_0.120`: position in the x dimension at 0.120 seconds after release (commit time)\n",
    "- `y_0.120`: position in the y dimension at 0.120 seconds after release (commit time)\n",
    "- `y_0.120`: position in the z dimension at 0.120 seconds after release (commit time)\n",
    "- `x_0.167`: position in the x dimension at 0.120 seconds after release (decision time)\n",
    "- `y_0.167`: position in the y dimension at 0.120 seconds after release (decision time)\n",
    "- `y_0.167`: position in the z dimension at 0.120 seconds after release (decision time)\n",
    "- `t_plate`: estimated time that it takes the ball to reach home plate\n",
    "- `x_plate`: position in the x dimension when the ball crossed the plate\n",
    "- `y_plate`: position in the y dimension when the ball crossed the plate\n",
    "- `z_plate`: position in the z dimension when the ball crossed the plate\n"
   ]
  },
  {
   "cell_type": "code",
   "execution_count": 8,
   "metadata": {
    "colab": {
     "base_uri": "https://localhost:8080/",
     "height": 376
    },
    "id": "iVM-ngf4Esmv",
    "outputId": "24431204-0c71-42b8-d9e9-348542d71be6"
   },
   "outputs": [
    {
     "data": {
      "text/html": [
       "<div><style>\n",
       ".dataframe > thead > tr,\n",
       ".dataframe > tbody > tr {\n",
       "  text-align: right;\n",
       "  white-space: pre-wrap;\n",
       "}\n",
       "</style>\n",
       "<small>shape: (9, 11)</small><table border=\"1\" class=\"dataframe\"><thead><tr><th>statistic</th><th>t50</th><th>x_0.120</th><th>y_0.120</th><th>z_0.120</th><th>x_0.167</th><th>y_0.167</th><th>z_0.167</th><th>x_plate</th><th>y_plate</th><th>z_plate</th></tr><tr><td>str</td><td>f64</td><td>f64</td><td>f64</td><td>f64</td><td>f64</td><td>f64</td><td>f64</td><td>f64</td><td>f64</td><td>f64</td></tr></thead><tbody><tr><td>&quot;count&quot;</td><td>3.267351e6</td><td>3.267351e6</td><td>3.267351e6</td><td>3.267351e6</td><td>3.267351e6</td><td>3.267351e6</td><td>3.267351e6</td><td>3.267351e6</td><td>3.267351e6</td><td>3.267351e6</td></tr><tr><td>&quot;null_count&quot;</td><td>81966.0</td><td>81966.0</td><td>81966.0</td><td>81966.0</td><td>81966.0</td><td>81966.0</td><td>81966.0</td><td>81966.0</td><td>81966.0</td><td>81966.0</td></tr><tr><td>&quot;mean&quot;</td><td>0.030309</td><td>-0.526471</td><td>-10.891515</td><td>5.22945</td><td>-0.427037</td><td>-16.828183</td><td>4.920959</td><td>-0.005418</td><td>-44.812312</td><td>2.616632</td></tr><tr><td>&quot;std&quot;</td><td>0.004457</td><td>1.279699</td><td>1.042835</td><td>0.486429</td><td>1.092266</td><td>1.43551</td><td>0.522797</td><td>0.78338</td><td>0.448776</td><td>0.894262</td></tr><tr><td>&quot;min&quot;</td><td>-0.011455</td><td>-9.326163</td><td>-13.681389</td><td>-3.299011</td><td>-14.609828</td><td>-20.63631</td><td>-7.158099</td><td>-114.369224</td><td>-140.804898</td><td>-76.964296</td></tr><tr><td>&quot;25%&quot;</td><td>0.027378</td><td>-1.429853</td><td>-11.723838</td><td>4.932507</td><td>-1.198617</td><td>-17.974188</td><td>4.583346</td><td>-0.530056</td><td>-45.104226</td><td>2.03255</td></tr><tr><td>&quot;50%&quot;</td><td>0.030015</td><td>-0.923173</td><td>-11.049736</td><td>5.224253</td><td>-0.705097</td><td>-17.048448</td><td>4.903229</td><td>-0.004475</td><td>-44.806309</td><td>2.61775</td></tr><tr><td>&quot;75%&quot;</td><td>0.032888</td><td>0.505488</td><td>-10.158555</td><td>5.52804</td><td>0.344841</td><td>-15.820425</td><td>5.241046</td><td>0.519643</td><td>-44.517405</td><td>3.203951</td></tr><tr><td>&quot;max&quot;</td><td>0.147386</td><td>4.386514</td><td>-0.097775</td><td>9.172685</td><td>4.541119</td><td>-1.997461</td><td>9.883671</td><td>8.951553</td><td>-39.263614</td><td>13.698295</td></tr></tbody></table></div>"
      ],
      "text/plain": [
       "shape: (9, 11)\n",
       "┌───────────┬───────────┬───────────┬───────────┬───┬───────────┬───────────┬───────────┬──────────┐\n",
       "│ statistic ┆ t50       ┆ x_0.120   ┆ y_0.120   ┆ … ┆ z_0.167   ┆ x_plate   ┆ y_plate   ┆ z_plate  │\n",
       "│ ---       ┆ ---       ┆ ---       ┆ ---       ┆   ┆ ---       ┆ ---       ┆ ---       ┆ ---      │\n",
       "│ str       ┆ f64       ┆ f64       ┆ f64       ┆   ┆ f64       ┆ f64       ┆ f64       ┆ f64      │\n",
       "╞═══════════╪═══════════╪═══════════╪═══════════╪═══╪═══════════╪═══════════╪═══════════╪══════════╡\n",
       "│ count     ┆ 3.267351e ┆ 3.267351e ┆ 3.267351e ┆ … ┆ 3.267351e ┆ 3.267351e ┆ 3.267351e ┆ 3.267351 │\n",
       "│           ┆ 6         ┆ 6         ┆ 6         ┆   ┆ 6         ┆ 6         ┆ 6         ┆ e6       │\n",
       "│ null_coun ┆ 81966.0   ┆ 81966.0   ┆ 81966.0   ┆ … ┆ 81966.0   ┆ 81966.0   ┆ 81966.0   ┆ 81966.0  │\n",
       "│ t         ┆           ┆           ┆           ┆   ┆           ┆           ┆           ┆          │\n",
       "│ mean      ┆ 0.030309  ┆ -0.526471 ┆ -10.89151 ┆ … ┆ 4.920959  ┆ -0.005418 ┆ -44.81231 ┆ 2.616632 │\n",
       "│           ┆           ┆           ┆ 5         ┆   ┆           ┆           ┆ 2         ┆          │\n",
       "│ std       ┆ 0.004457  ┆ 1.279699  ┆ 1.042835  ┆ … ┆ 0.522797  ┆ 0.78338   ┆ 0.448776  ┆ 0.894262 │\n",
       "│ min       ┆ -0.011455 ┆ -9.326163 ┆ -13.68138 ┆ … ┆ -7.158099 ┆ -114.3692 ┆ -140.8048 ┆ -76.9642 │\n",
       "│           ┆           ┆           ┆ 9         ┆   ┆           ┆ 24        ┆ 98        ┆ 96       │\n",
       "│ 25%       ┆ 0.027378  ┆ -1.429853 ┆ -11.72383 ┆ … ┆ 4.583346  ┆ -0.530056 ┆ -45.10422 ┆ 2.03255  │\n",
       "│           ┆           ┆           ┆ 8         ┆   ┆           ┆           ┆ 6         ┆          │\n",
       "│ 50%       ┆ 0.030015  ┆ -0.923173 ┆ -11.04973 ┆ … ┆ 4.903229  ┆ -0.004475 ┆ -44.80630 ┆ 2.61775  │\n",
       "│           ┆           ┆           ┆ 6         ┆   ┆           ┆           ┆ 9         ┆          │\n",
       "│ 75%       ┆ 0.032888  ┆ 0.505488  ┆ -10.15855 ┆ … ┆ 5.241046  ┆ 0.519643  ┆ -44.51740 ┆ 3.203951 │\n",
       "│           ┆           ┆           ┆ 5         ┆   ┆           ┆           ┆ 5         ┆          │\n",
       "│ max       ┆ 0.147386  ┆ 4.386514  ┆ -0.097775 ┆ … ┆ 9.883671  ┆ 8.951553  ┆ -39.26361 ┆ 13.69829 │\n",
       "│           ┆           ┆           ┆           ┆   ┆           ┆           ┆ 4         ┆ 5        │\n",
       "└───────────┴───────────┴───────────┴───────────┴───┴───────────┴───────────┴───────────┴──────────┘"
      ]
     },
     "execution_count": 8,
     "metadata": {},
     "output_type": "execute_result"
    }
   ],
   "source": [
    "def estimate_time_to_plate(lf: pl.LazyFrame) -> pl.LazyFrame:\n",
    "    return lf.with_columns(\n",
    "        (((60 + 6/12) - pl.col(\"release_extension\"))\n",
    "        / ((pl.col(\"release_speed\") * (5280/3600) * 1.05))).alias(\"t_plate\")\n",
    "    )\n",
    "\n",
    "def estimate_ball_pos_at_plate(lf: pl.LazyFrame) -> pl.LazyFrame:\n",
    "    return lf.with_columns(\n",
    "        displacement(\n",
    "            p0=pl.col(f\"{d}50\"),\n",
    "            v0=pl.col(f\"v{d}0\"),\n",
    "            a=pl.col(f\"a{d}\"),\n",
    "            t=pl.col(\"t_plate\") - pl.col(\"t50\"),\n",
    "        ).alias(f\"{d}_plate\")\n",
    "        for d in [\"x\", \"y\", \"z\"]\n",
    "    )\n",
    "\n",
    "def estimate_ball_pos_at_t(lf: pl.LazyFrame, times: list[float]) -> pl.LazyFrame:\n",
    "    return lf.with_columns(\n",
    "        displacement(\n",
    "            p0=pl.col(f\"{d}50\"),\n",
    "            v0=pl.col(f\"v{d}0\"),\n",
    "            a=pl.col(f\"a{d}\"),\n",
    "            t=t - pl.col(\"t50\"),\n",
    "        ).alias(f\"{d}_{t:.3f}\")\n",
    "        for d in [\"x\", \"y\", \"z\"]\n",
    "        for t in times\n",
    "    )\n",
    "\n",
    "TIMES = [0.120, 0.167]\n",
    "\n",
    "ball_pos_lf = (pos_at_50ft_lf\n",
    "               .pipe(estimate_time_to_plate)\n",
    "               .pipe(estimate_ball_pos_at_plate)\n",
    "               .pipe(estimate_ball_pos_at_t, TIMES))\n",
    "\n",
    "(ball_pos_lf\n",
    "    .select(\"t50\", \"x_0.120\", \"y_0.120\", \"z_0.120\",\n",
    "            \"x_0.167\", \"y_0.167\", \"z_0.167\", \"x_plate\", \"y_plate\", \"z_plate\")\n",
    "    .describe())"
   ]
  },
  {
   "cell_type": "markdown",
   "metadata": {
    "id": "h2s1Y3DNmQGM"
   },
   "source": [
    "### Pitch Location Visualization\n",
    "\n",
    "In order to make sure this is working, here I make a 3D scatter plot of 3 random pitches thrown by Yu Darvish in the 2024 season and their estimated positions at release, 50ft from home, commit time, decision time, and across the plate.\n",
    "\n",
    "**Plot Line Color Legend**\n",
    "- `Sweeper`: Purple\n",
    "- `Splitter`: Yellow\n",
    "- `Slider`: Green\n",
    "- `Knuckle Curve`: Blue\n",
    "- `Four Seam Fastball`: Red\n"
   ]
  },
  {
   "cell_type": "code",
   "execution_count": 9,
   "metadata": {
    "colab": {
     "base_uri": "https://localhost:8080/",
     "height": 542
    },
    "id": "NyKMJTUgCA_4",
    "outputId": "bea9b4e0-af19-43dd-a8bc-5ba663d980d8"
   },
   "outputs": [
    {
     "data": {
      "application/vnd.plotly.v1+json": {
       "config": {
        "plotlyServerURL": "https://plot.ly"
       },
       "data": [
        {
         "hovertemplate": "<extra></extra>",
         "legendgroup": "",
         "marker": {
          "color": "#636efa",
          "symbol": "circle"
         },
         "mode": "markers",
         "name": "",
         "scene": "scene",
         "showlegend": false,
         "type": "scatter3d"
        },
        {
         "hovertemplate": "x=%{x}<br>y=%{y}<br>z=%{z}<extra></extra>",
         "legendgroup": "",
         "line": {
          "color": "purple",
          "dash": "solid"
         },
         "marker": {
          "symbol": "circle"
         },
         "mode": "lines",
         "name": "",
         "scene": "scene",
         "showlegend": false,
         "type": "scatter3d",
         "x": [
          -2.91,
          -2.902687223377397,
          -2.6026202752514362,
          -2.281519375463044,
          -1.9393845240122212,
          -1.5762157208989673,
          -1.1920129661232821,
          -0.7867762596851655,
          -0.36050560158461825,
          0.08679900817836039,
          0.5551375696037703
         ],
         "y": [
          4.494166666666667,
          4.5169552710229866,
          -1.7346402777601948,
          -7.92068830236446,
          -14.041188802789812,
          -20.096141779036245,
          -26.08554723110376,
          -32.009405158992365,
          -37.867715562702045,
          -43.66047844223281,
          -49.38769379758466
         ],
         "z": [
          5.52,
          5.493082579092839,
          5.352009391961559,
          5.133512845761917,
          4.837592940493913,
          4.464249676157545,
          4.0134830527528145,
          3.485293070279722,
          2.8796797287382674,
          2.1966430281284497,
          1.4361829684502694
         ]
        },
        {
         "hovertemplate": "x=%{x}<br>y=%{y}<br>z=%{z}<extra></extra>",
         "legendgroup": "",
         "line": {
          "color": "red",
          "dash": "solid"
         },
         "marker": {
          "symbol": "circle"
         },
         "mode": "lines",
         "name": "",
         "scene": "scene",
         "showlegend": false,
         "type": "scatter3d",
         "x": [
          -1.81,
          -1.8176029376533145,
          -1.5712207216572087,
          -1.3509700363570751,
          -1.1568508817529133,
          -0.9888632578447233,
          -0.8470071646325055,
          -0.7312826021162595,
          -0.6416895702959854,
          -0.5782280691716835,
          -0.5408980987433532
         ],
         "y": [
          4.494166666666667,
          4.516509026546153,
          -2.3155533439223963,
          -9.070824335895722,
          -15.749303949373829,
          -22.35099218435671,
          -28.875889040844367,
          -35.323994518836805,
          -41.69530861833402,
          -47.989831339336014,
          -54.20756268184278
         ],
         "z": [
          5.77,
          5.760692972100552,
          5.478191130670328,
          5.163700747924542,
          4.817221823863195,
          4.438754358486286,
          4.028298351793814,
          3.585853803785781,
          3.111420714462186,
          2.604999083823029,
          2.06658891186831
         ]
        },
        {
         "hovertemplate": "x=%{x}<br>y=%{y}<br>z=%{z}<extra></extra>",
         "legendgroup": "",
         "line": {
          "color": "blue",
          "dash": "solid"
         },
         "marker": {
          "symbol": "circle"
         },
         "mode": "lines",
         "name": "",
         "scene": "scene",
         "showlegend": false,
         "type": "scatter3d",
         "x": [
          -1.87,
          -1.8670358671303262,
          -1.6356222630764883,
          -1.3965358757830397,
          -1.1497767052499812,
          -0.895344751477312,
          -0.6332400144650325,
          -0.3634624942131421,
          -0.08601219072164176,
          0.1991108960094692,
          0.49190676598019045
         ],
         "y": [
          4.485833333333333,
          4.510538485334039,
          -1.266315214263817,
          -6.979218583516364,
          -12.6281716224236,
          -18.213174330985524,
          -23.73422670920214,
          -29.19132875707345,
          -34.584480474599445,
          -39.91368186178013,
          -45.1789329186155
         ],
         "z": [
          5.59,
          5.549771456954398,
          5.464165613223397,
          5.274426485187843,
          4.980554072847734,
          4.58254837620307,
          4.0804093952538505,
          3.4741371300000767,
          2.763731580441749,
          1.9491927465788654,
          1.0305206284114274
         ]
        },
        {
         "hovertemplate": "x=%{x}<br>y=%{y}<br>z=%{z}<extra></extra>",
         "legendgroup": "",
         "line": {
          "color": "yellow",
          "dash": "solid"
         },
         "marker": {
          "symbol": "circle"
         },
         "mode": "lines",
         "name": "",
         "scene": "scene",
         "showlegend": false,
         "type": "scatter3d",
         "x": [
          -1.64,
          -1.6474922402024095,
          -1.326358762873355,
          -1.0304102598149103,
          -0.7596467310270747,
          -0.5140681765098488,
          -0.2936745962632321,
          -0.09846599028722436,
          0.07155764141817345,
          0.21639629885296185,
          0.336049982017141
         ],
         "y": [
          4.471666666666666,
          4.490590707196002,
          -1.918868439179705,
          -8.264714906176279,
          -14.546948693793725,
          -20.765569802032037,
          -26.92057823089121,
          -33.011973980371266,
          -39.03975705047218,
          -45.00392744119396,
          -50.9044851525366
         ],
         "z": [
          5.51,
          5.492884305168484,
          5.230700716159419,
          4.910983155693232,
          4.533731623769928,
          4.098946120389504,
          3.6066266455519607,
          3.056773199257297,
          2.4493857815055144,
          1.7844643922966124,
          1.0620090316305917
         ]
        },
        {
         "hovertemplate": "x=%{x}<br>y=%{y}<br>z=%{z}<extra></extra>",
         "legendgroup": "",
         "line": {
          "color": "green",
          "dash": "solid"
         },
         "marker": {
          "symbol": "circle"
         },
         "mode": "lines",
         "name": "",
         "scene": "scene",
         "showlegend": false,
         "type": "scatter3d",
         "x": [
          -1.87,
          -1.86602598365362,
          -1.699800321669698,
          -1.5215065066512046,
          -1.3311445385981397,
          -1.1287144175105033,
          -0.9142161433882956,
          -0.6876497162315159,
          -0.4490151360401652,
          -0.19831240281424323,
          0.06445848344625044
         ],
         "y": [
          4.4833333333333325,
          4.5016804859895,
          -1.7694237304738434,
          -7.984811959204784,
          -14.144484200203324,
          -20.24844045346946,
          -26.29668071900319,
          -32.28920499680452,
          -38.22601328687345,
          -44.10710558920997,
          -49.9324819038141
         ],
         "z": [
          5.81,
          5.785747500313463,
          5.719125507616614,
          5.578854377075972,
          5.364934108691539,
          5.077364702463314,
          4.7161461583912985,
          4.28127847647549,
          3.7727616567158906,
          3.1905956991124995,
          2.5347806036653164
         ]
        }
       ],
       "layout": {
        "legend": {
         "tracegroupgap": 0
        },
        "margin": {
         "t": 60
        },
        "scene": {
         "domain": {
          "x": [
           0,
           1
          ],
          "y": [
           0,
           1
          ]
         }
        },
        "showlegend": true,
        "template": {
         "data": {
          "bar": [
           {
            "error_x": {
             "color": "#2a3f5f"
            },
            "error_y": {
             "color": "#2a3f5f"
            },
            "marker": {
             "line": {
              "color": "#E5ECF6",
              "width": 0.5
             },
             "pattern": {
              "fillmode": "overlay",
              "size": 10,
              "solidity": 0.2
             }
            },
            "type": "bar"
           }
          ],
          "barpolar": [
           {
            "marker": {
             "line": {
              "color": "#E5ECF6",
              "width": 0.5
             },
             "pattern": {
              "fillmode": "overlay",
              "size": 10,
              "solidity": 0.2
             }
            },
            "type": "barpolar"
           }
          ],
          "carpet": [
           {
            "aaxis": {
             "endlinecolor": "#2a3f5f",
             "gridcolor": "white",
             "linecolor": "white",
             "minorgridcolor": "white",
             "startlinecolor": "#2a3f5f"
            },
            "baxis": {
             "endlinecolor": "#2a3f5f",
             "gridcolor": "white",
             "linecolor": "white",
             "minorgridcolor": "white",
             "startlinecolor": "#2a3f5f"
            },
            "type": "carpet"
           }
          ],
          "choropleth": [
           {
            "colorbar": {
             "outlinewidth": 0,
             "ticks": ""
            },
            "type": "choropleth"
           }
          ],
          "contour": [
           {
            "colorbar": {
             "outlinewidth": 0,
             "ticks": ""
            },
            "colorscale": [
             [
              0,
              "#0d0887"
             ],
             [
              0.1111111111111111,
              "#46039f"
             ],
             [
              0.2222222222222222,
              "#7201a8"
             ],
             [
              0.3333333333333333,
              "#9c179e"
             ],
             [
              0.4444444444444444,
              "#bd3786"
             ],
             [
              0.5555555555555556,
              "#d8576b"
             ],
             [
              0.6666666666666666,
              "#ed7953"
             ],
             [
              0.7777777777777778,
              "#fb9f3a"
             ],
             [
              0.8888888888888888,
              "#fdca26"
             ],
             [
              1,
              "#f0f921"
             ]
            ],
            "type": "contour"
           }
          ],
          "contourcarpet": [
           {
            "colorbar": {
             "outlinewidth": 0,
             "ticks": ""
            },
            "type": "contourcarpet"
           }
          ],
          "heatmap": [
           {
            "colorbar": {
             "outlinewidth": 0,
             "ticks": ""
            },
            "colorscale": [
             [
              0,
              "#0d0887"
             ],
             [
              0.1111111111111111,
              "#46039f"
             ],
             [
              0.2222222222222222,
              "#7201a8"
             ],
             [
              0.3333333333333333,
              "#9c179e"
             ],
             [
              0.4444444444444444,
              "#bd3786"
             ],
             [
              0.5555555555555556,
              "#d8576b"
             ],
             [
              0.6666666666666666,
              "#ed7953"
             ],
             [
              0.7777777777777778,
              "#fb9f3a"
             ],
             [
              0.8888888888888888,
              "#fdca26"
             ],
             [
              1,
              "#f0f921"
             ]
            ],
            "type": "heatmap"
           }
          ],
          "heatmapgl": [
           {
            "colorbar": {
             "outlinewidth": 0,
             "ticks": ""
            },
            "colorscale": [
             [
              0,
              "#0d0887"
             ],
             [
              0.1111111111111111,
              "#46039f"
             ],
             [
              0.2222222222222222,
              "#7201a8"
             ],
             [
              0.3333333333333333,
              "#9c179e"
             ],
             [
              0.4444444444444444,
              "#bd3786"
             ],
             [
              0.5555555555555556,
              "#d8576b"
             ],
             [
              0.6666666666666666,
              "#ed7953"
             ],
             [
              0.7777777777777778,
              "#fb9f3a"
             ],
             [
              0.8888888888888888,
              "#fdca26"
             ],
             [
              1,
              "#f0f921"
             ]
            ],
            "type": "heatmapgl"
           }
          ],
          "histogram": [
           {
            "marker": {
             "pattern": {
              "fillmode": "overlay",
              "size": 10,
              "solidity": 0.2
             }
            },
            "type": "histogram"
           }
          ],
          "histogram2d": [
           {
            "colorbar": {
             "outlinewidth": 0,
             "ticks": ""
            },
            "colorscale": [
             [
              0,
              "#0d0887"
             ],
             [
              0.1111111111111111,
              "#46039f"
             ],
             [
              0.2222222222222222,
              "#7201a8"
             ],
             [
              0.3333333333333333,
              "#9c179e"
             ],
             [
              0.4444444444444444,
              "#bd3786"
             ],
             [
              0.5555555555555556,
              "#d8576b"
             ],
             [
              0.6666666666666666,
              "#ed7953"
             ],
             [
              0.7777777777777778,
              "#fb9f3a"
             ],
             [
              0.8888888888888888,
              "#fdca26"
             ],
             [
              1,
              "#f0f921"
             ]
            ],
            "type": "histogram2d"
           }
          ],
          "histogram2dcontour": [
           {
            "colorbar": {
             "outlinewidth": 0,
             "ticks": ""
            },
            "colorscale": [
             [
              0,
              "#0d0887"
             ],
             [
              0.1111111111111111,
              "#46039f"
             ],
             [
              0.2222222222222222,
              "#7201a8"
             ],
             [
              0.3333333333333333,
              "#9c179e"
             ],
             [
              0.4444444444444444,
              "#bd3786"
             ],
             [
              0.5555555555555556,
              "#d8576b"
             ],
             [
              0.6666666666666666,
              "#ed7953"
             ],
             [
              0.7777777777777778,
              "#fb9f3a"
             ],
             [
              0.8888888888888888,
              "#fdca26"
             ],
             [
              1,
              "#f0f921"
             ]
            ],
            "type": "histogram2dcontour"
           }
          ],
          "mesh3d": [
           {
            "colorbar": {
             "outlinewidth": 0,
             "ticks": ""
            },
            "type": "mesh3d"
           }
          ],
          "parcoords": [
           {
            "line": {
             "colorbar": {
              "outlinewidth": 0,
              "ticks": ""
             }
            },
            "type": "parcoords"
           }
          ],
          "pie": [
           {
            "automargin": true,
            "type": "pie"
           }
          ],
          "scatter": [
           {
            "fillpattern": {
             "fillmode": "overlay",
             "size": 10,
             "solidity": 0.2
            },
            "type": "scatter"
           }
          ],
          "scatter3d": [
           {
            "line": {
             "colorbar": {
              "outlinewidth": 0,
              "ticks": ""
             }
            },
            "marker": {
             "colorbar": {
              "outlinewidth": 0,
              "ticks": ""
             }
            },
            "type": "scatter3d"
           }
          ],
          "scattercarpet": [
           {
            "marker": {
             "colorbar": {
              "outlinewidth": 0,
              "ticks": ""
             }
            },
            "type": "scattercarpet"
           }
          ],
          "scattergeo": [
           {
            "marker": {
             "colorbar": {
              "outlinewidth": 0,
              "ticks": ""
             }
            },
            "type": "scattergeo"
           }
          ],
          "scattergl": [
           {
            "marker": {
             "colorbar": {
              "outlinewidth": 0,
              "ticks": ""
             }
            },
            "type": "scattergl"
           }
          ],
          "scattermapbox": [
           {
            "marker": {
             "colorbar": {
              "outlinewidth": 0,
              "ticks": ""
             }
            },
            "type": "scattermapbox"
           }
          ],
          "scatterpolar": [
           {
            "marker": {
             "colorbar": {
              "outlinewidth": 0,
              "ticks": ""
             }
            },
            "type": "scatterpolar"
           }
          ],
          "scatterpolargl": [
           {
            "marker": {
             "colorbar": {
              "outlinewidth": 0,
              "ticks": ""
             }
            },
            "type": "scatterpolargl"
           }
          ],
          "scatterternary": [
           {
            "marker": {
             "colorbar": {
              "outlinewidth": 0,
              "ticks": ""
             }
            },
            "type": "scatterternary"
           }
          ],
          "surface": [
           {
            "colorbar": {
             "outlinewidth": 0,
             "ticks": ""
            },
            "colorscale": [
             [
              0,
              "#0d0887"
             ],
             [
              0.1111111111111111,
              "#46039f"
             ],
             [
              0.2222222222222222,
              "#7201a8"
             ],
             [
              0.3333333333333333,
              "#9c179e"
             ],
             [
              0.4444444444444444,
              "#bd3786"
             ],
             [
              0.5555555555555556,
              "#d8576b"
             ],
             [
              0.6666666666666666,
              "#ed7953"
             ],
             [
              0.7777777777777778,
              "#fb9f3a"
             ],
             [
              0.8888888888888888,
              "#fdca26"
             ],
             [
              1,
              "#f0f921"
             ]
            ],
            "type": "surface"
           }
          ],
          "table": [
           {
            "cells": {
             "fill": {
              "color": "#EBF0F8"
             },
             "line": {
              "color": "white"
             }
            },
            "header": {
             "fill": {
              "color": "#C8D4E3"
             },
             "line": {
              "color": "white"
             }
            },
            "type": "table"
           }
          ]
         },
         "layout": {
          "annotationdefaults": {
           "arrowcolor": "#2a3f5f",
           "arrowhead": 0,
           "arrowwidth": 1
          },
          "autotypenumbers": "strict",
          "coloraxis": {
           "colorbar": {
            "outlinewidth": 0,
            "ticks": ""
           }
          },
          "colorscale": {
           "diverging": [
            [
             0,
             "#8e0152"
            ],
            [
             0.1,
             "#c51b7d"
            ],
            [
             0.2,
             "#de77ae"
            ],
            [
             0.3,
             "#f1b6da"
            ],
            [
             0.4,
             "#fde0ef"
            ],
            [
             0.5,
             "#f7f7f7"
            ],
            [
             0.6,
             "#e6f5d0"
            ],
            [
             0.7,
             "#b8e186"
            ],
            [
             0.8,
             "#7fbc41"
            ],
            [
             0.9,
             "#4d9221"
            ],
            [
             1,
             "#276419"
            ]
           ],
           "sequential": [
            [
             0,
             "#0d0887"
            ],
            [
             0.1111111111111111,
             "#46039f"
            ],
            [
             0.2222222222222222,
             "#7201a8"
            ],
            [
             0.3333333333333333,
             "#9c179e"
            ],
            [
             0.4444444444444444,
             "#bd3786"
            ],
            [
             0.5555555555555556,
             "#d8576b"
            ],
            [
             0.6666666666666666,
             "#ed7953"
            ],
            [
             0.7777777777777778,
             "#fb9f3a"
            ],
            [
             0.8888888888888888,
             "#fdca26"
            ],
            [
             1,
             "#f0f921"
            ]
           ],
           "sequentialminus": [
            [
             0,
             "#0d0887"
            ],
            [
             0.1111111111111111,
             "#46039f"
            ],
            [
             0.2222222222222222,
             "#7201a8"
            ],
            [
             0.3333333333333333,
             "#9c179e"
            ],
            [
             0.4444444444444444,
             "#bd3786"
            ],
            [
             0.5555555555555556,
             "#d8576b"
            ],
            [
             0.6666666666666666,
             "#ed7953"
            ],
            [
             0.7777777777777778,
             "#fb9f3a"
            ],
            [
             0.8888888888888888,
             "#fdca26"
            ],
            [
             1,
             "#f0f921"
            ]
           ]
          },
          "colorway": [
           "#636efa",
           "#EF553B",
           "#00cc96",
           "#ab63fa",
           "#FFA15A",
           "#19d3f3",
           "#FF6692",
           "#B6E880",
           "#FF97FF",
           "#FECB52"
          ],
          "font": {
           "color": "#2a3f5f"
          },
          "geo": {
           "bgcolor": "white",
           "lakecolor": "white",
           "landcolor": "#E5ECF6",
           "showlakes": true,
           "showland": true,
           "subunitcolor": "white"
          },
          "hoverlabel": {
           "align": "left"
          },
          "hovermode": "closest",
          "mapbox": {
           "style": "light"
          },
          "paper_bgcolor": "white",
          "plot_bgcolor": "#E5ECF6",
          "polar": {
           "angularaxis": {
            "gridcolor": "white",
            "linecolor": "white",
            "ticks": ""
           },
           "bgcolor": "#E5ECF6",
           "radialaxis": {
            "gridcolor": "white",
            "linecolor": "white",
            "ticks": ""
           }
          },
          "scene": {
           "xaxis": {
            "backgroundcolor": "#E5ECF6",
            "gridcolor": "white",
            "gridwidth": 2,
            "linecolor": "white",
            "showbackground": true,
            "ticks": "",
            "zerolinecolor": "white"
           },
           "yaxis": {
            "backgroundcolor": "#E5ECF6",
            "gridcolor": "white",
            "gridwidth": 2,
            "linecolor": "white",
            "showbackground": true,
            "ticks": "",
            "zerolinecolor": "white"
           },
           "zaxis": {
            "backgroundcolor": "#E5ECF6",
            "gridcolor": "white",
            "gridwidth": 2,
            "linecolor": "white",
            "showbackground": true,
            "ticks": "",
            "zerolinecolor": "white"
           }
          },
          "shapedefaults": {
           "line": {
            "color": "#2a3f5f"
           }
          },
          "ternary": {
           "aaxis": {
            "gridcolor": "white",
            "linecolor": "white",
            "ticks": ""
           },
           "baxis": {
            "gridcolor": "white",
            "linecolor": "white",
            "ticks": ""
           },
           "bgcolor": "#E5ECF6",
           "caxis": {
            "gridcolor": "white",
            "linecolor": "white",
            "ticks": ""
           }
          },
          "title": {
           "x": 0.05
          },
          "xaxis": {
           "automargin": true,
           "gridcolor": "white",
           "linecolor": "white",
           "ticks": "",
           "title": {
            "standoff": 15
           },
           "zerolinecolor": "white",
           "zerolinewidth": 2
          },
          "yaxis": {
           "automargin": true,
           "gridcolor": "white",
           "linecolor": "white",
           "ticks": "",
           "title": {
            "standoff": 15
           },
           "zerolinecolor": "white",
           "zerolinewidth": 2
          }
         }
        },
        "title": {
         "text": "Random Yu Darvish Pitch Location Estimation"
        }
       }
      }
     },
     "metadata": {},
     "output_type": "display_data"
    }
   ],
   "source": [
    "pitch_types = [\"KC\", \"FF\", \"FS\", \"SL\", \"ST\"]\n",
    "cols = [\"pitch_type\", \"release_pos_x\", \"release_pos_y\", \"release_pos_z\",\n",
    "        \"x50\", \"y50\", \"z50\", \"x_0.120\", \"y_0.120\", \"z_0.120\",\n",
    "        \"x_0.167\", \"y_0.167\", \"z_0.167\", \"x_plate\", \"y_plate\", \"z_plate\"]\n",
    "\n",
    "extra_times = np.arange(0, 0.5, 0.05).tolist()\n",
    "extra_time_cols = [f\"{d}_{t:.3f}\"\n",
    "                   for d in [\"x\", \"y\", \"z\"]\n",
    "                   for t in extra_times]\n",
    "\n",
    "# for the visualization, I am going to use a lot more time intervals\n",
    "# for position estimation to get a smoother curve\n",
    "sample_pitch_df = (ball_pos_lf\n",
    "                   .filter(pl.col(\"game_date\").dt.year() == 2024)\n",
    "                   .filter(pl.col(\"pitch_type\").is_in(pitch_types))\n",
    "                   .filter(pl.col(\"player_name\") == \"Darvish, Yu\")\n",
    "                   .pipe(estimate_ball_pos_at_t, extra_times)\n",
    "                   .drop_nulls(cols + extra_time_cols)\n",
    "                   .group_by(\"pitch_type\")\n",
    "                   .agg(pl.col(\"*\").sample(1, seed=40))\n",
    "                   .select(cols + extra_time_cols)\n",
    "                   .explode([pl.col(col)\n",
    "                             for col in (cols + extra_time_cols)\n",
    "                             if col != \"pitch_type\"])\n",
    "                   .collect())\n",
    "\n",
    "\n",
    "fig = px.scatter_3d()\n",
    "colors = {\"KC\": \"blue\", \"FF\": \"red\", \"FS\": \"yellow\", \"SL\": \"green\", \"ST\": \"purple\"}\n",
    "for pitch in sample_pitch_df.iter_rows(named=True):\n",
    "    pitch_fig = px.line_3d(\n",
    "        x=[pitch[\"release_pos_x\"]] + [pitch[f\"x_{t:.3f}\"] for t in extra_times],\n",
    "        y=[pitch[\"release_pos_y\"]] + [pitch[f\"y_{t:.3f}\"] for t in extra_times],\n",
    "        z=[pitch[\"release_pos_z\"]] + [pitch[f\"z_{t:.3f}\"] for t in extra_times],\n",
    "    )\n",
    "\n",
    "    pitch_fig.update_traces(line=dict(color=colors[pitch[\"pitch_type\"]]))\n",
    "    fig.add_traces(pitch_fig.data)\n",
    "\n",
    "fig.update_layout(title=dict(text=\"Random Yu Darvish Pitch Location Estimation\"), showlegend=True)\n",
    "fig.show()"
   ]
  },
  {
   "cell_type": "markdown",
   "metadata": {
    "id": "68aEER8tSqrN"
   },
   "source": [
    "## Location Estimation Error\n",
    "\n",
    "Since I have the ground truth for release position, I can measure roughly how accurate the position estimation functions are by trying to estimate this release position in 3D space. I compute the mean euclidean distance between estimated release position and actual release position.\n",
    "\n",
    "$3Deuclideandistance = \\sqrt{(x_1 - x_2)^2 + (y_1 - y_2)^2 + (z_1 - z_2)^2}$\n",
    "\n",
    "Looking at the results, depending on the pitch type, it is typically off by anywhere between .4 inches and .8 inches on average.\n",
    "\n",
    "**New Features**\n",
    "- `approx_release_pos_x`: approximated release position in the x dimension working back from 50ft.\n",
    "- `approx_release_pos_y`: approximated release position in the y dimension working back from 50ft.\n",
    "- `approx_release_pos_z`: approximated release position in the z dimension working back from 50ft.\n"
   ]
  },
  {
   "cell_type": "code",
   "execution_count": 10,
   "metadata": {
    "colab": {
     "base_uri": "https://localhost:8080/",
     "height": 252
    },
    "id": "to4pigHrG92M",
    "outputId": "d69e52bd-7c85-4907-fb7d-cc29f4f62187"
   },
   "outputs": [
    {
     "data": {
      "text/html": [
       "<div><style>\n",
       ".dataframe > thead > tr,\n",
       ".dataframe > tbody > tr {\n",
       "  text-align: right;\n",
       "  white-space: pre-wrap;\n",
       "}\n",
       "</style>\n",
       "<small>shape: (5, 2)</small><table border=\"1\" class=\"dataframe\"><thead><tr><th>pitch_type</th><th>mean_euclidean_error_in.</th></tr><tr><td>str</td><td>f64</td></tr></thead><tbody><tr><td>&quot;ST&quot;</td><td>0.535768</td></tr><tr><td>&quot;KC&quot;</td><td>0.635302</td></tr><tr><td>&quot;FF&quot;</td><td>0.334669</td></tr><tr><td>&quot;FS&quot;</td><td>0.455779</td></tr><tr><td>&quot;SL&quot;</td><td>0.485008</td></tr></tbody></table></div>"
      ],
      "text/plain": [
       "shape: (5, 2)\n",
       "┌────────────┬──────────────────────────┐\n",
       "│ pitch_type ┆ mean_euclidean_error_in. │\n",
       "│ ---        ┆ ---                      │\n",
       "│ str        ┆ f64                      │\n",
       "╞════════════╪══════════════════════════╡\n",
       "│ ST         ┆ 0.535768                 │\n",
       "│ KC         ┆ 0.635302                 │\n",
       "│ FF         ┆ 0.334669                 │\n",
       "│ FS         ┆ 0.455779                 │\n",
       "│ SL         ┆ 0.485008                 │\n",
       "└────────────┴──────────────────────────┘"
      ]
     },
     "execution_count": 10,
     "metadata": {},
     "output_type": "execute_result"
    }
   ],
   "source": [
    "def estimate_release_pos(lf: pl.LazyFrame) -> pl.LazyFrame:\n",
    "    return lf.with_columns(\n",
    "        displacement(\n",
    "            p0=pl.col(f\"{d}50\"),\n",
    "            v0=pl.col(f\"v{d}0\"),\n",
    "            a=pl.col(f\"a{d}\"),\n",
    "            t=-pl.col(\"t50\"),\n",
    "        ).alias(f\"approx_release_pos_{d}\")\n",
    "        for d in [\"x\", \"y\", \"z\"]\n",
    "    )\n",
    "\n",
    "ball_pos_lf = ball_pos_lf.pipe(estimate_release_pos)\n",
    "\n",
    "\n",
    "def euclidean_distance(*pts):\n",
    "    return sum((pt[0] - pt[1]) ** 2 for pt in pts) ** 0.5\n",
    "\n",
    "\n",
    "(ball_pos_lf\n",
    "    .drop_nulls([col for col in ball_pos_lf.collect_schema().names() if \"release\" in col])\n",
    "    .select(\"release_pos_x\", \"release_pos_y\", \"release_pos_z\",\n",
    "            \"approx_release_pos_x\", \"approx_release_pos_y\", \"approx_release_pos_z\",\n",
    "            \"pitch_type\")\n",
    "    .filter(pl.col(\"pitch_type\").is_in(pitch_types))\n",
    "    .group_by(\"pitch_type\")\n",
    "    .agg(\n",
    "        (euclidean_distance(\n",
    "            *[(pl.col(f\"approx_release_pos_{d}\"), pl.col(f\"release_pos_{d}\"))\n",
    "            for d in [\"x\", \"y\", \"z\"]]\n",
    "        ).mean() * 12).alias(\"mean_euclidean_error_in.\")\n",
    "    )\n",
    "    .collect())"
   ]
  },
  {
   "cell_type": "markdown",
   "metadata": {
    "id": "y9e_q_ZlCA_4"
   },
   "source": [
    "## Sequence Features\n",
    "\n",
    "**New Feautres**\n",
    "\n",
    "Everything in the `prev_features` list will be added, I don't want to type all of that out.\n",
    "\n",
    "**Note**\n",
    "\n",
    "May or may not need this depending on what sort of model I end up building"
   ]
  },
  {
   "cell_type": "code",
   "execution_count": 11,
   "metadata": {
    "colab": {
     "base_uri": "https://localhost:8080/",
     "height": 396
    },
    "id": "3hCjvQsECA_4",
    "outputId": "9a018703-5839-414a-cc69-ba0046d7c97a"
   },
   "outputs": [
    {
     "data": {
      "text/html": [
       "<div><style>\n",
       ".dataframe > thead > tr,\n",
       ".dataframe > tbody > tr {\n",
       "  text-align: right;\n",
       "  white-space: pre-wrap;\n",
       "}\n",
       "</style>\n",
       "<small>shape: (9, 21)</small><table border=\"1\" class=\"dataframe\"><thead><tr><th>statistic</th><th>prev_pfx_x</th><th>prev_pfx_z</th><th>prev_x_0.120</th><th>prev_y_0.120</th><th>prev_z_0.120</th><th>prev_x_0.167</th><th>prev_y_0.167</th><th>prev_z_0.167</th><th>prev_release_pos_x</th><th>prev_release_pos_y</th><th>prev_release_pos_z</th><th>prev_release_speed</th><th>prev_effective_speed</th><th>prev_release_spin_rate</th><th>prev_delta_run_exp</th><th>prev_x_plate</th><th>prev_y_plate</th><th>prev_z_plate</th><th>prev_pitch_type</th><th>prev_zone</th></tr><tr><td>str</td><td>f64</td><td>f64</td><td>f64</td><td>f64</td><td>f64</td><td>f64</td><td>f64</td><td>f64</td><td>f64</td><td>f64</td><td>f64</td><td>f64</td><td>f64</td><td>f64</td><td>f64</td><td>f64</td><td>f64</td><td>f64</td><td>str</td><td>f64</td></tr></thead><tbody><tr><td>&quot;count&quot;</td><td>3.201603e6</td><td>3.201614e6</td><td>3.195158e6</td><td>3.195158e6</td><td>3.195158e6</td><td>3.195158e6</td><td>3.195158e6</td><td>3.195158e6</td><td>3.201412e6</td><td>3.201412e6</td><td>3.201412e6</td><td>3.20162e6</td><td>3.194446e6</td><td>3.186042e6</td><td>3.267695e6</td><td>3.195158e6</td><td>3.195158e6</td><td>3.195158e6</td><td>&quot;3202778&quot;</td><td>3.201622e6</td></tr><tr><td>&quot;null_count&quot;</td><td>162386.0</td><td>162375.0</td><td>168831.0</td><td>168831.0</td><td>168831.0</td><td>168831.0</td><td>168831.0</td><td>168831.0</td><td>162577.0</td><td>162577.0</td><td>162577.0</td><td>162369.0</td><td>169543.0</td><td>177947.0</td><td>96294.0</td><td>168831.0</td><td>168831.0</td><td>168831.0</td><td>&quot;161211&quot;</td><td>162367.0</td></tr><tr><td>&quot;mean&quot;</td><td>-0.112982</td><td>0.616293</td><td>-0.526653</td><td>-10.894905</td><td>5.228902</td><td>-0.427122</td><td>-16.832773</td><td>4.920112</td><td>-0.800556</td><td>4.510354</td><td>5.802446</td><td>88.962916</td><td>89.099501</td><td>2249.963425</td><td>-0.001075</td><td>-0.004637</td><td>-44.810268</td><td>2.615609</td><td>null</td><td>9.116294</td></tr><tr><td>&quot;std&quot;</td><td>0.88415</td><td>0.733639</td><td>1.279516</td><td>1.037517</td><td>0.486574</td><td>1.092187</td><td>1.428284</td><td>0.523063</td><td>1.859616</td><td>0.038039</td><td>0.541237</td><td>6.046484</td><td>6.207598</td><td>343.956743</td><td>0.225124</td><td>0.786724</td><td>0.448153</td><td>0.898664</td><td>null</td><td>4.228159</td></tr><tr><td>&quot;min&quot;</td><td>-2.95</td><td>-2.56</td><td>-9.326163</td><td>-13.681389</td><td>-3.299011</td><td>-14.609828</td><td>-20.617553</td><td>-7.158099</td><td>-4.95</td><td>3.943333</td><td>0.76</td><td>30.4</td><td>26.8</td><td>4.0</td><td>-1.537</td><td>-114.369224</td><td>-140.804898</td><td>-76.964296</td><td>&quot;CH&quot;</td><td>1.0</td></tr><tr><td>&quot;25%&quot;</td><td>-0.86</td><td>0.16</td><td>-1.429878</td><td>-11.725938</td><td>4.931697</td><td>-1.198662</td><td>-17.977091</td><td>4.581821</td><td>-2.11</td><td>4.485833</td><td>5.54</td><td>84.6</td><td>84.8</td><td>2095.0</td><td>-0.061</td><td>-0.532809</td><td>-45.102457</td><td>2.026876</td><td>null</td><td>5.0</td></tr><tr><td>&quot;50%&quot;</td><td>-0.18</td><td>0.69</td><td>-0.92272</td><td>-11.052585</td><td>5.223882</td><td>-0.704404</td><td>-17.052257</td><td>4.902679</td><td>-1.49</td><td>4.51</td><td>5.84</td><td>89.9</td><td>90.1</td><td>2277.0</td><td>0.0</td><td>-0.003526</td><td>-44.804665</td><td>2.616726</td><td>null</td><td>11.0</td></tr><tr><td>&quot;75%&quot;</td><td>0.59</td><td>1.24</td><td>0.504602</td><td>-10.1606</td><td>5.528298</td><td>0.343897</td><td>-15.823139</td><td>5.241462</td><td>0.95</td><td>4.535833</td><td>6.14</td><td>93.8</td><td>94.0</td><td>2451.0</td><td>0.034</td><td>0.523934</td><td>-44.515526</td><td>3.207265</td><td>null</td><td>13.0</td></tr><tr><td>&quot;max&quot;</td><td>2.84</td><td>2.84</td><td>4.386514</td><td>-0.140021</td><td>9.172685</td><td>4.541119</td><td>-2.065677</td><td>9.883671</td><td>18.0</td><td>4.8075</td><td>8.11</td><td>105.1</td><td>107.7</td><td>3722.0</td><td>3.65</td><td>8.951553</td><td>-39.263614</td><td>13.698295</td><td>&quot;SV&quot;</td><td>14.0</td></tr></tbody></table></div>"
      ],
      "text/plain": [
       "shape: (9, 21)\n",
       "┌───────────┬───────────┬───────────┬───────────┬───┬───────────┬───────────┬───────────┬──────────┐\n",
       "│ statistic ┆ prev_pfx_ ┆ prev_pfx_ ┆ prev_x_0. ┆ … ┆ prev_y_pl ┆ prev_z_pl ┆ prev_pitc ┆ prev_zon │\n",
       "│ ---       ┆ x         ┆ z         ┆ 120       ┆   ┆ ate       ┆ ate       ┆ h_type    ┆ e        │\n",
       "│ str       ┆ ---       ┆ ---       ┆ ---       ┆   ┆ ---       ┆ ---       ┆ ---       ┆ ---      │\n",
       "│           ┆ f64       ┆ f64       ┆ f64       ┆   ┆ f64       ┆ f64       ┆ str       ┆ f64      │\n",
       "╞═══════════╪═══════════╪═══════════╪═══════════╪═══╪═══════════╪═══════════╪═══════════╪══════════╡\n",
       "│ count     ┆ 3.201603e ┆ 3.201614e ┆ 3.195158e ┆ … ┆ 3.195158e ┆ 3.195158e ┆ 3202778   ┆ 3.201622 │\n",
       "│           ┆ 6         ┆ 6         ┆ 6         ┆   ┆ 6         ┆ 6         ┆           ┆ e6       │\n",
       "│ null_coun ┆ 162386.0  ┆ 162375.0  ┆ 168831.0  ┆ … ┆ 168831.0  ┆ 168831.0  ┆ 161211    ┆ 162367.0 │\n",
       "│ t         ┆           ┆           ┆           ┆   ┆           ┆           ┆           ┆          │\n",
       "│ mean      ┆ -0.112982 ┆ 0.616293  ┆ -0.526653 ┆ … ┆ -44.81026 ┆ 2.615609  ┆ null      ┆ 9.116294 │\n",
       "│           ┆           ┆           ┆           ┆   ┆ 8         ┆           ┆           ┆          │\n",
       "│ std       ┆ 0.88415   ┆ 0.733639  ┆ 1.279516  ┆ … ┆ 0.448153  ┆ 0.898664  ┆ null      ┆ 4.228159 │\n",
       "│ min       ┆ -2.95     ┆ -2.56     ┆ -9.326163 ┆ … ┆ -140.8048 ┆ -76.96429 ┆ CH        ┆ 1.0      │\n",
       "│           ┆           ┆           ┆           ┆   ┆ 98        ┆ 6         ┆           ┆          │\n",
       "│ 25%       ┆ -0.86     ┆ 0.16      ┆ -1.429878 ┆ … ┆ -45.10245 ┆ 2.026876  ┆ null      ┆ 5.0      │\n",
       "│           ┆           ┆           ┆           ┆   ┆ 7         ┆           ┆           ┆          │\n",
       "│ 50%       ┆ -0.18     ┆ 0.69      ┆ -0.92272  ┆ … ┆ -44.80466 ┆ 2.616726  ┆ null      ┆ 11.0     │\n",
       "│           ┆           ┆           ┆           ┆   ┆ 5         ┆           ┆           ┆          │\n",
       "│ 75%       ┆ 0.59      ┆ 1.24      ┆ 0.504602  ┆ … ┆ -44.51552 ┆ 3.207265  ┆ null      ┆ 13.0     │\n",
       "│           ┆           ┆           ┆           ┆   ┆ 6         ┆           ┆           ┆          │\n",
       "│ max       ┆ 2.84      ┆ 2.84      ┆ 4.386514  ┆ … ┆ -39.26361 ┆ 13.698295 ┆ SV        ┆ 14.0     │\n",
       "│           ┆           ┆           ┆           ┆   ┆ 4         ┆           ┆           ┆          │\n",
       "└───────────┴───────────┴───────────┴───────────┴───┴───────────┴───────────┴───────────┴──────────┘"
      ]
     },
     "execution_count": 11,
     "metadata": {},
     "output_type": "execute_result"
    }
   ],
   "source": [
    "# features that we are interested in with regards to two pitch sequences\n",
    "prev_features = [\n",
    "    \"prev_pfx_x\",\n",
    "    \"prev_pfx_z\",\n",
    "    \"prev_x_0.120\",\n",
    "    \"prev_y_0.120\",\n",
    "    \"prev_z_0.120\",\n",
    "    \"prev_x_0.167\",\n",
    "    \"prev_y_0.167\",\n",
    "    \"prev_z_0.167\",\n",
    "    \"prev_release_pos_x\",\n",
    "    \"prev_release_pos_y\",\n",
    "    \"prev_release_pos_z\",\n",
    "    \"prev_release_speed\",\n",
    "    \"prev_effective_speed\",\n",
    "    \"prev_release_spin_rate\",\n",
    "    \"prev_delta_run_exp\",\n",
    "    \"prev_x_plate\",\n",
    "    \"prev_y_plate\",\n",
    "    \"prev_z_plate\",\n",
    "    \"prev_pitch_type\",\n",
    "    \"prev_zone\",\n",
    "]\n",
    "\n",
    "def two_pitch_sequences(lf: pl.LazyFrame, seq_features: list[str]) -> pl.LazyFrame:\n",
    "    # sort the data such that the pitches are in descending order\n",
    "    sort_cols = [\"pitcher\", \"game_date\", \"at_bat_number\", \"pitch_number\"]\n",
    "    sorted_lf = lf.sort(\n",
    "        by=sort_cols,\n",
    "        descending=[True] * len(sort_cols),\n",
    "    )\n",
    "\n",
    "    return (sorted_lf\n",
    "        .with_columns([\n",
    "            pl.col(feature)\n",
    "            .shift(-1)\n",
    "            .over([\"pitcher\", \"at_bat_number\"])\n",
    "            .alias(f\"prev_{feature}\")\n",
    "            for feature in [f.replace(\"prev_\", \"\") for f in seq_features]\n",
    "        ])\n",
    "        .select(*sort_cols + seq_features)\n",
    "        .join(other=lf, on=sort_cols, how=\"right\")\n",
    "    )\n",
    "\n",
    "sequence_pitches_lf = (ball_pos_lf\n",
    "                       .pipe(two_pitch_sequences, prev_features))\n",
    "\n",
    "(sequence_pitches_lf\n",
    "    .select(prev_features)\n",
    "    .describe())"
   ]
  },
  {
   "cell_type": "markdown",
   "metadata": {
    "id": "MLPzbmQxwXPt"
   },
   "source": [
    "## Adding 'diff' Features\n",
    "\n",
    "**New Features**\n",
    "\n",
    "For every feature in `prev_features`, we simply measure the difference in that feature between each pitch in a sequence. Each diff feature is its original name post fixed with 'diff'. Ex: `x_0.120_diff`, `y_0.120_diff` etc ..."
   ]
  },
  {
   "cell_type": "code",
   "execution_count": 12,
   "metadata": {
    "colab": {
     "base_uri": "https://localhost:8080/",
     "height": 396
    },
    "id": "fwPC6VhjwWXM",
    "outputId": "854cd394-cdf3-4efc-b5f5-6a44ee0ac670"
   },
   "outputs": [
    {
     "data": {
      "text/html": [
       "<div><style>\n",
       ".dataframe > thead > tr,\n",
       ".dataframe > tbody > tr {\n",
       "  text-align: right;\n",
       "  white-space: pre-wrap;\n",
       "}\n",
       "</style>\n",
       "<small>shape: (9, 20)</small><table border=\"1\" class=\"dataframe\"><thead><tr><th>statistic</th><th>zone_diff</th><th>y_0.120_diff</th><th>z_0.120_diff</th><th>delta_run_exp_diff</th><th>release_speed_diff</th><th>release_pos_y_diff</th><th>effective_speed_diff</th><th>release_pos_x_diff</th><th>x_0.167_diff</th><th>x_plate_diff</th><th>z_plate_diff</th><th>pfx_z_diff</th><th>release_spin_rate_diff</th><th>y_0.167_diff</th><th>release_pos_z_diff</th><th>y_plate_diff</th><th>pfx_x_diff</th><th>x_0.120_diff</th><th>z_0.167_diff</th></tr><tr><td>str</td><td>f64</td><td>f64</td><td>f64</td><td>f64</td><td>f64</td><td>f64</td><td>f64</td><td>f64</td><td>f64</td><td>f64</td><td>f64</td><td>f64</td><td>f64</td><td>f64</td><td>f64</td><td>f64</td><td>f64</td><td>f64</td><td>f64</td></tr></thead><tbody><tr><td>&quot;count&quot;</td><td>3.18099e6</td><td>3.172503e6</td><td>3.172503e6</td><td>3.267695e6</td><td>3.180986e6</td><td>3.180734e6</td><td>3.171022e6</td><td>3.180734e6</td><td>3.172503e6</td><td>3.172503e6</td><td>3.172503e6</td><td>3.180979e6</td><td>3.15801e6</td><td>3.172503e6</td><td>3.180734e6</td><td>3.172503e6</td><td>3.180962e6</td><td>3.172503e6</td><td>3.172503e6</td></tr><tr><td>&quot;null_count&quot;</td><td>182999.0</td><td>191486.0</td><td>191486.0</td><td>96294.0</td><td>183003.0</td><td>183255.0</td><td>192967.0</td><td>183255.0</td><td>191486.0</td><td>191486.0</td><td>191486.0</td><td>183010.0</td><td>205979.0</td><td>191486.0</td><td>183255.0</td><td>191486.0</td><td>183027.0</td><td>191486.0</td><td>191486.0</td></tr><tr><td>&quot;mean&quot;</td><td>-0.030902</td><td>-0.001016</td><td>-0.001319</td><td>0.001073</td><td>0.00483</td><td>-0.00006</td><td>0.006805</td><td>0.000532</td><td>0.000355</td><td>-0.000178</td><td>-0.001365</td><td>-0.00117</td><td>-0.785359</td><td>-0.001378</td><td>-0.001495</td><td>0.000309</td><td>-0.000588</td><td>0.00042</td><td>-0.001324</td></tr><tr><td>&quot;std&quot;</td><td>5.951663</td><td>1.252075</td><td>0.427907</td><td>0.326711</td><td>7.321575</td><td>0.017783</td><td>7.430289</td><td>0.225699</td><td>0.514475</td><td>1.028251</td><td>1.209382</td><td>0.944921</td><td>374.626336</td><td>1.72502</td><td>0.161717</td><td>0.285273</td><td>1.024415</td><td>0.415669</td><td>0.55756</td></tr><tr><td>&quot;min&quot;</td><td>-13.0</td><td>-10.759134</td><td>-3.887295</td><td>-3.852</td><td>-58.0</td><td>-0.58</td><td>-63.0</td><td>-15.72</td><td>-3.502727</td><td>-9.390767</td><td>-11.666142</td><td>-4.13</td><td>-3179.0</td><td>-14.847905</td><td>-5.49</td><td>-12.429186</td><td>-4.57</td><td>-3.168973</td><td>-4.444609</td></tr><tr><td>&quot;25%&quot;</td><td>-4.0</td><td>-0.722503</td><td>-0.271596</td><td>-0.099</td><td>-4.3</td><td>-0.01</td><td>-4.2</td><td>-0.12</td><td>-0.333974</td><td>-0.681569</td><td>-0.791021</td><td>-0.44</td><td>-139.0</td><td>-0.993614</td><td>-0.08</td><td>-0.168959</td><td>-0.48</td><td>-0.266368</td><td>-0.356329</td></tr><tr><td>&quot;50%&quot;</td><td>0.0</td><td>-0.005474</td><td>0.0</td><td>0.0</td><td>0.0</td><td>0.0</td><td>0.0</td><td>0.0</td><td>0.0</td><td>0.0</td><td>0.0</td><td>0.0</td><td>1.0</td><td>-0.007322</td><td>0.0</td><td>0.0</td><td>0.0</td><td>0.0</td><td>0.0</td></tr><tr><td>&quot;75%&quot;</td><td>4.0</td><td>0.72383</td><td>0.268931</td><td>0.09</td><td>4.2</td><td>0.01</td><td>4.2</td><td>0.12</td><td>0.335031</td><td>0.681667</td><td>0.782929</td><td>0.44</td><td>138.0</td><td>0.995253</td><td>0.08</td><td>0.170464</td><td>0.48</td><td>0.267652</td><td>0.353631</td></tr><tr><td>&quot;max&quot;</td><td>13.0</td><td>10.684132</td><td>8.330738</td><td>3.887</td><td>60.6</td><td>0.579167</td><td>63.1</td><td>15.77</td><td>15.980613</td><td>114.666849</td><td>80.325952</td><td>5.36</td><td>3151.0</td><td>14.70033</td><td>3.94</td><td>96.997189</td><td>4.49</td><td>11.003514</td><td>11.943277</td></tr></tbody></table></div>"
      ],
      "text/plain": [
       "shape: (9, 20)\n",
       "┌───────────┬───────────┬───────────┬───────────┬───┬───────────┬───────────┬───────────┬──────────┐\n",
       "│ statistic ┆ zone_diff ┆ y_0.120_d ┆ z_0.120_d ┆ … ┆ y_plate_d ┆ pfx_x_dif ┆ x_0.120_d ┆ z_0.167_ │\n",
       "│ ---       ┆ ---       ┆ iff       ┆ iff       ┆   ┆ iff       ┆ f         ┆ iff       ┆ diff     │\n",
       "│ str       ┆ f64       ┆ ---       ┆ ---       ┆   ┆ ---       ┆ ---       ┆ ---       ┆ ---      │\n",
       "│           ┆           ┆ f64       ┆ f64       ┆   ┆ f64       ┆ f64       ┆ f64       ┆ f64      │\n",
       "╞═══════════╪═══════════╪═══════════╪═══════════╪═══╪═══════════╪═══════════╪═══════════╪══════════╡\n",
       "│ count     ┆ 3.18099e6 ┆ 3.172503e ┆ 3.172503e ┆ … ┆ 3.172503e ┆ 3.180962e ┆ 3.172503e ┆ 3.172503 │\n",
       "│           ┆           ┆ 6         ┆ 6         ┆   ┆ 6         ┆ 6         ┆ 6         ┆ e6       │\n",
       "│ null_coun ┆ 182999.0  ┆ 191486.0  ┆ 191486.0  ┆ … ┆ 191486.0  ┆ 183027.0  ┆ 191486.0  ┆ 191486.0 │\n",
       "│ t         ┆           ┆           ┆           ┆   ┆           ┆           ┆           ┆          │\n",
       "│ mean      ┆ -0.030902 ┆ -0.001016 ┆ -0.001319 ┆ … ┆ 0.000309  ┆ -0.000588 ┆ 0.00042   ┆ -0.00132 │\n",
       "│           ┆           ┆           ┆           ┆   ┆           ┆           ┆           ┆ 4        │\n",
       "│ std       ┆ 5.951663  ┆ 1.252075  ┆ 0.427907  ┆ … ┆ 0.285273  ┆ 1.024415  ┆ 0.415669  ┆ 0.55756  │\n",
       "│ min       ┆ -13.0     ┆ -10.75913 ┆ -3.887295 ┆ … ┆ -12.42918 ┆ -4.57     ┆ -3.168973 ┆ -4.44460 │\n",
       "│           ┆           ┆ 4         ┆           ┆   ┆ 6         ┆           ┆           ┆ 9        │\n",
       "│ 25%       ┆ -4.0      ┆ -0.722503 ┆ -0.271596 ┆ … ┆ -0.168959 ┆ -0.48     ┆ -0.266368 ┆ -0.35632 │\n",
       "│           ┆           ┆           ┆           ┆   ┆           ┆           ┆           ┆ 9        │\n",
       "│ 50%       ┆ 0.0       ┆ -0.005474 ┆ 0.0       ┆ … ┆ 0.0       ┆ 0.0       ┆ 0.0       ┆ 0.0      │\n",
       "│ 75%       ┆ 4.0       ┆ 0.72383   ┆ 0.268931  ┆ … ┆ 0.170464  ┆ 0.48      ┆ 0.267652  ┆ 0.353631 │\n",
       "│ max       ┆ 13.0      ┆ 10.684132 ┆ 8.330738  ┆ … ┆ 96.997189 ┆ 4.49      ┆ 11.003514 ┆ 11.94327 │\n",
       "│           ┆           ┆           ┆           ┆   ┆           ┆           ┆           ┆ 7        │\n",
       "└───────────┴───────────┴───────────┴───────────┴───┴───────────┴───────────┴───────────┴──────────┘"
      ]
     },
     "execution_count": 12,
     "metadata": {},
     "output_type": "execute_result"
    }
   ],
   "source": [
    "def add_diff_features(lf: pl.LazyFrame, seq_features: list[str]) -> pl.LazyFrame:\n",
    "    num_seq_features = set(lf\n",
    "                           .select(seq_features)\n",
    "                           .select(cs.numeric())\n",
    "                           .collect_schema()\n",
    "                           .names())\n",
    "\n",
    "    return lf.with_columns(\n",
    "        (pl.col(feature.replace(\"prev_\", \"\"))\n",
    "        - pl.col(feature)).alias(f\"{feature.replace('prev_', '')}_diff\")\n",
    "        for feature in num_seq_features\n",
    "    )\n",
    "\n",
    "sequence_diff_pitches_lf = sequence_pitches_lf.pipe(add_diff_features, prev_features)\n",
    "\n",
    "diff_features = [\n",
    "    col for col in (sequence_diff_pitches_lf\n",
    "                    .collect_schema().names())\n",
    "    if col.endswith(\"_diff\")\n",
    "]\n",
    "\n",
    "(sequence_diff_pitches_lf\n",
    "    .select(*diff_features)\n",
    "    .describe())"
   ]
  },
  {
   "cell_type": "markdown",
   "metadata": {
    "id": "J_cYfhl8UdIe"
   },
   "source": [
    "## 3D distance features\n",
    "\n",
    "Using the euclidean distance function from earlier, I can create features that represent the distance between a pitch, and the previous pitch thrown in any given two pitch sequence."
   ]
  },
  {
   "cell_type": "code",
   "execution_count": 13,
   "metadata": {
    "colab": {
     "base_uri": "https://localhost:8080/",
     "height": 376
    },
    "id": "jUeiZ_cpCA_4",
    "outputId": "3df0fb48-1be1-49f6-8208-e0efaec6a7b0"
   },
   "outputs": [
    {
     "data": {
      "text/html": [
       "<div><style>\n",
       ".dataframe > thead > tr,\n",
       ".dataframe > tbody > tr {\n",
       "  text-align: right;\n",
       "  white-space: pre-wrap;\n",
       "}\n",
       "</style>\n",
       "<small>shape: (9, 5)</small><table border=\"1\" class=\"dataframe\"><thead><tr><th>statistic</th><th>3d_dist_0.120</th><th>3d_dist_0.167</th><th>3d_dist_plate</th><th>3d_dist_release</th></tr><tr><td>str</td><td>f64</td><td>f64</td><td>f64</td><td>f64</td></tr></thead><tbody><tr><td>&quot;count&quot;</td><td>3.172503e6</td><td>3.172503e6</td><td>3.172503e6</td><td>3.180734e6</td></tr><tr><td>&quot;null_count&quot;</td><td>191486.0</td><td>191486.0</td><td>191486.0</td><td>183255.0</td></tr><tr><td>&quot;mean&quot;</td><td>1.143968</td><td>1.547879</td><td>1.413035</td><td>0.214067</td></tr><tr><td>&quot;std&quot;</td><td>0.784165</td><td>1.074861</td><td>0.777573</td><td>0.177726</td></tr><tr><td>&quot;min&quot;</td><td>0.0</td><td>0.0</td><td>0.0</td><td>0.0</td></tr><tr><td>&quot;25%&quot;</td><td>0.483049</td><td>0.640718</td><td>0.842031</td><td>0.099121</td></tr><tr><td>&quot;50%&quot;</td><td>0.963307</td><td>1.289585</td><td>1.29343</td><td>0.170002</td></tr><tr><td>&quot;75%&quot;</td><td>1.68196</td><td>2.289395</td><td>1.852381</td><td>0.277849</td></tr><tr><td>&quot;max&quot;</td><td>14.615147</td><td>20.706427</td><td>170.320872</td><td>15.812621</td></tr></tbody></table></div>"
      ],
      "text/plain": [
       "shape: (9, 5)\n",
       "┌────────────┬───────────────┬───────────────┬───────────────┬─────────────────┐\n",
       "│ statistic  ┆ 3d_dist_0.120 ┆ 3d_dist_0.167 ┆ 3d_dist_plate ┆ 3d_dist_release │\n",
       "│ ---        ┆ ---           ┆ ---           ┆ ---           ┆ ---             │\n",
       "│ str        ┆ f64           ┆ f64           ┆ f64           ┆ f64             │\n",
       "╞════════════╪═══════════════╪═══════════════╪═══════════════╪═════════════════╡\n",
       "│ count      ┆ 3.172503e6    ┆ 3.172503e6    ┆ 3.172503e6    ┆ 3.180734e6      │\n",
       "│ null_count ┆ 191486.0      ┆ 191486.0      ┆ 191486.0      ┆ 183255.0        │\n",
       "│ mean       ┆ 1.143968      ┆ 1.547879      ┆ 1.413035      ┆ 0.214067        │\n",
       "│ std        ┆ 0.784165      ┆ 1.074861      ┆ 0.777573      ┆ 0.177726        │\n",
       "│ min        ┆ 0.0           ┆ 0.0           ┆ 0.0           ┆ 0.0             │\n",
       "│ 25%        ┆ 0.483049      ┆ 0.640718      ┆ 0.842031      ┆ 0.099121        │\n",
       "│ 50%        ┆ 0.963307      ┆ 1.289585      ┆ 1.29343       ┆ 0.170002        │\n",
       "│ 75%        ┆ 1.68196       ┆ 2.289395      ┆ 1.852381      ┆ 0.277849        │\n",
       "│ max        ┆ 14.615147     ┆ 20.706427     ┆ 170.320872    ┆ 15.812621       │\n",
       "└────────────┴───────────────┴───────────────┴───────────────┴─────────────────┘"
      ]
     },
     "execution_count": 13,
     "metadata": {},
     "output_type": "execute_result"
    }
   ],
   "source": [
    "def add_3D_distances(lf: pl.LazyFrame, times: list[float]) -> pl.LazyFrame:\n",
    "    return lf.with_columns(\n",
    "        # distance over the plate\n",
    "        euclidean_distance(\n",
    "            *[(pl.col(f\"{d}_plate\"), pl.col(f\"prev_{d}_plate\"))\n",
    "              for d in [\"x\", \"y\", \"z\"]]\n",
    "        ).alias(\"3d_dist_plate\"),\n",
    "\n",
    "        # distance at release\n",
    "        euclidean_distance(\n",
    "            *[(pl.col(f\"release_pos_{d}\"), pl.col(f\"prev_release_pos_{d}\"))\n",
    "              for d in [\"x\", \"y\", \"z\"]]\n",
    "        ).alias(\"3d_dist_release\"),\n",
    "\n",
    "        # distances at given times after release\n",
    "        *[euclidean_distance(\n",
    "            *[(pl.col(f\"{d}_{t:.3f}\"), pl.col(f\"prev_{d}_{t:.3f}\"))\n",
    "             for d in [\"x\", \"y\", \"z\"]]\n",
    "        ).alias(f\"3d_dist_{t:.3f}\")\n",
    "        for t in times]\n",
    "    )\n",
    "\n",
    "sequence_dist_pitches_lf = sequence_diff_pitches_lf.pipe(add_3D_distances, TIMES)\n",
    "\n",
    "(sequence_dist_pitches_lf\n",
    "    .select(\"3d_dist_0.120\", \"3d_dist_0.167\",\n",
    "            \"3d_dist_plate\", \"3d_dist_release\")\n",
    "    .describe())"
   ]
  },
  {
   "cell_type": "markdown",
   "metadata": {
    "id": "0hvKsR72Qw2P"
   },
   "source": [
    "# Serializing the LazyFrame w/ Features\n",
    "\n",
    "This will allow me to pick up at this point in a new notebook if I want to"
   ]
  },
  {
   "cell_type": "code",
   "execution_count": 14,
   "metadata": {
    "id": "DgaPtBF7Qw2P"
   },
   "outputs": [],
   "source": [
    "sequence_dist_pitches_lf.serialize(\n",
    "    os.path.join(DATA_DIR, \"two_pitch_seqs_lf\")\n",
    ")\n",
    "\n",
    "ball_pos_lf.serialize(\n",
    "    os.path.join(DATA_DIR, \"ball_pos_lf\")\n",
    ")"
   ]
  },
  {
   "cell_type": "markdown",
   "metadata": {},
   "source": [
    "## Pre Processing\n"
   ]
  },
  {
   "cell_type": "code",
   "execution_count": 15,
   "metadata": {},
   "outputs": [
    {
     "data": {
      "text/html": [
       "<div><style>\n",
       ".dataframe > thead > tr,\n",
       ".dataframe > tbody > tr {\n",
       "  text-align: right;\n",
       "  white-space: pre-wrap;\n",
       "}\n",
       "</style>\n",
       "<small>shape: (9, 73)</small><table border=\"1\" class=\"dataframe\"><thead><tr><th>statistic</th><th>game_date</th><th>release_speed</th><th>release_pos_x</th><th>release_pos_y</th><th>release_pos_z</th><th>3d_dist_plate</th><th>3d_dist_release</th><th>3d_dist_0.120</th><th>3d_dist_0.167</th><th>ax</th><th>ay</th><th>az</th><th>vx0</th><th>vy0</th><th>vz0</th><th>x50</th><th>y50</th><th>z50</th><th>plate_x</th><th>plate_z</th><th>x_plate</th><th>y_plate</th><th>z_plate</th><th>x_0.120</th><th>y_0.120</th><th>z_0.120</th><th>x_0.167</th><th>y_0.167</th><th>z_0.167</th><th>pitch_type</th><th>zone</th><th>delta_run_exp</th><th>prev_pfx_x</th><th>prev_pfx_z</th><th>prev_x_0.120</th><th>prev_y_0.120</th><th>prev_z_0.120</th><th>prev_x_0.167</th><th>prev_y_0.167</th><th>prev_z_0.167</th><th>prev_release_pos_x</th><th>prev_release_pos_y</th><th>prev_release_pos_z</th><th>prev_release_speed</th><th>prev_effective_speed</th><th>prev_release_spin_rate</th><th>prev_delta_run_exp</th><th>prev_x_plate</th><th>prev_y_plate</th><th>prev_z_plate</th><th>prev_pitch_type</th><th>prev_zone</th><th>zone_diff</th><th>y_0.120_diff</th><th>z_0.120_diff</th><th>delta_run_exp_diff</th><th>release_speed_diff</th><th>release_pos_y_diff</th><th>effective_speed_diff</th><th>release_pos_x_diff</th><th>x_0.167_diff</th><th>x_plate_diff</th><th>z_plate_diff</th><th>pfx_z_diff</th><th>release_spin_rate_diff</th><th>y_0.167_diff</th><th>release_pos_z_diff</th><th>y_plate_diff</th><th>pfx_x_diff</th><th>x_0.120_diff</th><th>z_0.167_diff</th><th>seq_delta_run_exp</th></tr><tr><td>str</td><td>str</td><td>f64</td><td>f64</td><td>f64</td><td>f64</td><td>f64</td><td>f64</td><td>f64</td><td>f64</td><td>f64</td><td>f64</td><td>f64</td><td>f64</td><td>f64</td><td>f64</td><td>f64</td><td>f64</td><td>f64</td><td>f64</td><td>f64</td><td>f64</td><td>f64</td><td>f64</td><td>f64</td><td>f64</td><td>f64</td><td>f64</td><td>f64</td><td>f64</td><td>str</td><td>f64</td><td>f64</td><td>f64</td><td>f64</td><td>f64</td><td>f64</td><td>f64</td><td>f64</td><td>f64</td><td>f64</td><td>f64</td><td>f64</td><td>f64</td><td>f64</td><td>f64</td><td>f64</td><td>f64</td><td>f64</td><td>f64</td><td>f64</td><td>str</td><td>f64</td><td>f64</td><td>f64</td><td>f64</td><td>f64</td><td>f64</td><td>f64</td><td>f64</td><td>f64</td><td>f64</td><td>f64</td><td>f64</td><td>f64</td><td>f64</td><td>f64</td><td>f64</td><td>f64</td><td>f64</td><td>f64</td><td>f64</td><td>f64</td></tr></thead><tbody><tr><td>&quot;count&quot;</td><td>&quot;3154584&quot;</td><td>3.154584e6</td><td>3.154584e6</td><td>3.154584e6</td><td>3.154584e6</td><td>3.154584e6</td><td>3.154584e6</td><td>3.154584e6</td><td>3.154584e6</td><td>3.154584e6</td><td>3.154584e6</td><td>3.154584e6</td><td>3.154584e6</td><td>3.154584e6</td><td>3.154584e6</td><td>3.154584e6</td><td>3.154584e6</td><td>3.154584e6</td><td>3.154584e6</td><td>3.154584e6</td><td>3.154584e6</td><td>3.154584e6</td><td>3.154584e6</td><td>3.154584e6</td><td>3.154584e6</td><td>3.154584e6</td><td>3.154584e6</td><td>3.154584e6</td><td>3.154584e6</td><td>&quot;3154584&quot;</td><td>3.154584e6</td><td>3.154584e6</td><td>3.154584e6</td><td>3.154584e6</td><td>3.154584e6</td><td>3.154584e6</td><td>3.154584e6</td><td>3.154584e6</td><td>3.154584e6</td><td>3.154584e6</td><td>3.154584e6</td><td>3.154584e6</td><td>3.154584e6</td><td>3.154584e6</td><td>3.154584e6</td><td>3.154584e6</td><td>3.154584e6</td><td>3.154584e6</td><td>3.154584e6</td><td>3.154584e6</td><td>&quot;3154584&quot;</td><td>3.154584e6</td><td>3.154584e6</td><td>3.154584e6</td><td>3.154584e6</td><td>3.154584e6</td><td>3.154584e6</td><td>3.154584e6</td><td>3.154584e6</td><td>3.154584e6</td><td>3.154584e6</td><td>3.154584e6</td><td>3.154584e6</td><td>3.154584e6</td><td>3.154584e6</td><td>3.154584e6</td><td>3.154584e6</td><td>3.154584e6</td><td>3.154584e6</td><td>3.154584e6</td><td>3.154584e6</td><td>3.154584e6</td></tr><tr><td>&quot;null_count&quot;</td><td>&quot;0&quot;</td><td>0.0</td><td>0.0</td><td>0.0</td><td>0.0</td><td>0.0</td><td>0.0</td><td>0.0</td><td>0.0</td><td>0.0</td><td>0.0</td><td>0.0</td><td>0.0</td><td>0.0</td><td>0.0</td><td>0.0</td><td>0.0</td><td>0.0</td><td>0.0</td><td>0.0</td><td>0.0</td><td>0.0</td><td>0.0</td><td>0.0</td><td>0.0</td><td>0.0</td><td>0.0</td><td>0.0</td><td>0.0</td><td>&quot;0&quot;</td><td>0.0</td><td>0.0</td><td>0.0</td><td>0.0</td><td>0.0</td><td>0.0</td><td>0.0</td><td>0.0</td><td>0.0</td><td>0.0</td><td>0.0</td><td>0.0</td><td>0.0</td><td>0.0</td><td>0.0</td><td>0.0</td><td>0.0</td><td>0.0</td><td>0.0</td><td>0.0</td><td>&quot;0&quot;</td><td>0.0</td><td>0.0</td><td>0.0</td><td>0.0</td><td>0.0</td><td>0.0</td><td>0.0</td><td>0.0</td><td>0.0</td><td>0.0</td><td>0.0</td><td>0.0</td><td>0.0</td><td>0.0</td><td>0.0</td><td>0.0</td><td>0.0</td><td>0.0</td><td>0.0</td><td>0.0</td><td>0.0</td></tr><tr><td>&quot;mean&quot;</td><td>&quot;2022-10-30 16:58:48.652399&quot;</td><td>88.970372</td><td>-0.801127</td><td>4.51025</td><td>5.801457</td><td>1.412962</td><td>0.213948</td><td>1.143867</td><td>1.54775</td><td>-2.17867</td><td>26.883705</td><td>-23.805468</td><td>2.373742</td><td>-129.401193</td><td>-3.895177</td><td>-0.733502</td><td>0.628503</td><td>5.676211</td><td>0.044478</td><td>2.2806</td><td>-0.004602</td><td>-44.809408</td><td>2.614128</td><td>-0.526578</td><td>-10.896363</td><td>5.227878</td><td>-0.426997</td><td>-16.834737</td><td>4.918964</td><td>null</td><td>9.093413</td><td>-0.000009</td><td>-0.113232</td><td>0.616653</td><td>-0.526981</td><td>-10.895335</td><td>5.229209</td><td>-0.427332</td><td>-16.83334</td><td>4.920307</td><td>-0.801656</td><td>4.510309</td><td>5.802946</td><td>88.965218</td><td>89.102683</td><td>2250.012182</td><td>-0.001263</td><td>-0.004366</td><td>-44.809655</td><td>2.615555</td><td>null</td><td>9.125033</td><td>-0.03162</td><td>-0.001028</td><td>-0.001331</td><td>0.001254</td><td>0.005154</td><td>-0.000059</td><td>0.006872</td><td>0.000529</td><td>0.000335</td><td>-0.000235</td><td>-0.001427</td><td>-0.001157</td><td>-0.792291</td><td>-0.001397</td><td>-0.001489</td><td>0.000247</td><td>-0.000617</td><td>0.000402</td><td>-0.001343</td><td>-0.001272</td></tr><tr><td>&quot;std&quot;</td><td>null</td><td>6.032485</td><td>1.857807</td><td>0.038017</td><td>0.540158</td><td>0.771668</td><td>0.176802</td><td>0.784099</td><td>1.074762</td><td>10.732555</td><td>4.004844</td><td>8.892772</td><td>5.80265</td><td>8.733325</td><td>3.052229</td><td>1.704272</td><td>0.391713</td><td>0.50201</td><td>0.840842</td><td>0.974851</td><td>0.780723</td><td>0.444191</td><td>0.894293</td><td>1.278128</td><td>1.03513</td><td>0.484545</td><td>1.090647</td><td>1.425001</td><td>0.520374</td><td>null</td><td>4.228238</td><td>0.24061</td><td>0.883767</td><td>0.733773</td><td>1.278864</td><td>1.037452</td><td>0.48601</td><td>1.091673</td><td>1.428189</td><td>0.522907</td><td>1.858343</td><td>0.038064</td><td>0.539805</td><td>6.045718</td><td>6.207473</td><td>343.867108</td><td>0.224751</td><td>0.78494</td><td>0.444633</td><td>0.898871</td><td>null</td><td>4.22814</td><td>5.951744</td><td>1.251979</td><td>0.427918</td><td>0.328446</td><td>7.320774</td><td>0.017705</td><td>7.429659</td><td>0.224941</td><td>0.514311</td><td>1.02615</td><td>1.208652</td><td>0.945002</td><td>374.640646</td><td>1.724888</td><td>0.161612</td><td>0.279478</td><td>1.024025</td><td>0.415541</td><td>0.557574</td><td>0.330054</td></tr><tr><td>&quot;min&quot;</td><td>&quot;2020-07-23 00:00:00&quot;</td><td>31.1</td><td>-4.95</td><td>4.030833</td><td>0.76</td><td>0.0</td><td>0.0</td><td>0.0</td><td>0.0</td><td>-35.423968</td><td>-19.370976</td><td>-51.301206</td><td>-20.9275</td><td>-153.07888</td><td>-23.653902</td><td>-4.760504</td><td>-2.449655</td><td>1.036836</td><td>-8.66</td><td>-7.65</td><td>-8.131567</td><td>-48.949289</td><td>-6.206166</td><td>-4.542197</td><td>-13.681389</td><td>1.315128</td><td>-4.556307</td><td>-20.63631</td><td>1.222144</td><td>&quot;CH&quot;</td><td>1.0</td><td>-1.537</td><td>-2.95</td><td>-2.14</td><td>-4.542197</td><td>-13.681389</td><td>1.315128</td><td>-4.556307</td><td>-20.617553</td><td>1.222144</td><td>-4.95</td><td>4.030833</td><td>0.76</td><td>31.1</td><td>27.9</td><td>4.0</td><td>-1.537</td><td>-8.131567</td><td>-48.949289</td><td>-6.206166</td><td>&quot;CH&quot;</td><td>1.0</td><td>-13.0</td><td>-10.759134</td><td>-3.777252</td><td>-3.852</td><td>-50.5</td><td>-0.490833</td><td>-53.3</td><td>-4.56</td><td>-3.502727</td><td>-9.390767</td><td>-11.666142</td><td>-4.13</td><td>-3179.0</td><td>-14.847905</td><td>-4.19</td><td>-5.709454</td><td>-4.57</td><td>-3.168973</td><td>-4.444609</td><td>-2.166</td></tr><tr><td>&quot;25%&quot;</td><td>&quot;2021-08-22 00:00:00&quot;</td><td>84.7</td><td>-2.11</td><td>4.485</td><td>5.54</td><td>0.842013</td><td>0.099083</td><td>0.482979</td><td>0.640642</td><td>-11.279772</td><td>23.884811</td><td>-30.189198</td><td>-2.017856</td><td>-136.428983</td><td>-5.946443</td><td>-1.936178</td><td>0.385535</td><td>5.421488</td><td>-0.52</td><td>1.64</td><td>-0.529432</td><td>-45.101429</td><td>2.028877</td><td>-1.428733</td><td>-11.726229</td><td>4.93178</td><td>-1.197397</td><td>-17.977466</td><td>4.582478</td><td>null</td><td>5.0</td><td>-0.066</td><td>-0.86</td><td>0.16</td><td>-1.429722</td><td>-11.72632</td><td>4.931784</td><td>-1.198572</td><td>-17.97758</td><td>4.581695</td><td>-2.11</td><td>4.485</td><td>5.54</td><td>84.6</td><td>84.8</td><td>2095.0</td><td>-0.061</td><td>-0.53346</td><td>-45.101821</td><td>2.025451</td><td>null</td><td>5.0</td><td>-4.0</td><td>-0.722265</td><td>-0.271644</td><td>-0.101</td><td>-4.3</td><td>-0.01</td><td>-4.2</td><td>-0.12</td><td>-0.333941</td><td>-0.681493</td><td>-0.791251</td><td>-0.44</td><td>-139.0</td><td>-0.993267</td><td>-0.08</td><td>-0.168908</td><td>-0.48</td><td>-0.266337</td><td>-0.356407</td><td>-0.148</td></tr><tr><td>&quot;50%&quot;</td><td>&quot;2022-09-11 00:00:00&quot;</td><td>89.8</td><td>-1.49</td><td>4.509167</td><td>5.84</td><td>1.293456</td><td>0.169953</td><td>0.963182</td><td>1.289416</td><td>-2.191397</td><td>26.769554</td><td>-23.780959</td><td>4.007171</td><td>-130.674381</td><td>-3.998085</td><td>-1.354148</td><td>0.645304</td><td>5.70843</td><td>0.04</td><td>2.29</td><td>-0.004007</td><td>-44.803835</td><td>2.615022</td><td>-0.92243</td><td>-11.049937</td><td>5.223085</td><td>-0.704499</td><td>-17.048693</td><td>4.901982</td><td>null</td><td>11.0</td><td>0.0</td><td>-0.18</td><td>0.69</td><td>-0.922721</td><td>-11.053209</td><td>5.223966</td><td>-0.704278</td><td>-17.053083</td><td>4.902721</td><td>-1.49</td><td>4.51</td><td>5.84</td><td>89.9</td><td>90.1</td><td>2277.0</td><td>0.0</td><td>-0.0032</td><td>-44.804113</td><td>2.616631</td><td>null</td><td>11.0</td><td>0.0</td><td>-0.005458</td><td>0.0</td><td>0.0</td><td>0.0</td><td>0.0</td><td>0.0</td><td>0.0</td><td>0.0</td><td>0.0</td><td>0.0</td><td>0.0</td><td>1.0</td><td>-0.007303</td><td>0.0</td><td>0.0</td><td>0.0</td><td>0.0</td><td>0.0</td><td>-0.019</td></tr><tr><td>&quot;75%&quot;</td><td>&quot;2023-09-22 00:00:00&quot;</td><td>93.8</td><td>0.94</td><td>4.535833</td><td>6.13</td><td>1.852419</td><td>0.277629</td><td>1.681784</td><td>2.289148</td><td>6.136701</td><td>29.853173</td><td>-15.996417</td><td>6.584456</td><td>-123.1867</td><td>-1.96329</td><td>0.836618</td><td>0.901648</td><td>5.985333</td><td>0.61</td><td>2.93</td><td>0.520535</td><td>-44.515111</td><td>3.202675</td><td>0.501905</td><td>-10.162973</td><td>5.526372</td><td>0.342403</td><td>-15.826413</td><td>5.238926</td><td>null</td><td>13.0</td><td>0.036</td><td>0.59</td><td>1.24</td><td>0.50228</td><td>-10.161068</td><td>5.528434</td><td>0.342204</td><td>-15.823775</td><td>5.241725</td><td>0.94</td><td>4.535833</td><td>6.14</td><td>93.8</td><td>94.0</td><td>2451.0</td><td>0.035</td><td>0.525074</td><td>-44.515115</td><td>3.208462</td><td>null</td><td>13.0</td><td>4.0</td><td>0.723699</td><td>0.268978</td><td>0.091</td><td>4.2</td><td>0.01</td><td>4.2</td><td>0.12</td><td>0.334981</td><td>0.681583</td><td>0.783037</td><td>0.44</td><td>138.0</td><td>0.99509</td><td>0.08</td><td>0.170361</td><td>0.48</td><td>0.267572</td><td>0.353683</td><td>0.045</td></tr><tr><td>&quot;max&quot;</td><td>&quot;2024-10-30 00:00:00&quot;</td><td>105.5</td><td>4.75</td><td>4.8075</td><td>8.11</td><td>13.616653</td><td>4.709685</td><td>11.017295</td><td>15.136046</td><td>31.73382</td><td>100.050198</td><td>2.247265</td><td>24.111797</td><td>-42.52358</td><td>20.09525</td><td>4.521722</td><td>5.5406</td><td>9.258291</td><td>10.2</td><td>13.58</td><td>8.951553</td><td>-39.345836</td><td>13.698295</td><td>4.386514</td><td>-0.326078</td><td>8.93593</td><td>4.541119</td><td>-2.325017</td><td>9.526448</td><td>&quot;SV&quot;</td><td>14.0</td><td>3.65</td><td>2.84</td><td>2.8</td><td>4.386514</td><td>-0.326078</td><td>9.172685</td><td>4.541119</td><td>-2.325017</td><td>9.883671</td><td>4.75</td><td>4.8075</td><td>8.11</td><td>105.1</td><td>107.1</td><td>3722.0</td><td>3.65</td><td>8.951553</td><td>-39.263614</td><td>13.698295</td><td>&quot;SV&quot;</td><td>14.0</td><td>13.0</td><td>9.041928</td><td>3.942289</td><td>3.887</td><td>60.6</td><td>0.5</td><td>63.1</td><td>4.67</td><td>4.026007</td><td>10.282768</td><td>12.003925</td><td>3.85</td><td>3151.0</td><td>12.493472</td><td>3.94</td><td>5.62397</td><td>4.49</td><td>2.995234</td><td>5.211208</td><td>6.561</td></tr></tbody></table></div>"
      ],
      "text/plain": [
       "shape: (9, 73)\n",
       "┌───────────┬───────────┬───────────┬───────────┬───┬───────────┬───────────┬───────────┬──────────┐\n",
       "│ statistic ┆ game_date ┆ release_s ┆ release_p ┆ … ┆ pfx_x_dif ┆ x_0.120_d ┆ z_0.167_d ┆ seq_delt │\n",
       "│ ---       ┆ ---       ┆ peed      ┆ os_x      ┆   ┆ f         ┆ iff       ┆ iff       ┆ a_run_ex │\n",
       "│ str       ┆ str       ┆ ---       ┆ ---       ┆   ┆ ---       ┆ ---       ┆ ---       ┆ p        │\n",
       "│           ┆           ┆ f64       ┆ f64       ┆   ┆ f64       ┆ f64       ┆ f64       ┆ ---      │\n",
       "│           ┆           ┆           ┆           ┆   ┆           ┆           ┆           ┆ f64      │\n",
       "╞═══════════╪═══════════╪═══════════╪═══════════╪═══╪═══════════╪═══════════╪═══════════╪══════════╡\n",
       "│ count     ┆ 3154584   ┆ 3.154584e ┆ 3.154584e ┆ … ┆ 3.154584e ┆ 3.154584e ┆ 3.154584e ┆ 3.154584 │\n",
       "│           ┆           ┆ 6         ┆ 6         ┆   ┆ 6         ┆ 6         ┆ 6         ┆ e6       │\n",
       "│ null_coun ┆ 0         ┆ 0.0       ┆ 0.0       ┆ … ┆ 0.0       ┆ 0.0       ┆ 0.0       ┆ 0.0      │\n",
       "│ t         ┆           ┆           ┆           ┆   ┆           ┆           ┆           ┆          │\n",
       "│ mean      ┆ 2022-10-3 ┆ 88.970372 ┆ -0.801127 ┆ … ┆ -0.000617 ┆ 0.000402  ┆ -0.001343 ┆ -0.00127 │\n",
       "│           ┆ 0 16:58:4 ┆           ┆           ┆   ┆           ┆           ┆           ┆ 2        │\n",
       "│           ┆ 8.652399  ┆           ┆           ┆   ┆           ┆           ┆           ┆          │\n",
       "│ std       ┆ null      ┆ 6.032485  ┆ 1.857807  ┆ … ┆ 1.024025  ┆ 0.415541  ┆ 0.557574  ┆ 0.330054 │\n",
       "│ min       ┆ 2020-07-2 ┆ 31.1      ┆ -4.95     ┆ … ┆ -4.57     ┆ -3.168973 ┆ -4.444609 ┆ -2.166   │\n",
       "│           ┆ 3         ┆           ┆           ┆   ┆           ┆           ┆           ┆          │\n",
       "│           ┆ 00:00:00  ┆           ┆           ┆   ┆           ┆           ┆           ┆          │\n",
       "│ 25%       ┆ 2021-08-2 ┆ 84.7      ┆ -2.11     ┆ … ┆ -0.48     ┆ -0.266337 ┆ -0.356407 ┆ -0.148   │\n",
       "│           ┆ 2         ┆           ┆           ┆   ┆           ┆           ┆           ┆          │\n",
       "│           ┆ 00:00:00  ┆           ┆           ┆   ┆           ┆           ┆           ┆          │\n",
       "│ 50%       ┆ 2022-09-1 ┆ 89.8      ┆ -1.49     ┆ … ┆ 0.0       ┆ 0.0       ┆ 0.0       ┆ -0.019   │\n",
       "│           ┆ 1         ┆           ┆           ┆   ┆           ┆           ┆           ┆          │\n",
       "│           ┆ 00:00:00  ┆           ┆           ┆   ┆           ┆           ┆           ┆          │\n",
       "│ 75%       ┆ 2023-09-2 ┆ 93.8      ┆ 0.94      ┆ … ┆ 0.48      ┆ 0.267572  ┆ 0.353683  ┆ 0.045    │\n",
       "│           ┆ 2         ┆           ┆           ┆   ┆           ┆           ┆           ┆          │\n",
       "│           ┆ 00:00:00  ┆           ┆           ┆   ┆           ┆           ┆           ┆          │\n",
       "│ max       ┆ 2024-10-3 ┆ 105.5     ┆ 4.75      ┆ … ┆ 4.49      ┆ 2.995234  ┆ 5.211208  ┆ 6.561    │\n",
       "│           ┆ 0         ┆           ┆           ┆   ┆           ┆           ┆           ┆          │\n",
       "│           ┆ 00:00:00  ┆           ┆           ┆   ┆           ┆           ┆           ┆          │\n",
       "└───────────┴───────────┴───────────┴───────────┴───┴───────────┴───────────┴───────────┴──────────┘"
      ]
     },
     "execution_count": 15,
     "metadata": {},
     "output_type": "execute_result"
    }
   ],
   "source": [
    "features = [\n",
    "    \"release_speed\", \"release_pos_x\", \"release_pos_y\", \"release_pos_z\",\n",
    "    \"3d_dist_plate\", \"3d_dist_release\", \"3d_dist_0.120\", \"3d_dist_0.167\",\n",
    "    \"ax\", \"ay\", \"az\", \"vx0\", \"vy0\", \"vz0\", \"x50\", \"y50\", \"z50\", \"plate_x\",\n",
    "    \"plate_z\", \"x_plate\", \"y_plate\", \"z_plate\", \"x_0.120\", \"y_0.120\", \"z_0.120\",\n",
    "    \"x_0.167\", \"y_0.167\", \"z_0.167\", \"pitch_type\", \"zone\", \"delta_run_exp\",\n",
    "] + prev_features + diff_features\n",
    "\n",
    "RESPONSE = \"seq_delta_run_exp\"\n",
    "\n",
    "two_seqs_df = (sequence_dist_pitches_lf\n",
    "               .with_columns((pl.col(\"delta_run_exp\") \n",
    "                              + pl.col(\"prev_delta_run_exp\"))\n",
    "                              .alias(RESPONSE))\n",
    "               .select(\"game_date\", *features, RESPONSE)\n",
    "               .drop_nulls()\n",
    "               .collect()) \n",
    "\n",
    "train_df = two_seqs_df.filter(pl.col(\"game_date\").dt.year().is_between(2020, 2023))\n",
    "test_df = two_seqs_df.filter(pl.col(\"game_date\").dt.year() == 2024)\n",
    "\n",
    "two_seqs_df.describe()"
   ]
  },
  {
   "cell_type": "code",
   "execution_count": 23,
   "metadata": {},
   "outputs": [
    {
     "name": "stdout",
     "output_type": "stream",
     "text": [
      "(2414151, 65) (2414151, 1)\n"
     ]
    }
   ],
   "source": [
    "X = train_df.select(pl.exclude(\n",
    "    RESPONSE,\n",
    "    \"prev_delta_run_exp\",\n",
    "    \"delta_run_exp_diff\",\n",
    "    \"pitch_type\",\n",
    "    \"prev_pitch_type\",\n",
    "    \"delta_run_exp\",\n",
    "    \"game_date\"\n",
    "))\n",
    "\n",
    "y = train_df.select(RESPONSE)\n",
    "\n",
    "print(X.shape, y.shape)"
   ]
  },
  {
   "cell_type": "markdown",
   "metadata": {
    "id": "RR27hEwCQw2P"
   },
   "source": [
    "# Model Building\n",
    "\n",
    "Feature selection & model training"
   ]
  },
  {
   "cell_type": "markdown",
   "metadata": {},
   "source": [
    "### Recursive Feature Selection"
   ]
  },
  {
   "cell_type": "code",
   "execution_count": 24,
   "metadata": {},
   "outputs": [
    {
     "data": {
      "text/html": [
       "<style>#sk-container-id-2 {\n",
       "  /* Definition of color scheme common for light and dark mode */\n",
       "  --sklearn-color-text: black;\n",
       "  --sklearn-color-line: gray;\n",
       "  /* Definition of color scheme for unfitted estimators */\n",
       "  --sklearn-color-unfitted-level-0: #fff5e6;\n",
       "  --sklearn-color-unfitted-level-1: #f6e4d2;\n",
       "  --sklearn-color-unfitted-level-2: #ffe0b3;\n",
       "  --sklearn-color-unfitted-level-3: chocolate;\n",
       "  /* Definition of color scheme for fitted estimators */\n",
       "  --sklearn-color-fitted-level-0: #f0f8ff;\n",
       "  --sklearn-color-fitted-level-1: #d4ebff;\n",
       "  --sklearn-color-fitted-level-2: #b3dbfd;\n",
       "  --sklearn-color-fitted-level-3: cornflowerblue;\n",
       "\n",
       "  /* Specific color for light theme */\n",
       "  --sklearn-color-text-on-default-background: var(--sg-text-color, var(--theme-code-foreground, var(--jp-content-font-color1, black)));\n",
       "  --sklearn-color-background: var(--sg-background-color, var(--theme-background, var(--jp-layout-color0, white)));\n",
       "  --sklearn-color-border-box: var(--sg-text-color, var(--theme-code-foreground, var(--jp-content-font-color1, black)));\n",
       "  --sklearn-color-icon: #696969;\n",
       "\n",
       "  @media (prefers-color-scheme: dark) {\n",
       "    /* Redefinition of color scheme for dark theme */\n",
       "    --sklearn-color-text-on-default-background: var(--sg-text-color, var(--theme-code-foreground, var(--jp-content-font-color1, white)));\n",
       "    --sklearn-color-background: var(--sg-background-color, var(--theme-background, var(--jp-layout-color0, #111)));\n",
       "    --sklearn-color-border-box: var(--sg-text-color, var(--theme-code-foreground, var(--jp-content-font-color1, white)));\n",
       "    --sklearn-color-icon: #878787;\n",
       "  }\n",
       "}\n",
       "\n",
       "#sk-container-id-2 {\n",
       "  color: var(--sklearn-color-text);\n",
       "}\n",
       "\n",
       "#sk-container-id-2 pre {\n",
       "  padding: 0;\n",
       "}\n",
       "\n",
       "#sk-container-id-2 input.sk-hidden--visually {\n",
       "  border: 0;\n",
       "  clip: rect(1px 1px 1px 1px);\n",
       "  clip: rect(1px, 1px, 1px, 1px);\n",
       "  height: 1px;\n",
       "  margin: -1px;\n",
       "  overflow: hidden;\n",
       "  padding: 0;\n",
       "  position: absolute;\n",
       "  width: 1px;\n",
       "}\n",
       "\n",
       "#sk-container-id-2 div.sk-dashed-wrapped {\n",
       "  border: 1px dashed var(--sklearn-color-line);\n",
       "  margin: 0 0.4em 0.5em 0.4em;\n",
       "  box-sizing: border-box;\n",
       "  padding-bottom: 0.4em;\n",
       "  background-color: var(--sklearn-color-background);\n",
       "}\n",
       "\n",
       "#sk-container-id-2 div.sk-container {\n",
       "  /* jupyter's `normalize.less` sets `[hidden] { display: none; }`\n",
       "     but bootstrap.min.css set `[hidden] { display: none !important; }`\n",
       "     so we also need the `!important` here to be able to override the\n",
       "     default hidden behavior on the sphinx rendered scikit-learn.org.\n",
       "     See: https://github.com/scikit-learn/scikit-learn/issues/21755 */\n",
       "  display: inline-block !important;\n",
       "  position: relative;\n",
       "}\n",
       "\n",
       "#sk-container-id-2 div.sk-text-repr-fallback {\n",
       "  display: none;\n",
       "}\n",
       "\n",
       "div.sk-parallel-item,\n",
       "div.sk-serial,\n",
       "div.sk-item {\n",
       "  /* draw centered vertical line to link estimators */\n",
       "  background-image: linear-gradient(var(--sklearn-color-text-on-default-background), var(--sklearn-color-text-on-default-background));\n",
       "  background-size: 2px 100%;\n",
       "  background-repeat: no-repeat;\n",
       "  background-position: center center;\n",
       "}\n",
       "\n",
       "/* Parallel-specific style estimator block */\n",
       "\n",
       "#sk-container-id-2 div.sk-parallel-item::after {\n",
       "  content: \"\";\n",
       "  width: 100%;\n",
       "  border-bottom: 2px solid var(--sklearn-color-text-on-default-background);\n",
       "  flex-grow: 1;\n",
       "}\n",
       "\n",
       "#sk-container-id-2 div.sk-parallel {\n",
       "  display: flex;\n",
       "  align-items: stretch;\n",
       "  justify-content: center;\n",
       "  background-color: var(--sklearn-color-background);\n",
       "  position: relative;\n",
       "}\n",
       "\n",
       "#sk-container-id-2 div.sk-parallel-item {\n",
       "  display: flex;\n",
       "  flex-direction: column;\n",
       "}\n",
       "\n",
       "#sk-container-id-2 div.sk-parallel-item:first-child::after {\n",
       "  align-self: flex-end;\n",
       "  width: 50%;\n",
       "}\n",
       "\n",
       "#sk-container-id-2 div.sk-parallel-item:last-child::after {\n",
       "  align-self: flex-start;\n",
       "  width: 50%;\n",
       "}\n",
       "\n",
       "#sk-container-id-2 div.sk-parallel-item:only-child::after {\n",
       "  width: 0;\n",
       "}\n",
       "\n",
       "/* Serial-specific style estimator block */\n",
       "\n",
       "#sk-container-id-2 div.sk-serial {\n",
       "  display: flex;\n",
       "  flex-direction: column;\n",
       "  align-items: center;\n",
       "  background-color: var(--sklearn-color-background);\n",
       "  padding-right: 1em;\n",
       "  padding-left: 1em;\n",
       "}\n",
       "\n",
       "\n",
       "/* Toggleable style: style used for estimator/Pipeline/ColumnTransformer box that is\n",
       "clickable and can be expanded/collapsed.\n",
       "- Pipeline and ColumnTransformer use this feature and define the default style\n",
       "- Estimators will overwrite some part of the style using the `sk-estimator` class\n",
       "*/\n",
       "\n",
       "/* Pipeline and ColumnTransformer style (default) */\n",
       "\n",
       "#sk-container-id-2 div.sk-toggleable {\n",
       "  /* Default theme specific background. It is overwritten whether we have a\n",
       "  specific estimator or a Pipeline/ColumnTransformer */\n",
       "  background-color: var(--sklearn-color-background);\n",
       "}\n",
       "\n",
       "/* Toggleable label */\n",
       "#sk-container-id-2 label.sk-toggleable__label {\n",
       "  cursor: pointer;\n",
       "  display: block;\n",
       "  width: 100%;\n",
       "  margin-bottom: 0;\n",
       "  padding: 0.5em;\n",
       "  box-sizing: border-box;\n",
       "  text-align: center;\n",
       "}\n",
       "\n",
       "#sk-container-id-2 label.sk-toggleable__label-arrow:before {\n",
       "  /* Arrow on the left of the label */\n",
       "  content: \"▸\";\n",
       "  float: left;\n",
       "  margin-right: 0.25em;\n",
       "  color: var(--sklearn-color-icon);\n",
       "}\n",
       "\n",
       "#sk-container-id-2 label.sk-toggleable__label-arrow:hover:before {\n",
       "  color: var(--sklearn-color-text);\n",
       "}\n",
       "\n",
       "/* Toggleable content - dropdown */\n",
       "\n",
       "#sk-container-id-2 div.sk-toggleable__content {\n",
       "  max-height: 0;\n",
       "  max-width: 0;\n",
       "  overflow: hidden;\n",
       "  text-align: left;\n",
       "  /* unfitted */\n",
       "  background-color: var(--sklearn-color-unfitted-level-0);\n",
       "}\n",
       "\n",
       "#sk-container-id-2 div.sk-toggleable__content.fitted {\n",
       "  /* fitted */\n",
       "  background-color: var(--sklearn-color-fitted-level-0);\n",
       "}\n",
       "\n",
       "#sk-container-id-2 div.sk-toggleable__content pre {\n",
       "  margin: 0.2em;\n",
       "  border-radius: 0.25em;\n",
       "  color: var(--sklearn-color-text);\n",
       "  /* unfitted */\n",
       "  background-color: var(--sklearn-color-unfitted-level-0);\n",
       "}\n",
       "\n",
       "#sk-container-id-2 div.sk-toggleable__content.fitted pre {\n",
       "  /* unfitted */\n",
       "  background-color: var(--sklearn-color-fitted-level-0);\n",
       "}\n",
       "\n",
       "#sk-container-id-2 input.sk-toggleable__control:checked~div.sk-toggleable__content {\n",
       "  /* Expand drop-down */\n",
       "  max-height: 200px;\n",
       "  max-width: 100%;\n",
       "  overflow: auto;\n",
       "}\n",
       "\n",
       "#sk-container-id-2 input.sk-toggleable__control:checked~label.sk-toggleable__label-arrow:before {\n",
       "  content: \"▾\";\n",
       "}\n",
       "\n",
       "/* Pipeline/ColumnTransformer-specific style */\n",
       "\n",
       "#sk-container-id-2 div.sk-label input.sk-toggleable__control:checked~label.sk-toggleable__label {\n",
       "  color: var(--sklearn-color-text);\n",
       "  background-color: var(--sklearn-color-unfitted-level-2);\n",
       "}\n",
       "\n",
       "#sk-container-id-2 div.sk-label.fitted input.sk-toggleable__control:checked~label.sk-toggleable__label {\n",
       "  background-color: var(--sklearn-color-fitted-level-2);\n",
       "}\n",
       "\n",
       "/* Estimator-specific style */\n",
       "\n",
       "/* Colorize estimator box */\n",
       "#sk-container-id-2 div.sk-estimator input.sk-toggleable__control:checked~label.sk-toggleable__label {\n",
       "  /* unfitted */\n",
       "  background-color: var(--sklearn-color-unfitted-level-2);\n",
       "}\n",
       "\n",
       "#sk-container-id-2 div.sk-estimator.fitted input.sk-toggleable__control:checked~label.sk-toggleable__label {\n",
       "  /* fitted */\n",
       "  background-color: var(--sklearn-color-fitted-level-2);\n",
       "}\n",
       "\n",
       "#sk-container-id-2 div.sk-label label.sk-toggleable__label,\n",
       "#sk-container-id-2 div.sk-label label {\n",
       "  /* The background is the default theme color */\n",
       "  color: var(--sklearn-color-text-on-default-background);\n",
       "}\n",
       "\n",
       "/* On hover, darken the color of the background */\n",
       "#sk-container-id-2 div.sk-label:hover label.sk-toggleable__label {\n",
       "  color: var(--sklearn-color-text);\n",
       "  background-color: var(--sklearn-color-unfitted-level-2);\n",
       "}\n",
       "\n",
       "/* Label box, darken color on hover, fitted */\n",
       "#sk-container-id-2 div.sk-label.fitted:hover label.sk-toggleable__label.fitted {\n",
       "  color: var(--sklearn-color-text);\n",
       "  background-color: var(--sklearn-color-fitted-level-2);\n",
       "}\n",
       "\n",
       "/* Estimator label */\n",
       "\n",
       "#sk-container-id-2 div.sk-label label {\n",
       "  font-family: monospace;\n",
       "  font-weight: bold;\n",
       "  display: inline-block;\n",
       "  line-height: 1.2em;\n",
       "}\n",
       "\n",
       "#sk-container-id-2 div.sk-label-container {\n",
       "  text-align: center;\n",
       "}\n",
       "\n",
       "/* Estimator-specific */\n",
       "#sk-container-id-2 div.sk-estimator {\n",
       "  font-family: monospace;\n",
       "  border: 1px dotted var(--sklearn-color-border-box);\n",
       "  border-radius: 0.25em;\n",
       "  box-sizing: border-box;\n",
       "  margin-bottom: 0.5em;\n",
       "  /* unfitted */\n",
       "  background-color: var(--sklearn-color-unfitted-level-0);\n",
       "}\n",
       "\n",
       "#sk-container-id-2 div.sk-estimator.fitted {\n",
       "  /* fitted */\n",
       "  background-color: var(--sklearn-color-fitted-level-0);\n",
       "}\n",
       "\n",
       "/* on hover */\n",
       "#sk-container-id-2 div.sk-estimator:hover {\n",
       "  /* unfitted */\n",
       "  background-color: var(--sklearn-color-unfitted-level-2);\n",
       "}\n",
       "\n",
       "#sk-container-id-2 div.sk-estimator.fitted:hover {\n",
       "  /* fitted */\n",
       "  background-color: var(--sklearn-color-fitted-level-2);\n",
       "}\n",
       "\n",
       "/* Specification for estimator info (e.g. \"i\" and \"?\") */\n",
       "\n",
       "/* Common style for \"i\" and \"?\" */\n",
       "\n",
       ".sk-estimator-doc-link,\n",
       "a:link.sk-estimator-doc-link,\n",
       "a:visited.sk-estimator-doc-link {\n",
       "  float: right;\n",
       "  font-size: smaller;\n",
       "  line-height: 1em;\n",
       "  font-family: monospace;\n",
       "  background-color: var(--sklearn-color-background);\n",
       "  border-radius: 1em;\n",
       "  height: 1em;\n",
       "  width: 1em;\n",
       "  text-decoration: none !important;\n",
       "  margin-left: 1ex;\n",
       "  /* unfitted */\n",
       "  border: var(--sklearn-color-unfitted-level-1) 1pt solid;\n",
       "  color: var(--sklearn-color-unfitted-level-1);\n",
       "}\n",
       "\n",
       ".sk-estimator-doc-link.fitted,\n",
       "a:link.sk-estimator-doc-link.fitted,\n",
       "a:visited.sk-estimator-doc-link.fitted {\n",
       "  /* fitted */\n",
       "  border: var(--sklearn-color-fitted-level-1) 1pt solid;\n",
       "  color: var(--sklearn-color-fitted-level-1);\n",
       "}\n",
       "\n",
       "/* On hover */\n",
       "div.sk-estimator:hover .sk-estimator-doc-link:hover,\n",
       ".sk-estimator-doc-link:hover,\n",
       "div.sk-label-container:hover .sk-estimator-doc-link:hover,\n",
       ".sk-estimator-doc-link:hover {\n",
       "  /* unfitted */\n",
       "  background-color: var(--sklearn-color-unfitted-level-3);\n",
       "  color: var(--sklearn-color-background);\n",
       "  text-decoration: none;\n",
       "}\n",
       "\n",
       "div.sk-estimator.fitted:hover .sk-estimator-doc-link.fitted:hover,\n",
       ".sk-estimator-doc-link.fitted:hover,\n",
       "div.sk-label-container:hover .sk-estimator-doc-link.fitted:hover,\n",
       ".sk-estimator-doc-link.fitted:hover {\n",
       "  /* fitted */\n",
       "  background-color: var(--sklearn-color-fitted-level-3);\n",
       "  color: var(--sklearn-color-background);\n",
       "  text-decoration: none;\n",
       "}\n",
       "\n",
       "/* Span, style for the box shown on hovering the info icon */\n",
       ".sk-estimator-doc-link span {\n",
       "  display: none;\n",
       "  z-index: 9999;\n",
       "  position: relative;\n",
       "  font-weight: normal;\n",
       "  right: .2ex;\n",
       "  padding: .5ex;\n",
       "  margin: .5ex;\n",
       "  width: min-content;\n",
       "  min-width: 20ex;\n",
       "  max-width: 50ex;\n",
       "  color: var(--sklearn-color-text);\n",
       "  box-shadow: 2pt 2pt 4pt #999;\n",
       "  /* unfitted */\n",
       "  background: var(--sklearn-color-unfitted-level-0);\n",
       "  border: .5pt solid var(--sklearn-color-unfitted-level-3);\n",
       "}\n",
       "\n",
       ".sk-estimator-doc-link.fitted span {\n",
       "  /* fitted */\n",
       "  background: var(--sklearn-color-fitted-level-0);\n",
       "  border: var(--sklearn-color-fitted-level-3);\n",
       "}\n",
       "\n",
       ".sk-estimator-doc-link:hover span {\n",
       "  display: block;\n",
       "}\n",
       "\n",
       "/* \"?\"-specific style due to the `<a>` HTML tag */\n",
       "\n",
       "#sk-container-id-2 a.estimator_doc_link {\n",
       "  float: right;\n",
       "  font-size: 1rem;\n",
       "  line-height: 1em;\n",
       "  font-family: monospace;\n",
       "  background-color: var(--sklearn-color-background);\n",
       "  border-radius: 1rem;\n",
       "  height: 1rem;\n",
       "  width: 1rem;\n",
       "  text-decoration: none;\n",
       "  /* unfitted */\n",
       "  color: var(--sklearn-color-unfitted-level-1);\n",
       "  border: var(--sklearn-color-unfitted-level-1) 1pt solid;\n",
       "}\n",
       "\n",
       "#sk-container-id-2 a.estimator_doc_link.fitted {\n",
       "  /* fitted */\n",
       "  border: var(--sklearn-color-fitted-level-1) 1pt solid;\n",
       "  color: var(--sklearn-color-fitted-level-1);\n",
       "}\n",
       "\n",
       "/* On hover */\n",
       "#sk-container-id-2 a.estimator_doc_link:hover {\n",
       "  /* unfitted */\n",
       "  background-color: var(--sklearn-color-unfitted-level-3);\n",
       "  color: var(--sklearn-color-background);\n",
       "  text-decoration: none;\n",
       "}\n",
       "\n",
       "#sk-container-id-2 a.estimator_doc_link.fitted:hover {\n",
       "  /* fitted */\n",
       "  background-color: var(--sklearn-color-fitted-level-3);\n",
       "}\n",
       "</style><div id=\"sk-container-id-2\" class=\"sk-top-container\"><div class=\"sk-text-repr-fallback\"><pre>RFECV(cv=5, estimator=LGBMRegressor(n_jobs=-1, random_state=42, verbose=-1),\n",
       "      n_jobs=-1, scoring=&#x27;neg_mean_absolute_error&#x27;)</pre><b>In a Jupyter environment, please rerun this cell to show the HTML representation or trust the notebook. <br />On GitHub, the HTML representation is unable to render, please try loading this page with nbviewer.org.</b></div><div class=\"sk-container\" hidden><div class=\"sk-item sk-dashed-wrapped\"><div class=\"sk-label-container\"><div class=\"sk-label fitted sk-toggleable\"><input class=\"sk-toggleable__control sk-hidden--visually\" id=\"sk-estimator-id-4\" type=\"checkbox\" ><label for=\"sk-estimator-id-4\" class=\"sk-toggleable__label fitted sk-toggleable__label-arrow fitted\">&nbsp;&nbsp;RFECV<a class=\"sk-estimator-doc-link fitted\" rel=\"noreferrer\" target=\"_blank\" href=\"https://scikit-learn.org/1.5/modules/generated/sklearn.feature_selection.RFECV.html\">?<span>Documentation for RFECV</span></a><span class=\"sk-estimator-doc-link fitted\">i<span>Fitted</span></span></label><div class=\"sk-toggleable__content fitted\"><pre>RFECV(cv=5, estimator=LGBMRegressor(n_jobs=-1, random_state=42, verbose=-1),\n",
       "      n_jobs=-1, scoring=&#x27;neg_mean_absolute_error&#x27;)</pre></div> </div></div><div class=\"sk-parallel\"><div class=\"sk-parallel-item\"><div class=\"sk-item\"><div class=\"sk-label-container\"><div class=\"sk-label fitted sk-toggleable\"><input class=\"sk-toggleable__control sk-hidden--visually\" id=\"sk-estimator-id-5\" type=\"checkbox\" ><label for=\"sk-estimator-id-5\" class=\"sk-toggleable__label fitted sk-toggleable__label-arrow fitted\">estimator: LGBMRegressor</label><div class=\"sk-toggleable__content fitted\"><pre>LGBMRegressor(n_jobs=-1, random_state=42, verbose=-1)</pre></div> </div></div><div class=\"sk-serial\"><div class=\"sk-item\"><div class=\"sk-estimator fitted sk-toggleable\"><input class=\"sk-toggleable__control sk-hidden--visually\" id=\"sk-estimator-id-6\" type=\"checkbox\" ><label for=\"sk-estimator-id-6\" class=\"sk-toggleable__label fitted sk-toggleable__label-arrow fitted\">LGBMRegressor</label><div class=\"sk-toggleable__content fitted\"><pre>LGBMRegressor(n_jobs=-1, random_state=42, verbose=-1)</pre></div> </div></div></div></div></div></div></div></div></div>"
      ],
      "text/plain": [
       "RFECV(cv=5, estimator=LGBMRegressor(n_jobs=-1, random_state=42, verbose=-1),\n",
       "      n_jobs=-1, scoring='neg_mean_absolute_error')"
      ]
     },
     "execution_count": 24,
     "metadata": {},
     "output_type": "execute_result"
    }
   ],
   "source": [
    "estimator = LGBMRegressor(\n",
    "    random_state=42,\n",
    "    n_jobs=-1,\n",
    "    verbose=-1,\n",
    ")\n",
    "\n",
    "rfecv = RFECV(\n",
    "    estimator=estimator,\n",
    "    step=1,\n",
    "    cv=5,\n",
    "    scoring=\"neg_mean_absolute_error\",\n",
    "    n_jobs=-1,\n",
    ")\n",
    "\n",
    "sample = train_df.sample(100_000, seed=42)\n",
    "X_sample = sample.select(X.columns).to_numpy()\n",
    "y_sample = sample.select(RESPONSE).to_numpy().flatten()\n",
    "\n",
    "rfecv.fit(X_sample, y_sample)"
   ]
  },
  {
   "cell_type": "code",
   "execution_count": 25,
   "metadata": {},
   "outputs": [
    {
     "data": {
      "image/png": "[encoded data removed]"
     },
     "metadata": {
      "image/png": {
       "height": 480,
       "width": 640
      }
     },
     "output_type": "display_data"
    }
   ],
   "source": [
    "feature_selection_plot = (\n",
    "    ggplot(\n",
    "        pl.from_dict({\n",
    "            \"N Features\": rfecv.cv_results_[\"n_features\"].tolist(),\n",
    "            \"MAE\": (-rfecv.cv_results_[\"mean_test_score\"]).tolist(),\n",
    "        }),\n",
    "        aes(x=\"N Features\", y=\"MAE\")\n",
    "    )\n",
    "    + geom_point()\n",
    "    + geom_line()\n",
    "    + geom_vline(xintercept=rfecv.n_features_, linetype=\"dashed\", color=\"red\")\n",
    "    + scale_x_continuous(breaks=range(1, len(rfecv.cv_results_[\"mean_test_score\"]), 2))\n",
    "    + labs(\n",
    "        title=\"LGBM Regressor RFECV Results\",\n",
    "        subtitle=\"\",\n",
    "    )\n",
    ")\n",
    "\n",
    "feature_selection_plot.show()"
   ]
  },
  {
   "cell_type": "markdown",
   "metadata": {},
   "source": [
    "Going with the elbow at 9 features, not the suggested 44."
   ]
  },
  {
   "cell_type": "code",
   "execution_count": 26,
   "metadata": {},
   "outputs": [
    {
     "data": {
      "image/png": "[encoded data removed]"
     },
     "metadata": {
      "image/png": {
       "height": 480,
       "width": 640
      }
     },
     "output_type": "display_data"
    }
   ],
   "source": [
    "selected_feature_mask = np.where(rfecv.support_)[0]\n",
    "SELECTED_FEATURES = [X.columns[i] for i in selected_feature_mask[:9]]\n",
    "feature_importances = rfecv.estimator_.feature_importances_[:9]\n",
    "\n",
    "feature_importance_plot = (\n",
    "    ggplot(\n",
    "        pl.from_dict({\n",
    "            \"Feature\": SELECTED_FEATURES,\n",
    "            \"RFECV Importance\": feature_importances,\n",
    "        }),\n",
    "        aes(x=\"Feature\", y=\"RFECV Importance\"),\n",
    "    )\n",
    "    + geom_col(stat=\"identity\", fill=\"lightblue\")\n",
    "    + theme(axis_text_x=element_text(rotation=50, hjust=1))\n",
    "    + labs(title=\"Feature Importance\", x=\"\", y=\"\")\n",
    ")\n",
    "\n",
    "feature_importance_plot.show()"
   ]
  },
  {
   "cell_type": "markdown",
   "metadata": {
    "id": "9YZceXvZQw2P"
   },
   "source": [
    "### Correlation Matrix\n",
    "\n",
    "Each chunk represents the pearson correlation coefficient between two features"
   ]
  },
  {
   "cell_type": "code",
   "execution_count": null,
   "metadata": {
    "colab": {
     "base_uri": "https://localhost:8080/",
     "height": 497
    },
    "id": "Dk_qYghGQw2Q",
    "outputId": "998767ed-78c5-4244-9f12-181e79540f73"
   },
   "outputs": [
    {
     "data": {
      "image/png": "[encoded data removed]"
     },
     "metadata": {
      "image/png": {
       "height": 480,
       "width": 640
      }
     },
     "output_type": "display_data"
    }
   ],
   "source": [
    "sample_corr_df = (two_seqs_df\n",
    "                     .select(*SELECTED_FEATURES, RESPONSE)\n",
    "                     .sample(100_000, seed=42)\n",
    "                     .corr())\n",
    "\n",
    "corr_matrix = (\n",
    "    ggplot(\n",
    "        sample_corr_df\n",
    "        .with_columns(pl.Series(\"variable_1\", sample_corr_df.columns))\n",
    "        .unpivot(\n",
    "            index=\"variable_1\",\n",
    "            variable_name=\"variable_2\",\n",
    "            on=sample_corr_df.columns,\n",
    "            value_name=\"correlation\",\n",
    "        )\n",
    "        .filter(pl.col(\"variable_1\") > pl.col(\"variable_2\")),\n",
    "        aes(x=\"variable_1\", y=\"variable_2\", fill=\"correlation\"),\n",
    "    )\n",
    "    + geom_tile(size=3)\n",
    "    + theme_classic()\n",
    "    + theme(axis_text_x=element_text(rotation=50, hjust=1))\n",
    "    + labs(\n",
    "        title=\"Correlation Matrix\",\n",
    "        x=\"\",\n",
    "        y=\"\",\n",
    "    )\n",
    ")\n",
    "\n",
    "corr_matrix.show()"
   ]
  },
  {
   "cell_type": "markdown",
   "metadata": {},
   "source": [
    "## Hyper Parameter Tuning w/ Optuna"
   ]
  },
  {
   "cell_type": "code",
   "execution_count": 28,
   "metadata": {},
   "outputs": [
    {
     "name": "stderr",
     "output_type": "stream",
     "text": [
      "[I 2024-11-13 16:56:39,797] A new study created in memory with name: no-name-0d58fedb-10cf-4b5f-ad2e-d111a1db4776\n",
      "[I 2024-11-13 16:56:41,875] Trial 0 finished with value: 0.32705185175760987 and parameters: {'learning_rate': 0.03184516878243091, 'min_child_samples': 30, 'n_estimators': 483, 'reg_lambda': 0.37470113740770455, 'reg_alpha': 0.003030509181861119}. Best is trial 0 with value: 0.32705185175760987.\n",
      "[I 2024-11-13 16:56:42,747] Trial 1 finished with value: 0.3264391610933231 and parameters: {'learning_rate': 0.02115261463747207, 'min_child_samples': 25, 'n_estimators': 170, 'reg_lambda': 0.20915253367580022, 'reg_alpha': 0.3270206197176203}. Best is trial 1 with value: 0.3264391610933231.\n",
      "[I 2024-11-13 16:56:43,418] Trial 2 finished with value: 0.3267162214938182 and parameters: {'learning_rate': 0.06596681586174018, 'min_child_samples': 13, 'n_estimators': 156, 'reg_lambda': 0.1360401387964607, 'reg_alpha': 0.3378355369175263}. Best is trial 1 with value: 0.3264391610933231.\n",
      "[I 2024-11-13 16:56:45,827] Trial 3 finished with value: 0.32842024865734276 and parameters: {'learning_rate': 0.0600627504581561, 'min_child_samples': 18, 'n_estimators': 584, 'reg_lambda': 0.37073511013169985, 'reg_alpha': 0.13647790037379584}. Best is trial 1 with value: 0.3264391610933231.\n",
      "[I 2024-11-13 16:56:48,177] Trial 4 finished with value: 0.32711239498701267 and parameters: {'learning_rate': 0.03141535842576513, 'min_child_samples': 14, 'n_estimators': 536, 'reg_lambda': 0.2246143450277793, 'reg_alpha': 0.14513967305346007}. Best is trial 1 with value: 0.3264391610933231.\n",
      "[I 2024-11-13 16:56:49,477] Trial 5 finished with value: 0.32645078113717957 and parameters: {'learning_rate': 0.013921137984823327, 'min_child_samples': 17, 'n_estimators': 276, 'reg_lambda': 0.382851383524204, 'reg_alpha': 0.23877274159736703}. Best is trial 1 with value: 0.3264391610933231.\n",
      "[I 2024-11-13 16:56:50,355] Trial 6 finished with value: 0.3267630761297861 and parameters: {'learning_rate': 0.04268548151642307, 'min_child_samples': 12, 'n_estimators': 207, 'reg_lambda': 0.02128539993986425, 'reg_alpha': 0.19041497738443203}. Best is trial 1 with value: 0.3264391610933231.\n",
      "[I 2024-11-13 16:56:52,148] Trial 7 finished with value: 0.328864831251433 and parameters: {'learning_rate': 0.08233399735961029, 'min_child_samples': 18, 'n_estimators': 433, 'reg_lambda': 0.2692019496043045, 'reg_alpha': 0.011868852096972794}. Best is trial 1 with value: 0.3264391610933231.\n",
      "[I 2024-11-13 16:56:53,476] Trial 8 finished with value: 0.326416111506359 and parameters: {'learning_rate': 0.012737739529739351, 'min_child_samples': 11, 'n_estimators': 243, 'reg_lambda': 0.03491246213209727, 'reg_alpha': 0.0073145404704977775}. Best is trial 8 with value: 0.326416111506359.\n",
      "[I 2024-11-13 16:56:54,633] Trial 9 finished with value: 0.327439865326818 and parameters: {'learning_rate': 0.06858913440461242, 'min_child_samples': 20, 'n_estimators': 274, 'reg_lambda': 0.1397531361733708, 'reg_alpha': 0.35036396646557455}. Best is trial 8 with value: 0.326416111506359.\n",
      "[I 2024-11-13 16:56:58,147] Trial 10 finished with value: 0.3318000309739117 and parameters: {'learning_rate': 0.0986295133334974, 'min_child_samples': 10, 'n_estimators': 875, 'reg_lambda': 0.008443259272415276, 'reg_alpha': 0.09732601169832428}. Best is trial 8 with value: 0.326416111506359.\n",
      "[I 2024-11-13 16:56:58,800] Trial 11 finished with value: 0.32639606204333704 and parameters: {'learning_rate': 0.010822768904464314, 'min_child_samples': 26, 'n_estimators': 134, 'reg_lambda': 0.11081352924511072, 'reg_alpha': 0.27257962706651934}. Best is trial 11 with value: 0.32639606204333704.\n",
      "[I 2024-11-13 16:56:59,319] Trial 12 finished with value: 0.32639655028118625 and parameters: {'learning_rate': 0.011538678375652568, 'min_child_samples': 25, 'n_estimators': 104, 'reg_lambda': 0.08493114785811494, 'reg_alpha': 0.2644666979157013}. Best is trial 11 with value: 0.32639606204333704.\n",
      "[I 2024-11-13 16:57:02,909] Trial 13 finished with value: 0.32839037618739275 and parameters: {'learning_rate': 0.04461240861544307, 'min_child_samples': 25, 'n_estimators': 724, 'reg_lambda': 0.1001718446204056, 'reg_alpha': 0.2697005814196533}. Best is trial 11 with value: 0.32639606204333704.\n",
      "[I 2024-11-13 16:57:04,434] Trial 14 finished with value: 0.3265482007103145 and parameters: {'learning_rate': 0.02604264722604982, 'min_child_samples': 25, 'n_estimators': 351, 'reg_lambda': 0.08443190971879043, 'reg_alpha': 0.2723493147117671}. Best is trial 11 with value: 0.32639606204333704.\n",
      "[I 2024-11-13 16:57:05,049] Trial 15 finished with value: 0.3264362108830862 and parameters: {'learning_rate': 0.010640265800386106, 'min_child_samples': 29, 'n_estimators': 112, 'reg_lambda': 0.15153387578333366, 'reg_alpha': 0.39052661509731196}. Best is trial 11 with value: 0.32639606204333704.\n",
      "[I 2024-11-13 16:57:06,560] Trial 16 finished with value: 0.3269492974879685 and parameters: {'learning_rate': 0.04358357820214766, 'min_child_samples': 23, 'n_estimators': 362, 'reg_lambda': 0.0704866393667538, 'reg_alpha': 0.22551703597316056}. Best is trial 11 with value: 0.32639606204333704.\n",
      "[I 2024-11-13 16:57:10,464] Trial 17 finished with value: 0.32739095438826626 and parameters: {'learning_rate': 0.0221470111179304, 'min_child_samples': 27, 'n_estimators': 941, 'reg_lambda': 0.2759646211076715, 'reg_alpha': 0.29343307008311664}. Best is trial 11 with value: 0.32639606204333704.\n",
      "[I 2024-11-13 16:57:10,940] Trial 18 finished with value: 0.32645293096769434 and parameters: {'learning_rate': 0.03841689481091709, 'min_child_samples': 22, 'n_estimators': 102, 'reg_lambda': 0.17746596086462696, 'reg_alpha': 0.18104205745836158}. Best is trial 11 with value: 0.32639606204333704.\n",
      "[I 2024-11-13 16:57:13,597] Trial 19 finished with value: 0.32966228395498226 and parameters: {'learning_rate': 0.07800305970128735, 'min_child_samples': 28, 'n_estimators': 655, 'reg_lambda': 0.09780403128638211, 'reg_alpha': 0.3864864863295586}. Best is trial 11 with value: 0.32639606204333704.\n",
      "[I 2024-11-13 16:57:15,252] Trial 20 finished with value: 0.3273511584696398 and parameters: {'learning_rate': 0.05242387436927025, 'min_child_samples': 22, 'n_estimators': 395, 'reg_lambda': 0.25953150227387106, 'reg_alpha': 0.30571462586325426}. Best is trial 11 with value: 0.32639606204333704.\n",
      "[I 2024-11-13 16:57:16,341] Trial 21 finished with value: 0.3264073372738955 and parameters: {'learning_rate': 0.01075249141039937, 'min_child_samples': 27, 'n_estimators': 238, 'reg_lambda': 0.04219622349500971, 'reg_alpha': 0.061268284112347166}. Best is trial 11 with value: 0.32639606204333704.\n",
      "[I 2024-11-13 16:57:17,716] Trial 22 finished with value: 0.3264877524488515 and parameters: {'learning_rate': 0.018739285863915114, 'min_child_samples': 27, 'n_estimators': 318, 'reg_lambda': 0.05569912956805058, 'reg_alpha': 0.0736007189116436}. Best is trial 11 with value: 0.32639606204333704.\n",
      "[I 2024-11-13 16:57:18,632] Trial 23 finished with value: 0.3264401003840302 and parameters: {'learning_rate': 0.026395909838049604, 'min_child_samples': 24, 'n_estimators': 207, 'reg_lambda': 0.12124341066282225, 'reg_alpha': 0.23284990457623234}. Best is trial 11 with value: 0.32639606204333704.\n",
      "[I 2024-11-13 16:57:19,217] Trial 24 finished with value: 0.3264105604950392 and parameters: {'learning_rate': 0.016147653773924058, 'min_child_samples': 27, 'n_estimators': 123, 'reg_lambda': 0.04434264825939484, 'reg_alpha': 0.060234813858755794}. Best is trial 11 with value: 0.32639606204333704.\n",
      "[I 2024-11-13 16:57:20,140] Trial 25 finished with value: 0.3265850238502412 and parameters: {'learning_rate': 0.03372946555165339, 'min_child_samples': 30, 'n_estimators': 215, 'reg_lambda': 0.005934313488826254, 'reg_alpha': 0.25315302179950383}. Best is trial 11 with value: 0.32639606204333704.\n",
      "[I 2024-11-13 16:57:21,577] Trial 26 finished with value: 0.32642512263014706 and parameters: {'learning_rate': 0.010747907405962603, 'min_child_samples': 26, 'n_estimators': 315, 'reg_lambda': 0.17855351521369517, 'reg_alpha': 0.16687626281918314}. Best is trial 11 with value: 0.32639606204333704.\n",
      "[I 2024-11-13 16:57:22,346] Trial 27 finished with value: 0.3264191473050203 and parameters: {'learning_rate': 0.025101079870258287, 'min_child_samples': 21, 'n_estimators': 170, 'reg_lambda': 0.06899202637643491, 'reg_alpha': 0.21284896256127137}. Best is trial 11 with value: 0.32639606204333704.\n",
      "[I 2024-11-13 16:57:24,324] Trial 28 finished with value: 0.3266532420627194 and parameters: {'learning_rate': 0.018591930791041107, 'min_child_samples': 28, 'n_estimators': 447, 'reg_lambda': 0.11957158602851564, 'reg_alpha': 0.116468626636103}. Best is trial 11 with value: 0.32639606204333704.\n",
      "[I 2024-11-13 16:57:27,703] Trial 29 finished with value: 0.3279437044493539 and parameters: {'learning_rate': 0.03194816077795565, 'min_child_samples': 30, 'n_estimators': 800, 'reg_lambda': 0.17225524260242178, 'reg_alpha': 0.27893272135643177}. Best is trial 11 with value: 0.32639606204333704.\n",
      "[I 2024-11-13 16:57:29,851] Trial 30 finished with value: 0.32783824413535934 and parameters: {'learning_rate': 0.05194342752635893, 'min_child_samples': 23, 'n_estimators': 499, 'reg_lambda': 0.32988406554935057, 'reg_alpha': 0.31265282897098345}. Best is trial 11 with value: 0.32639606204333704.\n",
      "[I 2024-11-13 16:57:30,334] Trial 31 finished with value: 0.326405468916428 and parameters: {'learning_rate': 0.018232443066683764, 'min_child_samples': 27, 'n_estimators': 100, 'reg_lambda': 0.04736259382998219, 'reg_alpha': 0.04830062905020444}. Best is trial 11 with value: 0.32639606204333704.\n",
      "[I 2024-11-13 16:57:31,083] Trial 32 finished with value: 0.326397264108135 and parameters: {'learning_rate': 0.010341080962833697, 'min_child_samples': 26, 'n_estimators': 160, 'reg_lambda': 0.045782409431973176, 'reg_alpha': 0.035632697108961026}. Best is trial 11 with value: 0.32639606204333704.\n",
      "[I 2024-11-13 16:57:31,839] Trial 33 finished with value: 0.32641684941633586 and parameters: {'learning_rate': 0.01988251863240173, 'min_child_samples': 24, 'n_estimators': 167, 'reg_lambda': 0.09460651029879802, 'reg_alpha': 0.03323113180907547}. Best is trial 11 with value: 0.32639606204333704.\n",
      "[I 2024-11-13 16:57:32,468] Trial 34 finished with value: 0.32641824899596605 and parameters: {'learning_rate': 0.016402561587707955, 'min_child_samples': 26, 'n_estimators': 126, 'reg_lambda': 0.06906854710211019, 'reg_alpha': 0.04241965302588321}. Best is trial 11 with value: 0.32639606204333704.\n",
      "[I 2024-11-13 16:57:33,243] Trial 35 finished with value: 0.3264250079283526 and parameters: {'learning_rate': 0.026870195102576988, 'min_child_samples': 29, 'n_estimators': 166, 'reg_lambda': 0.1197598331631205, 'reg_alpha': 0.33957694807692534}. Best is trial 11 with value: 0.32639606204333704.\n",
      "[I 2024-11-13 16:57:34,439] Trial 36 finished with value: 0.32642474125618043 and parameters: {'learning_rate': 0.021706488588363368, 'min_child_samples': 24, 'n_estimators': 272, 'reg_lambda': 0.024712920331787958, 'reg_alpha': 0.08971011951493867}. Best is trial 11 with value: 0.32639606204333704.\n",
      "[I 2024-11-13 16:57:34,934] Trial 37 finished with value: 0.3264669236170476 and parameters: {'learning_rate': 0.03659724216084942, 'min_child_samples': 26, 'n_estimators': 101, 'reg_lambda': 0.21385190214972927, 'reg_alpha': 0.14775818417113393}. Best is trial 11 with value: 0.32639606204333704.\n",
      "[I 2024-11-13 16:57:35,820] Trial 38 finished with value: 0.3263851171730561 and parameters: {'learning_rate': 0.01494609585580625, 'min_child_samples': 16, 'n_estimators': 191, 'reg_lambda': 0.05735617260423866, 'reg_alpha': 0.1185862314695467}. Best is trial 38 with value: 0.3263851171730561.\n",
      "[I 2024-11-13 16:57:38,273] Trial 39 finished with value: 0.32714103583600285 and parameters: {'learning_rate': 0.02950414304937144, 'min_child_samples': 15, 'n_estimators': 598, 'reg_lambda': 0.07902723040397962, 'reg_alpha': 0.2525376559769249}. Best is trial 38 with value: 0.3263851171730561.\n",
      "[I 2024-11-13 16:57:39,187] Trial 40 finished with value: 0.3263920262234157 and parameters: {'learning_rate': 0.014688599941167696, 'min_child_samples': 16, 'n_estimators': 200, 'reg_lambda': 0.15970682790896115, 'reg_alpha': 0.2068653317186984}. Best is trial 38 with value: 0.3263851171730561.\n",
      "[I 2024-11-13 16:57:40,058] Trial 41 finished with value: 0.32638745027106025 and parameters: {'learning_rate': 0.013574909267175032, 'min_child_samples': 17, 'n_estimators': 190, 'reg_lambda': 0.15252247924677362, 'reg_alpha': 0.2110231322239583}. Best is trial 38 with value: 0.3263851171730561.\n",
      "[I 2024-11-13 16:57:41,027] Trial 42 finished with value: 0.3263778421955694 and parameters: {'learning_rate': 0.014707171078534288, 'min_child_samples': 16, 'n_estimators': 217, 'reg_lambda': 0.15963872876177304, 'reg_alpha': 0.2073502155313332}. Best is trial 42 with value: 0.3263778421955694.\n",
      "[I 2024-11-13 16:57:41,933] Trial 43 finished with value: 0.32641951178837 and parameters: {'learning_rate': 0.022943029049186953, 'min_child_samples': 16, 'n_estimators': 205, 'reg_lambda': 0.15547036250294954, 'reg_alpha': 0.20005125400562554}. Best is trial 42 with value: 0.3263778421955694.\n",
      "[I 2024-11-13 16:57:43,218] Trial 44 finished with value: 0.3264609687677065 and parameters: {'learning_rate': 0.014656427055644398, 'min_child_samples': 18, 'n_estimators': 289, 'reg_lambda': 0.18922088992080682, 'reg_alpha': 0.16035867761152145}. Best is trial 42 with value: 0.3263778421955694.\n",
      "[I 2024-11-13 16:57:44,338] Trial 45 finished with value: 0.32647984788063006 and parameters: {'learning_rate': 0.014403634158123025, 'min_child_samples': 13, 'n_estimators': 240, 'reg_lambda': 0.23150086391564217, 'reg_alpha': 0.20679000340737605}. Best is trial 42 with value: 0.3263778421955694.\n",
      "[I 2024-11-13 16:57:45,153] Trial 46 finished with value: 0.3269644341782905 and parameters: {'learning_rate': 0.0625622549312432, 'min_child_samples': 17, 'n_estimators': 192, 'reg_lambda': 0.13792075643167712, 'reg_alpha': 0.18723171968447733}. Best is trial 42 with value: 0.3263778421955694.\n",
      "[I 2024-11-13 16:57:46,587] Trial 47 finished with value: 0.32845007318000075 and parameters: {'learning_rate': 0.09395587018456467, 'min_child_samples': 19, 'n_estimators': 355, 'reg_lambda': 0.15805442940039324, 'reg_alpha': 0.22697906964067788}. Best is trial 42 with value: 0.3263778421955694.\n",
      "[I 2024-11-13 16:57:47,690] Trial 48 finished with value: 0.3265039334075858 and parameters: {'learning_rate': 0.028188063721393077, 'min_child_samples': 15, 'n_estimators': 256, 'reg_lambda': 0.23571207734128774, 'reg_alpha': 0.12239660646787406}. Best is trial 42 with value: 0.3263778421955694.\n",
      "[I 2024-11-13 16:57:49,024] Trial 49 finished with value: 0.3265597262870811 and parameters: {'learning_rate': 0.022730342611735573, 'min_child_samples': 14, 'n_estimators': 318, 'reg_lambda': 0.10968353755206779, 'reg_alpha': 0.171379350305498}. Best is trial 42 with value: 0.3263778421955694.\n"
     ]
    },
    {
     "name": "stdout",
     "output_type": "stream",
     "text": [
      "Best Parameters: {'learning_rate': 0.014707171078534288, 'min_child_samples': 16, 'n_estimators': 217, 'reg_lambda': 0.15963872876177304, 'reg_alpha': 0.2073502155313332}\n",
      "best RMSE: 0.3263778421955694\n"
     ]
    }
   ],
   "source": [
    "# need to train test split the sample dataset\n",
    "X_train_sample, X_test_sample, y_train_sample, y_test_sample = train_test_split(\n",
    "    sample.select(*SELECTED_FEATURES), sample.select(RESPONSE),\n",
    "    test_size=0.2,\n",
    "    random_state=42,\n",
    ")\n",
    "\n",
    "X_train_sample = X_train_sample.to_numpy()\n",
    "y_train_sample = y_train_sample.to_numpy().flatten()\n",
    "X_test_sample = X_test_sample.to_numpy()\n",
    "y_test_sample = y_test_sample.to_numpy().flatten()\n",
    "\n",
    "def hyperparam_tuning_objective(trial):\n",
    "    estimator = LGBMRegressor(\n",
    "        learning_rate=trial.suggest_float(\"learning_rate\", 0.01, 0.1),\n",
    "        min_child_samples=trial.suggest_int(\"min_child_samples\", 10, 30),\n",
    "        n_estimators=trial.suggest_int(\"n_estimators\", 100, 1000),\n",
    "        reg_lambda=trial.suggest_float(\"reg_lambda\", 0, 0.4),\n",
    "        reg_alpha=trial.suggest_float(\"reg_alpha\", 0, 0.4),\n",
    "        max_depth=-1,\n",
    "        random_state=42,\n",
    "        n_jobs=-1,\n",
    "        verbose=-1,\n",
    "    )\n",
    "\n",
    "    pipeline = Pipeline([\n",
    "        (\"preprocessor\", RobustScaler(copy=False)),\n",
    "        (\"model\", estimator),\n",
    "    ]) \n",
    "\n",
    "    pipeline.fit(X_train_sample, y_train_sample)\n",
    "    e = y_test_sample - pipeline.predict(X_test_sample)\n",
    "    return np.sqrt(np.mean(e**2))\n",
    "\n",
    "study = optuna.create_study(direction=\"minimize\")\n",
    "study.optimize(hyperparam_tuning_objective, n_trials=50)\n",
    "\n",
    "print(f\"Best Parameters: {study.best_params}\")\n",
    "print(f\"best RMSE: {study.best_value}\")"
   ]
  },
  {
   "cell_type": "markdown",
   "metadata": {},
   "source": [
    "# Training Final Model"
   ]
  },
  {
   "cell_type": "code",
   "execution_count": 29,
   "metadata": {},
   "outputs": [
    {
     "data": {
      "text/plain": [
       "['../models/Sequence+1.0.joblib']"
      ]
     },
     "execution_count": 29,
     "metadata": {},
     "output_type": "execute_result"
    }
   ],
   "source": [
    "final_pipeline = Pipeline([\n",
    "    (\"scaler\", RobustScaler(copy=False)),\n",
    "    (\"model\", LGBMRegressor(\n",
    "        random_state=42,\n",
    "        n_jobs=-1,\n",
    "        max_depth=-1,\n",
    "        **study.best_params,\n",
    "    ))\n",
    "])\n",
    "\n",
    "X_train, X_test, y_train, y_test = train_test_split(\n",
    "    X.select(*SELECTED_FEATURES), y.select(RESPONSE),\n",
    "    test_size=0.3,\n",
    "    random_state=42,\n",
    ")\n",
    "\n",
    "X_train = X_train.to_numpy()\n",
    "X_test = X_test.to_numpy()\n",
    "y_train = y_train.to_numpy().flatten()\n",
    "y_test = y_test.to_numpy().flatten()\n",
    "\n",
    "final_pipeline.fit(X_train, y_train)\n",
    "\n",
    "joblib.dump(\n",
    "    final_pipeline, \n",
    "    os.path.join(\"..\", \"models\", \"Sequence+1.0.joblib\"),\n",
    ")"
   ]
  },
  {
   "cell_type": "markdown",
   "metadata": {},
   "source": [
    "## Standardize\n",
    "\n",
    "Center Sequence+ around 100"
   ]
  },
  {
   "cell_type": "code",
   "execution_count": null,
   "metadata": {},
   "outputs": [],
   "source": [
    "\n"
   ]
  },
  {
   "cell_type": "markdown",
   "metadata": {},
   "source": [
    "# Evaluating Sequence+\n",
    "\n",
    "analyze correlations between Sequence+ and other descriptive/predictive MLB metrics like FIP, "
   ]
  },
  {
   "cell_type": "code",
   "execution_count": null,
   "metadata": {},
   "outputs": [],
   "source": [
    "\n"
   ]
  }
 ],
 "metadata": {
  "colab": {
   "provenance": []
  },
  "kernelspec": {
   "display_name": "venv",
   "language": "python",
   "name": "python3"
  },
  "language_info": {
   "codemirror_mode": {
    "name": "ipython",
    "version": 3
   },
   "file_extension": ".py",
   "mimetype": "text/x-python",
   "name": "python",
   "nbconvert_exporter": "python",
   "pygments_lexer": "ipython3",
   "version": "3.9.20"
  }
 },
 "nbformat": 4,
 "nbformat_minor": 0
}
