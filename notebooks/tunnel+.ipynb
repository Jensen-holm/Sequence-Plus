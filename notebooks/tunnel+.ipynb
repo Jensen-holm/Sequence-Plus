{
 "cells": [
  {
   "cell_type": "markdown",
   "metadata": {},
   "source": [
    "# Tunnel+\n",
    "\n",
    "***Goal***: To make an improved version of [Location+](https://library.fangraphs.com/pitching/stuff-location-and-pitching-primer/) that incorporates pitch tunneling. <br>\n",
    "**Author**: Jensen Holm <br>\n",
    "**Date**: 2024"
   ]
  },
  {
   "cell_type": "code",
   "execution_count": 1,
   "metadata": {},
   "outputs": [],
   "source": [
    "import statcast_pitches\n",
    "import polars as pl\n",
    "from plotnine import *\n",
    "import plotly.express as px\n",
    "import os\n",
    "\n",
    "LOCAL_DATA_DIR = os.path.join(\"..\", \"data\")"
   ]
  },
  {
   "cell_type": "markdown",
   "metadata": {},
   "source": [
    "## Loading Data\n",
    "\n",
    "Using all pitches thrown in the statcast-era (2015-present) as our data for this model. <br>\n",
    "I will also be using `../data/run_values.csv` for calculating run values of each pitch, this data represents 2024 only.\n",
    "\n",
    "**Data Dictionary**: [link](https://baseballsavant.mlb.com/csv-docs) <br>\n",
    "**statcast_pitches package info**: [link](https://github.com/Jensen-holm/statcast-era-pitches) "
   ]
  },
  {
   "cell_type": "code",
   "execution_count": 2,
   "metadata": {},
   "outputs": [
    {
     "name": "stdout",
     "output_type": "stream",
     "text": [
      "N Pitches: 7011927\n",
      "Date Range: 2015-04-05 - 2024-10-30\n"
     ]
    }
   ],
   "source": [
    "pitches_lf: pl.LazyFrame = statcast_pitches.load() # default is all pitches\n",
    "\n",
    "latest_date = pitches_lf.select(\"game_date\").max().collect().item().date()\n",
    "earliest_date = pitches_lf.select(\"game_date\").min().collect().item().date()\n",
    "n_pitches = pitches_lf.select(pl.len()).collect().item()\n",
    "\n",
    "print(f\"N Pitches: {n_pitches}\")\n",
    "print(f\"Date Range: {earliest_date} - {latest_date}\")"
   ]
  },
  {
   "cell_type": "code",
   "execution_count": 3,
   "metadata": {},
   "outputs": [],
   "source": [
    "run_values_24 = pl.scan_csv(\n",
    "    os.path.join(LOCAL_DATA_DIR, \"run_values.csv\"),\n",
    ").rename({\"event\": \"events\"}) # it is called 'events' in pitches_df"
   ]
  },
  {
   "cell_type": "markdown",
   "metadata": {},
   "source": [
    "## Feature Engineering\n",
    "\n",
    "adding the following features to `pitches_df`\n",
    "\n",
    "| Feature Name | Description |\n",
    "|------|-------------|\n",
    "| **delta_run_exp** | run value associated with the pitch outcome from `run_values_24`| \n",
    "| **x_0.120** | position in the x dimension of the pitch at decision time (~0.12s) |\n",
    "| **y_0.120** | position in the y dimension of the pitch at decision time (~0.12s) |\n",
    "| **z_0.120** | position in the z dimension of the pitch at decision time (~0.12s) |\n",
    "| **x_0.167** | position in the x dimension of the pitch at commit time (~0.167s) |\n",
    "| **y_0.167** | position in the y dimension of the pitch at commit time (~0.167s) |\n",
    "| **z_0.167** | position in the z dimension of the pitch at commit time (~0.167s) |\n",
    "| **velocity_diff** | difference in velocity between pitches in a two pitch sequence |\n",
    "| **effective_velocity_diff** | difference in effective velocity between pitches in a two pitch sequence |\n",
    "| **pfx_x_diff** | difference in horizontal movement between pitches in a two pitch sequence |\n",
    "| **pfx_z_diff** | difference in vertical movement between pitches in a two pitch sequence |\n",
    "| **3d_dist_0.167** | 3D euclidean distance between pitches in a two pitch sequence 0.167 seconds after release |\n",
    "| **3d_dist_0.120** | 3D distance between pitches in a two pitch sequence at 0.120 seconds after release |\n",
    "| **distance** | 2D euclidean distance between pitch locations when crossing the plate in a two pitch sequence |\n",
    "| **seq_delta_run_exp** | sum of `delta_run_exp` in a two pitch sequence |\n",
    "| **plate_x_diff** | difference in plate_x between pitches in a two pitch sequence |\n",
    "| **plate_z_diff** | difference in plate_z between pitches in a two pitch sequence |\n",
    "\n",
    "On top of adding these features, attributes from LHP should be mirrored as if they were thrown by a RHP for consistency"
   ]
  },
  {
   "cell_type": "markdown",
   "metadata": {},
   "source": [
    "Adding `delta_run_exp` first"
   ]
  },
  {
   "cell_type": "code",
   "execution_count": 4,
   "metadata": {},
   "outputs": [
    {
     "data": {
      "text/html": [
       "<div><style>\n",
       ".dataframe > thead > tr,\n",
       ".dataframe > tbody > tr {\n",
       "  text-align: right;\n",
       "  white-space: pre-wrap;\n",
       "}\n",
       "</style>\n",
       "<small>shape: (9, 6)</small><table border=\"1\" class=\"dataframe\"><thead><tr><th>statistic</th><th>pitch_type</th><th>description</th><th>balls</th><th>strikes</th><th>delta_run_exp</th></tr><tr><td>str</td><td>str</td><td>str</td><td>f64</td><td>f64</td><td>f64</td></tr></thead><tbody><tr><td>&quot;count&quot;</td><td>&quot;6914851&quot;</td><td>&quot;7011927&quot;</td><td>7.011927e6</td><td>7.011927e6</td><td>6.814457e6</td></tr><tr><td>&quot;null_count&quot;</td><td>&quot;97076&quot;</td><td>&quot;0&quot;</td><td>0.0</td><td>0.0</td><td>197470.0</td></tr><tr><td>&quot;mean&quot;</td><td>null</td><td>null</td><td>0.875591</td><td>0.888314</td><td>0.000005</td></tr><tr><td>&quot;std&quot;</td><td>null</td><td>null</td><td>0.966838</td><td>0.827263</td><td>0.242352</td></tr><tr><td>&quot;min&quot;</td><td>&quot;AB&quot;</td><td>&quot;ball&quot;</td><td>0.0</td><td>0.0</td><td>-1.661</td></tr><tr><td>&quot;25%&quot;</td><td>null</td><td>null</td><td>0.0</td><td>0.0</td><td>-0.066</td></tr><tr><td>&quot;50%&quot;</td><td>null</td><td>null</td><td>1.0</td><td>1.0</td><td>-0.017</td></tr><tr><td>&quot;75%&quot;</td><td>null</td><td>null</td><td>1.0</td><td>2.0</td><td>0.036</td></tr><tr><td>&quot;max&quot;</td><td>&quot;SV&quot;</td><td>&quot;swinging_strike_blocked&quot;</td><td>4.0</td><td>3.0</td><td>3.702</td></tr></tbody></table></div>"
      ],
      "text/plain": [
       "shape: (9, 6)\n",
       "┌────────────┬────────────┬─────────────────────────┬────────────┬────────────┬───────────────┐\n",
       "│ statistic  ┆ pitch_type ┆ description             ┆ balls      ┆ strikes    ┆ delta_run_exp │\n",
       "│ ---        ┆ ---        ┆ ---                     ┆ ---        ┆ ---        ┆ ---           │\n",
       "│ str        ┆ str        ┆ str                     ┆ f64        ┆ f64        ┆ f64           │\n",
       "╞════════════╪════════════╪═════════════════════════╪════════════╪════════════╪═══════════════╡\n",
       "│ count      ┆ 6914851    ┆ 7011927                 ┆ 7.011927e6 ┆ 7.011927e6 ┆ 6.814457e6    │\n",
       "│ null_count ┆ 97076      ┆ 0                       ┆ 0.0        ┆ 0.0        ┆ 197470.0      │\n",
       "│ mean       ┆ null       ┆ null                    ┆ 0.875591   ┆ 0.888314   ┆ 0.000005      │\n",
       "│ std        ┆ null       ┆ null                    ┆ 0.966838   ┆ 0.827263   ┆ 0.242352      │\n",
       "│ min        ┆ AB         ┆ ball                    ┆ 0.0        ┆ 0.0        ┆ -1.661        │\n",
       "│ 25%        ┆ null       ┆ null                    ┆ 0.0        ┆ 0.0        ┆ -0.066        │\n",
       "│ 50%        ┆ null       ┆ null                    ┆ 1.0        ┆ 1.0        ┆ -0.017        │\n",
       "│ 75%        ┆ null       ┆ null                    ┆ 1.0        ┆ 2.0        ┆ 0.036         │\n",
       "│ max        ┆ SV         ┆ swinging_strike_blocked ┆ 4.0        ┆ 3.0        ┆ 3.702         │\n",
       "└────────────┴────────────┴─────────────────────────┴────────────┴────────────┴───────────────┘"
      ]
     },
     "execution_count": 4,
     "metadata": {},
     "output_type": "execute_result"
    }
   ],
   "source": [
    "from utils import description_replace_mapping\n",
    "\n",
    "\n",
    "def add_pitch_run_value(lf: pl.LazyFrame) -> pl.LazyFrame:\n",
    "    \"\"\"Takes in a dataframe of pitches, and adds 2024 run value to each one\"\"\"\n",
    "    pitch_runs_lf = lf.join(\n",
    "        other=run_values_24,\n",
    "        on=[\"events\", \"balls\", \"strikes\"],\n",
    "        how=\"left\",\n",
    "    )\n",
    "\n",
    "    mapped_des_pitches = pitch_runs_lf.with_columns([\n",
    "        pl.col(\"description\")\n",
    "        .replace_strict(description_replace_mapping, default=None)\n",
    "        .alias(\"play_des\"),\n",
    "    ])\n",
    "\n",
    "    pitches_run_value_lf = mapped_des_pitches.join(\n",
    "        other=run_values_24,\n",
    "        right_on=[\"events\", \"balls\", \"strikes\"],\n",
    "        left_on=[\"play_des\", \"balls\", \"strikes\"],\n",
    "        how=\"left\",\n",
    "        suffix=\"_des\",\n",
    "    ).with_columns([\n",
    "        pl.when(pl.col(\"delta_run_exp\").is_null())\n",
    "        .then(pl.col(\"delta_run_exp_des\"))\n",
    "        .otherwise(pl.col(\"delta_run_exp\"))\n",
    "        .alias(\"delta_run_exp\"),\n",
    "    ])\n",
    "    return pitches_run_value_lf\n",
    "\n",
    "pitches_run_value_lf = pitches_lf.pipe(add_pitch_run_value)\n",
    "pitches_run_value_lf.select(\n",
    "    \"pitch_type\",\n",
    "    \"description\",\n",
    "    \"balls\",\n",
    "    \"strikes\",\n",
    "    \"delta_run_exp\",\n",
    ").describe()"
   ]
  },
  {
   "cell_type": "markdown",
   "metadata": {},
   "source": [
    "Mirroring LHP metrics as if they were thrown by RHP"
   ]
  },
  {
   "cell_type": "code",
   "execution_count": 5,
   "metadata": {},
   "outputs": [
    {
     "data": {
      "image/png": "[encoded data removed]"
     },
     "metadata": {
      "image/png": {
       "height": 480,
       "width": 640
      }
     },
     "output_type": "display_data"
    }
   ],
   "source": [
    "def mirror_lhp_to_rhp(lf: pl.LazyFrame) -> pl.LazyFrame:\n",
    "    return lf.with_columns(\n",
    "        # mirror LHP horizontal movement\n",
    "        pl.when(pl.col(\"p_throws\") == \"L\")\n",
    "        .then(-pl.col(\"pfx_x\"))\n",
    "        .otherwise(pl.col(\"pfx_x\")),\n",
    "    )\n",
    "\n",
    "mirrored_pitches_lf = pitches_run_value_lf.pipe(mirror_lhp_to_rhp)\n",
    "\n",
    "# for verification\n",
    "movement_plt = (\n",
    "    ggplot(\n",
    "        mirrored_pitches_lf\n",
    "        .filter(pl.col(\"pitch_type\").is_in([\"FF\", \"KC\", \"SL\", \"CH\"]))\n",
    "        .group_by(\"pitch_type\", \"p_throws\")\n",
    "        .agg(\n",
    "            pl.col(\"pfx_x\").median().alias(\"median_pfx_x\"),\n",
    "            pl.col(\"pfx_z\").median().alias(\"median_pfx_z\"),\n",
    "        ).collect(),\n",
    "        aes(x=\"median_pfx_x\", y=\"median_pfx_z\", color=\"pitch_type\", shape=\"p_throws\"))\n",
    "    + geom_point()\n",
    "    + geom_vline(xintercept=0)\n",
    "    + geom_hline(yintercept=0)\n",
    "    + labs(\n",
    "        title=\"Mirrored LHP Movement Verification\",\n",
    "        x=\"median Horizontal Movement (ft.)\",\n",
    "        y=\"median Vertical Movement (ft.)\",\n",
    "        shape=\"Pitcher Hand\",\n",
    "        subtitle=\"Colors represent pitch_type\",\n",
    "    )\n",
    ")\n",
    "\n",
    "movement_plt.show()"
   ]
  },
  {
   "cell_type": "markdown",
   "metadata": {},
   "source": [
    "Horizontal movement profiles are mirrored now!"
   ]
  },
  {
   "cell_type": "markdown",
   "metadata": {},
   "source": [
    "## 3D Pitch Displacement\n",
    "\n",
    "Now to add ball positions in 3D space at both [decision time]() (0.12s) & [commit time]() (0.167s)\n",
    "\n",
    "Plugging in our pitch data into the kinematic equation for displacement below, I can solve for where the ball \n",
    "\n",
    "$d = v_{i} * t + \\frac{1}{2} * a * t^{2}$\n",
    "\n",
    "**where**:\n",
    "- $t$ = time (seconds)\n",
    "- $v_{i}$ = velocity at time $t$\n",
    "- $a_{i}$ = acceleration at time $t$\n",
    "\n",
    "**Steps**:\n",
    "\n",
    "For a given time $t$ ...\n",
    "\n",
    "1. Estimate how many feet the ball will travel in $t$ seconds (assuming acceleration = az)\n",
    "2. Estimate the x and y positions of the ball at $t$ seconds (assuming acceleration = ax & ay) "
   ]
  },
  {
   "cell_type": "code",
   "execution_count": 6,
   "metadata": {},
   "outputs": [
    {
     "data": {
      "text/html": [
       "<div><style>\n",
       ".dataframe > thead > tr,\n",
       ".dataframe > tbody > tr {\n",
       "  text-align: right;\n",
       "  white-space: pre-wrap;\n",
       "}\n",
       "</style>\n",
       "<small>shape: (9, 7)</small><table border=\"1\" class=\"dataframe\"><thead><tr><th>statistic</th><th>x_0.120</th><th>y_0.120</th><th>z_0.120</th><th>x_0.167</th><th>y_0.167</th><th>z_0.167</th></tr><tr><td>str</td><td>f64</td><td>f64</td><td>f64</td><td>f64</td><td>f64</td><td>f64</td></tr></thead><tbody><tr><td>&quot;count&quot;</td><td>6.914963e6</td><td>6.914963e6</td><td>6.914963e6</td><td>6.914963e6</td><td>6.914963e6</td><td>6.914963e6</td></tr><tr><td>&quot;null_count&quot;</td><td>96964.0</td><td>96964.0</td><td>96964.0</td><td>96964.0</td><td>96964.0</td><td>96964.0</td></tr><tr><td>&quot;mean&quot;</td><td>-0.52857</td><td>38.996143</td><td>5.228118</td><td>-0.434157</td><td>33.098018</td><td>4.883754</td></tr><tr><td>&quot;std&quot;</td><td>1.312962</td><td>1.203188</td><td>0.480382</td><td>1.126683</td><td>1.571288</td><td>0.518229</td></tr><tr><td>&quot;min&quot;</td><td>-9.999482</td><td>11.766347</td><td>-3.731836</td><td>-15.726781</td><td>5.178942</td><td>-7.876103</td></tr><tr><td>&quot;25%&quot;</td><td>-1.463503</td><td>38.117289</td><td>4.930833</td><td>-1.237707</td><td>31.916235</td><td>4.547567</td></tr><tr><td>&quot;50%&quot;</td><td>-0.9427</td><td>38.82612</td><td>5.223915</td><td>-0.732749</td><td>32.848423</td><td>4.866291</td></tr><tr><td>&quot;75%&quot;</td><td>0.530302</td><td>39.784215</td><td>5.525332</td><td>0.371859</td><td>34.142618</td><td>5.201602</td></tr><tr><td>&quot;max&quot;</td><td>14.906553</td><td>52.044098</td><td>10.634679</td><td>13.706871</td><td>50.137116</td><td>10.791045</td></tr></tbody></table></div>"
      ],
      "text/plain": [
       "shape: (9, 7)\n",
       "┌────────────┬────────────┬────────────┬────────────┬────────────┬────────────┬────────────┐\n",
       "│ statistic  ┆ x_0.120    ┆ y_0.120    ┆ z_0.120    ┆ x_0.167    ┆ y_0.167    ┆ z_0.167    │\n",
       "│ ---        ┆ ---        ┆ ---        ┆ ---        ┆ ---        ┆ ---        ┆ ---        │\n",
       "│ str        ┆ f64        ┆ f64        ┆ f64        ┆ f64        ┆ f64        ┆ f64        │\n",
       "╞════════════╪════════════╪════════════╪════════════╪════════════╪════════════╪════════════╡\n",
       "│ count      ┆ 6.914963e6 ┆ 6.914963e6 ┆ 6.914963e6 ┆ 6.914963e6 ┆ 6.914963e6 ┆ 6.914963e6 │\n",
       "│ null_count ┆ 96964.0    ┆ 96964.0    ┆ 96964.0    ┆ 96964.0    ┆ 96964.0    ┆ 96964.0    │\n",
       "│ mean       ┆ -0.52857   ┆ 38.996143  ┆ 5.228118   ┆ -0.434157  ┆ 33.098018  ┆ 4.883754   │\n",
       "│ std        ┆ 1.312962   ┆ 1.203188   ┆ 0.480382   ┆ 1.126683   ┆ 1.571288   ┆ 0.518229   │\n",
       "│ min        ┆ -9.999482  ┆ 11.766347  ┆ -3.731836  ┆ -15.726781 ┆ 5.178942   ┆ -7.876103  │\n",
       "│ 25%        ┆ -1.463503  ┆ 38.117289  ┆ 4.930833   ┆ -1.237707  ┆ 31.916235  ┆ 4.547567   │\n",
       "│ 50%        ┆ -0.9427    ┆ 38.82612   ┆ 5.223915   ┆ -0.732749  ┆ 32.848423  ┆ 4.866291   │\n",
       "│ 75%        ┆ 0.530302   ┆ 39.784215  ┆ 5.525332   ┆ 0.371859   ┆ 34.142618  ┆ 5.201602   │\n",
       "│ max        ┆ 14.906553  ┆ 52.044098  ┆ 10.634679  ┆ 13.706871  ┆ 50.137116  ┆ 10.791045  │\n",
       "└────────────┴────────────┴────────────┴────────────┴────────────┴────────────┴────────────┘"
      ]
     },
     "execution_count": 6,
     "metadata": {},
     "output_type": "execute_result"
    }
   ],
   "source": [
    "\n",
    "def calculate_ball_pos_at_t(lf: pl.LazyFrame, *ts) -> pl.LazyFrame:\n",
    "    \"\"\"Computes the x, y and z positions of a baseball at all the times in specified in ts\"\"\"\n",
    "    lf = lf.with_columns(\n",
    "        (50 / pl.col(\"vz0\")).alias(\"t_50\")\n",
    "    )\n",
    "\n",
    "    return lf.with_columns([\n",
    "        ((pl.col(f\"release_pos_{dim}\") + pl.col(f\"v{dim}0\") * t) \n",
    "         + (1/2 * pl.col(f\"a{dim}\") * t**2)).alias(f\"{dim}_{t:.3f}\")\n",
    "        for dim in [\"x\", \"y\", \"z\"] \n",
    "        for t in ts\n",
    "    ])\n",
    "\n",
    "# 0.12 is about the 'decision time' and 0.167 is about 'commit time'\n",
    "ball_pos_lf = mirrored_pitches_lf.pipe(calculate_ball_pos_at_t, 0.12, 0.167)\n",
    "\n",
    "(ball_pos_lf\n",
    "    .select(\"x_0.120\", \"y_0.120\", \"z_0.120\",\n",
    "            \"x_0.167\", \"y_0.167\", \"z_0.167\")\n",
    "    .describe())"
   ]
  },
  {
   "cell_type": "code",
   "execution_count": 7,
   "metadata": {},
   "outputs": [
    {
     "data": {
      "application/vnd.plotly.v1+json": {
       "config": {
        "plotlyServerURL": "https://plot.ly"
       },
       "data": [
        {
         "hovertemplate": "pitch_type=CH<br>median_x_0.120=%{x}<br>median_y_0.120=%{y}<br>median_z_0.120=%{z}<extra></extra>",
         "legendgroup": "CH",
         "marker": {
          "color": "#636efa",
          "symbol": "circle"
         },
         "mode": "markers",
         "name": "CH",
         "scene": "scene",
         "showlegend": true,
         "type": "scatter3d",
         "x": [
          -0.8818052827843725
         ],
         "y": [
          39.646454710975
         ],
         "z": [
          5.175932428732727
         ]
        },
        {
         "hovertemplate": "pitch_type=KC<br>median_x_0.120=%{x}<br>median_y_0.120=%{y}<br>median_z_0.120=%{z}<extra></extra>",
         "legendgroup": "KC",
         "marker": {
          "color": "#EF553B",
          "symbol": "diamond"
         },
         "mode": "markers",
         "name": "KC",
         "scene": "scene",
         "showlegend": true,
         "type": "scatter3d",
         "x": [
          -1.2137955250472503
         ],
         "y": [
          40.44026079136788
         ],
         "z": [
          5.565234625048291
         ]
        },
        {
         "hovertemplate": "pitch_type=FF<br>median_x_0.120=%{x}<br>median_y_0.120=%{y}<br>median_z_0.120=%{z}<extra></extra>",
         "legendgroup": "FF",
         "marker": {
          "color": "#00cc96",
          "symbol": "square"
         },
         "mode": "markers",
         "name": "FF",
         "scene": "scene",
         "showlegend": true,
         "type": "scatter3d",
         "x": [
          -0.865774507661331
         ],
         "y": [
          38.12363872661966
         ],
         "z": [
          5.183903886214535
         ]
        },
        {
         "hovertemplate": "pitch_type=CH<br>median_x_0.120=%{x}<br>median_y_0.120=%{y}<br>median_z_0.120=%{z}<extra></extra>",
         "legendgroup": "CH",
         "marker": {
          "color": "#636efa",
          "symbol": "circle"
         },
         "mode": "markers",
         "name": "CH",
         "scene": "scene",
         "showlegend": true,
         "type": "scatter3d",
         "x": [
          -0.8818052827843725
         ],
         "y": [
          39.646454710975
         ],
         "z": [
          5.175932428732727
         ]
        },
        {
         "hovertemplate": "pitch_type=KC<br>median_x_0.120=%{x}<br>median_y_0.120=%{y}<br>median_z_0.120=%{z}<extra></extra>",
         "legendgroup": "KC",
         "marker": {
          "color": "#EF553B",
          "symbol": "diamond"
         },
         "mode": "markers",
         "name": "KC",
         "scene": "scene",
         "showlegend": true,
         "type": "scatter3d",
         "x": [
          -1.2137955250472503
         ],
         "y": [
          40.44026079136788
         ],
         "z": [
          5.565234625048291
         ]
        },
        {
         "hovertemplate": "pitch_type=FF<br>median_x_0.120=%{x}<br>median_y_0.120=%{y}<br>median_z_0.120=%{z}<extra></extra>",
         "legendgroup": "FF",
         "marker": {
          "color": "#00cc96",
          "symbol": "square"
         },
         "mode": "markers",
         "name": "FF",
         "scene": "scene",
         "showlegend": true,
         "type": "scatter3d",
         "x": [
          -0.865774507661331
         ],
         "y": [
          38.12363872661966
         ],
         "z": [
          5.183903886214535
         ]
        },
        {
         "hovertemplate": "pitch_type=CH<br>median_x_0.167=%{x}<br>median_y_0.167=%{y}<br>median_z_0.167=%{z}<extra></extra>",
         "legendgroup": "CH",
         "marker": {
          "color": "#636efa",
          "symbol": "circle"
         },
         "mode": "markers",
         "name": "CH",
         "scene": "scene",
         "showlegend": true,
         "type": "scatter3d",
         "x": [
          -0.7048649997353422
         ],
         "y": [
          33.98854760906997
         ],
         "z": [
          4.81148007260301
         ]
        },
        {
         "hovertemplate": "pitch_type=KC<br>median_x_0.167=%{x}<br>median_y_0.167=%{y}<br>median_z_0.167=%{z}<extra></extra>",
         "legendgroup": "KC",
         "marker": {
          "color": "#EF553B",
          "symbol": "diamond"
         },
         "mode": "markers",
         "name": "KC",
         "scene": "scene",
         "showlegend": true,
         "type": "scatter3d",
         "x": [
          -1.03868900928652
         ],
         "y": [
          35.058128328397615
         ],
         "z": [
          5.250606991349855
         ]
        },
        {
         "hovertemplate": "pitch_type=FF<br>median_x_0.167=%{x}<br>median_y_0.167=%{y}<br>median_z_0.167=%{z}<extra></extra>",
         "legendgroup": "FF",
         "marker": {
          "color": "#00cc96",
          "symbol": "square"
         },
         "mode": "markers",
         "name": "FF",
         "scene": "scene",
         "showlegend": true,
         "type": "scatter3d",
         "x": [
          -0.6471914217119208
         ],
         "y": [
          31.9069799064901
         ],
         "z": [
          4.824540520198943
         ]
        },
        {
         "hovertemplate": "pitch_type=CH<br>median_release_pos_x=%{x}<br>median_release_pos_y=%{y}<br>median_release_pos_z=%{z}<extra></extra>",
         "legendgroup": "CH",
         "marker": {
          "color": "#636efa",
          "symbol": "circle"
         },
         "mode": "markers",
         "name": "CH",
         "scene": "scene",
         "showlegend": true,
         "type": "scatter3d",
         "x": [
          -1.4
         ],
         "y": [
          54.4
         ],
         "z": [
          5.85
         ]
        },
        {
         "hovertemplate": "pitch_type=KC<br>median_release_pos_x=%{x}<br>median_release_pos_y=%{y}<br>median_release_pos_z=%{z}<extra></extra>",
         "legendgroup": "KC",
         "marker": {
          "color": "#EF553B",
          "symbol": "diamond"
         },
         "mode": "markers",
         "name": "KC",
         "scene": "scene",
         "showlegend": true,
         "type": "scatter3d",
         "x": [
          -1.59
         ],
         "y": [
          54.5
         ],
         "z": [
          5.96
         ]
        },
        {
         "hovertemplate": "pitch_type=FF<br>median_release_pos_x=%{x}<br>median_release_pos_y=%{y}<br>median_release_pos_z=%{z}<extra></extra>",
         "legendgroup": "FF",
         "marker": {
          "color": "#00cc96",
          "symbol": "square"
         },
         "mode": "markers",
         "name": "FF",
         "scene": "scene",
         "showlegend": true,
         "type": "scatter3d",
         "x": [
          -1.46
         ],
         "y": [
          54.34
         ],
         "z": [
          5.96
         ]
        },
        {
         "hovertemplate": "pitch_type=CH<br>median_plate_x=%{x}<br>plate_y=%{y}<br>median_plate_z=%{z}<extra></extra>",
         "legendgroup": "CH",
         "marker": {
          "color": "#636efa",
          "symbol": "circle"
         },
         "mode": "markers",
         "name": "CH",
         "scene": "scene",
         "showlegend": true,
         "type": "scatter3d",
         "x": [
          -0.09
         ],
         "y": [
          0
         ],
         "z": [
          1.83
         ]
        },
        {
         "hovertemplate": "pitch_type=KC<br>median_plate_x=%{x}<br>plate_y=%{y}<br>median_plate_z=%{z}<extra></extra>",
         "legendgroup": "KC",
         "marker": {
          "color": "#EF553B",
          "symbol": "diamond"
         },
         "mode": "markers",
         "name": "KC",
         "scene": "scene",
         "showlegend": true,
         "type": "scatter3d",
         "x": [
          0.1
         ],
         "y": [
          0
         ],
         "z": [
          1.78
         ]
        },
        {
         "hovertemplate": "pitch_type=FF<br>median_plate_x=%{x}<br>plate_y=%{y}<br>median_plate_z=%{z}<extra></extra>",
         "legendgroup": "FF",
         "marker": {
          "color": "#00cc96",
          "symbol": "square"
         },
         "mode": "markers",
         "name": "FF",
         "scene": "scene",
         "showlegend": true,
         "type": "scatter3d",
         "x": [
          0
         ],
         "y": [
          0
         ],
         "z": [
          2.69
         ]
        }
       ],
       "layout": {
        "legend": {
         "title": {
          "text": "pitch_type"
         },
         "tracegroupgap": 0
        },
        "margin": {
         "t": 60
        },
        "scene": {
         "domain": {
          "x": [
           0,
           1
          ],
          "y": [
           0,
           1
          ]
         },
         "xaxis": {
          "title": {
           "text": "X (ft.)"
          }
         },
         "yaxis": {
          "title": {
           "text": "Y (ft.)"
          }
         },
         "zaxis": {
          "title": {
           "text": "Z (ft.)"
          }
         }
        },
        "template": {
         "data": {
          "bar": [
           {
            "error_x": {
             "color": "#2a3f5f"
            },
            "error_y": {
             "color": "#2a3f5f"
            },
            "marker": {
             "line": {
              "color": "#E5ECF6",
              "width": 0.5
             },
             "pattern": {
              "fillmode": "overlay",
              "size": 10,
              "solidity": 0.2
             }
            },
            "type": "bar"
           }
          ],
          "barpolar": [
           {
            "marker": {
             "line": {
              "color": "#E5ECF6",
              "width": 0.5
             },
             "pattern": {
              "fillmode": "overlay",
              "size": 10,
              "solidity": 0.2
             }
            },
            "type": "barpolar"
           }
          ],
          "carpet": [
           {
            "aaxis": {
             "endlinecolor": "#2a3f5f",
             "gridcolor": "white",
             "linecolor": "white",
             "minorgridcolor": "white",
             "startlinecolor": "#2a3f5f"
            },
            "baxis": {
             "endlinecolor": "#2a3f5f",
             "gridcolor": "white",
             "linecolor": "white",
             "minorgridcolor": "white",
             "startlinecolor": "#2a3f5f"
            },
            "type": "carpet"
           }
          ],
          "choropleth": [
           {
            "colorbar": {
             "outlinewidth": 0,
             "ticks": ""
            },
            "type": "choropleth"
           }
          ],
          "contour": [
           {
            "colorbar": {
             "outlinewidth": 0,
             "ticks": ""
            },
            "colorscale": [
             [
              0,
              "#0d0887"
             ],
             [
              0.1111111111111111,
              "#46039f"
             ],
             [
              0.2222222222222222,
              "#7201a8"
             ],
             [
              0.3333333333333333,
              "#9c179e"
             ],
             [
              0.4444444444444444,
              "#bd3786"
             ],
             [
              0.5555555555555556,
              "#d8576b"
             ],
             [
              0.6666666666666666,
              "#ed7953"
             ],
             [
              0.7777777777777778,
              "#fb9f3a"
             ],
             [
              0.8888888888888888,
              "#fdca26"
             ],
             [
              1,
              "#f0f921"
             ]
            ],
            "type": "contour"
           }
          ],
          "contourcarpet": [
           {
            "colorbar": {
             "outlinewidth": 0,
             "ticks": ""
            },
            "type": "contourcarpet"
           }
          ],
          "heatmap": [
           {
            "colorbar": {
             "outlinewidth": 0,
             "ticks": ""
            },
            "colorscale": [
             [
              0,
              "#0d0887"
             ],
             [
              0.1111111111111111,
              "#46039f"
             ],
             [
              0.2222222222222222,
              "#7201a8"
             ],
             [
              0.3333333333333333,
              "#9c179e"
             ],
             [
              0.4444444444444444,
              "#bd3786"
             ],
             [
              0.5555555555555556,
              "#d8576b"
             ],
             [
              0.6666666666666666,
              "#ed7953"
             ],
             [
              0.7777777777777778,
              "#fb9f3a"
             ],
             [
              0.8888888888888888,
              "#fdca26"
             ],
             [
              1,
              "#f0f921"
             ]
            ],
            "type": "heatmap"
           }
          ],
          "heatmapgl": [
           {
            "colorbar": {
             "outlinewidth": 0,
             "ticks": ""
            },
            "colorscale": [
             [
              0,
              "#0d0887"
             ],
             [
              0.1111111111111111,
              "#46039f"
             ],
             [
              0.2222222222222222,
              "#7201a8"
             ],
             [
              0.3333333333333333,
              "#9c179e"
             ],
             [
              0.4444444444444444,
              "#bd3786"
             ],
             [
              0.5555555555555556,
              "#d8576b"
             ],
             [
              0.6666666666666666,
              "#ed7953"
             ],
             [
              0.7777777777777778,
              "#fb9f3a"
             ],
             [
              0.8888888888888888,
              "#fdca26"
             ],
             [
              1,
              "#f0f921"
             ]
            ],
            "type": "heatmapgl"
           }
          ],
          "histogram": [
           {
            "marker": {
             "pattern": {
              "fillmode": "overlay",
              "size": 10,
              "solidity": 0.2
             }
            },
            "type": "histogram"
           }
          ],
          "histogram2d": [
           {
            "colorbar": {
             "outlinewidth": 0,
             "ticks": ""
            },
            "colorscale": [
             [
              0,
              "#0d0887"
             ],
             [
              0.1111111111111111,
              "#46039f"
             ],
             [
              0.2222222222222222,
              "#7201a8"
             ],
             [
              0.3333333333333333,
              "#9c179e"
             ],
             [
              0.4444444444444444,
              "#bd3786"
             ],
             [
              0.5555555555555556,
              "#d8576b"
             ],
             [
              0.6666666666666666,
              "#ed7953"
             ],
             [
              0.7777777777777778,
              "#fb9f3a"
             ],
             [
              0.8888888888888888,
              "#fdca26"
             ],
             [
              1,
              "#f0f921"
             ]
            ],
            "type": "histogram2d"
           }
          ],
          "histogram2dcontour": [
           {
            "colorbar": {
             "outlinewidth": 0,
             "ticks": ""
            },
            "colorscale": [
             [
              0,
              "#0d0887"
             ],
             [
              0.1111111111111111,
              "#46039f"
             ],
             [
              0.2222222222222222,
              "#7201a8"
             ],
             [
              0.3333333333333333,
              "#9c179e"
             ],
             [
              0.4444444444444444,
              "#bd3786"
             ],
             [
              0.5555555555555556,
              "#d8576b"
             ],
             [
              0.6666666666666666,
              "#ed7953"
             ],
             [
              0.7777777777777778,
              "#fb9f3a"
             ],
             [
              0.8888888888888888,
              "#fdca26"
             ],
             [
              1,
              "#f0f921"
             ]
            ],
            "type": "histogram2dcontour"
           }
          ],
          "mesh3d": [
           {
            "colorbar": {
             "outlinewidth": 0,
             "ticks": ""
            },
            "type": "mesh3d"
           }
          ],
          "parcoords": [
           {
            "line": {
             "colorbar": {
              "outlinewidth": 0,
              "ticks": ""
             }
            },
            "type": "parcoords"
           }
          ],
          "pie": [
           {
            "automargin": true,
            "type": "pie"
           }
          ],
          "scatter": [
           {
            "fillpattern": {
             "fillmode": "overlay",
             "size": 10,
             "solidity": 0.2
            },
            "type": "scatter"
           }
          ],
          "scatter3d": [
           {
            "line": {
             "colorbar": {
              "outlinewidth": 0,
              "ticks": ""
             }
            },
            "marker": {
             "colorbar": {
              "outlinewidth": 0,
              "ticks": ""
             }
            },
            "type": "scatter3d"
           }
          ],
          "scattercarpet": [
           {
            "marker": {
             "colorbar": {
              "outlinewidth": 0,
              "ticks": ""
             }
            },
            "type": "scattercarpet"
           }
          ],
          "scattergeo": [
           {
            "marker": {
             "colorbar": {
              "outlinewidth": 0,
              "ticks": ""
             }
            },
            "type": "scattergeo"
           }
          ],
          "scattergl": [
           {
            "marker": {
             "colorbar": {
              "outlinewidth": 0,
              "ticks": ""
             }
            },
            "type": "scattergl"
           }
          ],
          "scattermapbox": [
           {
            "marker": {
             "colorbar": {
              "outlinewidth": 0,
              "ticks": ""
             }
            },
            "type": "scattermapbox"
           }
          ],
          "scatterpolar": [
           {
            "marker": {
             "colorbar": {
              "outlinewidth": 0,
              "ticks": ""
             }
            },
            "type": "scatterpolar"
           }
          ],
          "scatterpolargl": [
           {
            "marker": {
             "colorbar": {
              "outlinewidth": 0,
              "ticks": ""
             }
            },
            "type": "scatterpolargl"
           }
          ],
          "scatterternary": [
           {
            "marker": {
             "colorbar": {
              "outlinewidth": 0,
              "ticks": ""
             }
            },
            "type": "scatterternary"
           }
          ],
          "surface": [
           {
            "colorbar": {
             "outlinewidth": 0,
             "ticks": ""
            },
            "colorscale": [
             [
              0,
              "#0d0887"
             ],
             [
              0.1111111111111111,
              "#46039f"
             ],
             [
              0.2222222222222222,
              "#7201a8"
             ],
             [
              0.3333333333333333,
              "#9c179e"
             ],
             [
              0.4444444444444444,
              "#bd3786"
             ],
             [
              0.5555555555555556,
              "#d8576b"
             ],
             [
              0.6666666666666666,
              "#ed7953"
             ],
             [
              0.7777777777777778,
              "#fb9f3a"
             ],
             [
              0.8888888888888888,
              "#fdca26"
             ],
             [
              1,
              "#f0f921"
             ]
            ],
            "type": "surface"
           }
          ],
          "table": [
           {
            "cells": {
             "fill": {
              "color": "#EBF0F8"
             },
             "line": {
              "color": "white"
             }
            },
            "header": {
             "fill": {
              "color": "#C8D4E3"
             },
             "line": {
              "color": "white"
             }
            },
            "type": "table"
           }
          ]
         },
         "layout": {
          "annotationdefaults": {
           "arrowcolor": "#2a3f5f",
           "arrowhead": 0,
           "arrowwidth": 1
          },
          "autotypenumbers": "strict",
          "coloraxis": {
           "colorbar": {
            "outlinewidth": 0,
            "ticks": ""
           }
          },
          "colorscale": {
           "diverging": [
            [
             0,
             "#8e0152"
            ],
            [
             0.1,
             "#c51b7d"
            ],
            [
             0.2,
             "#de77ae"
            ],
            [
             0.3,
             "#f1b6da"
            ],
            [
             0.4,
             "#fde0ef"
            ],
            [
             0.5,
             "#f7f7f7"
            ],
            [
             0.6,
             "#e6f5d0"
            ],
            [
             0.7,
             "#b8e186"
            ],
            [
             0.8,
             "#7fbc41"
            ],
            [
             0.9,
             "#4d9221"
            ],
            [
             1,
             "#276419"
            ]
           ],
           "sequential": [
            [
             0,
             "#0d0887"
            ],
            [
             0.1111111111111111,
             "#46039f"
            ],
            [
             0.2222222222222222,
             "#7201a8"
            ],
            [
             0.3333333333333333,
             "#9c179e"
            ],
            [
             0.4444444444444444,
             "#bd3786"
            ],
            [
             0.5555555555555556,
             "#d8576b"
            ],
            [
             0.6666666666666666,
             "#ed7953"
            ],
            [
             0.7777777777777778,
             "#fb9f3a"
            ],
            [
             0.8888888888888888,
             "#fdca26"
            ],
            [
             1,
             "#f0f921"
            ]
           ],
           "sequentialminus": [
            [
             0,
             "#0d0887"
            ],
            [
             0.1111111111111111,
             "#46039f"
            ],
            [
             0.2222222222222222,
             "#7201a8"
            ],
            [
             0.3333333333333333,
             "#9c179e"
            ],
            [
             0.4444444444444444,
             "#bd3786"
            ],
            [
             0.5555555555555556,
             "#d8576b"
            ],
            [
             0.6666666666666666,
             "#ed7953"
            ],
            [
             0.7777777777777778,
             "#fb9f3a"
            ],
            [
             0.8888888888888888,
             "#fdca26"
            ],
            [
             1,
             "#f0f921"
            ]
           ]
          },
          "colorway": [
           "#636efa",
           "#EF553B",
           "#00cc96",
           "#ab63fa",
           "#FFA15A",
           "#19d3f3",
           "#FF6692",
           "#B6E880",
           "#FF97FF",
           "#FECB52"
          ],
          "font": {
           "color": "#2a3f5f"
          },
          "geo": {
           "bgcolor": "white",
           "lakecolor": "white",
           "landcolor": "#E5ECF6",
           "showlakes": true,
           "showland": true,
           "subunitcolor": "white"
          },
          "hoverlabel": {
           "align": "left"
          },
          "hovermode": "closest",
          "mapbox": {
           "style": "light"
          },
          "paper_bgcolor": "white",
          "plot_bgcolor": "#E5ECF6",
          "polar": {
           "angularaxis": {
            "gridcolor": "white",
            "linecolor": "white",
            "ticks": ""
           },
           "bgcolor": "#E5ECF6",
           "radialaxis": {
            "gridcolor": "white",
            "linecolor": "white",
            "ticks": ""
           }
          },
          "scene": {
           "xaxis": {
            "backgroundcolor": "#E5ECF6",
            "gridcolor": "white",
            "gridwidth": 2,
            "linecolor": "white",
            "showbackground": true,
            "ticks": "",
            "zerolinecolor": "white"
           },
           "yaxis": {
            "backgroundcolor": "#E5ECF6",
            "gridcolor": "white",
            "gridwidth": 2,
            "linecolor": "white",
            "showbackground": true,
            "ticks": "",
            "zerolinecolor": "white"
           },
           "zaxis": {
            "backgroundcolor": "#E5ECF6",
            "gridcolor": "white",
            "gridwidth": 2,
            "linecolor": "white",
            "showbackground": true,
            "ticks": "",
            "zerolinecolor": "white"
           }
          },
          "shapedefaults": {
           "line": {
            "color": "#2a3f5f"
           }
          },
          "ternary": {
           "aaxis": {
            "gridcolor": "white",
            "linecolor": "white",
            "ticks": ""
           },
           "baxis": {
            "gridcolor": "white",
            "linecolor": "white",
            "ticks": ""
           },
           "bgcolor": "#E5ECF6",
           "caxis": {
            "gridcolor": "white",
            "linecolor": "white",
            "ticks": ""
           }
          },
          "title": {
           "x": 0.05
          },
          "xaxis": {
           "automargin": true,
           "gridcolor": "white",
           "linecolor": "white",
           "ticks": "",
           "title": {
            "standoff": 15
           },
           "zerolinecolor": "white",
           "zerolinewidth": 2
          },
          "yaxis": {
           "automargin": true,
           "gridcolor": "white",
           "linecolor": "white",
           "ticks": "",
           "title": {
            "standoff": 15
           },
           "zerolinecolor": "white",
           "zerolinewidth": 2
          }
         }
        },
        "title": {
         "text": "Median Position at commit & decision times in pitch flight"
        }
       }
      }
     },
     "metadata": {},
     "output_type": "display_data"
    }
   ],
   "source": [
    "median_ball_loc_df = (ball_pos_lf\n",
    "                    .filter(pl.col(\"pitch_type\").is_in([\"FF\", \"KC\", \"CH\"]))\n",
    "                    .drop_nulls(subset=[\"plate_x\", \"plate_z\", \"pitch_type\", \"release_pos_x\", \"release_pos_z\", \"release_pos_y\"])\n",
    "                    .group_by(\"pitch_type\")\n",
    "                    .agg([\n",
    "                        pl.col(feature).median().alias(f\"median_{feature}\")\n",
    "                        for feature in [\n",
    "                            \"release_pos_x\",\n",
    "                            \"release_pos_y\",\n",
    "                            \"release_pos_z\",\n",
    "                            \"plate_x\",\n",
    "                            \"plate_z\",\n",
    "                            \"x_0.120\",\n",
    "                            \"y_0.120\",\n",
    "                            \"z_0.120\",\n",
    "                            \"x_0.167\",\n",
    "                            \"y_0.167\",\n",
    "                            \"z_0.167\",\n",
    "                        ]\n",
    "                    ])\n",
    "                    .with_columns(pl.lit(0).alias(\"plate_y\"))\n",
    "                    .collect())\n",
    "\n",
    "decision_time_fig = px.scatter_3d(\n",
    "    median_ball_loc_df,\n",
    "    x=\"median_x_0.120\",\n",
    "    y=\"median_y_0.120\",\n",
    "    z=\"median_z_0.120\",\n",
    "    color=\"pitch_type\",\n",
    "    symbol=\"pitch_type\",\n",
    ")\n",
    "\n",
    "commit_time_fig = px.scatter_3d(\n",
    "    median_ball_loc_df,\n",
    "    x=\"median_x_0.167\",\n",
    "    y=\"median_y_0.167\",\n",
    "    z=\"median_z_0.167\",\n",
    "    color=\"pitch_type\",\n",
    "    symbol=\"pitch_type\",\n",
    ")\n",
    "\n",
    "over_plate_fig = px.scatter_3d(\n",
    "    median_ball_loc_df,\n",
    "    x=\"median_plate_x\",\n",
    "    y=\"plate_y\",\n",
    "    z=\"median_plate_z\",\n",
    "    color=\"pitch_type\",\n",
    "    symbol=\"pitch_type\",\n",
    ")\n",
    "\n",
    "release_fig = px.scatter_3d(\n",
    "    median_ball_loc_df,\n",
    "    x=\"median_release_pos_x\",\n",
    "    y=\"median_release_pos_y\",\n",
    "    z=\"median_release_pos_z\",\n",
    "    color=\"pitch_type\",\n",
    "    symbol=\"pitch_type\",\n",
    ")\n",
    "\n",
    "for fig in [decision_time_fig, commit_time_fig, release_fig, over_plate_fig]:\n",
    "    decision_time_fig.add_traces(fig.data)\n",
    "\n",
    "decision_time_fig.update_layout(\n",
    "    title=\"Median Position at commit & decision times in pitch flight\",\n",
    "    scene=dict(\n",
    "        xaxis_title=\"X (ft.)\",\n",
    "        yaxis_title=\"Y (ft.)\",\n",
    "        zaxis_title=\"Z (ft.)\",\n",
    "    )\n",
    ").show()"
   ]
  },
  {
   "cell_type": "markdown",
   "metadata": {},
   "source": [
    "Get pitch sequences and difference features"
   ]
  },
  {
   "cell_type": "code",
   "execution_count": 8,
   "metadata": {},
   "outputs": [
    {
     "data": {
      "text/html": [
       "<div><style>\n",
       ".dataframe > thead > tr,\n",
       ".dataframe > tbody > tr {\n",
       "  text-align: right;\n",
       "  white-space: pre-wrap;\n",
       "}\n",
       "</style>\n",
       "<small>shape: (9, 18)</small><table border=\"1\" class=\"dataframe\"><thead><tr><th>statistic</th><th>prev_pfx_x</th><th>prev_pfx_z</th><th>prev_x_0.120</th><th>prev_y_0.120</th><th>prev_z_0.120</th><th>prev_x_0.167</th><th>prev_y_0.167</th><th>prev_z_0.167</th><th>prev_release_pos_x</th><th>prev_release_pos_y</th><th>prev_release_pos_z</th><th>prev_release_speed</th><th>prev_effective_speed</th><th>prev_release_spin_rate</th><th>prev_delta_run_exp</th><th>prev_plate_x</th><th>prev_plate_z</th></tr><tr><td>str</td><td>f64</td><td>f64</td><td>f64</td><td>f64</td><td>f64</td><td>f64</td><td>f64</td><td>f64</td><td>f64</td><td>f64</td><td>f64</td><td>f64</td><td>f64</td><td>f64</td><td>f64</td><td>f64</td><td>f64</td></tr></thead><tbody><tr><td>&quot;count&quot;</td><td>6.792066e6</td><td>6.792077e6</td><td>6.791931e6</td><td>6.791931e6</td><td>6.791931e6</td><td>6.791931e6</td><td>6.791931e6</td><td>6.791931e6</td><td>6.791931e6</td><td>6.791931e6</td><td>6.791931e6</td><td>6.792801e6</td><td>6.757507e6</td><td>6.633221e6</td><td>6.697522e6</td><td>6.792146e6</td><td>6.792146e6</td></tr><tr><td>&quot;null_count&quot;</td><td>232645.0</td><td>232634.0</td><td>232780.0</td><td>232780.0</td><td>232780.0</td><td>232780.0</td><td>232780.0</td><td>232780.0</td><td>232780.0</td><td>232780.0</td><td>232780.0</td><td>231910.0</td><td>267204.0</td><td>391490.0</td><td>327189.0</td><td>232565.0</td><td>232565.0</td></tr><tr><td>&quot;mean&quot;</td><td>-0.380071</td><td>0.661274</td><td>-0.528421</td><td>38.993871</td><td>5.228093</td><td>-0.433963</td><td>33.094901</td><td>4.88352</td><td>-0.792222</td><td>54.321519</td><td>5.874103</td><td>88.825833</td><td>88.631</td><td>2228.093362</td><td>-0.000889</td><td>0.02854</td><td>2.266515</td></tr><tr><td>&quot;std&quot;</td><td>0.808343</td><td>0.746004</td><td>1.312966</td><td>1.199226</td><td>0.480519</td><td>1.126735</td><td>1.566307</td><td>0.518623</td><td>1.895471</td><td>0.462979</td><td>0.521562</td><td>6.032435</td><td>6.278894</td><td>338.440695</td><td>0.233449</td><td>0.86744</td><td>0.965161</td></tr><tr><td>&quot;min&quot;</td><td>-3.0</td><td>-2.79</td><td>-9.999482</td><td>11.766347</td><td>-3.731836</td><td>-15.726781</td><td>5.178942</td><td>-7.876103</td><td>-10.4</td><td>28.58</td><td>-3.19</td><td>30.4</td><td>26.8</td><td>4.0</td><td>-1.661</td><td>-65.16</td><td>-45.11</td></tr><tr><td>&quot;25%&quot;</td><td>-1.04</td><td>0.21</td><td>-1.463532</td><td>38.115942</td><td>4.93059</td><td>-1.237731</td><td>31.914287</td><td>4.546812</td><td>-2.14</td><td>54.02</td><td>5.61</td><td>84.6</td><td>84.4</td><td>2079.0</td><td>-0.064</td><td>-0.56</td><td>1.64</td></tr><tr><td>&quot;50%&quot;</td><td>-0.54</td><td>0.78</td><td>-0.942215</td><td>38.82422</td><td>5.223941</td><td>-0.732043</td><td>32.845556</td><td>4.866155</td><td>-1.5</td><td>54.43</td><td>5.91</td><td>90.0</td><td>89.8</td><td>2257.0</td><td>-0.017</td><td>0.03</td><td>2.27</td></tr><tr><td>&quot;75%&quot;</td><td>0.26</td><td>1.26</td><td>0.531032</td><td>39.782956</td><td>5.525756</td><td>0.37201</td><td>34.140784</td><td>5.202118</td><td>0.96</td><td>54.51</td><td>6.2</td><td>93.6</td><td>93.5</td><td>2425.0</td><td>0.036</td><td>0.61</td><td>2.9</td></tr><tr><td>&quot;max&quot;</td><td>2.95</td><td>2.99</td><td>14.906553</td><td>52.044098</td><td>10.634679</td><td>13.706871</td><td>50.137116</td><td>10.791045</td><td>18.0</td><td>59.94</td><td>10.54</td><td>105.7</td><td>194.6</td><td>3741.0</td><td>3.702</td><td>11.3</td><td>13.58</td></tr></tbody></table></div>"
      ],
      "text/plain": [
       "shape: (9, 18)\n",
       "┌───────────┬───────────┬───────────┬───────────┬───┬───────────┬───────────┬───────────┬──────────┐\n",
       "│ statistic ┆ prev_pfx_ ┆ prev_pfx_ ┆ prev_x_0. ┆ … ┆ prev_rele ┆ prev_delt ┆ prev_plat ┆ prev_pla │\n",
       "│ ---       ┆ x         ┆ z         ┆ 120       ┆   ┆ ase_spin_ ┆ a_run_exp ┆ e_x       ┆ te_z     │\n",
       "│ str       ┆ ---       ┆ ---       ┆ ---       ┆   ┆ rate      ┆ ---       ┆ ---       ┆ ---      │\n",
       "│           ┆ f64       ┆ f64       ┆ f64       ┆   ┆ ---       ┆ f64       ┆ f64       ┆ f64      │\n",
       "│           ┆           ┆           ┆           ┆   ┆ f64       ┆           ┆           ┆          │\n",
       "╞═══════════╪═══════════╪═══════════╪═══════════╪═══╪═══════════╪═══════════╪═══════════╪══════════╡\n",
       "│ count     ┆ 6.792066e ┆ 6.792077e ┆ 6.791931e ┆ … ┆ 6.633221e ┆ 6.697522e ┆ 6.792146e ┆ 6.792146 │\n",
       "│           ┆ 6         ┆ 6         ┆ 6         ┆   ┆ 6         ┆ 6         ┆ 6         ┆ e6       │\n",
       "│ null_coun ┆ 232645.0  ┆ 232634.0  ┆ 232780.0  ┆ … ┆ 391490.0  ┆ 327189.0  ┆ 232565.0  ┆ 232565.0 │\n",
       "│ t         ┆           ┆           ┆           ┆   ┆           ┆           ┆           ┆          │\n",
       "│ mean      ┆ -0.380071 ┆ 0.661274  ┆ -0.528421 ┆ … ┆ 2228.0933 ┆ -0.000889 ┆ 0.02854   ┆ 2.266515 │\n",
       "│           ┆           ┆           ┆           ┆   ┆ 62        ┆           ┆           ┆          │\n",
       "│ std       ┆ 0.808343  ┆ 0.746004  ┆ 1.312966  ┆ … ┆ 338.44069 ┆ 0.233449  ┆ 0.86744   ┆ 0.965161 │\n",
       "│           ┆           ┆           ┆           ┆   ┆ 5         ┆           ┆           ┆          │\n",
       "│ min       ┆ -3.0      ┆ -2.79     ┆ -9.999482 ┆ … ┆ 4.0       ┆ -1.661    ┆ -65.16    ┆ -45.11   │\n",
       "│ 25%       ┆ -1.04     ┆ 0.21      ┆ -1.463532 ┆ … ┆ 2079.0    ┆ -0.064    ┆ -0.56     ┆ 1.64     │\n",
       "│ 50%       ┆ -0.54     ┆ 0.78      ┆ -0.942215 ┆ … ┆ 2257.0    ┆ -0.017    ┆ 0.03      ┆ 2.27     │\n",
       "│ 75%       ┆ 0.26      ┆ 1.26      ┆ 0.531032  ┆ … ┆ 2425.0    ┆ 0.036     ┆ 0.61      ┆ 2.9      │\n",
       "│ max       ┆ 2.95      ┆ 2.99      ┆ 14.906553 ┆ … ┆ 3741.0    ┆ 3.702     ┆ 11.3      ┆ 13.58    │\n",
       "└───────────┴───────────┴───────────┴───────────┴───┴───────────┴───────────┴───────────┴──────────┘"
      ]
     },
     "execution_count": 8,
     "metadata": {},
     "output_type": "execute_result"
    }
   ],
   "source": [
    "# features that we are interested in with regards to two pitch sequences\n",
    "prev_features = [\n",
    "    \"prev_pfx_x\",\n",
    "    \"prev_pfx_z\",\n",
    "    \"prev_x_0.120\",\n",
    "    \"prev_y_0.120\",\n",
    "    \"prev_z_0.120\",\n",
    "    \"prev_x_0.167\",\n",
    "    \"prev_y_0.167\",\n",
    "    \"prev_z_0.167\",\n",
    "    \"prev_release_pos_x\",\n",
    "    \"prev_release_pos_y\",\n",
    "    \"prev_release_pos_z\",\n",
    "    \"prev_release_speed\",\n",
    "    \"prev_effective_speed\",\n",
    "    \"prev_release_spin_rate\",\n",
    "    \"prev_delta_run_exp\",\n",
    "    \"prev_plate_x\",\n",
    "    \"prev_plate_z\",\n",
    "]\n",
    "\n",
    "def two_pitch_sequences(lf: pl.LazyFrame) -> pl.LazyFrame:\n",
    "    # sort the data such that the pitches are in descending order\n",
    "    sort_cols = [\"pitcher\", \"game_date\", \"at_bat_number\", \"pitch_number\"]\n",
    "    sorted_lf = lf.sort(\n",
    "        by=sort_cols,\n",
    "        descending=True,\n",
    "    )\n",
    "\n",
    "    return (sorted_lf\n",
    "        .with_columns([\n",
    "            pl.col(feature)\n",
    "            .shift(-1)\n",
    "            .over([\"pitcher\", \"at_bat_number\"])\n",
    "            .alias(f\"prev_{feature}\")\n",
    "            # for feature in sorted_lf.collect_schema().names()\n",
    "            for feature in [f.replace(\"prev_\", \"\") for f in prev_features]\n",
    "        ])\n",
    "        .select(*sort_cols + prev_features)\n",
    "        .join(other=lf, on=sort_cols, how=\"right\")\n",
    "    )\n",
    "\n",
    "def add_diff_features(lf: pl.LazyFrame) -> pl.LazyFrame:\n",
    "    return lf.with_columns(\n",
    "        *[(pl.col(f\"{dim}_{t:.3f}\") - pl.col(f\"prev_{dim}_{t:.3f}\"))\n",
    "          .alias(f\"{dim}_diff_{t}\")\n",
    "            for dim in [\"x\", \"y\", \"z\"]\n",
    "            for t in [0.120, 0.167]],\n",
    "        (pl.col(\"release_speed\") - pl.col(\"prev_release_speed\")).alias(\"velocity_diff\"),\n",
    "        (pl.col(\"effective_speed\") - pl.col(\"prev_effective_speed\")).alias(\"effective_speed_diff\"),\n",
    "        (pl.col(\"pfx_x\") - pl.col(\"prev_pfx_x\")).alias(\"pfx_diff\"),\n",
    "        (pl.col(\"pfx_z\") - pl.col(\"prev_pfx_z\")).alias(\"pfx_z_diff\"),\n",
    "        (pl.col(\"delta_run_exp\") + pl.col(\"prev_delta_run_exp\")).alias(\"seq_delta_run_exp\"),\n",
    "        (pl.col(\"plate_x\") - pl.col(\"prev_plate_x\")).alias(\"plate_x_diff\"),\n",
    "        (pl.col(\"plate_z\") - pl.col(\"prev_plate_z\")).alias(\"plate_z_diff\"),\n",
    "        (((pl.col(\"plate_x\") - pl.col(\"prev_plate_x\") ** 2) + \n",
    "         (pl.col(\"plate_z\") - pl.col(\"prev_plate_z\") ** 2)) ** 0.5).alias(\"distance\"),\n",
    "    )\n",
    "\n",
    "\n",
    "sequence_pitches_lf = (ball_pos_lf\n",
    "                       .pipe(two_pitch_sequences)\n",
    "                       .pipe(add_diff_features))\n",
    "\n",
    "(sequence_pitches_lf\n",
    "    .select(prev_features)\n",
    "    .describe())"
   ]
  },
  {
   "cell_type": "markdown",
   "metadata": {},
   "source": [
    "3D euclidean distances between the baseball at decision and commit points\n",
    "\n",
    "$3Deuclideandistance = \\sqrt{(x_1 - x_2)^2 + (y_1 - y_2)^2 + (z_1 - z_2)^2}$"
   ]
  },
  {
   "cell_type": "code",
   "execution_count": 9,
   "metadata": {},
   "outputs": [
    {
     "data": {
      "text/html": [
       "<div><style>\n",
       ".dataframe > thead > tr,\n",
       ".dataframe > tbody > tr {\n",
       "  text-align: right;\n",
       "  white-space: pre-wrap;\n",
       "}\n",
       "</style>\n",
       "<small>shape: (9, 3)</small><table border=\"1\" class=\"dataframe\"><thead><tr><th>statistic</th><th>3d_dist_0.120</th><th>3d_dist_0.167</th></tr><tr><td>str</td><td>f64</td><td>f64</td></tr></thead><tbody><tr><td>&quot;count&quot;</td><td>6.760001e6</td><td>6.760001e6</td></tr><tr><td>&quot;null_count&quot;</td><td>264710.0</td><td>264710.0</td></tr><tr><td>&quot;mean&quot;</td><td>2.326884</td><td>3.983626</td></tr><tr><td>&quot;std&quot;</td><td>2.976303</td><td>5.162673</td></tr><tr><td>&quot;min&quot;</td><td>0.0</td><td>0.0</td></tr><tr><td>&quot;25%&quot;</td><td>0.433054</td><td>0.629466</td></tr><tr><td>&quot;50%&quot;</td><td>1.089063</td><td>1.732825</td></tr><tr><td>&quot;75%&quot;</td><td>3.176388</td><td>5.559151</td></tr><tr><td>&quot;max&quot;</td><td>867.457789</td><td>935.674319</td></tr></tbody></table></div>"
      ],
      "text/plain": [
       "shape: (9, 3)\n",
       "┌────────────┬───────────────┬───────────────┐\n",
       "│ statistic  ┆ 3d_dist_0.120 ┆ 3d_dist_0.167 │\n",
       "│ ---        ┆ ---           ┆ ---           │\n",
       "│ str        ┆ f64           ┆ f64           │\n",
       "╞════════════╪═══════════════╪═══════════════╡\n",
       "│ count      ┆ 6.760001e6    ┆ 6.760001e6    │\n",
       "│ null_count ┆ 264710.0      ┆ 264710.0      │\n",
       "│ mean       ┆ 2.326884      ┆ 3.983626      │\n",
       "│ std        ┆ 2.976303      ┆ 5.162673      │\n",
       "│ min        ┆ 0.0           ┆ 0.0           │\n",
       "│ 25%        ┆ 0.433054      ┆ 0.629466      │\n",
       "│ 50%        ┆ 1.089063      ┆ 1.732825      │\n",
       "│ 75%        ┆ 3.176388      ┆ 5.559151      │\n",
       "│ max        ┆ 867.457789    ┆ 935.674319    │\n",
       "└────────────┴───────────────┴───────────────┘"
      ]
     },
     "execution_count": 9,
     "metadata": {},
     "output_type": "execute_result"
    }
   ],
   "source": [
    "\n",
    "def add_3D_distances(lf: pl.LazyFrame) -> pl.LazyFrame:\n",
    "    return lf.with_columns(\n",
    "        # decision & commit time distances\n",
    "        (((pl.col(f\"x_{t:.3f}\") - pl.col(f\"prev_x_{t:.3f}\")) ** 2)\n",
    "        + ((pl.col(f\"y_{t:.3f}\") - pl.col(f\"prev_y_{t:.3f}\")) ** 2)\n",
    "        + ((pl.col(f\"z_{t:.3f}\") - pl.col(f\"prev_z_{t:.3f}\")) ** 2)\n",
    "        ** 0.5).alias(f\"3d_dist_{t:.3f}\")\n",
    "        for t in [0.120, 0.167]\n",
    "    )\n",
    "\n",
    "sequence_dist_pitches_lf = sequence_pitches_lf.pipe(add_3D_distances)\n",
    "\n",
    "(sequence_dist_pitches_lf\n",
    "    .select(\"3d_dist_0.120\", \"3d_dist_0.167\")\n",
    "    .describe())"
   ]
  },
  {
   "cell_type": "code",
   "execution_count": null,
   "metadata": {},
   "outputs": [],
   "source": []
  }
 ],
 "metadata": {
  "kernelspec": {
   "display_name": "venv",
   "language": "python",
   "name": "python3"
  },
  "language_info": {
   "codemirror_mode": {
    "name": "ipython",
    "version": 3
   },
   "file_extension": ".py",
   "mimetype": "text/x-python",
   "name": "python",
   "nbconvert_exporter": "python",
   "pygments_lexer": "ipython3",
   "version": "3.12.6"
  }
 },
 "nbformat": 4,
 "nbformat_minor": 2
}
