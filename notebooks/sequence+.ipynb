{
 "cells": [
  {
   "cell_type": "markdown",
   "metadata": {
    "id": "IhyQM2zcCA_0"
   },
   "source": [
    "# Tunnel+\n",
    "\n",
    "***Goal***: To make an improved version of [Location+](https://library.fangraphs.com/pitching/stuff-location-and-pitching-primer/) that incorporates pitch tunneling. <br>\n",
    "**Author**: Jensen Holm <br>\n",
    "**Date**: 2024"
   ]
  },
  {
   "cell_type": "code",
   "execution_count": 1,
   "metadata": {
    "colab": {
     "base_uri": "https://localhost:8080/"
    },
    "collapsed": true,
    "id": "48M5qhksG-mc",
    "outputId": "ef705cff-f042-49f6-f640-2fc4fbac980e"
   },
   "outputs": [
    {
     "name": "stdout",
     "output_type": "stream",
     "text": [
      "Collecting git+https://github.com/Jensen-holm/statcast-era-pitches.git\n",
      "  Cloning https://github.com/Jensen-holm/statcast-era-pitches.git to /private/var/folders/2_/kwjd2wv14q91l3mg7r83n04c0000gn/T/pip-req-build-ft0d3k0k\n",
      "  Running command git clone --filter=blob:none --quiet https://github.com/Jensen-holm/statcast-era-pitches.git /private/var/folders/2_/kwjd2wv14q91l3mg7r83n04c0000gn/T/pip-req-build-ft0d3k0k\n",
      "  Resolved https://github.com/Jensen-holm/statcast-era-pitches.git to commit 6ff4dcb3e47835ef8efbfd8fcddbe490d54fd7ae\n",
      "  Installing build dependencies ... \u001b[?25ldone\n",
      "\u001b[?25h  Getting requirements to build wheel ... \u001b[?25ldone\n",
      "\u001b[?25h  Preparing metadata (pyproject.toml) ... \u001b[?25ldone\n",
      "\u001b[?25hRequirement already satisfied: duckdb in /Users/jensen/Documents/projects/tunnel_plus/venv/lib/python3.12/site-packages (from statcast_pitches==0.1.0) (1.1.2)\n",
      "Requirement already satisfied: polars in /Users/jensen/Documents/projects/tunnel_plus/venv/lib/python3.12/site-packages (from statcast_pitches==0.1.0) (1.12.0)\n",
      "Requirement already satisfied: pyarrow in /Users/jensen/Documents/projects/tunnel_plus/venv/lib/python3.12/site-packages (from statcast_pitches==0.1.0) (18.0.0)\n",
      "\n",
      "\u001b[1m[\u001b[0m\u001b[34;49mnotice\u001b[0m\u001b[1;39;49m]\u001b[0m\u001b[39;49m A new release of pip is available: \u001b[0m\u001b[31;49m24.2\u001b[0m\u001b[39;49m -> \u001b[0m\u001b[32;49m24.3.1\u001b[0m\n",
      "\u001b[1m[\u001b[0m\u001b[34;49mnotice\u001b[0m\u001b[1;39;49m]\u001b[0m\u001b[39;49m To update, run: \u001b[0m\u001b[32;49mpip install --upgrade pip\u001b[0m\n",
      "Note: you may need to restart the kernel to use updated packages.\n"
     ]
    }
   ],
   "source": [
    "%pip install git+https://github.com/Jensen-holm/statcast-era-pitches.git"
   ]
  },
  {
   "cell_type": "code",
   "execution_count": 2,
   "metadata": {
    "id": "dd-JEg8_CA_2"
   },
   "outputs": [],
   "source": [
    "import statcast_pitches\n",
    "import polars as pl\n",
    "from plotnine import *\n",
    "import plotly.express as px\n",
    "import os\n",
    "\n",
    "DATA_DIR = os.path.join(\"..\", \"data\")"
   ]
  },
  {
   "cell_type": "markdown",
   "metadata": {
    "id": "1OchF0j5CA_2"
   },
   "source": [
    "## Loading Data\n",
    "\n",
    "Using all pitches thrown in the statcast-era (2015-present) as our data for this model. <br>\n",
    "I will also be using `../data/run_values.csv` for calculating run values of each pitch, this data represents 2024 only.\n",
    "\n",
    "**Data Dictionary**: [link](https://baseballsavant.mlb.com/csv-docs) <br>\n",
    "**statcast_pitches package info**: [link](https://github.com/Jensen-holm/statcast-era-pitches)"
   ]
  },
  {
   "cell_type": "code",
   "execution_count": 3,
   "metadata": {
    "colab": {
     "base_uri": "https://localhost:8080/"
    },
    "id": "tuo74Jy-CA_2",
    "outputId": "b231732e-f4c5-4099-ad59-04c54e6bad08"
   },
   "outputs": [
    {
     "name": "stdout",
     "output_type": "stream",
     "text": [
      "N Pitches: 5573157\n",
      "Date Range: 2017-04-02 - 2024-10-30\n"
     ]
    }
   ],
   "source": [
    "# use statcast pitches to get all pitches thrown in since hawkeye began\n",
    "pitches_lf: pl.LazyFrame = (statcast_pitches.load()\n",
    "                            .filter(pl.col(\"game_date\").dt.year() >= 2017))\n",
    "\n",
    "latest_date = pitches_lf.select(\"game_date\").max().collect().item().date()\n",
    "earliest_date = pitches_lf.select(\"game_date\").min().collect().item().date()\n",
    "n_pitches = pitches_lf.select(pl.len()).collect().item()\n",
    "\n",
    "print(f\"N Pitches: {n_pitches}\")\n",
    "print(f\"Date Range: {earliest_date} - {latest_date}\")"
   ]
  },
  {
   "cell_type": "code",
   "execution_count": 4,
   "metadata": {
    "id": "a68fgGrJCA_3"
   },
   "outputs": [],
   "source": [
    "run_values_24 = pl.scan_csv(\n",
    "    \"https://raw.githubusercontent.com/Jensen-holm/tunnel-plus/refs/heads/main/data/run_values.csv\"\n",
    ").rename({\"event\": \"events\"}) # it is called 'events' in pitches_df"
   ]
  },
  {
   "cell_type": "markdown",
   "metadata": {
    "id": "fgooM30WCA_3"
   },
   "source": [
    "# Feature Engineering\n",
    "\n",
    "adding the following features to `pitches_df`\n",
    "\n",
    "| Feature Name | Description |\n",
    "|------|-------------|\n",
    "| **delta_run_exp** | run value associated with the pitch outcome from `run_values_24`|\n",
    "| **x_0.120** | position in the x dimension of the pitch at decision time (~0.12s) |\n",
    "| **y_0.120** | position in the y dimension of the pitch at decision time (~0.12s) |\n",
    "| **z_0.120** | position in the z dimension of the pitch at decision time (~0.12s) |\n",
    "| **x_0.167** | position in the x dimension of the pitch at commit time (~0.167s) |\n",
    "| **y_0.167** | position in the y dimension of the pitch at commit time (~0.167s) |\n",
    "| **z_0.167** | position in the z dimension of the pitch at commit time (~0.167s) |\n",
    "| **velocity_diff** | difference in velocity between pitches in a two pitch sequence |\n",
    "| **effective_velocity_diff** | difference in effective velocity between pitches in a two pitch sequence |\n",
    "| **pfx_x_diff** | difference in horizontal movement between pitches in a two pitch sequence |\n",
    "| **pfx_z_diff** | difference in vertical movement between pitches in a two pitch sequence |\n",
    "| **3d_dist_0.167** | 3D euclidean distance between pitches in a two pitch sequence 0.167 seconds after release |\n",
    "| **3d_dist_0.120** | 3D distance between pitches in a two pitch sequence at 0.120 seconds after release |\n",
    "| **distance** | 2D euclidean distance between pitch locations when crossing the plate in a two pitch sequence |\n",
    "| **seq_delta_run_exp** | sum of `delta_run_exp` in a two pitch sequence |\n",
    "| **plate_x_diff** | difference in plate_x between pitches in a two pitch sequence |\n",
    "| **plate_z_diff** | difference in plate_z between pitches in a two pitch sequence |\n",
    "\n",
    "On top of adding these features, attributes from LHP should be mirrored as if they were thrown by a RHP for consistency"
   ]
  },
  {
   "cell_type": "markdown",
   "metadata": {
    "id": "_Kua2vl3CA_3"
   },
   "source": [
    "Joining the expected runs from run_values_24 to the pitches dataframe so that each pitch has an associated run value.\n",
    "\n",
    "**New Features**\n",
    "\n",
    "- `delta_run_exp`"
   ]
  },
  {
   "cell_type": "code",
   "execution_count": 5,
   "metadata": {
    "colab": {
     "base_uri": "https://localhost:8080/",
     "height": 376
    },
    "id": "1fvGzlTLCA_3",
    "outputId": "622a8b6c-c8a6-4912-a09c-1f4b11217527"
   },
   "outputs": [
    {
     "data": {
      "text/html": [
       "<div><style>\n",
       ".dataframe > thead > tr,\n",
       ".dataframe > tbody > tr {\n",
       "  text-align: right;\n",
       "  white-space: pre-wrap;\n",
       "}\n",
       "</style>\n",
       "<small>shape: (9, 6)</small><table border=\"1\" class=\"dataframe\"><thead><tr><th>statistic</th><th>pitch_type</th><th>description</th><th>balls</th><th>strikes</th><th>delta_run_exp</th></tr><tr><td>str</td><td>str</td><td>str</td><td>f64</td><td>f64</td><td>f64</td></tr></thead><tbody><tr><td>&quot;count&quot;</td><td>&quot;5477692&quot;</td><td>&quot;5573157&quot;</td><td>5.573157e6</td><td>5.573157e6</td><td>5.383124e6</td></tr><tr><td>&quot;null_count&quot;</td><td>&quot;95465&quot;</td><td>&quot;0&quot;</td><td>0.0</td><td>0.0</td><td>190033.0</td></tr><tr><td>&quot;mean&quot;</td><td>null</td><td>null</td><td>0.875817</td><td>0.891433</td><td>0.000004</td></tr><tr><td>&quot;std&quot;</td><td>null</td><td>null</td><td>0.96787</td><td>0.827898</td><td>0.243725</td></tr><tr><td>&quot;min&quot;</td><td>&quot;CH&quot;</td><td>&quot;ball&quot;</td><td>0.0</td><td>0.0</td><td>-1.661</td></tr><tr><td>&quot;25%&quot;</td><td>null</td><td>null</td><td>0.0</td><td>0.0</td><td>-0.067</td></tr><tr><td>&quot;50%&quot;</td><td>null</td><td>null</td><td>1.0</td><td>1.0</td><td>-0.018</td></tr><tr><td>&quot;75%&quot;</td><td>null</td><td>null</td><td>1.0</td><td>2.0</td><td>0.037</td></tr><tr><td>&quot;max&quot;</td><td>&quot;SV&quot;</td><td>&quot;swinging_strike_blocked&quot;</td><td>4.0</td><td>3.0</td><td>3.702</td></tr></tbody></table></div>"
      ],
      "text/plain": [
       "shape: (9, 6)\n",
       "┌────────────┬────────────┬─────────────────────────┬────────────┬────────────┬───────────────┐\n",
       "│ statistic  ┆ pitch_type ┆ description             ┆ balls      ┆ strikes    ┆ delta_run_exp │\n",
       "│ ---        ┆ ---        ┆ ---                     ┆ ---        ┆ ---        ┆ ---           │\n",
       "│ str        ┆ str        ┆ str                     ┆ f64        ┆ f64        ┆ f64           │\n",
       "╞════════════╪════════════╪═════════════════════════╪════════════╪════════════╪═══════════════╡\n",
       "│ count      ┆ 5477692    ┆ 5573157                 ┆ 5.573157e6 ┆ 5.573157e6 ┆ 5.383124e6    │\n",
       "│ null_count ┆ 95465      ┆ 0                       ┆ 0.0        ┆ 0.0        ┆ 190033.0      │\n",
       "│ mean       ┆ null       ┆ null                    ┆ 0.875817   ┆ 0.891433   ┆ 0.000004      │\n",
       "│ std        ┆ null       ┆ null                    ┆ 0.96787    ┆ 0.827898   ┆ 0.243725      │\n",
       "│ min        ┆ CH         ┆ ball                    ┆ 0.0        ┆ 0.0        ┆ -1.661        │\n",
       "│ 25%        ┆ null       ┆ null                    ┆ 0.0        ┆ 0.0        ┆ -0.067        │\n",
       "│ 50%        ┆ null       ┆ null                    ┆ 1.0        ┆ 1.0        ┆ -0.018        │\n",
       "│ 75%        ┆ null       ┆ null                    ┆ 1.0        ┆ 2.0        ┆ 0.037         │\n",
       "│ max        ┆ SV         ┆ swinging_strike_blocked ┆ 4.0        ┆ 3.0        ┆ 3.702         │\n",
       "└────────────┴────────────┴─────────────────────────┴────────────┴────────────┴───────────────┘"
      ]
     },
     "execution_count": 5,
     "metadata": {},
     "output_type": "execute_result"
    }
   ],
   "source": [
    "\n",
    "description_replace_mapping = {\n",
    "    \"Ball\": \"ball\",\n",
    "    \"In play, run(s)\": \"hit_into_play\",\n",
    "    \"In play, out(s)\": \"hit_into_play\",\n",
    "    \"In play, no out\": \"hit_into_play\",\n",
    "    \"Called Strike\": \"called_strike\",\n",
    "    \"Foul\": \"foul\",\n",
    "    \"Swinging Strike\": \"swinging_strike\",\n",
    "    \"Blocked Ball\": \"ball\",\n",
    "    \"Swinging Strike (Blocked)\": \"swinging_strike\",\n",
    "    \"Foul Tip\": \"swinging_strike\",\n",
    "    \"Foul Bunt\": \"foul\",\n",
    "    \"Hit By Pitch\": \"hit_by_pitch\",\n",
    "    \"Pitchout\": \"ball\",\n",
    "    \"Missed Bunt\": \"swinging_strike\",\n",
    "    \"Bunt Foul Tip\": \"swinging_strike\",\n",
    "    \"Foul Pitchout\": \"foul\",\n",
    "    \"Ball In Dirt\": \"ball\",\n",
    "}\n",
    "\n",
    "def add_pitch_run_value(lf: pl.LazyFrame) -> pl.LazyFrame:\n",
    "    \"\"\"Takes in a dataframe of pitches, and adds 2024 run value to each one\"\"\"\n",
    "    pitch_runs_lf = lf.join(\n",
    "        other=run_values_24,\n",
    "        on=[\"events\", \"balls\", \"strikes\"],\n",
    "        how=\"left\",\n",
    "    )\n",
    "\n",
    "    mapped_des_pitches = pitch_runs_lf.with_columns([\n",
    "        pl.col(\"description\")\n",
    "        .replace_strict(description_replace_mapping, default=None)\n",
    "        .alias(\"play_des\"),\n",
    "    ])\n",
    "\n",
    "    pitches_run_value_lf = mapped_des_pitches.join(\n",
    "        other=run_values_24,\n",
    "        right_on=[\"events\", \"balls\", \"strikes\"],\n",
    "        left_on=[\"play_des\", \"balls\", \"strikes\"],\n",
    "        how=\"left\",\n",
    "        suffix=\"_des\",\n",
    "    ).with_columns([\n",
    "        pl.when(pl.col(\"delta_run_exp\").is_null())\n",
    "        .then(pl.col(\"delta_run_exp_des\"))\n",
    "        .otherwise(pl.col(\"delta_run_exp\"))\n",
    "        .alias(\"delta_run_exp\"),\n",
    "    ])\n",
    "    return pitches_run_value_lf\n",
    "\n",
    "pitches_run_value_lf = pitches_lf.pipe(add_pitch_run_value)\n",
    "pitches_run_value_lf.select(\n",
    "    \"pitch_type\",\n",
    "    \"description\",\n",
    "    \"balls\",\n",
    "    \"strikes\",\n",
    "    \"delta_run_exp\",\n",
    ").describe()"
   ]
  },
  {
   "cell_type": "markdown",
   "metadata": {
    "id": "4MsyUTqeCA_3"
   },
   "source": [
    "In order to keep it simple, I am mirroring the movement and the horizontal release position of each pitch thrown from LHP, to as if it were thrown by RHP."
   ]
  },
  {
   "cell_type": "code",
   "execution_count": 6,
   "metadata": {
    "colab": {
     "base_uri": "https://localhost:8080/",
     "height": 497
    },
    "id": "Kz5wYZ66CA_3",
    "outputId": "e37b2636-2532-4fd9-8d2a-2595acaaa53d"
   },
   "outputs": [
    {
     "data": {
      "image/png": "[encoded data removed]"
     },
     "metadata": {
      "image/png": {
       "height": 480,
       "width": 640
      }
     },
     "output_type": "display_data"
    }
   ],
   "source": [
    "def mirror_lhp_to_rhp(lf: pl.LazyFrame) -> pl.LazyFrame:\n",
    "    return lf.with_columns(\n",
    "        # mirror LHP horizontal movement\n",
    "        pl.when(pl.col(\"p_throws\") == \"L\")\n",
    "        .then(-pl.col(\"pfx_x\"))\n",
    "        .otherwise(pl.col(\"pfx_x\")),\n",
    "\n",
    "        # also mirror the horizontal release point\n",
    "        # (release_pos_x is from catcher perspective)\n",
    "        pl.when(pl.col(\"p_throws\") == \"L\")\n",
    "        .then(-pl.col(\"release_pos_x\"))\n",
    "        .otherwise(pl.col(\"release_pos_x\")),\n",
    "    )\n",
    "\n",
    "mirrored_pitches_lf = pitches_run_value_lf.pipe(mirror_lhp_to_rhp)\n",
    "\n",
    "# for verification\n",
    "movement_plt = (\n",
    "    ggplot(\n",
    "        mirrored_pitches_lf\n",
    "        .filter(pl.col(\"pitch_type\").is_in([\"FF\", \"KC\", \"SL\", \"CH\"]))\n",
    "        .group_by(\"pitch_type\", \"p_throws\")\n",
    "        .agg(\n",
    "            pl.col(\"pfx_x\").median().alias(\"median_pfx_x\"),\n",
    "            pl.col(\"pfx_z\").median().alias(\"median_pfx_z\"),\n",
    "        ).collect(),\n",
    "        aes(x=\"median_pfx_x\", y=\"median_pfx_z\", color=\"pitch_type\", shape=\"p_throws\"))\n",
    "    + geom_point()\n",
    "    + geom_vline(xintercept=0)\n",
    "    + geom_hline(yintercept=0)\n",
    "    + labs(\n",
    "        title=\"Mirrored LHP Movement Verification\",\n",
    "        x=\"median Horizontal Movement (ft.)\",\n",
    "        y=\"median Vertical Movement (ft.)\",\n",
    "        shape=\"Pitcher Hand\",\n",
    "        subtitle=\"Colors represent pitch_type\",\n",
    "    )\n",
    ")\n",
    "\n",
    "movement_plt.show()"
   ]
  },
  {
   "cell_type": "markdown",
   "metadata": {
    "id": "CCzg9FpHCA_3"
   },
   "source": [
    "Horizontal movement profiles are mirrored now!"
   ]
  },
  {
   "cell_type": "markdown",
   "metadata": {
    "id": "6-ajJ2-HCA_3"
   },
   "source": [
    "## 3D Pitch Location Estimation\n",
    "\n",
    "Now to add ball positions in 3D space at both [decision time]() (0.12s) & [commit time]() (0.167s)\n",
    "\n",
    "### Step 1: Time to 50ft. from home plate\n",
    "\n",
    "Estimate the time it took the baseball to travel from release point to 50ft from home plate (the point where we have measurements for a &v in x, y, z dimensions)\n",
    "\n",
    "$t_{50} = \\frac{(60 + 9/12) - 50 - extension}{vft * 1.05}$\n",
    "\n",
    "Where ...\n",
    "- $extension = $ distance from the rubber where the pitch was released<br>\n",
    "- $vft = $ release_speed in ft/s\n",
    "\n",
    "I multiply the velocity by 1.05 in order to dialate the time by 5%. This makes our estimation of position more accurate because it helps account for error that we get from assuming that acceleration is constant in the kinematic equations for displacement.\n",
    "\n",
    "**New Features**\n",
    "- `t50`: estimated time it took the ball to get to 50ft. from home plate\n",
    "- `release_pos_y`: release position in the y dimension converted to feet\n"
   ]
  },
  {
   "cell_type": "code",
   "execution_count": 7,
   "metadata": {
    "colab": {
     "base_uri": "https://localhost:8080/",
     "height": 376
    },
    "id": "ZOzfn-aEOsAs",
    "outputId": "94a9931b-565a-487c-95f8-0286d2dfb55a"
   },
   "outputs": [
    {
     "data": {
      "text/html": [
       "<div><style>\n",
       ".dataframe > thead > tr,\n",
       ".dataframe > tbody > tr {\n",
       "  text-align: right;\n",
       "  white-space: pre-wrap;\n",
       "}\n",
       "</style>\n",
       "<small>shape: (9, 3)</small><table border=\"1\" class=\"dataframe\"><thead><tr><th>statistic</th><th>release_pos_y</th><th>t50</th></tr><tr><td>str</td><td>f64</td><td>f64</td></tr></thead><tbody><tr><td>&quot;count&quot;</td><td>5.476981e6</td><td>5.470509e6</td></tr><tr><td>&quot;null_count&quot;</td><td>96176.0</td><td>102648.0</td></tr><tr><td>&quot;mean&quot;</td><td>4.522888</td><td>0.0333</td></tr><tr><td>&quot;std&quot;</td><td>0.042568</td><td>0.005012</td></tr><tr><td>&quot;min&quot;</td><td>2.381667</td><td>-0.009665</td></tr><tr><td>&quot;25%&quot;</td><td>4.494167</td><td>0.0299</td></tr><tr><td>&quot;50%&quot;</td><td>4.521667</td><td>0.032807</td></tr><tr><td>&quot;75%&quot;</td><td>4.550833</td><td>0.036119</td></tr><tr><td>&quot;max&quot;</td><td>4.995</td><td>0.152726</td></tr></tbody></table></div>"
      ],
      "text/plain": [
       "shape: (9, 3)\n",
       "┌────────────┬───────────────┬────────────┐\n",
       "│ statistic  ┆ release_pos_y ┆ t50        │\n",
       "│ ---        ┆ ---           ┆ ---        │\n",
       "│ str        ┆ f64           ┆ f64        │\n",
       "╞════════════╪═══════════════╪════════════╡\n",
       "│ count      ┆ 5.476981e6    ┆ 5.470509e6 │\n",
       "│ null_count ┆ 96176.0       ┆ 102648.0   │\n",
       "│ mean       ┆ 4.522888      ┆ 0.0333     │\n",
       "│ std        ┆ 0.042568      ┆ 0.005012   │\n",
       "│ min        ┆ 2.381667      ┆ -0.009665  │\n",
       "│ 25%        ┆ 4.494167      ┆ 0.0299     │\n",
       "│ 50%        ┆ 4.521667      ┆ 0.032807   │\n",
       "│ 75%        ┆ 4.550833      ┆ 0.036119   │\n",
       "│ max        ┆ 4.995         ┆ 0.152726   │\n",
       "└────────────┴───────────────┴────────────┘"
      ]
     },
     "execution_count": 7,
     "metadata": {},
     "output_type": "execute_result"
    }
   ],
   "source": [
    "def displacement(p0, v0, t, a):\n",
    "    return p0 + v0 * t + 0.5 * a * t**2\n",
    "\n",
    "def convert_release_y_to_ft(lf: pl.LazyFrame) -> pl.LazyFrame:\n",
    "    return lf.with_columns(pl.col(\"release_pos_y\") / 12)\n",
    "\n",
    "def estimate_time_to_50ft(lf: pl.LazyFrame) -> pl.LazyFrame:\n",
    "    return lf.with_columns(\n",
    "        ((((60 + 9/12) - 50) - pl.col(\"release_extension\"))\n",
    "        / ((pl.col(\"release_speed\") * (5280/3600) * 1.05))).alias(\"t50\")\n",
    "    )\n",
    "\n",
    "time_to_50ft_lf = (mirrored_pitches_lf\n",
    "                   .pipe(convert_release_y_to_ft)\n",
    "                   .pipe(estimate_time_to_50ft))\n",
    "\n",
    "(time_to_50ft_lf\n",
    "    .select(\"release_pos_y\", \"t50\")\n",
    "    .describe())"
   ]
  },
  {
   "cell_type": "markdown",
   "metadata": {
    "id": "cGFheH9oOz3z"
   },
   "source": [
    "### Step 2: x, y, & z positions at 50ft. from home plate\n",
    "\n",
    "For this I use the kinematic equations with the acceleration, velocity and now our time estimate, $t_{50}$, to calculate displacement in each dimension.\n",
    "\n",
    "$d_{50} = r_{dim} + v_{dim} * t_{50} * \\frac{1}{2} * a_{dim} * t_{50}^2$\n",
    "\n",
    "Where ...\n",
    "- $r_{dim} = $ release position in x, y or z dimension\n",
    "- $v_{dim} = $ velocity at 50ft. from home plate in x, y or z dimension\n",
    "- $a_{dim} = $ acceleration at 50ft. from home plate in x, y or z dimension\n",
    "- $t_{50} = $ estimated time that it took to get to 50ft. from home plate from step 1\n",
    "\n",
    "**New Features**\n",
    "- `x50`: position in the x dimension when the ball is 50ft. from home plate\n",
    "- `y50`: position in the y dimension when the ball is 50ft. from home plate\n",
    "- `z50`: position in the z dimension when the ball is 50ft. from home plate\n"
   ]
  },
  {
   "cell_type": "code",
   "execution_count": 8,
   "metadata": {
    "colab": {
     "base_uri": "https://localhost:8080/",
     "height": 376
    },
    "id": "HAFosMUMO3Q7",
    "outputId": "254f0dff-bec7-4066-fdd0-5386f208bf76"
   },
   "outputs": [
    {
     "data": {
      "text/html": [
       "<div><style>\n",
       ".dataframe > thead > tr,\n",
       ".dataframe > tbody > tr {\n",
       "  text-align: right;\n",
       "  white-space: pre-wrap;\n",
       "}\n",
       "</style>\n",
       "<small>shape: (9, 4)</small><table border=\"1\" class=\"dataframe\"><thead><tr><th>statistic</th><th>x50</th><th>y50</th><th>z50</th></tr><tr><td>str</td><td>f64</td><td>f64</td><td>f64</td></tr></thead><tbody><tr><td>&quot;count&quot;</td><td>5.470509e6</td><td>5.470509e6</td><td>5.470509e6</td></tr><tr><td>&quot;null_count&quot;</td><td>102648.0</td><td>102648.0</td><td>102648.0</td></tr><tr><td>&quot;mean&quot;</td><td>-1.846359</td><td>0.265969</td><td>5.692011</td></tr><tr><td>&quot;std&quot;</td><td>0.760539</td><td>0.436103</td><td>0.487746</td></tr><tr><td>&quot;min&quot;</td><td>-7.846393</td><td>-4.443778</td><td>-0.040276</td></tr><tr><td>&quot;25%&quot;</td><td>-2.313389</td><td>-0.0147</td><td>5.437907</td></tr><tr><td>&quot;50%&quot;</td><td>-1.80466</td><td>0.253664</td><td>5.723568</td></tr><tr><td>&quot;75%&quot;</td><td>-1.326411</td><td>0.580118</td><td>5.997305</td></tr><tr><td>&quot;max&quot;</td><td>5.756177</td><td>5.304399</td><td>10.52343</td></tr></tbody></table></div>"
      ],
      "text/plain": [
       "shape: (9, 4)\n",
       "┌────────────┬────────────┬────────────┬────────────┐\n",
       "│ statistic  ┆ x50        ┆ y50        ┆ z50        │\n",
       "│ ---        ┆ ---        ┆ ---        ┆ ---        │\n",
       "│ str        ┆ f64        ┆ f64        ┆ f64        │\n",
       "╞════════════╪════════════╪════════════╪════════════╡\n",
       "│ count      ┆ 5.470509e6 ┆ 5.470509e6 ┆ 5.470509e6 │\n",
       "│ null_count ┆ 102648.0   ┆ 102648.0   ┆ 102648.0   │\n",
       "│ mean       ┆ -1.846359  ┆ 0.265969   ┆ 5.692011   │\n",
       "│ std        ┆ 0.760539   ┆ 0.436103   ┆ 0.487746   │\n",
       "│ min        ┆ -7.846393  ┆ -4.443778  ┆ -0.040276  │\n",
       "│ 25%        ┆ -2.313389  ┆ -0.0147    ┆ 5.437907   │\n",
       "│ 50%        ┆ -1.80466   ┆ 0.253664   ┆ 5.723568   │\n",
       "│ 75%        ┆ -1.326411  ┆ 0.580118   ┆ 5.997305   │\n",
       "│ max        ┆ 5.756177   ┆ 5.304399   ┆ 10.52343   │\n",
       "└────────────┴────────────┴────────────┴────────────┘"
      ]
     },
     "execution_count": 8,
     "metadata": {},
     "output_type": "execute_result"
    }
   ],
   "source": [
    "def estimate_pos_at_50ft(lf: pl.LazyFrame) -> pl.LazyFrame:\n",
    "    return lf.with_columns(\n",
    "        displacement(\n",
    "            p0=pl.col(f\"release_pos_{d}\"),\n",
    "            v0=pl.col(f\"v{d}0\"),\n",
    "            a=pl.col(f\"a{d}\"),\n",
    "            t=pl.col(\"t50\"),\n",
    "        ).alias(f\"{d}50\")\n",
    "        for d in [\"x\", \"y\", \"z\"]\n",
    "    )\n",
    "\n",
    "pos_at_50ft_lf = time_to_50ft_lf.pipe(estimate_pos_at_50ft)\n",
    "\n",
    "(pos_at_50ft_lf\n",
    "    .select(\"x50\", \"y50\", \"z50\")\n",
    "    .describe())"
   ]
  },
  {
   "cell_type": "markdown",
   "metadata": {
    "id": "T-GVbYgyO2Nr"
   },
   "source": [
    "### Step 3: Estimate 3D positions at commit time & decision time\n",
    "\n",
    "Now we can make an estimate of where the ball is in all dimensions, at any given time. But I am interested specifically in 0.120 seconds after release (commit time), and 0.167 seconds after release (decision time).\n",
    "\n",
    "For this I use the same formula that I used to esimate position at 50ft. from home plate, except I start from that 50ft. mark by calculating the difference in time between $t_{50}$ and $t_{i}$.\n",
    "\n",
    "$d_{i} = p_{50} + v_{50} * (t_{50} - t_{i}) * \\frac{1}{2} * a_{50} * (t_{50} - t_{i})^2$\n",
    "\n",
    "Where ...\n",
    "- $p_{50} = $ position in x, y, or z dimension at 50 ft. from home plate\n",
    "\n",
    "I am assuming that both $v$ and $a$ are constant, again using a 5% time dilation as a crutch to help account for this.\n",
    "\n",
    "**New Features**\n",
    "- `x_0.120`: position in the x dimension at 0.120 seconds after release (commit time)\n",
    "- `y_0.120`: position in the y dimension at 0.120 seconds after release (commit time)\n",
    "- `y_0.120`: position in the z dimension at 0.120 seconds after release (commit time)\n",
    "- `x_0.167`: position in the x dimension at 0.120 seconds after release (decision time)\n",
    "- `y_0.167`: position in the y dimension at 0.120 seconds after release (decision time)\n",
    "- `y_0.167`: position in the z dimension at 0.120 seconds after release (decision time)\n",
    "- `x_plate`: position in the x dimension when the ball crossed the plate\n",
    "- `y_plate`: position in the y dimension when the ball crossed the plate\n",
    "- `z_plate`: position in the z dimension when the ball crossed the plate\n"
   ]
  },
  {
   "cell_type": "code",
   "execution_count": 9,
   "metadata": {
    "colab": {
     "base_uri": "https://localhost:8080/",
     "height": 376
    },
    "id": "iVM-ngf4Esmv",
    "outputId": "7fa4aeca-4c6b-4929-d406-3739cacca018"
   },
   "outputs": [
    {
     "data": {
      "text/html": [
       "<div><style>\n",
       ".dataframe > thead > tr,\n",
       ".dataframe > tbody > tr {\n",
       "  text-align: right;\n",
       "  white-space: pre-wrap;\n",
       "}\n",
       "</style>\n",
       "<small>shape: (9, 11)</small><table border=\"1\" class=\"dataframe\"><thead><tr><th>statistic</th><th>t50</th><th>x_0.120</th><th>y_0.120</th><th>z_0.120</th><th>x_0.167</th><th>y_0.167</th><th>z_0.167</th><th>x_plate</th><th>y_plate</th><th>z_plate</th></tr><tr><td>str</td><td>f64</td><td>f64</td><td>f64</td><td>f64</td><td>f64</td><td>f64</td><td>f64</td><td>f64</td><td>f64</td><td>f64</td></tr></thead><tbody><tr><td>&quot;count&quot;</td><td>5.470509e6</td><td>5.470509e6</td><td>5.470509e6</td><td>5.470509e6</td><td>5.470509e6</td><td>5.470509e6</td><td>5.470509e6</td><td>5.470509e6</td><td>5.470509e6</td><td>5.470509e6</td></tr><tr><td>&quot;null_count&quot;</td><td>102648.0</td><td>102648.0</td><td>102648.0</td><td>102648.0</td><td>102648.0</td><td>102648.0</td><td>102648.0</td><td>102648.0</td><td>102648.0</td><td>102648.0</td></tr><tr><td>&quot;mean&quot;</td><td>0.0333</td><td>-1.643612</td><td>-10.858424</td><td>5.250214</td><td>-1.543534</td><td>-16.790333</td><td>4.939986</td><td>-1.123109</td><td>-45.173127</td><td>2.594183</td></tr><tr><td>&quot;std&quot;</td><td>0.005012</td><td>0.992907</td><td>1.040132</td><td>0.479063</td><td>1.167045</td><td>1.430042</td><td>0.518279</td><td>2.085956</td><td>0.473152</td><td>0.889501</td></tr><tr><td>&quot;min&quot;</td><td>-0.009665</td><td>-14.673224</td><td>-13.690836</td><td>-3.290693</td><td>-19.925201</td><td>-20.689997</td><td>-7.129412</td><td>-120.090056</td><td>-141.159755</td><td>-77.230464</td></tr><tr><td>&quot;25%&quot;</td><td>0.0299</td><td>-2.107713</td><td>-11.679889</td><td>4.954112</td><td>-2.022346</td><td>-17.919794</td><td>4.602711</td><td>-1.979845</td><td>-45.48471</td><td>2.015718</td></tr><tr><td>&quot;50%&quot;</td><td>0.032807</td><td>-1.440455</td><td>-11.040376</td><td>5.245208</td><td>-1.232763</td><td>-17.043189</td><td>4.921396</td><td>-0.415028</td><td>-45.164539</td><td>2.594464</td></tr><tr><td>&quot;75%&quot;</td><td>0.036119</td><td>-0.964504</td><td>-10.132981</td><td>5.547362</td><td>-0.752247</td><td>-15.793579</td><td>5.258804</td><td>0.290306</td><td>-44.855883</td><td>3.174938</td></tr><tr><td>&quot;max&quot;</td><td>0.152726</td><td>5.82325</td><td>-0.094792</td><td>10.53476</td><td>6.015495</td><td>-1.995303</td><td>10.630671</td><td>10.677908</td><td>-39.491996</td><td>13.760502</td></tr></tbody></table></div>"
      ],
      "text/plain": [
       "shape: (9, 11)\n",
       "┌───────────┬───────────┬───────────┬───────────┬───┬───────────┬───────────┬───────────┬──────────┐\n",
       "│ statistic ┆ t50       ┆ x_0.120   ┆ y_0.120   ┆ … ┆ z_0.167   ┆ x_plate   ┆ y_plate   ┆ z_plate  │\n",
       "│ ---       ┆ ---       ┆ ---       ┆ ---       ┆   ┆ ---       ┆ ---       ┆ ---       ┆ ---      │\n",
       "│ str       ┆ f64       ┆ f64       ┆ f64       ┆   ┆ f64       ┆ f64       ┆ f64       ┆ f64      │\n",
       "╞═══════════╪═══════════╪═══════════╪═══════════╪═══╪═══════════╪═══════════╪═══════════╪══════════╡\n",
       "│ count     ┆ 5.470509e ┆ 5.470509e ┆ 5.470509e ┆ … ┆ 5.470509e ┆ 5.470509e ┆ 5.470509e ┆ 5.470509 │\n",
       "│           ┆ 6         ┆ 6         ┆ 6         ┆   ┆ 6         ┆ 6         ┆ 6         ┆ e6       │\n",
       "│ null_coun ┆ 102648.0  ┆ 102648.0  ┆ 102648.0  ┆ … ┆ 102648.0  ┆ 102648.0  ┆ 102648.0  ┆ 102648.0 │\n",
       "│ t         ┆           ┆           ┆           ┆   ┆           ┆           ┆           ┆          │\n",
       "│ mean      ┆ 0.0333    ┆ -1.643612 ┆ -10.85842 ┆ … ┆ 4.939986  ┆ -1.123109 ┆ -45.17312 ┆ 2.594183 │\n",
       "│           ┆           ┆           ┆ 4         ┆   ┆           ┆           ┆ 7         ┆          │\n",
       "│ std       ┆ 0.005012  ┆ 0.992907  ┆ 1.040132  ┆ … ┆ 0.518279  ┆ 2.085956  ┆ 0.473152  ┆ 0.889501 │\n",
       "│ min       ┆ -0.009665 ┆ -14.67322 ┆ -13.69083 ┆ … ┆ -7.129412 ┆ -120.0900 ┆ -141.1597 ┆ -77.2304 │\n",
       "│           ┆           ┆ 4         ┆ 6         ┆   ┆           ┆ 56        ┆ 55        ┆ 64       │\n",
       "│ 25%       ┆ 0.0299    ┆ -2.107713 ┆ -11.67988 ┆ … ┆ 4.602711  ┆ -1.979845 ┆ -45.48471 ┆ 2.015718 │\n",
       "│           ┆           ┆           ┆ 9         ┆   ┆           ┆           ┆           ┆          │\n",
       "│ 50%       ┆ 0.032807  ┆ -1.440455 ┆ -11.04037 ┆ … ┆ 4.921396  ┆ -0.415028 ┆ -45.16453 ┆ 2.594464 │\n",
       "│           ┆           ┆           ┆ 6         ┆   ┆           ┆           ┆ 9         ┆          │\n",
       "│ 75%       ┆ 0.036119  ┆ -0.964504 ┆ -10.13298 ┆ … ┆ 5.258804  ┆ 0.290306  ┆ -44.85588 ┆ 3.174938 │\n",
       "│           ┆           ┆           ┆ 1         ┆   ┆           ┆           ┆ 3         ┆          │\n",
       "│ max       ┆ 0.152726  ┆ 5.82325   ┆ -0.094792 ┆ … ┆ 10.630671 ┆ 10.677908 ┆ -39.49199 ┆ 13.76050 │\n",
       "│           ┆           ┆           ┆           ┆   ┆           ┆           ┆ 6         ┆ 2        │\n",
       "└───────────┴───────────┴───────────┴───────────┴───┴───────────┴───────────┴───────────┴──────────┘"
      ]
     },
     "execution_count": 9,
     "metadata": {},
     "output_type": "execute_result"
    }
   ],
   "source": [
    "def estimate_time_to_plate(lf: pl.LazyFrame) -> pl.LazyFrame:\n",
    "    return lf.with_columns(\n",
    "        (((60 + 9/12) - pl.col(\"release_extension\"))\n",
    "        / ((pl.col(\"release_speed\") * (5280/3600) * 1.05))).alias(\"t_plate\")\n",
    "    )\n",
    "\n",
    "def estimate_ball_pos_at_plate(lf: pl.LazyFrame) -> pl.LazyFrame:\n",
    "    return lf.with_columns(\n",
    "        displacement(\n",
    "            p0=pl.col(f\"{d}50\"),\n",
    "            v0=pl.col(f\"v{d}0\"),\n",
    "            a=pl.col(f\"a{d}\"),\n",
    "            t=pl.col(\"t_plate\") - pl.col(\"t50\"),\n",
    "        ).alias(f\"{d}_plate\")\n",
    "        for d in [\"x\", \"y\", \"z\"]\n",
    "    )\n",
    "\n",
    "def estimate_ball_pos_at_t(lf: pl.LazyFrame, times: list[float]) -> pl.LazyFrame:\n",
    "    return lf.with_columns(\n",
    "        displacement(\n",
    "            p0=pl.col(f\"{d}50\"),\n",
    "            v0=pl.col(f\"v{d}0\"),\n",
    "            a=pl.col(f\"a{d}\"),\n",
    "            t=t - pl.col(\"t50\"),\n",
    "        ).alias(f\"{d}_{t:.3f}\")\n",
    "        for d in [\"x\", \"y\", \"z\"]\n",
    "        for t in times\n",
    "    )\n",
    "\n",
    "TIMES = [0.120, 0.167]\n",
    "\n",
    "ball_pos_lf = (pos_at_50ft_lf\n",
    "               .pipe(estimate_time_to_plate)\n",
    "               .pipe(estimate_ball_pos_at_plate)\n",
    "               .pipe(estimate_ball_pos_at_t, TIMES))\n",
    "\n",
    "(ball_pos_lf\n",
    "    .select(\"t50\", \"x_0.120\", \"y_0.120\", \"z_0.120\",\n",
    "            \"x_0.167\", \"y_0.167\", \"z_0.167\", \"x_plate\", \"y_plate\", \"z_plate\")\n",
    "    .describe())"
   ]
  },
  {
   "cell_type": "markdown",
   "metadata": {
    "id": "h2s1Y3DNmQGM"
   },
   "source": [
    "### Pitch Location Visualization\n",
    "\n",
    "In order to make sure this is working, here I make a 3D scatter plot of 3 random pitches thrown by Yu Darvish in the 2024 season and their estimated positions at release, 50ft from home, commit time, decision time, and across the plate.\n",
    "\n",
    "**Plot Line Color Legend**\n",
    "- `Sweeper`: Purple\n",
    "- `Splitter`: Yellow\n",
    "- `Slider`: Green\n",
    "- `Knuckle Curve`: Blue\n",
    "- `Four Seam Fastball`: Red\n"
   ]
  },
  {
   "cell_type": "code",
   "execution_count": 10,
   "metadata": {
    "colab": {
     "base_uri": "https://localhost:8080/",
     "height": 542
    },
    "id": "NyKMJTUgCA_4",
    "outputId": "8e288463-c42f-477b-bcb4-dc5b92a39eaa"
   },
   "outputs": [
    {
     "data": {
      "application/vnd.plotly.v1+json": {
       "config": {
        "plotlyServerURL": "https://plot.ly"
       },
       "data": [
        {
         "hovertemplate": "<extra></extra>",
         "legendgroup": "",
         "marker": {
          "color": "#636efa",
          "symbol": "circle"
         },
         "mode": "markers",
         "name": "",
         "scene": "scene",
         "showlegend": false,
         "type": "scatter3d"
        },
        {
         "hovertemplate": "x=%{x}<br>y=%{y}<br>z=%{z}<extra></extra>",
         "legendgroup": "",
         "line": {
          "color": "yellow",
          "dash": "solid"
         },
         "marker": {
          "symbol": "circle"
         },
         "mode": "lines",
         "name": "",
         "scene": "scene",
         "showlegend": false,
         "type": "scatter3d",
         "x": [
          -1.64,
          -1.4579466045255356,
          -0.917901778010419,
          -0.6712709405952287,
          0.2164725898753761
         ],
         "y": [
          4.471666666666666,
          0.7520453487421406,
          -10.788224614825522,
          -16.673603546965396,
          -44.740366197424066
         ],
         "z": [
          5.51,
          5.346061078134627,
          4.769684273045285,
          4.397050601670488,
          1.831553685096471
         ]
        },
        {
         "hovertemplate": "x=%{x}<br>y=%{y}<br>z=%{z}<extra></extra>",
         "legendgroup": "",
         "line": {
          "color": "purple",
          "dash": "solid"
         },
         "marker": {
          "symbol": "circle"
         },
         "mode": "lines",
         "name": "",
         "scene": "scene",
         "showlegend": false,
         "type": "scatter3d",
         "x": [
          -2.91,
          -2.7164063845418696,
          -2.1481299677341426,
          -1.8199549159530826,
          0.1671493912412384
         ],
         "y": [
          4.494166666666667,
          0.5883259109570708,
          -10.37968493082787,
          -16.112486815609632,
          -44.752610665041665
         ],
         "z": [
          5.52,
          5.4118930914323045,
          5.02789739803076,
          4.725555623585127,
          2.080860196423588
         ]
        },
        {
         "hovertemplate": "x=%{x}<br>y=%{y}<br>z=%{z}<extra></extra>",
         "legendgroup": "",
         "line": {
          "color": "blue",
          "dash": "solid"
         },
         "marker": {
          "symbol": "circle"
         },
         "mode": "lines",
         "name": "",
         "scene": "scene",
         "showlegend": false,
         "type": "scatter3d",
         "x": [
          -1.87,
          -1.7144020754490454,
          -1.2991030910437797,
          -1.0647758003574233,
          0.4423665789000464
         ],
         "y": [
          4.485833333333333,
          0.6782190025661318,
          -9.249392228899346,
          -14.539624259899444,
          -44.363988363848016
         ],
         "z": [
          5.59,
          5.502059328528407,
          5.174125664240668,
          4.865670677314202,
          1.2160577034434925
         ]
        },
        {
         "hovertemplate": "x=%{x}<br>y=%{y}<br>z=%{z}<extra></extra>",
         "legendgroup": "",
         "line": {
          "color": "green",
          "dash": "solid"
         },
         "marker": {
          "symbol": "circle"
         },
         "mode": "lines",
         "name": "",
         "scene": "scene",
         "showlegend": false,
         "type": "scatter3d",
         "x": [
          -1.87,
          -1.7655346723440035,
          -1.4473632603057387,
          -1.264653978526067,
          -0.1596930588023891
         ],
         "y": [
          4.4833333333333325,
          0.6608770375957814,
          -10.457921526198968,
          -16.23061264825336,
          -45.070364446736725
         ],
         "z": [
          5.81,
          5.75215361060634,
          5.505501209277284,
          5.281414630374428,
          3.108633687337582
         ]
        },
        {
         "hovertemplate": "x=%{x}<br>y=%{y}<br>z=%{z}<extra></extra>",
         "legendgroup": "",
         "line": {
          "color": "red",
          "dash": "solid"
         },
         "marker": {
          "symbol": "circle"
         },
         "mode": "lines",
         "name": "",
         "scene": "scene",
         "showlegend": false,
         "type": "scatter3d",
         "x": [
          -1.81,
          -1.6734785183435161,
          -1.2690240661743288,
          -1.0947912773587698,
          -0.6016109681974707
         ],
         "y": [
          4.494166666666667,
          0.5871302237238997,
          -11.754847397825689,
          -18.008406074822357,
          -44.80184192219713
         ],
         "z": [
          5.77,
          5.601858866345795,
          5.030370891268732,
          4.694594783043842,
          2.874669522422546
         ]
        }
       ],
       "layout": {
        "legend": {
         "tracegroupgap": 0
        },
        "margin": {
         "t": 60
        },
        "scene": {
         "domain": {
          "x": [
           0,
           1
          ],
          "y": [
           0,
           1
          ]
         }
        },
        "showlegend": true,
        "template": {
         "data": {
          "bar": [
           {
            "error_x": {
             "color": "#2a3f5f"
            },
            "error_y": {
             "color": "#2a3f5f"
            },
            "marker": {
             "line": {
              "color": "#E5ECF6",
              "width": 0.5
             },
             "pattern": {
              "fillmode": "overlay",
              "size": 10,
              "solidity": 0.2
             }
            },
            "type": "bar"
           }
          ],
          "barpolar": [
           {
            "marker": {
             "line": {
              "color": "#E5ECF6",
              "width": 0.5
             },
             "pattern": {
              "fillmode": "overlay",
              "size": 10,
              "solidity": 0.2
             }
            },
            "type": "barpolar"
           }
          ],
          "carpet": [
           {
            "aaxis": {
             "endlinecolor": "#2a3f5f",
             "gridcolor": "white",
             "linecolor": "white",
             "minorgridcolor": "white",
             "startlinecolor": "#2a3f5f"
            },
            "baxis": {
             "endlinecolor": "#2a3f5f",
             "gridcolor": "white",
             "linecolor": "white",
             "minorgridcolor": "white",
             "startlinecolor": "#2a3f5f"
            },
            "type": "carpet"
           }
          ],
          "choropleth": [
           {
            "colorbar": {
             "outlinewidth": 0,
             "ticks": ""
            },
            "type": "choropleth"
           }
          ],
          "contour": [
           {
            "colorbar": {
             "outlinewidth": 0,
             "ticks": ""
            },
            "colorscale": [
             [
              0,
              "#0d0887"
             ],
             [
              0.1111111111111111,
              "#46039f"
             ],
             [
              0.2222222222222222,
              "#7201a8"
             ],
             [
              0.3333333333333333,
              "#9c179e"
             ],
             [
              0.4444444444444444,
              "#bd3786"
             ],
             [
              0.5555555555555556,
              "#d8576b"
             ],
             [
              0.6666666666666666,
              "#ed7953"
             ],
             [
              0.7777777777777778,
              "#fb9f3a"
             ],
             [
              0.8888888888888888,
              "#fdca26"
             ],
             [
              1,
              "#f0f921"
             ]
            ],
            "type": "contour"
           }
          ],
          "contourcarpet": [
           {
            "colorbar": {
             "outlinewidth": 0,
             "ticks": ""
            },
            "type": "contourcarpet"
           }
          ],
          "heatmap": [
           {
            "colorbar": {
             "outlinewidth": 0,
             "ticks": ""
            },
            "colorscale": [
             [
              0,
              "#0d0887"
             ],
             [
              0.1111111111111111,
              "#46039f"
             ],
             [
              0.2222222222222222,
              "#7201a8"
             ],
             [
              0.3333333333333333,
              "#9c179e"
             ],
             [
              0.4444444444444444,
              "#bd3786"
             ],
             [
              0.5555555555555556,
              "#d8576b"
             ],
             [
              0.6666666666666666,
              "#ed7953"
             ],
             [
              0.7777777777777778,
              "#fb9f3a"
             ],
             [
              0.8888888888888888,
              "#fdca26"
             ],
             [
              1,
              "#f0f921"
             ]
            ],
            "type": "heatmap"
           }
          ],
          "heatmapgl": [
           {
            "colorbar": {
             "outlinewidth": 0,
             "ticks": ""
            },
            "colorscale": [
             [
              0,
              "#0d0887"
             ],
             [
              0.1111111111111111,
              "#46039f"
             ],
             [
              0.2222222222222222,
              "#7201a8"
             ],
             [
              0.3333333333333333,
              "#9c179e"
             ],
             [
              0.4444444444444444,
              "#bd3786"
             ],
             [
              0.5555555555555556,
              "#d8576b"
             ],
             [
              0.6666666666666666,
              "#ed7953"
             ],
             [
              0.7777777777777778,
              "#fb9f3a"
             ],
             [
              0.8888888888888888,
              "#fdca26"
             ],
             [
              1,
              "#f0f921"
             ]
            ],
            "type": "heatmapgl"
           }
          ],
          "histogram": [
           {
            "marker": {
             "pattern": {
              "fillmode": "overlay",
              "size": 10,
              "solidity": 0.2
             }
            },
            "type": "histogram"
           }
          ],
          "histogram2d": [
           {
            "colorbar": {
             "outlinewidth": 0,
             "ticks": ""
            },
            "colorscale": [
             [
              0,
              "#0d0887"
             ],
             [
              0.1111111111111111,
              "#46039f"
             ],
             [
              0.2222222222222222,
              "#7201a8"
             ],
             [
              0.3333333333333333,
              "#9c179e"
             ],
             [
              0.4444444444444444,
              "#bd3786"
             ],
             [
              0.5555555555555556,
              "#d8576b"
             ],
             [
              0.6666666666666666,
              "#ed7953"
             ],
             [
              0.7777777777777778,
              "#fb9f3a"
             ],
             [
              0.8888888888888888,
              "#fdca26"
             ],
             [
              1,
              "#f0f921"
             ]
            ],
            "type": "histogram2d"
           }
          ],
          "histogram2dcontour": [
           {
            "colorbar": {
             "outlinewidth": 0,
             "ticks": ""
            },
            "colorscale": [
             [
              0,
              "#0d0887"
             ],
             [
              0.1111111111111111,
              "#46039f"
             ],
             [
              0.2222222222222222,
              "#7201a8"
             ],
             [
              0.3333333333333333,
              "#9c179e"
             ],
             [
              0.4444444444444444,
              "#bd3786"
             ],
             [
              0.5555555555555556,
              "#d8576b"
             ],
             [
              0.6666666666666666,
              "#ed7953"
             ],
             [
              0.7777777777777778,
              "#fb9f3a"
             ],
             [
              0.8888888888888888,
              "#fdca26"
             ],
             [
              1,
              "#f0f921"
             ]
            ],
            "type": "histogram2dcontour"
           }
          ],
          "mesh3d": [
           {
            "colorbar": {
             "outlinewidth": 0,
             "ticks": ""
            },
            "type": "mesh3d"
           }
          ],
          "parcoords": [
           {
            "line": {
             "colorbar": {
              "outlinewidth": 0,
              "ticks": ""
             }
            },
            "type": "parcoords"
           }
          ],
          "pie": [
           {
            "automargin": true,
            "type": "pie"
           }
          ],
          "scatter": [
           {
            "fillpattern": {
             "fillmode": "overlay",
             "size": 10,
             "solidity": 0.2
            },
            "type": "scatter"
           }
          ],
          "scatter3d": [
           {
            "line": {
             "colorbar": {
              "outlinewidth": 0,
              "ticks": ""
             }
            },
            "marker": {
             "colorbar": {
              "outlinewidth": 0,
              "ticks": ""
             }
            },
            "type": "scatter3d"
           }
          ],
          "scattercarpet": [
           {
            "marker": {
             "colorbar": {
              "outlinewidth": 0,
              "ticks": ""
             }
            },
            "type": "scattercarpet"
           }
          ],
          "scattergeo": [
           {
            "marker": {
             "colorbar": {
              "outlinewidth": 0,
              "ticks": ""
             }
            },
            "type": "scattergeo"
           }
          ],
          "scattergl": [
           {
            "marker": {
             "colorbar": {
              "outlinewidth": 0,
              "ticks": ""
             }
            },
            "type": "scattergl"
           }
          ],
          "scattermapbox": [
           {
            "marker": {
             "colorbar": {
              "outlinewidth": 0,
              "ticks": ""
             }
            },
            "type": "scattermapbox"
           }
          ],
          "scatterpolar": [
           {
            "marker": {
             "colorbar": {
              "outlinewidth": 0,
              "ticks": ""
             }
            },
            "type": "scatterpolar"
           }
          ],
          "scatterpolargl": [
           {
            "marker": {
             "colorbar": {
              "outlinewidth": 0,
              "ticks": ""
             }
            },
            "type": "scatterpolargl"
           }
          ],
          "scatterternary": [
           {
            "marker": {
             "colorbar": {
              "outlinewidth": 0,
              "ticks": ""
             }
            },
            "type": "scatterternary"
           }
          ],
          "surface": [
           {
            "colorbar": {
             "outlinewidth": 0,
             "ticks": ""
            },
            "colorscale": [
             [
              0,
              "#0d0887"
             ],
             [
              0.1111111111111111,
              "#46039f"
             ],
             [
              0.2222222222222222,
              "#7201a8"
             ],
             [
              0.3333333333333333,
              "#9c179e"
             ],
             [
              0.4444444444444444,
              "#bd3786"
             ],
             [
              0.5555555555555556,
              "#d8576b"
             ],
             [
              0.6666666666666666,
              "#ed7953"
             ],
             [
              0.7777777777777778,
              "#fb9f3a"
             ],
             [
              0.8888888888888888,
              "#fdca26"
             ],
             [
              1,
              "#f0f921"
             ]
            ],
            "type": "surface"
           }
          ],
          "table": [
           {
            "cells": {
             "fill": {
              "color": "#EBF0F8"
             },
             "line": {
              "color": "white"
             }
            },
            "header": {
             "fill": {
              "color": "#C8D4E3"
             },
             "line": {
              "color": "white"
             }
            },
            "type": "table"
           }
          ]
         },
         "layout": {
          "annotationdefaults": {
           "arrowcolor": "#2a3f5f",
           "arrowhead": 0,
           "arrowwidth": 1
          },
          "autotypenumbers": "strict",
          "coloraxis": {
           "colorbar": {
            "outlinewidth": 0,
            "ticks": ""
           }
          },
          "colorscale": {
           "diverging": [
            [
             0,
             "#8e0152"
            ],
            [
             0.1,
             "#c51b7d"
            ],
            [
             0.2,
             "#de77ae"
            ],
            [
             0.3,
             "#f1b6da"
            ],
            [
             0.4,
             "#fde0ef"
            ],
            [
             0.5,
             "#f7f7f7"
            ],
            [
             0.6,
             "#e6f5d0"
            ],
            [
             0.7,
             "#b8e186"
            ],
            [
             0.8,
             "#7fbc41"
            ],
            [
             0.9,
             "#4d9221"
            ],
            [
             1,
             "#276419"
            ]
           ],
           "sequential": [
            [
             0,
             "#0d0887"
            ],
            [
             0.1111111111111111,
             "#46039f"
            ],
            [
             0.2222222222222222,
             "#7201a8"
            ],
            [
             0.3333333333333333,
             "#9c179e"
            ],
            [
             0.4444444444444444,
             "#bd3786"
            ],
            [
             0.5555555555555556,
             "#d8576b"
            ],
            [
             0.6666666666666666,
             "#ed7953"
            ],
            [
             0.7777777777777778,
             "#fb9f3a"
            ],
            [
             0.8888888888888888,
             "#fdca26"
            ],
            [
             1,
             "#f0f921"
            ]
           ],
           "sequentialminus": [
            [
             0,
             "#0d0887"
            ],
            [
             0.1111111111111111,
             "#46039f"
            ],
            [
             0.2222222222222222,
             "#7201a8"
            ],
            [
             0.3333333333333333,
             "#9c179e"
            ],
            [
             0.4444444444444444,
             "#bd3786"
            ],
            [
             0.5555555555555556,
             "#d8576b"
            ],
            [
             0.6666666666666666,
             "#ed7953"
            ],
            [
             0.7777777777777778,
             "#fb9f3a"
            ],
            [
             0.8888888888888888,
             "#fdca26"
            ],
            [
             1,
             "#f0f921"
            ]
           ]
          },
          "colorway": [
           "#636efa",
           "#EF553B",
           "#00cc96",
           "#ab63fa",
           "#FFA15A",
           "#19d3f3",
           "#FF6692",
           "#B6E880",
           "#FF97FF",
           "#FECB52"
          ],
          "font": {
           "color": "#2a3f5f"
          },
          "geo": {
           "bgcolor": "white",
           "lakecolor": "white",
           "landcolor": "#E5ECF6",
           "showlakes": true,
           "showland": true,
           "subunitcolor": "white"
          },
          "hoverlabel": {
           "align": "left"
          },
          "hovermode": "closest",
          "mapbox": {
           "style": "light"
          },
          "paper_bgcolor": "white",
          "plot_bgcolor": "#E5ECF6",
          "polar": {
           "angularaxis": {
            "gridcolor": "white",
            "linecolor": "white",
            "ticks": ""
           },
           "bgcolor": "#E5ECF6",
           "radialaxis": {
            "gridcolor": "white",
            "linecolor": "white",
            "ticks": ""
           }
          },
          "scene": {
           "xaxis": {
            "backgroundcolor": "#E5ECF6",
            "gridcolor": "white",
            "gridwidth": 2,
            "linecolor": "white",
            "showbackground": true,
            "ticks": "",
            "zerolinecolor": "white"
           },
           "yaxis": {
            "backgroundcolor": "#E5ECF6",
            "gridcolor": "white",
            "gridwidth": 2,
            "linecolor": "white",
            "showbackground": true,
            "ticks": "",
            "zerolinecolor": "white"
           },
           "zaxis": {
            "backgroundcolor": "#E5ECF6",
            "gridcolor": "white",
            "gridwidth": 2,
            "linecolor": "white",
            "showbackground": true,
            "ticks": "",
            "zerolinecolor": "white"
           }
          },
          "shapedefaults": {
           "line": {
            "color": "#2a3f5f"
           }
          },
          "ternary": {
           "aaxis": {
            "gridcolor": "white",
            "linecolor": "white",
            "ticks": ""
           },
           "baxis": {
            "gridcolor": "white",
            "linecolor": "white",
            "ticks": ""
           },
           "bgcolor": "#E5ECF6",
           "caxis": {
            "gridcolor": "white",
            "linecolor": "white",
            "ticks": ""
           }
          },
          "title": {
           "x": 0.05
          },
          "xaxis": {
           "automargin": true,
           "gridcolor": "white",
           "linecolor": "white",
           "ticks": "",
           "title": {
            "standoff": 15
           },
           "zerolinecolor": "white",
           "zerolinewidth": 2
          },
          "yaxis": {
           "automargin": true,
           "gridcolor": "white",
           "linecolor": "white",
           "ticks": "",
           "title": {
            "standoff": 15
           },
           "zerolinecolor": "white",
           "zerolinewidth": 2
          }
         }
        },
        "title": {
         "text": "Random Yu Darvish Pitch Location Estimation"
        }
       }
      }
     },
     "metadata": {},
     "output_type": "display_data"
    }
   ],
   "source": [
    "pitch_types = [\"KC\", \"FF\", \"FS\", \"SL\", \"ST\"]\n",
    "cols = [\"pitch_type\", \"release_pos_x\", \"release_pos_y\", \"release_pos_z\",\n",
    "        \"x50\", \"y50\", \"z50\", \"x_0.120\", \"y_0.120\", \"z_0.120\",\n",
    "        \"x_0.167\", \"y_0.167\", \"z_0.167\", \"x_plate\", \"y_plate\", \"z_plate\"]\n",
    "\n",
    "sample_pitch_df = (ball_pos_lf\n",
    "                   .filter(pl.col(\"game_date\").dt.year() == 2024)\n",
    "                   .filter(pl.col(\"pitch_type\").is_in(pitch_types))\n",
    "                   .filter(pl.col(\"player_name\") == \"Darvish, Yu\")\n",
    "                   .drop_nulls(cols)\n",
    "                   .group_by(\"pitch_type\")\n",
    "                   .agg(pl.col(\"*\").sample(1, seed=40))\n",
    "                   .select(cols)\n",
    "                   .explode([pl.col(col) for col in cols if col != \"pitch_type\"])\n",
    "                   .collect())\n",
    "\n",
    "fig = px.scatter_3d()\n",
    "colors = {\"KC\": \"blue\", \"FF\": \"red\", \"FS\": \"yellow\", \"SL\": \"green\", \"ST\": \"purple\"}\n",
    "for pitch in sample_pitch_df.iter_rows(named=True):\n",
    "    pitch_fig = px.line_3d(\n",
    "        x=[pitch[\"release_pos_x\"], pitch[\"x50\"], pitch[\"x_0.120\"], pitch[\"x_0.167\"], pitch[\"x_plate\"]],\n",
    "        y=[pitch[\"release_pos_y\"], pitch[\"y50\"], pitch[\"y_0.120\"], pitch[\"y_0.167\"], pitch[\"y_plate\"]],\n",
    "        z=[pitch[\"release_pos_z\"], pitch[\"z50\"], pitch[\"z_0.120\"], pitch[\"z_0.167\"], pitch[\"z_plate\"]],\n",
    "    )\n",
    "\n",
    "    pitch_fig.update_traces(line=dict(color=colors[pitch[\"pitch_type\"]]))\n",
    "    fig.add_traces(pitch_fig.data)\n",
    "\n",
    "fig.update_layout(title=dict(text=\"Random Yu Darvish Pitch Location Estimation\"), showlegend=True)\n",
    "fig.show()"
   ]
  },
  {
   "cell_type": "markdown",
   "metadata": {
    "id": "68aEER8tSqrN"
   },
   "source": [
    "## Location Estimation Error\n",
    "\n",
    "Since I have the ground truth for release position, I can measure roughly how accurate the position estimation functions are by trying to estimate this release position in 3D space. I compute the mean euclidean distance between estimated release position and actual release position.\n",
    "\n",
    "$3Deuclideandistance = \\sqrt{(x_1 - x_2)^2 + (y_1 - y_2)^2 + (z_1 - z_2)^2}$\n",
    "\n",
    "Looking at the results, depending on the pitch type, it is typically off by anywhere between .4 inches and .8 inches on average.\n",
    "\n",
    "**New Features**\n",
    "- `approx_release_pos_x`: approximated release position in the x dimension working back from 50ft.\n",
    "- `approx_release_pos_y`: approximated release position in the y dimension working back from 50ft.\n",
    "- `approx_release_pos_z`: approximated release position in the z dimension working back from 50ft.\n"
   ]
  },
  {
   "cell_type": "code",
   "execution_count": 11,
   "metadata": {
    "colab": {
     "base_uri": "https://localhost:8080/",
     "height": 252
    },
    "id": "to4pigHrG92M",
    "outputId": "b735b3ea-55a9-4e7b-c512-1bd7b6aed808"
   },
   "outputs": [
    {
     "data": {
      "text/html": [
       "<div><style>\n",
       ".dataframe > thead > tr,\n",
       ".dataframe > tbody > tr {\n",
       "  text-align: right;\n",
       "  white-space: pre-wrap;\n",
       "}\n",
       "</style>\n",
       "<small>shape: (5, 2)</small><table border=\"1\" class=\"dataframe\"><thead><tr><th>pitch_type</th><th>mean_euclidean_error_in.</th></tr><tr><td>str</td><td>f64</td></tr></thead><tbody><tr><td>&quot;FF&quot;</td><td>0.395052</td></tr><tr><td>&quot;ST&quot;</td><td>0.625209</td></tr><tr><td>&quot;SL&quot;</td><td>0.593176</td></tr><tr><td>&quot;KC&quot;</td><td>0.816486</td></tr><tr><td>&quot;FS&quot;</td><td>0.557432</td></tr></tbody></table></div>"
      ],
      "text/plain": [
       "shape: (5, 2)\n",
       "┌────────────┬──────────────────────────┐\n",
       "│ pitch_type ┆ mean_euclidean_error_in. │\n",
       "│ ---        ┆ ---                      │\n",
       "│ str        ┆ f64                      │\n",
       "╞════════════╪══════════════════════════╡\n",
       "│ FF         ┆ 0.395052                 │\n",
       "│ ST         ┆ 0.625209                 │\n",
       "│ SL         ┆ 0.593176                 │\n",
       "│ KC         ┆ 0.816486                 │\n",
       "│ FS         ┆ 0.557432                 │\n",
       "└────────────┴──────────────────────────┘"
      ]
     },
     "execution_count": 11,
     "metadata": {},
     "output_type": "execute_result"
    }
   ],
   "source": [
    "def estimate_release_pos(lf: pl.LazyFrame) -> pl.LazyFrame:\n",
    "    return lf.with_columns(\n",
    "        displacement(\n",
    "            p0=pl.col(f\"{d}50\"),\n",
    "            v0=pl.col(f\"v{d}0\"),\n",
    "            a=pl.col(f\"a{d}\"),\n",
    "            t=-pl.col(\"t50\"),\n",
    "        ).alias(f\"approx_release_pos_{d}\")\n",
    "        for d in [\"x\", \"y\", \"z\"]\n",
    "    )\n",
    "\n",
    "ball_pos_lf = ball_pos_lf.pipe(estimate_release_pos)\n",
    "\n",
    "\n",
    "def euclidean_distance(*pts):\n",
    "    return sum((pt[0] - pt[1]) ** 2 for pt in pts) ** 0.5\n",
    "\n",
    "\n",
    "(ball_pos_lf\n",
    "    .drop_nulls([col for col in ball_pos_lf.collect_schema().names() if \"release\" in col])\n",
    "    .select(\"release_pos_x\", \"release_pos_y\", \"release_pos_z\",\n",
    "            \"approx_release_pos_x\", \"approx_release_pos_y\", \"approx_release_pos_z\",\n",
    "            \"pitch_type\")\n",
    "    .filter(pl.col(\"pitch_type\").is_in(pitch_types))\n",
    "    .group_by(\"pitch_type\")\n",
    "    .agg(\n",
    "        (euclidean_distance(\n",
    "            *[(pl.col(f\"approx_release_pos_{d}\"), pl.col(f\"release_pos_{d}\"))\n",
    "            for d in [\"x\", \"y\", \"z\"]]\n",
    "        ).mean() * 12).alias(\"mean_euclidean_error_in.\")\n",
    "    )\n",
    "    .collect())"
   ]
  },
  {
   "cell_type": "markdown",
   "metadata": {
    "id": "y9e_q_ZlCA_4"
   },
   "source": [
    "## Sequence Features\n",
    "\n",
    "**New Feautres**\n",
    "\n",
    "Everything in the `prev_features` list will be added, I don't want to type all of that out."
   ]
  },
  {
   "cell_type": "code",
   "execution_count": 12,
   "metadata": {
    "colab": {
     "base_uri": "https://localhost:8080/",
     "height": 396
    },
    "id": "3hCjvQsECA_4",
    "outputId": "9cbfce89-d5fc-49c8-cf93-fa5843019c9b"
   },
   "outputs": [
    {
     "data": {
      "text/html": [
       "<div><style>\n",
       ".dataframe > thead > tr,\n",
       ".dataframe > tbody > tr {\n",
       "  text-align: right;\n",
       "  white-space: pre-wrap;\n",
       "}\n",
       "</style>\n",
       "<small>shape: (9, 21)</small><table border=\"1\" class=\"dataframe\"><thead><tr><th>statistic</th><th>prev_pfx_x</th><th>prev_pfx_z</th><th>prev_x_0.120</th><th>prev_y_0.120</th><th>prev_z_0.120</th><th>prev_x_0.167</th><th>prev_y_0.167</th><th>prev_z_0.167</th><th>prev_release_pos_x</th><th>prev_release_pos_y</th><th>prev_release_pos_z</th><th>prev_release_speed</th><th>prev_effective_speed</th><th>prev_release_spin_rate</th><th>prev_delta_run_exp</th><th>prev_plate_x</th><th>prev_plate_z</th><th>prev_x_plate</th><th>prev_y_plate</th><th>prev_z_plate</th></tr><tr><td>str</td><td>f64</td><td>f64</td><td>f64</td><td>f64</td><td>f64</td><td>f64</td><td>f64</td><td>f64</td><td>f64</td><td>f64</td><td>f64</td><td>f64</td><td>f64</td><td>f64</td><td>f64</td><td>f64</td><td>f64</td><td>f64</td><td>f64</td><td>f64</td></tr></thead><tbody><tr><td>&quot;count&quot;</td><td>5.373162e6</td><td>5.373173e6</td><td>5.366766e6</td><td>5.366766e6</td><td>5.366766e6</td><td>5.366766e6</td><td>5.366766e6</td><td>5.366766e6</td><td>5.373027e6</td><td>5.373027e6</td><td>5.373027e6</td><td>5.3733e6</td><td>5.363033e6</td><td>5.319769e6</td><td>5.285069e6</td><td>5.373237e6</td><td>5.373237e6</td><td>5.366766e6</td><td>5.366766e6</td><td>5.366766e6</td></tr><tr><td>&quot;null_count&quot;</td><td>213421.0</td><td>213410.0</td><td>219817.0</td><td>219817.0</td><td>219817.0</td><td>219817.0</td><td>219817.0</td><td>219817.0</td><td>213556.0</td><td>213556.0</td><td>213556.0</td><td>213283.0</td><td>223550.0</td><td>266814.0</td><td>301514.0</td><td>213346.0</td><td>213346.0</td><td>219817.0</td><td>219817.0</td><td>219817.0</td></tr><tr><td>&quot;mean&quot;</td><td>-0.370602</td><td>0.649538</td><td>-1.644237</td><td>-10.860817</td><td>5.249859</td><td>-1.544161</td><td>-16.79361</td><td>4.939374</td><td>-1.921985</td><td>4.522861</td><td>5.835762</td><td>88.842504</td><td>88.749538</td><td>2244.009085</td><td>-0.000947</td><td>0.044019</td><td>2.268852</td><td>-1.123454</td><td>-45.172342</td><td>2.593205</td></tr><tr><td>&quot;std&quot;</td><td>0.812746</td><td>0.741587</td><td>0.993481</td><td>1.036686</td><td>0.479161</td><td>1.167986</td><td>1.425339</td><td>0.518561</td><td>0.739441</td><td>0.042515</td><td>0.527836</td><td>6.009734</td><td>6.244913</td><td>332.790261</td><td>0.234109</td><td>0.852319</td><td>0.968173</td><td>2.088334</td><td>0.472966</td><td>0.892926</td></tr><tr><td>&quot;min&quot;</td><td>-3.0</td><td>-2.79</td><td>-14.673224</td><td>-13.690836</td><td>-3.290693</td><td>-19.925201</td><td>-20.689997</td><td>-7.129412</td><td>-18.0</td><td>2.381667</td><td>-0.03</td><td>30.4</td><td>26.8</td><td>4.0</td><td>-1.661</td><td>-65.16</td><td>-45.11</td><td>-120.090056</td><td>-141.159755</td><td>-77.230464</td></tr><tr><td>&quot;25%&quot;</td><td>-1.05</td><td>0.19</td><td>-2.108975</td><td>-11.68138</td><td>4.953511</td><td>-2.02411</td><td>-17.921856</td><td>4.601555</td><td>-2.4</td><td>4.494167</td><td>5.57</td><td>84.6</td><td>84.4</td><td>2091.0</td><td>-0.065</td><td>-0.53</td><td>1.64</td><td>-1.98422</td><td>-45.484072</td><td>2.011244</td></tr><tr><td>&quot;50%&quot;</td><td>-0.53</td><td>0.75</td><td>-1.440893</td><td>-11.042536</td><td>5.244911</td><td>-1.233187</td><td>-17.046201</td><td>4.920921</td><td>-1.9</td><td>4.521667</td><td>5.87</td><td>89.9</td><td>89.8</td><td>2267.0</td><td>-0.017</td><td>0.04</td><td>2.28</td><td>-0.41658</td><td>-45.164039</td><td>2.593449</td></tr><tr><td>&quot;75%&quot;</td><td>0.27</td><td>1.26</td><td>-0.964469</td><td>-10.134512</td><td>5.547525</td><td>-0.751984</td><td>-15.795709</td><td>5.259036</td><td>-1.42</td><td>4.550833</td><td>6.17</td><td>93.6</td><td>93.6</td><td>2438.0</td><td>0.037</td><td>0.62</td><td>2.91</td><td>0.293325</td><td>-44.855197</td><td>3.177201</td></tr><tr><td>&quot;max&quot;</td><td>2.95</td><td>2.99</td><td>5.82325</td><td>-0.137428</td><td>10.53476</td><td>6.015495</td><td>-2.063761</td><td>10.630671</td><td>11.63</td><td>4.995</td><td>10.54</td><td>105.1</td><td>194.6</td><td>3741.0</td><td>3.702</td><td>11.3</td><td>13.58</td><td>10.677908</td><td>-39.491996</td><td>13.760502</td></tr></tbody></table></div>"
      ],
      "text/plain": [
       "shape: (9, 21)\n",
       "┌───────────┬───────────┬───────────┬───────────┬───┬───────────┬───────────┬───────────┬──────────┐\n",
       "│ statistic ┆ prev_pfx_ ┆ prev_pfx_ ┆ prev_x_0. ┆ … ┆ prev_plat ┆ prev_x_pl ┆ prev_y_pl ┆ prev_z_p │\n",
       "│ ---       ┆ x         ┆ z         ┆ 120       ┆   ┆ e_z       ┆ ate       ┆ ate       ┆ late     │\n",
       "│ str       ┆ ---       ┆ ---       ┆ ---       ┆   ┆ ---       ┆ ---       ┆ ---       ┆ ---      │\n",
       "│           ┆ f64       ┆ f64       ┆ f64       ┆   ┆ f64       ┆ f64       ┆ f64       ┆ f64      │\n",
       "╞═══════════╪═══════════╪═══════════╪═══════════╪═══╪═══════════╪═══════════╪═══════════╪══════════╡\n",
       "│ count     ┆ 5.373162e ┆ 5.373173e ┆ 5.366766e ┆ … ┆ 5.373237e ┆ 5.366766e ┆ 5.366766e ┆ 5.366766 │\n",
       "│           ┆ 6         ┆ 6         ┆ 6         ┆   ┆ 6         ┆ 6         ┆ 6         ┆ e6       │\n",
       "│ null_coun ┆ 213421.0  ┆ 213410.0  ┆ 219817.0  ┆ … ┆ 213346.0  ┆ 219817.0  ┆ 219817.0  ┆ 219817.0 │\n",
       "│ t         ┆           ┆           ┆           ┆   ┆           ┆           ┆           ┆          │\n",
       "│ mean      ┆ -0.370602 ┆ 0.649538  ┆ -1.644237 ┆ … ┆ 2.268852  ┆ -1.123454 ┆ -45.17234 ┆ 2.593205 │\n",
       "│           ┆           ┆           ┆           ┆   ┆           ┆           ┆ 2         ┆          │\n",
       "│ std       ┆ 0.812746  ┆ 0.741587  ┆ 0.993481  ┆ … ┆ 0.968173  ┆ 2.088334  ┆ 0.472966  ┆ 0.892926 │\n",
       "│ min       ┆ -3.0      ┆ -2.79     ┆ -14.67322 ┆ … ┆ -45.11    ┆ -120.0900 ┆ -141.1597 ┆ -77.2304 │\n",
       "│           ┆           ┆           ┆ 4         ┆   ┆           ┆ 56        ┆ 55        ┆ 64       │\n",
       "│ 25%       ┆ -1.05     ┆ 0.19      ┆ -2.108975 ┆ … ┆ 1.64      ┆ -1.98422  ┆ -45.48407 ┆ 2.011244 │\n",
       "│           ┆           ┆           ┆           ┆   ┆           ┆           ┆ 2         ┆          │\n",
       "│ 50%       ┆ -0.53     ┆ 0.75      ┆ -1.440893 ┆ … ┆ 2.28      ┆ -0.41658  ┆ -45.16403 ┆ 2.593449 │\n",
       "│           ┆           ┆           ┆           ┆   ┆           ┆           ┆ 9         ┆          │\n",
       "│ 75%       ┆ 0.27      ┆ 1.26      ┆ -0.964469 ┆ … ┆ 2.91      ┆ 0.293325  ┆ -44.85519 ┆ 3.177201 │\n",
       "│           ┆           ┆           ┆           ┆   ┆           ┆           ┆ 7         ┆          │\n",
       "│ max       ┆ 2.95      ┆ 2.99      ┆ 5.82325   ┆ … ┆ 13.58     ┆ 10.677908 ┆ -39.49199 ┆ 13.76050 │\n",
       "│           ┆           ┆           ┆           ┆   ┆           ┆           ┆ 6         ┆ 2        │\n",
       "└───────────┴───────────┴───────────┴───────────┴───┴───────────┴───────────┴───────────┴──────────┘"
      ]
     },
     "execution_count": 12,
     "metadata": {},
     "output_type": "execute_result"
    }
   ],
   "source": [
    "# features that we are interested in with regards to two pitch sequences\n",
    "prev_features = [\n",
    "    \"prev_pfx_x\",\n",
    "    \"prev_pfx_z\",\n",
    "    \"prev_x_0.120\",\n",
    "    \"prev_y_0.120\",\n",
    "    \"prev_z_0.120\",\n",
    "    \"prev_x_0.167\",\n",
    "    \"prev_y_0.167\",\n",
    "    \"prev_z_0.167\",\n",
    "    \"prev_release_pos_x\",\n",
    "    \"prev_release_pos_y\",\n",
    "    \"prev_release_pos_z\",\n",
    "    \"prev_release_speed\",\n",
    "    \"prev_effective_speed\",\n",
    "    \"prev_release_spin_rate\",\n",
    "    \"prev_delta_run_exp\",\n",
    "    \"prev_plate_x\",\n",
    "    \"prev_plate_z\",\n",
    "    \"prev_x_plate\",\n",
    "    \"prev_y_plate\",\n",
    "    \"prev_z_plate\",\n",
    "]\n",
    "\n",
    "def two_pitch_sequences(lf: pl.LazyFrame, seq_features: list[str]) -> pl.LazyFrame:\n",
    "    # sort the data such that the pitches are in descending order\n",
    "    sort_cols = [\"pitcher\", \"game_date\", \"at_bat_number\", \"pitch_number\"]\n",
    "    sorted_lf = lf.sort(\n",
    "        by=sort_cols,\n",
    "        descending=True,\n",
    "    )\n",
    "\n",
    "    return (sorted_lf\n",
    "        .with_columns([\n",
    "            pl.col(feature)\n",
    "            .shift(-1)\n",
    "            .over([\"pitcher\", \"at_bat_number\"])\n",
    "            .alias(f\"prev_{feature}\")\n",
    "            for feature in [f.replace(\"prev_\", \"\") for f in seq_features]\n",
    "        ])\n",
    "        .select(*sort_cols + seq_features)\n",
    "        .join(other=lf, on=sort_cols, how=\"right\")\n",
    "    )\n",
    "\n",
    "sequence_pitches_lf = (ball_pos_lf\n",
    "                       .pipe(two_pitch_sequences, prev_features))\n",
    "\n",
    "(sequence_pitches_lf\n",
    "    .select(prev_features)\n",
    "    .describe())"
   ]
  },
  {
   "cell_type": "markdown",
   "metadata": {
    "id": "MLPzbmQxwXPt"
   },
   "source": [
    "## Adding 'diff' Features\n",
    "\n",
    "**New Features**\n",
    "\n",
    "For every feature in `prev_features`, we simply measure the difference in that feature between each pitch in a sequence. Each diff feature is its original name post fixed with 'diff'. Ex: `x_0.120_diff`, `y_0.120_diff` etc ..."
   ]
  },
  {
   "cell_type": "code",
   "execution_count": 13,
   "metadata": {
    "colab": {
     "base_uri": "https://localhost:8080/",
     "height": 396
    },
    "id": "fwPC6VhjwWXM",
    "outputId": "85f936e3-2c00-4b26-dcc4-e60ab1ff5ffa"
   },
   "outputs": [
    {
     "data": {
      "text/html": [
       "<div><style>\n",
       ".dataframe > thead > tr,\n",
       ".dataframe > tbody > tr {\n",
       "  text-align: right;\n",
       "  white-space: pre-wrap;\n",
       "}\n",
       "</style>\n",
       "<small>shape: (9, 21)</small><table border=\"1\" class=\"dataframe\"><thead><tr><th>statistic</th><th>pfx_x_diff</th><th>pfx_z_diff</th><th>x_0.120_diff</th><th>y_0.120_diff</th><th>z_0.120_diff</th><th>x_0.167_diff</th><th>y_0.167_diff</th><th>z_0.167_diff</th><th>release_pos_x_diff</th><th>release_pos_y_diff</th><th>release_pos_z_diff</th><th>release_speed_diff</th><th>effective_speed_diff</th><th>release_spin_rate_diff</th><th>delta_run_exp_diff</th><th>plate_x_diff</th><th>plate_z_diff</th><th>x_plate_diff</th><th>y_plate_diff</th><th>z_plate_diff</th></tr><tr><td>str</td><td>f64</td><td>f64</td><td>f64</td><td>f64</td><td>f64</td><td>f64</td><td>f64</td><td>f64</td><td>f64</td><td>f64</td><td>f64</td><td>f64</td><td>f64</td><td>f64</td><td>f64</td><td>f64</td><td>f64</td><td>f64</td><td>f64</td><td>f64</td></tr></thead><tbody><tr><td>&quot;count&quot;</td><td>5.342288e6</td><td>5.342305e6</td><td>5.333821e6</td><td>5.333821e6</td><td>5.333821e6</td><td>5.333821e6</td><td>5.333821e6</td><td>5.333821e6</td><td>5.342164e6</td><td>5.342164e6</td><td>5.342164e6</td><td>5.342542e6</td><td>5.3269e6</td><td>5.250294e6</td><td>5.243184e6</td><td>5.34242e6</td><td>5.34242e6</td><td>5.333821e6</td><td>5.333821e6</td><td>5.333821e6</td></tr><tr><td>&quot;null_count&quot;</td><td>244295.0</td><td>244278.0</td><td>252762.0</td><td>252762.0</td><td>252762.0</td><td>252762.0</td><td>252762.0</td><td>252762.0</td><td>244419.0</td><td>244419.0</td><td>244419.0</td><td>244041.0</td><td>259683.0</td><td>336289.0</td><td>343399.0</td><td>244163.0</td><td>244163.0</td><td>252762.0</td><td>252762.0</td><td>252762.0</td></tr><tr><td>&quot;mean&quot;</td><td>0.000156</td><td>-0.002058</td><td>0.00107</td><td>-0.00012</td><td>-0.000594</td><td>0.000922</td><td>-0.000087</td><td>-0.000488</td><td>0.001481</td><td>-0.000189</td><td>-0.001153</td><td>-0.002058</td><td>0.003161</td><td>-0.491555</td><td>0.001122</td><td>-0.000178</td><td>-0.000653</td><td>0.000349</td><td>0.001009</td><td>-0.000645</td></tr><tr><td>&quot;std&quot;</td><td>1.006433</td><td>0.954276</td><td>0.414068</td><td>1.255231</td><td>0.428993</td><td>0.514814</td><td>1.727075</td><td>0.559776</td><td>0.233461</td><td>0.024912</td><td>0.166968</td><td>7.29971</td><td>7.503907</td><td>365.370034</td><td>0.336266</td><td>1.120627</td><td>1.308532</td><td>1.050364</td><td>0.323118</td><td>1.203634</td></tr><tr><td>&quot;min&quot;</td><td>-4.57</td><td>-4.13</td><td>-7.422918</td><td>-10.763556</td><td>-6.979829</td><td>-7.724443</td><td>-14.853948</td><td>-7.136149</td><td>-15.77</td><td>-2.219167</td><td>-6.58</td><td>-58.0</td><td>-98.3</td><td>-3179.0</td><td>-3.953</td><td>-11.55</td><td>-11.89</td><td>-11.018332</td><td>-12.446957</td><td>-11.733002</td></tr><tr><td>&quot;25%&quot;</td><td>-0.47</td><td>-0.43</td><td>-0.259832</td><td>-0.69286</td><td>-0.271673</td><td>-0.330179</td><td>-0.950997</td><td>-0.356995</td><td>-0.12</td><td>-0.0125</td><td>-0.09</td><td>-4.1</td><td>-4.1</td><td>-135.0</td><td>-0.106</td><td>-0.75</td><td>-0.85</td><td>-0.69392</td><td>-0.188885</td><td>-0.785582</td></tr><tr><td>&quot;50%&quot;</td><td>0.0</td><td>0.0</td><td>0.000683</td><td>-0.006775</td><td>0.0</td><td>0.0</td><td>-0.009143</td><td>0.0</td><td>0.0</td><td>0.0</td><td>0.0</td><td>0.0</td><td>0.0</td><td>1.0</td><td>0.002</td><td>0.0</td><td>0.0</td><td>0.0</td><td>0.000932</td><td>-0.00016</td></tr><tr><td>&quot;75%&quot;</td><td>0.47</td><td>0.43</td><td>0.262608</td><td>0.699527</td><td>0.270658</td><td>0.332292</td><td>0.960341</td><td>0.356217</td><td>0.12</td><td>0.0125</td><td>0.08</td><td>4.0</td><td>4.1</td><td>136.0</td><td>0.097</td><td>0.75</td><td>0.85</td><td>0.695714</td><td>0.191047</td><td>0.779182</td></tr><tr><td>&quot;max&quot;</td><td>4.49</td><td>5.36</td><td>11.249407</td><td>10.689736</td><td>8.324255</td><td>16.194051</td><td>14.707159</td><td>11.91763</td><td>15.72</td><td>2.155</td><td>6.52</td><td>60.6</td><td>113.9</td><td>3151.0</td><td>4.014</td><td>65.32</td><td>48.22</td><td>115.274886</td><td>97.117678</td><td>80.585548</td></tr></tbody></table></div>"
      ],
      "text/plain": [
       "shape: (9, 21)\n",
       "┌───────────┬───────────┬───────────┬───────────┬───┬───────────┬───────────┬───────────┬──────────┐\n",
       "│ statistic ┆ pfx_x_dif ┆ pfx_z_dif ┆ x_0.120_d ┆ … ┆ plate_z_d ┆ x_plate_d ┆ y_plate_d ┆ z_plate_ │\n",
       "│ ---       ┆ f         ┆ f         ┆ iff       ┆   ┆ iff       ┆ iff       ┆ iff       ┆ diff     │\n",
       "│ str       ┆ ---       ┆ ---       ┆ ---       ┆   ┆ ---       ┆ ---       ┆ ---       ┆ ---      │\n",
       "│           ┆ f64       ┆ f64       ┆ f64       ┆   ┆ f64       ┆ f64       ┆ f64       ┆ f64      │\n",
       "╞═══════════╪═══════════╪═══════════╪═══════════╪═══╪═══════════╪═══════════╪═══════════╪══════════╡\n",
       "│ count     ┆ 5.342288e ┆ 5.342305e ┆ 5.333821e ┆ … ┆ 5.34242e6 ┆ 5.333821e ┆ 5.333821e ┆ 5.333821 │\n",
       "│           ┆ 6         ┆ 6         ┆ 6         ┆   ┆           ┆ 6         ┆ 6         ┆ e6       │\n",
       "│ null_coun ┆ 244295.0  ┆ 244278.0  ┆ 252762.0  ┆ … ┆ 244163.0  ┆ 252762.0  ┆ 252762.0  ┆ 252762.0 │\n",
       "│ t         ┆           ┆           ┆           ┆   ┆           ┆           ┆           ┆          │\n",
       "│ mean      ┆ 0.000156  ┆ -0.002058 ┆ 0.00107   ┆ … ┆ -0.000653 ┆ 0.000349  ┆ 0.001009  ┆ -0.00064 │\n",
       "│           ┆           ┆           ┆           ┆   ┆           ┆           ┆           ┆ 5        │\n",
       "│ std       ┆ 1.006433  ┆ 0.954276  ┆ 0.414068  ┆ … ┆ 1.308532  ┆ 1.050364  ┆ 0.323118  ┆ 1.203634 │\n",
       "│ min       ┆ -4.57     ┆ -4.13     ┆ -7.422918 ┆ … ┆ -11.89    ┆ -11.01833 ┆ -12.44695 ┆ -11.7330 │\n",
       "│           ┆           ┆           ┆           ┆   ┆           ┆ 2         ┆ 7         ┆ 02       │\n",
       "│ 25%       ┆ -0.47     ┆ -0.43     ┆ -0.259832 ┆ … ┆ -0.85     ┆ -0.69392  ┆ -0.188885 ┆ -0.78558 │\n",
       "│           ┆           ┆           ┆           ┆   ┆           ┆           ┆           ┆ 2        │\n",
       "│ 50%       ┆ 0.0       ┆ 0.0       ┆ 0.000683  ┆ … ┆ 0.0       ┆ 0.0       ┆ 0.000932  ┆ -0.00016 │\n",
       "│ 75%       ┆ 0.47      ┆ 0.43      ┆ 0.262608  ┆ … ┆ 0.85      ┆ 0.695714  ┆ 0.191047  ┆ 0.779182 │\n",
       "│ max       ┆ 4.49      ┆ 5.36      ┆ 11.249407 ┆ … ┆ 48.22     ┆ 115.27488 ┆ 97.117678 ┆ 80.58554 │\n",
       "│           ┆           ┆           ┆           ┆   ┆           ┆ 6         ┆           ┆ 8        │\n",
       "└───────────┴───────────┴───────────┴───────────┴───┴───────────┴───────────┴───────────┴──────────┘"
      ]
     },
     "execution_count": 13,
     "metadata": {},
     "output_type": "execute_result"
    }
   ],
   "source": [
    "\n",
    "def add_diff_features(lf: pl.LazyFrame, seq_features: list[str]) -> pl.LazyFrame:\n",
    "    return lf.with_columns(\n",
    "        (pl.col(feature.replace(\"prev_\", \"\"))\n",
    "        - pl.col(feature)).alias(f\"{feature.replace('prev_', '')}_diff\")\n",
    "        for feature in prev_features\n",
    "    )\n",
    "\n",
    "sequence_diff_pitches_lf = sequence_pitches_lf.pipe(add_diff_features, prev_features)\n",
    "\n",
    "diff_features = [\n",
    "    f\"{feature.replace('prev_', '')}_diff\"\n",
    "    for feature in prev_features\n",
    "]\n",
    "\n",
    "(sequence_diff_pitches_lf\n",
    "    .select(diff_features)\n",
    "    .describe())"
   ]
  },
  {
   "cell_type": "markdown",
   "metadata": {
    "id": "J_cYfhl8UdIe"
   },
   "source": [
    "## 3D distance features\n",
    "\n",
    "Using the euclidean distance function from earlier, I can create features that represent the distance between a pitch, and the previous pitch thrown in any given two pitch sequence."
   ]
  },
  {
   "cell_type": "code",
   "execution_count": 14,
   "metadata": {
    "colab": {
     "base_uri": "https://localhost:8080/",
     "height": 376
    },
    "id": "jUeiZ_cpCA_4",
    "outputId": "5e29e834-5663-49b3-b26e-ecfd827ba2fd"
   },
   "outputs": [
    {
     "data": {
      "text/html": [
       "<div><style>\n",
       ".dataframe > thead > tr,\n",
       ".dataframe > tbody > tr {\n",
       "  text-align: right;\n",
       "  white-space: pre-wrap;\n",
       "}\n",
       "</style>\n",
       "<small>shape: (9, 5)</small><table border=\"1\" class=\"dataframe\"><thead><tr><th>statistic</th><th>3d_dist_0.120</th><th>3d_dist_0.167</th><th>3d_dist_plate</th><th>3d_dist_release</th></tr><tr><td>str</td><td>f64</td><td>f64</td><td>f64</td><td>f64</td></tr></thead><tbody><tr><td>&quot;count&quot;</td><td>5.333821e6</td><td>5.333821e6</td><td>5.333821e6</td><td>5.342164e6</td></tr><tr><td>&quot;null_count&quot;</td><td>252762.0</td><td>252762.0</td><td>252762.0</td><td>244419.0</td></tr><tr><td>&quot;mean&quot;</td><td>1.140468</td><td>1.543051</td><td>1.433134</td><td>0.22099</td></tr><tr><td>&quot;std&quot;</td><td>0.793995</td><td>1.086353</td><td>0.776228</td><td>0.184851</td></tr><tr><td>&quot;min&quot;</td><td>0.0</td><td>0.0</td><td>0.0</td><td>0.0</td></tr><tr><td>&quot;25%&quot;</td><td>0.474012</td><td>0.631097</td><td>0.862181</td><td>0.102011</td></tr><tr><td>&quot;50%&quot;</td><td>0.946579</td><td>1.266217</td><td>1.311924</td><td>0.173367</td></tr><tr><td>&quot;75%&quot;</td><td>1.674872</td><td>2.277198</td><td>1.871177</td><td>0.284742</td></tr><tr><td>&quot;max&quot;</td><td>14.80628</td><td>20.879668</td><td>170.921541</td><td>15.812621</td></tr></tbody></table></div>"
      ],
      "text/plain": [
       "shape: (9, 5)\n",
       "┌────────────┬───────────────┬───────────────┬───────────────┬─────────────────┐\n",
       "│ statistic  ┆ 3d_dist_0.120 ┆ 3d_dist_0.167 ┆ 3d_dist_plate ┆ 3d_dist_release │\n",
       "│ ---        ┆ ---           ┆ ---           ┆ ---           ┆ ---             │\n",
       "│ str        ┆ f64           ┆ f64           ┆ f64           ┆ f64             │\n",
       "╞════════════╪═══════════════╪═══════════════╪═══════════════╪═════════════════╡\n",
       "│ count      ┆ 5.333821e6    ┆ 5.333821e6    ┆ 5.333821e6    ┆ 5.342164e6      │\n",
       "│ null_count ┆ 252762.0      ┆ 252762.0      ┆ 252762.0      ┆ 244419.0        │\n",
       "│ mean       ┆ 1.140468      ┆ 1.543051      ┆ 1.433134      ┆ 0.22099         │\n",
       "│ std        ┆ 0.793995      ┆ 1.086353      ┆ 0.776228      ┆ 0.184851        │\n",
       "│ min        ┆ 0.0           ┆ 0.0           ┆ 0.0           ┆ 0.0             │\n",
       "│ 25%        ┆ 0.474012      ┆ 0.631097      ┆ 0.862181      ┆ 0.102011        │\n",
       "│ 50%        ┆ 0.946579      ┆ 1.266217      ┆ 1.311924      ┆ 0.173367        │\n",
       "│ 75%        ┆ 1.674872      ┆ 2.277198      ┆ 1.871177      ┆ 0.284742        │\n",
       "│ max        ┆ 14.80628      ┆ 20.879668     ┆ 170.921541    ┆ 15.812621       │\n",
       "└────────────┴───────────────┴───────────────┴───────────────┴─────────────────┘"
      ]
     },
     "execution_count": 14,
     "metadata": {},
     "output_type": "execute_result"
    }
   ],
   "source": [
    "\n",
    "def add_3D_distances(lf: pl.LazyFrame, times: list[float]) -> pl.LazyFrame:\n",
    "    return lf.with_columns(\n",
    "        # distance over the plate\n",
    "        euclidean_distance(\n",
    "            *[(pl.col(f\"{d}_plate\"), pl.col(f\"prev_{d}_plate\"))\n",
    "              for d in [\"x\", \"y\", \"z\"]]\n",
    "        ).alias(\"3d_dist_plate\"),\n",
    "\n",
    "        # distance at release\n",
    "        euclidean_distance(\n",
    "            *[(pl.col(f\"release_pos_{d}\"), pl.col(f\"prev_release_pos_{d}\"))\n",
    "              for d in [\"x\", \"y\", \"z\"]]\n",
    "        ).alias(\"3d_dist_release\"),\n",
    "\n",
    "        # distances at given times after release\n",
    "        *[euclidean_distance(\n",
    "            *[(pl.col(f\"{d}_{t:.3f}\"), pl.col(f\"prev_{d}_{t:.3f}\"))\n",
    "             for d in [\"x\", \"y\", \"z\"]]\n",
    "        ).alias(f\"3d_dist_{t:.3f}\")\n",
    "        for t in times]\n",
    "    )\n",
    "\n",
    "sequence_dist_pitches_lf = sequence_pitches_lf.pipe(add_3D_distances, TIMES)\n",
    "\n",
    "(sequence_dist_pitches_lf\n",
    "    .select(\"3d_dist_0.120\", \"3d_dist_0.167\",\n",
    "            \"3d_dist_plate\", \"3d_dist_release\")\n",
    "    .describe())"
   ]
  },
  {
   "cell_type": "markdown",
   "metadata": {
    "id": "TzpKfYAR0uXy"
   },
   "source": [
    "# Feature Selection"
   ]
  },
  {
   "cell_type": "code",
   "execution_count": null,
   "metadata": {
    "id": "EdRRdxteCA_4"
   },
   "outputs": [],
   "source": [
    "\n"
   ]
  }
 ],
 "metadata": {
  "colab": {
   "provenance": []
  },
  "kernelspec": {
   "display_name": "venv",
   "language": "python",
   "name": "python3"
  },
  "language_info": {
   "codemirror_mode": {
    "name": "ipython",
    "version": 3
   },
   "file_extension": ".py",
   "mimetype": "text/x-python",
   "name": "python",
   "nbconvert_exporter": "python",
   "pygments_lexer": "ipython3",
   "version": "3.12.6"
  }
 },
 "nbformat": 4,
 "nbformat_minor": 0
}
