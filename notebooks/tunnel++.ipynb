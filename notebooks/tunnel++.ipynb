{
 "cells": [
  {
   "cell_type": "markdown",
   "metadata": {},
   "source": [
    "# Tunnel++\n",
    "\n",
    "***Goal***: To make an improved version of [Location+](https://library.fangraphs.com/pitching/stuff-location-and-pitching-primer/) that incorporates pitch tunneling.\n",
    "**Author**: Jensen Holm <br>\n",
    "**Date**: 2024"
   ]
  },
  {
   "cell_type": "code",
   "execution_count": 1,
   "metadata": {},
   "outputs": [],
   "source": [
    "import statcast_pitches\n",
    "import polars as pl\n",
    "from plotnine import *"
   ]
  },
  {
   "cell_type": "markdown",
   "metadata": {},
   "source": [
    "## Loading Data\n",
    "\n",
    "Using all pitches thrown in the statcast-era (2015-present) for our initial data.\n",
    "\n",
    "**Data Dictionary**: [link](https://baseballsavant.mlb.com/csv-docs) <br>\n",
    "**statcast_pitches package info**: [link](https://github.com/Jensen-holm/statcast-era-pitches) "
   ]
  },
  {
   "cell_type": "code",
   "execution_count": null,
   "metadata": {},
   "outputs": [
    {
     "data": {
      "text/html": [
       "<div><style>\n",
       ".dataframe > thead > tr,\n",
       ".dataframe > tbody > tr {\n",
       "  text-align: right;\n",
       "  white-space: pre-wrap;\n",
       "}\n",
       "</style>\n",
       "<small>shape: (3, 94)</small><table border=\"1\" class=\"dataframe\"><thead><tr><th>pitch_type</th><th>game_date</th><th>release_speed</th><th>release_pos_x</th><th>release_pos_z</th><th>player_name</th><th>batter</th><th>pitcher</th><th>events</th><th>description</th><th>spin_dir</th><th>spin_rate_deprecated</th><th>break_angle_deprecated</th><th>break_length_deprecated</th><th>zone</th><th>des</th><th>game_type</th><th>stand</th><th>p_throws</th><th>home_team</th><th>away_team</th><th>type</th><th>hit_location</th><th>bb_type</th><th>balls</th><th>strikes</th><th>game_year</th><th>pfx_x</th><th>pfx_z</th><th>plate_x</th><th>plate_z</th><th>on_3b</th><th>on_2b</th><th>on_1b</th><th>outs_when_up</th><th>inning</th><th>inning_topbot</th><th>&hellip;</th><th>release_extension</th><th>game_pk</th><th>pitcher.1</th><th>fielder_2.1</th><th>fielder_3</th><th>fielder_4</th><th>fielder_5</th><th>fielder_6</th><th>fielder_7</th><th>fielder_8</th><th>fielder_9</th><th>release_pos_y</th><th>estimated_ba_using_speedangle</th><th>estimated_woba_using_speedangle</th><th>woba_value</th><th>woba_denom</th><th>babip_value</th><th>iso_value</th><th>launch_speed_angle</th><th>at_bat_number</th><th>pitch_number</th><th>pitch_name</th><th>home_score</th><th>away_score</th><th>bat_score</th><th>fld_score</th><th>post_away_score</th><th>post_home_score</th><th>post_bat_score</th><th>post_fld_score</th><th>if_fielding_alignment</th><th>of_fielding_alignment</th><th>spin_axis</th><th>delta_home_win_exp</th><th>delta_run_exp</th><th>bat_speed</th><th>swing_length</th></tr><tr><td>str</td><td>datetime[μs]</td><td>f64</td><td>f64</td><td>f64</td><td>str</td><td>i64</td><td>i64</td><td>str</td><td>str</td><td>i64</td><td>i64</td><td>i64</td><td>i64</td><td>i64</td><td>str</td><td>str</td><td>str</td><td>str</td><td>str</td><td>str</td><td>str</td><td>f64</td><td>str</td><td>i64</td><td>i64</td><td>i64</td><td>f64</td><td>f64</td><td>f64</td><td>f64</td><td>i64</td><td>i64</td><td>i64</td><td>i64</td><td>f64</td><td>str</td><td>&hellip;</td><td>f64</td><td>i64</td><td>i64</td><td>i64</td><td>i64</td><td>i64</td><td>i64</td><td>i64</td><td>i64</td><td>i64</td><td>i64</td><td>f64</td><td>f64</td><td>f64</td><td>f64</td><td>f64</td><td>f64</td><td>f64</td><td>f64</td><td>i64</td><td>i64</td><td>str</td><td>i64</td><td>i64</td><td>i64</td><td>i64</td><td>i64</td><td>i64</td><td>i64</td><td>i64</td><td>str</td><td>str</td><td>i64</td><td>f64</td><td>f64</td><td>f64</td><td>f64</td></tr></thead><tbody><tr><td>&quot;FF&quot;</td><td>2016-06-24 00:00:00</td><td>94.9</td><td>-2.57</td><td>5.54</td><td>&quot;Withrow, Chris&quot;</td><td>425766</td><td>519437</td><td>null</td><td>&quot;called_strike&quot;</td><td>null</td><td>null</td><td>null</td><td>null</td><td>8</td><td>&quot;James Loney grounds out, first…</td><td>&quot;R&quot;</td><td>&quot;L&quot;</td><td>&quot;R&quot;</td><td>&quot;ATL&quot;</td><td>&quot;NYM&quot;</td><td>&quot;S&quot;</td><td>null</td><td>null</td><td>1</td><td>1</td><td>2016</td><td>-1.09</td><td>1.28</td><td>-0.14</td><td>1.67</td><td>null</td><td>null</td><td>null</td><td>2</td><td>7.0</td><td>&quot;Top&quot;</td><td>&hellip;</td><td>5.7</td><td>447967</td><td>519437</td><td>452095</td><td>518692</td><td>607054</td><td>611177</td><td>430947</td><td>425796</td><td>542255</td><td>455976</td><td>54.5</td><td>null</td><td>null</td><td>null</td><td>null</td><td>null</td><td>null</td><td>null</td><td>58</td><td>3</td><td>&quot;4-Seam Fastball&quot;</td><td>6</td><td>8</td><td>8</td><td>6</td><td>8</td><td>6</td><td>8</td><td>6</td><td>&quot;Infield shift&quot;</td><td>&quot;Standard&quot;</td><td>219</td><td>0.0</td><td>-0.025</td><td>null</td><td>null</td></tr><tr><td>&quot;SL&quot;</td><td>2017-04-13 00:00:00</td><td>85.7</td><td>-2.44</td><td>5.77</td><td>&quot;Kuhl, Chad&quot;</td><td>643217</td><td>641771</td><td>null</td><td>&quot;called_strike&quot;</td><td>null</td><td>null</td><td>null</td><td>null</td><td>13</td><td>&quot;Andrew Benintendi flies out sh…</td><td>&quot;R&quot;</td><td>&quot;L&quot;</td><td>&quot;R&quot;</td><td>&quot;BOS&quot;</td><td>&quot;PIT&quot;</td><td>&quot;S&quot;</td><td>null</td><td>null</td><td>0</td><td>0</td><td>2017</td><td>-0.25</td><td>0.34</td><td>-1.03</td><td>1.91</td><td>null</td><td>null</td><td>null</td><td>1</td><td>6.0</td><td>&quot;Bot&quot;</td><td>&hellip;</td><td>6.0</td><td>490143</td><td>641771</td><td>455755</td><td>605137</td><td>594838</td><td>543281</td><td>474568</td><td>570256</td><td>516782</td><td>457705</td><td>54.51</td><td>null</td><td>null</td><td>null</td><td>null</td><td>null</td><td>null</td><td>null</td><td>45</td><td>1</td><td>&quot;Slider&quot;</td><td>1</td><td>3</td><td>1</td><td>3</td><td>3</td><td>1</td><td>1</td><td>3</td><td>&quot;Standard&quot;</td><td>&quot;Standard&quot;</td><td>230</td><td>0.0</td><td>-0.026</td><td>null</td><td>null</td></tr><tr><td>&quot;FF&quot;</td><td>2022-06-26 00:00:00</td><td>96.6</td><td>-1.14</td><td>5.95</td><td>&quot;Knebel, Corey&quot;</td><td>595751</td><td>608349</td><td>null</td><td>&quot;foul&quot;</td><td>null</td><td>null</td><td>null</td><td>null</td><td>2</td><td>&quot;Jorge Alfaro strikes out swing…</td><td>&quot;R&quot;</td><td>&quot;R&quot;</td><td>&quot;R&quot;</td><td>&quot;SD&quot;</td><td>&quot;PHI&quot;</td><td>&quot;S&quot;</td><td>null</td><td>null</td><td>3</td><td>2</td><td>2022</td><td>-0.28</td><td>1.3</td><td>-0.05</td><td>3.28</td><td>null</td><td>null</td><td>null</td><td>2</td><td>7.0</td><td>&quot;Bot&quot;</td><td>&hellip;</td><td>6.4</td><td>662254</td><td>608349</td><td>596117</td><td>656555</td><td>681082</td><td>664761</td><td>544369</td><td>656941</td><td>546318</td><td>663837</td><td>54.08</td><td>null</td><td>null</td><td>null</td><td>null</td><td>null</td><td>null</td><td>null</td><td>61</td><td>6</td><td>&quot;4-Seam Fastball&quot;</td><td>5</td><td>6</td><td>5</td><td>6</td><td>6</td><td>5</td><td>5</td><td>6</td><td>&quot;Standard&quot;</td><td>&quot;Standard&quot;</td><td>196</td><td>0.0</td><td>0.0</td><td>null</td><td>null</td></tr></tbody></table></div>"
      ],
      "text/plain": [
       "shape: (3, 94)\n",
       "┌───────────┬───────────┬───────────┬───────────┬───┬───────────┬───────────┬───────────┬──────────┐\n",
       "│ pitch_typ ┆ game_date ┆ release_s ┆ release_p ┆ … ┆ delta_hom ┆ delta_run ┆ bat_speed ┆ swing_le │\n",
       "│ e         ┆ ---       ┆ peed      ┆ os_x      ┆   ┆ e_win_exp ┆ _exp      ┆ ---       ┆ ngth     │\n",
       "│ ---       ┆ datetime[ ┆ ---       ┆ ---       ┆   ┆ ---       ┆ ---       ┆ f64       ┆ ---      │\n",
       "│ str       ┆ μs]       ┆ f64       ┆ f64       ┆   ┆ f64       ┆ f64       ┆           ┆ f64      │\n",
       "╞═══════════╪═══════════╪═══════════╪═══════════╪═══╪═══════════╪═══════════╪═══════════╪══════════╡\n",
       "│ FF        ┆ 2016-06-2 ┆ 94.9      ┆ -2.57     ┆ … ┆ 0.0       ┆ -0.025    ┆ null      ┆ null     │\n",
       "│           ┆ 4         ┆           ┆           ┆   ┆           ┆           ┆           ┆          │\n",
       "│           ┆ 00:00:00  ┆           ┆           ┆   ┆           ┆           ┆           ┆          │\n",
       "│ SL        ┆ 2017-04-1 ┆ 85.7      ┆ -2.44     ┆ … ┆ 0.0       ┆ -0.026    ┆ null      ┆ null     │\n",
       "│           ┆ 3         ┆           ┆           ┆   ┆           ┆           ┆           ┆          │\n",
       "│           ┆ 00:00:00  ┆           ┆           ┆   ┆           ┆           ┆           ┆          │\n",
       "│ FF        ┆ 2022-06-2 ┆ 96.6      ┆ -1.14     ┆ … ┆ 0.0       ┆ 0.0       ┆ null      ┆ null     │\n",
       "│           ┆ 6         ┆           ┆           ┆   ┆           ┆           ┆           ┆          │\n",
       "│           ┆ 00:00:00  ┆           ┆           ┆   ┆           ┆           ┆           ┆          │\n",
       "└───────────┴───────────┴───────────┴───────────┴───┴───────────┴───────────┴───────────┴──────────┘"
      ]
     },
     "execution_count": 2,
     "metadata": {},
     "output_type": "execute_result"
    }
   ],
   "source": [
    "pitches_df: pl.DataFrame = statcast_pitches.load()\n",
    "\n",
    "(pitches_df\n",
    "    .sample(3, seed=42))"
   ]
  },
  {
   "cell_type": "code",
   "execution_count": 9,
   "metadata": {},
   "outputs": [
    {
     "name": "stdout",
     "output_type": "stream",
     "text": [
      "Number of pitches: 7,011,277\n",
      "Date Range of pitches thrown: 2015-04-05 - 2024-10-29\n",
      "Columns & Schema: Schema({'pitch_type': String, 'game_date': Datetime(time_unit='us', time_zone=None), 'release_speed': Float64, 'release_pos_x': Float64, 'release_pos_z': Float64, 'player_name': String, 'batter': Int64, 'pitcher': Int64, 'events': String, 'description': String, 'spin_dir': Int64, 'spin_rate_deprecated': Int64, 'break_angle_deprecated': Int64, 'break_length_deprecated': Int64, 'zone': Int64, 'des': String, 'game_type': String, 'stand': String, 'p_throws': String, 'home_team': String, 'away_team': String, 'type': String, 'hit_location': Float64, 'bb_type': String, 'balls': Int64, 'strikes': Int64, 'game_year': Int64, 'pfx_x': Float64, 'pfx_z': Float64, 'plate_x': Float64, 'plate_z': Float64, 'on_3b': Int64, 'on_2b': Int64, 'on_1b': Int64, 'outs_when_up': Int64, 'inning': Float64, 'inning_topbot': String, 'hc_x': Float64, 'hc_y': Float64, 'tfs_deprecated': Int64, 'tfs_zulu_deprecated': Int64, 'fielder_2': Int64, 'umpire': Int64, 'sv_id': String, 'vx0': Float64, 'vy0': Float64, 'vz0': Float64, 'ax': Float64, 'ay': Float64, 'az': Float64, 'sz_top': Float64, 'sz_bot': Float64, 'hit_distance_sc': Int64, 'launch_speed': Float64, 'launch_angle': Float64, 'effective_speed': Float64, 'release_spin_rate': Int64, 'release_extension': Float64, 'game_pk': Int64, 'pitcher.1': Int64, 'fielder_2.1': Int64, 'fielder_3': Int64, 'fielder_4': Int64, 'fielder_5': Int64, 'fielder_6': Int64, 'fielder_7': Int64, 'fielder_8': Int64, 'fielder_9': Int64, 'release_pos_y': Float64, 'estimated_ba_using_speedangle': Float64, 'estimated_woba_using_speedangle': Float64, 'woba_value': Float64, 'woba_denom': Float64, 'babip_value': Float64, 'iso_value': Float64, 'launch_speed_angle': Float64, 'at_bat_number': Int64, 'pitch_number': Int64, 'pitch_name': String, 'home_score': Int64, 'away_score': Int64, 'bat_score': Int64, 'fld_score': Int64, 'post_away_score': Int64, 'post_home_score': Int64, 'post_bat_score': Int64, 'post_fld_score': Int64, 'if_fielding_alignment': String, 'of_fielding_alignment': String, 'spin_axis': Int64, 'delta_home_win_exp': Float64, 'delta_run_exp': Float64, 'bat_speed': Float64, 'swing_length': Float64})\n"
     ]
    }
   ],
   "source": [
    "print(f\"Number of pitches: {len(pitches_df):,}\")\n",
    "print(f\"Date Range of pitches thrown: {pitches_df[\"game_date\"].min().date()} - {pitches_df[\"game_date\"].max().date()}\")\n",
    "print(f\"Columns & Schema: {pitches_df.collect_schema()}\")"
   ]
  },
  {
   "cell_type": "markdown",
   "metadata": {},
   "source": [
    "## EDA"
   ]
  },
  {
   "cell_type": "code",
   "execution_count": null,
   "metadata": {},
   "outputs": [],
   "source": [
    "\n"
   ]
  }
 ],
 "metadata": {
  "kernelspec": {
   "display_name": "venv",
   "language": "python",
   "name": "python3"
  },
  "language_info": {
   "codemirror_mode": {
    "name": "ipython",
    "version": 3
   },
   "file_extension": ".py",
   "mimetype": "text/x-python",
   "name": "python",
   "nbconvert_exporter": "python",
   "pygments_lexer": "ipython3",
   "version": "3.12.6"
  }
 },
 "nbformat": 4,
 "nbformat_minor": 2
}
